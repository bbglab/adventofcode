{
 "cells": [
  {
   "cell_type": "markdown",
   "metadata": {},
   "source": [
    "```\n",
    "--- Day 19: An Elephant Named Joseph ---\n",
    "\n",
    "The Elves contact you over a highly secure emergency channel. Back at the North Pole, the Elves are busy misunderstanding White Elephant parties.\n",
    "\n",
    "Each Elf brings a present. They all sit in a circle, numbered starting with position 1. Then, starting with the first Elf, they take turns stealing all the presents from the Elf to their left. An Elf with no presents is removed from the circle and does not take turns.\n",
    "\n",
    "For example, with five Elves (numbered 1 to 5):\n",
    "\n",
    "  1\n",
    "5   2\n",
    " 4 3\n",
    "Elf 1 takes Elf 2's present.\n",
    "Elf 2 has no presents and is skipped.\n",
    "Elf 3 takes Elf 4's present.\n",
    "Elf 4 has no presents and is also skipped.\n",
    "Elf 5 takes Elf 1's two presents.\n",
    "Neither Elf 1 nor Elf 2 have any presents, so both are skipped.\n",
    "Elf 3 takes Elf 5's three presents.\n",
    "So, with five Elves, the Elf that sits starting in position 3 gets all the presents.\n",
    "\n",
    "With the number of Elves given in your puzzle input, which Elf gets all the presents?\n",
    "\n",
    "Your puzzle input is 3005290.\n",
    "```"
   ]
  },
  {
   "cell_type": "code",
   "execution_count": 48,
   "metadata": {
    "collapsed": false
   },
   "outputs": [],
   "source": [
    "from tqdm import tqdm\n",
    "\n",
    "def find_elf(total=5):\n",
    "    elfs = [[e+1, 1] for e in range(total)]\n",
    "    p = 0\n",
    "    for _ in tqdm(range(total-1)):\n",
    "        if p+1 == len(elfs):\n",
    "            left_elf = elfs.pop(0)\n",
    "            elfs[p-1][1] += left_elf[1]\n",
    "            p = 0\n",
    "        else:        \n",
    "            left_elf = elfs.pop(p+1)\n",
    "            elfs[p][1] += left_elf[1]\n",
    "            p = (p+1) % len(elfs)\n",
    "        \n",
    "    return elfs[0][0]"
   ]
  },
  {
   "cell_type": "code",
   "execution_count": 49,
   "metadata": {
    "collapsed": false
   },
   "outputs": [
    {
     "name": "stderr",
     "output_type": "stream",
     "text": [
      "100%|██████████| 4/4 [00:00<00:00, 27235.74it/s]"
     ]
    },
    {
     "name": "stdout",
     "output_type": "stream",
     "text": [
      "CPU times: user 8 ms, sys: 0 ns, total: 8 ms\n",
      "Wall time: 4.27 ms\n"
     ]
    },
    {
     "name": "stderr",
     "output_type": "stream",
     "text": [
      "\n"
     ]
    },
    {
     "data": {
      "text/plain": [
       "3"
      ]
     },
     "execution_count": 49,
     "metadata": {},
     "output_type": "execute_result"
    }
   ],
   "source": [
    "%%time\n",
    "find_elf()"
   ]
  },
  {
   "cell_type": "code",
   "execution_count": 50,
   "metadata": {
    "collapsed": false
   },
   "outputs": [
    {
     "name": "stderr",
     "output_type": "stream",
     "text": [
      "100%|██████████| 3005289/3005289 [29:40<00:00, 1687.66it/s]  "
     ]
    },
    {
     "name": "stdout",
     "output_type": "stream",
     "text": [
      "CPU times: user 29min 36s, sys: 6.36 s, total: 29min 42s\n",
      "Wall time: 29min 42s\n"
     ]
    },
    {
     "name": "stderr",
     "output_type": "stream",
     "text": [
      "\n"
     ]
    },
    {
     "data": {
      "text/plain": [
       "1816277"
      ]
     },
     "execution_count": 50,
     "metadata": {},
     "output_type": "execute_result"
    }
   ],
   "source": [
    "%%time\n",
    "find_elf(total=3005290)"
   ]
  },
  {
   "cell_type": "code",
   "execution_count": 52,
   "metadata": {
    "collapsed": true
   },
   "outputs": [],
   "source": [
    "from math import log\n",
    "\n",
    "def find_elf_math(n):\n",
    "    if n == 1 or n == 2:\n",
    "        return 1\n",
    "    logn = log(n,2)\n",
    "    if not logn.is_integer():\n",
    "        expo = int(logn) + 1\n",
    "        power = int(pow(2,expo)) - 1\n",
    "        sub = power - n\n",
    "        res = n - sub\n",
    "        return res\n",
    "    else:\n",
    "        return 1"
   ]
  },
  {
   "cell_type": "code",
   "execution_count": 53,
   "metadata": {
    "collapsed": false
   },
   "outputs": [
    {
     "name": "stdout",
     "output_type": "stream",
     "text": [
      "CPU times: user 0 ns, sys: 0 ns, total: 0 ns\n",
      "Wall time: 48.6 µs\n"
     ]
    },
    {
     "data": {
      "text/plain": [
       "1816277"
      ]
     },
     "execution_count": 53,
     "metadata": {},
     "output_type": "execute_result"
    }
   ],
   "source": [
    "%%time\n",
    "find_elf_math(3005290)"
   ]
  },
  {
   "cell_type": "markdown",
   "metadata": {},
   "source": [
    "```\n",
    "--- Part Two ---\n",
    "\n",
    "Realizing the folly of their present-exchange rules, the Elves agree to instead steal presents from the Elf directly across the circle. If two Elves are across the circle, the one on the left (from the perspective of the stealer) is stolen from. The other rules remain unchanged: Elves with no presents are removed from the circle entirely, and the other elves move in slightly to keep the circle evenly spaced.\n",
    "\n",
    "For example, with five Elves (again numbered 1 to 5):\n",
    "\n",
    "The Elves sit in a circle; Elf 1 goes first:\n",
    "  1\n",
    "5   2\n",
    " 4 3\n",
    "Elves 3 and 4 are across the circle; Elf 3's present is stolen, being the one to the left. Elf 3 leaves the circle, and the rest of the Elves move in:\n",
    "  1           1\n",
    "5   2  -->  5   2\n",
    " 4 -          4\n",
    "Elf 2 steals from the Elf directly across the circle, Elf 5:\n",
    "  1         1 \n",
    "-   2  -->     2\n",
    "  4         4 \n",
    "Next is Elf 4 who, choosing between Elves 1 and 2, steals from Elf 1:\n",
    " -          2  \n",
    "    2  -->\n",
    " 4          4\n",
    "Finally, Elf 2 steals from Elf 4:\n",
    " 2\n",
    "    -->  2  \n",
    " -\n",
    "So, with five Elves, the Elf that sits starting in position 2 gets all the presents.\n",
    "\n",
    "With the number of Elves given in your puzzle input, which Elf now gets all the presents?\n",
    "```"
   ]
  },
  {
   "cell_type": "code",
   "execution_count": 96,
   "metadata": {
    "collapsed": true
   },
   "outputs": [],
   "source": [
    "def elf_circle(n):\n",
    "    elfs = list(range(1, n+1))    \n",
    "    p = 0    \n",
    "    l = len(elfs)\n",
    "    for _ in tqdm(range(n-1)):\n",
    "        lelf = p + (l // 2) \n",
    "        elfs.pop(lelf % l)        \n",
    "        if lelf < l:\n",
    "            p += 1\n",
    "        l -= 1    \n",
    "        p %= l        \n",
    "        \n",
    "    return elfs[0]"
   ]
  },
  {
   "cell_type": "code",
   "execution_count": 97,
   "metadata": {
    "collapsed": false
   },
   "outputs": [
    {
     "name": "stderr",
     "output_type": "stream",
     "text": [
      "100%|██████████| 4/4 [00:00<00:00, 11898.73it/s]"
     ]
    },
    {
     "name": "stdout",
     "output_type": "stream",
     "text": [
      "CPU times: user 4 ms, sys: 4 ms, total: 8 ms\n",
      "Wall time: 7.93 ms\n"
     ]
    },
    {
     "name": "stderr",
     "output_type": "stream",
     "text": [
      "\n"
     ]
    },
    {
     "data": {
      "text/plain": [
       "2"
      ]
     },
     "execution_count": 97,
     "metadata": {},
     "output_type": "execute_result"
    }
   ],
   "source": [
    "%%time\n",
    "elf_circle(5)"
   ]
  },
  {
   "cell_type": "code",
   "execution_count": 98,
   "metadata": {
    "collapsed": false
   },
   "outputs": [
    {
     "name": "stderr",
     "output_type": "stream",
     "text": [
      "100%|██████████| 3005289/3005289 [20:05<00:00, 2492.46it/s] "
     ]
    },
    {
     "name": "stdout",
     "output_type": "stream",
     "text": [
      "CPU times: user 20min 2s, sys: 4.21 s, total: 20min 6s\n",
      "Wall time: 20min 5s\n"
     ]
    },
    {
     "name": "stderr",
     "output_type": "stream",
     "text": [
      "\n"
     ]
    },
    {
     "data": {
      "text/plain": [
       "1410967"
      ]
     },
     "execution_count": 98,
     "metadata": {},
     "output_type": "execute_result"
    }
   ],
   "source": [
    "%%time\n",
    "elf_circle(3005290)"
   ]
  },
  {
   "cell_type": "code",
   "execution_count": null,
   "metadata": {
    "collapsed": true
   },
   "outputs": [],
   "source": []
  }
 ],
 "metadata": {
  "kernelspec": {
   "display_name": "Python [conda env:adventofcode]",
   "language": "python",
   "name": "conda-env-adventofcode-py"
  },
  "language_info": {
   "codemirror_mode": {
    "name": "ipython",
    "version": 3
   },
   "file_extension": ".py",
   "mimetype": "text/x-python",
   "name": "python",
   "nbconvert_exporter": "python",
   "pygments_lexer": "ipython3",
   "version": "3.5.2"
  }
 },
 "nbformat": 4,
 "nbformat_minor": 1
}
