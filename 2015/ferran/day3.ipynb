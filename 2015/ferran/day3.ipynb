{
 "cells": [
  {
   "cell_type": "markdown",
   "metadata": {},
   "source": [
    "# Day 3"
   ]
  },
  {
   "cell_type": "code",
   "execution_count": 1,
   "metadata": {
    "collapsed": true
   },
   "outputs": [],
   "source": [
    "myinput = '/home/fmuinos/projects/adventofcode/2015/ferran/inputs/input3.txt'"
   ]
  },
  {
   "cell_type": "markdown",
   "metadata": {},
   "source": [
    "## Day 3.1"
   ]
  },
  {
   "cell_type": "code",
   "execution_count": 15,
   "metadata": {
    "collapsed": true
   },
   "outputs": [],
   "source": [
    "from collections import defaultdict\n",
    "\n",
    "def move(pos, char):\n",
    "    new0 = pos[0] - (char == '<') + (char == '>')\n",
    "    new1 = pos[1] - (char == 'v') + (char == '^')\n",
    "    return (new0, new1)"
   ]
  },
  {
   "cell_type": "code",
   "execution_count": 22,
   "metadata": {
    "collapsed": false
   },
   "outputs": [
    {
     "data": {
      "text/plain": [
       "2565"
      ]
     },
     "execution_count": 22,
     "metadata": {},
     "output_type": "execute_result"
    }
   ],
   "source": [
    "pos = (0,0)\n",
    "visited = defaultdict(int)\n",
    "visited[pos] += 1\n",
    "with open(myinput, 'rt') as f:\n",
    "    line = next(f).rstrip()\n",
    "    for char in line:\n",
    "        pos = move(pos, char)\n",
    "        visited[pos] += 1\n",
    "len(visited)"
   ]
  },
  {
   "cell_type": "markdown",
   "metadata": {},
   "source": [
    "## Day 3.2"
   ]
  },
  {
   "cell_type": "code",
   "execution_count": 24,
   "metadata": {
    "collapsed": false
   },
   "outputs": [
    {
     "data": {
      "text/plain": [
       "2639"
      ]
     },
     "execution_count": 24,
     "metadata": {},
     "output_type": "execute_result"
    }
   ],
   "source": [
    "santa = (0,0)\n",
    "robosanta = (0,0)\n",
    "visited = defaultdict(int)\n",
    "visited[santa] += 2\n",
    "counter = 0\n",
    "with open(myinput, 'rt') as f:\n",
    "    line = next(f).rstrip()\n",
    "    for char in line:\n",
    "        if counter % 2 == 0:\n",
    "            santa = move(santa, char)\n",
    "            visited[santa] += 1\n",
    "        else:\n",
    "            robosanta = move(robosanta, char)\n",
    "            visited[robosanta] += 1\n",
    "        counter += 1\n",
    "len(visited)"
   ]
  }
 ],
 "metadata": {
  "anaconda-cloud": {},
  "kernelspec": {
   "display_name": "Python [conda env:adventofcode]",
   "language": "python",
   "name": "conda-env-adventofcode-py"
  },
  "language_info": {
   "codemirror_mode": {
    "name": "ipython",
    "version": 3
   },
   "file_extension": ".py",
   "mimetype": "text/x-python",
   "name": "python",
   "nbconvert_exporter": "python",
   "pygments_lexer": "ipython3",
   "version": "3.5.2"
  }
 },
 "nbformat": 4,
 "nbformat_minor": 1
}
