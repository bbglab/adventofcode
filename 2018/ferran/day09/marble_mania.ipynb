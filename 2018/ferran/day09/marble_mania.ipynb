{
 "cells": [
  {
   "cell_type": "markdown",
   "metadata": {},
   "source": [
    "# Part 1"
   ]
  },
  {
   "cell_type": "code",
   "execution_count": 118,
   "metadata": {
    "collapsed": true
   },
   "outputs": [],
   "source": [
    "from tqdm import tqdm"
   ]
  },
  {
   "cell_type": "code",
   "execution_count": 119,
   "metadata": {
    "collapsed": true
   },
   "outputs": [],
   "source": [
    "nplayers = 493\n",
    "last_worth = 71863"
   ]
  },
  {
   "cell_type": "code",
   "execution_count": 121,
   "metadata": {
    "collapsed": true
   },
   "outputs": [],
   "source": [
    "def move(state, pos, worth):\n",
    "    score = 0\n",
    "    update = (worth % 23 == 0)\n",
    "    if update:\n",
    "        pos = (pos - 7) % len(state)\n",
    "        score += worth + state[pos]\n",
    "        state = state[:pos] + state[pos + 1:]\n",
    "        pos = pos % len(state)\n",
    "    else:\n",
    "        if len(state) == 1:\n",
    "            state, pos = [0, 1], 1\n",
    "        else:\n",
    "            pos = (pos + 2) % len(state)\n",
    "            state = state[:pos] + [worth] + state[pos:]\n",
    "    worth += 1\n",
    "    return state, pos, worth, score\n",
    "\n",
    "def high_score(nplayers, last_worth):\n",
    "    players = [0 for _ in range(nplayers)]\n",
    "    state, pos = [0], 0\n",
    "    worth = pos + 1\n",
    "    for _ in tqdm(range(1, last_worth + 1)):\n",
    "        state, pos, worth, score = move(state, pos, worth)\n",
    "        players[worth % nplayers] += score\n",
    "    return max(players)"
   ]
  },
  {
   "cell_type": "markdown",
   "metadata": {},
   "source": [
    "### Test"
   ]
  },
  {
   "cell_type": "raw",
   "metadata": {},
   "source": [
    "10 players; last marble is worth 1618 points: high score is 8317\n",
    "13 players; last marble is worth 7999 points: high score is 146373\n",
    "17 players; last marble is worth 1104 points: high score is 2764\n",
    "21 players; last marble is worth 6111 points: high score is 54718\n",
    "30 players; last marble is worth 5807 points: high score is 37305"
   ]
  },
  {
   "cell_type": "code",
   "execution_count": 122,
   "metadata": {},
   "outputs": [
    {
     "name": "stderr",
     "output_type": "stream",
     "text": [
      "100%|██████████| 25/25 [00:00<00:00, 7939.55it/s]\n",
      "100%|██████████| 1618/1618 [00:00<00:00, 71379.27it/s]\n",
      "100%|██████████| 7999/7999 [00:00<00:00, 30546.81it/s]\n",
      "100%|██████████| 1104/1104 [00:00<00:00, 172773.84it/s]\n",
      "100%|██████████| 6111/6111 [00:00<00:00, 37925.24it/s]\n",
      "100%|██████████| 5807/5807 [00:00<00:00, 41587.75it/s]\n"
     ]
    }
   ],
   "source": [
    "nplayers_list   = [7, 10, 13, 17, 21, 30]\n",
    "last_worth_list = [25, 1618, 7999, 1104, 6111, 5807]\n",
    "high_scores     = [32, 8317, 146373, 2764, 54718, 37305]\n",
    "for i, n in enumerate(nplayers_list):\n",
    "    assert(high_score(n, last_worth_list[i]) == high_scores[i])"
   ]
  },
  {
   "cell_type": "markdown",
   "metadata": {},
   "source": [
    "### Solution"
   ]
  },
  {
   "cell_type": "code",
   "execution_count": 123,
   "metadata": {},
   "outputs": [
    {
     "name": "stderr",
     "output_type": "stream",
     "text": [
      "100%|██████████| 71863/71863 [00:26<00:00, 2759.35it/s] \n"
     ]
    },
    {
     "data": {
      "text/plain": [
       "367802"
      ]
     },
     "execution_count": 123,
     "metadata": {},
     "output_type": "execute_result"
    }
   ],
   "source": [
    "high_score(nplayers, last_worth)"
   ]
  },
  {
   "cell_type": "markdown",
   "metadata": {},
   "source": [
    "# Part 2"
   ]
  },
  {
   "cell_type": "code",
   "execution_count": 49,
   "metadata": {
    "collapsed": true
   },
   "outputs": [],
   "source": [
    "class LinkedNode:\n",
    "    \n",
    "    def __init__(self, value):\n",
    "        self.value  = value\n",
    "        self.parent = self\n",
    "        self.child  = self\n",
    "        \n",
    "    def link(self, node):\n",
    "        self.child  = node\n",
    "        node.parent = self\n",
    "    \n",
    "    def insert(self, value):\n",
    "        node = LinkedNode(value)\n",
    "        node.link(self.child)\n",
    "        self.link(node)\n",
    "    \n",
    "    def dettach(self):\n",
    "        self.child.parent = self.parent\n",
    "        self.parent.child = self.child\n",
    "    \n",
    "    def shift(self, n):\n",
    "        node = self\n",
    "        if n > 0:\n",
    "            for _ in range(n):\n",
    "                node = node.child\n",
    "        elif n < 0:\n",
    "            for _ in range(-n):\n",
    "                node = node.parent\n",
    "        return node"
   ]
  },
  {
   "cell_type": "code",
   "execution_count": 56,
   "metadata": {
    "collapsed": true
   },
   "outputs": [],
   "source": [
    "def pull(last_worth):\n",
    "    pulled_out = []\n",
    "    node0, node1 = LinkedNode(0), LinkedNode(1)\n",
    "    node0.link(node1)\n",
    "    node1.link(node0)\n",
    "    n = 2\n",
    "    current = node1\n",
    "    while n <= last_worth:\n",
    "        if n % 23 != 0:\n",
    "            current.child.insert(n)\n",
    "            current = current.shift(2)\n",
    "        elif n % 23 == 0:\n",
    "            current = current.shift(-6)\n",
    "            pulled_out.append(current.parent.value)\n",
    "            current.parent.dettach()\n",
    "        n += 1\n",
    "    return pulled_out"
   ]
  },
  {
   "cell_type": "code",
   "execution_count": 69,
   "metadata": {},
   "outputs": [],
   "source": [
    "def high_score(nplayers, last_worth):\n",
    "    pulled = pull(last_worth)\n",
    "    players = [0 for _ in range(nplayers)]\n",
    "    i = 1\n",
    "    while 23 * i <= last_worth:\n",
    "        players[23 * i % nplayers] += pulled.pop(0) + 23 * i\n",
    "        i += 1\n",
    "    return max(players)"
   ]
  },
  {
   "cell_type": "markdown",
   "metadata": {},
   "source": [
    "## Test"
   ]
  },
  {
   "cell_type": "code",
   "execution_count": 72,
   "metadata": {},
   "outputs": [],
   "source": [
    "nplayers_list   = [7, 10, 13, 17, 21, 30]\n",
    "last_worth_list = [25, 1618, 7999, 1104, 6111, 5807]\n",
    "high_scores     = [32, 8317, 146373, 2764, 54718, 37305]\n",
    "for i, n in enumerate(nplayers_list):\n",
    "    assert(high_score(n, last_worth_list[i]) == high_scores[i])"
   ]
  },
  {
   "cell_type": "markdown",
   "metadata": {},
   "source": [
    "## Solution"
   ]
  },
  {
   "cell_type": "code",
   "execution_count": 73,
   "metadata": {},
   "outputs": [
    {
     "data": {
      "text/plain": [
       "2996043280"
      ]
     },
     "execution_count": 73,
     "metadata": {},
     "output_type": "execute_result"
    }
   ],
   "source": [
    "nplayers = 493\n",
    "last_worth = 7186300\n",
    "high_score(nplayers, last_worth)"
   ]
  }
 ],
 "metadata": {
  "kernelspec": {
   "display_name": "Python [conda env:adventofcode]",
   "language": "python",
   "name": "conda-env-adventofcode-py"
  },
  "language_info": {
   "codemirror_mode": {
    "name": "ipython",
    "version": 3
   },
   "file_extension": ".py",
   "mimetype": "text/x-python",
   "name": "python",
   "nbconvert_exporter": "python",
   "pygments_lexer": "ipython3",
   "version": "3.5.2"
  }
 },
 "nbformat": 4,
 "nbformat_minor": 2
}
