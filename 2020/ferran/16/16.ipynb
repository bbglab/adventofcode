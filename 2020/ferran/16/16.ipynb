{
 "cells": [
  {
   "cell_type": "code",
   "execution_count": null,
   "metadata": {},
   "outputs": [],
   "source": [
    "! cat README.md"
   ]
  },
  {
   "cell_type": "code",
   "execution_count": null,
   "metadata": {},
   "outputs": [],
   "source": [
    "# parse data\n",
    "\n",
    "with open('input.txt', 'rt') as f:\n",
    "    lines = f.read().splitlines()\n",
    "fields, myticket, nearby = {}, None, []\n",
    "part = 'fields'\n",
    "for l in lines:\n",
    "    if len(l) > 0:\n",
    "        if part == 'fields':\n",
    "            k, v = tuple(l.split(':'))\n",
    "            v = list(map(lambda x: tuple(map(int, x.split('-'))), v.split(' or ')))\n",
    "            fields[k] = v\n",
    "        if part == 'nearby':\n",
    "            nearby.append(list(map(int, l.split(','))))\n",
    "        if part == 'your':\n",
    "            myticket = list(map(int, l.split(',')))\n",
    "        if l.startswith('nearby'):\n",
    "            part = 'nearby'\n",
    "        if l.startswith('your'):\n",
    "            part = 'your'\n",
    "    else:\n",
    "        part = None"
   ]
  },
  {
   "cell_type": "code",
   "execution_count": null,
   "metadata": {},
   "outputs": [],
   "source": [
    "def invalid_value(ticket, fields):\n",
    "    \n",
    "    acc = 0\n",
    "    for n in ticket:\n",
    "        invalid = False\n",
    "        for k, v in fields.items():\n",
    "            if (v[0][0] <= n <= v[0][1]) or (v[1][0] <= n <= v[1][1]):\n",
    "                invalid = False\n",
    "                break\n",
    "            else:\n",
    "                invalid = True\n",
    "        if invalid:\n",
    "            acc += n\n",
    "    return acc"
   ]
  },
  {
   "cell_type": "code",
   "execution_count": null,
   "metadata": {},
   "outputs": [],
   "source": [
    "# test\n",
    "test_fields = {'class': [(1,3), (5,7)], \n",
    "               'row': [(6,11), (33,44)],\n",
    "               'seat': [(13,40), (45,50)]}\n",
    "test_nearby = [[7,3,47],[40,4,50],[55,2,20],[38,6,12]]\n",
    "sum([invalid_value(t, test_fields) for t in test_nearby])  "
   ]
  },
  {
   "cell_type": "code",
   "execution_count": null,
   "metadata": {},
   "outputs": [],
   "source": [
    "# solution\n",
    "sum([invalid_value(t, fields) for t in nearby])"
   ]
  },
  {
   "cell_type": "raw",
   "metadata": {},
   "source": [
    "--- Part Two ---\n",
    "Now that you've identified which tickets contain invalid values, discard those tickets entirely. Use the remaining valid tickets to determine which field is which.\n",
    "\n",
    "Using the valid ranges for each field, determine what order the fields appear on the tickets. The order is consistent between all tickets: if seat is the third field, it is the third field on every ticket, including your ticket.\n",
    "\n",
    "For example, suppose you have the following notes:\n",
    "\n",
    "class: 0-1 or 4-19\n",
    "row: 0-5 or 8-19\n",
    "seat: 0-13 or 16-19\n",
    "\n",
    "your ticket:\n",
    "11,12,13\n",
    "\n",
    "nearby tickets:\n",
    "3,9,18\n",
    "15,1,5\n",
    "5,14,9\n",
    "Based on the nearby tickets in the above example, the first position must be row, the second position must be class, and the third position must be seat; you can conclude that in your ticket, class is 12, row is 11, and seat is 13.\n",
    "\n",
    "Once you work out which field is which, look for the six fields on your ticket that start with the word departure. What do you get if you multiply those six values together?"
   ]
  },
  {
   "cell_type": "code",
   "execution_count": null,
   "metadata": {},
   "outputs": [],
   "source": [
    "def is_invalid(ticket):\n",
    "    \n",
    "    acc = 0\n",
    "    for n in ticket:\n",
    "        invalid = False\n",
    "        for k, v in fields.items():\n",
    "            if (v[0][0] <= n <= v[0][1]) or (v[1][0] <= n <= v[1][1]):\n",
    "                invalid = False\n",
    "                break\n",
    "            else:\n",
    "                invalid = True\n",
    "        if invalid:\n",
    "            return invalid\n",
    "    return invalid"
   ]
  },
  {
   "cell_type": "code",
   "execution_count": null,
   "metadata": {},
   "outputs": [],
   "source": [
    "nearby_valid = [t for t in nearby if not is_invalid(t)]"
   ]
  },
  {
   "cell_type": "code",
   "execution_count": null,
   "metadata": {},
   "outputs": [],
   "source": [
    "import numpy as np\n",
    "\n",
    "def is_valid_field(k, fields, values):\n",
    "    \n",
    "    v = fields[k]\n",
    "    return np.all([(v[0][0] <= n <= v[0][1]) or (v[1][0] <= n <= v[1][1]) for n in values])\n",
    "\n",
    "def get_matches(fields, tickets):\n",
    "    \n",
    "    match_dict = {}\n",
    "    values = list(zip(*tickets))\n",
    "    for k in fields:\n",
    "        for i, v in enumerate(values):\n",
    "            if is_valid_field(k, fields, v):\n",
    "                match_dict[k] = match_dict.get(k, set()) | set([i])\n",
    "    return match_dict"
   ]
  },
  {
   "cell_type": "code",
   "execution_count": null,
   "metadata": {},
   "outputs": [],
   "source": [
    "# search\n",
    "\n",
    "def is_solution(d):\n",
    "    return np.all([len(v)==1 for k, v in d.items()])\n",
    "\n",
    "def is_feasible(d):\n",
    "    return np.all([len(v) >= 1 for k, v in d.items()])\n",
    "\n",
    "def children(d, k):\n",
    "    for v in d[k]:\n",
    "        r = d\n",
    "        r[k] = set([v])\n",
    "        for w in d:\n",
    "            if w != k:\n",
    "                r[w] = r[w] - set([v])\n",
    "        yield r"
   ]
  },
  {
   "cell_type": "code",
   "execution_count": null,
   "metadata": {},
   "outputs": [],
   "source": [
    "def search(fields, tickets):\n",
    "    d = get_matches(fields, tickets)\n",
    "    queue = [d]\n",
    "    while not is_solution(d):\n",
    "        for k in sorted(d, key=lambda x:len(d[x])):\n",
    "            for child in children(d, k):\n",
    "                if is_solution(child):\n",
    "                    return child\n",
    "                elif is_feasible(child):\n",
    "                    queue.append(child)\n",
    "        d = queue.pop()"
   ]
  },
  {
   "cell_type": "code",
   "execution_count": null,
   "metadata": {},
   "outputs": [],
   "source": [
    "# test\n",
    "test_fields = {'class': [(0,1), (4,19)], \n",
    "               'row': [(0,5), (8,19)],\n",
    "               'seat': [(0,13), (6,19)]}\n",
    "test_nearby = [[3,9,18],[15,1,5],[5,14,9]]\n",
    "\n",
    "# your ticket: 11,12,13\n",
    "search(test_fields, test_nearby)"
   ]
  },
  {
   "cell_type": "code",
   "execution_count": null,
   "metadata": {},
   "outputs": [],
   "source": [
    "search(fields, nearby_valid)"
   ]
  },
  {
   "cell_type": "code",
   "execution_count": null,
   "metadata": {},
   "outputs": [],
   "source": [
    "# solution\n",
    "from functools import reduce\n",
    "assignment = search(fields, nearby_valid)\n",
    "reduce(lambda x,y:x*y, [myticket[list(assignment[k])[0]] for k in fields if k.startswith('departure')])"
   ]
  }
 ],
 "metadata": {
  "kernelspec": {
   "display_name": "Python [conda env:stats_env]",
   "language": "python",
   "name": "conda-env-stats_env-py"
  },
  "language_info": {
   "codemirror_mode": {
    "name": "ipython",
    "version": 3
   },
   "file_extension": ".py",
   "mimetype": "text/x-python",
   "name": "python",
   "nbconvert_exporter": "python",
   "pygments_lexer": "ipython3",
   "version": "3.7.6"
  }
 },
 "nbformat": 4,
 "nbformat_minor": 2
}
