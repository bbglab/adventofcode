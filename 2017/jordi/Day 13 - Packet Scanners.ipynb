{
 "cells": [
  {
   "cell_type": "markdown",
   "metadata": {},
   "source": [
    "# Part 1"
   ]
  },
  {
   "cell_type": "code",
   "execution_count": 1,
   "metadata": {},
   "outputs": [
    {
     "data": {
      "text/plain": [
       "4-element Array{String,1}:\n",
       " \"0: 3\"\n",
       " \"1: 2\"\n",
       " \"4: 4\"\n",
       " \"6: 4\""
      ]
     },
     "execution_count": 1,
     "metadata": {},
     "output_type": "execute_result"
    }
   ],
   "source": [
    "test = [\n",
    "    \"0: 3\",\n",
    "    \"1: 2\",\n",
    "    \"4: 4\",\n",
    "    \"6: 4\"\n",
    "]"
   ]
  },
  {
   "cell_type": "code",
   "execution_count": 2,
   "metadata": {},
   "outputs": [
    {
     "data": {
      "text/plain": [
       "parse_input (generic function with 1 method)"
      ]
     },
     "execution_count": 2,
     "metadata": {},
     "output_type": "execute_result"
    }
   ],
   "source": [
    "function parse_input(values)\n",
    "    result = Dict()\n",
    "    for v in values\n",
    "        depth, range = match(r\"([0-9]+): ([0-9]+)\", v).captures\n",
    "        result[parse(Int32, depth)] = parse(Int32, range)\n",
    "    end\n",
    "    result\n",
    "end"
   ]
  },
  {
   "cell_type": "code",
   "execution_count": 3,
   "metadata": {},
   "outputs": [
    {
     "data": {
      "text/plain": [
       "Dict{Any,Any} with 4 entries:\n",
       "  0 => 3\n",
       "  4 => 4\n",
       "  6 => 4\n",
       "  1 => 2"
      ]
     },
     "execution_count": 3,
     "metadata": {},
     "output_type": "execute_result"
    }
   ],
   "source": [
    "firewall = parse_input(test)"
   ]
  },
  {
   "cell_type": "code",
   "execution_count": 4,
   "metadata": {},
   "outputs": [
    {
     "data": {
      "text/plain": [
       "compute_severity (generic function with 1 method)"
      ]
     },
     "execution_count": 4,
     "metadata": {},
     "output_type": "execute_result"
    }
   ],
   "source": [
    "function compute_severity(firewall, delay)    \n",
    "    severity = 0\n",
    "    max_time = maximum(keys(firewall)) + delay\n",
    "    p = -delay\n",
    "    for t = 0:max_time\n",
    "        if haskey(firewall, p) && t % (2*firewall[p] - 2)==0\n",
    "            severity += t*firewall[p]\n",
    "        end        \n",
    "        p += 1\n",
    "    end\n",
    "    severity\n",
    "end"
   ]
  },
  {
   "cell_type": "code",
   "execution_count": 5,
   "metadata": {},
   "outputs": [
    {
     "data": {
      "text/plain": [
       "24"
      ]
     },
     "execution_count": 5,
     "metadata": {},
     "output_type": "execute_result"
    }
   ],
   "source": [
    "compute_severity(parse_input(test), 0)"
   ]
  },
  {
   "cell_type": "code",
   "execution_count": 6,
   "metadata": {},
   "outputs": [
    {
     "data": {
      "text/plain": [
       "1704"
      ]
     },
     "execution_count": 6,
     "metadata": {},
     "output_type": "execute_result"
    }
   ],
   "source": [
    "open(\"inputs/day13.txt\") do fd\n",
    "    lines = readlines(fd)\n",
    "    compute_severity(parse_input(lines), 0)\n",
    "end"
   ]
  },
  {
   "cell_type": "markdown",
   "metadata": {},
   "source": [
    "# Part 2"
   ]
  },
  {
   "cell_type": "code",
   "execution_count": 7,
   "metadata": {},
   "outputs": [
    {
     "data": {
      "text/plain": [
       "no_caught (generic function with 1 method)"
      ]
     },
     "execution_count": 7,
     "metadata": {},
     "output_type": "execute_result"
    }
   ],
   "source": [
    "function is_caught(firewall, delay)    \n",
    "    max_time = maximum(keys(firewall)) + delay\n",
    "    p = 0\n",
    "    for t = delay:max_time\n",
    "        if haskey(firewall, p) && t % (2*firewall[p] - 2)==0\n",
    "            return true\n",
    "        end        \n",
    "        p += 1\n",
    "    end\n",
    "    return false\n",
    "end\n",
    "\n",
    "function no_caught(firewall)    \n",
    "    w = 0\n",
    "    while is_caught(firewall, w)\n",
    "        if w%10000000 == 0\n",
    "            println(w)\n",
    "        end\n",
    "        w += 1\n",
    "    end    \n",
    "    w\n",
    "end"
   ]
  },
  {
   "cell_type": "code",
   "execution_count": 8,
   "metadata": {},
   "outputs": [
    {
     "data": {
      "text/plain": [
       "0"
      ]
     },
     "execution_count": 8,
     "metadata": {},
     "output_type": "execute_result"
    }
   ],
   "source": [
    "compute_severity(parse_input(test), 10)"
   ]
  },
  {
   "cell_type": "code",
   "execution_count": 9,
   "metadata": {},
   "outputs": [
    {
     "name": "stdout",
     "output_type": "stream",
     "text": [
      "0\n"
     ]
    },
    {
     "data": {
      "text/plain": [
       "10"
      ]
     },
     "execution_count": 9,
     "metadata": {},
     "output_type": "execute_result"
    }
   ],
   "source": [
    "no_caught(parse_input(test))"
   ]
  },
  {
   "cell_type": "code",
   "execution_count": 13,
   "metadata": {},
   "outputs": [
    {
     "name": "stdout",
     "output_type": "stream",
     "text": [
      "0\n",
      "  7.560550 seconds (60.41 M allocations: 1.141 GiB, 0.79% gc time)\n"
     ]
    },
    {
     "data": {
      "text/plain": [
       "3970918"
      ]
     },
     "execution_count": 13,
     "metadata": {},
     "output_type": "execute_result"
    }
   ],
   "source": [
    "open(\"inputs/day13.txt\") do fd\n",
    "    lines = readlines(fd)\n",
    "    @time no_caught(parse_input(lines))\n",
    "end"
   ]
  },
  {
   "cell_type": "code",
   "execution_count": null,
   "metadata": {
    "collapsed": true
   },
   "outputs": [],
   "source": []
  }
 ],
 "metadata": {
  "kernelspec": {
   "display_name": "Julia 0.6.1",
   "language": "julia",
   "name": "julia-0.6"
  },
  "language_info": {
   "file_extension": ".jl",
   "mimetype": "application/julia",
   "name": "julia",
   "version": "0.6.1"
  }
 },
 "nbformat": 4,
 "nbformat_minor": 2
}
