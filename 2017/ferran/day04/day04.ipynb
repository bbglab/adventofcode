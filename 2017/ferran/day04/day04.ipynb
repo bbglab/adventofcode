{
 "cells": [
  {
   "cell_type": "markdown",
   "metadata": {},
   "source": [
    "# Passphrases"
   ]
  },
  {
   "cell_type": "raw",
   "metadata": {},
   "source": [
    "A valid passphrase must contain no duplicate words."
   ]
  },
  {
   "cell_type": "markdown",
   "metadata": {},
   "source": [
    "## Part 1"
   ]
  },
  {
   "cell_type": "code",
   "execution_count": 11,
   "metadata": {
    "ExecuteTime": {
     "end_time": "2017-12-04T22:49:33.946872",
     "start_time": "2017-12-04T22:49:33.863554"
    },
    "collapsed": true
   },
   "outputs": [],
   "source": [
    "import numpy as np\n",
    "\n",
    "def valid_passphrase(l):\n",
    "    counter = np.array([l.count(v) for v in l])\n",
    "    return len(counter[counter == 1]) == len(l)"
   ]
  },
  {
   "cell_type": "code",
   "execution_count": 12,
   "metadata": {
    "ExecuteTime": {
     "end_time": "2017-12-04T22:49:35.071757",
     "start_time": "2017-12-04T22:49:34.990048"
    }
   },
   "outputs": [
    {
     "data": {
      "text/plain": [
       "386"
      ]
     },
     "execution_count": 12,
     "metadata": {},
     "output_type": "execute_result"
    }
   ],
   "source": [
    "import csv\n",
    "\n",
    "valid_counter = 0\n",
    "with open('input.txt', 'rt') as f_input:\n",
    "    csv_reader = csv.reader(f_input, delimiter=' ')\n",
    "    solution = sum([valid_passphrase(line) for line in csv_reader])\n",
    "solution"
   ]
  },
  {
   "cell_type": "markdown",
   "metadata": {},
   "source": [
    "## Part 2"
   ]
  },
  {
   "cell_type": "raw",
   "metadata": {},
   "source": [
    "Now, a valid passphrase must contain no two words that are anagrams \n",
    "of each other - that is, a passphrase is invalid if any word's letters \n",
    "can be rearranged to form any other word in the passphrase."
   ]
  },
  {
   "cell_type": "code",
   "execution_count": 13,
   "metadata": {
    "ExecuteTime": {
     "end_time": "2017-12-04T22:49:36.639840",
     "start_time": "2017-12-04T22:49:36.606377"
    },
    "collapsed": true
   },
   "outputs": [],
   "source": [
    "import itertools\n",
    "from collections import Counter\n",
    "\n",
    "def anagram(s, t):\n",
    "    return Counter(list(s)) == Counter(list(t))\n",
    "\n",
    "def valid_passphrase_anagram(l):\n",
    "    for i, s in enumerate(l):\n",
    "        for t in l[i+1:]:\n",
    "            if anagram(s, t):\n",
    "                return False\n",
    "    return True"
   ]
  },
  {
   "cell_type": "markdown",
   "metadata": {},
   "source": [
    "### Solution"
   ]
  },
  {
   "cell_type": "code",
   "execution_count": 14,
   "metadata": {
    "ExecuteTime": {
     "end_time": "2017-12-04T22:49:37.857416",
     "start_time": "2017-12-04T22:49:37.700789"
    }
   },
   "outputs": [
    {
     "data": {
      "text/plain": [
       "208"
      ]
     },
     "execution_count": 14,
     "metadata": {},
     "output_type": "execute_result"
    }
   ],
   "source": [
    "import csv\n",
    "\n",
    "valid_counter = 0\n",
    "with open('input.txt', 'rt') as f_input:\n",
    "    csv_reader = csv.reader(f_input, delimiter=' ')\n",
    "    solution = sum([valid_passphrase_anagram(line) for line in csv_reader])\n",
    "solution"
   ]
  },
  {
   "cell_type": "code",
   "execution_count": null,
   "metadata": {
    "collapsed": true
   },
   "outputs": [],
   "source": []
  }
 ],
 "metadata": {
  "kernelspec": {
   "display_name": "Python [conda env:adventofcode]",
   "language": "python",
   "name": "conda-env-adventofcode-py"
  },
  "language_info": {
   "codemirror_mode": {
    "name": "ipython",
    "version": 3
   },
   "file_extension": ".py",
   "mimetype": "text/x-python",
   "name": "python",
   "nbconvert_exporter": "python",
   "pygments_lexer": "ipython3",
   "version": "3.5.2"
  },
  "toc": {
   "colors": {
    "hover_highlight": "#DAA520",
    "running_highlight": "#FF0000",
    "selected_highlight": "#FFD700"
   },
   "moveMenuLeft": true,
   "nav_menu": {
    "height": "66px",
    "width": "252px"
   },
   "navigate_menu": true,
   "number_sections": true,
   "sideBar": true,
   "threshold": 4,
   "toc_cell": false,
   "toc_section_display": "block",
   "toc_window_display": false
  }
 },
 "nbformat": 4,
 "nbformat_minor": 2
}
