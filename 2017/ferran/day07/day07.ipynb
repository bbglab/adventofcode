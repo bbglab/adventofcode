{
 "cells": [
  {
   "cell_type": "markdown",
   "metadata": {},
   "source": [
    "# Recursive Circus"
   ]
  },
  {
   "cell_type": "markdown",
   "metadata": {},
   "source": [
    "## Part 1"
   ]
  },
  {
   "cell_type": "code",
   "execution_count": 74,
   "metadata": {
    "ExecuteTime": {
     "end_time": "2017-12-07T15:15:01.989720",
     "start_time": "2017-12-07T15:15:01.948638"
    }
   },
   "outputs": [],
   "source": [
    "import csv\n",
    "import copy\n",
    "\n",
    "def parse_list():\n",
    "    \n",
    "    weights = {}\n",
    "    parents = {}\n",
    "    children = {}\n",
    "\n",
    "    with open('input.txt', 'rt') as f_input:\n",
    "        csv_reader = csv.reader(f_input, delimiter=' ')\n",
    "        for line in csv_reader:\n",
    "            prog = line[0]\n",
    "            weights[prog] = int(line[1][1: -1]) \n",
    "            if '->' in line:\n",
    "                ind = line.index('->')\n",
    "                offspring = [a.rstrip(',') for a in line[ind + 1:]]\n",
    "                children[prog] = offspring\n",
    "                for child in offspring:\n",
    "                    parents[child] = prog\n",
    "            else:\n",
    "                children[prog] = []\n",
    "    return weights, parents, children\n",
    "\n",
    "weights, parents, children = parse_list()"
   ]
  },
  {
   "cell_type": "code",
   "execution_count": 76,
   "metadata": {
    "ExecuteTime": {
     "end_time": "2017-12-07T15:16:15.234092",
     "start_time": "2017-12-07T15:16:15.151385"
    }
   },
   "outputs": [
    {
     "data": {
      "text/plain": [
       "'dgoocsw'"
      ]
     },
     "execution_count": 76,
     "metadata": {},
     "output_type": "execute_result"
    }
   ],
   "source": [
    "def has_bottom(prog):\n",
    "    for k, v in children.items():\n",
    "        if prog in children[k]:\n",
    "            return True\n",
    "    return False\n",
    "\n",
    "def bottomest():\n",
    "    for prog in children:\n",
    "        if not has_bottom(prog):\n",
    "            return prog\n",
    "\n",
    "bottomest()"
   ]
  },
  {
   "cell_type": "markdown",
   "metadata": {},
   "source": [
    "## Part 2"
   ]
  },
  {
   "cell_type": "code",
   "execution_count": 184,
   "metadata": {
    "ExecuteTime": {
     "end_time": "2017-12-07T19:35:11.865968",
     "start_time": "2017-12-07T19:35:11.845172"
    },
    "collapsed": true
   },
   "outputs": [],
   "source": [
    "weights, parents, children = parse_list()"
   ]
  },
  {
   "cell_type": "code",
   "execution_count": 185,
   "metadata": {
    "ExecuteTime": {
     "end_time": "2017-12-07T19:35:12.216227",
     "start_time": "2017-12-07T19:35:12.205811"
    }
   },
   "outputs": [],
   "source": [
    "# we shall not assume all the children are leaves\n",
    "\n",
    "def pick_cherry(leaves):\n",
    "    while leaves:\n",
    "        leaf = leaves.pop()\n",
    "        parent = parents[leaf]\n",
    "        offspring = children[parent]\n",
    "        try:\n",
    "            for child in offspring:\n",
    "                assert(children[child] == [])\n",
    "            return parent\n",
    "        except AssertionError:\n",
    "            pass"
   ]
  },
  {
   "cell_type": "code",
   "execution_count": 186,
   "metadata": {
    "ExecuteTime": {
     "end_time": "2017-12-07T19:35:12.717784",
     "start_time": "2017-12-07T19:35:12.651249"
    }
   },
   "outputs": [],
   "source": [
    "import copy\n",
    "\n",
    "def scan_tower():\n",
    "    weights_to_prune = copy.copy(weights)\n",
    "    leaves = [prog for prog in children if children[prog] == []]\n",
    "    while leaves:\n",
    "        parent = pick_cherry(leaves)\n",
    "        offspring = children[parent]\n",
    "        offspring_weights = [weights_to_prune[child] for child in offspring]\n",
    "        if offspring_weights[1:] == offspring_weights[:-1]:\n",
    "            # update weight of parent\n",
    "            weights_to_prune[parent] += sum(offspring_weights)\n",
    "            # prune balanced\n",
    "            for child in offspring:\n",
    "                del parents[child]\n",
    "                del weights_to_prune[child]\n",
    "                if child in leaves:\n",
    "                    leaves.remove(child)\n",
    "            children[parent] = []\n",
    "            leaves.append(parent)\n",
    "        else:\n",
    "            print('weights of the cherry: ', [weights[child] for child in offspring])\n",
    "            print('total weights supported by the cherry: ', offspring_weights)\n",
    "            print('parent of the cherry: ', parent)\n",
    "            break"
   ]
  },
  {
   "cell_type": "code",
   "execution_count": 187,
   "metadata": {
    "ExecuteTime": {
     "end_time": "2017-12-07T19:35:13.855680",
     "start_time": "2017-12-07T19:35:13.785873"
    }
   },
   "outputs": [
    {
     "name": "stdout",
     "output_type": "stream",
     "text": [
      "weights of the cherry:  [1283, 184, 987, 15, 1284]\n",
      "total weights supported by the cherry:  [1823, 1815, 1815, 1815, 1815]\n",
      "parent of the cherry:  jfdck\n"
     ]
    }
   ],
   "source": [
    "scan_tower()"
   ]
  },
  {
   "cell_type": "code",
   "execution_count": 164,
   "metadata": {
    "ExecuteTime": {
     "end_time": "2017-12-07T19:30:46.861257",
     "start_time": "2017-12-07T19:30:46.844300"
    }
   },
   "outputs": [
    {
     "data": {
      "text/plain": [
       "1275"
      ]
     },
     "execution_count": 164,
     "metadata": {},
     "output_type": "execute_result"
    }
   ],
   "source": [
    "1283 - (1823 - 1815)"
   ]
  }
 ],
 "metadata": {
  "kernelspec": {
   "display_name": "Python [conda env:adventofcode]",
   "language": "python",
   "name": "conda-env-adventofcode-py"
  },
  "language_info": {
   "codemirror_mode": {
    "name": "ipython",
    "version": 3
   },
   "file_extension": ".py",
   "mimetype": "text/x-python",
   "name": "python",
   "nbconvert_exporter": "python",
   "pygments_lexer": "ipython3",
   "version": "3.5.2"
  },
  "toc": {
   "colors": {
    "hover_highlight": "#DAA520",
    "running_highlight": "#FF0000",
    "selected_highlight": "#FFD700"
   },
   "moveMenuLeft": true,
   "nav_menu": {
    "height": "66px",
    "width": "252px"
   },
   "navigate_menu": true,
   "number_sections": true,
   "sideBar": true,
   "threshold": 4,
   "toc_cell": false,
   "toc_section_display": "block",
   "toc_window_display": false
  }
 },
 "nbformat": 4,
 "nbformat_minor": 2
}
