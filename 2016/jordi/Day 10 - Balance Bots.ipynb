{
 "cells": [
  {
   "cell_type": "markdown",
   "metadata": {},
   "source": [
    "```\n",
    "--- Day 10: Balance Bots ---\n",
    "\n",
    "You come upon a factory in which many robots are zooming around handing small microchips to each other.\n",
    "\n",
    "Upon closer examination, you notice that each bot only proceeds when it has two microchips, and once it does, it gives each one to a different bot or puts it in a marked \"output\" bin. Sometimes, bots take microchips from \"input\" bins, too.\n",
    "\n",
    "Inspecting one of the microchips, it seems like they each contain a single number; the bots must use some logic to decide what to do with each chip. You access the local control computer and download the bots' instructions (your puzzle input).\n",
    "\n",
    "Some of the instructions specify that a specific-valued microchip should be given to a specific bot; the rest of the instructions indicate what a given bot should do with its lower-value or higher-value chip.\n",
    "\n",
    "For example, consider the following instructions:\n",
    "\n",
    "value 5 goes to bot 2\n",
    "bot 2 gives low to bot 1 and high to bot 0\n",
    "value 3 goes to bot 1\n",
    "bot 1 gives low to output 1 and high to bot 0\n",
    "bot 0 gives low to output 2 and high to output 0\n",
    "value 2 goes to bot 2\n",
    "Initially, bot 1 starts with a value-3 chip, and bot 2 starts with a value-2 chip and a value-5 chip.\n",
    "Because bot 2 has two microchips, it gives its lower one (2) to bot 1 and its higher one (5) to bot 0.\n",
    "Then, bot 1 has two microchips; it puts the value-2 chip in output 1 and gives the value-3 chip to bot 0.\n",
    "Finally, bot 0 has two microchips; it puts the 3 in output 2 and the 5 in output 0.\n",
    "In the end, output bin 0 contains a value-5 microchip, output bin 1 contains a value-2 microchip, and output bin 2 contains a value-3 microchip. In this configuration, bot number 2 is responsible for comparing value-5 microchips with value-2 microchips.\n",
    "\n",
    "Based on your instructions, what is the number of the bot that is responsible for comparing value-61 microchips with value-17 microchips?\n",
    "\n",
    "```"
   ]
  },
  {
   "cell_type": "code",
   "execution_count": 1,
   "metadata": {
    "collapsed": false
   },
   "outputs": [],
   "source": [
    "import re\n",
    "import numpy as np\n",
    "from collections import defaultdict\n",
    "\n",
    "RE_VALUE = re.compile(\"value ([0-9]+) goes to bot ([0-9]+)\")\n",
    "RE_GIVES = re.compile(\"bot ([0-9]+) gives low to (bot|output) ([0-9]+) and high to (bot|output) ([0-9]+)\")\n",
    "\n",
    "class Bot:\n",
    "    \n",
    "    def __init__(self):\n",
    "        self.microchips = set()\n",
    "        self.compared = []\n",
    "        self.low = None\n",
    "        self.high = None\n",
    "    \n",
    "    def add_microchip(self, microchip):\n",
    "        self.microchips.add(microchip)\n",
    "        self.update()\n",
    "        \n",
    "    def set_low_and_high(self, low, high):\n",
    "        self.low = low\n",
    "        self.high = high\n",
    "        self.update()\n",
    "    \n",
    "    def update(self):\n",
    "        if len(self.microchips) > 1 and self.low is not None and self.high is not None:\n",
    "            self.low.add_microchip(min(self.microchips))\n",
    "            self.high.add_microchip(max(self.microchips))\n",
    "            self.compared.append(self.microchips)\n",
    "            self.microchips = set()            \n",
    "            \n",
    "\n",
    "def process_instructions(instructions, verbose=False):\n",
    "    \n",
    "    bots = defaultdict(Bot)    \n",
    "    for i, instruction in enumerate(instructions, start=1):\n",
    "        instruction = instruction.strip()\n",
    "        \n",
    "        if verbose:\n",
    "            print({k: v.microchips for k, v in bots.items()})\n",
    "        \n",
    "        m = RE_VALUE.match(instruction)\n",
    "        if m is not None:\n",
    "            value, bot = m.groups()\n",
    "            bots[int(bot)].add_microchip(int(value))\n",
    "            continue\n",
    "            \n",
    "        m = RE_GIVES.match(instruction)\n",
    "        if m is not None:\n",
    "            bot, low_type, low_num, high_type, high_num = m.groups()\n",
    "            low = bots[int(low_num) if low_type=='bot' else -int(low_num)-1]\n",
    "            high = bots[int(high_num) if high_type=='bot' else -int(high_num)-1]\n",
    "            bots[int(bot)].set_low_and_high(low, high)\n",
    "            continue\n",
    "            \n",
    "    return bots"
   ]
  },
  {
   "cell_type": "code",
   "execution_count": 2,
   "metadata": {
    "collapsed": true
   },
   "outputs": [],
   "source": [
    "example = [\n",
    "    'value 5 goes to bot 2', \n",
    "    'bot 2 gives low to bot 1 and high to bot 0',\n",
    "    'value 3 goes to bot 1',\n",
    "    'bot 1 gives low to output 1 and high to bot 0',\n",
    "    'bot 0 gives low to output 2 and high to output 0',\n",
    "    'value 2 goes to bot 2'\n",
    "]"
   ]
  },
  {
   "cell_type": "code",
   "execution_count": 3,
   "metadata": {
    "collapsed": false,
    "scrolled": false
   },
   "outputs": [
    {
     "name": "stdout",
     "output_type": "stream",
     "text": [
      "{}\n",
      "{2: {5}}\n",
      "{0: set(), 1: set(), 2: {5}}\n",
      "{0: set(), 1: {3}, 2: {5}}\n",
      "{0: set(), 1: {3}, 2: {5}, -2: set()}\n",
      "{0: set(), 1: {3}, 2: {5}, -2: set(), -3: set(), -1: set()}\n",
      "{0: set(), 1: set(), 2: set(), -2: {2}, -3: {3}, -1: {5}}\n",
      "\n",
      " Bot 2 is comparing value-2 and value-5\n"
     ]
    }
   ],
   "source": [
    "bots = process_instructions(example, verbose=True)\n",
    "print({k: v.microchips for k, v in bots.items()})\n",
    "\n",
    "for num, bot in bots.items():\n",
    "    if {2, 5} in bot.compared:\n",
    "        print(\"\\n Bot {} is comparing value-2 and value-5\".format(num))"
   ]
  },
  {
   "cell_type": "code",
   "execution_count": 4,
   "metadata": {
    "collapsed": false
   },
   "outputs": [
    {
     "name": "stdout",
     "output_type": "stream",
     "text": [
      "Bot 161 is comparing value-61 and value-17\n"
     ]
    }
   ],
   "source": [
    "with open('inputs/day10.txt', 'rt') as instructions:\n",
    "    bots = process_instructions(instructions)\n",
    "\n",
    "for num, bot in bots.items():\n",
    "    if {61, 17} in bot.compared:\n",
    "        print(\"Bot {} is comparing value-61 and value-17\".format(num))"
   ]
  },
  {
   "cell_type": "markdown",
   "metadata": {},
   "source": [
    "```\n",
    "--- Part Two ---\n",
    "\n",
    "What do you get if you multiply together the values of one chip in each of outputs 0, 1, and 2?\n",
    "```"
   ]
  },
  {
   "cell_type": "code",
   "execution_count": 5,
   "metadata": {
    "collapsed": false
   },
   "outputs": [
    {
     "data": {
      "text/plain": [
       "133163"
      ]
     },
     "execution_count": 5,
     "metadata": {},
     "output_type": "execute_result"
    }
   ],
   "source": [
    "np.product(list(bots[-1].microchips | bots[-2].microchips | bots[-3].microchips))"
   ]
  },
  {
   "cell_type": "code",
   "execution_count": null,
   "metadata": {
    "collapsed": true
   },
   "outputs": [],
   "source": []
  }
 ],
 "metadata": {
  "anaconda-cloud": {},
  "kernelspec": {
   "display_name": "Python [conda env:adventofcode]",
   "language": "python",
   "name": "conda-env-adventofcode-py"
  },
  "language_info": {
   "codemirror_mode": {
    "name": "ipython",
    "version": 3
   },
   "file_extension": ".py",
   "mimetype": "text/x-python",
   "name": "python",
   "nbconvert_exporter": "python",
   "pygments_lexer": "ipython3",
   "version": "3.5.2"
  }
 },
 "nbformat": 4,
 "nbformat_minor": 1
}
