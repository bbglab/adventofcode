{
 "cells": [
  {
   "cell_type": "markdown",
   "metadata": {},
   "source": [
    "# Packet Scanners"
   ]
  },
  {
   "cell_type": "markdown",
   "metadata": {},
   "source": [
    "## Part 1"
   ]
  },
  {
   "cell_type": "code",
   "execution_count": 120,
   "metadata": {
    "ExecuteTime": {
     "end_time": "2017-12-13T20:59:53.021454",
     "start_time": "2017-12-13T20:59:53.001996"
    },
    "collapsed": true
   },
   "outputs": [],
   "source": [
    "import csv\n",
    "from collections import defaultdict\n",
    "\n",
    "def parse_scanners(input_file):\n",
    "    scanners = defaultdict(int)\n",
    "    with open(input_file, 'rt') as f_input:\n",
    "        csv_reader = csv.reader(f_input, delimiter=' ')\n",
    "        for l in csv_reader:\n",
    "            scanners[int(l[0].rstrip(':'))] = int(l[1].rstrip())\n",
    "    return scanners"
   ]
  },
  {
   "cell_type": "code",
   "execution_count": 175,
   "metadata": {
    "ExecuteTime": {
     "end_time": "2017-12-13T23:20:03.938330",
     "start_time": "2017-12-13T23:20:03.920716"
    },
    "collapsed": true
   },
   "outputs": [],
   "source": [
    "def tick(lrank, time):\n",
    "    r = time % (2 * (lrank - 1))\n",
    "    return  (r <= lrank - 1) * r + (r > lrank - 1) * (2 * (lrank - 1) - r)\n",
    "\n",
    "\n",
    "def get_state(time, scanners):    \n",
    "    state = dict(zip(list(scanners.keys()), [0] * len(scanners)))\n",
    "    if time == 0:\n",
    "        return state\n",
    "    elif time > 0:\n",
    "        for t in range(time + 1):\n",
    "            for scanner in scanners:\n",
    "                state[scanner] = tick(scanners[scanner], t)\n",
    "    return state"
   ]
  },
  {
   "cell_type": "markdown",
   "metadata": {},
   "source": [
    "Some nice time-lapse plotting :)"
   ]
  },
  {
   "cell_type": "code",
   "execution_count": 221,
   "metadata": {
    "ExecuteTime": {
     "end_time": "2017-12-13T23:55:15.667753",
     "start_time": "2017-12-13T23:55:15.622392"
    },
    "collapsed": true
   },
   "outputs": [],
   "source": [
    "from time import sleep\n",
    "\n",
    "def print_state(time, scanners):\n",
    "    stt = get_state(time + 1, scanners)\n",
    "    depths = range(max(list(scanners.keys())) + 1)\n",
    "    depths_printable = '\\t'.join(map(str, depths))\n",
    "    print(depths_printable)\n",
    "    max_range = max(list(scanners.values()))\n",
    "    printable = '\\t'.join(['(S)' if ((scanners[j] >= 1) and (stt[j] == 0) and (time == j)) \\\n",
    "                           else '[S]' if ((scanners[j] >= 1) and (stt[j] == 0) and (time != j)) \\\n",
    "                           else '( )' if ((scanners[j] >= 1) and (stt[j] != 0) and (time == j)) \\\n",
    "                           else '[ ]' if ((scanners[j] >= 1) and (stt[j] != 0) and (time != j)) \\\n",
    "                           else '(.)' if (time == j) \\\n",
    "                           else '...' for j in depths])\n",
    "    print(printable)\n",
    "    for i in range(2, max_range + 1):\n",
    "        printable = '\\t'.join(['[S]' if ((scanners[j] >= i) and (stt[j] == i-1)) \\\n",
    "                               else '[ ]' if ((scanners[j] >= i) and (stt[j] != i-1)) \\\n",
    "                               else ' ' for j in depths])\n",
    "        print(printable)\n",
    "\n",
    "def timelapse(input_path): \n",
    "    scanners = parse_scanners(input_path)\n",
    "    for t in range(max(list(scanners.keys())) + 10):\n",
    "        if t > 0: sleep(1)\n",
    "        print('After Picosecond {}:'.format(t))\n",
    "        print_state(t, scanners)"
   ]
  },
  {
   "cell_type": "markdown",
   "metadata": {},
   "source": [
    "### Test"
   ]
  },
  {
   "cell_type": "code",
   "execution_count": 222,
   "metadata": {
    "ExecuteTime": {
     "end_time": "2017-12-13T23:55:32.087155",
     "start_time": "2017-12-13T23:55:17.000292"
    },
    "scrolled": false
   },
   "outputs": [
    {
     "name": "stdout",
     "output_type": "stream",
     "text": [
      "After Picosecond 0:\n",
      "0\t1\t2\t3\t4\t5\t6\n",
      "( )\t[ ]\t...\t...\t[ ]\t...\t[ ]\n",
      "[S]\t[S]\t \t \t[S]\t \t[S]\n",
      "[ ]\t \t \t \t[ ]\t \t[ ]\n",
      " \t \t \t \t[ ]\t \t[ ]\n",
      "After Picosecond 1:\n",
      "0\t1\t2\t3\t4\t5\t6\n",
      "[ ]\t(S)\t...\t...\t[ ]\t...\t[ ]\n",
      "[ ]\t[ ]\t \t \t[ ]\t \t[ ]\n",
      "[S]\t \t \t \t[S]\t \t[S]\n",
      " \t \t \t \t[ ]\t \t[ ]\n",
      "After Picosecond 2:\n",
      "0\t1\t2\t3\t4\t5\t6\n",
      "[ ]\t[ ]\t(.)\t...\t[ ]\t...\t[ ]\n",
      "[S]\t[S]\t \t \t[ ]\t \t[ ]\n",
      "[ ]\t \t \t \t[ ]\t \t[ ]\n",
      " \t \t \t \t[S]\t \t[S]\n",
      "After Picosecond 3:\n",
      "0\t1\t2\t3\t4\t5\t6\n",
      "[S]\t[S]\t...\t(.)\t[ ]\t...\t[ ]\n",
      "[ ]\t[ ]\t \t \t[ ]\t \t[ ]\n",
      "[ ]\t \t \t \t[S]\t \t[S]\n",
      " \t \t \t \t[ ]\t \t[ ]\n",
      "After Picosecond 4:\n",
      "0\t1\t2\t3\t4\t5\t6\n",
      "[ ]\t[ ]\t...\t...\t( )\t...\t[ ]\n",
      "[S]\t[S]\t \t \t[S]\t \t[S]\n",
      "[ ]\t \t \t \t[ ]\t \t[ ]\n",
      " \t \t \t \t[ ]\t \t[ ]\n",
      "After Picosecond 5:\n",
      "0\t1\t2\t3\t4\t5\t6\n",
      "[ ]\t[S]\t...\t...\t[S]\t(.)\t[S]\n",
      "[ ]\t[ ]\t \t \t[ ]\t \t[ ]\n",
      "[S]\t \t \t \t[ ]\t \t[ ]\n",
      " \t \t \t \t[ ]\t \t[ ]\n",
      "After Picosecond 6:\n",
      "0\t1\t2\t3\t4\t5\t6\n",
      "[ ]\t[ ]\t...\t...\t[ ]\t...\t( )\n",
      "[S]\t[S]\t \t \t[S]\t \t[S]\n",
      "[ ]\t \t \t \t[ ]\t \t[ ]\n",
      " \t \t \t \t[ ]\t \t[ ]\n",
      "After Picosecond 7:\n",
      "0\t1\t2\t3\t4\t5\t6\n",
      "[S]\t[S]\t...\t...\t[ ]\t...\t[ ]\n",
      "[ ]\t[ ]\t \t \t[ ]\t \t[ ]\n",
      "[ ]\t \t \t \t[S]\t \t[S]\n",
      " \t \t \t \t[ ]\t \t[ ]\n",
      "After Picosecond 8:\n",
      "0\t1\t2\t3\t4\t5\t6\n",
      "[ ]\t[ ]\t...\t...\t[ ]\t...\t[ ]\n",
      "[S]\t[S]\t \t \t[ ]\t \t[ ]\n",
      "[ ]\t \t \t \t[ ]\t \t[ ]\n",
      " \t \t \t \t[S]\t \t[S]\n",
      "After Picosecond 9:\n",
      "0\t1\t2\t3\t4\t5\t6\n",
      "[ ]\t[S]\t...\t...\t[ ]\t...\t[ ]\n",
      "[ ]\t[ ]\t \t \t[ ]\t \t[ ]\n",
      "[S]\t \t \t \t[S]\t \t[S]\n",
      " \t \t \t \t[ ]\t \t[ ]\n",
      "After Picosecond 10:\n",
      "0\t1\t2\t3\t4\t5\t6\n",
      "[ ]\t[ ]\t...\t...\t[ ]\t...\t[ ]\n",
      "[S]\t[S]\t \t \t[S]\t \t[S]\n",
      "[ ]\t \t \t \t[ ]\t \t[ ]\n",
      " \t \t \t \t[ ]\t \t[ ]\n",
      "After Picosecond 11:\n",
      "0\t1\t2\t3\t4\t5\t6\n",
      "[S]\t[S]\t...\t...\t[S]\t...\t[S]\n",
      "[ ]\t[ ]\t \t \t[ ]\t \t[ ]\n",
      "[ ]\t \t \t \t[ ]\t \t[ ]\n",
      " \t \t \t \t[ ]\t \t[ ]\n",
      "After Picosecond 12:\n",
      "0\t1\t2\t3\t4\t5\t6\n",
      "[ ]\t[ ]\t...\t...\t[ ]\t...\t[ ]\n",
      "[S]\t[S]\t \t \t[S]\t \t[S]\n",
      "[ ]\t \t \t \t[ ]\t \t[ ]\n",
      " \t \t \t \t[ ]\t \t[ ]\n",
      "After Picosecond 13:\n",
      "0\t1\t2\t3\t4\t5\t6\n",
      "[ ]\t[S]\t...\t...\t[ ]\t...\t[ ]\n",
      "[ ]\t[ ]\t \t \t[ ]\t \t[ ]\n",
      "[S]\t \t \t \t[S]\t \t[S]\n",
      " \t \t \t \t[ ]\t \t[ ]\n",
      "After Picosecond 14:\n",
      "0\t1\t2\t3\t4\t5\t6\n",
      "[ ]\t[ ]\t...\t...\t[ ]\t...\t[ ]\n",
      "[S]\t[S]\t \t \t[ ]\t \t[ ]\n",
      "[ ]\t \t \t \t[ ]\t \t[ ]\n",
      " \t \t \t \t[S]\t \t[S]\n",
      "After Picosecond 15:\n",
      "0\t1\t2\t3\t4\t5\t6\n",
      "[S]\t[S]\t...\t...\t[ ]\t...\t[ ]\n",
      "[ ]\t[ ]\t \t \t[ ]\t \t[ ]\n",
      "[ ]\t \t \t \t[S]\t \t[S]\n",
      " \t \t \t \t[ ]\t \t[ ]\n"
     ]
    }
   ],
   "source": [
    "timelapse('input.test1.txt')"
   ]
  },
  {
   "cell_type": "markdown",
   "metadata": {},
   "source": [
    "Trip severity calculator:"
   ]
  },
  {
   "cell_type": "code",
   "execution_count": 187,
   "metadata": {
    "ExecuteTime": {
     "end_time": "2017-12-13T23:41:29.377085",
     "start_time": "2017-12-13T23:41:29.358728"
    },
    "collapsed": true
   },
   "outputs": [],
   "source": [
    "def trip_severity(input_path):\n",
    "    severity = 0\n",
    "    scanners = parse_scanners(input_path)\n",
    "    layers = max(list(scanners.keys()))\n",
    "    for t in range(layers + 1):\n",
    "        if scanners[t] != 0:\n",
    "            tick_before = tick(scanners[t], t)\n",
    "            tick_now = tick(scanners[t], t + 1)\n",
    "            if (tick_before == 0):\n",
    "                severity += scanners[t] * t\n",
    "    return severity"
   ]
  },
  {
   "cell_type": "markdown",
   "metadata": {},
   "source": [
    "### Test"
   ]
  },
  {
   "cell_type": "code",
   "execution_count": 188,
   "metadata": {
    "ExecuteTime": {
     "end_time": "2017-12-13T23:41:30.254013",
     "start_time": "2017-12-13T23:41:30.243596"
    }
   },
   "outputs": [],
   "source": [
    "assert(trip_severity('input.test1.txt') == 24)"
   ]
  },
  {
   "cell_type": "markdown",
   "metadata": {},
   "source": [
    "### Solution"
   ]
  },
  {
   "cell_type": "code",
   "execution_count": 189,
   "metadata": {
    "ExecuteTime": {
     "end_time": "2017-12-13T23:41:39.343359",
     "start_time": "2017-12-13T23:41:39.325667"
    }
   },
   "outputs": [
    {
     "data": {
      "text/plain": [
       "1876"
      ]
     },
     "execution_count": 189,
     "metadata": {},
     "output_type": "execute_result"
    }
   ],
   "source": [
    "trip_severity('input.txt')"
   ]
  },
  {
   "cell_type": "markdown",
   "metadata": {},
   "source": [
    "## Part 2A: Simple solution based on the trip severity calculator"
   ]
  },
  {
   "cell_type": "code",
   "execution_count": 303,
   "metadata": {
    "ExecuteTime": {
     "end_time": "2017-12-14T00:33:56.683053",
     "start_time": "2017-12-14T00:33:56.664343"
    },
    "collapsed": true
   },
   "outputs": [],
   "source": [
    "def trip_caught_delayed(delay):\n",
    "    severity = 0\n",
    "    caught = False\n",
    "    layers = max(list(scanners.keys()))\n",
    "    for t in range(0, layers + 1):\n",
    "        if scanners[t] != 0:\n",
    "            tick_before = tick(scanners[t], t + delay)\n",
    "            if (tick_before == 0):\n",
    "                caught = True\n",
    "                severity += scanners[t] * t\n",
    "    return caught"
   ]
  },
  {
   "cell_type": "code",
   "execution_count": 304,
   "metadata": {
    "ExecuteTime": {
     "end_time": "2017-12-14T00:33:59.190640",
     "start_time": "2017-12-14T00:33:59.179028"
    }
   },
   "outputs": [],
   "source": [
    "def minimum_delay():\n",
    "    delay = 0\n",
    "    while trip_caught_delayed(delay):\n",
    "        delay += 1\n",
    "    return delay"
   ]
  },
  {
   "cell_type": "markdown",
   "metadata": {},
   "source": [
    "### Test"
   ]
  },
  {
   "cell_type": "code",
   "execution_count": 308,
   "metadata": {
    "ExecuteTime": {
     "end_time": "2017-12-14T00:37:29.967673",
     "start_time": "2017-12-14T00:37:29.956964"
    }
   },
   "outputs": [
    {
     "name": "stdout",
     "output_type": "stream",
     "text": [
      "CPU times: user 0 ns, sys: 0 ns, total: 0 ns\n",
      "Wall time: 437 µs\n"
     ]
    }
   ],
   "source": [
    "%%time\n",
    "scanners = parse_scanners('input.test1.txt')\n",
    "trip_caught_delayed(10)"
   ]
  },
  {
   "cell_type": "code",
   "execution_count": 309,
   "metadata": {
    "ExecuteTime": {
     "end_time": "2017-12-14T00:37:32.992974",
     "start_time": "2017-12-14T00:37:32.975552"
    }
   },
   "outputs": [
    {
     "name": "stdout",
     "output_type": "stream",
     "text": [
      "CPU times: user 0 ns, sys: 0 ns, total: 0 ns\n",
      "Wall time: 359 µs\n"
     ]
    },
    {
     "data": {
      "text/plain": [
       "10"
      ]
     },
     "execution_count": 309,
     "metadata": {},
     "output_type": "execute_result"
    }
   ],
   "source": [
    "%%time\n",
    "minimum_delay()"
   ]
  },
  {
   "cell_type": "markdown",
   "metadata": {
    "ExecuteTime": {
     "end_time": "2017-12-14T00:21:44.795151",
     "start_time": "2017-12-14T00:21:44.785618"
    }
   },
   "source": [
    "### Solution"
   ]
  },
  {
   "cell_type": "code",
   "execution_count": 311,
   "metadata": {
    "ExecuteTime": {
     "end_time": "2017-12-14T00:42:04.384237",
     "start_time": "2017-12-14T00:39:57.987807"
    }
   },
   "outputs": [
    {
     "name": "stdout",
     "output_type": "stream",
     "text": [
      "3964778\n",
      "CPU times: user 2min 6s, sys: 0 ns, total: 2min 6s\n",
      "Wall time: 2min 6s\n"
     ]
    }
   ],
   "source": [
    "%%time\n",
    "scanners = parse_scanners('input.txt')\n",
    "print(minimum_delay())"
   ]
  },
  {
   "cell_type": "markdown",
   "metadata": {},
   "source": [
    "## Part 2B: A little bit more self contained and efficient :)"
   ]
  },
  {
   "cell_type": "code",
   "execution_count": 349,
   "metadata": {
    "ExecuteTime": {
     "end_time": "2017-12-14T00:58:07.935957",
     "start_time": "2017-12-14T00:58:07.925207"
    },
    "collapsed": true
   },
   "outputs": [],
   "source": [
    "def alt_minimum_delay():\n",
    "    delay = 0\n",
    "    caught = True\n",
    "    layers = list(scanners.keys())\n",
    "    while (delay >= 0) and caught:\n",
    "        caught = False\n",
    "        for j in layers:\n",
    "            if (delay + 1 + j) % (2 * scanners[j] - 2) == 0:\n",
    "                caught = True\n",
    "        delay += 1\n",
    "    return delay"
   ]
  },
  {
   "cell_type": "markdown",
   "metadata": {},
   "source": [
    "### Test"
   ]
  },
  {
   "cell_type": "code",
   "execution_count": 352,
   "metadata": {
    "ExecuteTime": {
     "end_time": "2017-12-14T00:58:12.169759",
     "start_time": "2017-12-14T00:58:12.150410"
    }
   },
   "outputs": [
    {
     "name": "stdout",
     "output_type": "stream",
     "text": [
      "10\n",
      "CPU times: user 0 ns, sys: 0 ns, total: 0 ns\n",
      "Wall time: 1.9 ms\n"
     ]
    }
   ],
   "source": [
    "%%time\n",
    "scanners = parse_scanners('input.test1.txt')\n",
    "print(alt_minimum_delay())"
   ]
  },
  {
   "cell_type": "markdown",
   "metadata": {
    "ExecuteTime": {
     "end_time": "2017-12-14T00:58:28.774651",
     "start_time": "2017-12-14T00:58:28.768933"
    }
   },
   "source": [
    "### Solution"
   ]
  },
  {
   "cell_type": "code",
   "execution_count": 354,
   "metadata": {
    "ExecuteTime": {
     "end_time": "2017-12-14T01:00:02.775278",
     "start_time": "2017-12-14T00:59:22.167366"
    }
   },
   "outputs": [
    {
     "name": "stdout",
     "output_type": "stream",
     "text": [
      "3964778\n",
      "CPU times: user 40.6 s, sys: 0 ns, total: 40.6 s\n",
      "Wall time: 40.6 s\n"
     ]
    }
   ],
   "source": [
    "%%time\n",
    "scanners = parse_scanners('input.txt')\n",
    "print(alt_minimum_delay())"
   ]
  }
 ],
 "metadata": {
  "kernelspec": {
   "display_name": "Python [conda env:adventofcode]",
   "language": "python",
   "name": "conda-env-adventofcode-py"
  },
  "language_info": {
   "codemirror_mode": {
    "name": "ipython",
    "version": 3
   },
   "file_extension": ".py",
   "mimetype": "text/x-python",
   "name": "python",
   "nbconvert_exporter": "python",
   "pygments_lexer": "ipython3",
   "version": "3.5.2"
  },
  "toc": {
   "colors": {
    "hover_highlight": "#DAA520",
    "running_highlight": "#FF0000",
    "selected_highlight": "#FFD700"
   },
   "moveMenuLeft": true,
   "nav_menu": {
    "height": "66px",
    "width": "252px"
   },
   "navigate_menu": true,
   "number_sections": true,
   "sideBar": true,
   "threshold": 4,
   "toc_cell": false,
   "toc_section_display": "block",
   "toc_window_display": false
  }
 },
 "nbformat": 4,
 "nbformat_minor": 2
}
