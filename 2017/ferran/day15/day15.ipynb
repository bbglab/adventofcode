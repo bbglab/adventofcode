{
 "cells": [
  {
   "cell_type": "markdown",
   "metadata": {},
   "source": [
    "# Dueling Generators"
   ]
  },
  {
   "cell_type": "markdown",
   "metadata": {},
   "source": [
    "## Part 1"
   ]
  },
  {
   "cell_type": "code",
   "execution_count": 36,
   "metadata": {
    "ExecuteTime": {
     "end_time": "2017-12-15T08:00:28.413851",
     "start_time": "2017-12-15T08:00:28.374982"
    },
    "collapsed": true
   },
   "outputs": [],
   "source": [
    "class FancyGen(object):\n",
    "    \n",
    "    def __init__(self, start, factor):\n",
    "        self.start = start\n",
    "        self.factor = factor\n",
    "        self.q = 2147483647\n",
    "        \n",
    "    def __iter__(self):\n",
    "        self.a = self.start\n",
    "        return self\n",
    "\n",
    "    def __next__(self):\n",
    "        n = (self.a * self.factor) % self.q\n",
    "        self.a = n\n",
    "        return n\n",
    "\n",
    "def compare_lowest_bits(n, m):\n",
    "    n = n % (2 ** 16)\n",
    "    m = m % (2 ** 16)\n",
    "    return n == m\n",
    "\n",
    "def duel(starta, startb):\n",
    "    N = 40 * 10 ** 6\n",
    "    count = 0\n",
    "    gena = iter(FancyGen(starta, 16807))\n",
    "    genb = iter(FancyGen(startb, 48271))\n",
    "    for _ in range(N):\n",
    "        if compare_lowest_bits(next(gena), next(genb)):\n",
    "            count += 1\n",
    "    return count"
   ]
  },
  {
   "cell_type": "markdown",
   "metadata": {},
   "source": [
    "### Test"
   ]
  },
  {
   "cell_type": "code",
   "execution_count": 37,
   "metadata": {
    "ExecuteTime": {
     "end_time": "2017-12-15T08:01:32.433804",
     "start_time": "2017-12-15T08:00:31.137182"
    }
   },
   "outputs": [
    {
     "name": "stdout",
     "output_type": "stream",
     "text": [
      "CPU times: user 1min 1s, sys: 0 ns, total: 1min 1s\n",
      "Wall time: 1min 1s\n"
     ]
    },
    {
     "data": {
      "text/plain": [
       "588"
      ]
     },
     "execution_count": 37,
     "metadata": {},
     "output_type": "execute_result"
    }
   ],
   "source": [
    "%%time\n",
    "duel(65, 8921)"
   ]
  },
  {
   "cell_type": "markdown",
   "metadata": {
    "ExecuteTime": {
     "end_time": "2017-12-15T07:44:05.162446",
     "start_time": "2017-12-15T07:44:05.135443"
    }
   },
   "source": [
    "### Solution"
   ]
  },
  {
   "cell_type": "code",
   "execution_count": 38,
   "metadata": {
    "ExecuteTime": {
     "end_time": "2017-12-15T08:03:54.236814",
     "start_time": "2017-12-15T08:02:51.815069"
    }
   },
   "outputs": [
    {
     "name": "stdout",
     "output_type": "stream",
     "text": [
      "CPU times: user 1min 2s, sys: 0 ns, total: 1min 2s\n",
      "Wall time: 1min 2s\n"
     ]
    },
    {
     "data": {
      "text/plain": [
       "638"
      ]
     },
     "execution_count": 38,
     "metadata": {},
     "output_type": "execute_result"
    }
   ],
   "source": [
    "%%time\n",
    "duel(289, 629)"
   ]
  },
  {
   "cell_type": "markdown",
   "metadata": {},
   "source": [
    "## Part 2"
   ]
  },
  {
   "cell_type": "code",
   "execution_count": 42,
   "metadata": {
    "ExecuteTime": {
     "end_time": "2017-12-15T08:17:51.592479",
     "start_time": "2017-12-15T08:17:51.577973"
    },
    "collapsed": true
   },
   "outputs": [],
   "source": [
    "def just_multiples(gen, divisor):\n",
    "    for n in gen:\n",
    "        if n % divisor == 0:\n",
    "            yield n"
   ]
  },
  {
   "cell_type": "code",
   "execution_count": 52,
   "metadata": {
    "ExecuteTime": {
     "end_time": "2017-12-15T08:39:15.811650",
     "start_time": "2017-12-15T08:39:15.791710"
    },
    "collapsed": true
   },
   "outputs": [],
   "source": [
    "def picky_duel(starta, startb):\n",
    "    N = 5 * 10 ** 6\n",
    "    count = 0\n",
    "    gena = just_multiples(FancyGen(starta, 16807), 4)\n",
    "    genb = just_multiples(FancyGen(startb, 48271), 8)\n",
    "    for _ in range(N):\n",
    "        n = next(gena)\n",
    "        m = next(genb)\n",
    "        if compare_lowest_bits(n, m):\n",
    "            count += 1\n",
    "    return count"
   ]
  },
  {
   "cell_type": "markdown",
   "metadata": {},
   "source": [
    "### Test"
   ]
  },
  {
   "cell_type": "code",
   "execution_count": 53,
   "metadata": {
    "ExecuteTime": {
     "end_time": "2017-12-15T08:39:58.469271",
     "start_time": "2017-12-15T08:39:18.430875"
    }
   },
   "outputs": [
    {
     "name": "stdout",
     "output_type": "stream",
     "text": [
      "CPU times: user 40 s, sys: 8 ms, total: 40 s\n",
      "Wall time: 40 s\n"
     ]
    },
    {
     "data": {
      "text/plain": [
       "309"
      ]
     },
     "execution_count": 53,
     "metadata": {},
     "output_type": "execute_result"
    }
   ],
   "source": [
    "%%time\n",
    "picky_duel(65, 8921)"
   ]
  },
  {
   "cell_type": "markdown",
   "metadata": {},
   "source": [
    "### Solution"
   ]
  },
  {
   "cell_type": "code",
   "execution_count": 54,
   "metadata": {
    "ExecuteTime": {
     "end_time": "2017-12-15T08:41:15.057118",
     "start_time": "2017-12-15T08:40:31.694580"
    }
   },
   "outputs": [
    {
     "name": "stdout",
     "output_type": "stream",
     "text": [
      "CPU times: user 43.3 s, sys: 36 ms, total: 43.3 s\n",
      "Wall time: 43.4 s\n"
     ]
    },
    {
     "data": {
      "text/plain": [
       "343"
      ]
     },
     "execution_count": 54,
     "metadata": {},
     "output_type": "execute_result"
    }
   ],
   "source": [
    "%%time\n",
    "picky_duel(289, 629)"
   ]
  }
 ],
 "metadata": {
  "kernelspec": {
   "display_name": "Python [conda env:adventofcode]",
   "language": "python",
   "name": "conda-env-adventofcode-py"
  },
  "language_info": {
   "codemirror_mode": {
    "name": "ipython",
    "version": 3
   },
   "file_extension": ".py",
   "mimetype": "text/x-python",
   "name": "python",
   "nbconvert_exporter": "python",
   "pygments_lexer": "ipython3",
   "version": "3.5.2"
  },
  "toc": {
   "colors": {
    "hover_highlight": "#DAA520",
    "running_highlight": "#FF0000",
    "selected_highlight": "#FFD700"
   },
   "moveMenuLeft": true,
   "nav_menu": {
    "height": "66px",
    "width": "252px"
   },
   "navigate_menu": true,
   "number_sections": true,
   "sideBar": true,
   "threshold": 4,
   "toc_cell": false,
   "toc_section_display": "block",
   "toc_window_display": false
  }
 },
 "nbformat": 4,
 "nbformat_minor": 2
}
