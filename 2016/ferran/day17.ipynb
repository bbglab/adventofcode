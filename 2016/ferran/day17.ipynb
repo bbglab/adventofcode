{
 "cells": [
  {
   "cell_type": "markdown",
   "metadata": {},
   "source": [
    "# Challenge 17"
   ]
  },
  {
   "cell_type": "markdown",
   "metadata": {},
   "source": [
    "## Challenge 17.1"
   ]
  },
  {
   "cell_type": "code",
   "execution_count": 71,
   "metadata": {
    "collapsed": false
   },
   "outputs": [],
   "source": [
    "passcode = 'pvhmgsws'"
   ]
  },
  {
   "cell_type": "code",
   "execution_count": 72,
   "metadata": {
    "collapsed": false
   },
   "outputs": [
    {
     "name": "stdout",
     "output_type": "stream",
     "text": [
      "{'R': (1, 0), 'L': (-1, 0), 'U': (0, -1), 'D': (0, 1)}\n"
     ]
    }
   ],
   "source": [
    "opencodes = 'bcdef'\n",
    "sorted_steps = ['U', 'D', 'L', 'R']\n",
    "dirs = {'U' : 'D', 'D': 'U', 'L': 'R', 'R': 'L'}\n",
    "vectors = {'U': (0,-1), 'D': (0,1), 'L': (-1,0), 'R': (1,0)}\n",
    "print(vectors)"
   ]
  },
  {
   "cell_type": "code",
   "execution_count": 87,
   "metadata": {
    "collapsed": false
   },
   "outputs": [],
   "source": [
    "import hashlib\n",
    "\n",
    "class Node(object):\n",
    "    \n",
    "    def __init__(self, pos, path, traps):\n",
    "        self.pos = pos\n",
    "        self.path = path\n",
    "        self.traps = traps\n",
    "        self.parent = None\n",
    "        self.children = []\n",
    "    \n",
    "    def add_child(self, node):\n",
    "        self.children.append(node)\n",
    "    \n",
    "    def add_parent(self, node):\n",
    "        self.parent = node\n",
    "\n",
    "        \n",
    "def interpret_hash(passcode, path):\n",
    "    mystr = passcode + path\n",
    "    hsh = hashlib.md5(mystr.encode('utf-8')).hexdigest()\n",
    "    opens = {item[1]: (hsh[item[0]] in opencodes) for item in enumerate(sorted_steps)}\n",
    "    return opens\n",
    "\n",
    "\n",
    "def pathsearch(pos, goal, passcode, shortest=True):\n",
    "    node = Node(pos, '', [])\n",
    "    pending = []\n",
    "    pending.append(node)\n",
    "    results = []\n",
    "    while len(pending) > 0:\n",
    "        node = pending.pop()\n",
    "        if node.pos == goal:\n",
    "            results.append(node.path)\n",
    "        else:\n",
    "            open_doors = interpret_hash(passcode, node.path)\n",
    "            trap = True\n",
    "            for step in vectors:\n",
    "                if step not in node.traps:\n",
    "                    if open_doors[step]:\n",
    "                        new_pos = (node.pos[0] + vectors[step][0], node.pos[1] + vectors[step][1]) \n",
    "                        if (0 <= new_pos[0] <= 3) and (0 <= new_pos[1] <= 3):\n",
    "                            trap = False\n",
    "                            child = Node(new_pos, node.path + step, [])\n",
    "                            child.add_parent(node)\n",
    "                            pending.append(child)\n",
    "    if len(results) > 0:\n",
    "        results = sorted(results, key=lambda x: len(x), reverse=shortest)\n",
    "        return results.pop()"
   ]
  },
  {
   "cell_type": "markdown",
   "metadata": {},
   "source": [
    "## Tests"
   ]
  },
  {
   "cell_type": "code",
   "execution_count": 88,
   "metadata": {
    "collapsed": false
   },
   "outputs": [
    {
     "data": {
      "text/plain": [
       "'DUR'"
      ]
     },
     "execution_count": 88,
     "metadata": {},
     "output_type": "execute_result"
    }
   ],
   "source": [
    "pathsearch((0,0), (1,0), 'hijkl')"
   ]
  },
  {
   "cell_type": "code",
   "execution_count": 89,
   "metadata": {
    "collapsed": false
   },
   "outputs": [
    {
     "data": {
      "text/plain": [
       "'DDRRRD'"
      ]
     },
     "execution_count": 89,
     "metadata": {},
     "output_type": "execute_result"
    }
   ],
   "source": [
    "pathsearch((0,0), (3,3), 'ihgpwlah')"
   ]
  },
  {
   "cell_type": "code",
   "execution_count": 82,
   "metadata": {
    "collapsed": false
   },
   "outputs": [
    {
     "data": {
      "text/plain": [
       "'DDUDRLRRUDRD'"
      ]
     },
     "execution_count": 82,
     "metadata": {},
     "output_type": "execute_result"
    }
   ],
   "source": [
    "pathsearch((0,0), (3,3), 'kglvqrro')"
   ]
  },
  {
   "cell_type": "code",
   "execution_count": 91,
   "metadata": {
    "collapsed": false
   },
   "outputs": [
    {
     "data": {
      "text/plain": [
       "'DRURDRUDDLLDLUURRDULRLDUUDDDRR'"
      ]
     },
     "execution_count": 91,
     "metadata": {},
     "output_type": "execute_result"
    }
   ],
   "source": [
    "pathsearch((0,0), (3,3), 'ulqzkmiv')"
   ]
  },
  {
   "cell_type": "markdown",
   "metadata": {},
   "source": [
    "## Result"
   ]
  },
  {
   "cell_type": "code",
   "execution_count": 92,
   "metadata": {
    "collapsed": false
   },
   "outputs": [
    {
     "name": "stdout",
     "output_type": "stream",
     "text": [
      "DRRDRLDURD\n"
     ]
    },
    {
     "data": {
      "text/plain": [
       "10"
      ]
     },
     "execution_count": 92,
     "metadata": {},
     "output_type": "execute_result"
    }
   ],
   "source": [
    "p = pathsearch((0,0), (3,3), passcode)\n",
    "print(p)\n",
    "len(p)"
   ]
  },
  {
   "cell_type": "markdown",
   "metadata": {},
   "source": [
    "## Challenge 17.2"
   ]
  },
  {
   "cell_type": "code",
   "execution_count": 93,
   "metadata": {
    "collapsed": false
   },
   "outputs": [
    {
     "name": "stdout",
     "output_type": "stream",
     "text": [
      "DRRDRLDURLLRURLDDULDULDURUUDRLRLRDULLRDUURDULDUDDURLRLLRLDRUULRLRLRDRULLRDUDDDUULURDRRLDDLLUDRURLRUURLDDUDLURDUULRDUDURDDLRLLUDURRLUDRULDRUDDLLLRLRUDRLRRUULRLLDURDLLRLRDUDLURURLDRURDLUDRDLUULDRDDLRUULRDUULRDLDLDRLUUURRRLDDULDLUURLRLRLDRDRLULURDDRUDURUDULLRLRDRUDDLRLLDLRURLDRLURDUUDLUDDLRUULRRULDLURRRLDRLUDLDLRLRLRDUUDDLRLUURDDRUDLURRLRULRDLLLRUURRDLDDULUURDLRLDDURUDURLDULUDLDUDUUDRUDRUDULRDDLLRURRLRDLLDULRURLDRURLUDULRLDRULDDLRDRURUDLRUULRDDLRLUDRLUDDUULRDUDLDUUDRULDRUDURLULRDDRULDLLRUDDUUDDURLULDURRDRLDULUDLRLDURULRRDRLLLDUUDURRDDLRULDUUDUURDDLRDUDUULDUDDUURLRURDLULDRDDUDUUDLUDLRUDDUULDRRLUUDDRRULDDURUDULURDDD\n"
     ]
    },
    {
     "data": {
      "text/plain": [
       "618"
      ]
     },
     "execution_count": 93,
     "metadata": {},
     "output_type": "execute_result"
    }
   ],
   "source": [
    "p = pathsearch((0,0), (3,3), passcode, shortest=False)\n",
    "print(p)\n",
    "len(p)"
   ]
  }
 ],
 "metadata": {
  "anaconda-cloud": {},
  "kernelspec": {
   "display_name": "Python [conda env:adventofcode]",
   "language": "python",
   "name": "conda-env-adventofcode-py"
  },
  "language_info": {
   "codemirror_mode": {
    "name": "ipython",
    "version": 3
   },
   "file_extension": ".py",
   "mimetype": "text/x-python",
   "name": "python",
   "nbconvert_exporter": "python",
   "pygments_lexer": "ipython3",
   "version": "3.5.2"
  }
 },
 "nbformat": 4,
 "nbformat_minor": 0
}
