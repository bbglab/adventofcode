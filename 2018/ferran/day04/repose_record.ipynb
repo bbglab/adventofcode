{
 "cells": [
  {
   "cell_type": "markdown",
   "metadata": {},
   "source": [
    "# Part 1"
   ]
  },
  {
   "cell_type": "code",
   "execution_count": 13,
   "metadata": {
    "collapsed": true
   },
   "outputs": [],
   "source": [
    "import numpy as np"
   ]
  },
  {
   "cell_type": "markdown",
   "metadata": {},
   "source": [
    "## parse table"
   ]
  },
  {
   "cell_type": "code",
   "execution_count": 2,
   "metadata": {
    "collapsed": true
   },
   "outputs": [],
   "source": [
    "# parse table\n",
    "\n",
    "l = ! cat input.txt | tr '\\n' ';'\n",
    "l = l[0].rstrip(';').split(';')"
   ]
  },
  {
   "cell_type": "code",
   "execution_count": 3,
   "metadata": {
    "collapsed": true
   },
   "outputs": [],
   "source": [
    "def parselem(entry):\n",
    "    s = entry.split('] ')\n",
    "    day, time = s[0][1:].split(' ')\n",
    "    action    = ' '.join(s[1].split(' ')[:2])\n",
    "    day  = int(''.join(day.split('-')))\n",
    "    time = int(''.join(time.split(':')))\n",
    "    return day, time, action"
   ]
  },
  {
   "cell_type": "code",
   "execution_count": 11,
   "metadata": {},
   "outputs": [],
   "source": [
    "events = sorted(list(map(parselem, l)), key=lambda x: (x[0], x[1]))"
   ]
  },
  {
   "cell_type": "markdown",
   "metadata": {},
   "source": [
    "## fill out table"
   ]
  },
  {
   "cell_type": "code",
   "execution_count": 49,
   "metadata": {},
   "outputs": [],
   "source": [
    "def sleepdict(events):\n",
    "    start, end = 0, 0\n",
    "    acc = {}\n",
    "    for day, time, action in events:\n",
    "        if action not in ['falls asleep', 'wakes up']:\n",
    "            guard = action.split(' ')[1]\n",
    "            if guard not in acc:\n",
    "                acc.update({guard: np.zeros(60)})\n",
    "        if action == 'falls asleep':\n",
    "            start = time\n",
    "        if action == 'wakes up':\n",
    "            end = time\n",
    "            vector = np.zeros(60)\n",
    "            vector[start: end] = 1\n",
    "            acc[guard] += vector\n",
    "    return acc"
   ]
  },
  {
   "cell_type": "code",
   "execution_count": 63,
   "metadata": {},
   "outputs": [
    {
     "data": {
      "text/plain": [
       "98680"
      ]
     },
     "execution_count": 63,
     "metadata": {},
     "output_type": "execute_result"
    }
   ],
   "source": [
    "sleeps   = sleepdict(events)\n",
    "sortlist = sorted([(k, v) for k, v in sleeps.items()], key=lambda x: sum(x[1]), reverse=True)\n",
    "int(sortlist[0][0][1:]) * np.argmax(sortlist[0][1])"
   ]
  },
  {
   "cell_type": "markdown",
   "metadata": {},
   "source": [
    "# Part 2"
   ]
  },
  {
   "cell_type": "code",
   "execution_count": 59,
   "metadata": {
    "collapsed": true
   },
   "outputs": [],
   "source": [
    "mostfreq = []\n",
    "for guard, arr in sleeps.items():\n",
    "    mostfreq.append((guard, np.argmax(arr), max(arr)))"
   ]
  },
  {
   "cell_type": "code",
   "execution_count": 64,
   "metadata": {},
   "outputs": [
    {
     "data": {
      "text/plain": [
       "9763"
      ]
     },
     "execution_count": 64,
     "metadata": {},
     "output_type": "execute_result"
    }
   ],
   "source": [
    "mostfreq = sorted(mostfreq, key=lambda x: x[2], reverse=True)\n",
    "int(mostfreq[0][0][1:]) * mostfreq[0][1]"
   ]
  }
 ],
 "metadata": {
  "kernelspec": {
   "display_name": "Python [conda env:adventofcode]",
   "language": "python",
   "name": "conda-env-adventofcode-py"
  },
  "language_info": {
   "codemirror_mode": {
    "name": "ipython",
    "version": 3
   },
   "file_extension": ".py",
   "mimetype": "text/x-python",
   "name": "python",
   "nbconvert_exporter": "python",
   "pygments_lexer": "ipython3",
   "version": "3.5.2"
  }
 },
 "nbformat": 4,
 "nbformat_minor": 2
}
