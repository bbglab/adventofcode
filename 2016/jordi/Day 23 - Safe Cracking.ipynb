{
 "cells": [
  {
   "cell_type": "markdown",
   "metadata": {},
   "source": [
    "```\n",
    "--- Day 23: Safe Cracking ---\n",
    "\n",
    "This is one of the top floors of the nicest tower in EBHQ. The Easter Bunny's private office is here, complete with a safe hidden behind a painting, and who wouldn't hide a star in a safe behind a painting?\n",
    "\n",
    "The safe has a digital screen and keypad for code entry. A sticky note attached to the safe has a password hint on it: \"eggs\". The painting is of a large rabbit coloring some eggs. You see 7.\n",
    "\n",
    "When you go to type the code, though, nothing appears on the display; instead, the keypad comes apart in your hands, apparently having been smashed. Behind it is some kind of socket - one that matches a connector in your prototype computer! You pull apart the smashed keypad and extract the logic circuit, plug it into your computer, and plug your computer into the safe.\n",
    "\n",
    "Now, you just need to figure out what output the keypad would have sent to the safe. You extract the assembunny code from the logic chip (your puzzle input).\n",
    "The code looks like it uses almost the same architecture and instruction set that the monorail computer used! You should be able to use the same assembunny interpreter for this as you did there, but with one new instruction:\n",
    "\n",
    "tgl x toggles the instruction x away (pointing at instructions like jnz does: positive means forward; negative means backward):\n",
    "\n",
    "For one-argument instructions, inc becomes dec, and all other one-argument instructions become inc.\n",
    "For two-argument instructions, jnz becomes cpy, and all other two-instructions become jnz.\n",
    "The arguments of a toggled instruction are not affected.\n",
    "If an attempt is made to toggle an instruction outside the program, nothing happens.\n",
    "If toggling produces an invalid instruction (like cpy 1 2) and an attempt is later made to execute that instruction, skip it instead.\n",
    "If tgl toggles itself (for example, if a is 0, tgl a would target itself and become inc a), the resulting instruction is not executed until the next time it is reached.\n",
    "For example, given this program:\n",
    "\n",
    "cpy 2 a\n",
    "tgl a\n",
    "tgl a\n",
    "tgl a\n",
    "cpy 1 a\n",
    "dec a\n",
    "dec a\n",
    "cpy 2 a initializes register a to 2.\n",
    "The first tgl a toggles an instruction a (2) away from it, which changes the third tgl a into inc a.\n",
    "The second tgl a also modifies an instruction 2 away from it, which changes the cpy 1 a into jnz 1 a.\n",
    "The fourth line, which is now inc a, increments a to 3.\n",
    "Finally, the fifth line, which is now jnz 1 a, jumps a (3) instructions ahead, skipping the dec a instructions.\n",
    "In this example, the final value in register a is 3.\n",
    "\n",
    "The rest of the electronics seem to place the keypad entry (the number of eggs, 7) in register a, run the code, and then send the value left in register a to the safe.\n",
    "\n",
    "What value should be sent to the safe?\n",
    "```"
   ]
  },
  {
   "cell_type": "code",
   "execution_count": 22,
   "metadata": {
    "collapsed": true
   },
   "outputs": [],
   "source": [
    "class BunnyMachine:\n",
    "        \n",
    "    def __init__(self, a=0, b=0, c=0, d=0):\n",
    "        self.registers = { 'a': a, 'b': b, 'c': c, 'd': d}\n",
    "        self.op = 0\n",
    "        self.toggle = set()\n",
    "        self.ops = { 'cpy': self.cpy, 'inc': self.inc, 'dec': self.dec, 'jnz': self.jnz, 'tgl': self.tgl }\n",
    "    \n",
    "    def execute(self, program):\n",
    "        \n",
    "        # Compile the program\n",
    "        bytecode = []\n",
    "        for instruction in program:\n",
    "            params = instruction.split()\n",
    "            method = self.ops[params[0]]\n",
    "            bytecode.append((method, params[1:]))\n",
    "            \n",
    "        # Execute the program\n",
    "        self.op = 0\n",
    "        while self.op < len(bytecode):\n",
    "            method, params = bytecode[self.op]\n",
    "            \n",
    "            if self.op in self.toggle:\n",
    "                if len(params) == 1:\n",
    "                    method = self.ops['dec'] if method == self.ops['inc'] else self.ops['inc']\n",
    "                elif len(params) == 2:\n",
    "                    method = self.ops['cpy'] if method == self.ops['jnz'] else self.ops['jnz']\n",
    "            \n",
    "            res = method(*params)\n",
    "            self.op += 1 if res is None else res\n",
    "        \n",
    "        print(self.registers)\n",
    "        \n",
    "    def val(self, x):\n",
    "        return self.registers[x] if x in self.registers else int(x)\n",
    "    \n",
    "    def tgl(self, x):\n",
    "        self.toggle.add(self.op + self.val(x))\n",
    "    \n",
    "    def cpy(self, x, y):\n",
    "        self.registers[y] = self.val(x)\n",
    "        \n",
    "    def inc(self, x):\n",
    "        self.registers[x]+=1\n",
    "        \n",
    "    def dec(self, x):\n",
    "        self.registers[x]-=1\n",
    "        \n",
    "    def jnz(self, x, y):\n",
    "        return None if self.val(x) == 0 else self.val(y)   "
   ]
  },
  {
   "cell_type": "code",
   "execution_count": 23,
   "metadata": {
    "collapsed": true
   },
   "outputs": [],
   "source": [
    "example = [\n",
    "    \"cpy 2 a\",\n",
    "    \"tgl a\",\n",
    "    \"tgl a\",\n",
    "    \"tgl a\",\n",
    "    \"cpy 1 a\",\n",
    "    \"dec a\",\n",
    "    \"dec a\"\n",
    "]"
   ]
  },
  {
   "cell_type": "code",
   "execution_count": 24,
   "metadata": {
    "collapsed": false
   },
   "outputs": [
    {
     "name": "stdout",
     "output_type": "stream",
     "text": [
      "{'a': 3, 'c': 0, 'd': 0, 'b': 0}\n"
     ]
    }
   ],
   "source": [
    "BunnyMachine().execute(example)"
   ]
  },
  {
   "cell_type": "code",
   "execution_count": 27,
   "metadata": {
    "collapsed": false
   },
   "outputs": [
    {
     "name": "stdout",
     "output_type": "stream",
     "text": [
      "{'a': 13140, 'c': 0, 'd': 0, 'b': 1}\n",
      "CPU times: user 76 ms, sys: 0 ns, total: 76 ms\n",
      "Wall time: 74 ms\n"
     ]
    }
   ],
   "source": [
    "%%time\n",
    "with open('inputs/day23.txt') as fd:\n",
    "    BunnyMachine(a=7).execute(fd)"
   ]
  },
  {
   "cell_type": "markdown",
   "metadata": {},
   "source": [
    "```\n",
    "--- Part Two ---\n",
    "\n",
    "The safe doesn't open, but it does make several angry noises to express its frustration.\n",
    "\n",
    "You're quite sure your logic is working correctly, so the only other thing is... you check the painting again. As it turns out, colored eggs are still eggs. Now you count 12.\n",
    "\n",
    "As you run the program with this new input, the prototype computer begins to overheat. You wonder what's taking so long, and whether the lack of any instruction more powerful than \"add one\" has anything to do with it. Don't bunnies usually multiply?\n",
    "\n",
    "Anyway, what value should actually be sent to the safe?\n",
    "```"
   ]
  },
  {
   "cell_type": "code",
   "execution_count": 28,
   "metadata": {
    "collapsed": false
   },
   "outputs": [
    {
     "name": "stdout",
     "output_type": "stream",
     "text": [
      "{'a': 479009700, 'c': 0, 'd': 0, 'b': 1}\n",
      "CPU times: user 49min 38s, sys: 344 ms, total: 49min 38s\n",
      "Wall time: 49min 39s\n"
     ]
    }
   ],
   "source": [
    "%%time\n",
    "with open('inputs/day23.txt') as fd:\n",
    "    BunnyMachine(a=12).execute(fd)"
   ]
  },
  {
   "cell_type": "code",
   "execution_count": null,
   "metadata": {
    "collapsed": true
   },
   "outputs": [],
   "source": []
  }
 ],
 "metadata": {
  "anaconda-cloud": {},
  "kernelspec": {
   "display_name": "Python [conda env:adventofcode]",
   "language": "python",
   "name": "conda-env-adventofcode-py"
  },
  "language_info": {
   "codemirror_mode": {
    "name": "ipython",
    "version": 3
   },
   "file_extension": ".py",
   "mimetype": "text/x-python",
   "name": "python",
   "nbconvert_exporter": "python",
   "pygments_lexer": "ipython3",
   "version": "3.5.2"
  }
 },
 "nbformat": 4,
 "nbformat_minor": 1
}
