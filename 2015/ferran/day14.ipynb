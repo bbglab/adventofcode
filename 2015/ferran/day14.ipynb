{
 "cells": [
  {
   "cell_type": "markdown",
   "metadata": {},
   "source": [
    "# Day 14: Reindeer Olympics\n",
    "\n",
    "## Day 14.1"
   ]
  },
  {
   "cell_type": "code",
   "execution_count": 57,
   "metadata": {
    "ExecuteTime": {
     "end_time": "2017-12-11T15:29:16.245467",
     "start_time": "2017-12-11T15:29:16.210594"
    }
   },
   "outputs": [],
   "source": [
    "import csv\n",
    "from collections import defaultdict\n",
    "\n",
    "def parse(input_path):\n",
    "    reindeer = defaultdict(lambda: defaultdict(int))\n",
    "    with open(input_path, 'rt') as f_input:\n",
    "        csv_reader = csv.reader(f_input, delimiter=' ')\n",
    "        for line in csv_reader:\n",
    "            reindeer[line[0]]['speed'] = int(line[3])\n",
    "            reindeer[line[0]]['flytime'] = int(line[6])\n",
    "            reindeer[line[0]]['resttime'] = int(line[-2])\n",
    "    return reindeer"
   ]
  },
  {
   "cell_type": "code",
   "execution_count": 81,
   "metadata": {
    "ExecuteTime": {
     "end_time": "2017-12-11T15:41:08.154870",
     "start_time": "2017-12-11T15:41:08.122835"
    }
   },
   "outputs": [],
   "source": [
    "def span(speed, flytime, resttime, time):\n",
    "    t = flytime + resttime\n",
    "    n = time // t\n",
    "    r = time % t\n",
    "    if r <= flytime:\n",
    "        return speed * flytime * n + speed * r\n",
    "    else:\n",
    "        n += 1\n",
    "        return speed * flytime * n \n",
    "\n",
    "def reindeer_span(name, time):\n",
    "    speed = reindeer[name]['speed']\n",
    "    flytime = reindeer[name]['flytime']\n",
    "    resttime = reindeer[name]['resttime']\n",
    "    return span(speed, flytime, resttime, time)\n",
    "\n",
    "def winner(time):\n",
    "    max_distance = 0\n",
    "    score = dict(zip(list(reindeer.keys()), [0] * len(reindeer)))\n",
    "    for name in reindeer:\n",
    "        score[name] = reindeer_span(name, time)\n",
    "    l = sorted(list(score.items()), key=lambda x: x[1], reverse=True)\n",
    "    reindeer_winners = [l[0][0]] + [c[0] for c in l[1:] if (c[1] == l[0][1])]\n",
    "    return l[0][1], reindeer_winners"
   ]
  },
  {
   "cell_type": "markdown",
   "metadata": {},
   "source": [
    "### Test"
   ]
  },
  {
   "cell_type": "code",
   "execution_count": 83,
   "metadata": {
    "ExecuteTime": {
     "end_time": "2017-12-11T15:41:10.615644",
     "start_time": "2017-12-11T15:41:10.578034"
    }
   },
   "outputs": [],
   "source": [
    "reindeer = parse('inputs/input14.test1.txt')\n",
    "\n",
    "def test_span():\n",
    "    assert(reindeer_span('Comet', 1000) == 1120)\n",
    "    assert(reindeer_span('Dancer', 1000) == 1056)\n",
    "\n",
    "def test_winner():\n",
    "    assert(winner(1000) == (1120, ['Comet']))\n",
    "    \n",
    "test_span()\n",
    "test_winner()"
   ]
  },
  {
   "cell_type": "markdown",
   "metadata": {},
   "source": [
    "### Solution"
   ]
  },
  {
   "cell_type": "code",
   "execution_count": 84,
   "metadata": {
    "ExecuteTime": {
     "end_time": "2017-12-11T15:41:16.177535",
     "start_time": "2017-12-11T15:41:16.161840"
    }
   },
   "outputs": [
    {
     "data": {
      "text/plain": [
       "(2660, ['Vixen'])"
      ]
     },
     "execution_count": 84,
     "metadata": {},
     "output_type": "execute_result"
    }
   ],
   "source": [
    "reindeer = parse('inputs/input14.txt')\n",
    "winner(2503)"
   ]
  },
  {
   "cell_type": "markdown",
   "metadata": {},
   "source": [
    "## Day 14.2"
   ]
  },
  {
   "cell_type": "code",
   "execution_count": 93,
   "metadata": {
    "ExecuteTime": {
     "end_time": "2017-12-11T15:45:20.060925",
     "start_time": "2017-12-11T15:45:20.038121"
    }
   },
   "outputs": [],
   "source": [
    "def new_score(time):\n",
    "    score = dict(zip(list(reindeer.keys()), [0] * len(reindeer)))\n",
    "    for i in range(time):\n",
    "        max_distance, reindeer_winners = winner(i + 1)\n",
    "        for name in reindeer_winners:\n",
    "            score[name] += 1\n",
    "    l = sorted(list(score.items()), key=lambda x: x[1], reverse=True)\n",
    "    return [l[0]] + [c for c in l[1:] if c[1] == l[0][0]]"
   ]
  },
  {
   "cell_type": "markdown",
   "metadata": {},
   "source": [
    "### Test"
   ]
  },
  {
   "cell_type": "code",
   "execution_count": 94,
   "metadata": {
    "ExecuteTime": {
     "end_time": "2017-12-11T15:45:20.870791",
     "start_time": "2017-12-11T15:45:20.800254"
    }
   },
   "outputs": [
    {
     "data": {
      "text/plain": [
       "[('Dancer', 689)]"
      ]
     },
     "execution_count": 94,
     "metadata": {},
     "output_type": "execute_result"
    }
   ],
   "source": [
    "reindeer = parse('inputs/input14.test1.txt')\n",
    "new_score(1000)"
   ]
  },
  {
   "cell_type": "markdown",
   "metadata": {},
   "source": [
    "### Solution"
   ]
  },
  {
   "cell_type": "code",
   "execution_count": 95,
   "metadata": {
    "ExecuteTime": {
     "end_time": "2017-12-11T15:45:25.641928",
     "start_time": "2017-12-11T15:45:25.569936"
    }
   },
   "outputs": [
    {
     "name": "stdout",
     "output_type": "stream",
     "text": [
      "[('Blitzen', 1256)]\n"
     ]
    }
   ],
   "source": [
    "reindeer = parse('inputs/input14.txt')\n",
    "print(new_score(2503))"
   ]
  }
 ],
 "metadata": {
  "kernelspec": {
   "display_name": "Python [conda env:adventofcode]",
   "language": "python",
   "name": "conda-env-adventofcode-py"
  },
  "language_info": {
   "codemirror_mode": {
    "name": "ipython",
    "version": 3
   },
   "file_extension": ".py",
   "mimetype": "text/x-python",
   "name": "python",
   "nbconvert_exporter": "python",
   "pygments_lexer": "ipython3",
   "version": "3.5.2"
  },
  "toc": {
   "colors": {
    "hover_highlight": "#DAA520",
    "running_highlight": "#FF0000",
    "selected_highlight": "#FFD700"
   },
   "moveMenuLeft": true,
   "nav_menu": {
    "height": "66px",
    "width": "252px"
   },
   "navigate_menu": true,
   "number_sections": true,
   "sideBar": true,
   "threshold": 4,
   "toc_cell": false,
   "toc_section_display": "block",
   "toc_window_display": false
  }
 },
 "nbformat": 4,
 "nbformat_minor": 2
}
