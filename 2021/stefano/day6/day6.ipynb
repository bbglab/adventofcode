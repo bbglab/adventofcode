{
 "cells": [
  {
   "cell_type": "markdown",
   "metadata": {},
   "source": [
    "# Day 6"
   ]
  },
  {
   "cell_type": "code",
   "execution_count": 1,
   "metadata": {},
   "outputs": [],
   "source": [
    "import numpy as np\n",
    "import time"
   ]
  },
  {
   "cell_type": "code",
   "execution_count": 337,
   "metadata": {},
   "outputs": [],
   "source": [
    "with open(\"input.txt\", \"r\") as f:\n",
    "    data = [line for line in f]\n",
    "\n",
    "data = [int(n) for n in data[0].split(\",\")]\n",
    "toy_data = [3,4,3,1,2]"
   ]
  },
  {
   "cell_type": "markdown",
   "metadata": {},
   "source": [
    "## Puzzle 1"
   ]
  },
  {
   "cell_type": "code",
   "execution_count": 347,
   "metadata": {},
   "outputs": [],
   "source": [
    "def sim_one_day(pop):\n",
    "        \n",
    "    pop_next_day = []\n",
    "    \n",
    "    for fish in pop:\n",
    "        if fish == 0:\n",
    "            pop_next_day.append(6)\n",
    "            pop_next_day.append(8)\n",
    "        else:\n",
    "            pop_next_day.append(fish-1)\n",
    "\n",
    "    return pop_next_day\n",
    "\n",
    "def get_pop_size1(pop, days):\n",
    "    \n",
    "    for day in range(1, days+1):    \n",
    "\n",
    "        pop_next_day = sim_one_day(pop)\n",
    "        pop = pop_next_day\n",
    "         \n",
    "    print(f\"After {days} days: {len(pop)}\")"
   ]
  },
  {
   "cell_type": "code",
   "execution_count": 348,
   "metadata": {},
   "outputs": [
    {
     "name": "stdout",
     "output_type": "stream",
     "text": [
      "After 80 days: 5934\n",
      "After 80 days: 359344\n"
     ]
    }
   ],
   "source": [
    "get_pop_size1(toy_data, 80)\n",
    "get_pop_size1(data, 80)"
   ]
  },
  {
   "cell_type": "markdown",
   "metadata": {},
   "source": [
    "## Puzzle 2"
   ]
  },
  {
   "cell_type": "code",
   "execution_count": 349,
   "metadata": {},
   "outputs": [
    {
     "name": "stdout",
     "output_type": "stream",
     "text": [
      "After 80 days: 359344\n",
      "CPU times: user 486 ms, sys: 1.98 ms, total: 488 ms\n",
      "Wall time: 487 ms\n"
     ]
    }
   ],
   "source": [
    "%%time\n",
    "pop_growth = get_pop_size1(data, 80)"
   ]
  },
  {
   "cell_type": "code",
   "execution_count": 350,
   "metadata": {},
   "outputs": [
    {
     "name": "stdout",
     "output_type": "stream",
     "text": [
      "After 80 days: 359344\n",
      "CPU times: user 3.25 s, sys: 2.96 ms, total: 3.25 s\n",
      "Wall time: 3.25 s\n"
     ]
    }
   ],
   "source": [
    "%%time\n",
    "\n",
    "def sim_one_day2(n, new_gen):\n",
    "    \n",
    "    if n == 0:\n",
    "        n = 6\n",
    "        new_gen.append(8)\n",
    "    else:\n",
    "        n -= 1\n",
    "        \n",
    "    return n\n",
    "\n",
    "vec_sim_one_day = np.vectorize(sim_one_day2, excluded=[1], otypes=[int])\n",
    "\n",
    "def get_pop_size2(pop, days):\n",
    "\n",
    "    pop = np.array(pop)\n",
    "    new_gen = []\n",
    "\n",
    "    for day in range(1, days+1):\n",
    "        \n",
    "        pop = vec_sim_one_day(pop, new_gen)\n",
    "\n",
    "        if len(new_gen) > 0:\n",
    "            pop = np.append(pop, new_gen)\n",
    "            new_gen = []\n",
    "    \n",
    "    print(f\"After {days} days: {len(pop)}\")\n",
    "\n",
    "get_pop_size2(data, 80)"
   ]
  },
  {
   "cell_type": "code",
   "execution_count": 351,
   "metadata": {},
   "outputs": [
    {
     "name": "stdout",
     "output_type": "stream",
     "text": [
      "After 80 days: 359344\n",
      "CPU times: user 6.79 s, sys: 978 µs, total: 6.79 s\n",
      "Wall time: 6.79 s\n"
     ]
    }
   ],
   "source": [
    "%%time\n",
    "\n",
    "def get_pop_size3(pop, days):\n",
    "\n",
    "    new_gen = np.empty(0)\n",
    "    pop = np.array(pop)\n",
    "    \n",
    "    for day in range(1, days+1):\n",
    "    \n",
    "        pregnant_ix = pop == 0     \n",
    "        new_gen = np.repeat(8, sum(pregnant_ix))\n",
    "        pop[~pregnant_ix] = pop[~pregnant_ix] - 1\n",
    "        pop[pregnant_ix] = 6\n",
    "        pop = np.append(pop, new_gen)\n",
    "        \n",
    "    print(f\"After {days} days: {len(pop)}\")    \n",
    "\n",
    "get_pop_size3(data, 80)"
   ]
  },
  {
   "cell_type": "markdown",
   "metadata": {},
   "source": [
    "#### Using lists seems to be faster, can't find a way to simulate all 256 days.. EPIC FAIL"
   ]
  },
  {
   "cell_type": "markdown",
   "metadata": {},
   "source": [
    "## Elegant solution gently STOLEN (for my comprehension) from Joe"
   ]
  },
  {
   "cell_type": "code",
   "execution_count": 297,
   "metadata": {},
   "outputs": [
    {
     "data": {
      "text/plain": [
       "{0: 94508,\n",
       " 1: 90763,\n",
       " 2: 79321,\n",
       " 3: 75638,\n",
       " 4: 67616,\n",
       " 5: 62475,\n",
       " 6: 58016,\n",
       " 7: 51564,\n",
       " 8: 49380}"
      ]
     },
     "execution_count": 297,
     "metadata": {},
     "output_type": "execute_result"
    }
   ],
   "source": [
    "# Generate a dict with the pop of each fish state (num days from gen of new fish) after 128 days\n",
    "\n",
    "fish_dict = {}\n",
    "\n",
    "for j in range(0,9):\n",
    "    fish = [j]\n",
    "    \n",
    "    for i in range(128):\n",
    "        fish = sim_one_day(fish)\n",
    "            \n",
    "    fish_dict[j] = fish\n",
    "    \n",
    "# Obtain a dict with the pop size of each fish state after 128 days    \n",
    "len_dict = {i:len(fish_dict[i]) for i in fish_dict}\n",
    "len_dict"
   ]
  },
  {
   "cell_type": "code",
   "execution_count": 304,
   "metadata": {},
   "outputs": [
    {
     "data": {
      "text/plain": [
       "{0: 6703087164,\n",
       " 1: 6206821033,\n",
       " 2: 5617089148,\n",
       " 3: 5217223242,\n",
       " 4: 4726100874,\n",
       " 5: 4368232009,\n",
       " 6: 3989468462,\n",
       " 7: 3649885552,\n",
       " 8: 3369186778}"
      ]
     },
     "execution_count": 304,
     "metadata": {},
     "output_type": "execute_result"
    }
   ],
   "source": [
    "# For each fish state, iterate through each fish of each pop obtained after 128 days\n",
    "# and get the pop size that each fish would have after another 128 days and sum them\n",
    "\n",
    "len_dict_full = {}\n",
    "\n",
    "# Iterate through the fish states\n",
    "for state in range(9):\n",
    "    \n",
    "    length = 0\n",
    "    \n",
    "    # For each fish obtained after 128 days\n",
    "    for fish in fish_dict[state]:\n",
    "        \n",
    "        # Obtain the pop size after another 128 days\n",
    "        length += len_dict[fish]\n",
    "    \n",
    "    len_dict_full[state] = length\n",
    "\n",
    "len_dict_full"
   ]
  },
  {
   "cell_type": "code",
   "execution_count": 306,
   "metadata": {},
   "outputs": [
    {
     "data": {
      "text/plain": [
       "26984457539"
      ]
     },
     "execution_count": 306,
     "metadata": {},
     "output_type": "execute_result"
    }
   ],
   "source": [
    "# Sum the pop size that each fish present in the original pop would have after 256 days\n",
    "sum([len_dict_full[i] for i in pop])"
   ]
  },
  {
   "cell_type": "code",
   "execution_count": null,
   "metadata": {},
   "outputs": [],
   "source": []
  }
 ],
 "metadata": {
  "kernelspec": {
   "display_name": "Python 3 (ipykernel)",
   "language": "python",
   "name": "python3"
  },
  "language_info": {
   "codemirror_mode": {
    "name": "ipython",
    "version": 3
   },
   "file_extension": ".py",
   "mimetype": "text/x-python",
   "name": "python",
   "nbconvert_exporter": "python",
   "pygments_lexer": "ipython3",
   "version": "3.9.7"
  }
 },
 "nbformat": 4,
 "nbformat_minor": 4
}
