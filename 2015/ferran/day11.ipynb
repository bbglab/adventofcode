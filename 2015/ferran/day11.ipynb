{
 "cells": [
  {
   "cell_type": "markdown",
   "metadata": {},
   "source": [
    "# Day 11: Corporate Policy\n",
    "\n",
    "## Day 11.1"
   ]
  },
  {
   "cell_type": "markdown",
   "metadata": {},
   "source": [
    "### Increment"
   ]
  },
  {
   "cell_type": "code",
   "execution_count": 26,
   "metadata": {
    "ExecuteTime": {
     "end_time": "2017-12-10T10:32:31.609004",
     "start_time": "2017-12-10T10:32:31.577440"
    }
   },
   "outputs": [],
   "source": [
    "alphabet = list('abcdefghijklmnopqrstuvwxyz')\n",
    "N = len(alphabet)\n",
    "\n",
    "def to_num(s):\n",
    "    return [ord(ch) - 97  for ch in list(s)]\n",
    "\n",
    "def to_char(n):\n",
    "    return ''.join([chr(int(d) + 97) for d in n])\n",
    "\n",
    "def num_increment(l):\n",
    "    if l[-1] == N - 1:\n",
    "        return(num_increment(l[:-1]) + [0])\n",
    "    else:\n",
    "        l[-1] += 1\n",
    "        return l\n",
    "\n",
    "def increment(s):\n",
    "    return to_char(num_increment(to_num(s)))"
   ]
  },
  {
   "cell_type": "markdown",
   "metadata": {},
   "source": [
    "### Password requirements"
   ]
  },
  {
   "cell_type": "code",
   "execution_count": 50,
   "metadata": {
    "ExecuteTime": {
     "end_time": "2017-12-10T10:52:21.159455",
     "start_time": "2017-12-10T10:52:21.127685"
    },
    "collapsed": true
   },
   "outputs": [],
   "source": [
    "def straight(s):\n",
    "    l = to_num(s)\n",
    "    for i in range(len(s[:-2])):\n",
    "        if l[i] == l[i + 1] - 1 == l[i + 2] - 2:\n",
    "            return True\n",
    "    return False\n",
    "\n",
    "def iol(s):\n",
    "    if ('i' in s) or ('l' in s) or ('o' in s):\n",
    "        return False\n",
    "    return True\n",
    "\n",
    "def non_overlapping(s):\n",
    "    i = 0\n",
    "    count = 0\n",
    "    while (i < len(s) - 1):\n",
    "        if s[i] == s[i + 1]:\n",
    "            count += 1\n",
    "            i += 2\n",
    "        else:\n",
    "            i += 1\n",
    "    return (count >= 2)"
   ]
  },
  {
   "cell_type": "markdown",
   "metadata": {},
   "source": [
    "### Next password finder"
   ]
  },
  {
   "cell_type": "code",
   "execution_count": 53,
   "metadata": {
    "ExecuteTime": {
     "end_time": "2017-12-10T10:56:25.972305",
     "start_time": "2017-12-10T10:56:25.955322"
    },
    "collapsed": true
   },
   "outputs": [],
   "source": [
    "def next_password(password):\n",
    "    p = increment(password)\n",
    "    while (not straight(p)) or (not iol(p)) or (not non_overlapping(p)):\n",
    "        p = increment(p)\n",
    "    return p"
   ]
  },
  {
   "cell_type": "markdown",
   "metadata": {},
   "source": [
    "### Test"
   ]
  },
  {
   "cell_type": "raw",
   "metadata": {
    "ExecuteTime": {
     "end_time": "2017-12-10T10:46:18.671239",
     "start_time": "2017-12-10T10:46:18.651390"
    }
   },
   "source": [
    "- hijklmmn meets the first requirement (because it contains the straight hij) \n",
    "  but fails the second requirement requirement (because it contains i and l).\n",
    "- abbceffg meets the third requirement (because it repeats bb and ff) but fails \n",
    "  the first requirement.\n",
    "- abbcegjk fails the third requirement, because it only has one double letter (bb).\n",
    "- The next password after abcdefgh is abcdffaa.\n",
    "- The next password after ghijklmn is ghjaabcc, because you eventually skip all the \n",
    "  passwords that start with ghi..., since i is not allowed."
   ]
  },
  {
   "cell_type": "code",
   "execution_count": 58,
   "metadata": {
    "ExecuteTime": {
     "end_time": "2017-12-10T10:59:32.801637",
     "start_time": "2017-12-10T10:59:32.777245"
    },
    "collapsed": true
   },
   "outputs": [],
   "source": [
    "def test():\n",
    "    p = 'hijklmmn'\n",
    "    assert(straight(p) and not iol(p))\n",
    "    p = 'abbceffg'\n",
    "    assert(non_overlapping(p) and not straight(p))\n",
    "    p = 'abbcegjk'\n",
    "    assert(not non_overlapping(p))\n",
    "    p = 'abcdefgh'\n",
    "    assert(next_password(p) == 'abcdffaa')\n",
    "    p = 'ghijklmn'\n",
    "    assert(next_password(p) == 'ghjaabcc')"
   ]
  },
  {
   "cell_type": "code",
   "execution_count": 59,
   "metadata": {
    "ExecuteTime": {
     "end_time": "2017-12-10T11:00:32.677764",
     "start_time": "2017-12-10T10:59:40.312771"
    }
   },
   "outputs": [
    {
     "name": "stdout",
     "output_type": "stream",
     "text": [
      "CPU times: user 52.4 s, sys: 0 ns, total: 52.4 s\n",
      "Wall time: 52.4 s\n"
     ]
    }
   ],
   "source": [
    "%%time\n",
    "test()"
   ]
  },
  {
   "cell_type": "markdown",
   "metadata": {},
   "source": [
    "### Solution"
   ]
  },
  {
   "cell_type": "code",
   "execution_count": 60,
   "metadata": {
    "ExecuteTime": {
     "end_time": "2017-12-10T11:02:17.800227",
     "start_time": "2017-12-10T11:02:15.939579"
    }
   },
   "outputs": [
    {
     "name": "stdout",
     "output_type": "stream",
     "text": [
      "CPU times: user 1.85 s, sys: 0 ns, total: 1.85 s\n",
      "Wall time: 1.85 s\n"
     ]
    },
    {
     "data": {
      "text/plain": [
       "'cqjxxyzz'"
      ]
     },
     "execution_count": 60,
     "metadata": {},
     "output_type": "execute_result"
    }
   ],
   "source": [
    "%%time\n",
    "next_password('cqjxjnds')"
   ]
  },
  {
   "cell_type": "markdown",
   "metadata": {},
   "source": [
    "## Day 11.2"
   ]
  },
  {
   "cell_type": "code",
   "execution_count": 61,
   "metadata": {
    "ExecuteTime": {
     "end_time": "2017-12-10T11:03:39.054659",
     "start_time": "2017-12-10T11:03:32.196195"
    }
   },
   "outputs": [
    {
     "name": "stdout",
     "output_type": "stream",
     "text": [
      "CPU times: user 6.85 s, sys: 0 ns, total: 6.85 s\n",
      "Wall time: 6.85 s\n"
     ]
    },
    {
     "data": {
      "text/plain": [
       "'cqkaabcc'"
      ]
     },
     "execution_count": 61,
     "metadata": {},
     "output_type": "execute_result"
    }
   ],
   "source": [
    "%%time\n",
    "next_password('cqjxxyzz')"
   ]
  }
 ],
 "metadata": {
  "kernelspec": {
   "display_name": "Python [conda env:adventofcode]",
   "language": "python",
   "name": "conda-env-adventofcode-py"
  },
  "language_info": {
   "codemirror_mode": {
    "name": "ipython",
    "version": 3
   },
   "file_extension": ".py",
   "mimetype": "text/x-python",
   "name": "python",
   "nbconvert_exporter": "python",
   "pygments_lexer": "ipython3",
   "version": "3.5.2"
  },
  "toc": {
   "colors": {
    "hover_highlight": "#DAA520",
    "running_highlight": "#FF0000",
    "selected_highlight": "#FFD700"
   },
   "moveMenuLeft": true,
   "nav_menu": {
    "height": "66px",
    "width": "252px"
   },
   "navigate_menu": true,
   "number_sections": true,
   "sideBar": true,
   "threshold": 4,
   "toc_cell": false,
   "toc_section_display": "block",
   "toc_window_display": false
  }
 },
 "nbformat": 4,
 "nbformat_minor": 2
}
