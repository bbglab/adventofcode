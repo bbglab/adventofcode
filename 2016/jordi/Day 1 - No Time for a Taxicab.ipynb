{
 "cells": [
  {
   "cell_type": "markdown",
   "metadata": {},
   "source": [
    "## Day 1: No Time for a Taxicab \n",
    "\n",
    "Santa's sleigh uses a very high-precision clock to guide its movements, and the clock's oscillator is regulated by stars. Unfortunately, the stars have been stolen... by the Easter Bunny. To save Christmas, Santa needs you to retrieve all fifty stars by December 25th.\n",
    "\n",
    "Collect stars by solving puzzles. Two puzzles will be made available on each day in the advent calendar; the second puzzle is unlocked when you complete the first. Each puzzle grants one star. Good luck!\n",
    "\n",
    "You're airdropped near Easter Bunny Headquarters in a city somewhere. \"Near\", unfortunately, is as close as you can get - the instructions on the Easter Bunny Recruiting Document the Elves intercepted start here, and nobody had time to work them out further.\n",
    "\n",
    "The Document indicates that you should start at the given coordinates (where you just landed) and face North. Then, follow the provided sequence: either turn left (L) or right (R) 90 degrees, then walk forward the given number of blocks, ending at a new intersection.\n",
    "\n",
    "There's no time to follow such ridiculous instructions on foot, though, so you take a moment and work out the destination. Given that you can only walk on the street grid of the city, how far is the shortest path to the destination?\n",
    "\n",
    "For example:\n",
    "\n",
    "Following R2, L3 leaves you 2 blocks East and 3 blocks North, or 5 blocks away.\n",
    "R2, R2, R2 leaves you 2 blocks due South of your starting position, which is 2 blocks away.\n",
    "R5, L5, R5, R3 leaves you 12 blocks away.\n",
    "How many blocks away is Easter Bunny HQ?"
   ]
  },
  {
   "cell_type": "code",
   "execution_count": 1,
   "metadata": {
    "collapsed": false
   },
   "outputs": [],
   "source": [
    "ORIENTATIONS = {\n",
    "    'N': {'L': 'W', 'R': 'E'},\n",
    "    'W': {'L': 'S', 'R': 'N'},\n",
    "    'S': {'L': 'E', 'R': 'W'},\n",
    "    'E': {'L': 'N', 'R': 'S'}\n",
    "}\n",
    "\n",
    "MOVEMENTS = {\n",
    "    'N': (1, 0),\n",
    "    'W': (0, -1),\n",
    "    'S': (-1, 0),\n",
    "    'E': (0, 1)\n",
    "}\n",
    "\n",
    "def onemove(position, orientation, direction):\n",
    "    next_orientation = ORIENTATIONS[orientation][direction[0]]\n",
    "    next_position = [a+int(direction[1:])*b for a,b in zip(position, MOVEMENTS[next_orientation])]\n",
    "    return next_orientation, next_position\n",
    "\n",
    "def blocksaway(directions):\n",
    "    position = [0, 0]\n",
    "    orientation = 'N'\n",
    "    for s in directions.split(','):\n",
    "        orientation, position = onemove(position, orientation, s.strip())\n",
    "        \n",
    "    return sum(abs(a) for a in position)        "
   ]
  },
  {
   "cell_type": "markdown",
   "metadata": {},
   "source": [
    "# Test examples"
   ]
  },
  {
   "cell_type": "code",
   "execution_count": 2,
   "metadata": {
    "collapsed": false
   },
   "outputs": [
    {
     "data": {
      "text/plain": [
       "5"
      ]
     },
     "execution_count": 2,
     "metadata": {},
     "output_type": "execute_result"
    }
   ],
   "source": [
    "blocksaway(\"R2, L3\")"
   ]
  },
  {
   "cell_type": "code",
   "execution_count": 3,
   "metadata": {
    "collapsed": false
   },
   "outputs": [
    {
     "data": {
      "text/plain": [
       "2"
      ]
     },
     "execution_count": 3,
     "metadata": {},
     "output_type": "execute_result"
    }
   ],
   "source": [
    "blocksaway(\"R2, R2, R2\")"
   ]
  },
  {
   "cell_type": "code",
   "execution_count": 4,
   "metadata": {
    "collapsed": false
   },
   "outputs": [
    {
     "data": {
      "text/plain": [
       "12"
      ]
     },
     "execution_count": 4,
     "metadata": {},
     "output_type": "execute_result"
    }
   ],
   "source": [
    "blocksaway(\"R5, L5, R5, R3\")"
   ]
  },
  {
   "cell_type": "markdown",
   "metadata": {},
   "source": [
    "# Process input"
   ]
  },
  {
   "cell_type": "code",
   "execution_count": 5,
   "metadata": {
    "collapsed": false
   },
   "outputs": [
    {
     "name": "stdout",
     "output_type": "stream",
     "text": [
      "Easter Bunny HQ is 291 blocks away\n"
     ]
    }
   ],
   "source": [
    "with open(\"inputs/day1a.txt\") as fd:\n",
    "    print(\"Easter Bunny HQ is {} blocks away\".format(blocksaway(fd.read())))"
   ]
  },
  {
   "cell_type": "markdown",
   "metadata": {},
   "source": [
    "## Part Two \n",
    "\n",
    "Then, you notice the instructions continue on the back of the Recruiting Document. Easter Bunny HQ is actually at the first location you visit twice.\n",
    "\n",
    "For example, if your instructions are R8, R4, R4, R8, the first location you visit twice is 4 blocks away, due East.\n",
    "\n",
    "How many blocks away is the first location you visit twice?"
   ]
  },
  {
   "cell_type": "code",
   "execution_count": 6,
   "metadata": {
    "collapsed": true
   },
   "outputs": [],
   "source": [
    "def firsttwice(directions):\n",
    "    positions = set()\n",
    "    position = (0, 0)\n",
    "    positions.add(position)\n",
    "    \n",
    "    orientation = 'N'\n",
    "    for s in directions.split(','):\n",
    "        orientation, next_position = onemove(position, orientation, s.strip())\n",
    "        \n",
    "        if next_position[0] == position[0]:\n",
    "            sign = -1 if next_position[1] < position[1] else 1 \n",
    "            range_positions = [(position[0], a+sign) for a in range(position[1], next_position[1], sign)]\n",
    "        else:\n",
    "            sign = -1 if next_position[0] < position[0] else 1\n",
    "            range_positions = [(a+sign, position[1]) for a in range(position[0], next_position[0], sign)]\n",
    "        \n",
    "        for position in range_positions:\n",
    "            if position in positions:\n",
    "                return sum(abs(a) for a in position)\n",
    "            \n",
    "            positions.add(position)\n",
    "            \n",
    "    return sum(abs(a) for a in position)"
   ]
  },
  {
   "cell_type": "code",
   "execution_count": 7,
   "metadata": {
    "collapsed": false
   },
   "outputs": [
    {
     "data": {
      "text/plain": [
       "4"
      ]
     },
     "execution_count": 7,
     "metadata": {},
     "output_type": "execute_result"
    }
   ],
   "source": [
    "# Test example\n",
    "firsttwice('R8, R4, R4, R8')"
   ]
  },
  {
   "cell_type": "code",
   "execution_count": 8,
   "metadata": {
    "collapsed": false
   },
   "outputs": [
    {
     "name": "stdout",
     "output_type": "stream",
     "text": [
      "Real Easter Bunny HQ is 159 blocks away\n"
     ]
    }
   ],
   "source": [
    "with open(\"inputs/day1a.txt\") as fd:\n",
    "    print(\"Real Easter Bunny HQ is {} blocks away\".format(firsttwice(fd.read())))    "
   ]
  },
  {
   "cell_type": "code",
   "execution_count": null,
   "metadata": {
    "collapsed": true
   },
   "outputs": [],
   "source": []
  }
 ],
 "metadata": {
  "anaconda-cloud": {},
  "kernelspec": {
   "display_name": "Python [conda env:adventofcode]",
   "language": "python",
   "name": "conda-env-adventofcode-py"
  },
  "language_info": {
   "codemirror_mode": {
    "name": "ipython",
    "version": 3
   },
   "file_extension": ".py",
   "mimetype": "text/x-python",
   "name": "python",
   "nbconvert_exporter": "python",
   "pygments_lexer": "ipython3",
   "version": "3.5.2"
  }
 },
 "nbformat": 4,
 "nbformat_minor": 1
}
