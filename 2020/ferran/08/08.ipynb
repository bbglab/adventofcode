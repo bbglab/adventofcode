{
 "cells": [
  {
   "cell_type": "markdown",
   "metadata": {},
   "source": [
    "# Day 8"
   ]
  },
  {
   "cell_type": "code",
   "execution_count": null,
   "metadata": {},
   "outputs": [],
   "source": [
    "! cat README.md"
   ]
  },
  {
   "cell_type": "code",
   "execution_count": null,
   "metadata": {},
   "outputs": [],
   "source": [
    "with open('input.txt', 'rt') as f:\n",
    "    lines = f.read().splitlines()\n",
    "\n",
    "def parse(w):\n",
    "    x, y = tuple(w.split(' '))\n",
    "    return (x, int(y[1:])) if y[0] == '+' else (x, (-1) * int(y[1:]))\n",
    "\n",
    "code = list(map(parse, lines))"
   ]
  },
  {
   "cell_type": "code",
   "execution_count": null,
   "metadata": {},
   "outputs": [],
   "source": [
    "def run(command, move, ind, acc):\n",
    "    \n",
    "    if command == 'acc':\n",
    "        return ind + 1, acc + move\n",
    "    elif command == 'jmp':\n",
    "        return ind + move, acc\n",
    "    elif command == 'nop':\n",
    "        return ind + 1, acc"
   ]
  },
  {
   "cell_type": "code",
   "execution_count": null,
   "metadata": {},
   "outputs": [],
   "source": [
    "ind, acc = 0, 0\n",
    "visited = []\n",
    "while ind not in visited:\n",
    "    visited.append(ind)\n",
    "    command, move = code[ind]\n",
    "    ind, acc = run(command, move, ind, acc)\n",
    "acc"
   ]
  },
  {
   "cell_type": "raw",
   "metadata": {},
   "source": [
    "--- Part Two ---\n",
    "After some careful analysis, you believe that exactly one instruction is corrupted.\n",
    "\n",
    "Somewhere in the program, either a jmp is supposed to be a nop, or a nop is supposed to be a jmp. (No acc instructions were harmed in the corruption of this boot code.)\n",
    "\n",
    "The program is supposed to terminate by attempting to execute an instruction immediately after the last instruction in the file. By changing exactly one jmp or nop, you can repair the boot code and make it terminate correctly.\n",
    "\n",
    "For example, consider the same program from above:\n",
    "\n",
    "nop +0\n",
    "acc +1\n",
    "jmp +4\n",
    "acc +3\n",
    "jmp -3\n",
    "acc -99\n",
    "acc +1\n",
    "jmp -4\n",
    "acc +6\n",
    "If you change the first instruction from nop +0 to jmp +0, it would create a single-instruction infinite loop, never leaving that instruction. If you change almost any of the jmp instructions, the program will still eventually find another jmp instruction and loop forever.\n",
    "\n",
    "However, if you change the second-to-last instruction (from jmp -4 to nop -4), the program terminates! The instructions are visited in this order:\n",
    "\n",
    "nop +0  | 1\n",
    "acc +1  | 2\n",
    "jmp +4  | 3\n",
    "acc +3  |\n",
    "jmp -3  |\n",
    "acc -99 |\n",
    "acc +1  | 4\n",
    "nop -4  | 5\n",
    "acc +6  | 6\n",
    "After the last instruction (acc +6), the program terminates by attempting to run the instruction below the last instruction in the file. With this change, after the program terminates, the accumulator contains the value 8 (acc +1, acc +1, acc +6).\n",
    "\n",
    "Fix the program so that it terminates normally by changing exactly one jmp (to nop) or nop (to jmp). What is the value of the accumulator after the program terminates?"
   ]
  },
  {
   "cell_type": "code",
   "execution_count": null,
   "metadata": {},
   "outputs": [],
   "source": [
    "def switch(command):\n",
    "    return 'jmp' if (command == 'nop') else ('nop' if command == 'jmp' else command)\n",
    "\n",
    "jmp_nop = [i for i, (command, move) in enumerate(code) if command in ['jmp', 'nop']]\n",
    "\n",
    "def code_generator(template):\n",
    "    for i in jmp_nop:\n",
    "        command, move = code[i]\n",
    "        new_code = [x if j != i else (switch(command), move) for j, x in enumerate(template)]\n",
    "        yield new_code"
   ]
  },
  {
   "cell_type": "code",
   "execution_count": null,
   "metadata": {},
   "outputs": [],
   "source": [
    "gen = code_generator(code)\n",
    "while True:\n",
    "    new_code = next(gen)\n",
    "    ind, acc = 0, 0\n",
    "    visited = []\n",
    "    while (ind < len(code)) and (ind not in visited):\n",
    "        visited.append(ind)\n",
    "        command, move = new_code[ind]\n",
    "        ind, acc = run(command, move, ind, acc)\n",
    "    if ind in visited:\n",
    "        continue\n",
    "    if ind == len(code):\n",
    "        break\n",
    "acc"
   ]
  }
 ],
 "metadata": {
  "kernelspec": {
   "display_name": "Python [conda env:stats_env]",
   "language": "python",
   "name": "conda-env-stats_env-py"
  },
  "language_info": {
   "codemirror_mode": {
    "name": "ipython",
    "version": 3
   },
   "file_extension": ".py",
   "mimetype": "text/x-python",
   "name": "python",
   "nbconvert_exporter": "python",
   "pygments_lexer": "ipython3",
   "version": "3.7.6"
  }
 },
 "nbformat": 4,
 "nbformat_minor": 2
}
