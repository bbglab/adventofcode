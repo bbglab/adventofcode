{
 "cells": [
  {
   "cell_type": "markdown",
   "metadata": {},
   "source": [
    "<h3>Day 1 - Part 1</h3>"
   ]
  },
  {
   "cell_type": "code",
   "execution_count": 3,
   "metadata": {
    "collapsed": false
   },
   "outputs": [
    {
     "name": "stdout",
     "output_type": "stream",
     "text": [
      "262\n"
     ]
    }
   ],
   "source": [
    "%%perl\n",
    "\n",
    "# perl version\n",
    "\n",
    "use strict;\n",
    "\n",
    "my $input=\"R3, L2, L2, R4, L1, R2, R3, R4, L2, R4, L2, L5, L1, R5, R2, R2, L1, R4, R1, L5, L3, R4, R3, R1, L1, L5, L4, L2, R5, L3, L4, R3, R1, L3, R1, L3, R3, L4, R2, R5, L190, R2, L3, R47, R4, L3, R78, L1, R3, R190, R4, L3, R4, R2, R5, R3, R4, R3, L1, L4, R3, L4, R1, L4, L5, R3, L3, L4, R1, R2, L4, L3, R3, R3, L2, L5, R1, L4, L1, R5, L5, R1, R5, L4, R2, L2, R1, L5, L4, R4, R4, R3, R2, R3, L1, R4, R5, L2, L5, L4, L1, R4, L4, R4, L4, R1, R5, L1, R1, L5, R5, R1, R1, L3, L1, R4, L1, L4, L4, L3, R1, R4, R1, R1, R2, L5, L2, R4, L1, R3, L5, L2, R5, L4, R5, L5, R3, R4, L3, L3, L2, R2, L5, L5, R3, R4, R3, R4, R3, R1\";\n",
    "\n",
    "my %sign=qw(NR 1 NL -1 SR -1 SL 1 ER -1 EL 1 WL -1 WR 1);\n",
    "my %direction=qw(NR E NL W SR W SL E ER S EL N WR N WL S);\n",
    "\n",
    "$input=~s/\\s+//g;\n",
    "my @pp=split(\",\", $input);\n",
    "my $cdir=\"N\"; # start direction\n",
    "my $x=0; # current x-co-ordinate\n",
    "my $y=0; # current y-co-ordinate\n",
    "for(my $i=0;$i<scalar(@pp);$i++)\n",
    "{\n",
    "  my $val=$pp[$i];\n",
    "  my $char=substr($val,0,1);\n",
    "  my $block = substr($val,1);\n",
    "  \n",
    "  my $dir=$direction{\"$cdir$char\"};\n",
    "  \n",
    "  my $symbol;\n",
    "  $symbol=$sign{\"$cdir$char\"}; \n",
    " \n",
    "  # change x co-ordinate \n",
    "  if(\"$cdir$char\"=~/(NR|NL|SL|SR)/)\n",
    "  { $x+=($block*$symbol); }\n",
    "\n",
    "  # change y co-ordinate \n",
    "  else\n",
    "  { $y+=($block*$symbol); }\n",
    " \n",
    "  $cdir=$dir; # save the previous direction\n",
    "}\n",
    "my $total=abs($x)+abs($y);\n",
    "print $total,\"\\n\";"
   ]
  },
  {
   "cell_type": "code",
   "execution_count": 4,
   "metadata": {
    "collapsed": false
   },
   "outputs": [
    {
     "name": "stdout",
     "output_type": "stream",
     "text": [
      "262\n"
     ]
    }
   ],
   "source": [
    "#python version\n",
    "\n",
    "input_line=\"R3, L2, L2, R4, L1, R2, R3, R4, L2, R4, L2, L5, L1, R5, R2, R2, L1, R4, R1, L5, L3, R4, R3, R1, L1, L5, L4, L2, R5, L3, L4, R3, R1, L3, R1, L3, R3, L4, R2, R5, L190, R2, L3, R47, R4, L3, R78, L1, R3, R190, R4, L3, R4, R2, R5, R3, R4, R3, L1, L4, R3, L4, R1, L4, L5, R3, L3, L4, R1, R2, L4, L3, R3, R3, L2, L5, R1, L4, L1, R5, L5, R1, R5, L4, R2, L2, R1, L5, L4, R4, R4, R3, R2, R3, L1, R4, R5, L2, L5, L4, L1, R4, L4, R4, L4, R1, R5, L1, R1, L5, R5, R1, R1, L3, L1, R4, L1, L4, L4, L3, R1, R4, R1, R1, R2, L5, L2, R4, L1, R3, L5, L2, R5, L4, R5, L5, R3, R4, L3, L3, L2, R2, L5, L5, R3, R4, R3, R4, R3, R1\"\n",
    "\n",
    "pp = input_line.split(\", \")\n",
    "\n",
    "sign={'NR':1, 'NL':-1, 'SR':-1, 'SL':1, 'ER':-1, 'EL':1, 'WL':-1, 'WR':1}\n",
    "direction={'NR':'E', 'NL':'W', 'SR':'W', 'SL':'E', 'ER':'S', 'EL':'N', 'WR':'N', 'WL':'S'}\n",
    "\n",
    "cdir=\"N\"; # start direction\n",
    "x=0; # current x-co-ordinate\n",
    "y=0; # current y-co-ordinate\n",
    "for val in pp:\n",
    "\n",
    "    char = val[0]\n",
    "    block = int(val[1:])\n",
    "  \n",
    "    pdir = direction[\"%s%s\" % (cdir,char) ]\n",
    "    symbol=sign[\"%s%s\" % (cdir,char) ]\n",
    " \n",
    "    # change x co-ordinate \n",
    "    if \"%s%s\" % (cdir,char) in [ 'NR', 'NL', 'SL', 'SR']:\n",
    "        x += block*symbol\n",
    "\n",
    "    # change y co-ordinate \n",
    "    else:\n",
    "        y += block*symbol\n",
    " \n",
    "    cdir=pdir; # save the previous direction\n",
    "\n",
    "total=abs(x)+abs(y)\n",
    "print(total)"
   ]
  },
  {
   "cell_type": "code",
   "execution_count": null,
   "metadata": {
    "collapsed": true
   },
   "outputs": [],
   "source": []
  }
 ],
 "metadata": {
  "anaconda-cloud": {},
  "kernelspec": {
   "display_name": "Python [conda env:adventofcode]",
   "language": "python",
   "name": "conda-env-adventofcode-py"
  },
  "language_info": {
   "codemirror_mode": {
    "name": "ipython",
    "version": 3
   },
   "file_extension": ".py",
   "mimetype": "text/x-python",
   "name": "python",
   "nbconvert_exporter": "python",
   "pygments_lexer": "ipython3",
   "version": "3.5.2"
  }
 },
 "nbformat": 4,
 "nbformat_minor": 1
}
