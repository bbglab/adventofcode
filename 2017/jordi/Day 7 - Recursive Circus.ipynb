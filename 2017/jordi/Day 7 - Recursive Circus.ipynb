{
 "cells": [
  {
   "cell_type": "markdown",
   "metadata": {},
   "source": [
    "# Part 1"
   ]
  },
  {
   "cell_type": "code",
   "execution_count": 1,
   "metadata": {},
   "outputs": [
    {
     "data": {
      "text/plain": [
       "read_tree (generic function with 1 method)"
      ]
     },
     "execution_count": 1,
     "metadata": {},
     "output_type": "execute_result"
    }
   ],
   "source": [
    "function read_tree(input_file)\n",
    "    open(input_file) do fd\n",
    "        fathers = Dict()\n",
    "        weights = Dict()\n",
    "        for line in eachline(fd)\n",
    "            name, weight, haschildren, children = match(r\"([a-z]+) \\(([0-9]+)\\)( -> )?([a-z, ]*)\", line).captures        \n",
    "\n",
    "            weights[name] = parse(Int32, weight)\n",
    "            if !haskey(fathers, name)\n",
    "                fathers[name] = nothing\n",
    "            end        \n",
    "            if haschildren != nothing\n",
    "                for child in split(children, \", \")\n",
    "                    fathers[child] = name\n",
    "                end\n",
    "            end\n",
    "        end\n",
    "\n",
    "        for (name, father) in fathers\n",
    "            if father == nothing\n",
    "                return weights, fathers, name\n",
    "            end\n",
    "        end\n",
    "    end\n",
    "end"
   ]
  },
  {
   "cell_type": "code",
   "execution_count": 2,
   "metadata": {},
   "outputs": [
    {
     "name": "stdout",
     "output_type": "stream",
     "text": [
      "This is the bottom: mwzaxaj\n"
     ]
    }
   ],
   "source": [
    "w, f, bottom = read_tree(\"inputs/day7.txt\")\n",
    "println(\"This is the bottom: \", bottom)"
   ]
  },
  {
   "cell_type": "markdown",
   "metadata": {},
   "source": [
    "# Part 2"
   ]
  },
  {
   "cell_type": "code",
   "execution_count": 3,
   "metadata": {},
   "outputs": [
    {
     "data": {
      "text/plain": [
       "missing_weight (generic function with 1 method)"
      ]
     },
     "execution_count": 3,
     "metadata": {},
     "output_type": "execute_result"
    }
   ],
   "source": [
    "using DataStructures\n",
    "\n",
    "function missing_weight(weights, fathers, name)\n",
    "    \n",
    "    children = [child for (child, father) in fathers if father == name]\n",
    "    children_weights = map(n -> missing_weight(weights, fathers, n), children)\n",
    "                \n",
    "    c = counter(children_weights)\n",
    "    if length(c)>1\n",
    "                    \n",
    "        if length(c) != 2\n",
    "            error(\"There are more than one unbalanced towers\")\n",
    "        end\n",
    "                            \n",
    "        un_weight = collect(keys(c))[indmin(collect(values(c)))]\n",
    "        bl_weight = collect(keys(c))[indmax(collect(values(c)))]\n",
    "        un_child = children[findfirst(children_weights, un_weight)]\n",
    "        \n",
    "        println(\"Unbalanced: '\", un_child, \"' it has to weight \", weights[un_child] + (bl_weight - un_weight))\n",
    "        throw(InterruptException())\n",
    "    end\n",
    "    \n",
    "    weights[name] + (length(children_weights)>0?sum(children_weights):0)\n",
    "end"
   ]
  },
  {
   "cell_type": "code",
   "execution_count": 4,
   "metadata": {},
   "outputs": [
    {
     "name": "stdout",
     "output_type": "stream",
     "text": [
      "Unbalanced: 'vrgxe' it has to weight 1219\n"
     ]
    }
   ],
   "source": [
    "try\n",
    "    missing_weight(w, f, bottom)\n",
    "catch InterruptException\n",
    "end"
   ]
  },
  {
   "cell_type": "code",
   "execution_count": null,
   "metadata": {
    "collapsed": true
   },
   "outputs": [],
   "source": []
  }
 ],
 "metadata": {
  "kernelspec": {
   "display_name": "Julia 0.6.1",
   "language": "julia",
   "name": "julia-0.6"
  },
  "language_info": {
   "file_extension": ".jl",
   "mimetype": "application/julia",
   "name": "julia",
   "version": "0.6.1"
  }
 },
 "nbformat": 4,
 "nbformat_minor": 2
}
