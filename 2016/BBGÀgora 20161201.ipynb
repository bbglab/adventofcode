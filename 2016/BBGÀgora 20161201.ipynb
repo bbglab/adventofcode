{
 "cells": [
  {
   "cell_type": "markdown",
   "metadata": {
    "nbpresent": {
     "id": "c5b19389-0ea8-4503-9984-85c068082f4c"
    }
   },
   "source": [
    "## BBGÀgora - Advent of code"
   ]
  },
  {
   "cell_type": "markdown",
   "metadata": {
    "nbpresent": {
     "id": "7321387a-bbf2-4636-a5b7-45b8d9b73d64"
    }
   },
   "source": [
    "- Install conda\n",
    "- Add conda channels\n",
    "- Install jupyter notebook\n",
    "- Create a conda environment\n",
    "- Register to github\n",
    "- Clone a github repository\n",
    "- Register to Advent of Code\n",
    "- Add a new folder and create your notebook\n",
    "\n",
    "- Python list comprehension\n",
    "- Python iterables and iterators\n",
    "- Python generators\n",
    "- Usage of CSV and ZIP python package to manipulate big TSV files\n",
    "- Fast (and beautiful) command line creation"
   ]
  },
  {
   "cell_type": "markdown",
   "metadata": {
    "nbpresent": {
     "id": "3123a3e5-1b8c-45e6-bebe-97b98d3b38ac"
    }
   },
   "source": [
    "# Anaconda distribution\n",
    "\n",
    "Conda is a package managment system. It's language agnostic, you can install Python, R and many other tools.\n",
    "\n",
    "### Tabix\n",
    "```\n",
    "   conda create -n tabix -c bioconda htslib\n",
    "```\n",
    "\n",
    "### Bedtools\n",
    "\n",
    "```\n",
    "   conda create -n bedtools -c bioconda bedtools\n",
    "```\n",
    "\n",
    "### R\n",
    "\n",
    "```\n",
    "   conda create -n r -c r r\n",
    "```"
   ]
  },
  {
   "cell_type": "markdown",
   "metadata": {
    "nbpresent": {
     "id": "b729e50c-9b63-4ace-b63a-f8a9d717c5af"
    }
   },
   "source": [
    "# What is a conda \"channel\"?\n",
    "It's a repository of conda packages\n",
    "\n",
    "Check your channels:\n",
    "\n",
    "```\n",
    "conda config --show\n",
    "```\n",
    "\n",
    "Check this URL:\n",
    "https://bioconda.github.io/\n",
    "\n",
    "```\n",
    "conda config --add channels conda-forge\n",
    "conda config --add channels defaults\n",
    "conda config --add channels r\n",
    "conda config --add channels bioconda\n",
    "conda config --add channels bbglab\n",
    "``` "
   ]
  },
  {
   "cell_type": "markdown",
   "metadata": {
    "nbpresent": {
     "id": "a6517c30-7988-4a93-99ab-c3f4f352fed6"
    }
   },
   "source": [
    "# What is a conda \"environment\"?\n",
    "\n",
    "It's only a change on the PATH\n",
    "\n",
    "```\n",
    "echo $PATH\n",
    "source activate tabix\n",
    "echo $PATH\n",
    "\n",
    "ll ~/anaconda3/envs/tabix\n",
    "\n",
    "```"
   ]
  },
  {
   "cell_type": "markdown",
   "metadata": {
    "nbpresent": {
     "id": "d14a1e37-1b9a-45bd-8774-aa9a6e4d568a"
    }
   },
   "source": [
    "# Github\n",
    "\n",
    "- Register to github\n",
    "- Add your RSA public key to settings `cat ~/.ssh/id_rsa.pub` (If you don't have RSA key run first `ssh-keygen`)\n",
    "- Clone advent of code repository somewhere `git clone git@github.com:bbglab/adventofcode.git`"
   ]
  },
  {
   "cell_type": "markdown",
   "metadata": {
    "nbpresent": {
     "id": "c68c2c5a-123b-4de3-894c-69e0300962a8"
    }
   },
   "source": [
    " # What is a RSA public-private key?\n",
    " \n",
    " ![public key](https://upload.wikimedia.org/wikipedia/commons/thumb/f/f9/Public_key_encryption.svg/250px-Public_key_encryption.svg.png)"
   ]
  },
  {
   "cell_type": "markdown",
   "metadata": {
    "nbpresent": {
     "id": "249d6afa-f14d-4f1d-b346-92c992c07ece"
    }
   },
   "source": [
    "# What is a Git repository?\n",
    "\n",
    "\n",
    "```\n",
    "ll .git\n",
    "git log\n",
    "ll .git/objects/7d\n",
    "```\n",
    "\n",
    "![git](https://i.stack.imgur.com/2HRWl.png)"
   ]
  },
  {
   "cell_type": "markdown",
   "metadata": {
    "nbpresent": {
     "id": "5ab48800-d03e-42a8-b73c-86ddbb4f8ef7"
    }
   },
   "source": [
    "# Jupyter notebook\n",
    "\n",
    "Check that you have jupyter notebook installed at the \"root\" environment\n",
    "\n",
    "```\n",
    "conda install jupyter notebook\n",
    "```\n",
    "\n",
    "Create an environment for the Advent of Code project\n",
    "\n",
    "```\n",
    "conda create -n adventofcode python=3.5 ipykernel\n",
    "```\n",
    "\n",
    "Create a folder like:\n",
    "```\n",
    "mkdir 2016/jordi\n",
    "``` \n",
    "\n",
    "Run jupyter notebook\n",
    "```\n",
    "jupyter notebook\n",
    "```"
   ]
  },
  {
   "cell_type": "markdown",
   "metadata": {
    "nbpresent": {
     "id": "ac5b44c6-8da0-41e6-bd83-6787f712c346"
    }
   },
   "source": [
    "# What is a Jupyter Kernel?\n",
    "\n",
    "It's an independent process with his own environment variables.\n",
    "\n",
    "Start some notebooks and check the running processes\n",
    "\n",
    "```\n",
    "ps -AF | grep kernel\n",
    "```"
   ]
  },
  {
   "cell_type": "markdown",
   "metadata": {
    "nbpresent": {
     "id": "be14d128-2779-477f-b406-46fb3c1c3943"
    }
   },
   "source": [
    "# Python list comprehension\n",
    "\n",
    "List comprehensions are a tool for transforming one list (any iterable actually) into another list. During this transformation, elements can be conditionally included in the new list and each element can be transformed as needed."
   ]
  },
  {
   "cell_type": "code",
   "execution_count": 6,
   "metadata": {
    "collapsed": false,
    "nbpresent": {
     "id": "d6dcafef-469a-4f0f-b3a7-3861c9bf96de"
    }
   },
   "outputs": [
    {
     "data": {
      "text/plain": [
       "[2, 6, 10, 14, 18]"
      ]
     },
     "execution_count": 6,
     "metadata": {},
     "output_type": "execute_result"
    }
   ],
   "source": [
    "[n * 2 for n in range(10) if n % 2 == 1]"
   ]
  },
  {
   "cell_type": "code",
   "execution_count": 7,
   "metadata": {
    "collapsed": false,
    "nbpresent": {
     "id": "22df07a7-7e0c-469d-a366-4e17015f92b2"
    }
   },
   "outputs": [
    {
     "data": {
      "text/plain": [
       "{1: 2, 3: 6, 5: 10, 7: 14, 9: 18}"
      ]
     },
     "execution_count": 7,
     "metadata": {},
     "output_type": "execute_result"
    }
   ],
   "source": [
    "# Also a dict\n",
    "{n: n * 2 for n in range(10) if n % 2 == 1}"
   ]
  },
  {
   "cell_type": "code",
   "execution_count": 10,
   "metadata": {
    "collapsed": false,
    "nbpresent": {
     "id": "a2c83aaa-ba17-40d1-8f98-efabc58d58de"
    }
   },
   "outputs": [
    {
     "data": {
      "text/plain": [
       "{2, 6, 10, 14, 18}"
      ]
     },
     "execution_count": 10,
     "metadata": {},
     "output_type": "execute_result"
    }
   ],
   "source": [
    "# Or a set\n",
    "{n * 2 for n in range(10) if n % 2 == 1}"
   ]
  },
  {
   "cell_type": "markdown",
   "metadata": {
    "nbpresent": {
     "id": "a2dc7cb0-8116-4904-bcd9-1120beb41b7d"
    }
   },
   "source": [
    "# Python iterables and iterators"
   ]
  },
  {
   "cell_type": "code",
   "execution_count": 11,
   "metadata": {
    "collapsed": false,
    "nbpresent": {
     "id": "e52f48f2-e723-455a-b73a-e6af621bf3fe"
    }
   },
   "outputs": [
    {
     "name": "stdout",
     "output_type": "stream",
     "text": [
      "1\n",
      "2\n",
      "3\n"
     ]
    }
   ],
   "source": [
    "# ITERABLE: Anything that you can use in a for is an iterable\n",
    "for a in [1,2,3]:\n",
    "    print(a)"
   ]
  },
  {
   "cell_type": "code",
   "execution_count": 14,
   "metadata": {
    "collapsed": false,
    "nbpresent": {
     "id": "69cfbec8-7c67-4041-94b2-b76697304bb2"
    }
   },
   "outputs": [
    {
     "name": "stdout",
     "output_type": "stream",
     "text": [
      "1\n",
      "2\n",
      "3\n"
     ]
    }
   ],
   "source": [
    "# ITERATOR: A iteration of an iterable\n",
    "list_iterator = iter([1,2,3])\n",
    "print(next(list_iterator))\n",
    "print(next(list_iterator))\n",
    "print(next(list_iterator))"
   ]
  },
  {
   "cell_type": "code",
   "execution_count": 15,
   "metadata": {
    "collapsed": false,
    "nbpresent": {
     "id": "c7209117-e4ec-432c-8233-ce45f98e7ac6"
    }
   },
   "outputs": [
    {
     "name": "stdout",
     "output_type": "stream",
     "text": [
      "1\n",
      "2\n",
      "3\n"
     ]
    },
    {
     "ename": "StopIteration",
     "evalue": "",
     "output_type": "error",
     "traceback": [
      "\u001b[0;31m---------------------------------------------------------------------------\u001b[0m",
      "\u001b[0;31mStopIteration\u001b[0m                             Traceback (most recent call last)",
      "\u001b[0;32m<ipython-input-15-11a54e9f9f0b>\u001b[0m in \u001b[0;36m<module>\u001b[0;34m()\u001b[0m\n\u001b[1;32m      3\u001b[0m \u001b[0mprint\u001b[0m\u001b[0;34m(\u001b[0m\u001b[0mnext\u001b[0m\u001b[0;34m(\u001b[0m\u001b[0mlist_iterator\u001b[0m\u001b[0;34m)\u001b[0m\u001b[0;34m)\u001b[0m\u001b[0;34m\u001b[0m\u001b[0m\n\u001b[1;32m      4\u001b[0m \u001b[0mprint\u001b[0m\u001b[0;34m(\u001b[0m\u001b[0mnext\u001b[0m\u001b[0;34m(\u001b[0m\u001b[0mlist_iterator\u001b[0m\u001b[0;34m)\u001b[0m\u001b[0;34m)\u001b[0m\u001b[0;34m\u001b[0m\u001b[0m\n\u001b[0;32m----> 5\u001b[0;31m \u001b[0mprint\u001b[0m\u001b[0;34m(\u001b[0m\u001b[0mnext\u001b[0m\u001b[0;34m(\u001b[0m\u001b[0mlist_iterator\u001b[0m\u001b[0;34m)\u001b[0m\u001b[0;34m)\u001b[0m\u001b[0;34m\u001b[0m\u001b[0m\n\u001b[0m",
      "\u001b[0;31mStopIteration\u001b[0m: "
     ]
    }
   ],
   "source": [
    "list_iterator = iter([1,2,3])\n",
    "print(next(list_iterator))\n",
    "print(next(list_iterator))\n",
    "print(next(list_iterator))\n",
    "print(next(list_iterator))"
   ]
  },
  {
   "cell_type": "markdown",
   "metadata": {
    "nbpresent": {
     "id": "12105808-1fd5-419f-84ba-5a5f91ba6eed"
    }
   },
   "source": [
    "# Python generators"
   ]
  },
  {
   "cell_type": "code",
   "execution_count": 19,
   "metadata": {
    "collapsed": false,
    "nbpresent": {
     "id": "c900c2fe-f464-46bf-990a-65c5a80707c5"
    }
   },
   "outputs": [
    {
     "data": {
      "text/plain": [
       "[2, 6, 10, 14, 18]"
      ]
     },
     "execution_count": 19,
     "metadata": {},
     "output_type": "execute_result"
    }
   ],
   "source": [
    "[n * 2 for n in range(10) if n % 2 == 1]"
   ]
  },
  {
   "cell_type": "code",
   "execution_count": 20,
   "metadata": {
    "collapsed": false,
    "nbpresent": {
     "id": "af00d1e1-ab69-4ffe-9717-1b2a03ee37df"
    }
   },
   "outputs": [
    {
     "data": {
      "text/plain": [
       "<generator object <genexpr> at 0x7f18904e5f10>"
      ]
     },
     "execution_count": 20,
     "metadata": {},
     "output_type": "execute_result"
    }
   ],
   "source": [
    "# Convert a list comprehension to a generator comprehension\n",
    "generator = (n * 2 for n in range(10) if n % 2 == 1)\n",
    "generator"
   ]
  },
  {
   "cell_type": "code",
   "execution_count": 21,
   "metadata": {
    "collapsed": false,
    "nbpresent": {
     "id": "507706d9-af5f-40ce-846b-1480a4714281"
    }
   },
   "outputs": [
    {
     "data": {
      "text/plain": [
       "2"
      ]
     },
     "execution_count": 21,
     "metadata": {},
     "output_type": "execute_result"
    }
   ],
   "source": [
    "iterator = iter(generator)\n",
    "next(iterator)"
   ]
  },
  {
   "cell_type": "code",
   "execution_count": 22,
   "metadata": {
    "collapsed": true,
    "nbpresent": {
     "id": "50ff8fbc-fd8a-415c-82e6-f2ff070f7e72"
    }
   },
   "outputs": [],
   "source": [
    "def odd_double(size=10):\n",
    "    for n in range(size):\n",
    "        if n % 2 == 1:\n",
    "            yield n*2    "
   ]
  },
  {
   "cell_type": "code",
   "execution_count": 24,
   "metadata": {
    "collapsed": false,
    "nbpresent": {
     "id": "d3a12e6a-f0b9-41b7-b4b7-eecfa75272b6"
    }
   },
   "outputs": [
    {
     "data": {
      "text/plain": [
       "2"
      ]
     },
     "execution_count": 24,
     "metadata": {},
     "output_type": "execute_result"
    }
   ],
   "source": [
    "generator = odd_double()\n",
    "iterator = iter(generator)\n",
    "next(iterator)"
   ]
  },
  {
   "cell_type": "code",
   "execution_count": 26,
   "metadata": {
    "collapsed": false,
    "nbpresent": {
     "id": "49410f27-afb7-4a2d-b881-0880d74f57d8"
    }
   },
   "outputs": [
    {
     "data": {
      "text/plain": [
       "[2, 6, 10, 14, 18, 22, 26]"
      ]
     },
     "execution_count": 26,
     "metadata": {},
     "output_type": "execute_result"
    }
   ],
   "source": [
    "list(odd_double(15))"
   ]
  },
  {
   "cell_type": "markdown",
   "metadata": {
    "nbpresent": {
     "id": "36660483-e3ff-41d2-bf8e-76bd778c4a00"
    }
   },
   "source": [
    "# Manage big tsv files\n",
    "\n"
   ]
  },
  {
   "cell_type": "code",
   "execution_count": 1,
   "metadata": {
    "collapsed": false,
    "nbpresent": {
     "id": "f259e756-c7fe-427b-aa0d-1fd32844444f"
    }
   },
   "outputs": [],
   "source": [
    "import bgdata, csv, gzip, os, pandas\n",
    "from pprint import pprint\n",
    "\n",
    "domains = os.path.expanduser('~/tmp/domains.tsv.gz')\n",
    "# If you want to test use this: \n",
    "# domains = os.path.join(bgdata.get_path('tcgi', 'oncodrivemut', '1.1'), 'ensembl75_pfam_domain_coordinates.tsv.gz')"
   ]
  },
  {
   "cell_type": "code",
   "execution_count": 2,
   "metadata": {
    "collapsed": false,
    "nbpresent": {
     "id": "f41e845f-fd70-40c7-8276-fca2e1c3a1e8"
    }
   },
   "outputs": [
    {
     "name": "stdout",
     "output_type": "stream",
     "text": [
      "[{'Ensembl Gene ID': 'ENSG00000261258',\n",
      "  'Ensembl Transcript ID': 'ENST00000566592',\n",
      "  'HGNC symbol': 'FKBP10',\n",
      "  'Pfam ID': 'PF13202',\n",
      "  'Pfam domain': 'EF-hand_5',\n",
      "  'Pfam end': 456.0,\n",
      "  'Pfam start': 437.0}]\n",
      "\n",
      "\n",
      "CPU times: user 8.34 s, sys: 168 ms, total: 8.5 s\n",
      "Wall time: 8.51 s\n"
     ]
    }
   ],
   "source": [
    "%%time\n",
    "df = pandas.read_csv(domains, sep='\\t')\n",
    "result = df[df['Ensembl Gene ID'] == 'ENSG00000261258'].head(1).to_dict(orient='records')\n",
    "pprint(result)\n",
    "print('\\n')"
   ]
  },
  {
   "cell_type": "code",
   "execution_count": 5,
   "metadata": {
    "collapsed": false,
    "nbpresent": {
     "id": "a4b766f5-9606-4b45-9e70-f36fdca1acc4"
    }
   },
   "outputs": [
    {
     "name": "stdout",
     "output_type": "stream",
     "text": [
      "{'Ensembl Gene ID': 'ENSG00000261258',\n",
      " 'Ensembl Transcript ID': 'ENST00000566592',\n",
      " 'HGNC symbol': 'FKBP10',\n",
      " 'Pfam ID': 'PF13202',\n",
      " 'Pfam domain': 'EF-hand_5',\n",
      " 'Pfam end': '456.0',\n",
      " 'Pfam start': '437.0'}\n",
      "\n",
      "\n",
      "CPU times: user 4 ms, sys: 0 ns, total: 4 ms\n",
      "Wall time: 3.44 ms\n"
     ]
    }
   ],
   "source": [
    "%%time\n",
    "with gzip.open(domains, 'rt') as fd:\n",
    "    for r in csv.DictReader(fd, delimiter='\\t'):\n",
    "        if r['Ensembl Gene ID'] == 'ENSG00000261258':\n",
    "            pprint(r)\n",
    "            print('\\n')\n",
    "            break"
   ]
  },
  {
   "cell_type": "code",
   "execution_count": 8,
   "metadata": {
    "collapsed": false,
    "nbpresent": {
     "id": "2944e4ac-95da-472f-8515-d07851eed9d1"
    }
   },
   "outputs": [
    {
     "name": "stdout",
     "output_type": "stream",
     "text": [
      "{'Ensembl Gene ID': 'ENSG00000261258',\n",
      " 'Ensembl Transcript ID': 'ENST00000566592',\n",
      " 'HGNC symbol': 'FKBP10',\n",
      " 'Pfam ID': 'PF13202',\n",
      " 'Pfam domain': 'EF-hand_5',\n",
      " 'Pfam end': '456.0',\n",
      " 'Pfam start': '437.0'}\n",
      "\n",
      "\n",
      "CPU times: user 4 ms, sys: 0 ns, total: 4 ms\n",
      "Wall time: 2.58 ms\n"
     ]
    }
   ],
   "source": [
    "%%time\n",
    "with gzip.open(domains, 'rt') as fd:\n",
    "    reader = csv.reader(fd, delimiter='\\t')\n",
    "    header = next(reader)\n",
    "    for r in reader:\n",
    "        if r[0] == 'ENSG00000261258':\n",
    "            pprint({h: v for h,v in zip(header, r)})\n",
    "            print('\\n')\n",
    "            break"
   ]
  },
  {
   "cell_type": "code",
   "execution_count": 9,
   "metadata": {
    "collapsed": false,
    "nbpresent": {
     "id": "55611235-681d-49d9-837e-998e32c32be5"
    }
   },
   "outputs": [
    {
     "name": "stdout",
     "output_type": "stream",
     "text": [
      "{'Ensembl Gene ID': 'ENSG00000261258',\n",
      " 'Ensembl Transcript ID': 'ENST00000566592',\n",
      " 'HGNC symbol': 'FKBP10',\n",
      " 'Pfam ID': 'PF13202',\n",
      " 'Pfam domain\\n': 'EF-hand_5',\n",
      " 'Pfam end': '456.0',\n",
      " 'Pfam start': '437.0'}\n",
      "\n",
      "\n",
      "CPU times: user 4 ms, sys: 0 ns, total: 4 ms\n",
      "Wall time: 1.64 ms\n"
     ]
    }
   ],
   "source": [
    "%%time\n",
    "with gzip.open(domains, 'rt') as fd:\n",
    "    header = next(fd).split('\\t')\n",
    "    \n",
    "    reader = csv.reader((l for l in fd if l.startswith('ENSG00000261258')), delimiter='\\t')\n",
    "    for r in reader:\n",
    "        if r[0] == 'ENSG00000261258':\n",
    "            pprint({h: v for h,v in zip(header, r)})\n",
    "            print('\\n')\n",
    "            break"
   ]
  },
  {
   "cell_type": "markdown",
   "metadata": {
    "nbpresent": {
     "id": "de9edd02-3411-4164-9cfe-e8316082a2ca"
    }
   },
   "source": [
    "# Command line creation\n",
    "\n",
    "http://click.pocoo.org/5/\n",
    "\n",
    "```python\n",
    "import click\n",
    "\n",
    "@click.command()\n",
    "@click.option('--count', default=1, help='Number of greetings.')\n",
    "@click.option('--name', prompt='Your name',\n",
    "              help='The person to greet.')\n",
    "def hello(count, name):\n",
    "    \"\"\"Simple program that greets NAME for a total of COUNT times.\"\"\"\n",
    "    for x in range(count):\n",
    "        click.echo('Hello %s!' % name)\n",
    "\n",
    "if __name__ == '__main__':\n",
    "    hello()\n",
    "```\n",
    "\n",
    "And what it looks like when run:\n",
    "\n",
    "```\n",
    "$ python hello.py --count=3\n",
    "Your name: John\n",
    "Hello John!\n",
    "Hello John!\n",
    "Hello John!\n",
    "```"
   ]
  },
  {
   "cell_type": "markdown",
   "metadata": {
    "nbpresent": {
     "id": "79826217-f277-4e6c-96cd-45e3d7bb56b7"
    }
   },
   "source": [
    "# Advent of Code\n",
    "\n",
    "Santa's sleigh uses a very high-precision clock to guide its movements, and the clock's oscillator is regulated by stars. Unfortunately, the stars have been stolen... by the Easter Bunny. To save Christmas, Santa needs you to retrieve all fifty stars by December 25th.\n",
    "\n",
    "Collect stars by solving puzzles. Two puzzles will be made available on each day in the advent calendar; the second puzzle is unlocked when you complete the first. Each puzzle grants one star. Good luck!\n",
    "\n",
    "Register at:\n",
    "http://adventofcode.com/\n",
    "\n",
    "Solve your first puzzle!"
   ]
  },
  {
   "cell_type": "code",
   "execution_count": null,
   "metadata": {
    "collapsed": true,
    "nbpresent": {
     "id": "bca0a0fa-79f2-483a-ac3d-217edda18877"
    }
   },
   "outputs": [],
   "source": []
  }
 ],
 "metadata": {
  "anaconda-cloud": {},
  "kernelspec": {
   "display_name": "Python [conda env:adventofcode]",
   "language": "python",
   "name": "conda-env-adventofcode-py"
  },
  "language_info": {
   "codemirror_mode": {
    "name": "ipython",
    "version": 3
   },
   "file_extension": ".py",
   "mimetype": "text/x-python",
   "name": "python",
   "nbconvert_exporter": "python",
   "pygments_lexer": "ipython3",
   "version": "3.5.2"
  },
  "nbpresent": {
   "slides": {
    "13851ea8-af68-4d06-9a29-55481e00b0b1": {
     "id": "13851ea8-af68-4d06-9a29-55481e00b0b1",
     "prev": "4a4e5915-c939-4646-9ee7-47a7f3617b94",
     "regions": {
      "846b7eac-8f2e-4161-9f71-70526d5aca8e": {
       "attrs": {
        "height": 0.8,
        "width": 0.8,
        "x": 0.1,
        "y": 0.1
       },
       "content": {
        "cell": "7321387a-bbf2-4636-a5b7-45b8d9b73d64",
        "part": "whole"
       },
       "id": "846b7eac-8f2e-4161-9f71-70526d5aca8e"
      }
     }
    },
    "14730095-342a-4894-84be-47df62ba912b": {
     "id": "14730095-342a-4894-84be-47df62ba912b",
     "prev": "39e94430-0afa-41ff-abe5-e3e48461da9b",
     "regions": {
      "9b875742-c938-4a91-914f-4d0e3ba7207c": {
       "attrs": {
        "height": 0.8,
        "width": 0.8,
        "x": 0.1,
        "y": 0.1
       },
       "content": {
        "cell": "a2dc7cb0-8116-4904-bcd9-1120beb41b7d",
        "part": "whole"
       },
       "id": "9b875742-c938-4a91-914f-4d0e3ba7207c"
      }
     }
    },
    "161a640b-e82a-4288-971e-203045de848c": {
     "id": "161a640b-e82a-4288-971e-203045de848c",
     "prev": "d3aecff0-ca43-430e-9fa6-bf468129a24c",
     "regions": {
      "28b489a0-942f-4c2e-953c-845b0e000f38": {
       "attrs": {
        "height": 0.8,
        "width": 0.8,
        "x": 0.1,
        "y": 0.1
       },
       "content": {
        "cell": "5ab48800-d03e-42a8-b73c-86ddbb4f8ef7",
        "part": "whole"
       },
       "id": "28b489a0-942f-4c2e-953c-845b0e000f38"
      }
     }
    },
    "33086992-1ac3-471c-8fdf-c9fb1a62a813": {
     "id": "33086992-1ac3-471c-8fdf-c9fb1a62a813",
     "prev": "817e9d87-3061-4927-bb98-09587f246c21",
     "regions": {
      "cc1bb896-78eb-4a49-a755-f7999e322ec6": {
       "attrs": {
        "height": 0.8,
        "width": 0.8,
        "x": 0.1,
        "y": 0.1
       },
       "content": {
        "cell": "79826217-f277-4e6c-96cd-45e3d7bb56b7",
        "part": "whole"
       },
       "id": "cc1bb896-78eb-4a49-a755-f7999e322ec6"
      }
     }
    },
    "39e94430-0afa-41ff-abe5-e3e48461da9b": {
     "id": "39e94430-0afa-41ff-abe5-e3e48461da9b",
     "prev": "8e70ac39-5f2d-4afd-adfa-3172a94f4661",
     "regions": {
      "7a416243-d4fb-4c29-aa0f-362e0e2b6c92": {
       "attrs": {
        "height": 0.8,
        "width": 0.8,
        "x": 0.1,
        "y": 0.1
       },
       "content": {
        "cell": "a2c83aaa-ba17-40d1-8f98-efabc58d58de",
        "part": "whole"
       },
       "id": "7a416243-d4fb-4c29-aa0f-362e0e2b6c92"
      }
     }
    },
    "3b9de5c5-cefe-4164-85c2-b75aad7f868f": {
     "id": "3b9de5c5-cefe-4164-85c2-b75aad7f868f",
     "prev": "6bb7294f-e8f1-4874-8cdb-31577bbb3260",
     "regions": {
      "dbacf8e3-1fdb-4823-829e-386d2b84a12c": {
       "attrs": {
        "height": 0.8,
        "width": 0.8,
        "x": 0.1,
        "y": 0.1
       },
       "content": {
        "cell": "be14d128-2779-477f-b406-46fb3c1c3943",
        "part": "whole"
       },
       "id": "dbacf8e3-1fdb-4823-829e-386d2b84a12c"
      }
     }
    },
    "4a4e5915-c939-4646-9ee7-47a7f3617b94": {
     "id": "4a4e5915-c939-4646-9ee7-47a7f3617b94",
     "prev": null,
     "regions": {
      "091125eb-fd48-4c03-b769-bdf144f86a4f": {
       "attrs": {
        "height": 0.8,
        "width": 0.8,
        "x": 0.1,
        "y": 0.1
       },
       "content": {
        "cell": "7321387a-bbf2-4636-a5b7-45b8d9b73d64",
        "part": "source"
       },
       "id": "091125eb-fd48-4c03-b769-bdf144f86a4f"
      }
     }
    },
    "4c65a817-fd33-4999-981f-a34329cd29a6": {
     "id": "4c65a817-fd33-4999-981f-a34329cd29a6",
     "prev": "3b9de5c5-cefe-4164-85c2-b75aad7f868f",
     "regions": {
      "7a91ec50-0057-4be9-a2d0-90ad713352eb": {
       "attrs": {
        "height": 0.8,
        "width": 0.8,
        "x": 0.1,
        "y": 0.1
       },
       "content": {
        "cell": "d6dcafef-469a-4f0f-b3a7-3861c9bf96de",
        "part": "whole"
       },
       "id": "7a91ec50-0057-4be9-a2d0-90ad713352eb"
      }
     }
    },
    "51b6a554-5b9f-4d5b-b0ff-4ea95f990972": {
     "id": "51b6a554-5b9f-4d5b-b0ff-4ea95f990972",
     "prev": "9727c4d9-cca0-45dc-b569-2804f45c6cf1",
     "regions": {
      "8507f916-557b-46fb-a680-b41025193f2a": {
       "attrs": {
        "height": 0.8,
        "width": 0.8,
        "x": 0.1,
        "y": 0.1
       },
       "content": {
        "cell": "50ff8fbc-fd8a-415c-82e6-f2ff070f7e72",
        "part": "whole"
       },
       "id": "8507f916-557b-46fb-a680-b41025193f2a"
      }
     }
    },
    "5ee9cbf8-f942-4935-a1ff-45724cd2a5af": {
     "id": "5ee9cbf8-f942-4935-a1ff-45724cd2a5af",
     "prev": "da438e28-8a92-4ff8-9e51-0a410fe8427d",
     "regions": {
      "ecdfd361-05e7-43fd-9014-d62c7fb785da": {
       "attrs": {
        "height": 0.8,
        "width": 0.8,
        "x": 0.1,
        "y": 0.1
       },
       "content": {
        "cell": "f41e845f-fd70-40c7-8276-fca2e1c3a1e8",
        "part": "whole"
       },
       "id": "ecdfd361-05e7-43fd-9014-d62c7fb785da"
      }
     }
    },
    "6243106d-254b-4492-a928-b298903c7763": {
     "id": "6243106d-254b-4492-a928-b298903c7763",
     "prev": "13851ea8-af68-4d06-9a29-55481e00b0b1",
     "regions": {
      "23019f18-7d01-438e-ac42-8d539969704a": {
       "attrs": {
        "height": 0.8,
        "width": 0.8,
        "x": 0.1,
        "y": 0.1
       },
       "content": {
        "cell": "3123a3e5-1b8c-45e6-bebe-97b98d3b38ac",
        "part": "whole"
       },
       "id": "23019f18-7d01-438e-ac42-8d539969704a"
      }
     }
    },
    "64a7d6da-adc0-4fa6-ac76-67f10dbd6190": {
     "id": "64a7d6da-adc0-4fa6-ac76-67f10dbd6190",
     "prev": "83f6e10f-d99c-44e1-837e-25f1afde17ea",
     "regions": {
      "abef044b-bfa0-4cc0-8b88-36861d1d05da": {
       "attrs": {
        "height": 0.8,
        "width": 0.8,
        "x": 0.1,
        "y": 0.1
       },
       "content": {
        "cell": "c900c2fe-f464-46bf-990a-65c5a80707c5",
        "part": "whole"
       },
       "id": "abef044b-bfa0-4cc0-8b88-36861d1d05da"
      }
     }
    },
    "6bb7294f-e8f1-4874-8cdb-31577bbb3260": {
     "id": "6bb7294f-e8f1-4874-8cdb-31577bbb3260",
     "prev": "161a640b-e82a-4288-971e-203045de848c",
     "regions": {
      "7b77a8b2-1a2d-4fba-b4e2-878d54d5d00d": {
       "attrs": {
        "height": 0.8,
        "width": 0.8,
        "x": 0.1,
        "y": 0.1
       },
       "content": {
        "cell": "ac5b44c6-8da0-41e6-bd83-6787f712c346",
        "part": "whole"
       },
       "id": "7b77a8b2-1a2d-4fba-b4e2-878d54d5d00d"
      }
     }
    },
    "72c8098a-0976-4d3a-90a2-b05a6e70d5e1": {
     "id": "72c8098a-0976-4d3a-90a2-b05a6e70d5e1",
     "prev": "e252c793-28d4-4e41-b9f2-4aa2f7dc5f63",
     "regions": {
      "74a95a27-4855-4d69-af22-b53f17096336": {
       "attrs": {
        "height": 0.8,
        "width": 0.8,
        "x": 0.1,
        "y": 0.1
       },
       "content": {
        "cell": "c7209117-e4ec-432c-8233-ce45f98e7ac6",
        "part": "whole"
       },
       "id": "74a95a27-4855-4d69-af22-b53f17096336"
      }
     }
    },
    "7857d33d-161b-4baf-8186-569faeba6b7a": {
     "id": "7857d33d-161b-4baf-8186-569faeba6b7a",
     "prev": "51b6a554-5b9f-4d5b-b0ff-4ea95f990972",
     "regions": {
      "74fd653a-febf-4a43-b643-a416593657e3": {
       "attrs": {
        "height": 0.8,
        "width": 0.8,
        "x": 0.1,
        "y": 0.1
       },
       "content": {
        "cell": "d3a12e6a-f0b9-41b7-b4b7-eecfa75272b6",
        "part": "whole"
       },
       "id": "74fd653a-febf-4a43-b643-a416593657e3"
      }
     }
    },
    "79dab18c-bc14-4d07-981e-fc96f827989f": {
     "id": "79dab18c-bc14-4d07-981e-fc96f827989f",
     "prev": "6243106d-254b-4492-a928-b298903c7763",
     "regions": {
      "de79cd10-b6a7-43da-88ea-589d3e355779": {
       "attrs": {
        "height": 0.8,
        "width": 0.8,
        "x": 0.1,
        "y": 0.1
       },
       "content": {
        "cell": "b729e50c-9b63-4ace-b63a-f8a9d717c5af",
        "part": "whole"
       },
       "id": "de79cd10-b6a7-43da-88ea-589d3e355779"
      }
     }
    },
    "7cb2b6c6-7708-4f95-b759-20dc4c1ffa2c": {
     "id": "7cb2b6c6-7708-4f95-b759-20dc4c1ffa2c",
     "prev": "7857d33d-161b-4baf-8186-569faeba6b7a",
     "regions": {
      "419fe16e-9338-4eea-a332-4820eee34d80": {
       "attrs": {
        "height": 0.8,
        "width": 0.8,
        "x": 0.1,
        "y": 0.1
       },
       "content": {
        "cell": "49410f27-afb7-4a2d-b881-0880d74f57d8",
        "part": "whole"
       },
       "id": "419fe16e-9338-4eea-a332-4820eee34d80"
      }
     }
    },
    "817e9d87-3061-4927-bb98-09587f246c21": {
     "id": "817e9d87-3061-4927-bb98-09587f246c21",
     "prev": "aa5e299e-9803-4cdc-b012-435e779f5c2a",
     "regions": {
      "bdb57047-b3ea-4dae-97b6-b0fcc4bd58f5": {
       "attrs": {
        "height": 0.8,
        "width": 0.8,
        "x": 0.1,
        "y": 0.1
       },
       "content": {
        "cell": "de9edd02-3411-4164-9cfe-e8316082a2ca",
        "part": "whole"
       },
       "id": "bdb57047-b3ea-4dae-97b6-b0fcc4bd58f5"
      }
     }
    },
    "83f6e10f-d99c-44e1-837e-25f1afde17ea": {
     "id": "83f6e10f-d99c-44e1-837e-25f1afde17ea",
     "prev": "72c8098a-0976-4d3a-90a2-b05a6e70d5e1",
     "regions": {
      "c82dcb2b-8782-4999-9f15-ba7c018d9e6e": {
       "attrs": {
        "height": 0.8,
        "width": 0.8,
        "x": 0.1,
        "y": 0.1
       },
       "content": {
        "cell": "12105808-1fd5-419f-84ba-5a5f91ba6eed",
        "part": "whole"
       },
       "id": "c82dcb2b-8782-4999-9f15-ba7c018d9e6e"
      }
     }
    },
    "8432d844-ccec-4eee-8854-b0d117097ca0": {
     "id": "8432d844-ccec-4eee-8854-b0d117097ca0",
     "prev": "c8638b4a-7153-452b-b182-9f03720b7233",
     "regions": {
      "9d5107da-0874-41c1-9305-8340feec246f": {
       "attrs": {
        "height": 0.8,
        "width": 0.8,
        "x": 0.1,
        "y": 0.1
       },
       "content": {
        "cell": "d14a1e37-1b9a-45bd-8774-aa9a6e4d568a",
        "part": "whole"
       },
       "id": "9d5107da-0874-41c1-9305-8340feec246f"
      }
     }
    },
    "87750d45-cebc-4e12-a97b-ed81adc54c11": {
     "id": "87750d45-cebc-4e12-a97b-ed81adc54c11",
     "prev": "14730095-342a-4894-84be-47df62ba912b",
     "regions": {
      "1f1e01f5-0fc0-404a-8b46-11440d28c536": {
       "attrs": {
        "height": 0.8,
        "width": 0.8,
        "x": 0.1,
        "y": 0.1
       },
       "content": {
        "cell": "e52f48f2-e723-455a-b73a-e6af621bf3fe",
        "part": "whole"
       },
       "id": "1f1e01f5-0fc0-404a-8b46-11440d28c536"
      }
     }
    },
    "8e70ac39-5f2d-4afd-adfa-3172a94f4661": {
     "id": "8e70ac39-5f2d-4afd-adfa-3172a94f4661",
     "prev": "4c65a817-fd33-4999-981f-a34329cd29a6",
     "regions": {
      "742acf8d-cef7-416c-90d0-15f7fd1cb78a": {
       "attrs": {
        "height": 0.8,
        "width": 0.8,
        "x": 0.1,
        "y": 0.1
       },
       "content": {
        "cell": "22df07a7-7e0c-469d-a366-4e17015f92b2",
        "part": "whole"
       },
       "id": "742acf8d-cef7-416c-90d0-15f7fd1cb78a"
      }
     }
    },
    "9727c4d9-cca0-45dc-b569-2804f45c6cf1": {
     "id": "9727c4d9-cca0-45dc-b569-2804f45c6cf1",
     "prev": "cafb1da4-d42a-46e4-8c1b-06583b46ee6a",
     "regions": {
      "8eb0fccc-62e1-4f2d-b418-a89cf1cd095f": {
       "attrs": {
        "height": 0.8,
        "width": 0.8,
        "x": 0.1,
        "y": 0.1
       },
       "content": {
        "cell": "507706d9-af5f-40ce-846b-1480a4714281",
        "part": "whole"
       },
       "id": "8eb0fccc-62e1-4f2d-b418-a89cf1cd095f"
      }
     }
    },
    "aa5e299e-9803-4cdc-b012-435e779f5c2a": {
     "id": "aa5e299e-9803-4cdc-b012-435e779f5c2a",
     "prev": "feb904df-404d-4e10-86d6-1dc93db61683",
     "regions": {
      "d6aadf49-b9e8-4331-a03a-e054ec79d2a0": {
       "attrs": {
        "height": 0.8,
        "width": 0.8,
        "x": 0.1,
        "y": 0.1
       },
       "content": {
        "cell": "55611235-681d-49d9-837e-998e32c32be5",
        "part": "whole"
       },
       "id": "d6aadf49-b9e8-4331-a03a-e054ec79d2a0"
      }
     }
    },
    "bcbb4842-0f30-470a-b312-f08a775396a6": {
     "id": "bcbb4842-0f30-470a-b312-f08a775396a6",
     "prev": "5ee9cbf8-f942-4935-a1ff-45724cd2a5af",
     "regions": {
      "55f10c0c-ffe3-438c-a773-4faa3872eb3e": {
       "attrs": {
        "height": 0.8,
        "width": 0.8,
        "x": 0.1,
        "y": 0.1
       },
       "content": {
        "cell": "a4b766f5-9606-4b45-9e70-f36fdca1acc4",
        "part": "whole"
       },
       "id": "55f10c0c-ffe3-438c-a773-4faa3872eb3e"
      }
     }
    },
    "c8638b4a-7153-452b-b182-9f03720b7233": {
     "id": "c8638b4a-7153-452b-b182-9f03720b7233",
     "prev": "79dab18c-bc14-4d07-981e-fc96f827989f",
     "regions": {
      "17b4e56c-3983-4a85-9ce9-9e63b8de4740": {
       "attrs": {
        "height": 0.8,
        "width": 0.8,
        "x": 0.1,
        "y": 0.1
       },
       "content": {
        "cell": "a6517c30-7988-4a93-99ab-c3f4f352fed6",
        "part": "whole"
       },
       "id": "17b4e56c-3983-4a85-9ce9-9e63b8de4740"
      }
     }
    },
    "cafb1da4-d42a-46e4-8c1b-06583b46ee6a": {
     "id": "cafb1da4-d42a-46e4-8c1b-06583b46ee6a",
     "prev": "64a7d6da-adc0-4fa6-ac76-67f10dbd6190",
     "regions": {
      "735a0741-c0c1-4067-a6ed-9dc2c0c71b2a": {
       "attrs": {
        "height": 0.8,
        "width": 0.8,
        "x": 0.1,
        "y": 0.1
       },
       "content": {
        "cell": "af00d1e1-ab69-4ffe-9717-1b2a03ee37df",
        "part": "whole"
       },
       "id": "735a0741-c0c1-4067-a6ed-9dc2c0c71b2a"
      }
     }
    },
    "cdd024bd-1c29-4d8b-b0db-6364a8e34c9d": {
     "id": "cdd024bd-1c29-4d8b-b0db-6364a8e34c9d",
     "prev": "8432d844-ccec-4eee-8854-b0d117097ca0",
     "regions": {
      "85a945be-495a-41c4-ba33-3fe7429feeb5": {
       "attrs": {
        "height": 0.8,
        "width": 0.8,
        "x": 0.1,
        "y": 0.1
       },
       "content": {
        "cell": "c68c2c5a-123b-4de3-894c-69e0300962a8",
        "part": "whole"
       },
       "id": "85a945be-495a-41c4-ba33-3fe7429feeb5"
      }
     }
    },
    "d3aecff0-ca43-430e-9fa6-bf468129a24c": {
     "id": "d3aecff0-ca43-430e-9fa6-bf468129a24c",
     "prev": "cdd024bd-1c29-4d8b-b0db-6364a8e34c9d",
     "regions": {
      "75945928-471c-484f-b4d3-ffc91e8b6d1d": {
       "attrs": {
        "height": 0.8,
        "width": 0.8,
        "x": 0.1,
        "y": 0.1
       },
       "content": {
        "cell": "249d6afa-f14d-4f1d-b346-92c992c07ece",
        "part": "whole"
       },
       "id": "75945928-471c-484f-b4d3-ffc91e8b6d1d"
      }
     }
    },
    "da438e28-8a92-4ff8-9e51-0a410fe8427d": {
     "id": "da438e28-8a92-4ff8-9e51-0a410fe8427d",
     "prev": "fee00605-397d-4a55-8fbb-bb0a0139673d",
     "regions": {
      "1cae3818-9259-4ccd-8186-d0b1e8dc5c03": {
       "attrs": {
        "height": 0.8,
        "width": 0.8,
        "x": 0.1,
        "y": 0.1
       },
       "content": {
        "cell": "f259e756-c7fe-427b-aa0d-1fd32844444f",
        "part": "whole"
       },
       "id": "1cae3818-9259-4ccd-8186-d0b1e8dc5c03"
      }
     }
    },
    "df5eb83a-2e2e-4e87-b0d8-85e610741e8c": {
     "id": "df5eb83a-2e2e-4e87-b0d8-85e610741e8c",
     "prev": "33086992-1ac3-471c-8fdf-c9fb1a62a813",
     "regions": {
      "067f10f3-fe9b-4b1f-8630-8b49a1c9f246": {
       "attrs": {
        "height": 0.8,
        "width": 0.8,
        "x": 0.1,
        "y": 0.1
       },
       "content": {
        "cell": "bca0a0fa-79f2-483a-ac3d-217edda18877",
        "part": "whole"
       },
       "id": "067f10f3-fe9b-4b1f-8630-8b49a1c9f246"
      }
     }
    },
    "e252c793-28d4-4e41-b9f2-4aa2f7dc5f63": {
     "id": "e252c793-28d4-4e41-b9f2-4aa2f7dc5f63",
     "prev": "87750d45-cebc-4e12-a97b-ed81adc54c11",
     "regions": {
      "5b0b8a4f-f813-4ea8-b83b-278cadd788f9": {
       "attrs": {
        "height": 0.8,
        "width": 0.8,
        "x": 0.1,
        "y": 0.1
       },
       "content": {
        "cell": "69cfbec8-7c67-4041-94b2-b76697304bb2",
        "part": "whole"
       },
       "id": "5b0b8a4f-f813-4ea8-b83b-278cadd788f9"
      }
     }
    },
    "feb904df-404d-4e10-86d6-1dc93db61683": {
     "id": "feb904df-404d-4e10-86d6-1dc93db61683",
     "prev": "bcbb4842-0f30-470a-b312-f08a775396a6",
     "regions": {
      "bbf905af-69b3-4d7e-98f0-1462ad6ca9ca": {
       "attrs": {
        "height": 0.8,
        "width": 0.8,
        "x": 0.1,
        "y": 0.1
       },
       "content": {
        "cell": "2944e4ac-95da-472f-8515-d07851eed9d1",
        "part": "whole"
       },
       "id": "bbf905af-69b3-4d7e-98f0-1462ad6ca9ca"
      }
     }
    },
    "fee00605-397d-4a55-8fbb-bb0a0139673d": {
     "id": "fee00605-397d-4a55-8fbb-bb0a0139673d",
     "prev": "7cb2b6c6-7708-4f95-b759-20dc4c1ffa2c",
     "regions": {
      "cb740393-6a3f-4f51-a95b-28e09ceb91f2": {
       "attrs": {
        "height": 0.8,
        "width": 0.8,
        "x": 0.1,
        "y": 0.1
       },
       "content": {
        "cell": "36660483-e3ff-41d2-bf8e-76bd778c4a00",
        "part": "whole"
       },
       "id": "cb740393-6a3f-4f51-a95b-28e09ceb91f2"
      }
     }
    }
   },
   "themes": {}
  }
 },
 "nbformat": 4,
 "nbformat_minor": 1
}
