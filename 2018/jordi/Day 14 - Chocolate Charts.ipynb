{
 "cells": [
  {
   "cell_type": "markdown",
   "metadata": {},
   "source": [
    "```\n",
    "You finally have a chance to look at all of the produce moving around. Chocolate, cinnamon, mint, chili peppers, nutmeg, vanilla... the Elves must be growing these plants to make hot chocolate! As you realize this, you hear a conversation in the distance. When you go to investigate, you discover two Elves in what appears to be a makeshift underground kitchen/laboratory.\n",
    "\n",
    "The Elves are trying to come up with the ultimate hot chocolate recipe; they're even maintaining a scoreboard which tracks the quality score (0-9) of each recipe.\n",
    "\n",
    "Only two recipes are on the board: the first recipe got a score of 3, the second, 7. Each of the two Elves has a current recipe: the first Elf starts with the first recipe, and the second Elf starts with the second recipe.\n",
    "\n",
    "To create new recipes, the two Elves combine their current recipes. This creates new recipes from the digits of the sum of the current recipes' scores. With the current recipes' scores of 3 and 7, their sum is 10, and so two new recipes would be created: the first with score 1 and the second with score 0. If the current recipes' scores were 2 and 3, the sum, 5, would only create one recipe (with a score of 5) with its single digit.\n",
    "\n",
    "The new recipes are added to the end of the scoreboard in the order they are created. So, after the first round, the scoreboard is 3, 7, 1, 0.\n",
    "\n",
    "After all new recipes are added to the scoreboard, each Elf picks a new current recipe. To do this, the Elf steps forward through the scoreboard a number of recipes equal to 1 plus the score of their current recipe. So, after the first round, the first Elf moves forward 1 + 3 = 4 times, while the second Elf moves forward 1 + 7 = 8 times. If they run out of recipes, they loop back around to the beginning. After the first round, both Elves happen to loop around until they land on the same recipe that they had in the beginning; in general, they will move to different recipes.\n",
    "\n",
    "Drawing the first Elf as parentheses and the second Elf as square brackets, they continue this process:\n",
    "\n",
    "(3)[7]\n",
    "(3)[7] 1  0 \n",
    " 3  7  1 [0](1) 0 \n",
    " 3  7  1  0 [1] 0 (1)\n",
    "(3) 7  1  0  1  0 [1] 2 \n",
    " 3  7  1  0 (1) 0  1  2 [4]\n",
    " 3  7  1 [0] 1  0 (1) 2  4  5 \n",
    " 3  7  1  0 [1] 0  1  2 (4) 5  1 \n",
    " 3 (7) 1  0  1  0 [1] 2  4  5  1  5 \n",
    " 3  7  1  0  1  0  1  2 [4](5) 1  5  8 \n",
    " 3 (7) 1  0  1  0  1  2  4  5  1  5  8 [9]\n",
    " 3  7  1  0  1  0  1 [2] 4 (5) 1  5  8  9  1  6 \n",
    " 3  7  1  0  1  0  1  2  4  5 [1] 5  8  9  1 (6) 7 \n",
    " 3  7  1  0 (1) 0  1  2  4  5  1  5 [8] 9  1  6  7  7 \n",
    " 3  7 [1] 0  1  0 (1) 2  4  5  1  5  8  9  1  6  7  7  9 \n",
    " 3  7  1  0 [1] 0  1  2 (4) 5  1  5  8  9  1  6  7  7  9  2 \n",
    "The Elves think their skill will improve after making a few recipes (your puzzle input). However, that could take ages; you can speed this up considerably by identifying the scores of the ten recipes after that. For example:\n",
    "\n",
    "If the Elves think their skill will improve after making 9 recipes, the scores of the ten recipes after the first nine on the scoreboard would be 5158916779 (highlighted in the last line of the diagram).\n",
    "After 5 recipes, the scores of the next ten would be 0124515891.\n",
    "After 18 recipes, the scores of the next ten would be 9251071085.\n",
    "After 2018 recipes, the scores of the next ten would be 5941429882.\n",
    "What are the scores of the ten recipes immediately after the number of recipes in your puzzle input?\n",
    "\n",
    "Your puzzle input is 846601.\n",
    "```"
   ]
  },
  {
   "cell_type": "code",
   "execution_count": 17,
   "metadata": {},
   "outputs": [],
   "source": [
    "def ten_scores_after(value):    \n",
    "    scores = [3, 7]\n",
    "    elf1, elf2 = 0, 1\n",
    "\n",
    "    while len(scores) < value + 10:\n",
    "        total = scores[elf1] + scores[elf2]\n",
    "        scores.extend(divmod(total, 10) if total >= 10 else (total,))\n",
    "\n",
    "        elf1 = (elf1 + 1 + scores[elf1]) % len(scores)\n",
    "        elf2 = (elf2 + 1 + scores[elf2]) % len(scores)\n",
    "\n",
    "    return ''.join(str(score) for score in scores[value:value+10])"
   ]
  },
  {
   "cell_type": "code",
   "execution_count": 18,
   "metadata": {},
   "outputs": [
    {
     "data": {
      "text/plain": [
       "'5158916779'"
      ]
     },
     "execution_count": 18,
     "metadata": {},
     "output_type": "execute_result"
    }
   ],
   "source": [
    "ten_scores_after(9)"
   ]
  },
  {
   "cell_type": "code",
   "execution_count": 19,
   "metadata": {},
   "outputs": [
    {
     "data": {
      "text/plain": [
       "'3811491411'"
      ]
     },
     "execution_count": 19,
     "metadata": {},
     "output_type": "execute_result"
    }
   ],
   "source": [
    "ten_scores_after(846601)"
   ]
  },
  {
   "cell_type": "markdown",
   "metadata": {},
   "source": [
    "```\n",
    "--- Part Two ---\n",
    "As it turns out, you got the Elves' plan backwards. They actually want to know how many recipes appear on the scoreboard to the left of the first recipes whose scores are the digits from your puzzle input.\n",
    "\n",
    "51589 first appears after 9 recipes.\n",
    "01245 first appears after 5 recipes.\n",
    "92510 first appears after 18 recipes.\n",
    "59414 first appears after 2018 recipes.\n",
    "How many recipes appear on the scoreboard to the left of the score sequence in your puzzle input?\n",
    "```"
   ]
  },
  {
   "cell_type": "code",
   "execution_count": 20,
   "metadata": {},
   "outputs": [],
   "source": [
    "def recipes_until(value):\n",
    "\n",
    "    digits = [int(digit) for digit in value]\n",
    "    scores = [3, 7]\n",
    "    elf1, elf2 = 0, 1\n",
    "    \n",
    "    while scores[-len(digits):] != digits and scores[-len(digits)-1:-1] != digits:\n",
    "        total = scores[elf1] + scores[elf2]\n",
    "        scores.extend(divmod(total, 10) if total >= 10 else (total,))\n",
    "\n",
    "        elf1 = (elf1 + 1 + scores[elf1]) % len(scores)\n",
    "        elf2 = (elf2 + 1 + scores[elf2]) % len(scores)\n",
    "\n",
    "    return len(scores) - len(digits) - (0 if scores[-len(digits):] == digits else 1)"
   ]
  },
  {
   "cell_type": "code",
   "execution_count": 21,
   "metadata": {},
   "outputs": [
    {
     "data": {
      "text/plain": [
       "9"
      ]
     },
     "execution_count": 21,
     "metadata": {},
     "output_type": "execute_result"
    }
   ],
   "source": [
    "recipes_until(\"51589\")"
   ]
  },
  {
   "cell_type": "code",
   "execution_count": 22,
   "metadata": {},
   "outputs": [
    {
     "data": {
      "text/plain": [
       "5"
      ]
     },
     "execution_count": 22,
     "metadata": {},
     "output_type": "execute_result"
    }
   ],
   "source": [
    "recipes_until(\"01245\")"
   ]
  },
  {
   "cell_type": "code",
   "execution_count": 23,
   "metadata": {},
   "outputs": [
    {
     "data": {
      "text/plain": [
       "18"
      ]
     },
     "execution_count": 23,
     "metadata": {},
     "output_type": "execute_result"
    }
   ],
   "source": [
    "recipes_until(\"92510\")"
   ]
  },
  {
   "cell_type": "code",
   "execution_count": 24,
   "metadata": {},
   "outputs": [
    {
     "data": {
      "text/plain": [
       "2018"
      ]
     },
     "execution_count": 24,
     "metadata": {},
     "output_type": "execute_result"
    }
   ],
   "source": [
    "recipes_until(\"59414\")"
   ]
  },
  {
   "cell_type": "code",
   "execution_count": 25,
   "metadata": {},
   "outputs": [
    {
     "data": {
      "text/plain": [
       "20408083"
      ]
     },
     "execution_count": 25,
     "metadata": {},
     "output_type": "execute_result"
    }
   ],
   "source": [
    "recipes_until(\"846601\")"
   ]
  }
 ],
 "metadata": {
  "kernelspec": {
   "display_name": "Python [default]",
   "language": "python",
   "name": "python3"
  },
  "language_info": {
   "codemirror_mode": {
    "name": "ipython",
    "version": 3
   },
   "file_extension": ".py",
   "mimetype": "text/x-python",
   "name": "python",
   "nbconvert_exporter": "python",
   "pygments_lexer": "ipython3",
   "version": "3.6.6"
  }
 },
 "nbformat": 4,
 "nbformat_minor": 2
}
