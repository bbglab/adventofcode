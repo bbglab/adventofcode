{
 "cells": [
  {
   "cell_type": "markdown",
   "metadata": {},
   "source": [
    " # Part 1"
   ]
  },
  {
   "cell_type": "code",
   "execution_count": 1,
   "metadata": {},
   "outputs": [
    {
     "data": {
      "text/plain": [
       "process_stream (generic function with 1 method)"
      ]
     },
     "execution_count": 1,
     "metadata": {},
     "output_type": "execute_result"
    }
   ],
   "source": [
    "function process_stream(s)\n",
    "    i = 1\n",
    "    garbage = false\n",
    "    garbage_total = 0\n",
    "    group_level = 0\n",
    "    group_score = 0\n",
    "    while i <= endof(s)\n",
    "        c = s[i]\n",
    "        if c == '!'\n",
    "            i += 1\n",
    "        elseif garbage && c == '>'\n",
    "            garbage = false\n",
    "        elseif !garbage && c == '<'\n",
    "            garbage = true\n",
    "        elseif !garbage            \n",
    "            if c == '{'\n",
    "                group_level += 1                \n",
    "            elseif c == '}'\n",
    "                group_score += group_level\n",
    "                group_level -= 1\n",
    "            end\n",
    "        else\n",
    "            garbage_total += 1\n",
    "        end\n",
    "        i += 1\n",
    "    end\n",
    "    group_score, garbage_total\n",
    "end"
   ]
  },
  {
   "cell_type": "code",
   "execution_count": 2,
   "metadata": {},
   "outputs": [
    {
     "data": {
      "text/plain": [
       "(9, 8)"
      ]
     },
     "execution_count": 2,
     "metadata": {},
     "output_type": "execute_result"
    }
   ],
   "source": [
    "process_stream(\"{{<ab>},{<ab>},{<ab>},{<ab>}}\")"
   ]
  },
  {
   "cell_type": "code",
   "execution_count": 3,
   "metadata": {},
   "outputs": [
    {
     "data": {
      "text/plain": [
       "(3, 17)"
      ]
     },
     "execution_count": 3,
     "metadata": {},
     "output_type": "execute_result"
    }
   ],
   "source": [
    "process_stream(\"{{<a!>},{<a!>},{<a!>},{<ab>}}\")"
   ]
  },
  {
   "cell_type": "code",
   "execution_count": 4,
   "metadata": {},
   "outputs": [
    {
     "data": {
      "text/plain": [
       "(0, 10)"
      ]
     },
     "execution_count": 4,
     "metadata": {},
     "output_type": "execute_result"
    }
   ],
   "source": [
    "process_stream(\"<{o\\\"i!a,<{i<a>\")"
   ]
  },
  {
   "cell_type": "code",
   "execution_count": 5,
   "metadata": {},
   "outputs": [
    {
     "data": {
      "text/plain": [
       "(12396, 6346)"
      ]
     },
     "execution_count": 5,
     "metadata": {},
     "output_type": "execute_result"
    }
   ],
   "source": [
    "open(\"inputs/day9.txt\") do fd\n",
    "    score = process_stream(readstring(fd))\n",
    "end"
   ]
  },
  {
   "cell_type": "code",
   "execution_count": null,
   "metadata": {
    "collapsed": true
   },
   "outputs": [],
   "source": []
  }
 ],
 "metadata": {
  "kernelspec": {
   "display_name": "Julia 0.6.1",
   "language": "julia",
   "name": "julia-0.6"
  },
  "language_info": {
   "file_extension": ".jl",
   "mimetype": "application/julia",
   "name": "julia",
   "version": "0.6.1"
  }
 },
 "nbformat": 4,
 "nbformat_minor": 2
}
