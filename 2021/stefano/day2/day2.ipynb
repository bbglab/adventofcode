{
 "cells": [
  {
   "cell_type": "markdown",
   "metadata": {},
   "source": [
    "# Day 2"
   ]
  },
  {
   "cell_type": "code",
   "execution_count": 3,
   "metadata": {},
   "outputs": [],
   "source": [
    "with open(\"input.txt\", \"r\") as f:\n",
    "    data = [line.strip() for line in f]"
   ]
  },
  {
   "cell_type": "markdown",
   "metadata": {},
   "source": [
    "## Puzzle 1"
   ]
  },
  {
   "cell_type": "code",
   "execution_count": 10,
   "metadata": {},
   "outputs": [
    {
     "name": "stdout",
     "output_type": "stream",
     "text": [
      "Product of horizontal posotion and final depth = 2120749\n"
     ]
    }
   ],
   "source": [
    "def execute_instructions(data):\n",
    "    position = 0\n",
    "    depth = 0\n",
    "    \n",
    "    for d in data:\n",
    "        instruction = d.split(\" \")\n",
    "        command, x = instruction[0], int(instruction[1])\n",
    "        \n",
    "        if command == \"forward\":\n",
    "            position += x\n",
    "        elif command == \"down\":\n",
    "            depth += x\n",
    "        elif command == \"up\":\n",
    "            depth -= x\n",
    "    \n",
    "    print(f\"Product of horizontal posotion and final depth = {position * depth}\")\n",
    "    \n",
    "execute_instructions(data) "
   ]
  },
  {
   "cell_type": "markdown",
   "metadata": {},
   "source": [
    "## Puzzle 2"
   ]
  },
  {
   "cell_type": "code",
   "execution_count": 12,
   "metadata": {},
   "outputs": [
    {
     "name": "stdout",
     "output_type": "stream",
     "text": [
      "Product of horizontal posotion and final depth = 2138382217\n"
     ]
    }
   ],
   "source": [
    "def execute_new_instructions(data):\n",
    "    position = 0\n",
    "    depth = 0\n",
    "    aim = 0\n",
    "    \n",
    "    for d in data:\n",
    "        instruction = d.split(\" \")\n",
    "        command, x = instruction[0], int(instruction[1])\n",
    "        \n",
    "        if command == \"forward\":\n",
    "            position += x\n",
    "            depth += aim * x\n",
    "        elif command == \"down\":\n",
    "            aim += x\n",
    "        elif command == \"up\":\n",
    "            aim -= x\n",
    "    \n",
    "    print(f\"Product of horizontal posotion and final depth = {position * depth}\")\n",
    "    \n",
    "execute_new_instructions(data) "
   ]
  }
 ],
 "metadata": {
  "kernelspec": {
   "display_name": "Python 3 (ipykernel)",
   "language": "python",
   "name": "python3"
  },
  "language_info": {
   "codemirror_mode": {
    "name": "ipython",
    "version": 3
   },
   "file_extension": ".py",
   "mimetype": "text/x-python",
   "name": "python",
   "nbconvert_exporter": "python",
   "pygments_lexer": "ipython3",
   "version": "3.9.7"
  }
 },
 "nbformat": 4,
 "nbformat_minor": 4
}
