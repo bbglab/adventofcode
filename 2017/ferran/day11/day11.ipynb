{
 "cells": [
  {
   "cell_type": "markdown",
   "metadata": {},
   "source": [
    "# Hex Ed"
   ]
  },
  {
   "cell_type": "markdown",
   "metadata": {},
   "source": [
    "## Part 1"
   ]
  },
  {
   "cell_type": "code",
   "execution_count": 33,
   "metadata": {
    "ExecuteTime": {
     "end_time": "2017-12-11T06:47:49.293568",
     "start_time": "2017-12-11T06:47:49.282416"
    }
   },
   "outputs": [],
   "source": [
    "hex_dict = {'n': [0, 2], 'ne': [1, 1], 'nw': [-1, 1], 's': [0, -2], 'se': [1, -1], 'sw': [-1, -1]}"
   ]
  },
  {
   "cell_type": "code",
   "execution_count": 34,
   "metadata": {
    "ExecuteTime": {
     "end_time": "2017-12-11T06:47:49.857661",
     "start_time": "2017-12-11T06:47:49.838331"
    }
   },
   "outputs": [],
   "source": [
    "import csv\n",
    "\n",
    "with open('input.txt', 'rt') as f_input:\n",
    "    csv_reader = csv.reader(f_input, delimiter=',')\n",
    "    arrows = next(csv_reader)"
   ]
  },
  {
   "cell_type": "code",
   "execution_count": 35,
   "metadata": {
    "ExecuteTime": {
     "end_time": "2017-12-11T06:47:50.563814",
     "start_time": "2017-12-11T06:47:50.508129"
    }
   },
   "outputs": [],
   "source": [
    "import numpy as np\n",
    "\n",
    "def move(arrow):\n",
    "    return np.array(hex_dict[arrow])\n",
    "\n",
    "def travel(arrows):\n",
    "    return sum(list(map(move, arrows)))\n",
    "\n",
    "def min_steps(pos):\n",
    "    a, b = abs(pos[0]), abs(pos[1])\n",
    "    p = min(a, b)\n",
    "    return (b - p) // 2 + a\n",
    "\n",
    "def fewest(arrows):\n",
    "    return min_steps(travel(arrows))"
   ]
  },
  {
   "cell_type": "markdown",
   "metadata": {},
   "source": [
    "### Test"
   ]
  },
  {
   "cell_type": "code",
   "execution_count": 36,
   "metadata": {
    "ExecuteTime": {
     "end_time": "2017-12-11T06:47:51.650646",
     "start_time": "2017-12-11T06:47:51.631742"
    }
   },
   "outputs": [],
   "source": [
    "def test():\n",
    "    assert(fewest(['ne','ne','ne']) == 3)\n",
    "    assert(fewest(['ne','ne','sw','sw']) == 0)\n",
    "    assert(fewest(['ne','ne','s','s']) == 2)\n",
    "    assert(fewest(['se','sw','se','sw','sw']) == 3)"
   ]
  },
  {
   "cell_type": "code",
   "execution_count": 37,
   "metadata": {
    "ExecuteTime": {
     "end_time": "2017-12-11T06:47:52.388699",
     "start_time": "2017-12-11T06:47:52.378964"
    }
   },
   "outputs": [],
   "source": [
    "test()"
   ]
  },
  {
   "cell_type": "markdown",
   "metadata": {},
   "source": [
    "### Solution"
   ]
  },
  {
   "cell_type": "code",
   "execution_count": 38,
   "metadata": {
    "ExecuteTime": {
     "end_time": "2017-12-11T06:47:55.336459",
     "start_time": "2017-12-11T06:47:55.309241"
    }
   },
   "outputs": [
    {
     "data": {
      "text/plain": [
       "759"
      ]
     },
     "execution_count": 38,
     "metadata": {},
     "output_type": "execute_result"
    }
   ],
   "source": [
    "fewest(arrows)"
   ]
  },
  {
   "cell_type": "markdown",
   "metadata": {},
   "source": [
    "## Part 2"
   ]
  },
  {
   "cell_type": "code",
   "execution_count": 40,
   "metadata": {
    "ExecuteTime": {
     "end_time": "2017-12-11T06:52:18.347027",
     "start_time": "2017-12-11T06:52:18.330545"
    },
    "collapsed": true
   },
   "outputs": [],
   "source": [
    "def furthest_position(arrows):\n",
    "    max_distance = 0\n",
    "    pos = np.array([0,0])\n",
    "    for arrow in arrows:\n",
    "        pos += move(arrow)\n",
    "        distance = min_steps(pos)\n",
    "        if max_distance < distance: max_distance = distance\n",
    "    return max_distance"
   ]
  },
  {
   "cell_type": "code",
   "execution_count": 41,
   "metadata": {
    "ExecuteTime": {
     "end_time": "2017-12-11T06:52:29.302772",
     "start_time": "2017-12-11T06:52:29.257920"
    }
   },
   "outputs": [
    {
     "data": {
      "text/plain": [
       "1501"
      ]
     },
     "execution_count": 41,
     "metadata": {},
     "output_type": "execute_result"
    }
   ],
   "source": [
    "furthest_position(arrows)"
   ]
  },
  {
   "cell_type": "code",
   "execution_count": null,
   "metadata": {
    "collapsed": true
   },
   "outputs": [],
   "source": []
  }
 ],
 "metadata": {
  "kernelspec": {
   "display_name": "Python [conda env:adventofcode]",
   "language": "python",
   "name": "conda-env-adventofcode-py"
  },
  "language_info": {
   "codemirror_mode": {
    "name": "ipython",
    "version": 3
   },
   "file_extension": ".py",
   "mimetype": "text/x-python",
   "name": "python",
   "nbconvert_exporter": "python",
   "pygments_lexer": "ipython3",
   "version": "3.5.2"
  },
  "toc": {
   "colors": {
    "hover_highlight": "#DAA520",
    "running_highlight": "#FF0000",
    "selected_highlight": "#FFD700"
   },
   "moveMenuLeft": true,
   "nav_menu": {
    "height": "66px",
    "width": "252px"
   },
   "navigate_menu": true,
   "number_sections": true,
   "sideBar": true,
   "threshold": 4,
   "toc_cell": false,
   "toc_section_display": "block",
   "toc_window_display": false
  }
 },
 "nbformat": 4,
 "nbformat_minor": 2
}
