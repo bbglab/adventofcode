{
 "cells": [
  {
   "cell_type": "markdown",
   "metadata": {},
   "source": [
    "# Permutation Promenade"
   ]
  },
  {
   "cell_type": "markdown",
   "metadata": {},
   "source": [
    "## Part 1"
   ]
  },
  {
   "cell_type": "code",
   "execution_count": 1,
   "metadata": {
    "ExecuteTime": {
     "end_time": "2017-12-16T13:11:26.347363",
     "start_time": "2017-12-16T13:11:26.337889"
    },
    "collapsed": true
   },
   "outputs": [],
   "source": [
    "with open('input.txt', 'rt') as f:\n",
    "    moves = next(f).rstrip().split(',')"
   ]
  },
  {
   "cell_type": "code",
   "execution_count": 160,
   "metadata": {
    "ExecuteTime": {
     "end_time": "2017-12-16T15:44:51.152858",
     "start_time": "2017-12-16T15:44:51.126511"
    },
    "collapsed": true
   },
   "outputs": [],
   "source": [
    "import re\n",
    "import numpy as np\n",
    "import copy\n",
    "\n",
    "def shuffle(p, moves):\n",
    "    s = copy.copy(p)\n",
    "    for move in moves:\n",
    "        spin = re.search('s(\\d+)', move)\n",
    "        swapx = re.search('x(\\d+)\\/(\\d+)', move)\n",
    "        swapp = re.search('p(\\w)\\/(\\w)', move)\n",
    "        if spin:\n",
    "            s = np.roll(s, int(spin.group(1)))\n",
    "        if swapx:\n",
    "            a = int(swapx.group(1))\n",
    "            b = int(swapx.group(2))\n",
    "            s[a], s[b] = s[b], s[a]\n",
    "        if swapp:\n",
    "            a = swapp.group(1)\n",
    "            b = swapp.group(2)\n",
    "            a = ''.join(s).index(a)\n",
    "            b = ''.join(s).index(b)\n",
    "            s[a], s[b] = s[b], s[a]\n",
    "    return ''.join(s)"
   ]
  },
  {
   "cell_type": "markdown",
   "metadata": {},
   "source": [
    "### Test"
   ]
  },
  {
   "cell_type": "code",
   "execution_count": 161,
   "metadata": {
    "ExecuteTime": {
     "end_time": "2017-12-16T15:44:51.871995",
     "start_time": "2017-12-16T15:44:51.857311"
    },
    "collapsed": true
   },
   "outputs": [],
   "source": [
    "assert(shuffle(list('abcde'), ['s1', 'x3/4', 'pe/b']) == 'baedc')"
   ]
  },
  {
   "cell_type": "markdown",
   "metadata": {
    "ExecuteTime": {
     "end_time": "2017-12-15T07:44:05.162446",
     "start_time": "2017-12-15T07:44:05.135443"
    }
   },
   "source": [
    "### Solution"
   ]
  },
  {
   "cell_type": "code",
   "execution_count": 162,
   "metadata": {
    "ExecuteTime": {
     "end_time": "2017-12-16T15:44:53.735232",
     "start_time": "2017-12-16T15:44:53.594553"
    }
   },
   "outputs": [
    {
     "data": {
      "text/plain": [
       "'kbednhopmfcjilag'"
      ]
     },
     "execution_count": 162,
     "metadata": {},
     "output_type": "execute_result"
    }
   ],
   "source": [
    "shuffle(list('abcdefghijklmnop'), moves)"
   ]
  },
  {
   "cell_type": "markdown",
   "metadata": {},
   "source": [
    "## Part 2\n",
    "\n",
    "It may not be necessary to carry out the insanely big $10^9$ rounds of shuffling. We will search for the order of the shuffling process, i.e., the minimum number of rounds for which the programs are arranged as they were at the start. Then we will mod $n$. "
   ]
  },
  {
   "cell_type": "code",
   "execution_count": 181,
   "metadata": {
    "ExecuteTime": {
     "end_time": "2017-12-16T15:56:15.778446",
     "start_time": "2017-12-16T15:56:15.758142"
    },
    "collapsed": true
   },
   "outputs": [],
   "source": [
    "from itertools import count\n",
    "\n",
    "def least_fixed_point(s, moves):\n",
    "    a = s\n",
    "    b = shuffle(list(s), moves)\n",
    "    visited = [s]\n",
    "    for i in count():\n",
    "        if b not in visited:\n",
    "            visited.append(b)\n",
    "            a = b\n",
    "            b = shuffle(list(b), moves)\n",
    "        else:\n",
    "            return a, i\n",
    "\n",
    "def iterated_dances(s, moves, N):\n",
    "    for i in range(N):\n",
    "        s = shuffle(list(s), moves)\n",
    "    return s"
   ]
  },
  {
   "cell_type": "markdown",
   "metadata": {},
   "source": [
    "### Test"
   ]
  },
  {
   "cell_type": "code",
   "execution_count": 182,
   "metadata": {
    "ExecuteTime": {
     "end_time": "2017-12-16T15:56:17.052525",
     "start_time": "2017-12-16T15:56:17.025251"
    }
   },
   "outputs": [
    {
     "data": {
      "text/plain": [
       "('abcde', 4)"
      ]
     },
     "execution_count": 182,
     "metadata": {},
     "output_type": "execute_result"
    }
   ],
   "source": [
    "least_fixed_point(list('abcde'), ['s1', 'x3/4', 'pe/b'])"
   ]
  },
  {
   "cell_type": "code",
   "execution_count": 183,
   "metadata": {
    "ExecuteTime": {
     "end_time": "2017-12-16T15:56:17.823517",
     "start_time": "2017-12-16T15:56:17.799637"
    }
   },
   "outputs": [
    {
     "data": {
      "text/plain": [
       "'abcde'"
      ]
     },
     "execution_count": 183,
     "metadata": {},
     "output_type": "execute_result"
    }
   ],
   "source": [
    "iterated_dances(list('abcde'), ['s1', 'x3/4', 'pe/b'], 4)"
   ]
  },
  {
   "cell_type": "markdown",
   "metadata": {
    "ExecuteTime": {
     "end_time": "2017-12-16T14:08:06.220360",
     "start_time": "2017-12-16T14:08:06.205688"
    }
   },
   "source": [
    "### Solution"
   ]
  },
  {
   "cell_type": "code",
   "execution_count": 184,
   "metadata": {
    "ExecuteTime": {
     "end_time": "2017-12-16T15:56:31.533183",
     "start_time": "2017-12-16T15:56:26.633816"
    }
   },
   "outputs": [
    {
     "data": {
      "text/plain": [
       "('abcdefghijklmnop', 60)"
      ]
     },
     "execution_count": 184,
     "metadata": {},
     "output_type": "execute_result"
    }
   ],
   "source": [
    "s = 'abcdefghijklmnop'\n",
    "least_fixed_point(list(s), moves)"
   ]
  },
  {
   "cell_type": "code",
   "execution_count": 186,
   "metadata": {
    "ExecuteTime": {
     "end_time": "2017-12-16T15:56:45.668399",
     "start_time": "2017-12-16T15:56:42.455633"
    }
   },
   "outputs": [
    {
     "data": {
      "text/plain": [
       "'fbmcgdnjakpioelh'"
      ]
     },
     "execution_count": 186,
     "metadata": {},
     "output_type": "execute_result"
    }
   ],
   "source": [
    "iterated_dances(list(s), moves, (10 ** 9) % 60)"
   ]
  }
 ],
 "metadata": {
  "kernelspec": {
   "display_name": "Python [conda env:adventofcode]",
   "language": "python",
   "name": "conda-env-adventofcode-py"
  },
  "language_info": {
   "codemirror_mode": {
    "name": "ipython",
    "version": 3
   },
   "file_extension": ".py",
   "mimetype": "text/x-python",
   "name": "python",
   "nbconvert_exporter": "python",
   "pygments_lexer": "ipython3",
   "version": "3.5.2"
  },
  "toc": {
   "colors": {
    "hover_highlight": "#DAA520",
    "running_highlight": "#FF0000",
    "selected_highlight": "#FFD700"
   },
   "moveMenuLeft": true,
   "nav_menu": {
    "height": "66px",
    "width": "252px"
   },
   "navigate_menu": true,
   "number_sections": true,
   "sideBar": true,
   "threshold": 4,
   "toc_cell": false,
   "toc_section_display": "block",
   "toc_window_display": false
  }
 },
 "nbformat": 4,
 "nbformat_minor": 2
}
