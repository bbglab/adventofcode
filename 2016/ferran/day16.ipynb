{
 "cells": [
  {
   "cell_type": "markdown",
   "metadata": {},
   "source": [
    "# Challenge 16"
   ]
  },
  {
   "cell_type": "code",
   "execution_count": 42,
   "metadata": {
    "collapsed": true
   },
   "outputs": [],
   "source": [
    "initial_state = '01111010110010011'\n",
    "disk_length = 272"
   ]
  },
  {
   "cell_type": "markdown",
   "metadata": {},
   "source": [
    "## Solution 16.1"
   ]
  },
  {
   "cell_type": "code",
   "execution_count": 40,
   "metadata": {
    "collapsed": true
   },
   "outputs": [],
   "source": [
    "def dragon_iterator(initial_state):\n",
    "    a = [int(i) for i in list(initial_state)]\n",
    "    while len(a) > 0:\n",
    "        b = [1 - int(i) for i in reversed(a)]\n",
    "        a = a + [0] + b\n",
    "        yield(''.join([str(i) for i in a]))        \n",
    "\n",
    "def dragon_checksum(intial_state, disk_length):\n",
    "    data = initial_state\n",
    "    gen = dragon_iterator(initial_state)\n",
    "    while len(data) < disk_length:\n",
    "        data = next(gen)\n",
    "    data = data[:disk_length]\n",
    "    while len(data) % 2 == 0:\n",
    "        pair_list = [data[2*i:2*(i+1)] for i in range(len(data)//2)]\n",
    "        data = ''.join([str(2-len(set(item))) for item in pair_list])\n",
    "    return data"
   ]
  },
  {
   "cell_type": "markdown",
   "metadata": {},
   "source": [
    "## Result"
   ]
  },
  {
   "cell_type": "code",
   "execution_count": 43,
   "metadata": {
    "collapsed": false
   },
   "outputs": [
    {
     "name": "stdout",
     "output_type": "stream",
     "text": [
      "00100111000101111\n",
      "17\n",
      "CPU times: user 0 ns, sys: 0 ns, total: 0 ns\n",
      "Wall time: 1.02 ms\n"
     ]
    }
   ],
   "source": [
    "%%time\n",
    "s = dragon_checksum(initial_state, disk_length)\n",
    "print(s)\n",
    "print(len(s))"
   ]
  },
  {
   "cell_type": "markdown",
   "metadata": {},
   "source": [
    "## Solution 16.2"
   ]
  },
  {
   "cell_type": "code",
   "execution_count": 44,
   "metadata": {
    "collapsed": false
   },
   "outputs": [
    {
     "name": "stdout",
     "output_type": "stream",
     "text": [
      "11101110011100110\n",
      "17\n",
      "CPU times: user 47.3 s, sys: 2.15 s, total: 49.5 s\n",
      "Wall time: 49.5 s\n"
     ]
    }
   ],
   "source": [
    "%%time\n",
    "new_disk_length = 35651584\n",
    "t = dragon_checksum(initial_state, new_disk_length)\n",
    "print(t)\n",
    "print(len(t))"
   ]
  }
 ],
 "metadata": {
  "anaconda-cloud": {},
  "kernelspec": {
   "display_name": "Python [conda env:adventofcode]",
   "language": "python",
   "name": "conda-env-adventofcode-py"
  },
  "language_info": {
   "codemirror_mode": {
    "name": "ipython",
    "version": 3
   },
   "file_extension": ".py",
   "mimetype": "text/x-python",
   "name": "python",
   "nbconvert_exporter": "python",
   "pygments_lexer": "ipython3",
   "version": "3.5.2"
  }
 },
 "nbformat": 4,
 "nbformat_minor": 0
}
