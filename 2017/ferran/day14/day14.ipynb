{
 "cells": [
  {
   "cell_type": "markdown",
   "metadata": {},
   "source": [
    "# Disk Defragmentation\n",
    "\n",
    "## Import from Day 10 \"Knot Hash\" problem"
   ]
  },
  {
   "cell_type": "code",
   "execution_count": 11,
   "metadata": {
    "ExecuteTime": {
     "end_time": "2017-12-14T08:45:02.621244",
     "start_time": "2017-12-14T08:45:02.561004"
    },
    "collapsed": true
   },
   "outputs": [],
   "source": [
    "import numpy as np\n",
    "import operator\n",
    "from functools import reduce\n",
    "\n",
    "standard_suffix = [17, 31, 73, 47, 23]\n",
    "\n",
    "def invert(a, length, head):\n",
    "    r = np.roll(a, -head)\n",
    "    r = np.concatenate((r[:length][::-1], r[length:]))\n",
    "    return np.roll(r, head)\n",
    "\n",
    "def transform(a, length, head, skip, size=2**8):\n",
    "    r = invert(a, length, head)\n",
    "    head = (head + length + skip) % size\n",
    "    return r, head\n",
    "\n",
    "def one_round(input_lengths, a=None, skip=0, head=0, size=2**8):\n",
    "    if a is None:\n",
    "        a = np.arange(size)\n",
    "    for length in input_lengths:\n",
    "        a, head = transform(a, length, head, skip, size)\n",
    "        skip += 1\n",
    "    return a, head, skip\n",
    "\n",
    "def lengths_from_string(ascii_input):\n",
    "    return list(map(ord, list(ascii_input))) + standard_suffix\n",
    "\n",
    "def many_rounds(input_lengths, nruns = 2**6):\n",
    "    head, skip = 0, 0\n",
    "    a = np.arange(2**8)\n",
    "    for _ in range(nruns):\n",
    "        a, head, skip = one_round(input_lengths, a=a, skip=skip, head=head)\n",
    "    return a\n",
    "\n",
    "def dense(h):\n",
    "    dense_hash = []\n",
    "    for i in range(2**4):\n",
    "        a = h[16 * i: 16 * (i + 1)]\n",
    "        dense_hash.append(reduce(operator.xor, a, 0))\n",
    "    return dense_hash\n",
    "\n",
    "def hashing(ascii_input, size=2**8):\n",
    "    lengths = lengths_from_string(ascii_input)\n",
    "    dense_hash = dense(many_rounds(lengths))\n",
    "    return ''.join([hex(d)[2:] if len(hex(d)) == 4 else '0' + hex(d)[2:] for d in dense_hash])"
   ]
  },
  {
   "cell_type": "markdown",
   "metadata": {},
   "source": [
    "## Part 1"
   ]
  },
  {
   "cell_type": "code",
   "execution_count": 56,
   "metadata": {
    "ExecuteTime": {
     "end_time": "2017-12-14T09:12:42.440111",
     "start_time": "2017-12-14T09:12:42.410027"
    },
    "collapsed": true
   },
   "outputs": [],
   "source": [
    "from collections import Counter\n",
    "\n",
    "def bindigits(s_hex):\n",
    "    s_bin = ''\n",
    "    for i, c in enumerate(s_hex):\n",
    "        s_bin += '{0:04b}'.format(int(c, 16))\n",
    "    return s_bin\n",
    "\n",
    "def hextobits(key):\n",
    "    base = 16\n",
    "    nbits = 4\n",
    "    for i in range(2**7):\n",
    "        s_hex = hashing(key + '-{}'.format(str(i)))\n",
    "        yield bindigits(s_hex)\n",
    "\n",
    "def count_disk(key):\n",
    "    count = 0\n",
    "    for s in hextobits(key):\n",
    "        count += Counter(s)['1']\n",
    "    return count"
   ]
  },
  {
   "cell_type": "markdown",
   "metadata": {},
   "source": [
    "### Test"
   ]
  },
  {
   "cell_type": "code",
   "execution_count": 58,
   "metadata": {
    "ExecuteTime": {
     "end_time": "2017-12-14T09:13:36.796988",
     "start_time": "2017-12-14T09:13:35.222365"
    },
    "collapsed": true
   },
   "outputs": [],
   "source": [
    "assert(count_disk('flqrgnkx') == 8108)"
   ]
  },
  {
   "cell_type": "markdown",
   "metadata": {},
   "source": [
    "### Solution"
   ]
  },
  {
   "cell_type": "code",
   "execution_count": 59,
   "metadata": {
    "ExecuteTime": {
     "end_time": "2017-12-14T09:14:17.629064",
     "start_time": "2017-12-14T09:14:16.039069"
    }
   },
   "outputs": [
    {
     "data": {
      "text/plain": [
       "8304"
      ]
     },
     "execution_count": 59,
     "metadata": {},
     "output_type": "execute_result"
    }
   ],
   "source": [
    "key = 'hwlqcszp'\n",
    "count_disk(key)"
   ]
  },
  {
   "cell_type": "markdown",
   "metadata": {},
   "source": [
    "## Part 2"
   ]
  },
  {
   "cell_type": "code",
   "execution_count": 117,
   "metadata": {
    "ExecuteTime": {
     "end_time": "2017-12-14T20:31:01.574361",
     "start_time": "2017-12-14T20:31:01.532394"
    },
    "collapsed": true
   },
   "outputs": [],
   "source": [
    "def hextobits_matrix(key):\n",
    "    m = np.empty((2**7, 2**7), dtype=np.int16)\n",
    "    indices = []\n",
    "    for i, row in enumerate(hextobits(key)):\n",
    "        l = list(row)\n",
    "        m[i,:] = np.array(l)\n",
    "        for j, s in enumerate(l):\n",
    "            if s == '1': indices.append((i, j))\n",
    "    return m, indices\n",
    "\n",
    "def number_components(key):\n",
    "    m, indices = hextobits_matrix(key)\n",
    "    matrix_map = np.zeros((2**7, 2**7), dtype=np.int16)\n",
    "    count = 0\n",
    "    while(indices):\n",
    "        i = indices.pop()\n",
    "        queue = [i]\n",
    "        while(queue):\n",
    "            q = queue.pop()\n",
    "            matrix_map[q[0], q[1]] = count + 1\n",
    "            for arrow in [(1, 0), (0, 1), (-1, 0), (0, -1)]:\n",
    "                p = (q[0] + arrow[0], q[1] + arrow[1]) \n",
    "                if p in indices:\n",
    "                    queue.append(p)\n",
    "                    indices.remove(p)\n",
    "        count += 1\n",
    "    return matrix_map, count"
   ]
  },
  {
   "cell_type": "markdown",
   "metadata": {},
   "source": [
    "### Test"
   ]
  },
  {
   "cell_type": "code",
   "execution_count": 118,
   "metadata": {
    "ExecuteTime": {
     "end_time": "2017-12-14T20:31:05.191317",
     "start_time": "2017-12-14T20:31:03.560596"
    },
    "collapsed": true
   },
   "outputs": [],
   "source": [
    "m, indices = hextobits_matrix('flqrgnkx')"
   ]
  },
  {
   "cell_type": "code",
   "execution_count": 119,
   "metadata": {
    "ExecuteTime": {
     "end_time": "2017-12-14T20:31:07.260059",
     "start_time": "2017-12-14T20:31:07.239395"
    }
   },
   "outputs": [
    {
     "name": "stdout",
     "output_type": "stream",
     "text": [
      "[[1 1 0 ..., 1 1 0]\n",
      " [0 1 0 ..., 1 0 0]\n",
      " [0 0 0 ..., 0 0 1]\n",
      " ..., \n",
      " [1 1 1 ..., 1 0 0]\n",
      " [1 1 0 ..., 1 0 1]\n",
      " [0 0 1 ..., 1 1 0]]\n",
      "8108\n"
     ]
    }
   ],
   "source": [
    "print(m)\n",
    "print(len(indices))"
   ]
  },
  {
   "cell_type": "code",
   "execution_count": 121,
   "metadata": {
    "ExecuteTime": {
     "end_time": "2017-12-14T20:31:42.550598",
     "start_time": "2017-12-14T20:31:36.575971"
    },
    "collapsed": true
   },
   "outputs": [],
   "source": [
    "matrix_map, count = number_components('flqrgnkx')"
   ]
  },
  {
   "cell_type": "code",
   "execution_count": 122,
   "metadata": {
    "ExecuteTime": {
     "end_time": "2017-12-14T20:31:54.148597",
     "start_time": "2017-12-14T20:31:54.135926"
    }
   },
   "outputs": [
    {
     "name": "stdout",
     "output_type": "stream",
     "text": [
      "[[1237 1237    0 ..., 1229 1229    0]\n",
      " [   0 1237    0 ..., 1229    0    0]\n",
      " [   0    0    0 ...,    0    0 1222]\n",
      " ..., \n",
      " [  39   39   39 ...,    1    0    0]\n",
      " [  39   39    0 ...,    1    0   30]\n",
      " [   0    0   29 ...,    1    1    0]]\n",
      "1242\n"
     ]
    }
   ],
   "source": [
    "print(matrix_map)\n",
    "print(count)"
   ]
  },
  {
   "cell_type": "markdown",
   "metadata": {},
   "source": [
    "### Solution"
   ]
  },
  {
   "cell_type": "code",
   "execution_count": 123,
   "metadata": {
    "ExecuteTime": {
     "end_time": "2017-12-14T20:33:22.154003",
     "start_time": "2017-12-14T20:33:15.776600"
    },
    "collapsed": true
   },
   "outputs": [],
   "source": [
    "key = 'hwlqcszp'\n",
    "matrix_map, count = number_components(key)"
   ]
  },
  {
   "cell_type": "code",
   "execution_count": 124,
   "metadata": {
    "ExecuteTime": {
     "end_time": "2017-12-14T20:33:37.065121",
     "start_time": "2017-12-14T20:33:37.053565"
    }
   },
   "outputs": [
    {
     "name": "stdout",
     "output_type": "stream",
     "text": [
      "[[   0    0    0 ...,  901  901    0]\n",
      " [   0    0 1010 ...,    0    0    0]\n",
      " [ 996  996    0 ...,    0    0  901]\n",
      " ..., \n",
      " [   0    0   20 ...,   21   21    0]\n",
      " [  29    0    0 ...,   21    0    1]\n",
      " [   0    0   20 ...,    0    1    1]]\n",
      "1018\n"
     ]
    }
   ],
   "source": [
    "print(matrix_map)\n",
    "print(count)"
   ]
  }
 ],
 "metadata": {
  "kernelspec": {
   "display_name": "Python [conda env:adventofcode]",
   "language": "python",
   "name": "conda-env-adventofcode-py"
  },
  "language_info": {
   "codemirror_mode": {
    "name": "ipython",
    "version": 3
   },
   "file_extension": ".py",
   "mimetype": "text/x-python",
   "name": "python",
   "nbconvert_exporter": "python",
   "pygments_lexer": "ipython3",
   "version": "3.5.2"
  },
  "toc": {
   "colors": {
    "hover_highlight": "#DAA520",
    "running_highlight": "#FF0000",
    "selected_highlight": "#FFD700"
   },
   "moveMenuLeft": true,
   "nav_menu": {
    "height": "66px",
    "width": "252px"
   },
   "navigate_menu": true,
   "number_sections": true,
   "sideBar": true,
   "threshold": 4,
   "toc_cell": false,
   "toc_section_display": "block",
   "toc_window_display": false
  }
 },
 "nbformat": 4,
 "nbformat_minor": 2
}
