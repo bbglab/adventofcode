{
 "cells": [
  {
   "cell_type": "markdown",
   "metadata": {},
   "source": [
    "# Advent of Code 2016"
   ]
  },
  {
   "cell_type": "raw",
   "metadata": {},
   "source": [
    "--- Day 13: A Maze of Twisty Little Cubicles ---\n",
    "\n",
    "You arrive at the first floor of this new building to discover a much less welcoming environment than the shiny atrium of the last one. Instead, you are in a maze of twisty little cubicles, all alike.\n",
    "\n",
    "Every location in this area is addressed by a pair of non-negative integers (x,y). Each such coordinate is either a wall or an open space. You can't move diagonally. The cube maze starts at 0,0 and seems to extend infinitely toward positive x and y; negative values are invalid, as they represent a location outside the building. You are in a small waiting area at 1,1.\n",
    "\n",
    "While it seems chaotic, a nearby morale-boosting poster explains, the layout is actually quite logical. You can determine whether a given x,y coordinate will be a wall or an open space using a simple system:\n",
    "\n",
    "- Find x*x + 3*x + 2*x*y + y + y*y.\n",
    "- Add the office designer's favorite number (your puzzle input).\n",
    "- Find the binary representation of that sum; count the number of bits that are 1.\n",
    "   - If the number of bits that are 1 is even, it's an open space.\n",
    "   - If the number of bits that are 1 is odd, it's a wall.\n",
    "\n",
    "For example, if the office designer's favorite number were 10, drawing walls as # and open spaces as ., the corner of the building containing 0,0 would look like this:\n",
    "\n",
    "  0123456789\n",
    "0 .#.####.##\n",
    "1 ..#..#...#\n",
    "2 #....##...\n",
    "3 ###.#.###.\n",
    "4 .##..#..#.\n",
    "5 ..##....#.\n",
    "6 #...##.###\n",
    "\n",
    "Now, suppose you wanted to reach 7,4. The shortest route you could take is marked as O:\n",
    "\n",
    "  0123456789\n",
    "0 .#.####.##\n",
    "1 .O#..#...#\n",
    "2 #OOO.##...\n",
    "3 ###O#.###.\n",
    "4 .##OO#OO#.\n",
    "5 ..##OOO.#.\n",
    "6 #...##.###\n",
    "\n",
    "Thus, reaching 7,4 would take a minimum of 11 steps (starting from your current location, 1,1).\n",
    "\n",
    "What is the fewest number of steps required for you to reach 31,39?\n",
    "\n",
    "Your puzzle input is 1362."
   ]
  },
  {
   "cell_type": "code",
   "execution_count": 1,
   "metadata": {
    "ExecuteTime": {
     "end_time": "2016-12-18T23:39:01.755030",
     "start_time": "2016-12-18T23:39:01.728544"
    },
    "collapsed": true
   },
   "outputs": [],
   "source": [
    "class Grid:\n",
    "    \n",
    "    def __init__(self, width, height, number):\n",
    "        self.number = number\n",
    "        self.width = width\n",
    "        self.height = height\n",
    "        self.grid = self.get_grid()\n",
    "        \n",
    "    def __repr__(self):\n",
    "        return \"\\n\".join([''.join(['.' if col else '#' for col in row]) for row in self.grid])\n",
    "        \n",
    "    def solve_equation(self, x, y):\n",
    "        return x * x + 3 * x + 2 * x * y + y + y * y + self.number\n",
    "\n",
    "    @staticmethod\n",
    "    def is_wall(n):\n",
    "        return False if bin(n).count('1') % 2 == 0 else True\n",
    "    \n",
    "    def is_valid(self, x, y):\n",
    "        if x < 0 or x >= self.width or y < 0 or y >= self.height:\n",
    "            return False\n",
    "        if not self.grid[y][x]:\n",
    "            return False\n",
    "        return True\n",
    "    \n",
    "    def get_grid(self):\n",
    "        return [[not self.is_wall(self.solve_equation(x, y)) \n",
    "                 for x in range(self.width)] \n",
    "                for y in range(self.height)]"
   ]
  },
  {
   "cell_type": "code",
   "execution_count": 2,
   "metadata": {
    "ExecuteTime": {
     "end_time": "2016-12-18T23:39:01.821600",
     "start_time": "2016-12-18T23:39:01.756744"
    },
    "collapsed": false
   },
   "outputs": [],
   "source": [
    "class Maze:\n",
    "    \n",
    "    def __init__(self, start_x, start_y, end_x, end_y, grid):\n",
    "        self.grid = grid\n",
    "        self.start_x = start_x\n",
    "        self.start_y = start_y\n",
    "        self.end_x = end_x\n",
    "        self.end_y = end_y\n",
    "        self.visited = set([])\n",
    "        self.solution = []\n",
    "        self.solutions = []\n",
    "        self.movements = []\n",
    "        \n",
    "    def __repr__(self):\n",
    "        grid = ''\n",
    "        for y, row in enumerate(self.grid.grid):\n",
    "            line = ''\n",
    "            for x, col in enumerate(row):\n",
    "                if (x, y) in self.solution:\n",
    "                    grid += 'o'\n",
    "                elif (x, y) in self.visited:\n",
    "                    grid += '-'\n",
    "                else:\n",
    "                    grid += '.' if col else '#'\n",
    "            grid += '\\n'\n",
    "        return grid\n",
    "    \n",
    "    def solve(self, init=False):\n",
    "        if init:\n",
    "            self.movements.append((self.start_x, self.start_y, [(self.start_x, self.start_y)]))\n",
    "        if len(self.movements) == 0:\n",
    "            return False\n",
    "        (x, y, path) = self.movements.pop(0)\n",
    "        self.visited.add((x, y))\n",
    "        if x == self.end_x and y == self.end_y:\n",
    "            self.solution = path\n",
    "            return True\n",
    "        for (x_, y_) in [(x + 1, y), (x - 1, y), (x, y + 1), (x, y - 1)]:\n",
    "            if self.grid.is_valid(x_, y_) and (x_, y_) not in self.visited:\n",
    "                self.movements.append((x_, y_, path + [(x_, y_)]))\n",
    "        return self.solve()\n",
    "                       \n",
    "    # This method does not give the shortest path\n",
    "    def solve_recursion(self, x=None, y=None):\n",
    "        if x is None or y is None:\n",
    "            x = self.start_x\n",
    "            y = self.start_y\n",
    "        if x == self.end_x and y == self.end_y:\n",
    "            self.solutions.append((x, y))\n",
    "            return True\n",
    "        elif (x, y) in self.visited:\n",
    "            return False\n",
    "        elif self.grid.is_valid(x, y):\n",
    "            self.visited.add((x, y))\n",
    "            if (self.solve_recursion(x + 1, y) or \n",
    "                self.solve_recursion(x - 1, y) or \n",
    "                self.solve_recursion(x, y + 1) or \n",
    "                self.solve_recursion(x, y - 1)):\n",
    "                self.solutions.append((x, y))\n",
    "                return True\n",
    "        else:\n",
    "            return False\n",
    "        \n",
    "    def get_steps(self):\n",
    "        return len(self.solution) - 1"
   ]
  },
  {
   "cell_type": "code",
   "execution_count": 3,
   "metadata": {
    "ExecuteTime": {
     "end_time": "2016-12-18T23:39:01.829124",
     "start_time": "2016-12-18T23:39:01.822926"
    },
    "collapsed": false
   },
   "outputs": [],
   "source": [
    "# Test\n",
    "grid = Grid(width=10, height=7, number=10)\n",
    "maze = Maze(start_x=1, start_y=1, end_x=7, end_y=4, grid=grid)\n",
    "#maze.solve_recursion()\n",
    "maze.solve(init=True)\n",
    "assert maze.get_steps() == 11"
   ]
  },
  {
   "cell_type": "code",
   "execution_count": 4,
   "metadata": {
    "ExecuteTime": {
     "end_time": "2016-12-18T23:39:01.837312",
     "start_time": "2016-12-18T23:39:01.832555"
    },
    "collapsed": false
   },
   "outputs": [
    {
     "name": "stdout",
     "output_type": "stream",
     "text": [
      ".#.####.##\n",
      "..#..#...#\n",
      "#....##...\n",
      "###.#.###.\n",
      ".##..#..#.\n",
      "..##....#.\n",
      "#...##.###\n",
      "\n",
      "-#.####.##\n",
      "-o#--#...#\n",
      "#ooo-##...\n",
      "###o#.###.\n",
      ".##oo#-o#.\n",
      "..##oooo#.\n",
      "#...##-###\n",
      "\n"
     ]
    }
   ],
   "source": [
    "print(grid)\n",
    "print()\n",
    "print(maze)"
   ]
  },
  {
   "cell_type": "code",
   "execution_count": 5,
   "metadata": {
    "ExecuteTime": {
     "end_time": "2016-12-18T23:39:01.861102",
     "start_time": "2016-12-18T23:39:01.839804"
    },
    "collapsed": false
   },
   "outputs": [
    {
     "name": "stdout",
     "output_type": "stream",
     "text": [
      "82\n",
      "#--###-#...#..#....##.#...#....#..\n",
      "#o#..#-##.#######.#.#.####.##.###.\n",
      "#oo#.#-##.#....##...#..#.####.####\n",
      "##oo##-##.#..#...###.#.....#.....#\n",
      "--#o##--########.#.#####...#..##.#\n",
      "#--ooooooooo-###.....#####.#####..\n",
      "###-##-####o--#.##....#..#.#..#.##\n",
      "#.#--#-##-#o#-######..#.##..#.####\n",
      "-###------#oo#..#--####.###..#..#.\n",
      "-####--###.#o##.#-#...#..#.#.##.##\n",
      "--######-###o-###--##.#..###..##.#\n",
      "#--##--#-oooo--###-#..###......#.#\n",
      "-------##o##-#-----#....#.##.#.###\n",
      "#####-#.#o##---###-##...##.#..#..#\n",
      "...##--##o#.###..#-###.#.##.#..#..\n",
      ".#.###-#oo#...#.##---#..#.#..#....\n",
      "##..#--#o######.#####.#..###..##.#\n",
      "....##-#o##--#...##.#.##.####..#.#\n",
      "##...#--oooo-#......#..-..#.###...\n",
      "###.#######o########.##-#.###.##..\n",
      ".##.#...###o##ooo#.##.#--#.....##.\n",
      ".##.#.....#oooo#oo#.##.#-####.#.#.\n",
      "...###.##.#-###.#o##.###---##..##.\n",
      ".#..##.#..##..##-o-#-----#--##.#..\n",
      "###....#...###.#-o-##-#####-#..#..\n",
      ".#.##.###.#..#.##o#.###--#--##.###\n",
      ".####..##..#.#.##oo#ooooo#---#.#..\n",
      "...#.#...#..##..##ooo###o##-##..#.\n",
      "#..##.##..#.###.#.####.#o##-###.#.\n",
      "##..#######..#..#.....##ooooo#..##\n",
      ".###..#......#..###.#.#.###-o#....\n",
      "#..##.#..########.###.###.##o##..#\n",
      ".#...####....#.......#...#.#o#####\n",
      "...#....#..#.#.##..#.###..##o##---\n",
      "############.#.#####....#.#-oooo#-\n",
      "#..##..#....##..#....##.#.#--##o#-\n",
      "#....#.##.#.#.#.#.###.#..######o#-\n",
      "##.#..#.#.#.##..##..##.#.....#oo##\n",
      ".##.#...#.##.#...#.#.######..#o#..\n",
      "#.#..###...#.##.##.##..##.#..#oo..\n",
      ".###.#.#.#.####.##..#.....##..##..\n",
      ".###..##..#...#.....#..######..##.\n",
      "\n"
     ]
    }
   ],
   "source": [
    "grid = Grid(width=34, height=42, number=1362)\n",
    "maze = Maze(start_x=1, start_y=1, end_x=31, end_y=39, grid=grid)\n",
    "maze.solve(init=True)\n",
    "print(maze.get_steps())\n",
    "print(maze)"
   ]
  },
  {
   "cell_type": "raw",
   "metadata": {},
   "source": [
    "--- Part Two ---\n",
    "\n",
    "How many locations (distinct x,y coordinates, including your starting location) can you reach in at most 50 steps?\n",
    "\n",
    "Your puzzle input is still 1362."
   ]
  },
  {
   "cell_type": "code",
   "execution_count": 6,
   "metadata": {
    "ExecuteTime": {
     "end_time": "2016-12-18T23:39:01.874733",
     "start_time": "2016-12-18T23:39:01.862884"
    },
    "collapsed": true
   },
   "outputs": [],
   "source": [
    "class MazeSteps(Maze):\n",
    "    \n",
    "    def solve(self, init=False, max_steps=None):\n",
    "        if init:\n",
    "            self.movements.append((self.start_x, self.start_y, [(self.start_x, self.start_y)]))\n",
    "        while len(self.movements) > 0:\n",
    "            (x, y, path) = self.movements.pop(0)\n",
    "            self.visited.add((x, y))\n",
    "            for (x_, y_) in [(x + 1, y), (x - 1, y), (x, y + 1), (x, y - 1)]:\n",
    "                if self.grid.is_valid(x_, y_) and (x_, y_) not in self.visited and len(path) <= max_steps:\n",
    "                    self.movements.append((x_, y_, path + [(x_, y_)]))\n",
    "                    \n",
    "    def get_visited(self):\n",
    "        return len(self.visited)"
   ]
  },
  {
   "cell_type": "code",
   "execution_count": 7,
   "metadata": {
    "ExecuteTime": {
     "end_time": "2016-12-18T23:39:01.889086",
     "start_time": "2016-12-18T23:39:01.876397"
    },
    "collapsed": false
   },
   "outputs": [
    {
     "name": "stdout",
     "output_type": "stream",
     "text": [
      "138\n",
      "#--###-#...#..#....##.#...#....#....#..#.#.##...##\n",
      "#-#..#-##.#######.#.#.####.##.###...##.#..#.###...\n",
      "#--#.#-##.#....##...#..#.####.####...#..#..#..#.#.\n",
      "##--##-##.#..#...###.#.....#.....##.######....#..#\n",
      "--#-##--########.#.#####...#..##.##.#.....##.###.#\n",
      "#------------###.....#####.#####....#..##..#.###..\n",
      "###-##-####---#.##....#..#.#..#.##.####.##....####\n",
      "#.#--#-##-#-#-######..#.##..#.####..#.#######..###\n",
      "-###------#--#..#--####.###..#..#.#.##..#.......##\n",
      "-####--###.#-##.#-#...#..#.#.##.##......#..####..#\n",
      "--######-###--###--##.#..###..##.#..##.####...#..#\n",
      "#--##--#-------###-#..###......#.#####..#.#...#...\n",
      "-------##-##-#-----#....#.##.#.###..#.#.####..##.#\n",
      "#####-#.#-##---###-##...##.#..#..##.##...#######..\n",
      "...##--##-#.###..#-###.#.##.#..#..##.#.....#..####\n",
      ".#.###-#--#...#.##---#..#.#..#.......##..#.##..##.\n",
      "##..#--#-######.#####.#..###..##.###.####...#.....\n",
      "....##-#-##--#...##.#.##.####..#.###....#...#..###\n",
      "##...#-------#......#.....#.###...########.#####.#\n",
      "###.#######-########.##.#.###.##...##..#.#.##..#.#\n",
      ".##.#...###-##---#.##.#..#.....##....#.##......#.#\n",
      ".##.#.....#----#--#.##.#.####.#.#.##..#.#####.##.#\n",
      "...###.##.#-###.#-##.###...##..##.#.#......##.#..#\n",
      ".#..##.#..##..##---#.....#..##.#..#..##..#.##.#.##\n",
      "###....#...###.#---##.#####.#..#..##.#####..###.#.\n",
      ".#.##.###.#..#.##-#.###..#..##.#####..........#.##\n",
      ".####..##..#.#.##..#.....#...#.#..#####.##.##.##.#\n",
      "...#.#...#..##..##...###.##.##..#..##.#.##.#...#.#\n",
      "#..##.##..#.###.#.####.#.##.###.#.....#....#.#.###\n",
      "##..#######..#..#.....##.....#..######.##..#..#...\n",
      ".###..#......#..###.#.#.###..#.....#.##.###.#..###\n",
      "#..##.#..########.###.###.##.##..#.#..###.#..#.##.\n",
      ".#...####....#.......#...#.#.#####.#.#...###.....#\n",
      "...#....#..#.#.##..#.###..##.##...##.###.####.##..\n",
      "############.#.#####....#.#.....#.##......#.#.#.##\n",
      "#..##..#....##..#....##.#.#..##.#....##.#.##..#.##\n",
      "#....#.##.#.#.#.#.###.#..######.#.###.#.##.#..#...\n",
      "##.#..#.#.#.##..##..##.#.....#..###.##...#.###.##.\n",
      ".##.#...#.##.#...#.#.######..#.#..##.#.#.#.#.#####\n",
      "#.#..###...#.##.##.##..##.#..#.....#.#..##.....###\n",
      ".###.#.#.#.####.##..#.....##..##...#..#.####....##\n",
      ".###..##..#...#.....#..######..##.####...######..#\n",
      "..#.#.#.#..##.#.##.#####..#.##.##.##.#....#...#...\n",
      "#.##..#..#.#..##.#.##..#..####.##...#####.#...#.##\n",
      ".#.#.###...#...##......###..##....#.##..####..#..#\n",
      ".#.#.####.###.#.#####.#...#....##.#.......####.#..\n",
      ".#....###..##......##..##...###.#.#.##..#.##.####.\n",
      "###.#..#.#...##..#.###.#.##.#.##..##.###...#...#.#\n",
      "#.#.#..##.##.#####..#..##.#.##.#...#.#.#...##..##.\n",
      "##..##..####.##.....##..##...####.##.#.##.#.#.#.#.\n",
      "\n"
     ]
    }
   ],
   "source": [
    "grid = Grid(width=50, height=50, number=1362)\n",
    "maze = MazeSteps(start_x=1, start_y=1, end_x=31, end_y=39, grid=grid)\n",
    "maze.solve(init=True, max_steps=50)\n",
    "print(maze.get_visited())\n",
    "print(maze)"
   ]
  }
 ],
 "metadata": {
  "kernelspec": {
   "display_name": "Python 3",
   "language": "python",
   "name": "python3"
  },
  "language_info": {
   "codemirror_mode": {
    "name": "ipython",
    "version": 3
   },
   "file_extension": ".py",
   "mimetype": "text/x-python",
   "name": "python",
   "nbconvert_exporter": "python",
   "pygments_lexer": "ipython3",
   "version": "3.5.2+"
  }
 },
 "nbformat": 4,
 "nbformat_minor": 2
}
