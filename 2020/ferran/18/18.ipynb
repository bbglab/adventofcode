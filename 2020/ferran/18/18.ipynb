{
 "cells": [
  {
   "cell_type": "markdown",
   "metadata": {},
   "source": [
    "# Day 18"
   ]
  },
  {
   "cell_type": "code",
   "execution_count": null,
   "metadata": {},
   "outputs": [],
   "source": [
    "! cat README.md"
   ]
  },
  {
   "cell_type": "code",
   "execution_count": null,
   "metadata": {},
   "outputs": [],
   "source": [
    "with open('input.txt', 'rt') as f:\n",
    "    lines = f.read().splitlines()"
   ]
  },
  {
   "cell_type": "code",
   "execution_count": null,
   "metadata": {},
   "outputs": [],
   "source": [
    "import re\n",
    "from functools import reduce\n",
    "import numpy as np\n",
    "\n",
    "od = {'+': lambda x,y: x+y, '*': lambda x,y: x*y}\n",
    "\n",
    "def split(expr):\n",
    "    \"\"\"splits expression into left, operator and reminder\"\"\"\n",
    "    c = expr[0]\n",
    "    if re.match(r'\\d', c):\n",
    "        if len(expr) == 1:\n",
    "            return c, None, None\n",
    "        else:\n",
    "            return c, expr[2], expr[4:]\n",
    "    elif c == '(':\n",
    "        cs = np.cumsum(list(map(lambda x: dict(zip('()', [1, -1])).get(x, 0), expr)))\n",
    "        close = min([i for i, val in enumerate(cs) if val == 0])\n",
    "        if len(expr) == close + 1:\n",
    "            return expr[1: close], None, None\n",
    "        else:\n",
    "            return expr[1: close], expr[close + 2], expr[close + 4:]\n",
    "\n",
    "        \n",
    "def fold(queue):\n",
    "    acc = queue[0]\n",
    "    for i, operator in enumerate(queue[1::2]):\n",
    "        value = queue[2*i+2]\n",
    "        acc = od[operator](acc, value)\n",
    "    return acc\n",
    "        \n",
    "    \n",
    "def evaluate(expr):\n",
    "    if len(expr) == 1:\n",
    "        return int(expr)\n",
    "    queue = [expr]\n",
    "    while True:\n",
    "        s = queue.pop()\n",
    "        left, op, right = split(s)\n",
    "        queue.append(evaluate(left))\n",
    "        if op is None:\n",
    "            return fold(queue)\n",
    "        else:\n",
    "            queue.append(op)\n",
    "            queue.append(right)"
   ]
  },
  {
   "cell_type": "code",
   "execution_count": null,
   "metadata": {},
   "outputs": [],
   "source": [
    "# test\n",
    "\n",
    "assert(evaluate('2 * 3 + (4 * 5)') == 26)\n",
    "assert(evaluate('5 + (8 * 3 + 9 + 3 * 4 * 3)') == 437)\n",
    "assert(evaluate('5 * 9 * (7 * 3 * 3 + 9 * 3 + (8 + 6 * 4))') == 12240)\n",
    "assert(evaluate('((2 + 4 * 9) * (6 + 9 * 8 + 6) + 6) + 2 + 4 * 2') == 13632)"
   ]
  },
  {
   "cell_type": "code",
   "execution_count": null,
   "metadata": {},
   "outputs": [],
   "source": [
    "# solution\n",
    "\n",
    "reduce(lambda x,y:x+y, list(map(evaluate, lines)), 0)"
   ]
  },
  {
   "cell_type": "raw",
   "metadata": {},
   "source": [
    "--- Part Two ---\n",
    "You manage to answer the child's questions and they finish part 1 of their homework, but get stuck when they reach the next section: advanced math.\n",
    "\n",
    "Now, addition and multiplication have different precedence levels, but they're not the ones you're familiar with. Instead, addition is evaluated before multiplication.\n",
    "\n",
    "For example, the steps to evaluate the expression 1 + 2 * 3 + 4 * 5 + 6 are now as follows:\n",
    "\n",
    "1 + 2 * 3 + 4 * 5 + 6\n",
    "  3   * 3 + 4 * 5 + 6\n",
    "  3   *   7   * 5 + 6\n",
    "  3   *   7   *  11\n",
    "     21       *  11\n",
    "         231\n",
    "Here are the other examples from above:\n",
    "\n",
    "1 + (2 * 3) + (4 * (5 + 6)) still becomes 51.\n",
    "2 * 3 + (4 * 5) becomes 46.\n",
    "5 + (8 * 3 + 9 + 3 * 4 * 3) becomes 1445.\n",
    "5 * 9 * (7 * 3 * 3 + 9 * 3 + (8 + 6 * 4)) becomes 669060.\n",
    "((2 + 4 * 9) * (6 + 9 * 8 + 6) + 6) + 2 + 4 * 2 becomes 23340.\n",
    "What do you get if you add up the results of evaluating the homework problems using these new rules?"
   ]
  },
  {
   "cell_type": "code",
   "execution_count": null,
   "metadata": {},
   "outputs": [],
   "source": [
    "def fold(queue):\n",
    "    if '*' not in queue:\n",
    "        return reduce(lambda x,y: x+y, queue[::2])\n",
    "    else:\n",
    "        chunks = [list(g[1]) for g in itertools.groupby(queue, key=lambda x: x != '*') if g[0]]\n",
    "        return reduce(lambda x,y: x*y, list(map(fold, chunks)))"
   ]
  },
  {
   "cell_type": "code",
   "execution_count": null,
   "metadata": {},
   "outputs": [],
   "source": [
    "# test\n",
    "\n",
    "assert(evaluate('1 + (2 * 3) + (4 * (5 + 6))') == 51)\n",
    "assert(evaluate('2 * 3 + (4 * 5)') == 46)\n",
    "assert(evaluate('5 + (8 * 3 + 9 + 3 * 4 * 3)') == 1445)\n",
    "assert(evaluate('5 * 9 * (7 * 3 * 3 + 9 * 3 + (8 + 6 * 4))') == 669060)\n",
    "assert(evaluate('((2 + 4 * 9) * (6 + 9 * 8 + 6) + 6) + 2 + 4 * 2') == 23340)"
   ]
  },
  {
   "cell_type": "code",
   "execution_count": null,
   "metadata": {},
   "outputs": [],
   "source": [
    "# solution\n",
    "\n",
    "reduce(lambda x,y:x+y, list(map(evaluate, lines)), 0)"
   ]
  }
 ],
 "metadata": {
  "kernelspec": {
   "display_name": "Python [conda env:stats_env]",
   "language": "python",
   "name": "conda-env-stats_env-py"
  },
  "language_info": {
   "codemirror_mode": {
    "name": "ipython",
    "version": 3
   },
   "file_extension": ".py",
   "mimetype": "text/x-python",
   "name": "python",
   "nbconvert_exporter": "python",
   "pygments_lexer": "ipython3",
   "version": "3.7.6"
  }
 },
 "nbformat": 4,
 "nbformat_minor": 2
}
