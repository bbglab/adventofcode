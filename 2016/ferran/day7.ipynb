{
 "cells": [
  {
   "cell_type": "markdown",
   "metadata": {
    "collapsed": false
   },
   "source": [
    "# Chellenge 7\n",
    "\n",
    "## Challenge 7.1"
   ]
  },
  {
   "cell_type": "code",
   "execution_count": 10,
   "metadata": {
    "collapsed": true
   },
   "outputs": [],
   "source": [
    "myinput = '/home/fmuinos/projects/adventofcode/2016/ferran/inputs/input7.txt'"
   ]
  },
  {
   "cell_type": "code",
   "execution_count": 24,
   "metadata": {
    "collapsed": false
   },
   "outputs": [],
   "source": [
    "def fourlyndromes(mystr):\n",
    "    for i in range(len(mystr)-3):\n",
    "        if (mystr[i] == mystr[i+3]) and (mystr[i+1] == mystr[i+2]) and (mystr[i] != mystr[i+1]):\n",
    "            return True\n",
    "    return False\n",
    "\n",
    "def separate_brackets(mystr):\n",
    "    bracket_dict = {'[': set([]), ']': set([])}\n",
    "    state = ']'\n",
    "    myword = ''\n",
    "    for char in mystr:\n",
    "        if char == '[' or char == ']' or char == '\\n':\n",
    "            if myword != '':\n",
    "                bracket_dict[state].add(myword)\n",
    "                myword = ''\n",
    "            state = char \n",
    "        else:\n",
    "            myword += char\n",
    "    return bracket_dict\n",
    "            \n",
    "def tls_count(myinput):\n",
    "    tls_counter = 0\n",
    "    with open(myinput, 'rt') as f:\n",
    "        for line in f:\n",
    "            bracket_dict = separate_brackets(line)\n",
    "            inside = False\n",
    "            for word in bracket_dict['[']:\n",
    "                if fourlyndromes(word):\n",
    "                    inside = True\n",
    "                    continue\n",
    "            outside = False\n",
    "            for word in bracket_dict[']']:\n",
    "                if fourlyndromes(word):\n",
    "                    outside = True\n",
    "                    continue\n",
    "            if (not inside) and outside:\n",
    "                    tls_counter += 1\n",
    "    return tls_counter"
   ]
  },
  {
   "cell_type": "code",
   "execution_count": 25,
   "metadata": {
    "collapsed": false
   },
   "outputs": [
    {
     "data": {
      "text/plain": [
       "115"
      ]
     },
     "execution_count": 25,
     "metadata": {},
     "output_type": "execute_result"
    }
   ],
   "source": [
    "tls_count(myinput)"
   ]
  },
  {
   "cell_type": "markdown",
   "metadata": {},
   "source": [
    "## Challenge 7.2"
   ]
  },
  {
   "cell_type": "code",
   "execution_count": 28,
   "metadata": {
    "collapsed": false
   },
   "outputs": [],
   "source": [
    "def threelyndromes(mystr):\n",
    "    myset = set([])\n",
    "    for i in range(len(mystr)-2):\n",
    "        if (mystr[i] == mystr[i+2]) and (mystr[i] != mystr[i+1]):\n",
    "            myset.add(''.join(mystr[i:i+3]))\n",
    "    return myset\n",
    "\n",
    "def transform(aba):\n",
    "    return aba[1]+aba[0]+aba[1]\n",
    "\n",
    "def ssl_count(myinput):\n",
    "    ssl_counter = 0\n",
    "    with open(myinput, 'rt') as f:\n",
    "        for line in f:\n",
    "            bracket_dict = separate_brackets(line)\n",
    "            inside = set([])\n",
    "            for word in bracket_dict['[']:\n",
    "                inside = inside.union(threelyndromes(word))\n",
    "            outside = set([])\n",
    "            for word in bracket_dict[']']:\n",
    "                for aba in threelyndromes(word):\n",
    "                    outside.add(transform(aba))\n",
    "            if len(outside.intersection(inside)) > 0:\n",
    "                ssl_counter += 1\n",
    "    return ssl_counter"
   ]
  },
  {
   "cell_type": "code",
   "execution_count": 29,
   "metadata": {
    "collapsed": false
   },
   "outputs": [
    {
     "data": {
      "text/plain": [
       "231"
      ]
     },
     "execution_count": 29,
     "metadata": {},
     "output_type": "execute_result"
    }
   ],
   "source": [
    "ssl_count(myinput)"
   ]
  }
 ],
 "metadata": {
  "anaconda-cloud": {},
  "kernelspec": {
   "display_name": "Python [conda env:adventofcode]",
   "language": "python",
   "name": "conda-env-adventofcode-py"
  },
  "language_info": {
   "codemirror_mode": {
    "name": "ipython",
    "version": 3
   },
   "file_extension": ".py",
   "mimetype": "text/x-python",
   "name": "python",
   "nbconvert_exporter": "python",
   "pygments_lexer": "ipython3",
   "version": "3.5.2"
  }
 },
 "nbformat": 4,
 "nbformat_minor": 1
}
