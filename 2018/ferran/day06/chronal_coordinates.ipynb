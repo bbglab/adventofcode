{
 "cells": [
  {
   "cell_type": "markdown",
   "metadata": {},
   "source": [
    "# Part 1"
   ]
  },
  {
   "cell_type": "code",
   "execution_count": 1,
   "metadata": {
    "collapsed": true
   },
   "outputs": [],
   "source": [
    "import numpy as np\n",
    "from itertools import product"
   ]
  },
  {
   "cell_type": "code",
   "execution_count": 2,
   "metadata": {},
   "outputs": [],
   "source": [
    "l = ! cat input.txt | tr '\\n' ';'\n",
    "l = l[0].rstrip(';').split(';')\n",
    "l = list(map(lambda v: np.array(list(map(lambda x: int(x), v.split(', ')))), l))"
   ]
  },
  {
   "cell_type": "code",
   "execution_count": 18,
   "metadata": {},
   "outputs": [],
   "source": [
    "def find_infinite(points):\n",
    "    infinite = []\n",
    "    for p in points:\n",
    "        if has_empty_flank(p, points):\n",
    "            infinite.append(p)\n",
    "    return infinite\n",
    "\n",
    "def has_empty_flank(p, points):\n",
    "    flank_empty = False\n",
    "    for gamma, omega in product([-1, 1], repeat=2):\n",
    "        s = in_flank(p, points, gamma, omega)\n",
    "        if len(s) == 0:\n",
    "            flank_empty = True\n",
    "            break\n",
    "    return flank_empty\n",
    "\n",
    "def in_flank(p, points, gamma, omega):\n",
    "    gammav = np.array([1, -1])\n",
    "    omegav = np.array([1, 1])\n",
    "    flanking_set = []\n",
    "    for q in points:\n",
    "        if not np.all(q == p):\n",
    "            eq1 = gamma * np.dot(gammav, q - p)\n",
    "            eq2 = omega * np.dot(omegav, q - p)\n",
    "            if (eq1 >= 0) and (eq2 >= 0):\n",
    "                flanking_set.append(q)\n",
    "    return flanking_set"
   ]
  },
  {
   "cell_type": "code",
   "execution_count": 24,
   "metadata": {
    "collapsed": true
   },
   "outputs": [],
   "source": [
    "def largest_finite_area(points):\n",
    "    largest = 0\n",
    "    infinite = list(map(tuple, find_infinite(points)))\n",
    "    for p in points:\n",
    "        if tuple(p) not in infinite:\n",
    "            area = len(find_closest_set(p, points))\n",
    "            if area > largest:\n",
    "                largest = area\n",
    "    return largest + 1\n",
    "\n",
    "def find_closest_set(p, points):\n",
    "    acc = []\n",
    "    r = 1\n",
    "    is_ball_empty = False\n",
    "    while not is_ball_empty:\n",
    "        is_ball_empty = True\n",
    "        for x in ball(p, r):\n",
    "            if is_closest(x, p, points):\n",
    "                acc.append(x)\n",
    "                is_ball_empty = False\n",
    "        r += 1\n",
    "    return acc\n",
    "            \n",
    "def ball(center, radius):\n",
    "    for i in range(-radius, radius + 1):\n",
    "        for j in set([radius - abs(i), abs(i) - radius]):\n",
    "            yield center + np.array([i, j])\n",
    "\n",
    "def dist(a, b):\n",
    "    return np.sum(np.abs(a - b))\n",
    "            \n",
    "def is_closest(x, p, points):\n",
    "    d = dist(x, p)\n",
    "    draw = False\n",
    "    for q in points:\n",
    "        if not np.all(q == p):\n",
    "            if dist(x, q) < d:\n",
    "                return False\n",
    "            elif dist(x, q) == d:\n",
    "                draw = True\n",
    "    if draw:\n",
    "        return False\n",
    "    return True"
   ]
  },
  {
   "cell_type": "markdown",
   "metadata": {},
   "source": [
    "## Test"
   ]
  },
  {
   "cell_type": "code",
   "execution_count": 28,
   "metadata": {},
   "outputs": [
    {
     "data": {
      "text/plain": [
       "17"
      ]
     },
     "execution_count": 28,
     "metadata": {},
     "output_type": "execute_result"
    }
   ],
   "source": [
    "t = [np.array([1, 1]), np.array([1, 6]), np.array([8, 3]), \n",
    "     np.array([3, 4]), np.array([5, 5]), np.array([8, 9])]\n",
    "largest_finite_area(t)"
   ]
  },
  {
   "cell_type": "markdown",
   "metadata": {},
   "source": [
    "## Solution"
   ]
  },
  {
   "cell_type": "code",
   "execution_count": 29,
   "metadata": {},
   "outputs": [
    {
     "data": {
      "text/plain": [
       "3687"
      ]
     },
     "execution_count": 29,
     "metadata": {},
     "output_type": "execute_result"
    }
   ],
   "source": [
    "largest_finite_area(l)"
   ]
  },
  {
   "cell_type": "markdown",
   "metadata": {},
   "source": [
    "# Part 2"
   ]
  },
  {
   "cell_type": "code",
   "execution_count": 32,
   "metadata": {
    "collapsed": true
   },
   "outputs": [],
   "source": [
    "def is_within(p, points, thresh):\n",
    "    acc = 0\n",
    "    for q in points:\n",
    "        acc += dist(p, q)\n",
    "        if acc >= thresh:\n",
    "            return False\n",
    "    return True\n",
    "\n",
    "def all_within(points, thresh):\n",
    "    acc = []\n",
    "    for p in points:\n",
    "        r = 0\n",
    "        is_ball_empty = False\n",
    "        while not is_ball_empty:\n",
    "            is_ball_empty = True\n",
    "            for q in ball(p, r):\n",
    "                if (tuple(q) not in acc) and is_within(q, points, thresh):\n",
    "                    acc.append(tuple(q))\n",
    "                    is_ball_empty = False\n",
    "            r += 1\n",
    "    return len(acc)"
   ]
  },
  {
   "cell_type": "markdown",
   "metadata": {},
   "source": [
    "## Test"
   ]
  },
  {
   "cell_type": "code",
   "execution_count": 33,
   "metadata": {},
   "outputs": [
    {
     "data": {
      "text/plain": [
       "16"
      ]
     },
     "execution_count": 33,
     "metadata": {},
     "output_type": "execute_result"
    }
   ],
   "source": [
    "all_within(t, 32)"
   ]
  },
  {
   "cell_type": "markdown",
   "metadata": {},
   "source": [
    "## Solution"
   ]
  },
  {
   "cell_type": "code",
   "execution_count": 34,
   "metadata": {},
   "outputs": [
    {
     "data": {
      "text/plain": [
       "40134"
      ]
     },
     "execution_count": 34,
     "metadata": {},
     "output_type": "execute_result"
    }
   ],
   "source": [
    "all_within(l, 10000)"
   ]
  }
 ],
 "metadata": {
  "kernelspec": {
   "display_name": "Python [conda env:adventofcode]",
   "language": "python",
   "name": "conda-env-adventofcode-py"
  },
  "language_info": {
   "codemirror_mode": {
    "name": "ipython",
    "version": 3
   },
   "file_extension": ".py",
   "mimetype": "text/x-python",
   "name": "python",
   "nbconvert_exporter": "python",
   "pygments_lexer": "ipython3",
   "version": "3.5.2"
  }
 },
 "nbformat": 4,
 "nbformat_minor": 2
}
