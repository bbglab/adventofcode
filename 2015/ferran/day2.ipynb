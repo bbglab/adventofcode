{
 "cells": [
  {
   "cell_type": "markdown",
   "metadata": {},
   "source": [
    "# Day 2"
   ]
  },
  {
   "cell_type": "code",
   "execution_count": 9,
   "metadata": {
    "collapsed": true
   },
   "outputs": [],
   "source": [
    "myinput = '/home/fmuinos/projects/adventofcode/2015/ferran/inputs/input2.txt'"
   ]
  },
  {
   "cell_type": "markdown",
   "metadata": {},
   "source": [
    "## Day 2.1"
   ]
  },
  {
   "cell_type": "code",
   "execution_count": 10,
   "metadata": {
    "collapsed": false
   },
   "outputs": [
    {
     "name": "stdout",
     "output_type": "stream",
     "text": [
      "1588178\n"
     ]
    }
   ],
   "source": [
    "with open(myinput, 'rt') as f:\n",
    "    paper = 0\n",
    "    for line in f:\n",
    "        g = sorted([int(x) for x in line.rstrip().split('x')])\n",
    "        paper += 3*g[0]*g[1] + 2*g[0]*g[2] + 2*g[1]*g[2]\n",
    "    print(paper)"
   ]
  },
  {
   "cell_type": "markdown",
   "metadata": {},
   "source": [
    "## Day 2.2"
   ]
  },
  {
   "cell_type": "code",
   "execution_count": 11,
   "metadata": {
    "collapsed": false
   },
   "outputs": [
    {
     "name": "stdout",
     "output_type": "stream",
     "text": [
      "3783758\n"
     ]
    }
   ],
   "source": [
    "with open(myinput, 'rt') as f:\n",
    "    paper = 0\n",
    "    for line in f:\n",
    "        g = sorted([int(x) for x in line.rstrip().split('x')])\n",
    "        paper += 2*g[0] + 2*g[1] + g[0]*g[1]*g[2]\n",
    "    print(paper)"
   ]
  }
 ],
 "metadata": {
  "anaconda-cloud": {},
  "kernelspec": {
   "display_name": "Python [conda env:adventofcode]",
   "language": "python",
   "name": "conda-env-adventofcode-py"
  },
  "language_info": {
   "codemirror_mode": {
    "name": "ipython",
    "version": 3
   },
   "file_extension": ".py",
   "mimetype": "text/x-python",
   "name": "python",
   "nbconvert_exporter": "python",
   "pygments_lexer": "ipython3",
   "version": "3.5.2"
  }
 },
 "nbformat": 4,
 "nbformat_minor": 1
}
