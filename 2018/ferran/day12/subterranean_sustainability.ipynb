{
 "cells": [
  {
   "cell_type": "markdown",
   "metadata": {
    "collapsed": true
   },
   "source": [
    "# Part 1"
   ]
  },
  {
   "cell_type": "code",
   "execution_count": 5,
   "metadata": {
    "collapsed": true
   },
   "outputs": [],
   "source": [
    "initial = '.##..#.#..##..##..##...#####.#.....#..#..##.###.#.####......#.......#..###.#.#.##.#.#.###...##.###.#'"
   ]
  },
  {
   "cell_type": "code",
   "execution_count": 6,
   "metadata": {
    "collapsed": true
   },
   "outputs": [],
   "source": [
    "r = ! cat input.txt | tr '\\n' ';'\n",
    "r = dict(list(map(lambda x: tuple(x.split(' => ')), r[0].split(';')[:-1])))"
   ]
  },
  {
   "cell_type": "code",
   "execution_count": 31,
   "metadata": {
    "collapsed": true
   },
   "outputs": [],
   "source": [
    "def evolve(state, rules, time):\n",
    "    s = state\n",
    "    for t in range(1, time + 1):\n",
    "        n = len(s)\n",
    "        s = '....' + s + '....'\n",
    "        new = []\n",
    "        for i in range(n + 5):\n",
    "            k = s[i: i + 5]\n",
    "            new.append(rules.get(k, '.'))\n",
    "        s = ''.join(new)\n",
    "        yield list(filter(lambda x: s[x + 2 * t] == '#', range(-2 * t, len(state) + 2 * t)))\n",
    "\n",
    "def sumofpots(state, rules, time):\n",
    "    final = None\n",
    "    for l in evolve(state, rules, time):\n",
    "        final = l\n",
    "    return sum(final)"
   ]
  },
  {
   "cell_type": "markdown",
   "metadata": {},
   "source": [
    "## Test"
   ]
  },
  {
   "cell_type": "code",
   "execution_count": 32,
   "metadata": {
    "collapsed": true
   },
   "outputs": [],
   "source": [
    "initial_test = '#..#.#..##......###...###'\n",
    "rules_test = ! cat input_test.txt | tr '\\n' ';'\n",
    "rules_test = dict(list(map(lambda x: tuple(x.split(' => ')), rules_test[0].split(';')[:-1])))"
   ]
  },
  {
   "cell_type": "code",
   "execution_count": 33,
   "metadata": {
    "scrolled": false
   },
   "outputs": [
    {
     "data": {
      "text/plain": [
       "325"
      ]
     },
     "execution_count": 33,
     "metadata": {},
     "output_type": "execute_result"
    }
   ],
   "source": [
    "sumofpots(initial_test, rules_test, 20)"
   ]
  },
  {
   "cell_type": "markdown",
   "metadata": {},
   "source": [
    "## Solution"
   ]
  },
  {
   "cell_type": "code",
   "execution_count": 34,
   "metadata": {
    "scrolled": false
   },
   "outputs": [
    {
     "data": {
      "text/plain": [
       "3738"
      ]
     },
     "execution_count": 34,
     "metadata": {},
     "output_type": "execute_result"
    }
   ],
   "source": [
    "sumofpots(initial, r, 20)"
   ]
  },
  {
   "cell_type": "markdown",
   "metadata": {},
   "source": [
    "# Part 2\n",
    "\n",
    "A pattern is a configuration of plants modulo shifting. Every pattern has the following signature: the sequence of numbers occupied by plants, with respect to the leftmost position which we take as 0."
   ]
  },
  {
   "cell_type": "code",
   "execution_count": 43,
   "metadata": {
    "collapsed": true
   },
   "outputs": [],
   "source": [
    "forever = 50000000000"
   ]
  },
  {
   "cell_type": "code",
   "execution_count": 62,
   "metadata": {},
   "outputs": [],
   "source": [
    "def pattern_repetition(state, rules, time):\n",
    "    hashes = {}\n",
    "    period = None\n",
    "    for i, l in enumerate(evolve(state, rules, time)):\n",
    "        sig = hash(tuple([c - l[0] for c in l]))\n",
    "        if sig in hashes:\n",
    "            period = i - hashes[sig]\n",
    "            break\n",
    "        hashes[hash(sig)] = i\n",
    "    return i + 1, period, l"
   ]
  },
  {
   "cell_type": "code",
   "execution_count": 65,
   "metadata": {},
   "outputs": [
    {
     "data": {
      "text/plain": [
       "(100, 1)"
      ]
     },
     "execution_count": 65,
     "metadata": {},
     "output_type": "execute_result"
    }
   ],
   "source": [
    "generation, period, l = pattern_repetition(initial, r, forever)\n",
    "generation, period"
   ]
  },
  {
   "cell_type": "code",
   "execution_count": 66,
   "metadata": {},
   "outputs": [
    {
     "data": {
      "text/plain": [
       "3900000002467"
      ]
     },
     "execution_count": 66,
     "metadata": {},
     "output_type": "execute_result"
    }
   ],
   "source": [
    "len(l) * (forever - generation) + sum(l)"
   ]
  }
 ],
 "metadata": {
  "kernelspec": {
   "display_name": "Python [conda env:adventofcode]",
   "language": "python",
   "name": "conda-env-adventofcode-py"
  },
  "language_info": {
   "codemirror_mode": {
    "name": "ipython",
    "version": 3
   },
   "file_extension": ".py",
   "mimetype": "text/x-python",
   "name": "python",
   "nbconvert_exporter": "python",
   "pygments_lexer": "ipython3",
   "version": "3.5.2"
  }
 },
 "nbformat": 4,
 "nbformat_minor": 2
}
