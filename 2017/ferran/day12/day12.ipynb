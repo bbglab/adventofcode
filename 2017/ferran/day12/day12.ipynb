{
 "cells": [
  {
   "cell_type": "markdown",
   "metadata": {},
   "source": [
    "# Digital Plumber"
   ]
  },
  {
   "cell_type": "markdown",
   "metadata": {},
   "source": [
    "## Part 1"
   ]
  },
  {
   "cell_type": "code",
   "execution_count": 45,
   "metadata": {
    "ExecuteTime": {
     "end_time": "2017-12-12T07:44:07.403710",
     "start_time": "2017-12-12T07:44:07.359383"
    }
   },
   "outputs": [],
   "source": [
    "import csv\n",
    "from collections import defaultdict\n",
    "\n",
    "def parse(input_path):\n",
    "    pipes = defaultdict(set)\n",
    "    with open(input_path, 'rt') as f_input:\n",
    "        csv_reader = csv.reader(f_input, delimiter=' ')\n",
    "        for l in csv_reader:\n",
    "            pipes[int(l[0])] = set([int(n.rstrip(',')) for n in l[2:]])\n",
    "    for k in pipes:\n",
    "        for n in pipes[k]:\n",
    "            pipes[n].add(k)\n",
    "    return pipes\n",
    "\n",
    "def connected(node, pipes):\n",
    "    neighbors = pipes[node]\n",
    "    pending = list(neighbors)\n",
    "    while pending:\n",
    "        alice = pending.pop(0)\n",
    "        for bob in pipes[alice]:\n",
    "            if bob in neighbors:\n",
    "                pass\n",
    "            else:\n",
    "                neighbors.add(bob)\n",
    "                pending.append(bob)\n",
    "    return neighbors\n",
    "\n",
    "def length_neighborhood(input_path, node):\n",
    "    pipes = parse(input_path)\n",
    "    return len(connected(node, pipes))"
   ]
  },
  {
   "cell_type": "markdown",
   "metadata": {
    "ExecuteTime": {
     "end_time": "2017-12-12T07:36:04.445948",
     "start_time": "2017-12-12T07:36:04.418175"
    }
   },
   "source": [
    "### Test"
   ]
  },
  {
   "cell_type": "code",
   "execution_count": 53,
   "metadata": {
    "ExecuteTime": {
     "end_time": "2017-12-12T07:49:30.960225",
     "start_time": "2017-12-12T07:49:30.949329"
    }
   },
   "outputs": [],
   "source": [
    "assert(length_neighborhood('input.test1.txt', 0) == 6)"
   ]
  },
  {
   "cell_type": "markdown",
   "metadata": {},
   "source": [
    "### Solution"
   ]
  },
  {
   "cell_type": "code",
   "execution_count": 47,
   "metadata": {
    "ExecuteTime": {
     "end_time": "2017-12-12T07:44:09.594775",
     "start_time": "2017-12-12T07:44:09.578176"
    }
   },
   "outputs": [
    {
     "data": {
      "text/plain": [
       "141"
      ]
     },
     "execution_count": 47,
     "metadata": {},
     "output_type": "execute_result"
    }
   ],
   "source": [
    "length_neighborhood('input.txt', 0)"
   ]
  },
  {
   "cell_type": "markdown",
   "metadata": {},
   "source": [
    "## Part 2"
   ]
  },
  {
   "cell_type": "code",
   "execution_count": 51,
   "metadata": {
    "ExecuteTime": {
     "end_time": "2017-12-12T07:49:10.655029",
     "start_time": "2017-12-12T07:49:10.640401"
    }
   },
   "outputs": [],
   "source": [
    "def no_groups(input_path):\n",
    "    pipes = parse(input_path)\n",
    "    covered = set()\n",
    "    group_count = 0\n",
    "    for node in pipes:\n",
    "        if node not in covered:\n",
    "            neighbors = connected(node, pipes)\n",
    "            covered = covered.union(neighbors)\n",
    "            group_count += 1\n",
    "    return group_count"
   ]
  },
  {
   "cell_type": "markdown",
   "metadata": {
    "ExecuteTime": {
     "end_time": "2017-12-12T07:48:21.479168",
     "start_time": "2017-12-12T07:48:21.470280"
    },
    "collapsed": true
   },
   "source": [
    "### Test"
   ]
  },
  {
   "cell_type": "code",
   "execution_count": 54,
   "metadata": {
    "ExecuteTime": {
     "end_time": "2017-12-12T07:49:48.815366",
     "start_time": "2017-12-12T07:49:48.809465"
    }
   },
   "outputs": [],
   "source": [
    "assert(no_groups('input.test1.txt') == 2)"
   ]
  },
  {
   "cell_type": "markdown",
   "metadata": {},
   "source": [
    "### Solution"
   ]
  },
  {
   "cell_type": "code",
   "execution_count": 55,
   "metadata": {
    "ExecuteTime": {
     "end_time": "2017-12-12T07:50:05.882532",
     "start_time": "2017-12-12T07:50:05.853927"
    }
   },
   "outputs": [
    {
     "data": {
      "text/plain": [
       "171"
      ]
     },
     "execution_count": 55,
     "metadata": {},
     "output_type": "execute_result"
    }
   ],
   "source": [
    "no_groups('input.txt')"
   ]
  }
 ],
 "metadata": {
  "kernelspec": {
   "display_name": "Python [conda env:adventofcode]",
   "language": "python",
   "name": "conda-env-adventofcode-py"
  },
  "language_info": {
   "codemirror_mode": {
    "name": "ipython",
    "version": 3
   },
   "file_extension": ".py",
   "mimetype": "text/x-python",
   "name": "python",
   "nbconvert_exporter": "python",
   "pygments_lexer": "ipython3",
   "version": "3.5.2"
  },
  "toc": {
   "colors": {
    "hover_highlight": "#DAA520",
    "running_highlight": "#FF0000",
    "selected_highlight": "#FFD700"
   },
   "moveMenuLeft": true,
   "nav_menu": {
    "height": "66px",
    "width": "252px"
   },
   "navigate_menu": true,
   "number_sections": true,
   "sideBar": true,
   "threshold": 4,
   "toc_cell": false,
   "toc_section_display": "block",
   "toc_window_display": false
  }
 },
 "nbformat": 4,
 "nbformat_minor": 2
}
