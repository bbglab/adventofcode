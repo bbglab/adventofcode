{
 "cells": [
  {
   "cell_type": "markdown",
   "metadata": {},
   "source": [
    "# Day 7"
   ]
  },
  {
   "cell_type": "markdown",
   "metadata": {
    "ExecuteTime": {
     "end_time": "2017-12-03T00:53:13.569737",
     "start_time": "2017-12-03T00:53:13.558938"
    }
   },
   "source": [
    "## Day 7.1"
   ]
  },
  {
   "cell_type": "raw",
   "metadata": {},
   "source": [
    "Each wire has an identifier (some lowercase letters) and can carry a 16-bit signal (a number from 0 to 65535). A signal is provided to each wire by a gate, another wire, or some specific value. Each wire can only get a signal from one source, but can provide its signal to multiple destinations. A gate provides no signal until all of its inputs have a signal.\n",
    "\n",
    "The included instructions booklet describes how to connect the parts together: \n",
    "x AND y -> z means to connect wires x and y to an AND gate, and then connect its output to wire z.\n",
    "\n",
    "For example:\n",
    "\n",
    "123 -> x means that the signal 123 is provided to wire x.\n",
    "\n",
    "x AND y -> z means that the bitwise AND of wire x and wire y is provided to wire z.\n",
    "\n",
    "p LSHIFT 2 -> q means that the value from wire p is left-shifted by 2 and then provided to wire q.\n",
    "\n",
    "NOT e -> f means that the bitwise complement of the value from wire e is provided to wire f.\n",
    "\n",
    "Other possible gates include OR (bitwise OR) and RSHIFT (right-shift). If, for some reason, \n",
    "you'd like to emulate the circuit instead, almost all programming languages (for example, C, \n",
    "JavaScript, or Python) provide operators for these gates.\n",
    "\n",
    "In little Bobby's kit's instructions booklet (provided as your puzzle input), \n",
    "what signal is ultimately provided to wire a?"
   ]
  },
  {
   "cell_type": "markdown",
   "metadata": {
    "ExecuteTime": {
     "end_time": "2017-12-06T17:57:41.458923",
     "start_time": "2017-12-06T17:57:41.348098"
    }
   },
   "source": [
    "## Approach 1: Create a single expression by recursive substitution"
   ]
  },
  {
   "cell_type": "code",
   "execution_count": 20,
   "metadata": {
    "ExecuteTime": {
     "end_time": "2017-12-06T17:57:42.343186",
     "start_time": "2017-12-06T17:57:42.328767"
    },
    "collapsed": true
   },
   "outputs": [],
   "source": [
    "binary_command = {'NOT': '~', 'AND': '&', 'OR': '|', 'LSHIFT': '<<', 'RSHIFT': '>>'}\n",
    "operators = binary_command.values()"
   ]
  },
  {
   "cell_type": "code",
   "execution_count": 21,
   "metadata": {
    "ExecuteTime": {
     "end_time": "2017-12-06T17:57:43.030348",
     "start_time": "2017-12-06T17:57:42.963047"
    },
    "collapsed": true
   },
   "outputs": [],
   "source": [
    "import csv\n",
    "\n",
    "def translate(l):\n",
    "    return [binary_command[a] if a in binary_command else a for a in l]\n",
    "\n",
    "def display(input_file):\n",
    "\n",
    "    \"\"\"produce a dict mapping variables to expressions\"\"\"\n",
    "    \n",
    "    commands = []\n",
    "    with open(input_file, 'rt') as f_input:\n",
    "        csv_reader = csv.reader(f_input, delimiter=' ')\n",
    "        for line in csv_reader:\n",
    "            commands.append((line[-1], ' '.join(list(translate(line[:-2])))))\n",
    "    return dict(commands)"
   ]
  },
  {
   "cell_type": "code",
   "execution_count": 32,
   "metadata": {
    "ExecuteTime": {
     "end_time": "2017-12-06T18:00:38.882285",
     "start_time": "2017-12-06T18:00:38.839903"
    },
    "collapsed": true
   },
   "outputs": [],
   "source": [
    "import re\n",
    "\n",
    "def extract_variables(expr):\n",
    "    varbls = []\n",
    "    regex_pattern = '\\s|\\\\)|\\\\('\n",
    "    l = re.split(regex_pattern, expr)\n",
    "    for a in l:\n",
    "        if (a not in operators) and (not a.isnumeric()) and (a != ''):\n",
    "            varbls.append(a)\n",
    "    return set(varbls)\n",
    "\n",
    "\n",
    "def create_instance(wire):\n",
    "    exec_python = commands[wire]\n",
    "    pending = extract_variables(commands[wire])\n",
    "    count = 0\n",
    "    while pending and (count < 200):\n",
    "        s = pending.pop()\n",
    "        expr = commands[s]\n",
    "        exec_python = re.sub('({0})'.format(s), '( {0} )'.format(expr), exec_python)\n",
    "        pending = pending.union(extract_variables(exec_python))\n",
    "        count += 1\n",
    "    return wire + ' = ' + exec_python\n",
    "\n",
    "def evaluate(var):\n",
    "    instance = create_instance(var)\n",
    "    exec(instance)\n",
    "    return np.uint16(locals()[var])"
   ]
  },
  {
   "cell_type": "markdown",
   "metadata": {},
   "source": [
    "### Test"
   ]
  },
  {
   "cell_type": "raw",
   "metadata": {},
   "source": [
    "For example, here is a simple circuit:\n",
    "\n",
    "123 -> x\n",
    "456 -> y\n",
    "x AND y -> d\n",
    "x OR y -> e\n",
    "x LSHIFT 2 -> f\n",
    "y RSHIFT 2 -> g\n",
    "NOT x -> h\n",
    "NOT y -> i\n",
    "\n",
    "After it is run, these are the signals on the wires:\n",
    "\n",
    "d: 72\n",
    "e: 507\n",
    "f: 492\n",
    "g: 114\n",
    "h: 65412\n",
    "i: 65079\n",
    "x: 123\n",
    "y: 456"
   ]
  },
  {
   "cell_type": "code",
   "execution_count": 40,
   "metadata": {
    "ExecuteTime": {
     "end_time": "2017-12-06T18:06:30.935672",
     "start_time": "2017-12-06T18:06:30.923935"
    },
    "collapsed": true
   },
   "outputs": [],
   "source": [
    "commands = display('inputs/input7.test.txt')"
   ]
  },
  {
   "cell_type": "code",
   "execution_count": 41,
   "metadata": {
    "ExecuteTime": {
     "end_time": "2017-12-06T18:06:32.080710",
     "start_time": "2017-12-06T18:06:32.049500"
    },
    "collapsed": true
   },
   "outputs": [],
   "source": [
    "def test():\n",
    "    assert(evaluate('d') == 72)\n",
    "    assert(evaluate('e') == 507)\n",
    "    assert(evaluate('f') == 492)\n",
    "    assert(evaluate('g') == 114)\n",
    "    assert(evaluate('h') == 65412)\n",
    "    assert(evaluate('i') == 65079)\n",
    "    assert(evaluate('x') == 123)\n",
    "    assert(evaluate('y') == 456)"
   ]
  },
  {
   "cell_type": "code",
   "execution_count": 42,
   "metadata": {
    "ExecuteTime": {
     "end_time": "2017-12-06T18:06:33.347008",
     "start_time": "2017-12-06T18:06:33.331492"
    },
    "collapsed": true
   },
   "outputs": [],
   "source": [
    "test()"
   ]
  },
  {
   "cell_type": "markdown",
   "metadata": {},
   "source": [
    "This approach seems correct, but it creates huge expressions along the way that become harder and harder to parse. Thus the time to a final expression that wraps up all the computations is very long. Two ideas to explore: i) concurrent evaluation of expressions; ii) define lazy variables/functions that collect all the dependencies of the circuit and start firing upon request.\n",
    "\n",
    "## Approach 2: Keep evaluating the unknown variables from the known ones.\n",
    "\n",
    "The solution provided hereto owes credit to this source: https://www.reddit.com/r/adventofcode/comments/5id6w0/2015_day_7_part_1_python_wrong_answer/"
   ]
  },
  {
   "cell_type": "code",
   "execution_count": 37,
   "metadata": {
    "ExecuteTime": {
     "end_time": "2017-12-06T18:04:59.205454",
     "start_time": "2017-12-06T18:04:59.175233"
    },
    "collapsed": true
   },
   "outputs": [],
   "source": [
    "import numpy as np\n",
    "\n",
    "def RSHIFT(a, b):\n",
    "    result = np.uint16(a) >> int(b)\n",
    "    return int(result)\n",
    "\n",
    "def LSHIFT(a, b):\n",
    "    result = np.uint16(a) << int(b)\n",
    "    return int(result)\n",
    "\n",
    "def OR(a, b):\n",
    "    result = np.uint16(a) | np.uint16(b)\n",
    "    return int(result)\n",
    "\n",
    "def AND(a, b):\n",
    "    result = np.uint16(a) & np.uint16(b)\n",
    "    return int(result)\n",
    "\n",
    "def NOT(a):\n",
    "    result = ~ np.uint16(a)\n",
    "    return int(result)"
   ]
  },
  {
   "cell_type": "code",
   "execution_count": 59,
   "metadata": {
    "ExecuteTime": {
     "end_time": "2017-12-06T19:06:06.070723",
     "start_time": "2017-12-06T19:06:06.057568"
    },
    "collapsed": true
   },
   "outputs": [],
   "source": [
    "import csv\n",
    "def display(input_file):\n",
    "\n",
    "    \"\"\"produce a dict mapping variables to expressions\"\"\"\n",
    "    \n",
    "    commands = []\n",
    "    with open(input_file, 'rt') as f_input:\n",
    "        csv_reader = csv.reader(f_input, delimiter=' ')\n",
    "        for line in csv_reader:\n",
    "            commands.append((line[-1], line[:-2]))\n",
    "    return dict(commands)"
   ]
  },
  {
   "cell_type": "code",
   "execution_count": 105,
   "metadata": {
    "ExecuteTime": {
     "end_time": "2017-12-06T20:01:50.605011",
     "start_time": "2017-12-06T20:01:50.553116"
    },
    "collapsed": true
   },
   "outputs": [],
   "source": [
    "def evaluate(wire):\n",
    "    known = {}\n",
    "    while wire not in known:\n",
    "        if wire in known:\n",
    "            break\n",
    "        for k, v in commands.items():\n",
    "            if (len(v) == 1) and (v[0].isnumeric()) and (k not in known):\n",
    "                known[k] = int(v[0])\n",
    "            elif (len(v) == 1) and (v[0] in known) and (k not in known):\n",
    "                known[k] = known[v[0]]\n",
    "            elif ('AND' in v) and (v[0] in known) and (v[2] in known):\n",
    "                known[k] = AND(known[v[0]], known[v[2]])\n",
    "            elif ('AND' in v) and (v[0].isnumeric()) and (v[2] in known):\n",
    "                known[k] = AND(int(v[0]), known[v[2]])\n",
    "            elif ('AND' in v) and (v[0] in known) and (v[2].isnumeric()):\n",
    "                known[k] = AND(known[v[0]], int(v[2]))\n",
    "            elif ('OR' in v) and (v[0] in known) and (v[2] in known):\n",
    "                known[k] = OR(known[v[0]], known[v[2]])\n",
    "            elif ('OR' in v) and (v[0].isnumeric()) and (v[2] in known):\n",
    "                known[k] = OR(int(v[0]), known[v[2]])\n",
    "            elif ('OR' in v) and (v[0] in known) and (v[2].isnumeric()):\n",
    "                known[k] = OR(known[v[0]], int(v[2]))\n",
    "            elif ('LSHIFT' in v) and (v[0] in known):\n",
    "                known[k] = LSHIFT(known[v[0]], v[2])\n",
    "            elif ('RSHIFT' in v) and (v[0] in known):\n",
    "                known[k] = RSHIFT(known[v[0]], v[2])\n",
    "            elif ('NOT' in v) and (v[1] in known):\n",
    "                known[k] = NOT(known[v[1]])\n",
    "    return known[wire]"
   ]
  },
  {
   "cell_type": "markdown",
   "metadata": {},
   "source": [
    "### Test 0"
   ]
  },
  {
   "cell_type": "code",
   "execution_count": 107,
   "metadata": {
    "ExecuteTime": {
     "end_time": "2017-12-06T20:01:52.487286",
     "start_time": "2017-12-06T20:01:52.471497"
    }
   },
   "outputs": [
    {
     "data": {
      "text/plain": [
       "{'a': ['b'], 'b': ['1', 'OR', 'x'], 'x': ['12']}"
      ]
     },
     "execution_count": 107,
     "metadata": {},
     "output_type": "execute_result"
    }
   ],
   "source": [
    "commands = display('inputs/input7.test1.txt')\n",
    "commands"
   ]
  },
  {
   "cell_type": "code",
   "execution_count": 108,
   "metadata": {
    "ExecuteTime": {
     "end_time": "2017-12-06T20:01:54.197916",
     "start_time": "2017-12-06T20:01:54.180599"
    }
   },
   "outputs": [
    {
     "data": {
      "text/plain": [
       "13"
      ]
     },
     "execution_count": 108,
     "metadata": {},
     "output_type": "execute_result"
    }
   ],
   "source": [
    "evaluate('a')"
   ]
  },
  {
   "cell_type": "markdown",
   "metadata": {},
   "source": [
    "### Test 1"
   ]
  },
  {
   "cell_type": "code",
   "execution_count": 109,
   "metadata": {
    "ExecuteTime": {
     "end_time": "2017-12-06T20:02:43.369787",
     "start_time": "2017-12-06T20:02:43.353700"
    }
   },
   "outputs": [
    {
     "data": {
      "text/plain": [
       "{'d': ['x', 'AND', 'y'],\n",
       " 'e': ['x', 'OR', 'y'],\n",
       " 'f': ['x', 'LSHIFT', '2'],\n",
       " 'g': ['y', 'RSHIFT', '2'],\n",
       " 'h': ['NOT', 'x'],\n",
       " 'i': ['NOT', 'y'],\n",
       " 'x': ['123'],\n",
       " 'y': ['456']}"
      ]
     },
     "execution_count": 109,
     "metadata": {},
     "output_type": "execute_result"
    }
   ],
   "source": [
    "commands = display('inputs/input7.test2.txt')\n",
    "commands"
   ]
  },
  {
   "cell_type": "code",
   "execution_count": 110,
   "metadata": {
    "ExecuteTime": {
     "end_time": "2017-12-06T20:02:58.902949",
     "start_time": "2017-12-06T20:02:58.890052"
    },
    "collapsed": true
   },
   "outputs": [],
   "source": [
    "test()"
   ]
  },
  {
   "cell_type": "markdown",
   "metadata": {
    "ExecuteTime": {
     "end_time": "2017-12-06T19:23:28.534800",
     "start_time": "2017-12-06T19:23:28.520311"
    }
   },
   "source": [
    "### Solution"
   ]
  },
  {
   "cell_type": "code",
   "execution_count": 111,
   "metadata": {
    "ExecuteTime": {
     "end_time": "2017-12-06T20:03:21.167476",
     "start_time": "2017-12-06T20:03:21.058917"
    }
   },
   "outputs": [
    {
     "data": {
      "text/plain": [
       "16076"
      ]
     },
     "execution_count": 111,
     "metadata": {},
     "output_type": "execute_result"
    }
   ],
   "source": [
    "commands = display('inputs/input7.txt')\n",
    "evaluate('a')"
   ]
  },
  {
   "cell_type": "markdown",
   "metadata": {},
   "source": [
    "## Approach 3: Lazy Variable Wrappers"
   ]
  },
  {
   "cell_type": "code",
   "execution_count": 113,
   "metadata": {
    "ExecuteTime": {
     "end_time": "2017-12-06T20:05:12.032442",
     "start_time": "2017-12-06T20:05:12.022761"
    },
    "collapsed": true
   },
   "outputs": [],
   "source": [
    "# TODO"
   ]
  },
  {
   "cell_type": "markdown",
   "metadata": {},
   "source": [
    "## Day 7.2"
   ]
  },
  {
   "cell_type": "code",
   "execution_count": 114,
   "metadata": {
    "ExecuteTime": {
     "end_time": "2017-12-06T20:05:48.678340",
     "start_time": "2017-12-06T20:05:48.559478"
    }
   },
   "outputs": [
    {
     "data": {
      "text/plain": [
       "2797"
      ]
     },
     "execution_count": 114,
     "metadata": {},
     "output_type": "execute_result"
    }
   ],
   "source": [
    "commands = display('inputs/input7.txt')\n",
    "commands['b'] = ['16076']\n",
    "evaluate('a')"
   ]
  }
 ],
 "metadata": {
  "kernelspec": {
   "display_name": "Python [conda env:adventofcode]",
   "language": "python",
   "name": "conda-env-adventofcode-py"
  },
  "language_info": {
   "codemirror_mode": {
    "name": "ipython",
    "version": 3
   },
   "file_extension": ".py",
   "mimetype": "text/x-python",
   "name": "python",
   "nbconvert_exporter": "python",
   "pygments_lexer": "ipython3",
   "version": "3.5.2"
  },
  "toc": {
   "colors": {
    "hover_highlight": "#DAA520",
    "running_highlight": "#FF0000",
    "selected_highlight": "#FFD700"
   },
   "moveMenuLeft": true,
   "nav_menu": {
    "height": "66px",
    "width": "252px"
   },
   "navigate_menu": true,
   "number_sections": true,
   "sideBar": true,
   "threshold": 4,
   "toc_cell": false,
   "toc_section_display": "block",
   "toc_window_display": false
  }
 },
 "nbformat": 4,
 "nbformat_minor": 2
}
