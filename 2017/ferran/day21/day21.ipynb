{
 "cells": [
  {
   "cell_type": "markdown",
   "metadata": {},
   "source": [
    "# Fractal Art"
   ]
  },
  {
   "cell_type": "code",
   "execution_count": 141,
   "metadata": {
    "ExecuteTime": {
     "end_time": "2017-12-22T21:37:10.195103",
     "start_time": "2017-12-22T21:37:10.168709"
    },
    "collapsed": true
   },
   "outputs": [],
   "source": [
    "import csv\n",
    "\n",
    "def parse_rules(input_path):\n",
    "    enhancement_rules = {}\n",
    "    symbol_dict = {'.': '0', '#': '1', '/': ''}\n",
    "    with open(input_path, 'rt') as f_input:\n",
    "        csv_reader = csv.reader(f_input, delimiter=' ')\n",
    "        for line in csv_reader:\n",
    "            key = ''.join(list(map(lambda a: symbol_dict[a], list(line[0]))))\n",
    "            value = ''.join(list(map(lambda a: symbol_dict[a], list(line[2]))))\n",
    "            enhancement_rules[key] = value\n",
    "    return enhancement_rules"
   ]
  },
  {
   "cell_type": "markdown",
   "metadata": {},
   "source": [
    "## Part 1"
   ]
  },
  {
   "cell_type": "code",
   "execution_count": 150,
   "metadata": {
    "ExecuteTime": {
     "end_time": "2017-12-22T21:44:27.658709",
     "start_time": "2017-12-22T21:44:27.509693"
    }
   },
   "outputs": [],
   "source": [
    "import numpy as np\n",
    "from itertools import product\n",
    "\n",
    "def make_fractal(seq):\n",
    "    n = int(np.sqrt(len(seq)))\n",
    "    return np.array(list(seq), dtype=np.object).reshape((n, n))\n",
    "\n",
    "def make_seq(fractal):\n",
    "    return ''.join(list(fractal.reshape(fractal.shape[0] ** 2)))\n",
    "\n",
    "def three_index_rotate(i, j):\n",
    "    z = np.array([i - 1, j - 1])\n",
    "    m = np.array([[0, 1], [-1, 0]])\n",
    "    return tuple(m.dot(z))\n",
    "\n",
    "def rotate(fractal):\n",
    "    if fractal.shape[0] == 3:\n",
    "        rot_fractal = np.empty((3, 3), dtype=np.object)\n",
    "        for i, j in product([0, 1, 2], repeat=2):\n",
    "            if i == j == 1:\n",
    "                rot_fractal[i, j] = fractal[i, j]\n",
    "            else:\n",
    "                a, b = three_index_rotate(i, j)\n",
    "                rot_fractal[a + 1, b + 1] = fractal[i, j]\n",
    "        return rot_fractal\n",
    "    elif fractal.shape[0] == 2:\n",
    "        rot_fractal = np.empty((2, 2), dtype=np.object)\n",
    "        rot_dict = {(0, 0): (0, 1), (0, 1): (1, 1), (1, 1): (1, 0), (1, 0): (0, 0)}\n",
    "        for i, j in product([0, 1], repeat=2):\n",
    "            rot_fractal[rot_dict[(i, j)]] = fractal[i, j]\n",
    "        return rot_fractal\n",
    "\n",
    "def v_flip(fractal):\n",
    "    flipped = np.empty_like(fractal)\n",
    "    if flipped.shape[0] == 3:\n",
    "        flipped[1,:] = fractal[1,:]\n",
    "    flipped[0,:]= fractal[-1,:]\n",
    "    flipped[-1,:]= fractal[0,:]\n",
    "    return flipped\n",
    "\n",
    "def h_flip(fractal):\n",
    "    flipped = np.empty_like(fractal)\n",
    "    if flipped.shape[0] == 3:\n",
    "        flipped[:,1] = fractal[:,1]\n",
    "    flipped[:,0]= fractal[:,-1]\n",
    "    flipped[:,-1]= fractal[:,0]\n",
    "    return flipped\n",
    "    \n",
    "def generate_all_group(fractal):\n",
    "    # TODO: create a generator that does\n",
    "    # BFS by avoiding repeats\n",
    "    queue = [fractal]\n",
    "    visited = []\n",
    "    while queue:\n",
    "        f = queue.pop(0)\n",
    "        f_hash = hash(f.tostring())\n",
    "        if f_hash not in visited:\n",
    "            visited.append(f_hash)\n",
    "            queue.append(rotate(f))\n",
    "            queue.append(v_flip(f))\n",
    "            queue.append(h_flip(f))\n",
    "            yield f\n",
    "    \n",
    "def enhance(fractal, er):\n",
    "    seq = make_seq(fractal)\n",
    "    for f in generate_all_group(fractal):\n",
    "        seq = make_seq(f)\n",
    "        if seq in er:\n",
    "            return make_fractal(er[seq])\n",
    "    else:\n",
    "        print('did not match any enhancement rule')\n",
    "\n",
    "def transform(fractal, er):\n",
    "    n = fractal.shape[0]\n",
    "    if n % 2 == 0:\n",
    "        transformed = np.empty((3 * n // 2, 3 * n // 2), dtype=np.object)\n",
    "        for i, j in product(range(n // 2), repeat=2):\n",
    "            transformed[3 * i: 3 * (i + 1), 3 * j: 3 * (j + 1)] = enhance(fractal[2 * i: 2 * (i + 1), 2 * j: 2 * (j + 1)], er)\n",
    "    elif n % 3 == 0:\n",
    "        transformed = np.empty((4 * n // 3, 4 * n // 3), dtype=np.object)\n",
    "        for i, j in product(range(n // 3), repeat=2):\n",
    "            transformed[4 * i: 4 * (i + 1), 4 * j: 4 * (j + 1)] = enhance(fractal[3 * i: 3 * (i + 1), 3 * j: 3 * (j + 1)], er)\n",
    "    return transformed\n",
    "\n",
    "def main_iterate(initial_state, n, er):\n",
    "    fractal = make_fractal(initial_state)\n",
    "    for _ in range(n):\n",
    "        fractal = transform(fractal, er)\n",
    "    return fractal\n",
    "\n",
    "def num_ones(fractal):\n",
    "    return sum(fractal[i, j] == '1' for i, j in product(range(fractal.shape[0]), repeat=2))"
   ]
  },
  {
   "cell_type": "markdown",
   "metadata": {},
   "source": [
    "### Test"
   ]
  },
  {
   "cell_type": "code",
   "execution_count": 151,
   "metadata": {
    "ExecuteTime": {
     "end_time": "2017-12-22T21:44:38.786092",
     "start_time": "2017-12-22T21:44:38.767258"
    }
   },
   "outputs": [
    {
     "data": {
      "text/plain": [
       "12"
      ]
     },
     "execution_count": 151,
     "metadata": {},
     "output_type": "execute_result"
    }
   ],
   "source": [
    "er_test = {'0001': '110100000', '010001111': '1001000000001001'}\n",
    "fractal = main_iterate('010001111', 2, er_test)\n",
    "num_ones(fractal)"
   ]
  },
  {
   "cell_type": "markdown",
   "metadata": {},
   "source": [
    "### Solution"
   ]
  },
  {
   "cell_type": "code",
   "execution_count": 152,
   "metadata": {
    "ExecuteTime": {
     "end_time": "2017-12-22T21:45:29.557231",
     "start_time": "2017-12-22T21:45:29.509497"
    }
   },
   "outputs": [
    {
     "data": {
      "text/plain": [
       "152"
      ]
     },
     "execution_count": 152,
     "metadata": {},
     "output_type": "execute_result"
    }
   ],
   "source": [
    "er_sol = parse_rules('input.txt')\n",
    "fractal = main_iterate('010001111', 5, er_sol)\n",
    "num_ones(fractal)"
   ]
  },
  {
   "cell_type": "markdown",
   "metadata": {},
   "source": [
    "## Part 2"
   ]
  },
  {
   "cell_type": "code",
   "execution_count": 153,
   "metadata": {
    "ExecuteTime": {
     "end_time": "2017-12-22T21:47:11.998509",
     "start_time": "2017-12-22T21:46:20.389802"
    }
   },
   "outputs": [
    {
     "data": {
      "text/plain": [
       "1956174"
      ]
     },
     "execution_count": 153,
     "metadata": {},
     "output_type": "execute_result"
    }
   ],
   "source": [
    "er_sol = parse_rules('input.txt')\n",
    "fractal = main_iterate('010001111', 18, er_sol)\n",
    "num_ones(fractal)"
   ]
  }
 ],
 "metadata": {
  "kernelspec": {
   "display_name": "Python [conda env:adventofcode]",
   "language": "python",
   "name": "conda-env-adventofcode-py"
  },
  "language_info": {
   "codemirror_mode": {
    "name": "ipython",
    "version": 3
   },
   "file_extension": ".py",
   "mimetype": "text/x-python",
   "name": "python",
   "nbconvert_exporter": "python",
   "pygments_lexer": "ipython3",
   "version": "3.5.2"
  },
  "toc": {
   "colors": {
    "hover_highlight": "#DAA520",
    "running_highlight": "#FF0000",
    "selected_highlight": "#FFD700"
   },
   "moveMenuLeft": true,
   "nav_menu": {
    "height": "66px",
    "width": "252px"
   },
   "navigate_menu": true,
   "number_sections": true,
   "sideBar": true,
   "threshold": 4,
   "toc_cell": false,
   "toc_section_display": "block",
   "toc_window_display": false
  }
 },
 "nbformat": 4,
 "nbformat_minor": 2
}
