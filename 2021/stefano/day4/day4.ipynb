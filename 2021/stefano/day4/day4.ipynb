{
 "cells": [
  {
   "cell_type": "markdown",
   "metadata": {},
   "source": [
    "# Day 4"
   ]
  },
  {
   "cell_type": "code",
   "execution_count": 1,
   "metadata": {},
   "outputs": [],
   "source": [
    "import pandas as pd\n",
    "import numpy as np"
   ]
  },
  {
   "cell_type": "code",
   "execution_count": 2,
   "metadata": {},
   "outputs": [
    {
     "data": {
      "text/html": [
       "<div>\n",
       "<style scoped>\n",
       "    .dataframe tbody tr th:only-of-type {\n",
       "        vertical-align: middle;\n",
       "    }\n",
       "\n",
       "    .dataframe tbody tr th {\n",
       "        vertical-align: top;\n",
       "    }\n",
       "\n",
       "    .dataframe thead th {\n",
       "        text-align: right;\n",
       "    }\n",
       "</style>\n",
       "<table border=\"1\" class=\"dataframe\">\n",
       "  <thead>\n",
       "    <tr style=\"text-align: right;\">\n",
       "      <th></th>\n",
       "      <th>0</th>\n",
       "      <th>1</th>\n",
       "      <th>2</th>\n",
       "      <th>3</th>\n",
       "      <th>4</th>\n",
       "      <th>board</th>\n",
       "    </tr>\n",
       "  </thead>\n",
       "  <tbody>\n",
       "    <tr>\n",
       "      <th>0</th>\n",
       "      <td>25</td>\n",
       "      <td>83</td>\n",
       "      <td>15</td>\n",
       "      <td>27</td>\n",
       "      <td>22</td>\n",
       "      <td>0</td>\n",
       "    </tr>\n",
       "    <tr>\n",
       "      <th>1</th>\n",
       "      <td>97</td>\n",
       "      <td>81</td>\n",
       "      <td>12</td>\n",
       "      <td>80</td>\n",
       "      <td>52</td>\n",
       "      <td>0</td>\n",
       "    </tr>\n",
       "    <tr>\n",
       "      <th>2</th>\n",
       "      <td>65</td>\n",
       "      <td>58</td>\n",
       "      <td>91</td>\n",
       "      <td>23</td>\n",
       "      <td>36</td>\n",
       "      <td>0</td>\n",
       "    </tr>\n",
       "    <tr>\n",
       "      <th>3</th>\n",
       "      <td>77</td>\n",
       "      <td>60</td>\n",
       "      <td>49</td>\n",
       "      <td>43</td>\n",
       "      <td>95</td>\n",
       "      <td>0</td>\n",
       "    </tr>\n",
       "    <tr>\n",
       "      <th>4</th>\n",
       "      <td>13</td>\n",
       "      <td>21</td>\n",
       "      <td>56</td>\n",
       "      <td>78</td>\n",
       "      <td>99</td>\n",
       "      <td>0</td>\n",
       "    </tr>\n",
       "    <tr>\n",
       "      <th>...</th>\n",
       "      <td>...</td>\n",
       "      <td>...</td>\n",
       "      <td>...</td>\n",
       "      <td>...</td>\n",
       "      <td>...</td>\n",
       "      <td>...</td>\n",
       "    </tr>\n",
       "    <tr>\n",
       "      <th>495</th>\n",
       "      <td>59</td>\n",
       "      <td>93</td>\n",
       "      <td>18</td>\n",
       "      <td>63</td>\n",
       "      <td>19</td>\n",
       "      <td>99</td>\n",
       "    </tr>\n",
       "    <tr>\n",
       "      <th>496</th>\n",
       "      <td>92</td>\n",
       "      <td>14</td>\n",
       "      <td>61</td>\n",
       "      <td>13</td>\n",
       "      <td>26</td>\n",
       "      <td>99</td>\n",
       "    </tr>\n",
       "    <tr>\n",
       "      <th>497</th>\n",
       "      <td>39</td>\n",
       "      <td>70</td>\n",
       "      <td>2</td>\n",
       "      <td>58</td>\n",
       "      <td>6</td>\n",
       "      <td>99</td>\n",
       "    </tr>\n",
       "    <tr>\n",
       "      <th>498</th>\n",
       "      <td>68</td>\n",
       "      <td>57</td>\n",
       "      <td>89</td>\n",
       "      <td>81</td>\n",
       "      <td>4</td>\n",
       "      <td>99</td>\n",
       "    </tr>\n",
       "    <tr>\n",
       "      <th>499</th>\n",
       "      <td>55</td>\n",
       "      <td>98</td>\n",
       "      <td>79</td>\n",
       "      <td>85</td>\n",
       "      <td>3</td>\n",
       "      <td>99</td>\n",
       "    </tr>\n",
       "  </tbody>\n",
       "</table>\n",
       "<p>500 rows × 6 columns</p>\n",
       "</div>"
      ],
      "text/plain": [
       "      0   1   2   3   4  board\n",
       "0    25  83  15  27  22      0\n",
       "1    97  81  12  80  52      0\n",
       "2    65  58  91  23  36      0\n",
       "3    77  60  49  43  95      0\n",
       "4    13  21  56  78  99      0\n",
       "..   ..  ..  ..  ..  ..    ...\n",
       "495  59  93  18  63  19     99\n",
       "496  92  14  61  13  26     99\n",
       "497  39  70   2  58   6     99\n",
       "498  68  57  89  81   4     99\n",
       "499  55  98  79  85   3     99\n",
       "\n",
       "[500 rows x 6 columns]"
      ]
     },
     "execution_count": 2,
     "metadata": {},
     "output_type": "execute_result"
    }
   ],
   "source": [
    "with open(\"input.txt\", \"r\") as f:\n",
    "    data = [line.strip() for line in f]\n",
    "    \n",
    "drawings = [int(n) for n in data[0].split(\",\")]\n",
    "\n",
    "boards = pd.DataFrame([[int(n) for n in line.split()] for line in data[1:] if line != \"\"])\n",
    "n_boards = int(len(boards) / 5)\n",
    "boards[\"board\"] = np.array([np.repeat(n, 5) for n in range(n_boards)]).reshape(-1)\n",
    "boards"
   ]
  },
  {
   "cell_type": "markdown",
   "metadata": {},
   "source": [
    "## Puzzle 1"
   ]
  },
  {
   "cell_type": "code",
   "execution_count": 3,
   "metadata": {},
   "outputs": [],
   "source": [
    "def check_bingo(marked_cells, drawings):\n",
    "    \n",
    "    marked_cells = marked_cells.drop(columns=[\"board\"])\n",
    "    cols_score = list(marked_cells.sum(axis=0))\n",
    "    rows_score = list(marked_cells.sum(axis=1))\n",
    "\n",
    "    return 5 in cols_score or 5 in rows_score\n",
    "\n",
    "\n",
    "def mark_cells(boards, new_drawings):\n",
    "\n",
    "    marked = boards.drop(columns=[\"board\"]).applymap(lambda x: x in new_drawings)\n",
    "    marked[\"board\"] = boards[\"board\"]\n",
    "    win_boards_ix = marked.groupby(\"board\").apply(lambda x: check_bingo(x, new_drawings))\n",
    "       \n",
    "    return marked, win_boards_ix\n",
    "\n",
    "\n",
    "def get_board_score(boards, marked, win_board_n, n):\n",
    "    \n",
    "    win_marks = marked[marked[\"board\"] == win_board_n].drop(columns=[\"board\"]).to_numpy().reshape(-1)\n",
    "    win_board = boards[boards[\"board\"] == win_board_n].drop(columns=[\"board\"]).to_numpy().reshape(-1)\n",
    "    sum_unmarked = sum(win_board[~win_marks])\n",
    "    \n",
    "    return sum_unmarked * n"
   ]
  },
  {
   "cell_type": "code",
   "execution_count": 4,
   "metadata": {},
   "outputs": [
    {
     "name": "stdout",
     "output_type": "stream",
     "text": [
      "Board 37: BINGO!!\n"
     ]
    },
    {
     "data": {
      "text/plain": [
       "50008"
      ]
     },
     "execution_count": 4,
     "metadata": {},
     "output_type": "execute_result"
    }
   ],
   "source": [
    "new_drawings = []\n",
    "\n",
    "for n in drawings:\n",
    "\n",
    "    # Draw and mark boards cells \n",
    "    new_drawings.append(n)    \n",
    "    marked, win_boards = mark_cells(boards, new_drawings)\n",
    "\n",
    "    # If bingo\n",
    "    if sum(win_boards) > 0:\n",
    "        win_board_n = np.where(win_boards)[0].item()\n",
    "        print(f\"Board {win_board_n}: BINGO!!\")\n",
    "        break\n",
    "\n",
    "get_board_score(boards, marked, win_board_n, n)"
   ]
  },
  {
   "cell_type": "markdown",
   "metadata": {},
   "source": [
    "## Puzzle 2"
   ]
  },
  {
   "cell_type": "code",
   "execution_count": 70,
   "metadata": {
    "scrolled": true
   },
   "outputs": [
    {
     "name": "stdout",
     "output_type": "stream",
     "text": [
      "Last winning board: 28\n"
     ]
    },
    {
     "data": {
      "text/plain": [
       "17408"
      ]
     },
     "execution_count": 70,
     "metadata": {},
     "output_type": "execute_result"
    }
   ],
   "source": [
    "new_drawings = []\n",
    "    \n",
    "for n in drawings:\n",
    "    \n",
    "    # Draw and mark boards cells \n",
    "    new_drawings.append(n)    \n",
    "    marked, win_boards = mark_cells(boards, new_drawings)\n",
    "\n",
    "    # If bingo\n",
    "    if sum(win_boards) > 0:\n",
    "        win_board_n = win_boards.loc[win_boards].index\n",
    "\n",
    "        # Remove completed boards and stop if there is only 1\n",
    "        if len(boards[\"board\"].unique()) > 1:\n",
    "            for i in win_board_n:\n",
    "                ix = boards[\"board\"] == i\n",
    "                boards = boards[~ix]\n",
    "                marked = marked[~ix]   \n",
    "        else: \n",
    "            print(f\"Last winning board: {win_board_n[0]}\")\n",
    "            break\n",
    "        \n",
    "get_board_score(boards, marked, win_board_n[0], n)"
   ]
  }
 ],
 "metadata": {
  "kernelspec": {
   "display_name": "Python 3 (ipykernel)",
   "language": "python",
   "name": "python3"
  },
  "language_info": {
   "codemirror_mode": {
    "name": "ipython",
    "version": 3
   },
   "file_extension": ".py",
   "mimetype": "text/x-python",
   "name": "python",
   "nbconvert_exporter": "python",
   "pygments_lexer": "ipython3",
   "version": "3.9.7"
  }
 },
 "nbformat": 4,
 "nbformat_minor": 4
}
