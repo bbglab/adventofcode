{
 "cells": [
  {
   "cell_type": "markdown",
   "metadata": {},
   "source": [
    "```\n",
    "--- Day 11: Radioisotope Thermoelectric Generators ---\n",
    "\n",
    "You come upon a column of four floors that have been entirely sealed off from the rest of the building except for a small dedicated lobby. There are some radiation warnings and a big sign which reads \"Radioisotope Testing Facility\".\n",
    "\n",
    "According to the project status board, this facility is currently being used to experiment with Radioisotope Thermoelectric Generators (RTGs, or simply \"generators\") that are designed to be paired with specially-constructed microchips. Basically, an RTG is a highly radioactive rock that generates electricity through heat.\n",
    "\n",
    "The experimental RTGs have poor radiation containment, so they're dangerously radioactive. The chips are prototypes and don't have normal radiation shielding, but they do have the ability to generate an elecromagnetic radiation shield when powered. Unfortunately, they can only be powered by their corresponding RTG. An RTG powering a microchip is still dangerous to other microchips.\n",
    "\n",
    "In other words, if a chip is ever left in the same area as another RTG, and it's not connected to its own RTG, the chip will be fried. Therefore, it is assumed that you will follow procedure and keep chips connected to their corresponding RTG when they're in the same room, and away from other RTGs otherwise.\n",
    "\n",
    "These microchips sound very interesting and useful to your current activities, and you'd like to try to retrieve them. The fourth floor of the facility has an assembling machine which can make a self-contained, shielded computer for you to take with you - that is, if you can bring it all of the RTGs and microchips.\n",
    "\n",
    "Within the radiation-shielded part of the facility (in which it's safe to have these pre-assembly RTGs), there is an elevator that can move between the four floors. Its capacity rating means it can carry at most yourself and two RTGs or microchips in any combination. (They're rigged to some heavy diagnostic equipment - the assembling machine will detach it for you.) As a security measure, the elevator will only function if it contains at least one RTG or microchip. The elevator always stops on each floor to recharge, and this takes long enough that the items within it and the items on that floor can irradiate each other. (You can prevent this if a Microchip and its Generator end up on the same floor in this way, as they can be connected while the elevator is recharging.)\n",
    "\n",
    "You make some notes of the locations of each component of interest (your puzzle input). Before you don a hazmat suit and start moving things around, you'd like to have an idea of what you need to do.\n",
    "\n",
    "When you enter the containment area, you and the elevator will start on the first floor.\n",
    "\n",
    "For example, suppose the isolated area has the following arrangement:\n",
    "\n",
    "The first floor contains a hydrogen-compatible microchip and a lithium-compatible microchip.\n",
    "The second floor contains a hydrogen generator.\n",
    "The third floor contains a lithium generator.\n",
    "The fourth floor contains nothing relevant.\n",
    "As a diagram (F# for a Floor number, E for Elevator, H for Hydrogen, L for Lithium, M for Microchip, and G for Generator), the initial state looks like this:\n",
    "\n",
    "F4 .  .  .  .  .  \n",
    "F3 .  .  .  LG .  \n",
    "F2 .  HG .  .  .  \n",
    "F1 E  .  HM .  LM \n",
    "Then, to get everything up to the assembling machine on the fourth floor, the following steps could be taken:\n",
    "\n",
    "Bring the Hydrogen-compatible Microchip to the second floor, which is safe because it can get power from the Hydrogen Generator:\n",
    "\n",
    "F4 .  .  .  .  .  \n",
    "F3 .  .  .  LG .  \n",
    "F2 E  HG HM .  .  \n",
    "F1 .  .  .  .  LM \n",
    "Bring both Hydrogen-related items to the third floor, which is safe because the Hydrogen-compatible microchip is getting power from its generator:\n",
    "\n",
    "F4 .  .  .  .  .  \n",
    "F3 E  HG HM LG .  \n",
    "F2 .  .  .  .  .  \n",
    "F1 .  .  .  .  LM \n",
    "Leave the Hydrogen Generator on floor three, but bring the Hydrogen-compatible Microchip back down with you so you can still use the elevator:\n",
    "\n",
    "F4 .  .  .  .  .  \n",
    "F3 .  HG .  LG .  \n",
    "F2 E  .  HM .  .  \n",
    "F1 .  .  .  .  LM \n",
    "At the first floor, grab the Lithium-compatible Microchip, which is safe because Microchips don't affect each other:\n",
    "\n",
    "F4 .  .  .  .  .  \n",
    "F3 .  HG .  LG .  \n",
    "F2 .  .  .  .  .  \n",
    "F1 E  .  HM .  LM \n",
    "Bring both Microchips up one floor, where there is nothing to fry them:\n",
    "\n",
    "F4 .  .  .  .  .  \n",
    "F3 .  HG .  LG .  \n",
    "F2 E  .  HM .  LM \n",
    "F1 .  .  .  .  .  \n",
    "Bring both Microchips up again to floor three, where they can be temporarily connected to their corresponding generators while the elevator recharges, preventing either of them from being fried:\n",
    "\n",
    "F4 .  .  .  .  .  \n",
    "F3 E  HG HM LG LM \n",
    "F2 .  .  .  .  .  \n",
    "F1 .  .  .  .  .  \n",
    "Bring both Microchips to the fourth floor:\n",
    "\n",
    "F4 E  .  HM .  LM \n",
    "F3 .  HG .  LG .  \n",
    "F2 .  .  .  .  .  \n",
    "F1 .  .  .  .  .  \n",
    "Leave the Lithium-compatible microchip on the fourth floor, but bring the Hydrogen-compatible one so you can still use the elevator; this is safe because although the Lithium Generator is on the destination floor, you can connect Hydrogen-compatible microchip to the Hydrogen Generator there:\n",
    "\n",
    "F4 .  .  .  .  LM \n",
    "F3 E  HG HM LG .  \n",
    "F2 .  .  .  .  .  \n",
    "F1 .  .  .  .  .  \n",
    "Bring both Generators up to the fourth floor, which is safe because you can connect the Lithium-compatible Microchip to the Lithium Generator upon arrival:\n",
    "\n",
    "F4 E  HG .  LG LM \n",
    "F3 .  .  HM .  .  \n",
    "F2 .  .  .  .  .  \n",
    "F1 .  .  .  .  .  \n",
    "Bring the Lithium Microchip with you to the third floor so you can use the elevator:\n",
    "\n",
    "F4 .  HG .  LG .  \n",
    "F3 E  .  HM .  LM \n",
    "F2 .  .  .  .  .  \n",
    "F1 .  .  .  .  .  \n",
    "Bring both Microchips to the fourth floor:\n",
    "\n",
    "F4 E  HG HM LG LM \n",
    "F3 .  .  .  .  .  \n",
    "F2 .  .  .  .  .  \n",
    "F1 .  .  .  .  .  \n",
    "In this arrangement, it takes 11 steps to collect all of the objects at the fourth floor for assembly. (Each elevator stop counts as one step, even if nothing is added to or removed from it.)\n",
    "\n",
    "In your situation, what is the minimum number of steps required to bring all of the objects to the fourth floor?\n",
    "\n",
    "```"
   ]
  },
  {
   "cell_type": "code",
   "execution_count": 1,
   "metadata": {
    "collapsed": false
   },
   "outputs": [],
   "source": [
    "import re\n",
    "import numpy as np\n",
    "from itertools import combinations, chain\n",
    "\n",
    "RE_MICROCHIP = re.compile(\"a ([a-z]+)\\-compatible microchip\")\n",
    "RE_GENERATOR = re.compile(\"a ([a-z]+) generator\")\n",
    "FLOOR = lambda s: next(iter([idx for idx, val in enumerate([\"first\", \"second\", \"third\", \"fourth\"]) if val in s]), None)\n",
    "ELEMENT = lambda e: e[:2].upper()\n",
    "\n",
    "\n",
    "def build_status(instructions):\n",
    "    floors = [\"\"] * 4\n",
    "    for ins in instructions:\n",
    "        floor = FLOOR(ins)\n",
    "        generators = {ELEMENT(e) for e in RE_GENERATOR.findall(ins)}\n",
    "        microchips = {ELEMENT(e) for e in RE_MICROCHIP.findall(ins)}\n",
    "        floors[floor] = (generators, microchips)\n",
    "    return floors\n",
    "\n",
    "\n",
    "def valid_floor(generators, microchips):\n",
    "    return len(generators) == 0 or len(microchips) == 0 or np.all([m in generators for m in microchips])\n",
    "\n",
    "\n",
    "def possible_movements(orig, dest, status):\n",
    "    movements = []\n",
    "\n",
    "    # Impossible floor discard\n",
    "    if dest < 0 or dest >= len(status):\n",
    "        return movements\n",
    "\n",
    "    # Generators and micros at origin and destination\n",
    "    orig_gen, orig_micro = status[orig]\n",
    "    dest_gen, dest_micro = status[dest]\n",
    "\n",
    "    # Move paired generator+microchip\n",
    "    movements += [({g}, {g}) for g in orig_gen if g in orig_micro and valid_floor(dest_gen | set(g), dest_micro | set(g)) and valid_floor(orig_gen - {g}, orig_micro - {g})]\n",
    "\n",
    "    # Move generators\n",
    "    movements += [(set(pair), set()) for pair in chain(combinations(orig_gen, 2), combinations(orig_gen, 1)) if valid_floor(dest_gen | set(pair), dest_micro) and valid_floor(orig_gen - set(pair), orig_micro)]\n",
    "\n",
    "    # Move microchips\n",
    "    movements += [(set(), set(pair)) for pair in chain(combinations(orig_micro, 2), combinations(orig_micro, 1)) if valid_floor(dest_gen, dest_micro | set(pair)) and valid_floor(orig_gen, orig_gen - set(pair))]\n",
    "\n",
    "    #return movements\n",
    "    return sorted(movements, key=lambda v: sum(map(len, v)), reverse=(orig < dest))\n",
    "\n",
    "\n",
    "def apply_movements(orig, dest, movement, status):\n",
    "\n",
    "    # Create a copy of the current status\n",
    "    new_status = [(set(g), set(m)) for g, m in status]\n",
    "\n",
    "    # Move generators and microchips\n",
    "    for i, elements in enumerate(movement):\n",
    "        for e in elements:\n",
    "            new_status[orig][i].remove(e)\n",
    "            new_status[dest][i].add(e)\n",
    "\n",
    "    return new_status\n",
    "\n",
    "\n",
    "def compute_possible_status(orig, dest, status):\n",
    "    return [apply_movements(orig, dest, m, status) for m in possible_movements(orig, dest, status)]\n",
    "\n",
    "\n",
    "def print_status(elevator, status):\n",
    "    print(\"----------------------\")\n",
    "    for f in range(3, -1, -1):\n",
    "        e = 'E' if elevator == f else '.'\n",
    "        g = ' '.join([\"{}G\".format(e) for e in status[f][0]] + [\"{}M\".format(e) for e in status[f][1]])\n",
    "        print(\"F{} {} {}\".format(f+1, e, g))\n",
    "    print(\"----------------------\")\n",
    "    \n",
    "    \n",
    "def encode_status(elevator, status):\n",
    "    #return \"{}{}\".format(elevator, \"\".join([\"{}g{}m\".format(\"\".join(g), \"\".join(m)) for g, m in status]))\n",
    "    return \"{}{}\".format(elevator, \"\".join([\"{}g{}m\".format(\"\".join([\".\" for _ in g]), \"\".join([\".\" for _ in m])) for g, m in status]))\n",
    "\n",
    "def move(status):\n",
    "\n",
    "    visited = {encode_status(0, status)}\n",
    "    possible_next_status = [([status], 1, s) for s in compute_possible_status(0, 1, status)]\n",
    "\n",
    "    while len(possible_next_status) > 0:\n",
    "        thread_status, elevator, next_status = possible_next_status.pop(0)\n",
    "        \n",
    "        next_status_encoded = encode_status(elevator, next_status)\n",
    "        if next_status_encoded in visited:\n",
    "            #print(next_status_encoded)\n",
    "            #print(visited)\n",
    "            #return None\n",
    "            continue\n",
    "\n",
    "        # Check if everything it's at the fourth floor\n",
    "        if elevator == 3:\n",
    "            if sum([sum([len(i) for i in next_status[f]]) for f in range(3)]) == 0:\n",
    "                return thread_status + [next_status]\n",
    "        \n",
    "        possible_next_status += [(thread_status + [next_status], elevator+1, s) for s in compute_possible_status(elevator, elevator+1, next_status)]\n",
    "        possible_next_status += [(thread_status + [next_status], elevator-1, s) for s in compute_possible_status(elevator, elevator-1, next_status)]\n",
    "        \n",
    "        visited.add(next_status_encoded)\n",
    "\n",
    "    return None"
   ]
  },
  {
   "cell_type": "code",
   "execution_count": 2,
   "metadata": {
    "collapsed": true
   },
   "outputs": [],
   "source": [
    "example = [\n",
    "    \"The first floor contains a hydrogen-compatible microchip and a lithium-compatible microchip.\", \n",
    "    \"The second floor contains a hydrogen generator.\",\n",
    "    \"The third floor contains a lithium generator.\",\n",
    "    \"The fourth floor contains nothing relevant.\"\n",
    "]"
   ]
  },
  {
   "cell_type": "code",
   "execution_count": 3,
   "metadata": {
    "collapsed": false
   },
   "outputs": [
    {
     "name": "stdout",
     "output_type": "stream",
     "text": [
      "CPU times: user 36 ms, sys: 0 ns, total: 36 ms\n",
      "Wall time: 37.3 ms\n"
     ]
    },
    {
     "data": {
      "text/plain": [
       "11"
      ]
     },
     "execution_count": 3,
     "metadata": {},
     "output_type": "execute_result"
    }
   ],
   "source": [
    "%%time\n",
    "len(move(build_status(example))) - 1"
   ]
  },
  {
   "cell_type": "code",
   "execution_count": 4,
   "metadata": {
    "collapsed": false
   },
   "outputs": [
    {
     "name": "stdout",
     "output_type": "stream",
     "text": [
      "33\n",
      "CPU times: user 612 ms, sys: 4 ms, total: 616 ms\n",
      "Wall time: 616 ms\n"
     ]
    }
   ],
   "source": [
    "%%time\n",
    "with open('inputs/day11.txt', 'rt') as fd:\n",
    "    print(len(move(build_status(fd))) - 1)    "
   ]
  },
  {
   "cell_type": "markdown",
   "metadata": {},
   "source": [
    "```\n",
    "--- Part Two ---\n",
    "\n",
    "You step into the cleanroom separating the lobby from the isolated area and put on the hazmat suit.\n",
    "\n",
    "Upon entering the isolated containment area, however, you notice some extra parts on the first floor that weren't listed on the record outside:\n",
    "\n",
    "An elerium generator.\n",
    "An elerium-compatible microchip.\n",
    "A dilithium generator.\n",
    "A dilithium-compatible microchip.\n",
    "These work just like the other generators and microchips. You'll have to get them up to assembly as well.\n",
    "\n",
    "What is the minimum number of steps required to bring all of the objects, including these four new ones, to the fourth floor?\n",
    "```"
   ]
  },
  {
   "cell_type": "code",
   "execution_count": 5,
   "metadata": {
    "collapsed": false
   },
   "outputs": [
    {
     "name": "stdout",
     "output_type": "stream",
     "text": [
      "57\n",
      "CPU times: user 3.44 s, sys: 0 ns, total: 3.44 s\n",
      "Wall time: 3.44 s\n"
     ]
    }
   ],
   "source": [
    "%%time\n",
    "with open('inputs/day11.txt', 'rt') as fd:\n",
    "    status = build_status(fd)\n",
    "    status[0][0].add(\"EL\")\n",
    "    status[0][0].add(\"DI\")\n",
    "    status[0][1].add(\"EL\")\n",
    "    status[0][1].add(\"DI\")    \n",
    "    print(len(move(status)) - 1)   "
   ]
  },
  {
   "cell_type": "code",
   "execution_count": null,
   "metadata": {
    "collapsed": true
   },
   "outputs": [],
   "source": []
  }
 ],
 "metadata": {
  "anaconda-cloud": {},
  "kernelspec": {
   "display_name": "Python [conda env:adventofcode]",
   "language": "python",
   "name": "conda-env-adventofcode-py"
  },
  "language_info": {
   "codemirror_mode": {
    "name": "ipython",
    "version": 3
   },
   "file_extension": ".py",
   "mimetype": "text/x-python",
   "name": "python",
   "nbconvert_exporter": "python",
   "pygments_lexer": "ipython3",
   "version": "3.5.2"
  }
 },
 "nbformat": 4,
 "nbformat_minor": 1
}
