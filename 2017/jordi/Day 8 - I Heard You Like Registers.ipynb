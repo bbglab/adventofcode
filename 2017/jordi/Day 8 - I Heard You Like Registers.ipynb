{
 "cells": [
  {
   "cell_type": "code",
   "execution_count": 1,
   "metadata": {},
   "outputs": [
    {
     "data": {
      "text/plain": [
       "4-element Array{String,1}:\n",
       " \"b inc 5 if a > 1\"    \n",
       " \"a inc 1 if b < 5\"    \n",
       " \"c dec -10 if a >= 1\" \n",
       " \"c inc -20 if c == 10\""
      ]
     },
     "execution_count": 1,
     "metadata": {},
     "output_type": "execute_result"
    }
   ],
   "source": [
    "example = [\n",
    "    \"b inc 5 if a > 1\"\n",
    "    \"a inc 1 if b < 5\"\n",
    "    \"c dec -10 if a >= 1\"\n",
    "    \"c inc -20 if c == 10\"\n",
    "]"
   ]
  },
  {
   "cell_type": "code",
   "execution_count": 19,
   "metadata": {},
   "outputs": [
    {
     "data": {
      "text/plain": [
       "execute (generic function with 1 method)"
      ]
     },
     "execution_count": 19,
     "metadata": {},
     "output_type": "execute_result"
    }
   ],
   "source": [
    "using DataStructures\n",
    "\n",
    "registers = DefaultDict(0)\n",
    "\n",
    "function execute(program)     \n",
    "    empty!(registers)\n",
    "    m = 0\n",
    "    for line in program\n",
    "        r1, op1, v1, r2, op2, v2 = match(r\"([a-z]+) (inc|dec) ([-]?[0-9]+) if ([a-z]+) ([><=!]+) ([-]?[0-9]+)\", line).captures\n",
    "        eval(parse(\"if registers[\\\"\"*r2*\"\\\"] \"*op2*\" \"*v2*\"; registers[\\\"\"*r1*\"\\\"] \"*(op1 == \"inc\" ? \"+=\" : \"-=\")*\" \"*v1*\" end\"))\n",
    "        if length(registers)>0\n",
    "            m = max(m, maximum(values(registers)))\n",
    "        end\n",
    "    end\n",
    "    m\n",
    "end"
   ]
  },
  {
   "cell_type": "code",
   "execution_count": 21,
   "metadata": {},
   "outputs": [
    {
     "name": "stdout",
     "output_type": "stream",
     "text": [
      "  Maximum alltimes 10\n",
      "Maximum at the end 1\n"
     ]
    }
   ],
   "source": [
    "println(\"  Maximum alltimes \", execute(example))\n",
    "println(\"Maximum at the end \", maximum(values(registers)))"
   ]
  },
  {
   "cell_type": "code",
   "execution_count": 23,
   "metadata": {},
   "outputs": [
    {
     "name": "stdout",
     "output_type": "stream",
     "text": [
      "  Maximum alltimes 5199\n",
      "Maximum at the end 4416\n"
     ]
    }
   ],
   "source": [
    "open(\"inputs/day8.txt\") do fd\n",
    "    println(\"  Maximum alltimes \", execute(readlines(fd)))\n",
    "    println(\"Maximum at the end \", maximum(values(registers)))\n",
    "end"
   ]
  },
  {
   "cell_type": "code",
   "execution_count": null,
   "metadata": {
    "collapsed": true
   },
   "outputs": [],
   "source": []
  }
 ],
 "metadata": {
  "kernelspec": {
   "display_name": "Julia 0.6.1",
   "language": "julia",
   "name": "julia-0.6"
  },
  "language_info": {
   "file_extension": ".jl",
   "mimetype": "application/julia",
   "name": "julia",
   "version": "0.6.1"
  }
 },
 "nbformat": 4,
 "nbformat_minor": 2
}
