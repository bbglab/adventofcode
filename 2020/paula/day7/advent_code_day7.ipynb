{
 "cells": [
  {
   "cell_type": "code",
   "execution_count": 16,
   "metadata": {},
   "outputs": [],
   "source": [
    "import re"
   ]
  },
  {
   "cell_type": "code",
   "execution_count": 17,
   "metadata": {},
   "outputs": [],
   "source": [
    "def take_color(string,first):\n",
    "    if 'bags' in string:\n",
    "        string=string[:-4]\n",
    "\n",
    "    if 'bag' in string:\n",
    "        string=string[:-3]\n",
    "\n",
    "    \n",
    "    if first==False:\n",
    "        string=string[2:]\n",
    "        \n",
    "    string=string[:-1]\n",
    "    return(string)\n",
    "        \n",
    "    "
   ]
  },
  {
   "cell_type": "code",
   "execution_count": 18,
   "metadata": {},
   "outputs": [],
   "source": [
    "dd={}\n",
    "with open('input_day7.txt','r') as file:\n",
    "    for line in file:\n",
    "        dd[take_color(line.strip().strip('.').split(' contain ')[0],True)]=[take_color(x,False ) for x in line.strip().strip('.').split(' contain ')[1].split(', ')]\n",
    "\n",
    "        "
   ]
  },
  {
   "cell_type": "code",
   "execution_count": 19,
   "metadata": {},
   "outputs": [],
   "source": [
    "selected=set([])\n",
    "def search_bags(color):\n",
    "    for bag in dd.keys():\n",
    "        if color in dd[bag]:\n",
    "            selected.add(bag)\n",
    "            search_bags(bag)\n",
    "    return(len(selected))\n",
    "                "
   ]
  },
  {
   "cell_type": "code",
   "execution_count": 20,
   "metadata": {},
   "outputs": [
    {
     "data": {
      "text/plain": [
       "112"
      ]
     },
     "execution_count": 20,
     "metadata": {},
     "output_type": "execute_result"
    }
   ],
   "source": [
    "search_bags('shiny gold')"
   ]
  },
  {
   "cell_type": "code",
   "execution_count": 21,
   "metadata": {},
   "outputs": [],
   "source": [
    "def take_color_number(string,first):\n",
    "    if 'bags' in string:\n",
    "        string=string[:-4]\n",
    "\n",
    "    if 'bag' in string:\n",
    "        string=string[:-3]\n",
    "\n",
    "    \n",
    "    if first==False:\n",
    "        number=string[0]\n",
    "        string=string[2:]\n",
    "        \n",
    "    string=string[:-1]\n",
    "    if first==False:\n",
    "        return(number,string)\n",
    "    else:\n",
    "        return(string)\n",
    "        \n",
    "    \n"
   ]
  },
  {
   "cell_type": "code",
   "execution_count": 22,
   "metadata": {},
   "outputs": [],
   "source": [
    "dd2={}\n",
    "with open('input_day7.txt','r') as file:\n",
    "    for line in file:\n",
    "        dd2[take_color(line.strip().strip('.').split(' contain ')[0],True)]=[take_color_number(x,False ) for x in line.strip().strip('.').split(' contain ')[1].split(', ')]\n",
    "\n",
    "        "
   ]
  },
  {
   "cell_type": "code",
   "execution_count": 28,
   "metadata": {},
   "outputs": [],
   "source": [
    "number=0\n",
    "def count_bags_inside(color):\n",
    "    if dd2[color][0][0]=='n':\n",
    "        return(0)\n",
    "    else:\n",
    "        number=0\n",
    "        for bags in dd2[color]:\n",
    "            number+=int(bags[0])+int(bags[0])*count_bags_inside(bags[1])\n",
    "        return(number)"
   ]
  },
  {
   "cell_type": "code",
   "execution_count": 29,
   "metadata": {},
   "outputs": [
    {
     "data": {
      "text/plain": [
       "6260"
      ]
     },
     "execution_count": 29,
     "metadata": {},
     "output_type": "execute_result"
    }
   ],
   "source": [
    "count_bags_inside('shiny gold')"
   ]
  }
 ],
 "metadata": {
  "kernelspec": {
   "display_name": "Python 3",
   "language": "python",
   "name": "python3"
  },
  "language_info": {
   "codemirror_mode": {
    "name": "ipython",
    "version": 3
   },
   "file_extension": ".py",
   "mimetype": "text/x-python",
   "name": "python",
   "nbconvert_exporter": "python",
   "pygments_lexer": "ipython3",
   "version": "3.8.5"
  }
 },
 "nbformat": 4,
 "nbformat_minor": 4
}
