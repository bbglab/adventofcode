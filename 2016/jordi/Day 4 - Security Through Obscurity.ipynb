{
 "cells": [
  {
   "cell_type": "markdown",
   "metadata": {},
   "source": [
    "```\n",
    "--- Day 4: Security Through Obscurity ---\n",
    "\n",
    "Finally, you come across an information kiosk with a list of rooms. Of course, the list is encrypted and full of decoy data, but the instructions to decode the list are barely hidden nearby. Better remove the decoy data first.\n",
    "\n",
    "Each room consists of an encrypted name (lowercase letters separated by dashes) followed by a dash, a sector ID, and a checksum in square brackets.\n",
    "\n",
    "A room is real (not a decoy) if the checksum is the five most common letters in the encrypted name, in order, with ties broken by alphabetization. For example:\n",
    "\n",
    "aaaaa-bbb-z-y-x-123[abxyz] is a real room because the most common letters are a (5), b (3), and then a tie between x, y, and z, which are listed alphabetically.\n",
    "a-b-c-d-e-f-g-h-987[abcde] is a real room because although the letters are all tied (1 of each), the first five are listed alphabetically.\n",
    "not-a-real-room-404[oarel] is a real room.\n",
    "totally-real-room-200[decoy] is not.\n",
    "Of the real rooms from the list above, the sum of their sector IDs is 1514.\n",
    "\n",
    "What is the sum of the sector IDs of the real rooms?\n",
    "\n",
    "```"
   ]
  },
  {
   "cell_type": "code",
   "execution_count": 7,
   "metadata": {
    "collapsed": false
   },
   "outputs": [],
   "source": [
    "import re\n",
    "from collections import Counter\n",
    "\n",
    "RE_ROOM = re.compile(\"([a-z\\-]+)\\-([0-9]+)\\[([a-z]+)\\]\")\n",
    "\n",
    "def decrypt_room_name(name, rotate=1):\n",
    "    for c in name:\n",
    "        yield ' ' if c == '-' else chr(((ord(c) - ord('a') + rotate) % (ord('z') - ord('a') + 1)) + ord('a')) \n",
    "\n",
    "def sum_sectors(rooms):\n",
    "    sector_sum = 0\n",
    "    names = []\n",
    "    for room in rooms:\n",
    "        \n",
    "        # Parse room string\n",
    "        name, sector, checksum = RE_ROOM.search(room.strip()).groups()\n",
    "                \n",
    "        # Compute the checksum \n",
    "        checksum_computed = \"\".join([k[0] for k in sorted(Counter(name.replace('-', '')).items(), key=lambda k: (-k[1], k[0]))[:5]])\n",
    "                \n",
    "        if checksum == checksum_computed:\n",
    "            sector_sum += int(sector)\n",
    "            names.append((''.join(decrypt_room_name(name, rotate=int(sector))), int(sector)))     \n",
    "            \n",
    "    return sector_sum, names"
   ]
  },
  {
   "cell_type": "code",
   "execution_count": 8,
   "metadata": {
    "collapsed": false
   },
   "outputs": [
    {
     "data": {
      "text/plain": [
       "1514"
      ]
     },
     "execution_count": 8,
     "metadata": {},
     "output_type": "execute_result"
    }
   ],
   "source": [
    "sum_sectors(['aaaaa-bbb-z-y-x-123[abxyz]', 'a-b-c-d-e-f-g-h-987[abcde]', 'not-a-real-room-404[oarel]', 'totally-real-room-200[decoy]'])[0]"
   ]
  },
  {
   "cell_type": "code",
   "execution_count": 9,
   "metadata": {
    "collapsed": false
   },
   "outputs": [
    {
     "name": "stdout",
     "output_type": "stream",
     "text": [
      "245102\n"
     ]
    }
   ],
   "source": [
    "with open('inputs/day4.txt', 'rt') as fd:\n",
    "    print(sum_sectors(fd)[0])"
   ]
  },
  {
   "cell_type": "markdown",
   "metadata": {},
   "source": [
    "```\n",
    "--- Part Two ---\n",
    "\n",
    "With all the decoy data out of the way, it's time to decrypt this list and get moving.\n",
    "\n",
    "The room names are encrypted by a state-of-the-art shift cipher, which is nearly unbreakable without the right software. However, the information kiosk designers at Easter Bunny HQ were not expecting to deal with a master cryptographer like yourself.\n",
    "\n",
    "To decrypt a room name, rotate each letter forward through the alphabet a number of times equal to the room's sector ID. A becomes B, B becomes C, Z becomes A, and so on. Dashes become spaces.\n",
    "\n",
    "For example, the real name for qzmt-zixmtkozy-ivhz-343 is very encrypted name.\n",
    "\n",
    "What is the sector ID of the room where North Pole objects are stored?\n",
    "```"
   ]
  },
  {
   "cell_type": "code",
   "execution_count": 10,
   "metadata": {
    "collapsed": false
   },
   "outputs": [
    {
     "data": {
      "text/plain": [
       "'very encrypted name'"
      ]
     },
     "execution_count": 10,
     "metadata": {},
     "output_type": "execute_result"
    }
   ],
   "source": [
    "''.join(decrypt_room_name('qzmt-zixmtkozy-ivhz', rotate=343))"
   ]
  },
  {
   "cell_type": "code",
   "execution_count": 12,
   "metadata": {
    "collapsed": false
   },
   "outputs": [
    {
     "name": "stdout",
     "output_type": "stream",
     "text": [
      "[('northpole object storage', 324)]\n"
     ]
    }
   ],
   "source": [
    "with open('inputs/day4.txt', 'rt') as fd:\n",
    "    total_sectors, rooms = sum_sectors(fd)\n",
    "    \n",
    "    print([r for r in rooms if 'pole' in r[0]])    "
   ]
  },
  {
   "cell_type": "code",
   "execution_count": null,
   "metadata": {
    "collapsed": true
   },
   "outputs": [],
   "source": []
  }
 ],
 "metadata": {
  "kernelspec": {
   "display_name": "Python [conda env:adventofcode]",
   "language": "python",
   "name": "conda-env-adventofcode-py"
  },
  "language_info": {
   "codemirror_mode": {
    "name": "ipython",
    "version": 3
   },
   "file_extension": ".py",
   "mimetype": "text/x-python",
   "name": "python",
   "nbconvert_exporter": "python",
   "pygments_lexer": "ipython3",
   "version": "3.5.2"
  }
 },
 "nbformat": 4,
 "nbformat_minor": 1
}
