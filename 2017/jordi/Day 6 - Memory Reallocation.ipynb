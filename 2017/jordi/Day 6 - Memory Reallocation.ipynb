{
 "cells": [
  {
   "cell_type": "markdown",
   "metadata": {},
   "source": [
    "# Part 1 and 2"
   ]
  },
  {
   "cell_type": "code",
   "execution_count": 1,
   "metadata": {},
   "outputs": [
    {
     "data": {
      "text/plain": [
       "next_status (generic function with 1 method)"
      ]
     },
     "execution_count": 1,
     "metadata": {},
     "output_type": "execute_result"
    }
   ],
   "source": [
    "function next_status(s)\n",
    "    i = indmax(s)\n",
    "    ent = div(s[i], length(s))\n",
    "    res = s[i] % length(s)\n",
    "    s[i] = 0\n",
    "    s += ent\n",
    "    s[1:(res - (length(s) - i))] += 1\n",
    "    s[i+1:min(length(s), i+res)] += 1\n",
    "\n",
    "    s\n",
    "end"
   ]
  },
  {
   "cell_type": "code",
   "execution_count": 2,
   "metadata": {},
   "outputs": [
    {
     "data": {
      "text/plain": [
       "redistribution_cycles (generic function with 1 method)"
      ]
     },
     "execution_count": 2,
     "metadata": {},
     "output_type": "execute_result"
    }
   ],
   "source": [
    "function redistribution_cycles(s)\n",
    "    i, p = 0, Dict()\n",
    "    h = hash(s)\n",
    "    while !haskey(p, h)\n",
    "        p[h] = i\n",
    "        s = next_status(s)\n",
    "        h = hash(s)\n",
    "        i += 1\n",
    "    end\n",
    "    i, i - p[h]\n",
    "end"
   ]
  },
  {
   "cell_type": "code",
   "execution_count": 5,
   "metadata": {},
   "outputs": [
    {
     "name": "stdout",
     "output_type": "stream",
     "text": [
      "  0.000053 seconds (42 allocations: 3.234 KiB)\n"
     ]
    },
    {
     "data": {
      "text/plain": [
       "(5, 4)"
      ]
     },
     "execution_count": 5,
     "metadata": {},
     "output_type": "execute_result"
    }
   ],
   "source": [
    "@time redistribution_cycles([0 2 7 0])"
   ]
  },
  {
   "cell_type": "code",
   "execution_count": 11,
   "metadata": {},
   "outputs": [
    {
     "name": "stdout",
     "output_type": "stream",
     "text": [
      "  0.019458 seconds (59.77 k allocations: 4.619 MiB)\n"
     ]
    },
    {
     "data": {
      "text/plain": [
       "(5042, 1086)"
      ]
     },
     "execution_count": 11,
     "metadata": {},
     "output_type": "execute_result"
    }
   ],
   "source": [
    "@time redistribution_cycles(readdlm(\"inputs/day6.txt\", Int16))"
   ]
  },
  {
   "cell_type": "code",
   "execution_count": null,
   "metadata": {
    "collapsed": true
   },
   "outputs": [],
   "source": []
  }
 ],
 "metadata": {
  "kernelspec": {
   "display_name": "Julia 0.6.1",
   "language": "julia",
   "name": "julia-0.6"
  },
  "language_info": {
   "file_extension": ".jl",
   "mimetype": "application/julia",
   "name": "julia",
   "version": "0.6.1"
  }
 },
 "nbformat": 4,
 "nbformat_minor": 2
}
