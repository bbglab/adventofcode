{
 "cells": [
  {
   "cell_type": "markdown",
   "metadata": {},
   "source": [
    "```\n",
    "--- Day 8: Two-Factor Authentication ---\n",
    "\n",
    "You come across a door implementing what you can only assume is an implementation of two-factor authentication after a long game of requirements telephone.\n",
    "\n",
    "To get past the door, you first swipe a keycard (no problem; there was one on a nearby desk). Then, it displays a code on a little screen, and you type that code on a keypad. Then, presumably, the door unlocks.\n",
    "\n",
    "Unfortunately, the screen has been smashed. After a few minutes, you've taken everything apart and figured out how it works. Now you just have to work out what the screen would have displayed.\n",
    "\n",
    "The magnetic strip on the card you swiped encodes a series of instructions for the screen; these instructions are your puzzle input. The screen is 50 pixels wide and 6 pixels tall, all of which start off, and is capable of three somewhat peculiar operations:\n",
    "\n",
    "rect AxB turns on all of the pixels in a rectangle at the top-left of the screen which is A wide and B tall.\n",
    "rotate row y=A by B shifts all of the pixels in row A (0 is the top row) right by B pixels. Pixels that would fall off the right end appear at the left end of the row.\n",
    "rotate column x=A by B shifts all of the pixels in column A (0 is the left column) down by B pixels. Pixels that would fall off the bottom appear at the top of the column.\n",
    "For example, here is a simple sequence on a smaller screen:\n",
    "\n",
    "rect 3x2 creates a small rectangle in the top-left corner:\n",
    "\n",
    "###....\n",
    "###....\n",
    ".......\n",
    "rotate column x=1 by 1 rotates the second column down by one pixel:\n",
    "\n",
    "#.#....\n",
    "###....\n",
    ".#.....\n",
    "rotate row y=0 by 4 rotates the top row right by four pixels:\n",
    "\n",
    "....#.#\n",
    "###....\n",
    ".#.....\n",
    "rotate column x=1 by 1 again rotates the second column down by one pixel, causing the bottom pixel to wrap back to the top:\n",
    "\n",
    ".#..#.#\n",
    "#.#....\n",
    ".#.....\n",
    "As you can see, this display technology is extremely powerful, and will soon dominate the tiny-code-displaying-screen market. That's what the advertisement on the back of the display tries to convince you, anyway.\n",
    "\n",
    "There seems to be an intermediate check of the voltage used by the display: after you swipe your card, if the screen did work, how many pixels should be lit?\n",
    "\n",
    "```"
   ]
  },
  {
   "cell_type": "code",
   "execution_count": 55,
   "metadata": {
    "collapsed": true
   },
   "outputs": [],
   "source": [
    "import numpy as np\n",
    "import re\n",
    "\n",
    "class Screen(object):\n",
    "    \n",
    "    RE_RECT = re.compile(\"rect ([0-9]+)x([0-9]+)\")\n",
    "    RE_RCOLUMN = re.compile(\"rotate column x=([0-9]+) by ([0-9]+)\")\n",
    "    RE_RROW = re.compile(\"rotate row y=([0-9]+) by ([0-9]+)\")\n",
    "    \n",
    "    def __init__(self, width=50, height=6):\n",
    "        self.width = 50\n",
    "        self.height = 6\n",
    "        self.screen = np.zeros((height, width), dtype=bool)\n",
    "        \n",
    "    def rect(self, width, height):\n",
    "        self.screen[:height, :width] = True\n",
    "        \n",
    "    def rotate_column(self, idx, steps):\n",
    "        self.screen[:,idx] = np.roll(self.screen[:,idx], steps)\n",
    "        \n",
    "    def rotate_row(self, idx, steps):\n",
    "        self.screen[idx,:] = np.roll(self.screen[idx,:], steps)\n",
    "        \n",
    "    def execute(self, instruction):\n",
    "        instruction = instruction.strip()\n",
    "        \n",
    "        m = self.RE_RECT.match(instruction)\n",
    "        if m is not None:\n",
    "            width, height = m.groups()\n",
    "            self.rect(int(width), int(height))\n",
    "            return\n",
    "        \n",
    "        m = self.RE_RCOLUMN.match(instruction)\n",
    "        if m is not None:\n",
    "            idx, steps = m.groups()\n",
    "            self.rotate_column(int(idx), int(steps))\n",
    "            return\n",
    "        \n",
    "        m = self.RE_RROW.match(instruction)\n",
    "        if m is not None:\n",
    "            idx, steps = m.groups()\n",
    "            self.rotate_row(int(idx), int(steps))\n",
    "            return\n",
    "        \n",
    "        print(\"ERROR: unknown instruction '{}'\".format(instruction))\n",
    "            \n",
    "    def show(self):\n",
    "        for row in self.screen:\n",
    "            print(\"\".join(['#' if pixel else '.' for pixel in row]))   \n",
    "            \n",
    "    def count(self):\n",
    "        return self.screen.sum()"
   ]
  },
  {
   "cell_type": "code",
   "execution_count": 56,
   "metadata": {
    "collapsed": true
   },
   "outputs": [],
   "source": [
    "example = ['rect 3x2', 'rotate column x=1 by 1', 'rotate row y=0 by 4', 'rotate column x=1 by 1']"
   ]
  },
  {
   "cell_type": "code",
   "execution_count": 59,
   "metadata": {
    "collapsed": false
   },
   "outputs": [
    {
     "name": "stdout",
     "output_type": "stream",
     "text": [
      "\n",
      " rect 3x2\n",
      "###....\n",
      "###....\n",
      ".......\n",
      "\n",
      " rotate column x=1 by 1\n",
      "#.#....\n",
      "###....\n",
      ".#.....\n",
      "\n",
      " rotate row y=0 by 4\n",
      "....#.#\n",
      "###....\n",
      ".#.....\n",
      "\n",
      " rotate column x=1 by 1\n",
      ".#..#.#\n",
      "#.#....\n",
      ".#.....\n",
      "\n",
      "Total pixels lit = 6\n"
     ]
    }
   ],
   "source": [
    "# Text example\n",
    "\n",
    "s = Screen(7, 3)\n",
    "for ins in example:\n",
    "    print(\"\\n\", ins)\n",
    "    s.execute(ins)\n",
    "    s.show()\n",
    "    \n",
    "print(\"\\nTotal pixels lit = {}\".format(s.count()))"
   ]
  },
  {
   "cell_type": "code",
   "execution_count": 61,
   "metadata": {
    "collapsed": false
   },
   "outputs": [
    {
     "name": "stdout",
     "output_type": "stream",
     "text": [
      "####.####.####.#...##..#.####.###..####..###...##.\n",
      "#....#....#....#...##.#..#....#..#.#......#.....#.\n",
      "###..###..###...#.#.##...###..#..#.###....#.....#.\n",
      "#....#....#......#..#.#..#....###..#......#.....#.\n",
      "#....#....#......#..#.#..#....#.#..#......#..#..#.\n",
      "####.#....####...#..#..#.#....#..#.#.....###..##..\n",
      "\n",
      "Total pixels lit =  115\n"
     ]
    }
   ],
   "source": [
    "with open('inputs/day8.txt', 'rt') as fd:\n",
    "    s = Screen(50, 6)\n",
    "    for ins in fd:\n",
    "        s.execute(ins)\n",
    "    s.show()\n",
    "    print(\"\\nTotal pixels lit = \", s.count())"
   ]
  },
  {
   "cell_type": "markdown",
   "metadata": {},
   "source": [
    "```\n",
    "--- Part Two ---\n",
    "\n",
    "You notice that the screen is only capable of displaying capital letters; in the font it uses, each letter is 5 pixels wide and 6 tall.\n",
    "\n",
    "After you swipe your card, what code is the screen trying to display?\n",
    "```"
   ]
  },
  {
   "cell_type": "code",
   "execution_count": 62,
   "metadata": {
    "collapsed": true
   },
   "outputs": [],
   "source": [
    "# EFEYKFRFIJ"
   ]
  },
  {
   "cell_type": "code",
   "execution_count": null,
   "metadata": {
    "collapsed": true
   },
   "outputs": [],
   "source": []
  }
 ],
 "metadata": {
  "anaconda-cloud": {},
  "kernelspec": {
   "display_name": "Python [conda env:adventofcode]",
   "language": "python",
   "name": "conda-env-adventofcode-py"
  },
  "language_info": {
   "codemirror_mode": {
    "name": "ipython",
    "version": 3
   },
   "file_extension": ".py",
   "mimetype": "text/x-python",
   "name": "python",
   "nbconvert_exporter": "python",
   "pygments_lexer": "ipython3",
   "version": "3.5.2"
  }
 },
 "nbformat": 4,
 "nbformat_minor": 1
}
