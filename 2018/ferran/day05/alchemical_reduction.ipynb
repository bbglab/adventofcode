{
 "cells": [
  {
   "cell_type": "markdown",
   "metadata": {},
   "source": [
    "# Part 1"
   ]
  },
  {
   "cell_type": "code",
   "execution_count": 19,
   "metadata": {
    "collapsed": true
   },
   "outputs": [],
   "source": [
    "l = ! cat input.txt | tr '\\n' ';'\n",
    "l = l[0].rstrip(';').split(';')[0]"
   ]
  },
  {
   "cell_type": "code",
   "execution_count": 20,
   "metadata": {},
   "outputs": [],
   "source": [
    "def one_step(l):\n",
    "    jump = False\n",
    "    acc = \"\"\n",
    "    n = len(l)\n",
    "    for i in range(n - 1):\n",
    "        if jump:\n",
    "            jump = False\n",
    "            continue\n",
    "        if (l[i] != l[i+1]) and ((l[i].lower() == l[i+1]) or (l[i].upper() == l[i+1])):\n",
    "            acc += \"\"\n",
    "            jump = True\n",
    "        else:\n",
    "            acc += l[i]\n",
    "            if i == n - 2:\n",
    "                acc += l[i+1]\n",
    "    return acc\n",
    "\n",
    "def fully_react(l):\n",
    "    diff = len(l)\n",
    "    while diff > 0:\n",
    "        red  = one_step(l)\n",
    "        diff = len(l) - len(red)\n",
    "        l = red\n",
    "    return red"
   ]
  },
  {
   "cell_type": "code",
   "execution_count": 21,
   "metadata": {},
   "outputs": [
    {
     "data": {
      "text/plain": [
       "9462"
      ]
     },
     "execution_count": 21,
     "metadata": {},
     "output_type": "execute_result"
    }
   ],
   "source": [
    "reduced = fully_react(l)\n",
    "len(reduced)"
   ]
  },
  {
   "cell_type": "markdown",
   "metadata": {},
   "source": [
    "# Part 2"
   ]
  },
  {
   "cell_type": "code",
   "execution_count": 25,
   "metadata": {},
   "outputs": [],
   "source": [
    "from tqdm import tqdm\n",
    "\n",
    "def test_reductions():\n",
    "    best_len = len(l)\n",
    "    for c in tqdm('abcdefghijklmnopqrstuvwxyz'):\n",
    "        rem = ''.join(''.join(l.split(c)).split(c.upper()))\n",
    "        n   = len(fully_react(rem))\n",
    "        if n < best_len:\n",
    "            best_len = n\n",
    "    return best_len"
   ]
  },
  {
   "cell_type": "code",
   "execution_count": 26,
   "metadata": {},
   "outputs": [
    {
     "name": "stderr",
     "output_type": "stream",
     "text": [
      "100%|██████████| 26/26 [04:19<00:00,  9.08s/it]\n"
     ]
    },
    {
     "data": {
      "text/plain": [
       "4952"
      ]
     },
     "execution_count": 26,
     "metadata": {},
     "output_type": "execute_result"
    }
   ],
   "source": [
    "test_reductions()"
   ]
  }
 ],
 "metadata": {
  "kernelspec": {
   "display_name": "Python [conda env:adventofcode]",
   "language": "python",
   "name": "conda-env-adventofcode-py"
  },
  "language_info": {
   "codemirror_mode": {
    "name": "ipython",
    "version": 3
   },
   "file_extension": ".py",
   "mimetype": "text/x-python",
   "name": "python",
   "nbconvert_exporter": "python",
   "pygments_lexer": "ipython3",
   "version": "3.5.2"
  }
 },
 "nbformat": 4,
 "nbformat_minor": 2
}
