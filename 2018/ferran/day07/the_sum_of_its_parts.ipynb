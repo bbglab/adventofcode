{
 "cells": [
  {
   "cell_type": "markdown",
   "metadata": {},
   "source": [
    "# Part 1"
   ]
  },
  {
   "cell_type": "code",
   "execution_count": 55,
   "metadata": {
    "collapsed": true
   },
   "outputs": [],
   "source": [
    "l = ! cat input.txt | tr '\\n' ';'\n",
    "l = l[0].rstrip(';').split(';')\n",
    "l = list(map(lambda v: (v[5], v[-12]), l))"
   ]
  },
  {
   "cell_type": "code",
   "execution_count": 56,
   "metadata": {
    "collapsed": true
   },
   "outputs": [],
   "source": [
    "def parse_list(l):\n",
    "    letters = []\n",
    "    for t in l:\n",
    "        for i in [0, 1]:\n",
    "            letters.append(t[i])\n",
    "    letters = set(letters)\n",
    "    requirements = {c: [] for c in letters}\n",
    "    for t in l:\n",
    "        requirements[t[1]].append(t[0])\n",
    "    return requirements"
   ]
  },
  {
   "cell_type": "code",
   "execution_count": 3,
   "metadata": {
    "collapsed": true
   },
   "outputs": [],
   "source": [
    "def sequential(requirements):\n",
    "    seq = []\n",
    "    acc = requirements\n",
    "    available = sorted([k for k in acc if len(acc[k]) == 0])\n",
    "    while len(available) > 0:\n",
    "        available = sorted(available)\n",
    "        current = available.pop(0)\n",
    "        seq.append(current)\n",
    "        for k in acc:\n",
    "            if current in acc[k]:\n",
    "                acc[k].remove(current)\n",
    "                if len(acc[k]) == 0:\n",
    "                    available.append(k)\n",
    "    return ''.join(seq)"
   ]
  },
  {
   "cell_type": "markdown",
   "metadata": {},
   "source": [
    "## Test"
   ]
  },
  {
   "cell_type": "code",
   "execution_count": 4,
   "metadata": {},
   "outputs": [
    {
     "data": {
      "text/plain": [
       "'CABDFE'"
      ]
     },
     "execution_count": 4,
     "metadata": {},
     "output_type": "execute_result"
    }
   ],
   "source": [
    "test_list = [('C', 'A'), ('C', 'F'), ('A', 'B'), ('A', 'D'), ('B', 'E'), ('D', 'E'), ('F', 'E')]\n",
    "test_requirements = parse_list(test_list)\n",
    "sequential(test_requirements)"
   ]
  },
  {
   "cell_type": "markdown",
   "metadata": {},
   "source": [
    "## Solution"
   ]
  },
  {
   "cell_type": "code",
   "execution_count": 5,
   "metadata": {},
   "outputs": [
    {
     "data": {
      "text/plain": [
       "'CGKMUWXFAIHSYDNLJQTREOPZBV'"
      ]
     },
     "execution_count": 5,
     "metadata": {},
     "output_type": "execute_result"
    }
   ],
   "source": [
    "requirements = parse_list(l)\n",
    "sequential(requirements)"
   ]
  },
  {
   "cell_type": "markdown",
   "metadata": {},
   "source": [
    "# Part 2"
   ]
  },
  {
   "cell_type": "code",
   "execution_count": 64,
   "metadata": {
    "collapsed": true
   },
   "outputs": [],
   "source": [
    "def concurrent(requirements, n=5):\n",
    "    \n",
    "    acc = requirements\n",
    "    workers = [(0, None) for _ in range(n)]  # time-to-finish & task\n",
    "    ready = list(range(n))\n",
    "    pending = list(alphabet)\n",
    "    available = sorted([k for k in acc if len(acc[k]) == 0])\n",
    "    time = 0\n",
    "    while len(pending) > 0:\n",
    "        \n",
    "        # assign tasks to ready workers\n",
    "        for i in ready:\n",
    "            if len(available) > 0:\n",
    "                task = available.pop(0)\n",
    "                workers[i] = (cost[task] - 1, task)\n",
    "        \n",
    "        # time moves & check if there are complete tasks\n",
    "        for i, w in enumerate(workers):\n",
    "            if (w[0] == 0) and (w[1] is not None):\n",
    "                pending.remove(w[1])\n",
    "                \n",
    "                # update requirements\n",
    "                for k in acc:\n",
    "                    if w[1] in acc[k]:\n",
    "                        acc[k].remove(w[1])\n",
    "                        if len(acc[k]) == 0:\n",
    "                            available.append(k)\n",
    "                            \n",
    "                workers[i] = (0, None)\n",
    "            \n",
    "            if w[0] > 0:\n",
    "                workers[i] = (w[0] - 1, w[1])\n",
    "                \n",
    "        # update ready workers\n",
    "        ready = [i for i, w in enumerate(workers) if w == (0, None)]\n",
    "        \n",
    "        # increase time\n",
    "        time += 1\n",
    "        \n",
    "    return time"
   ]
  },
  {
   "cell_type": "markdown",
   "metadata": {},
   "source": [
    "## Test"
   ]
  },
  {
   "cell_type": "code",
   "execution_count": 65,
   "metadata": {},
   "outputs": [
    {
     "data": {
      "text/plain": [
       "15"
      ]
     },
     "execution_count": 65,
     "metadata": {},
     "output_type": "execute_result"
    }
   ],
   "source": [
    "alphabet = 'ABCDEF'\n",
    "cost = dict(zip(alphabet, [i + 1 for i, _ in enumerate(alphabet)]))\n",
    "test_requirements = parse_list(test_list)\n",
    "concurrent(test_requirements, n=2)"
   ]
  },
  {
   "cell_type": "markdown",
   "metadata": {},
   "source": [
    "## Solution"
   ]
  },
  {
   "cell_type": "code",
   "execution_count": 66,
   "metadata": {
    "collapsed": true
   },
   "outputs": [],
   "source": [
    "alphabet = 'ABCDEFGHIJKLMNOPQRSTUVWXYZ'\n",
    "cost = dict(zip(alphabet, [60 + i + 1 for i, _ in enumerate(alphabet)]))"
   ]
  },
  {
   "cell_type": "code",
   "execution_count": 67,
   "metadata": {},
   "outputs": [
    {
     "data": {
      "text/plain": [
       "1046"
      ]
     },
     "execution_count": 67,
     "metadata": {},
     "output_type": "execute_result"
    }
   ],
   "source": [
    "requirements = parse_list(l)\n",
    "concurrent(requirements, n=5)"
   ]
  }
 ],
 "metadata": {
  "kernelspec": {
   "display_name": "Python [conda env:adventofcode]",
   "language": "python",
   "name": "conda-env-adventofcode-py"
  },
  "language_info": {
   "codemirror_mode": {
    "name": "ipython",
    "version": 3
   },
   "file_extension": ".py",
   "mimetype": "text/x-python",
   "name": "python",
   "nbconvert_exporter": "python",
   "pygments_lexer": "ipython3",
   "version": "3.5.2"
  }
 },
 "nbformat": 4,
 "nbformat_minor": 2
}
