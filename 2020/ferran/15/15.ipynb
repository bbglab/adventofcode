{
 "cells": [
  {
   "cell_type": "markdown",
   "metadata": {},
   "source": [
    "# Day 15"
   ]
  },
  {
   "cell_type": "code",
   "execution_count": null,
   "metadata": {},
   "outputs": [],
   "source": [
    "!  cat README.md"
   ]
  },
  {
   "cell_type": "code",
   "execution_count": null,
   "metadata": {},
   "outputs": [],
   "source": [
    "with open('input.txt', 'rt') as f:\n",
    "    initial = list(map(int, f.read().splitlines()[0].split(',')))"
   ]
  },
  {
   "cell_type": "code",
   "execution_count": null,
   "metadata": {},
   "outputs": [],
   "source": [
    "def step(spoken, head):\n",
    "    if head not in spoken:\n",
    "        return spoken + [head], 0\n",
    "    else:\n",
    "        return spoken + [head], len(spoken) - max([i for i, s in enumerate(spoken) if s==head])"
   ]
  },
  {
   "cell_type": "code",
   "execution_count": null,
   "metadata": {},
   "outputs": [],
   "source": [
    "def run(initial, n):\n",
    "    spoken = initial[:-1]\n",
    "    head = initial[-1]\n",
    "    while len(spoken) < n-1:\n",
    "        spoken, head = step(spoken, head)\n",
    "    return head"
   ]
  },
  {
   "cell_type": "code",
   "execution_count": null,
   "metadata": {},
   "outputs": [],
   "source": [
    "# test\n",
    "assert(run([0,3,6], 2020) == 436)\n",
    "assert(run([2,1,3], 2020) == 10)\n",
    "assert(run([1,2,3], 2020) == 27)\n",
    "assert(run([2,3,1], 2020) == 78)\n",
    "assert(run([3,2,1], 2020) == 438)\n",
    "assert(run([3,1,2], 2020) == 1836)"
   ]
  },
  {
   "cell_type": "code",
   "execution_count": null,
   "metadata": {},
   "outputs": [],
   "source": [
    "# solution\n",
    "run(initial, 2020)"
   ]
  },
  {
   "cell_type": "raw",
   "metadata": {},
   "source": [
    "--- Part Two ---\n",
    "Impressed, the Elves issue you a challenge: determine the 30000000th number spoken. For example, given the same starting numbers as above:\n",
    "\n",
    "Given 0,3,6, the 30000000th number spoken is 175594.\n",
    "Given 1,3,2, the 30000000th number spoken is 2578.\n",
    "Given 2,1,3, the 30000000th number spoken is 3544142.\n",
    "Given 1,2,3, the 30000000th number spoken is 261214.\n",
    "Given 2,3,1, the 30000000th number spoken is 6895259.\n",
    "Given 3,2,1, the 30000000th number spoken is 18.\n",
    "Given 3,1,2, the 30000000th number spoken is 362.\n",
    "Given your starting numbers, what will be the 30000000th number spoken?"
   ]
  },
  {
   "cell_type": "code",
   "execution_count": null,
   "metadata": {},
   "outputs": [],
   "source": [
    "def run(initial, n):\n",
    "    \n",
    "    spoken = {x: i+1 for i, x in enumerate(initial[:-1])}\n",
    "    head = initial[-1]\n",
    "    index = len(initial)\n",
    "    while index < n:\n",
    "        if head not in spoken:\n",
    "            follow = 0\n",
    "        else:\n",
    "            follow = index - spoken[head]\n",
    "        spoken[head] = index\n",
    "        head = follow\n",
    "        index += 1\n",
    "    return head"
   ]
  },
  {
   "cell_type": "code",
   "execution_count": null,
   "metadata": {},
   "outputs": [],
   "source": [
    "run(initial, 30000000)"
   ]
  },
  {
   "cell_type": "code",
   "execution_count": null,
   "metadata": {},
   "outputs": [],
   "source": []
  }
 ],
 "metadata": {
  "kernelspec": {
   "display_name": "Python [conda env:stats_env]",
   "language": "python",
   "name": "conda-env-stats_env-py"
  },
  "language_info": {
   "codemirror_mode": {
    "name": "ipython",
    "version": 3
   },
   "file_extension": ".py",
   "mimetype": "text/x-python",
   "name": "python",
   "nbconvert_exporter": "python",
   "pygments_lexer": "ipython3",
   "version": "3.7.6"
  }
 },
 "nbformat": 4,
 "nbformat_minor": 2
}
