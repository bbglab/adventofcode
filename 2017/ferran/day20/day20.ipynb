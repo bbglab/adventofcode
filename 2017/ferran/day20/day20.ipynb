{
 "cells": [
  {
   "cell_type": "markdown",
   "metadata": {},
   "source": [
    "# Particle Swarm"
   ]
  },
  {
   "cell_type": "code",
   "execution_count": 120,
   "metadata": {
    "ExecuteTime": {
     "end_time": "2017-12-21T17:14:04.407034",
     "start_time": "2017-12-21T17:14:04.378788"
    },
    "collapsed": true
   },
   "outputs": [],
   "source": [
    "import csv\n",
    "import numpy as np\n",
    "from copy import copy\n",
    "from functools import partial\n",
    "\n",
    "def newton(pos, vel, acc, n):\n",
    "    return pos + vel * n + (n * (n + 1) // 2) * acc\n",
    "\n",
    "def parse_particles(input_path):\n",
    "    particles = []\n",
    "    with open(input_path, 'rt') as f_input:\n",
    "        csv_reader = csv.reader(f_input, delimiter=' ')\n",
    "        for line in csv_reader:\n",
    "            extract = lambda l: np.array(list(map(int, l[3:-1].rstrip('>').split(','))))\n",
    "            pos, vel, acc = tuple(map(extract, line))\n",
    "            f = partial(newton, pos, vel, acc)\n",
    "            particles.append(f)\n",
    "    return particles"
   ]
  },
  {
   "cell_type": "markdown",
   "metadata": {},
   "source": [
    "## Part 1"
   ]
  },
  {
   "cell_type": "code",
   "execution_count": 122,
   "metadata": {
    "ExecuteTime": {
     "end_time": "2017-12-21T17:14:05.323555",
     "start_time": "2017-12-21T17:14:05.280807"
    },
    "collapsed": true
   },
   "outputs": [],
   "source": [
    "def init_acc(p):\n",
    "    return p(2) - 2 * p(1) + p(0)\n",
    "\n",
    "def init_vel(p):\n",
    "    return p(1) - p(0)\n",
    "\n",
    "def init_pos(p):\n",
    "    return p(0)\n",
    "\n",
    "def assymp_closest(particles):\n",
    "    min_to_zero = None\n",
    "    for i, p in enumerate(particles):\n",
    "        manhattan = sum(np.abs(init_acc(p)))\n",
    "        if (min_to_zero is None) or manhattan < min_to_zero:\n",
    "            index = i\n",
    "            min_to_zero = manhattan\n",
    "    return index"
   ]
  },
  {
   "cell_type": "markdown",
   "metadata": {},
   "source": [
    "### Solution"
   ]
  },
  {
   "cell_type": "code",
   "execution_count": 123,
   "metadata": {
    "ExecuteTime": {
     "end_time": "2017-12-21T17:14:06.227148",
     "start_time": "2017-12-21T17:14:06.111516"
    }
   },
   "outputs": [
    {
     "data": {
      "text/plain": [
       "258"
      ]
     },
     "execution_count": 123,
     "metadata": {},
     "output_type": "execute_result"
    }
   ],
   "source": [
    "assymp_closest(particles)"
   ]
  },
  {
   "cell_type": "markdown",
   "metadata": {},
   "source": [
    "## Part 2"
   ]
  },
  {
   "cell_type": "code",
   "execution_count": 132,
   "metadata": {
    "ExecuteTime": {
     "end_time": "2017-12-21T20:00:10.293804",
     "start_time": "2017-12-21T20:00:10.229283"
    }
   },
   "outputs": [],
   "source": [
    "from itertools import product\n",
    "from tqdm import tqdm\n",
    "\n",
    "def update(particles, t):\n",
    "    return [hash(frozenset(f(t))) for f in particles]\n",
    "\n",
    "def root_bounds(pos, vel, acc):\n",
    "    if acc != 0:\n",
    "        discr = (vel + 0.5 * acc) ** 2 - 2 * acc * pos\n",
    "        if np.greater_equal(discr, np.zeros_like(discr)):\n",
    "            x1 = (-0.5 * acc - vel + np.sqrt(discr)) / (2 * acc)\n",
    "            x2 = (-0.5 * acc - vel - np.sqrt(discr)) / (2 * acc)\n",
    "            return max(abs(x1), abs(x2))\n",
    "        else:\n",
    "            return 0\n",
    "    elif vel != 0:\n",
    "        return max(0, -pos / vel)\n",
    "    else:\n",
    "        return 0\n",
    "\n",
    "def time_to_diverge(p):\n",
    "    pos, vel, acc = init_pos(p), init_vel(p), init_acc(p)\n",
    "    discr = (acc - 2 * vel) ** 2 - 8 * acc * pos\n",
    "    if not all(np.greater_equal(discr, np.zeros_like(discr))):\n",
    "        return 0\n",
    "    else:\n",
    "        x = list(map(lambda i: root_bounds(pos[i], vel[i], acc[i]), range(3)))\n",
    "        return max(x)\n",
    "\n",
    "def max_time(particles):\n",
    "    t_max = 0\n",
    "    for i, j in product(range(len(particles)), repeat=2):\n",
    "        if i >= j:\n",
    "            t = time_to_diverge(lambda x: particles[i](x) - particles[j](x))\n",
    "            if t > t_max: t_max = t\n",
    "    return int(t_max) + 1\n",
    "        \n",
    "def resolve_collisions(particles, t_max):\n",
    "    for t in range(t_max):\n",
    "        positions = update(particles, t)\n",
    "        same = sorted([i for i, pos in enumerate(positions) if positions.count(pos) > 1], reverse=True)\n",
    "        for i in same:\n",
    "            particles.pop(i)\n",
    "        t += 1\n",
    "    return len(particles)"
   ]
  },
  {
   "cell_type": "markdown",
   "metadata": {},
   "source": [
    "### Solution"
   ]
  },
  {
   "cell_type": "code",
   "execution_count": 134,
   "metadata": {
    "ExecuteTime": {
     "end_time": "2017-12-21T20:00:46.600224",
     "start_time": "2017-12-21T20:00:43.318689"
    }
   },
   "outputs": [
    {
     "data": {
      "text/plain": [
       "707"
      ]
     },
     "execution_count": 134,
     "metadata": {},
     "output_type": "execute_result"
    }
   ],
   "source": [
    "particles = parse_particles('input.txt')\n",
    "T = max_time(particles)\n",
    "resolve_collisions(particles, T)"
   ]
  }
 ],
 "metadata": {
  "kernelspec": {
   "display_name": "Python [conda env:adventofcode]",
   "language": "python",
   "name": "conda-env-adventofcode-py"
  },
  "language_info": {
   "codemirror_mode": {
    "name": "ipython",
    "version": 3
   },
   "file_extension": ".py",
   "mimetype": "text/x-python",
   "name": "python",
   "nbconvert_exporter": "python",
   "pygments_lexer": "ipython3",
   "version": "3.5.2"
  },
  "toc": {
   "colors": {
    "hover_highlight": "#DAA520",
    "running_highlight": "#FF0000",
    "selected_highlight": "#FFD700"
   },
   "moveMenuLeft": true,
   "nav_menu": {
    "height": "66px",
    "width": "252px"
   },
   "navigate_menu": true,
   "number_sections": true,
   "sideBar": true,
   "threshold": 4,
   "toc_cell": false,
   "toc_section_display": "block",
   "toc_window_display": false
  }
 },
 "nbformat": 4,
 "nbformat_minor": 2
}
