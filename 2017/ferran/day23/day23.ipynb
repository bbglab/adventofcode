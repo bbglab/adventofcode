{
 "cells": [
  {
   "cell_type": "markdown",
   "metadata": {},
   "source": [
    "# Coprocessor Conflagration"
   ]
  },
  {
   "cell_type": "code",
   "execution_count": 1,
   "metadata": {
    "ExecuteTime": {
     "end_time": "2017-12-23T18:25:28.807202",
     "start_time": "2017-12-23T18:25:28.793123"
    },
    "collapsed": true
   },
   "outputs": [],
   "source": [
    "import csv\n",
    "\n",
    "def parse_registers(input_path):\n",
    "    registers = []\n",
    "    with open(input_path, 'rt') as f_input:\n",
    "        csv_reader = csv.reader(f_input, delimiter=' ')\n",
    "        for line in csv_reader:\n",
    "            registers.append((line[0], tuple(line[1:])))\n",
    "    return registers"
   ]
  },
  {
   "cell_type": "markdown",
   "metadata": {},
   "source": [
    "## Part 1"
   ]
  },
  {
   "cell_type": "code",
   "execution_count": 6,
   "metadata": {
    "ExecuteTime": {
     "end_time": "2017-12-23T18:26:58.601250",
     "start_time": "2017-12-23T18:26:58.543807"
    },
    "collapsed": true
   },
   "outputs": [],
   "source": [
    "from collections import defaultdict\n",
    "import re\n",
    "\n",
    "def init(input_path):\n",
    "    globals()['prog'] = defaultdict(int)\n",
    "    globals()['mul_count'] = 0\n",
    "    globals()['registers'] = parse_registers(input_path)\n",
    "    \n",
    "def retrieve(string, prog):\n",
    "    if re.search('\\d+', string):\n",
    "        return int(string)\n",
    "    else:\n",
    "        return prog[string]\n",
    "\n",
    "def r_set(x, y):\n",
    "    y = retrieve(y, prog)\n",
    "    prog[x] = y\n",
    "    \n",
    "def r_mul(x, y):\n",
    "    y = retrieve(y, prog)\n",
    "    prog[x] *= y\n",
    "    globals()['mul_count'] += 1\n",
    "    \n",
    "def r_sub(x, y):\n",
    "    y = retrieve(y, prog)\n",
    "    prog[x] -= y\n",
    "\n",
    "def exec_register(reg):\n",
    "    comm = reg[0]\n",
    "    argx = reg[1][0]\n",
    "    argy = reg[1][1]\n",
    "    globals()['r_' + comm](argx, argy)\n",
    "\n",
    "def run_update(registers, initial_head):\n",
    "    head = initial_head\n",
    "    while head < len(registers):\n",
    "        reg = registers[head]\n",
    "        if reg[0] != 'jnz':\n",
    "            exec_register(reg)\n",
    "            head += 1\n",
    "        else:\n",
    "            req = retrieve(reg[1][0], prog)\n",
    "            offset = retrieve(reg[1][1], prog)\n",
    "            if req != 0:\n",
    "                head += offset\n",
    "            else:\n",
    "                head += 1"
   ]
  },
  {
   "cell_type": "markdown",
   "metadata": {},
   "source": [
    "### Solution"
   ]
  },
  {
   "cell_type": "code",
   "execution_count": 7,
   "metadata": {
    "ExecuteTime": {
     "end_time": "2017-12-23T18:26:59.493432",
     "start_time": "2017-12-23T18:26:59.247534"
    }
   },
   "outputs": [
    {
     "data": {
      "text/plain": [
       "5929"
      ]
     },
     "execution_count": 7,
     "metadata": {},
     "output_type": "execute_result"
    }
   ],
   "source": [
    "init('input.txt')\n",
    "run_update(registers, 0)\n",
    "mul_count"
   ]
  },
  {
   "cell_type": "markdown",
   "metadata": {},
   "source": [
    "## Part 2\n",
    "\n",
    "If we try the natural stretch of the method devised in Part 1, we got too much running time.\n",
    "\n",
    "So we will try to figure a straightforward code optimization of the following lines of code:"
   ]
  },
  {
   "cell_type": "raw",
   "metadata": {
    "ExecuteTime": {
     "end_time": "2017-12-23T14:59:32.626476",
     "start_time": "2017-12-23T14:59:32.603709"
    }
   },
   "source": [
    "01. set b 79\n",
    "02. set c b\n",
    "03. jnz a 2\n",
    "04. jnz 1 5\n",
    "05. mul b 100\n",
    "06. sub b -100000\n",
    "07. set c b\n",
    "08. sub c -17000\n",
    "09. set f 1\n",
    "10. set d 2\n",
    "11. set e 2\n",
    "12. set g d\n",
    "13. mul g e\n",
    "14. sub g b\n",
    "15. jnz g 2\n",
    "16. set f 0\n",
    "17. sub e -1\n",
    "18. set g e\n",
    "19. sub g b\n",
    "20. jnz g -8\n",
    "21. sub d -1\n",
    "22. set g d\n",
    "23. sub g b\n",
    "24. jnz g -13\n",
    "25. jnz f 2\n",
    "26. sub h -1\n",
    "27. set g b\n",
    "28. sub g c\n",
    "29. jnz g 2\n",
    "30. jnz 1 3\n",
    "31. sub b -17\n",
    "32. jnz 1 -23"
   ]
  },
  {
   "cell_type": "markdown",
   "metadata": {},
   "source": [
    "This is the Python translation of our chunk of assembly code..."
   ]
  },
  {
   "cell_type": "code",
   "execution_count": 75,
   "metadata": {
    "ExecuteTime": {
     "end_time": "2017-12-23T20:51:11.879095",
     "start_time": "2017-12-23T20:51:11.832512"
    },
    "collapsed": true
   },
   "outputs": [],
   "source": [
    "def run_coprocessor_rough(alpha):\n",
    "    loop0, loop1, loop2 = False, False, False\n",
    "    a = alpha\n",
    "    b = 79\n",
    "    c = b\n",
    "    d = 0\n",
    "    e = 0\n",
    "    f = 0\n",
    "    g = 0\n",
    "    h = 0\n",
    "    if a != 0:\n",
    "        b *= 100\n",
    "        b += 100000\n",
    "        c = b\n",
    "        c += 17000\n",
    "    while (g != 0) or not loop0:\n",
    "        loop0 = True\n",
    "        f = 1\n",
    "        d = 2\n",
    "        while (g != 0) or not loop1:\n",
    "            loop1 = True\n",
    "            e = 2\n",
    "            while (g != 0) or not loop2:\n",
    "                loop2 = True\n",
    "                g = d\n",
    "                g *= e\n",
    "                g = g - b\n",
    "                if g == 0:\n",
    "                    f = 0\n",
    "                e += 1\n",
    "                g = e\n",
    "                g = g - b\n",
    "            d += 1\n",
    "            g = d\n",
    "            g = g - b\n",
    "        if f == 0:\n",
    "            h += 1\n",
    "        g = b\n",
    "        g = g - c\n",
    "        if g == 0:\n",
    "            return a, b, c, d, e, f, g, h\n",
    "        else:\n",
    "            b += 17"
   ]
  },
  {
   "cell_type": "markdown",
   "metadata": {},
   "source": [
    "### Test"
   ]
  },
  {
   "cell_type": "code",
   "execution_count": 76,
   "metadata": {
    "ExecuteTime": {
     "end_time": "2017-12-23T20:51:13.121325",
     "start_time": "2017-12-23T20:51:13.085166"
    }
   },
   "outputs": [
    {
     "data": {
      "text/plain": [
       "(0, 79, 79, 79, 79, 1, 0, 0)"
      ]
     },
     "execution_count": 76,
     "metadata": {},
     "output_type": "execute_result"
    }
   ],
   "source": [
    "run_coprocessor_rough(0)"
   ]
  },
  {
   "cell_type": "markdown",
   "metadata": {},
   "source": [
    "### Solution\n",
    "\n",
    "Optimizing little by little, I can manage to reduce it to the following chunk of code.\n",
    "\n",
    "It turns out that a primality test function is handy."
   ]
  },
  {
   "cell_type": "code",
   "execution_count": 77,
   "metadata": {
    "ExecuteTime": {
     "end_time": "2017-12-23T20:51:31.485009",
     "start_time": "2017-12-23T20:51:31.474525"
    },
    "collapsed": true
   },
   "outputs": [],
   "source": [
    "def is_prime(x):\n",
    "    if x >= 2:\n",
    "        for y in range(2,x):\n",
    "            if not ( x % y ):\n",
    "                return False\n",
    "    else:\n",
    "        return False\n",
    "    return True"
   ]
  },
  {
   "cell_type": "code",
   "execution_count": 78,
   "metadata": {
    "ExecuteTime": {
     "end_time": "2017-12-23T20:51:32.030817",
     "start_time": "2017-12-23T20:51:31.987372"
    },
    "collapsed": true
   },
   "outputs": [],
   "source": [
    "def run_coprocessor(alpha):\n",
    "    loop = False\n",
    "    a, b = alpha, 79\n",
    "    c = b\n",
    "    d, e, f, g, h = 0, 0, 0, 0, 0\n",
    "    if a != 0:\n",
    "        b *= 100\n",
    "        b += 100000\n",
    "        c = b\n",
    "        c += 17000\n",
    "    while (g != 0) or not loop:\n",
    "        loop = True\n",
    "        f = 1\n",
    "        d = 2\n",
    "        e = 2\n",
    "        if not is_prime(b):\n",
    "            f = 0\n",
    "        e = b\n",
    "        d = b\n",
    "        if f == 0:\n",
    "            h += 1\n",
    "        g = b\n",
    "        g = g - c\n",
    "        if g == 0:\n",
    "            return a, b, c, d, e, f, g, h\n",
    "        else:\n",
    "            b += 17"
   ]
  },
  {
   "cell_type": "code",
   "execution_count": 79,
   "metadata": {
    "ExecuteTime": {
     "end_time": "2017-12-23T20:51:34.529730",
     "start_time": "2017-12-23T20:51:33.509101"
    }
   },
   "outputs": [
    {
     "data": {
      "text/plain": [
       "(1, 124900, 124900, 124900, 124900, 0, 0, 907)"
      ]
     },
     "execution_count": 79,
     "metadata": {},
     "output_type": "execute_result"
    }
   ],
   "source": [
    "run_coprocessor(1)"
   ]
  }
 ],
 "metadata": {
  "kernelspec": {
   "display_name": "Python [conda env:adventofcode]",
   "language": "python",
   "name": "conda-env-adventofcode-py"
  },
  "language_info": {
   "codemirror_mode": {
    "name": "ipython",
    "version": 3
   },
   "file_extension": ".py",
   "mimetype": "text/x-python",
   "name": "python",
   "nbconvert_exporter": "python",
   "pygments_lexer": "ipython3",
   "version": "3.5.2"
  },
  "toc": {
   "colors": {
    "hover_highlight": "#DAA520",
    "running_highlight": "#FF0000",
    "selected_highlight": "#FFD700"
   },
   "moveMenuLeft": true,
   "nav_menu": {
    "height": "66px",
    "width": "252px"
   },
   "navigate_menu": true,
   "number_sections": true,
   "sideBar": true,
   "threshold": 4,
   "toc_cell": false,
   "toc_section_display": "block",
   "toc_window_display": false
  }
 },
 "nbformat": 4,
 "nbformat_minor": 2
}
