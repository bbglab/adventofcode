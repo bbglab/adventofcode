{
 "cells": [
  {
   "cell_type": "markdown",
   "metadata": {},
   "source": [
    "# Day 1"
   ]
  },
  {
   "cell_type": "code",
   "execution_count": 1,
   "metadata": {},
   "outputs": [],
   "source": [
    "with open(\"input.txt\", \"r\") as f:\n",
    "    data = [int(line.strip()) for line in f]"
   ]
  },
  {
   "cell_type": "markdown",
   "metadata": {},
   "source": [
    "### Puzzle 1"
   ]
  },
  {
   "cell_type": "code",
   "execution_count": 2,
   "metadata": {},
   "outputs": [
    {
     "name": "stdout",
     "output_type": "stream",
     "text": [
      "Measurement larger than the previous one = 1292\n"
     ]
    }
   ],
   "source": [
    "def count_increments(data):\n",
    "    \n",
    "    count = 0\n",
    "    depth = data[0]\n",
    "    \n",
    "    for n, d in enumerate(data):\n",
    "        if n > 0 and d > depth:\n",
    "            count += 1\n",
    "        depth = d\n",
    "        \n",
    "    print(f\"Measurement larger than the previous one = {count}\")\n",
    "\n",
    "count_increments(data)"
   ]
  },
  {
   "cell_type": "markdown",
   "metadata": {},
   "source": [
    "### Puzzle 2\n"
   ]
  },
  {
   "cell_type": "code",
   "execution_count": 3,
   "metadata": {},
   "outputs": [
    {
     "name": "stdout",
     "output_type": "stream",
     "text": [
      "Measurement larger than the previous one = 1262\n"
     ]
    }
   ],
   "source": [
    "triplets = [sum((data[i], data[i+1], data[i+2])) for i in range(len(data)) if i < len(data)-2]\n",
    "\n",
    "count_increments(triplets)"
   ]
  }
 ],
 "metadata": {
  "kernelspec": {
   "display_name": "Python 3 (ipykernel)",
   "language": "python",
   "name": "python3"
  },
  "language_info": {
   "codemirror_mode": {
    "name": "ipython",
    "version": 3
   },
   "file_extension": ".py",
   "mimetype": "text/x-python",
   "name": "python",
   "nbconvert_exporter": "python",
   "pygments_lexer": "ipython3",
   "version": "3.9.7"
  }
 },
 "nbformat": 4,
 "nbformat_minor": 4
}
