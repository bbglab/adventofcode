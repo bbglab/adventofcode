{
 "cells": [
  {
   "cell_type": "markdown",
   "metadata": {},
   "source": [
    "# Day 10"
   ]
  },
  {
   "cell_type": "code",
   "execution_count": null,
   "metadata": {
    "scrolled": false
   },
   "outputs": [],
   "source": [
    "! cat README.md"
   ]
  },
  {
   "cell_type": "code",
   "execution_count": null,
   "metadata": {},
   "outputs": [],
   "source": [
    "with open('input.txt', 'rt') as f:\n",
    "    adapters = sorted(list(map(int, f.read().splitlines())))"
   ]
  },
  {
   "cell_type": "code",
   "execution_count": null,
   "metadata": {},
   "outputs": [],
   "source": [
    "diff = [adapters[0]] + [adapters[i+1] - x if i < len(adapters)-1 else 3 for i, x in enumerate(adapters)]\n",
    "diff.count(1) * diff.count(3)"
   ]
  },
  {
   "cell_type": "raw",
   "metadata": {},
   "source": [
    "--- Part Two ---\n",
    "To completely determine whether you have enough adapters, you'll need to figure out how many different ways they can be arranged. Every arrangement needs to connect the charging outlet to your device. The previous rules about when adapters can successfully connect still apply.\n",
    "\n",
    "The first example above (the one that starts with 16, 10, 15) supports the following arrangements:\n",
    "\n",
    "(0), 1, 4, 5, 6, 7, 10, 11, 12, 15, 16, 19, (22)\n",
    "(0), 1, 4, 5, 6, 7, 10, 12, 15, 16, 19, (22)\n",
    "(0), 1, 4, 5, 7, 10, 11, 12, 15, 16, 19, (22)\n",
    "(0), 1, 4, 5, 7, 10, 12, 15, 16, 19, (22)\n",
    "(0), 1, 4, 6, 7, 10, 11, 12, 15, 16, 19, (22)\n",
    "(0), 1, 4, 6, 7, 10, 12, 15, 16, 19, (22)\n",
    "(0), 1, 4, 7, 10, 11, 12, 15, 16, 19, (22)\n",
    "(0), 1, 4, 7, 10, 12, 15, 16, 19, (22)\n",
    "(The charging outlet and your device's built-in adapter are shown in parentheses.) Given the adapters from the first example, the total number of arrangements that connect the charging outlet to your device is 8.\n",
    "\n",
    "The second example above (the one that starts with 28, 33, 18) has many arrangements. Here are a few:\n",
    "\n",
    "(0), 1, 2, 3, 4, 7, 8, 9, 10, 11, 14, 17, 18, 19, 20, 23, 24, 25, 28, 31,\n",
    "32, 33, 34, 35, 38, 39, 42, 45, 46, 47, 48, 49, (52)\n",
    "\n",
    "(0), 1, 2, 3, 4, 7, 8, 9, 10, 11, 14, 17, 18, 19, 20, 23, 24, 25, 28, 31,\n",
    "32, 33, 34, 35, 38, 39, 42, 45, 46, 47, 49, (52)\n",
    "\n",
    "(0), 1, 2, 3, 4, 7, 8, 9, 10, 11, 14, 17, 18, 19, 20, 23, 24, 25, 28, 31,\n",
    "32, 33, 34, 35, 38, 39, 42, 45, 46, 48, 49, (52)\n",
    "\n",
    "(0), 1, 2, 3, 4, 7, 8, 9, 10, 11, 14, 17, 18, 19, 20, 23, 24, 25, 28, 31,\n",
    "32, 33, 34, 35, 38, 39, 42, 45, 46, 49, (52)\n",
    "\n",
    "(0), 1, 2, 3, 4, 7, 8, 9, 10, 11, 14, 17, 18, 19, 20, 23, 24, 25, 28, 31,\n",
    "32, 33, 34, 35, 38, 39, 42, 45, 47, 48, 49, (52)\n",
    "\n",
    "(0), 3, 4, 7, 10, 11, 14, 17, 20, 23, 25, 28, 31, 34, 35, 38, 39, 42, 45,\n",
    "46, 48, 49, (52)\n",
    "\n",
    "(0), 3, 4, 7, 10, 11, 14, 17, 20, 23, 25, 28, 31, 34, 35, 38, 39, 42, 45,\n",
    "46, 49, (52)\n",
    "\n",
    "(0), 3, 4, 7, 10, 11, 14, 17, 20, 23, 25, 28, 31, 34, 35, 38, 39, 42, 45,\n",
    "47, 48, 49, (52)\n",
    "\n",
    "(0), 3, 4, 7, 10, 11, 14, 17, 20, 23, 25, 28, 31, 34, 35, 38, 39, 42, 45,\n",
    "47, 49, (52)\n",
    "\n",
    "(0), 3, 4, 7, 10, 11, 14, 17, 20, 23, 25, 28, 31, 34, 35, 38, 39, 42, 45,\n",
    "48, 49, (52)\n",
    "In total, this set of adapters can connect the charging outlet to your device in 19208 distinct arrangements.\n",
    "\n",
    "You glance back down at your bag and try to remember why you brought so many adapters; there must be more than a trillion valid ways to arrange them! Surely, there must be an efficient way to count the arrangements.\n",
    "\n",
    "What is the total number of distinct ways you can arrange the adapters to connect the charging outlet to your device?"
   ]
  },
  {
   "cell_type": "code",
   "execution_count": null,
   "metadata": {},
   "outputs": [],
   "source": [
    "# divide and conquer with limited brute force!\n",
    "\n",
    "import math\n",
    "from functools import reduce\n",
    "\n",
    "\n",
    "def arrangements_diff_one(n):\n",
    "    \n",
    "    queue, completed = [0], 0\n",
    "    while len(queue) > 0:\n",
    "        head = queue.pop(0)\n",
    "        children = [head + i for i in [1,2,3] if head + i < n] \n",
    "        if len(children) == 0:\n",
    "            completed += 1\n",
    "        else:\n",
    "            for y in children:\n",
    "                queue.append(y)\n",
    "    return completed\n",
    "\n",
    "\n",
    "def divide_and_conquer(adapters):\n",
    "    \n",
    "    # diffs\n",
    "    diff = [adapters[0]] + [adapters[i+1] - x if i < len(adapters)-1 else 3 for i, x in enumerate(adapters)]\n",
    "    \n",
    "    # chunks\n",
    "    tractsizes, acc = [], 0\n",
    "    for i, x in enumerate(diff):\n",
    "        if diff[i] == 1:\n",
    "            acc += 1\n",
    "        else:\n",
    "            if acc > 1:\n",
    "                tractsizes.append(acc+1)\n",
    "            acc = 0\n",
    "    \n",
    "    # arrangements\n",
    "    acc = 1\n",
    "    for n in tractsizes:\n",
    "        acc *= arrangements_diff_one(n)\n",
    "    return acc"
   ]
  },
  {
   "cell_type": "code",
   "execution_count": null,
   "metadata": {},
   "outputs": [],
   "source": [
    "# test\n",
    "adapters_1 = sorted([16,10,15,5,1,11,7,19,6,12,4])\n",
    "adapters_2 = sorted([28,33,18,42,31,14,46,20,48,47,24,23,49,45,19,38,39,11,1,32,25,35,8,17,7,9,4,2,34,10,3])\n",
    "\n",
    "assert(divide_and_conquer(adapters_1) == 8)\n",
    "assert(divide_and_conquer(adapters_2) == 19208)"
   ]
  },
  {
   "cell_type": "code",
   "execution_count": null,
   "metadata": {},
   "outputs": [],
   "source": [
    "divide_and_conquer(adapters)"
   ]
  },
  {
   "cell_type": "code",
   "execution_count": null,
   "metadata": {},
   "outputs": [],
   "source": [
    "# extra elegant solution\n",
    "# formula-type of approach assuming diffs are {1,3} alone\n",
    "# it uses generating-functions: see tutorial in slack\n",
    "\n",
    "from functools import reduce\n",
    "from sympy import var\n",
    "\n",
    "x = var('x')\n",
    "g = x / (1 - x - x**2 - x**3)  # gf how many times a piece is used\n",
    "\n",
    "def diff_one_tract_lengths(adapters):\n",
    "    diff = [adapters[0]] + [adapters[i+1] - x if i < len(adapters)-1 else 3 for i, x in enumerate(adapters)]\n",
    "    return [len(x) + 1 for x in ''.join(list(map(str, diff))).split('3') if len(x) > 0]\n",
    "\n",
    "def arrangements_diff_one_formula(n):\n",
    "    return g.series(x, 0, n+1).coeff(x ** n)\n",
    "    \n",
    "reduce(lambda x,y: x*y, list(map(arrangements_diff_one_formula, diff_one_tract_lengths(adapters))), 1)"
   ]
  },
  {
   "cell_type": "code",
   "execution_count": null,
   "metadata": {},
   "outputs": [],
   "source": []
  }
 ],
 "metadata": {
  "kernelspec": {
   "display_name": "Python [conda env:stats_env]",
   "language": "python",
   "name": "conda-env-stats_env-py"
  },
  "language_info": {
   "codemirror_mode": {
    "name": "ipython",
    "version": 3
   },
   "file_extension": ".py",
   "mimetype": "text/x-python",
   "name": "python",
   "nbconvert_exporter": "python",
   "pygments_lexer": "ipython3",
   "version": "3.7.6"
  }
 },
 "nbformat": 4,
 "nbformat_minor": 2
}
