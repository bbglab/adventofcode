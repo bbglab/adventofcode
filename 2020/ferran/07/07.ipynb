{
 "cells": [
  {
   "cell_type": "markdown",
   "metadata": {},
   "source": [
    "# Day 7"
   ]
  },
  {
   "cell_type": "code",
   "execution_count": 1,
   "metadata": {},
   "outputs": [
    {
     "name": "stdout",
     "output_type": "stream",
     "text": [
      "# --- Day 7: Handy Haversacks ---\r\n",
      "\r\n",
      "You land at the regional airport in time for your next flight. In fact, it looks like you'll even have time to grab some food: all flights are currently delayed due to *issues in luggage processing*.\r\n",
      "\r\n",
      "Due to recent aviation regulations, many rules (your puzzle input) are being enforced about bags and their contents; bags must be color-coded and must contain specific quantities of other color-coded bags. Apparently, nobody responsible for these regulations considered how long they would take to enforce!\r\n",
      "\r\n",
      "For example, consider the following rules:\r\n",
      "\r\n",
      "```\r\n",
      "light red bags contain 1 bright white bag, 2 muted yellow bags.\r\n",
      "dark orange bags contain 3 bright white bags, 4 muted yellow bags.\r\n",
      "bright white bags contain 1 shiny gold bag.\r\n",
      "muted yellow bags contain 2 shiny gold bags, 9 faded blue bags.\r\n",
      "shiny gold bags contain 1 dark olive bag, 2 vibrant plum bags.\r\n",
      "dark olive bags contain 3 faded blue bags, 4 dotted black bags.\r\n",
      "vibrant plum bags contain 5 faded blue bags, 6 dotted black bags.\r\n",
      "faded blue bags contain no other bags.\r\n",
      "dotted black bags contain no other bags.\r\n",
      "\r\n",
      "```\r\n",
      "\r\n",
      "These rules specify the required contents for 9 bag types. In this example, every `faded blue` bag is empty, every `vibrant plum` bag contains 11 bags (5 `faded blue` and 6 `dotted black`), and so on.\r\n",
      "\r\n",
      "You have a `shiny gold` bag. If you wanted to carry it in at least one other bag, how many different bag colors would be valid for the outermost bag? (In other words: how many colors can, eventually, contain at least one `shiny gold` bag?)\r\n",
      "\r\n",
      "In the above rules, the following options would be available to you:\r\n",
      "\r\n",
      "\r\n",
      " - A `bright white` bag, which can hold your `shiny gold` bag directly.\r\n",
      "\r\n",
      " - A `muted yellow` bag, which can hold your `shiny gold` bag directly, plus some other bags.\r\n",
      "\r\n",
      " - A `dark orange` bag, which can hold `bright white` and `muted yellow` bags, either of which could then hold your `shiny gold` bag.\r\n",
      "\r\n",
      " - A `light red` bag, which can hold `bright white` and `muted yellow` bags, either of which could then hold your `shiny gold` bag.\r\n",
      "\r\n",
      "\r\n",
      "So, in this example, the number of bag colors that can eventually contain at least one `shiny gold` bag is `4`.\r\n",
      "\r\n",
      "*How many bag colors can eventually contain at least one `shiny gold` bag?* (The list of rules is quite long; make sure you get all of it.)\r\n",
      "\r\n"
     ]
    }
   ],
   "source": [
    "! cat README.md"
   ]
  },
  {
   "cell_type": "code",
   "execution_count": 44,
   "metadata": {},
   "outputs": [],
   "source": [
    "with open('input.txt', 'rt') as f:\n",
    "    l = f.read().splitlines()"
   ]
  },
  {
   "cell_type": "code",
   "execution_count": 57,
   "metadata": {},
   "outputs": [],
   "source": [
    "def parse_item(item):\n",
    "\n",
    "    key, value = item.split(' contain ')\n",
    "    container = ' '.join(key.split(' ')[:2])\n",
    "    if value.endswith('no other bags.'):\n",
    "        content = {}\n",
    "    else:\n",
    "        content = dict(map(lambda x: (' '.join(x.split(' ')[1:3]), \n",
    "                                  int(x.split(' ')[0])),\n",
    "                           value.rstrip('.').split(', ')))\n",
    "    return (container, content)\n",
    "\n",
    "input_dict = dict(list(map(parse_item, l)))"
   ]
  },
  {
   "cell_type": "code",
   "execution_count": 62,
   "metadata": {},
   "outputs": [],
   "source": [
    "container_dict = {}\n",
    "for k, v in input_dict.items():\n",
    "    for w in v:\n",
    "        container_dict[w] = container_dict.get(w, []) + [k]"
   ]
  },
  {
   "cell_type": "code",
   "execution_count": 67,
   "metadata": {},
   "outputs": [],
   "source": [
    "possible_containers = []\n",
    "queue = ['shiny gold']\n",
    "while len(queue) > 0:\n",
    "    k = queue.pop(0)\n",
    "    if k not in container_dict:\n",
    "        continue\n",
    "    for c in container_dict[k]:\n",
    "        if c not in possible_containers:\n",
    "            possible_containers.append(c)\n",
    "            queue.append(c)\n",
    "        elif c in possible_containers:\n",
    "            continue"
   ]
  },
  {
   "cell_type": "code",
   "execution_count": 68,
   "metadata": {},
   "outputs": [
    {
     "data": {
      "text/plain": [
       "316"
      ]
     },
     "execution_count": 68,
     "metadata": {},
     "output_type": "execute_result"
    }
   ],
   "source": [
    "len(possible_containers)"
   ]
  },
  {
   "cell_type": "markdown",
   "metadata": {},
   "source": [
    "--- Part Two ---\n",
    "It's getting pretty expensive to fly these days - not because of ticket prices, but because of the ridiculous number of bags you need to buy!\n",
    "\n",
    "Consider again your shiny gold bag and the rules from the above example:\n",
    "\n",
    "faded blue bags contain 0 other bags.\n",
    "dotted black bags contain 0 other bags.\n",
    "vibrant plum bags contain 11 other bags: 5 faded blue bags and 6 dotted black bags.\n",
    "dark olive bags contain 7 other bags: 3 faded blue bags and 4 dotted black bags.\n",
    "So, a single shiny gold bag must contain 1 dark olive bag (and the 7 bags within it) plus 2 vibrant plum bags (and the 11 bags within each of those): 1 + 1*7 + 2 + 2*11 = 32 bags!\n",
    "\n",
    "Of course, the actual rules have a small chance of going several levels deeper than this example; be sure to count all of the bags, even if the nesting becomes topologically impractical!\n",
    "\n",
    "Here's another example:\n",
    "\n",
    "shiny gold bags contain 2 dark red bags.\n",
    "dark red bags contain 2 dark orange bags.\n",
    "dark orange bags contain 2 dark yellow bags.\n",
    "dark yellow bags contain 2 dark green bags.\n",
    "dark green bags contain 2 dark blue bags.\n",
    "dark blue bags contain 2 dark violet bags.\n",
    "dark violet bags contain no other bags.\n",
    "In this example, a single shiny gold bag must contain 126 other bags.\n",
    "\n",
    "How many individual bags are required inside your single shiny gold bag?"
   ]
  },
  {
   "cell_type": "code",
   "execution_count": 78,
   "metadata": {},
   "outputs": [],
   "source": [
    "# test\n",
    "\n",
    "test_dict = {'shiny gold': {'dark red': 2},\n",
    "             'dark red': {'dark orange': 2},\n",
    "             'dark orange': {'dark yellow': 2},\n",
    "             'dark yellow': {'dark green': 2},\n",
    "             'dark green': {'dark blue': 2},\n",
    "             'dark blue': {'dark violet': 2},\n",
    "             'dark violet': {}}"
   ]
  },
  {
   "cell_type": "code",
   "execution_count": 81,
   "metadata": {},
   "outputs": [],
   "source": [
    "bag_count = 0\n",
    "queue = [('shiny gold', 1)]\n",
    "while len(queue) > 0:\n",
    "    color, factor = queue.pop(0)\n",
    "    bag_count += factor\n",
    "    for k, v in input_dict[color].items():\n",
    "        queue.append((k, factor * v))"
   ]
  },
  {
   "cell_type": "code",
   "execution_count": 82,
   "metadata": {},
   "outputs": [
    {
     "data": {
      "text/plain": [
       "11310"
      ]
     },
     "execution_count": 82,
     "metadata": {},
     "output_type": "execute_result"
    }
   ],
   "source": [
    "bag_count - 1"
   ]
  }
 ],
 "metadata": {
  "kernelspec": {
   "display_name": "Python [conda env:stats_env]",
   "language": "python",
   "name": "conda-env-stats_env-py"
  },
  "language_info": {
   "codemirror_mode": {
    "name": "ipython",
    "version": 3
   },
   "file_extension": ".py",
   "mimetype": "text/x-python",
   "name": "python",
   "nbconvert_exporter": "python",
   "pygments_lexer": "ipython3",
   "version": "3.7.6"
  }
 },
 "nbformat": 4,
 "nbformat_minor": 2
}
