{
 "cells": [
  {
   "cell_type": "markdown",
   "metadata": {},
   "source": [
    "Part 1 "
   ]
  },
  {
   "cell_type": "code",
   "execution_count": 39,
   "metadata": {},
   "outputs": [],
   "source": [
    "def move(letter, number, cord,facing):\n",
    "    if letter =='N':\n",
    "        cord[1]+=number\n",
    "    if letter =='S':\n",
    "        cord[1]+=-number\n",
    "    if letter =='E':\n",
    "        cord[0]+=number\n",
    "    if letter =='W':\n",
    "        cord[0]+=-number\n",
    "        \n",
    "    if letter =='L':\n",
    "        facing+=number\n",
    "        facing=facing%360\n",
    "    if letter =='R':\n",
    "        facing+=-number\n",
    "        facing=facing%360\n",
    "    if letter =='F':\n",
    "        if facing==0:\n",
    "            cord[0]+=number\n",
    "        if facing==90:\n",
    "            cord[1]+=number\n",
    "        if facing==180:\n",
    "            cord[0]+=-number\n",
    "        if facing==270:\n",
    "            cord[1]+=-number\n",
    "\n",
    "    return(cord,facing)"
   ]
  },
  {
   "cell_type": "code",
   "execution_count": 40,
   "metadata": {},
   "outputs": [],
   "source": [
    "cord=[0,0]\n",
    "facing=0\n",
    "\n",
    "with open('input_day12.txt','r') as f:\n",
    "    for line in f:\n",
    "        line=line.strip()\n",
    "        (cord,facing)=move(line[0],int(line[1:]),cord,facing)"
   ]
  },
  {
   "cell_type": "code",
   "execution_count": 41,
   "metadata": {},
   "outputs": [
    {
     "data": {
      "text/plain": [
       "415"
      ]
     },
     "execution_count": 41,
     "metadata": {},
     "output_type": "execute_result"
    }
   ],
   "source": [
    "abs(cord[0])+abs(cord[1])"
   ]
  },
  {
   "cell_type": "markdown",
   "metadata": {},
   "source": [
    "Part 2 \n"
   ]
  },
  {
   "cell_type": "code",
   "execution_count": 46,
   "metadata": {},
   "outputs": [],
   "source": [
    "def move2(letter, number, cord_ship, cord_way):\n",
    "    if letter =='N':\n",
    "        cord_way[1]+=number\n",
    "    elif letter =='S':\n",
    "        cord_way[1]+=-number\n",
    "    elif letter =='E':\n",
    "        cord_way[0]+=number\n",
    "    elif letter =='W':\n",
    "        cord_way[0]+=-number\n",
    "        \n",
    "    elif letter =='R':\n",
    "        if number==90:\n",
    "            (cord_way[0],cord_way[1])=(cord_way[1],-cord_way[0])\n",
    "        elif number==180:\n",
    "            (cord_way[0],cord_way[1])=(-cord_way[0],-cord_way[1])\n",
    "        elif number==270:\n",
    "            (cord_way[0],cord_way[1])=(-cord_way[1],cord_way[0])\n",
    "\n",
    "    if letter =='L':\n",
    "        if number==270:\n",
    "            (cord_way[0],cord_way[1])=(cord_way[1],-cord_way[0])\n",
    "        elif number==180:\n",
    "            (cord_way[0],cord_way[1])=(-cord_way[0],-cord_way[1])\n",
    "        elif number==90:\n",
    "            (cord_way[0],cord_way[1])=(-cord_way[1],cord_way[0])\n",
    "\n",
    "    if letter =='F':\n",
    "        cord_ship[0]+=number*cord_way[0]\n",
    "        cord_ship[1]+=number*cord_way[1]\n",
    "\n",
    "    return(cord_ship,cord_way)"
   ]
  },
  {
   "cell_type": "code",
   "execution_count": 47,
   "metadata": {},
   "outputs": [],
   "source": [
    "cord_ship=[0,0]\n",
    "cord_way=[10,1]\n",
    "\n",
    "\n",
    "with open('input_day12.txt','r') as f:\n",
    "    for line in f:\n",
    "        line=line.strip()\n",
    "        (cord_ship,cord_way)=move2(line[0],int(line[1:]), cord_ship, cord_way)\n"
   ]
  },
  {
   "cell_type": "code",
   "execution_count": 48,
   "metadata": {},
   "outputs": [
    {
     "data": {
      "text/plain": [
       "29401"
      ]
     },
     "execution_count": 48,
     "metadata": {},
     "output_type": "execute_result"
    }
   ],
   "source": [
    "abs(cord_ship[0])+abs(cord_ship[1])"
   ]
  }
 ],
 "metadata": {
  "kernelspec": {
   "display_name": "Python 3",
   "language": "python",
   "name": "python3"
  },
  "language_info": {
   "codemirror_mode": {
    "name": "ipython",
    "version": 3
   },
   "file_extension": ".py",
   "mimetype": "text/x-python",
   "name": "python",
   "nbconvert_exporter": "python",
   "pygments_lexer": "ipython3",
   "version": "3.8.5"
  }
 },
 "nbformat": 4,
 "nbformat_minor": 4
}
