{
 "cells": [
  {
   "cell_type": "markdown",
   "metadata": {},
   "source": [
    "# Day 6"
   ]
  },
  {
   "cell_type": "markdown",
   "metadata": {},
   "source": [
    "#### Problem 1"
   ]
  },
  {
   "cell_type": "code",
   "execution_count": 14,
   "metadata": {},
   "outputs": [],
   "source": [
    "total_answers = 0\n",
    "with open('input.txt', 'r') as fd: \n",
    "    group_answers = set()\n",
    "    for line in fd: \n",
    "        if len(line.strip()) != 0:\n",
    "            for letter in line.strip(): \n",
    "                group_answers.add(letter)\n",
    "        else: \n",
    "            total_answers += len(group_answers)\n",
    "            group_answers = set()\n",
    "    total_answers += len(group_answers)"
   ]
  },
  {
   "cell_type": "code",
   "execution_count": 15,
   "metadata": {
    "scrolled": true
   },
   "outputs": [
    {
     "data": {
      "text/plain": [
       "6273"
      ]
     },
     "execution_count": 15,
     "metadata": {},
     "output_type": "execute_result"
    }
   ],
   "source": [
    "total_answers"
   ]
  },
  {
   "cell_type": "markdown",
   "metadata": {},
   "source": [
    "#### Problem 2"
   ]
  },
  {
   "cell_type": "code",
   "execution_count": 21,
   "metadata": {},
   "outputs": [],
   "source": [
    "total_answers = 0\n",
    "with open('input.txt', 'r') as fd: \n",
    "    group_answers = set()\n",
    "    start = True\n",
    "    for line in fd: \n",
    "        if len(line.strip()) != 0:\n",
    "            if start: \n",
    "                group_answers = set(line.strip())\n",
    "                start = False\n",
    "            else:\n",
    "                group_answers = group_answers.intersection(set(line.strip()))\n",
    "        else: \n",
    "            total_answers += len(group_answers)\n",
    "            group_answers = set()\n",
    "            start = True\n",
    "    total_answers += len(group_answers)"
   ]
  },
  {
   "cell_type": "code",
   "execution_count": 22,
   "metadata": {},
   "outputs": [
    {
     "data": {
      "text/plain": [
       "3254"
      ]
     },
     "execution_count": 22,
     "metadata": {},
     "output_type": "execute_result"
    }
   ],
   "source": [
    "total_answers"
   ]
  },
  {
   "cell_type": "code",
   "execution_count": null,
   "metadata": {
    "collapsed": true
   },
   "outputs": [],
   "source": []
  }
 ],
 "metadata": {
  "kernelspec": {
   "display_name": "Python [conda env:hotspots_framework]",
   "language": "python",
   "name": "conda-env-hotspots_framework-py"
  },
  "language_info": {
   "codemirror_mode": {
    "name": "ipython",
    "version": 3
   },
   "file_extension": ".py",
   "mimetype": "text/x-python",
   "name": "python",
   "nbconvert_exporter": "python",
   "pygments_lexer": "ipython3",
   "version": "3.6.10"
  }
 },
 "nbformat": 4,
 "nbformat_minor": 2
}
