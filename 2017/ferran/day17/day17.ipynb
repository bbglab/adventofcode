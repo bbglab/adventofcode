{
 "cells": [
  {
   "cell_type": "markdown",
   "metadata": {},
   "source": [
    "# Spinlock"
   ]
  },
  {
   "cell_type": "markdown",
   "metadata": {},
   "source": [
    "## Part 1"
   ]
  },
  {
   "cell_type": "code",
   "execution_count": 303,
   "metadata": {
    "ExecuteTime": {
     "end_time": "2017-12-17T15:43:13.602725",
     "start_time": "2017-12-17T15:43:13.571527"
    },
    "collapsed": true
   },
   "outputs": [],
   "source": [
    "from tqdm import tqdm\n",
    "import numpy as np\n",
    "\n",
    "def next_head(head, n, key):\n",
    "    return ((head + key) % n) + 1\n",
    "\n",
    "def next_lock(lock, head, n, key):\n",
    "    new_head = next_head(head, n, key)\n",
    "    return lock[:new_head] + [n] + lock[new_head:], new_head\n",
    "\n",
    "def spinlock(key, iters):\n",
    "    lock, head = [0], 0\n",
    "    for i in range(iters):\n",
    "        lock, head = next_lock(lock, head, i + 1, key)\n",
    "    return lock\n",
    "\n",
    "def first_index_next(key, target):\n",
    "    lock = spinlock(key, target)\n",
    "    index = lock.index(target)\n",
    "    return index, lock[index + 1]"
   ]
  },
  {
   "cell_type": "code",
   "execution_count": 304,
   "metadata": {
    "ExecuteTime": {
     "end_time": "2017-12-17T15:43:13.958224",
     "start_time": "2017-12-17T15:43:13.947298"
    }
   },
   "outputs": [
    {
     "data": {
      "text/plain": [
       "(28, 28)"
      ]
     },
     "execution_count": 304,
     "metadata": {},
     "output_type": "execute_result"
    }
   ],
   "source": [
    "first_index_next(3, 1)"
   ]
  },
  {
   "cell_type": "markdown",
   "metadata": {},
   "source": [
    "### Test"
   ]
  },
  {
   "cell_type": "code",
   "execution_count": 218,
   "metadata": {
    "ExecuteTime": {
     "end_time": "2017-12-17T14:21:44.238618",
     "start_time": "2017-12-17T14:21:44.185778"
    }
   },
   "outputs": [
    {
     "name": "stdout",
     "output_type": "stream",
     "text": [
      "CPU times: user 28 ms, sys: 8 ms, total: 36 ms\n",
      "Wall time: 35.2 ms\n"
     ]
    }
   ],
   "source": [
    "%%time\n",
    "lock = spinlock(3, 2017)\n",
    "index = lock.index(2017)\n",
    "assert(lock[index - 3: index + 4] == [1512, 1134, 151, 2017, 638, 1513, 851])"
   ]
  },
  {
   "cell_type": "markdown",
   "metadata": {},
   "source": [
    "### Solution"
   ]
  },
  {
   "cell_type": "code",
   "execution_count": 222,
   "metadata": {
    "ExecuteTime": {
     "end_time": "2017-12-17T14:23:31.412427",
     "start_time": "2017-12-17T14:23:31.361304"
    }
   },
   "outputs": [
    {
     "name": "stdout",
     "output_type": "stream",
     "text": [
      "index of target = 567\n",
      "value next to target = 1642\n"
     ]
    }
   ],
   "source": [
    "key = 301\n",
    "target = 2017\n",
    "index, next_to_target = first_index_next(key, target)\n",
    "print('index of target = {0}\\nvalue next to target = {1}'.format(index, next_to_target))"
   ]
  },
  {
   "cell_type": "markdown",
   "metadata": {},
   "source": [
    "## Part 2"
   ]
  },
  {
   "cell_type": "markdown",
   "metadata": {
    "ExecuteTime": {
     "end_time": "2017-12-16T14:08:06.220360",
     "start_time": "2017-12-16T14:08:06.205688"
    }
   },
   "source": [
    "### Solution"
   ]
  },
  {
   "cell_type": "code",
   "execution_count": 311,
   "metadata": {
    "ExecuteTime": {
     "end_time": "2017-12-17T15:48:05.966701",
     "start_time": "2017-12-17T15:48:05.946313"
    },
    "collapsed": true
   },
   "outputs": [],
   "source": [
    "def neighbor_right_zero(key, iters):\n",
    "    index, neighbor = 0, 1\n",
    "    head = 0\n",
    "    for i in range(iters):\n",
    "        head = next_head(head, i + 1, key)\n",
    "        if head <= index:\n",
    "            index += 1\n",
    "        elif head == index + 1:\n",
    "            neighbor = i + 1\n",
    "    return neighbor"
   ]
  },
  {
   "cell_type": "markdown",
   "metadata": {},
   "source": [
    "### Test 1"
   ]
  },
  {
   "cell_type": "code",
   "execution_count": 309,
   "metadata": {
    "ExecuteTime": {
     "end_time": "2017-12-17T15:47:51.209431",
     "start_time": "2017-12-17T15:47:41.644000"
    }
   },
   "outputs": [
    {
     "data": {
      "text/plain": [
       "[0, 38713]"
      ]
     },
     "execution_count": 309,
     "metadata": {},
     "output_type": "execute_result"
    }
   ],
   "source": [
    "lock = spinlock(3, 5 * 10 ** 4)\n",
    "index = lock.index(0)\n",
    "lock[index: index + 2]"
   ]
  },
  {
   "cell_type": "code",
   "execution_count": 313,
   "metadata": {
    "ExecuteTime": {
     "end_time": "2017-12-17T15:48:21.528793",
     "start_time": "2017-12-17T15:48:21.485941"
    }
   },
   "outputs": [
    {
     "data": {
      "text/plain": [
       "38713"
      ]
     },
     "execution_count": 313,
     "metadata": {},
     "output_type": "execute_result"
    }
   ],
   "source": [
    "neighbor_right_zero(3, 5 * 10 ** 4)"
   ]
  },
  {
   "cell_type": "markdown",
   "metadata": {},
   "source": [
    "### Test 2"
   ]
  },
  {
   "cell_type": "code",
   "execution_count": 314,
   "metadata": {
    "ExecuteTime": {
     "end_time": "2017-12-17T15:48:41.792776",
     "start_time": "2017-12-17T15:48:40.290595"
    }
   },
   "outputs": [
    {
     "data": {
      "text/plain": [
       "[0, 16332]"
      ]
     },
     "execution_count": 314,
     "metadata": {},
     "output_type": "execute_result"
    }
   ],
   "source": [
    "lock = spinlock(3, 20000)\n",
    "index = lock.index(0)\n",
    "lock[index: index + 2]"
   ]
  },
  {
   "cell_type": "code",
   "execution_count": 316,
   "metadata": {
    "ExecuteTime": {
     "end_time": "2017-12-17T15:48:55.710054",
     "start_time": "2017-12-17T15:48:55.675350"
    }
   },
   "outputs": [
    {
     "data": {
      "text/plain": [
       "16332"
      ]
     },
     "execution_count": 316,
     "metadata": {},
     "output_type": "execute_result"
    }
   ],
   "source": [
    "neighbor_right_zero(3, 20000)"
   ]
  },
  {
   "cell_type": "markdown",
   "metadata": {},
   "source": [
    "### Solution"
   ]
  },
  {
   "cell_type": "code",
   "execution_count": 318,
   "metadata": {
    "ExecuteTime": {
     "end_time": "2017-12-17T15:49:31.377384",
     "start_time": "2017-12-17T15:49:16.144415"
    }
   },
   "outputs": [
    {
     "data": {
      "text/plain": [
       "33601318"
      ]
     },
     "execution_count": 318,
     "metadata": {},
     "output_type": "execute_result"
    }
   ],
   "source": [
    "key = 301\n",
    "neighbor_right_zero(key, 50 * 10 ** 6)"
   ]
  }
 ],
 "metadata": {
  "kernelspec": {
   "display_name": "Python [conda env:adventofcode]",
   "language": "python",
   "name": "conda-env-adventofcode-py"
  },
  "language_info": {
   "codemirror_mode": {
    "name": "ipython",
    "version": 3
   },
   "file_extension": ".py",
   "mimetype": "text/x-python",
   "name": "python",
   "nbconvert_exporter": "python",
   "pygments_lexer": "ipython3",
   "version": "3.5.2"
  },
  "toc": {
   "colors": {
    "hover_highlight": "#DAA520",
    "running_highlight": "#FF0000",
    "selected_highlight": "#FFD700"
   },
   "moveMenuLeft": true,
   "nav_menu": {
    "height": "66px",
    "width": "252px"
   },
   "navigate_menu": true,
   "number_sections": true,
   "sideBar": true,
   "threshold": 4,
   "toc_cell": false,
   "toc_section_display": "block",
   "toc_window_display": false
  }
 },
 "nbformat": 4,
 "nbformat_minor": 2
}
