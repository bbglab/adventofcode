{
 "cells": [
  {
   "cell_type": "markdown",
   "metadata": {},
   "source": [
    "```\n",
    "--- Day 12: Leonardo's Monorail ---\n",
    "\n",
    "You finally reach the top floor of this building: a garden with a slanted glass ceiling. Looks like there are no more stars to be had.\n",
    "\n",
    "While sitting on a nearby bench amidst some tiger lilies, you manage to decrypt some of the files you extracted from the servers downstairs.\n",
    "\n",
    "According to these documents, Easter Bunny HQ isn't just this building - it's a collection of buildings in the nearby area. They're all connected by a local monorail, and there's another building not far from here! Unfortunately, being night, the monorail is currently not operating.\n",
    "\n",
    "You remotely connect to the monorail control systems and discover that the boot sequence expects a password. The password-checking logic (your puzzle input) is easy to extract, but the code it uses is strange: it's assembunny code designed for the new computer you just assembled. You'll have to execute the code and get the password.\n",
    "\n",
    "The assembunny code you've extracted operates on four registers (a, b, c, and d) that start at 0 and can hold any integer. However, it seems to make use of only a few instructions:\n",
    "\n",
    "cpy x y copies x (either an integer or the value of a register) into register y.\n",
    "inc x increases the value of register x by one.\n",
    "dec x decreases the value of register x by one.\n",
    "jnz x y jumps to an instruction y away (positive means forward; negative means backward), but only if x is not zero.\n",
    "The jnz instruction moves relative to itself: an offset of -1 would continue at the previous instruction, while an offset of 2 would skip over the next instruction.\n",
    "\n",
    "For example:\n",
    "\n",
    "cpy 41 a\n",
    "inc a\n",
    "inc a\n",
    "dec a\n",
    "jnz a 2\n",
    "dec a\n",
    "The above code would set register a to 41, increase its value by 2, decrease its value by 1, and then skip the last dec a (because a is not zero, so the jnz a 2 skips it), leaving register a at 42. When you move past the last instruction, the program halts.\n",
    "\n",
    "After executing the assembunny code in your puzzle input, what value is left in register a?\n",
    "\n",
    "```"
   ]
  },
  {
   "cell_type": "code",
   "execution_count": 9,
   "metadata": {
    "collapsed": true
   },
   "outputs": [],
   "source": [
    "import re\n",
    "\n",
    "\n",
    "class BunnyMachine:\n",
    "        \n",
    "    def __init__(self, a=0, b=0, c=0, d=0):\n",
    "        self.registers = { 'a': a, 'b': b, 'c': c, 'd': d}\n",
    "        self.ops = { 'cpy': self.cpy, 'inc': self.inc, 'dec': self.dec, 'jnz': self.jnz }\n",
    "    \n",
    "    def execute(self, program):\n",
    "        \n",
    "        # Compile the program\n",
    "        bytecode = []\n",
    "        for instruction in program:\n",
    "            params = instruction.split()\n",
    "            method = self.ops[params[0]]\n",
    "            bytecode.append((method, params[1:]))\n",
    "            \n",
    "        # Execute the program\n",
    "        i = 0\n",
    "        while i < len(bytecode):\n",
    "            method, params = bytecode[i]\n",
    "            res = method(*params)\n",
    "            i += 1 if res is None else res\n",
    "        \n",
    "        print(self.registers)\n",
    "        \n",
    "    def val(self, x):\n",
    "        return self.registers[x] if x in self.registers else int(x)\n",
    "    \n",
    "    def cpy(self, x, y):\n",
    "        self.registers[y] = self.val(x)\n",
    "        \n",
    "    def inc(self, x):\n",
    "        self.registers[x]+=1\n",
    "        \n",
    "    def dec(self, x):\n",
    "        self.registers[x]-=1\n",
    "        \n",
    "    def jnz(self, x, y):\n",
    "        return None if self.val(x) == 0 else self.val(y)        "
   ]
  },
  {
   "cell_type": "code",
   "execution_count": 5,
   "metadata": {
    "collapsed": true
   },
   "outputs": [],
   "source": [
    "example = [\n",
    "    \"cpy 41 a\",\n",
    "    \"inc a\",\n",
    "    \"inc a\",\n",
    "    \"dec a\",\n",
    "    \"jnz a 2\",\n",
    "    \"dec a\"    \n",
    "]"
   ]
  },
  {
   "cell_type": "code",
   "execution_count": 6,
   "metadata": {
    "collapsed": false
   },
   "outputs": [
    {
     "name": "stdout",
     "output_type": "stream",
     "text": [
      "{'d': 0, 'c': 0, 'b': 0, 'a': 42}\n"
     ]
    }
   ],
   "source": [
    "BunnyMachine().execute(example)"
   ]
  },
  {
   "cell_type": "code",
   "execution_count": 8,
   "metadata": {
    "collapsed": false
   },
   "outputs": [
    {
     "name": "stdout",
     "output_type": "stream",
     "text": [
      "{'d': 0, 'c': 0, 'b': 196418, 'a': 318009}\n"
     ]
    }
   ],
   "source": [
    "with open('inputs/day12.txt') as fd:\n",
    "    BunnyMachine().execute(fd)"
   ]
  },
  {
   "cell_type": "markdown",
   "metadata": {},
   "source": [
    "```\n",
    "--- Part Two ---\n",
    "\n",
    "As you head down the fire escape to the monorail, you notice it didn't start; register c needs to be initialized to the position of the ignition key.\n",
    "\n",
    "If you instead initialize register c to be 1, what value is now left in register a?\n",
    "```"
   ]
  },
  {
   "cell_type": "code",
   "execution_count": 10,
   "metadata": {
    "collapsed": false
   },
   "outputs": [
    {
     "name": "stdout",
     "output_type": "stream",
     "text": [
      "{'d': 0, 'c': 0, 'b': 5702887, 'a': 9227663}\n"
     ]
    }
   ],
   "source": [
    "with open('inputs/day12.txt') as fd:\n",
    "    BunnyMachine(c=1).execute(fd)"
   ]
  },
  {
   "cell_type": "code",
   "execution_count": null,
   "metadata": {
    "collapsed": true
   },
   "outputs": [],
   "source": []
  }
 ],
 "metadata": {
  "kernelspec": {
   "display_name": "Python [conda env:adventofcode]",
   "language": "python",
   "name": "conda-env-adventofcode-py"
  },
  "language_info": {
   "codemirror_mode": {
    "name": "ipython",
    "version": 3
   },
   "file_extension": ".py",
   "mimetype": "text/x-python",
   "name": "python",
   "nbconvert_exporter": "python",
   "pygments_lexer": "ipython3",
   "version": "3.5.2"
  }
 },
 "nbformat": 4,
 "nbformat_minor": 1
}
