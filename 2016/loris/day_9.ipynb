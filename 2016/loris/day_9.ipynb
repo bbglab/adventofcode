{
 "cells": [
  {
   "cell_type": "markdown",
   "metadata": {},
   "source": [
    "# Advent of Code 2016"
   ]
  },
  {
   "cell_type": "raw",
   "metadata": {},
   "source": [
    "--- Day 9: Explosives in Cyberspace ---\n",
    "\n",
    "Wandering around a secure area, you come across a datalink port to a new part of the network. After briefly scanning it for interesting files, you find one file in particular that catches your attention. It's compressed with an experimental format, but fortunately, the documentation for the format is nearby.\n",
    "\n",
    "The format compresses a sequence of characters. Whitespace is ignored. To indicate that some sequence should be repeated, a marker is added to the file, like (10x2). To decompress this marker, take the subsequent 10 characters and repeat them 2 times. Then, continue reading the file after the repeated data. The marker itself is not included in the decompressed output.\n",
    "\n",
    "If parentheses or other characters appear within the data referenced by a marker, that's okay - treat it like normal data, not a marker, and then resume looking for markers after the decompressed section.\n",
    "\n",
    "For example:\n",
    "\n",
    "- ADVENT contains no markers and decompresses to itself with no changes, resulting in a decompressed length of 6.\n",
    "- A(1x5)BC repeats only the B a total of 5 times, becoming ABBBBBC for a decompressed length of 7.\n",
    "- (3x3)XYZ becomes XYZXYZXYZ for a decompressed length of 9.\n",
    "- A(2x2)BCD(2x2)EFG doubles the BC and EF, becoming ABCBCDEFEFG for a decompressed length of 11.\n",
    "- (6x1)(1x3)A simply becomes (1x3)A - the (1x3) looks like a marker, but because it's within a data section of another marker, it is not treated any differently from the A that comes after it. It has a decompressed length of 6.\n",
    "- X(8x2)(3x3)ABCY becomes X(3x3)ABC(3x3)ABCY (for a decompressed length of 18), because the decompressed data from the (8x2) marker (the (3x3)ABC) is skipped and not processed further.\n",
    "\n",
    "What is the decompressed length of the file (your puzzle input)? Don't count whitespace."
   ]
  },
  {
   "cell_type": "code",
   "execution_count": 1,
   "metadata": {
    "collapsed": false
   },
   "outputs": [],
   "source": [
    "class Marker:\n",
    "    def __init__(self, start, end, mark):\n",
    "        self.start = start\n",
    "        self.end = end + 1\n",
    "        self.length, self.repetition = [int(i) for i in mark.split('x')]\n",
    "        self.stop = self.end + self.length\n",
    "\n",
    "def decompress(compressed, decompressed=''):\n",
    "    if compressed.count('(') == 0:\n",
    "        return decompressed + compressed\n",
    "    marker = Marker(start=compressed.find('('), \n",
    "                    end=compressed.find(')'), \n",
    "                    mark=compressed[compressed.find('(') + 1: compressed.find(')')])\n",
    "    decompressed += (compressed[: marker.start] + \n",
    "                     compressed[marker.end: marker.stop] * marker.repetition)\n",
    "    return decompress(compressed[marker.stop: ], decompressed)"
   ]
  },
  {
   "cell_type": "code",
   "execution_count": 2,
   "metadata": {
    "collapsed": false
   },
   "outputs": [],
   "source": [
    "# Test\n",
    "assert decompress('ADVENT') == 'ADVENT'\n",
    "assert decompress('A(1x5)BC') == 'ABBBBBC'\n",
    "assert decompress('(3x3)XYZ') == 'XYZXYZXYZ'\n",
    "assert decompress('(6x1)(1x3)A') == '(1x3)A'\n",
    "assert decompress('X(8x2)(3x3)ABCY') == 'X(3x3)ABC(3x3)ABCY'"
   ]
  },
  {
   "cell_type": "code",
   "execution_count": 3,
   "metadata": {
    "collapsed": false
   },
   "outputs": [
    {
     "data": {
      "text/plain": [
       "115118"
      ]
     },
     "execution_count": 3,
     "metadata": {},
     "output_type": "execute_result"
    }
   ],
   "source": [
    "data = [line.strip() for line in open('data/day_9.txt')]\n",
    "len(decompress(data[0]).replace(' ', ''))"
   ]
  },
  {
   "cell_type": "raw",
   "metadata": {},
   "source": [
    "--- Part Two ---\n",
    "\n",
    "Apparently, the file actually uses version two of the format.\n",
    "\n",
    "In version two, the only difference is that markers within decompressed data are decompressed. This, the documentation explains, provides much more substantial compression capabilities, allowing many-gigabyte files to be stored in only a few kilobytes.\n",
    "\n",
    "For example:\n",
    "\n",
    "- (3x3)XYZ still becomes XYZXYZXYZ, as the decompressed section contains no markers.\n",
    "- X(8x2)(3x3)ABCY becomes XABCABCABCABCABCABCY, because the decompressed data from the (8x2) marker is then further decompressed, thus triggering the (3x3) marker twice for a total of six ABC sequences.\n",
    "- (27x12)(20x12)(13x14)(7x10)(1x12)A decompresses into a string of A repeated 241920 times.\n",
    "- (25x3)(3x3)ABC(2x3)XY(5x2)PQRSTX(18x9)(3x2)TWO(5x7)SEVEN becomes 445 characters long.\n",
    "\n",
    "Unfortunately, the computer you brought probably doesn't have enough memory to actually decompress the file; you'll have to come up with another way to get its decompressed length.\n",
    "\n",
    "What is the decompressed length of the file using this improved format?"
   ]
  },
  {
   "cell_type": "code",
   "execution_count": 4,
   "metadata": {
    "collapsed": false
   },
   "outputs": [],
   "source": [
    "from itertools import takewhile, islice\n",
    "\n",
    "def decompress(data, recursive):\n",
    "    answer = 0\n",
    "    chars = iter(data)\n",
    "    for c in chars:\n",
    "        if c == '(':\n",
    "            n, m = map(int, [''.join(takewhile(lambda c: c not in 'x)', chars)) for _ in (0, 1)])\n",
    "            s = ''.join(islice(chars, n))\n",
    "            answer += (decompress(s, recursive) if recursive else len(s)) * m\n",
    "        else:\n",
    "            answer += 1\n",
    "    return answer"
   ]
  },
  {
   "cell_type": "code",
   "execution_count": 5,
   "metadata": {
    "collapsed": false
   },
   "outputs": [],
   "source": [
    "# Test\n",
    "assert decompress('(3x3)XYZ', True) == len('XYZXYZXYZ')\n",
    "assert decompress('X(8x2)(3x3)ABCY', True) == len('XABCABCABCABCABCABCY')\n",
    "assert decompress('(27x12)(20x12)(13x14)(7x10)(1x12)A', True) == len('A' * 241920)\n",
    "assert decompress('(25x3)(3x3)ABC(2x3)XY(5x2)PQRSTX(18x9)(3x2)TWO(5x7)SEVEN', True) == 445"
   ]
  },
  {
   "cell_type": "code",
   "execution_count": 6,
   "metadata": {
    "collapsed": false
   },
   "outputs": [
    {
     "data": {
      "text/plain": [
       "11107527530"
      ]
     },
     "execution_count": 6,
     "metadata": {},
     "output_type": "execute_result"
    }
   ],
   "source": [
    "data = [line.strip() for line in open('data/day_9.txt')]\n",
    "decompress(data[0], True)"
   ]
  }
 ],
 "metadata": {
  "kernelspec": {
   "display_name": "Python 3",
   "language": "python",
   "name": "python3"
  },
  "language_info": {
   "codemirror_mode": {
    "name": "ipython",
    "version": 3
   },
   "file_extension": ".py",
   "mimetype": "text/x-python",
   "name": "python",
   "nbconvert_exporter": "python",
   "pygments_lexer": "ipython3",
   "version": "3.5.2+"
  }
 },
 "nbformat": 4,
 "nbformat_minor": 2
}
