{
 "cells": [
  {
   "cell_type": "markdown",
   "metadata": {
    "collapsed": false
   },
   "source": [
    "# Chellenge 10\n",
    "\n",
    "## Challenge 10.1"
   ]
  },
  {
   "cell_type": "code",
   "execution_count": 1,
   "metadata": {
    "collapsed": true
   },
   "outputs": [],
   "source": [
    "myinput = '/home/fmuinos/projects/adventofcode/2016/ferran/inputs/input10.txt'"
   ]
  },
  {
   "cell_type": "code",
   "execution_count": 2,
   "metadata": {
    "collapsed": false
   },
   "outputs": [
    {
     "name": "stdout",
     "output_type": "stream",
     "text": [
      "231 inputs/input10.txt\r\n"
     ]
    }
   ],
   "source": [
    "! wc -l inputs/input10.txt"
   ]
  },
  {
   "cell_type": "code",
   "execution_count": 110,
   "metadata": {
    "collapsed": true
   },
   "outputs": [],
   "source": [
    "import re\n",
    "\n",
    "def parse_bot_commands(myinput):\n",
    "    handle_dict = {}\n",
    "    handle_dict['input'] = set()\n",
    "    handle_dict['give'] = {}\n",
    "    with open(myinput, 'rt') as f:\n",
    "        for line in f:\n",
    "            match = re.findall('(value \\d+|bot \\d+|output \\d+)', line)\n",
    "            if len(match) == 2:\n",
    "                value = int(match[0][6:])\n",
    "                bot = int(match[1][4:]) + 1\n",
    "                handle_dict['input'].add((bot, value))\n",
    "            if len(match) == 3:\n",
    "                bot = int(match[0][4:]) + 1\n",
    "                lo = (int(match[1].split()[1]) + 1) * (1 - 2 * (match[1].split()[0] == 'output'))\n",
    "                hi = (int(match[2].split()[1]) + 1) * (1 - 2 * (match[2].split()[0] == 'output'))\n",
    "                handle_dict['give'][bot] = (lo, hi)\n",
    "    return handle_dict"
   ]
  },
  {
   "cell_type": "markdown",
   "metadata": {},
   "source": [
    "For the sake of a more compact notation to distinguish them, Bots and Outputs IDs have been re-numbered +1, then Ouput IDs have been made negative integers. The addition +1 at the beginning prevents confusion between bot 0 and output 0."
   ]
  },
  {
   "cell_type": "code",
   "execution_count": 194,
   "metadata": {
    "collapsed": false
   },
   "outputs": [],
   "source": [
    "class Bot(object):\n",
    "    \n",
    "    def __init__(self, ID):\n",
    "        self.ID = ID\n",
    "        self.status = 'not-full'\n",
    "        self.load = set()\n",
    "    \n",
    "    def update_status(self):\n",
    "        if len(self.load) < 2:\n",
    "            self.status = 'not-full'\n",
    "        else:\n",
    "            self.status = 'full'\n",
    "    \n",
    "    def get(self, chip):\n",
    "        if chip is None:\n",
    "            pass\n",
    "        elif self.status == 'not-full':\n",
    "            self.load.add(chip)\n",
    "            self.update_status()\n",
    "\n",
    "    def request(self, botlist, ID):\n",
    "        if ID < 0:\n",
    "            return True\n",
    "        elif botlist[ID-1].status == 'not-full':\n",
    "            return True\n",
    "        elif botlist[ID-1].status == 'full':\n",
    "            return False\n",
    "    \n",
    "    def give(self, botlist, lower, higher):\n",
    "        lo = None\n",
    "        hi = None\n",
    "        if self.status == 'full':\n",
    "            if self.request(botlist, lower):\n",
    "                lo = min(self.load)\n",
    "                self.load.remove(lo)\n",
    "            if self.request(botlist, higher):\n",
    "                hi = max(self.load)\n",
    "                self.load.remove(hi)\n",
    "            self.update_status()\n",
    "        return lo, hi\n",
    "\n",
    "\n",
    "class BotSwarm(object):\n",
    "    \n",
    "    def __init__(self, size):\n",
    "        self.size = size\n",
    "        self.swarm = [None] * size\n",
    "        for ind in range(size):\n",
    "            self.swarm[ind] = Bot(ind+1)\n",
    "        self.output = [None] * 21\n",
    "    \n",
    "    def initialize(self, handle_dict):\n",
    "        for tupl in handle_dict['input']:\n",
    "            receiver, value = tupl[0], tupl[1]\n",
    "            self.swarm[receiver-1].get(value)\n",
    "    \n",
    "    def update(self, handle_dict):\n",
    "        for tpl in handle_dict['give'].items():\n",
    "            giver, lower, higher = tpl[0], tpl[1][0], tpl[1][1]\n",
    "            lo, hi = self.swarm[giver-1].give(self.swarm, lower, higher)\n",
    "            self.swarm[lower-1].get(lo)\n",
    "            self.swarm[higher-1].get(hi)\n",
    "            if (lower < 0) and (lo is not None):\n",
    "                self.output[-lower-1] = lo\n",
    "            if (higher < 0) and (hi is not None):\n",
    "                self.output[-higher-1] = hi\n",
    "            \n",
    "    def who(self, chip):\n",
    "        for i in range(self.size):\n",
    "            if chip in self.swarm[i].load:\n",
    "                return self.swarm[i].ID"
   ]
  },
  {
   "cell_type": "code",
   "execution_count": 195,
   "metadata": {
    "collapsed": false
   },
   "outputs": [
    {
     "name": "stdout",
     "output_type": "stream",
     "text": [
      "74\n"
     ]
    }
   ],
   "source": [
    "handle_dict = parse_bot_commands(myinput)\n",
    "community = BotSwarm(210)\n",
    "community.initialize(handle_dict)\n",
    "while community.who(17) != community.who(61):\n",
    "    community.update(handle_dict)\n",
    "print(community.who(17))"
   ]
  },
  {
   "cell_type": "markdown",
   "metadata": {},
   "source": [
    "Since we had +1 the Bot labels for convenience, the sought answer is **73.**"
   ]
  },
  {
   "cell_type": "markdown",
   "metadata": {},
   "source": [
    "## Challenge 10.2"
   ]
  },
  {
   "cell_type": "code",
   "execution_count": 201,
   "metadata": {
    "collapsed": false
   },
   "outputs": [
    {
     "name": "stdout",
     "output_type": "stream",
     "text": [
      "[5, 13, 61]\n"
     ]
    },
    {
     "data": {
      "text/plain": [
       "3965"
      ]
     },
     "execution_count": 201,
     "metadata": {},
     "output_type": "execute_result"
    }
   ],
   "source": [
    "handle_dict = parse_bot_commands(myinput)\n",
    "community = BotSwarm(210)\n",
    "community.initialize(handle_dict)\n",
    "while (community.output[0] is None) or (community.output[1] is None) or (community.output[2] is None):\n",
    "    community.update(handle_dict)\n",
    "print(community.output[:3])\n",
    "community.output[0]*community.output[1]*community.output[2]"
   ]
  }
 ],
 "metadata": {
  "anaconda-cloud": {},
  "kernelspec": {
   "display_name": "Python [conda env:adventofcode]",
   "language": "python",
   "name": "conda-env-adventofcode-py"
  },
  "language_info": {
   "codemirror_mode": {
    "name": "ipython",
    "version": 3
   },
   "file_extension": ".py",
   "mimetype": "text/x-python",
   "name": "python",
   "nbconvert_exporter": "python",
   "pygments_lexer": "ipython3",
   "version": "3.5.2"
  }
 },
 "nbformat": 4,
 "nbformat_minor": 1
}
