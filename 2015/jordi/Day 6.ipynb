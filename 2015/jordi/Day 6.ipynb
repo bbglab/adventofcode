{
 "cells": [
  {
   "cell_type": "markdown",
   "metadata": {},
   "source": [
    "# Day 6: Probably a Fire Hazard\n",
    "\n",
    "```\n",
    "Because your neighbors keep defeating you in the holiday house decorating contest year after year, you've decided to deploy one million lights in a 1000x1000 grid.\n",
    "\n",
    "Furthermore, because you've been especially nice this year, Santa has mailed you instructions on how to display the ideal lighting configuration.\n",
    "\n",
    "Lights in your grid are numbered from 0 to 999 in each direction; the lights at each corner are at 0,0, 0,999, 999,999, and 999,0. The instructions include whether to turn on, turn off, or toggle various inclusive ranges given as coordinate pairs. Each coordinate pair represents opposite corners of a rectangle, inclusive; a coordinate pair like 0,0 through 2,2 therefore refers to 9 lights in a 3x3 square. The lights all start turned off.\n",
    "\n",
    "To defeat your neighbors this year, all you have to do is set up your lights by doing the instructions Santa sent you in order.\n",
    "\n",
    "For example:\n",
    "\n",
    "turn on 0,0 through 999,999 would turn on (or leave on) every light.\n",
    "toggle 0,0 through 999,0 would toggle the first line of 1000 lights, turning off the ones that were on, and turning on the ones that were off.\n",
    "turn off 499,499 through 500,500 would turn off (or leave off) the middle four lights.\n",
    "After following the instructions, how many lights are lit?\n",
    "```"
   ]
  },
  {
   "cell_type": "code",
   "execution_count": 2,
   "metadata": {
    "collapsed": true
   },
   "outputs": [],
   "source": [
    "import re"
   ]
  },
  {
   "cell_type": "code",
   "execution_count": 42,
   "metadata": {
    "collapsed": true
   },
   "outputs": [],
   "source": [
    "_INST_EXP = re.compile(\"(turn on|toggle|turn off) ([0-9]*),([0-9]*) through ([0-9]*),([0-9]*)\")\n",
    "_ACTIONS_PART1 = { 'turn on': lambda x: True, 'turn off': lambda x: False, 'toggle': lambda x: not x}\n",
    "\n",
    "def change_leds(leds, instruction, actions):\n",
    "    action, fx, fy, tx, ty = _INST_EXP.match(instruction.rstrip()).groups()    \n",
    "    action, fx, fy, tx, ty = actions[action], int(fx), int(fy), int(tx), int(ty)\n",
    "    \n",
    "    for x in range(fx, tx+1):\n",
    "        for y in range(fy, ty+1):\n",
    "            leds[x][y] = action(leds[x][y])\n",
    "    \n",
    "    return leds\n",
    "\n",
    "def run_instructions_part1(instructions):\n",
    "    leds = [[False for i in range(1000)] for i in range(1000)]\n",
    "    \n",
    "    for i in instructions:\n",
    "        leds = change_leds(leds, i, _ACTIONS_PART1)\n",
    "        \n",
    "    # Count on leds\n",
    "    return sum(sum(1 for i in l if i) for l in leds)    "
   ]
  },
  {
   "cell_type": "code",
   "execution_count": 43,
   "metadata": {
    "collapsed": false
   },
   "outputs": [
    {
     "data": {
      "text/plain": [
       "999996"
      ]
     },
     "execution_count": 43,
     "metadata": {},
     "output_type": "execute_result"
    }
   ],
   "source": [
    "# Test example instructions\n",
    "run_instructions_part1([\n",
    "        \"turn on 0,0 through 999,999\", \n",
    "        \"toggle 0,0 through 999,0\", \n",
    "        \"toggle 0,0 through 999,0\", \n",
    "        \"turn off 499,499 through 500,500\"\n",
    "    ])"
   ]
  },
  {
   "cell_type": "code",
   "execution_count": 44,
   "metadata": {
    "collapsed": false
   },
   "outputs": [
    {
     "name": "stdout",
     "output_type": "stream",
     "text": [
      "There are 569999 lit leds\n"
     ]
    }
   ],
   "source": [
    "with open('day6/input.txt', 'rt') as instructions:\n",
    "    print(\"There are {} lit leds\".format(run_instructions_part1(instructions)))"
   ]
  },
  {
   "cell_type": "markdown",
   "metadata": {},
   "source": [
    "# Part Two \n",
    "\n",
    "```\n",
    "You just finish implementing your winning light pattern when you realize you mistranslated Santa's message from Ancient Nordic Elvish.\n",
    "\n",
    "The light grid you bought actually has individual brightness controls; each light can have a brightness of zero or more. The lights all start at zero.\n",
    "\n",
    "The phrase turn on actually means that you should increase the brightness of those lights by 1.\n",
    "\n",
    "The phrase turn off actually means that you should decrease the brightness of those lights by 1, to a minimum of zero.\n",
    "\n",
    "The phrase toggle actually means that you should increase the brightness of those lights by 2.\n",
    "\n",
    "What is the total brightness of all lights combined after following Santa's instructions?\n",
    "\n",
    "For example:\n",
    "\n",
    "turn on 0,0 through 0,0 would increase the total brightness by 1.\n",
    "toggle 0,0 through 999,999 would increase the total brightness by 2000000.\n",
    "```\n"
   ]
  },
  {
   "cell_type": "code",
   "execution_count": 48,
   "metadata": {
    "collapsed": true
   },
   "outputs": [],
   "source": [
    "_ACTIONS_PART2 = { 'turn on': lambda x: x+1, 'turn off': lambda x: max(0,x-1), 'toggle': lambda x: x+2}\n",
    "\n",
    "def run_instructions_part2(instructions):\n",
    "    leds = [[0 for i in range(1000)] for i in range(1000)]\n",
    "    \n",
    "    for i in instructions:\n",
    "        leds = change_leds(leds, i, _ACTIONS_PART2)\n",
    "        \n",
    "    # Count on leds\n",
    "    return sum(sum(l) for l in leds)    "
   ]
  },
  {
   "cell_type": "code",
   "execution_count": 49,
   "metadata": {
    "collapsed": false
   },
   "outputs": [
    {
     "data": {
      "text/plain": [
       "3003997"
      ]
     },
     "execution_count": 49,
     "metadata": {},
     "output_type": "execute_result"
    }
   ],
   "source": [
    "# Test examples\n",
    "run_instructions_part2([\n",
    "        \"turn on 0,0 through 999,999\", \n",
    "        \"toggle 0,0 through 999,0\", \n",
    "        \"toggle 0,0 through 999,0\", \n",
    "        \"turn off 499,499 through 500,500\",\n",
    "        \"toggle 0,0 through 999,999\", \n",
    "        \"turn on 0,0 through 0,0\"\n",
    "        ])"
   ]
  },
  {
   "cell_type": "code",
   "execution_count": 50,
   "metadata": {
    "collapsed": false
   },
   "outputs": [
    {
     "name": "stdout",
     "output_type": "stream",
     "text": [
      "Total brightness is 17836115\n"
     ]
    }
   ],
   "source": [
    "with open('day6/input.txt', 'rt') as instructions:\n",
    "    print(\"Total brightness is {}\".format(run_instructions_part2(instructions)))"
   ]
  },
  {
   "cell_type": "code",
   "execution_count": null,
   "metadata": {
    "collapsed": true
   },
   "outputs": [],
   "source": []
  }
 ],
 "metadata": {
  "kernelspec": {
   "display_name": "Python 3",
   "language": "python",
   "name": "python3"
  },
  "language_info": {
   "codemirror_mode": {
    "name": "ipython",
    "version": 3
   },
   "file_extension": ".py",
   "mimetype": "text/x-python",
   "name": "python",
   "nbconvert_exporter": "python",
   "pygments_lexer": "ipython3",
   "version": "3.4.3"
  }
 },
 "nbformat": 4,
 "nbformat_minor": 0
}
