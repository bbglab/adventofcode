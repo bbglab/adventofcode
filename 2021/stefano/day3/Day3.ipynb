{
 "cells": [
  {
   "cell_type": "markdown",
   "metadata": {},
   "source": [
    "# Day 3"
   ]
  },
  {
   "cell_type": "code",
   "execution_count": null,
   "metadata": {},
   "outputs": [],
   "source": [
    "import numpy as np\n",
    "import pandas as pd"
   ]
  },
  {
   "cell_type": "code",
   "execution_count": null,
   "metadata": {},
   "outputs": [],
   "source": [
    "with open(\"input.txt\", \"r\") as f:\n",
    "    data = pd.DataFrame([[int(n) for n in line.strip()] for line in f])"
   ]
  },
  {
   "cell_type": "markdown",
   "metadata": {},
   "source": [
    "## Puzzle 1"
   ]
  },
  {
   "cell_type": "code",
   "execution_count": null,
   "metadata": {},
   "outputs": [],
   "source": [
    "def bit_array_to_decimal(array):\n",
    "\n",
    "    return int(''.join(array.astype(str).tolist()), 2)\n",
    "\n",
    "def get_power_consumption(data):\n",
    "    \n",
    "    gamma = data.apply(lambda x: np.argmax(np.bincount(x)))\n",
    "    gamma = bit_array_to_decimal(gamma)\n",
    "    \n",
    "    epsilon = data.apply(lambda x: np.argmin(np.bincount(x)))\n",
    "    epsilon = bit_array_to_decimal(epsilon)\n",
    "    \n",
    "    return gamma * epsilon"
   ]
  },
  {
   "cell_type": "code",
   "execution_count": null,
   "metadata": {},
   "outputs": [],
   "source": [
    "get_power_consumption(data)"
   ]
  },
  {
   "cell_type": "markdown",
   "metadata": {},
   "source": [
    "## Puzzle 2"
   ]
  },
  {
   "cell_type": "code",
   "execution_count": null,
   "metadata": {},
   "outputs": [],
   "source": [
    "def get_filter(col, compound):\n",
    "    \n",
    "    count = np.bincount(col)\n",
    "\n",
    "    if count[0] == count[1]:\n",
    "        n_to_keep = 1 if compound == \"o2\" else 0\n",
    "    else:\n",
    "        n_to_keep = np.argmax(count) if compound == \"o2\" else np.argmin(count)\n",
    "\n",
    "    return np.where(col == n_to_keep)\n",
    "\n",
    "\n",
    "def life_supp_rating(data):\n",
    "    \n",
    "    o2_data, co2_data = data.copy(), data.copy()\n",
    "\n",
    "    for c in data.columns:\n",
    "\n",
    "        if len(o2_data) > 1:\n",
    "            o2_col = o2_data.iloc[:,c]\n",
    "            o2_data = o2_data.iloc[get_filter(o2_col, \"o2\")]\n",
    "        else:\n",
    "            o2_rating = bit_array_to_decimal(o2_data.iloc[0,:])\n",
    "\n",
    "        if len(co2_data) > 1:\n",
    "            co2_col = co2_data.iloc[:,c]\n",
    "            co2_data = co2_data.iloc[get_filter(co2_col, \"co2\")]\n",
    "        else:\n",
    "            co2_rating = bit_array_to_decimal(co2_data.iloc[0,:])\n",
    "\n",
    "    return o2_rating * co2_rating"
   ]
  },
  {
   "cell_type": "code",
   "execution_count": null,
   "metadata": {
    "scrolled": false
   },
   "outputs": [],
   "source": [
    "life_supp_rating(data)"
   ]
  },
  {
   "cell_type": "code",
   "execution_count": null,
   "metadata": {},
   "outputs": [],
   "source": [
    "1+1"
   ]
  }
 ],
 "metadata": {
  "kernelspec": {
   "display_name": "Python 3 (ipykernel)",
   "language": "python",
   "name": "python3"
  },
  "language_info": {
   "codemirror_mode": {
    "name": "ipython",
    "version": 3
   },
   "file_extension": ".py",
   "mimetype": "text/x-python",
   "name": "python",
   "nbconvert_exporter": "python",
   "pygments_lexer": "ipython3",
   "version": "3.9.7"
  }
 },
 "nbformat": 4,
 "nbformat_minor": 4
}
