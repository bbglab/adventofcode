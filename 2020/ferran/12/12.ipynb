{
 "cells": [
  {
   "cell_type": "markdown",
   "metadata": {},
   "source": [
    "# Day 12"
   ]
  },
  {
   "cell_type": "code",
   "execution_count": 1,
   "metadata": {},
   "outputs": [
    {
     "name": "stdout",
     "output_type": "stream",
     "text": [
      "# --- Day 12: Rain Risk ---\r\n",
      "\r\n",
      "Your ferry made decent progress toward the island, but the storm came in *faster than anyone expected*. The ferry needs to take *evasive actions*!\r\n",
      "\r\n",
      "Unfortunately, the ship's navigation computer seems to be malfunctioning; rather than giving a route directly to safety, it produced extremely circuitous instructions. When the captain uses the [PA system](https://en.wikipedia.org/wiki/Public_address_system) to ask if anyone can help, you quickly volunteer.\r\n",
      "\r\n",
      "The navigation instructions (your puzzle input) consists of a sequence of single-character *actions* paired with integer input *values*. After staring at them for a few minutes, you work out what they probably mean:\r\n",
      "\r\n",
      "\r\n",
      " - Action *`N`* means to move *north* by the given value.\r\n",
      "\r\n",
      " - Action *`S`* means to move *south* by the given value.\r\n",
      "\r\n",
      " - Action *`E`* means to move *east* by the given value.\r\n",
      "\r\n",
      " - Action *`W`* means to move *west* by the given value.\r\n",
      "\r\n",
      " - Action *`L`* means to turn *left* the given number of degrees.\r\n",
      "\r\n",
      " - Action *`R`* means to turn *right* the given number of degrees.\r\n",
      "\r\n",
      " - Action *`F`* means to move *forward* by the given value in the direction the ship is currently facing.\r\n",
      "\r\n",
      "\r\n",
      "The ship starts by facing *east*. Only the `L` and `R` actions change the direction the ship is facing. (That is, if the ship is facing east and the next instruction is `N10`, the ship would move north 10 units, but would still move east if the following action were `F`.)\r\n",
      "\r\n",
      "For example:\r\n",
      "\r\n",
      "```\r\n",
      "F10\r\n",
      "N3\r\n",
      "F7\r\n",
      "R90\r\n",
      "F11\r\n",
      "\r\n",
      "```\r\n",
      "\r\n",
      "These instructions would be handled as follows:\r\n",
      "\r\n",
      "\r\n",
      " - `F10` would move the ship 10 units east (because the ship starts by facing east) to *east 10, north 0*.\r\n",
      "\r\n",
      " - `N3` would move the ship 3 units north to *east 10, north 3*.\r\n",
      "\r\n",
      " - `F7` would move the ship another 7 units east (because the ship is still facing east) to *east 17, north 3*.\r\n",
      "\r\n",
      " - `R90` would cause the ship to turn right by 90 degrees and face *south*; it remains at *east 17, north 3*.\r\n",
      "\r\n",
      " - `F11` would move the ship 11 units south to *east 17, south 8*.\r\n",
      "\r\n",
      "\r\n",
      "At the end of these instructions, the ship's [Manhattan distance](https://en.wikipedia.org/wiki/Manhattan_distance) (sum of the absolute values of its east/west position and its north/south position) from its starting position is `17 + 8` = *`25`*.\r\n",
      "\r\n",
      "Figure out where the navigation instructions lead. *What is the Manhattan distance between that location and the ship's starting position?*\r\n",
      "\r\n"
     ]
    }
   ],
   "source": [
    "! cat README.md"
   ]
  },
  {
   "cell_type": "code",
   "execution_count": 29,
   "metadata": {},
   "outputs": [],
   "source": [
    "with open('input.txt', 'rt') as f:\n",
    "    instructions = [(l[0], int(l[1:])) for l in f.read().splitlines()]"
   ]
  },
  {
   "cell_type": "code",
   "execution_count": 30,
   "metadata": {},
   "outputs": [],
   "source": [
    "shifts = {'E': (1, 0), 'N': (0, 1), 'W': (-1, 0),'S': (0, -1)}\n",
    "rotations = dict(zip([0, 90, 180, 270], list(map(lambda x: shifts[x], list('ENWS')))))\n",
    "\n",
    "def move_ship(pos, facing, key, value):\n",
    "    \n",
    "    if key in shifts:\n",
    "        x_move, y_move = tuple(map(lambda x: value * x, shifts[key]))        \n",
    "    elif key in {'L', 'R'}:\n",
    "        x_move, y_move = 0, 0\n",
    "        value = (((key=='L') - (key=='R')) * value + 360) % 360\n",
    "        cos, sin = rotations[value]\n",
    "        facing = (cos*facing[0]-sin*facing[1], sin*facing[0]+cos*facing[1])\n",
    "    else:\n",
    "        x_move, y_move = tuple(map(lambda x: value * x, facing))\n",
    "    pos = (pos[0] + x_move, pos[1] + y_move)\n",
    "    return pos, facing"
   ]
  },
  {
   "cell_type": "code",
   "execution_count": 31,
   "metadata": {},
   "outputs": [
    {
     "data": {
      "text/plain": [
       "2847"
      ]
     },
     "execution_count": 31,
     "metadata": {},
     "output_type": "execute_result"
    }
   ],
   "source": [
    "# execute instructions\n",
    "\n",
    "pos = (0, 0)\n",
    "facing = (1, 0)\n",
    "for key, value in instructions:\n",
    "    pos, facing = move_ship(pos, facing, key, value)\n",
    "\n",
    "# Manhattan distance\n",
    "\n",
    "abs(pos[0]) + abs(pos[1])"
   ]
  },
  {
   "cell_type": "raw",
   "metadata": {},
   "source": [
    "--- Part Two ---\n",
    "Before you can give the destination to the captain, you realize that the actual action meanings were printed on the back of the instructions the whole time.\n",
    "\n",
    "Almost all of the actions indicate how to move a waypoint which is relative to the ship's position:\n",
    "\n",
    "Action N means to move the waypoint north by the given value.\n",
    "Action S means to move the waypoint south by the given value.\n",
    "Action E means to move the waypoint east by the given value.\n",
    "Action W means to move the waypoint west by the given value.\n",
    "Action L means to rotate the waypoint around the ship left (counter-clockwise) the given number of degrees.\n",
    "Action R means to rotate the waypoint around the ship right (clockwise) the given number of degrees.\n",
    "Action F means to move forward to the waypoint a number of times equal to the given value.\n",
    "The waypoint starts 10 units east and 1 unit north relative to the ship. The waypoint is relative to the ship; that is, if the ship moves, the waypoint moves with it.\n",
    "\n",
    "For example, using the same instructions as above:\n",
    "\n",
    "F10 moves the ship to the waypoint 10 times (a total of 100 units east and 10 units north), leaving the ship at east 100, north 10. The waypoint stays 10 units east and 1 unit north of the ship.\n",
    "N3 moves the waypoint 3 units north to 10 units east and 4 units north of the ship. The ship remains at east 100, north 10.\n",
    "F7 moves the ship to the waypoint 7 times (a total of 70 units east and 28 units north), leaving the ship at east 170, north 38. The waypoint stays 10 units east and 4 units north of the ship.\n",
    "R90 rotates the waypoint around the ship clockwise 90 degrees, moving it to 4 units east and 10 units south of the ship. The ship remains at east 170, north 38.\n",
    "F11 moves the ship to the waypoint 11 times (a total of 44 units east and 110 units south), leaving the ship at east 214, south 72. The waypoint stays 4 units east and 10 units south of the ship.\n",
    "After these operations, the ship's Manhattan distance from its starting position is 214 + 72 = 286.\n",
    "\n",
    "Figure out where the navigation instructions actually lead. What is the Manhattan distance between that location and the ship's starting position?"
   ]
  },
  {
   "cell_type": "code",
   "execution_count": 48,
   "metadata": {},
   "outputs": [],
   "source": [
    "def move_ship(pos, waypoint, key, value):\n",
    "    \n",
    "    if key in shifts:\n",
    "        x_move, y_move = tuple(map(lambda x: value * x, shifts[key]))\n",
    "        waypoint = (waypoint[0] + x_move, waypoint[1] + y_move)\n",
    "    elif key in {'L', 'R'}:\n",
    "        value = (((key=='L') - (key=='R')) * value + 360) % 360\n",
    "        cos, sin = rotations[value]\n",
    "        waypoint = (cos*waypoint[0]-sin*waypoint[1], sin*waypoint[0]+cos*waypoint[1])\n",
    "    else:\n",
    "        x_move, y_move = (value * waypoint[0], value * waypoint[1])\n",
    "        pos = (pos[0] + x_move, pos[1] + y_move)\n",
    "    return pos, waypoint"
   ]
  },
  {
   "cell_type": "code",
   "execution_count": 49,
   "metadata": {},
   "outputs": [
    {
     "data": {
      "text/plain": [
       "286"
      ]
     },
     "execution_count": 49,
     "metadata": {},
     "output_type": "execute_result"
    }
   ],
   "source": [
    "# test\n",
    "\n",
    "test_instructions = [('F', 10), ('N', 3), ('F', 7), ('R', 90), ('F', 11)]\n",
    "\n",
    "pos = (0, 0)\n",
    "waypoint = (10, 1)\n",
    "for key, value in test_instructions:\n",
    "    pos, waypoint = move_ship(pos, waypoint, key, value)\n",
    "abs(pos[0]) + abs(pos[1])"
   ]
  },
  {
   "cell_type": "code",
   "execution_count": 50,
   "metadata": {},
   "outputs": [
    {
     "data": {
      "text/plain": [
       "29839"
      ]
     },
     "execution_count": 50,
     "metadata": {},
     "output_type": "execute_result"
    }
   ],
   "source": [
    "# solution\n",
    "\n",
    "pos = (0, 0)\n",
    "waypoint = (10, 1)\n",
    "for key, value in instructions:\n",
    "    pos, waypoint = move_ship(pos, waypoint, key, value)\n",
    "abs(pos[0]) + abs(pos[1])"
   ]
  }
 ],
 "metadata": {
  "kernelspec": {
   "display_name": "Python [conda env:stats_env]",
   "language": "python",
   "name": "conda-env-stats_env-py"
  },
  "language_info": {
   "codemirror_mode": {
    "name": "ipython",
    "version": 3
   },
   "file_extension": ".py",
   "mimetype": "text/x-python",
   "name": "python",
   "nbconvert_exporter": "python",
   "pygments_lexer": "ipython3",
   "version": "3.7.6"
  }
 },
 "nbformat": 4,
 "nbformat_minor": 2
}
