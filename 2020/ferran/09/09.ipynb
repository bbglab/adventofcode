{
 "cells": [
  {
   "cell_type": "markdown",
   "metadata": {},
   "source": [
    "# Day 9"
   ]
  },
  {
   "cell_type": "code",
   "execution_count": 1,
   "metadata": {},
   "outputs": [
    {
     "name": "stdout",
     "output_type": "stream",
     "text": [
      "# --- Day 9: Encoding Error ---\r\n",
      "\r\n",
      "With your neighbor happily enjoying their video game, you turn your attention to an open data port on the little screen in the seat in front of you.\r\n",
      "\r\n",
      "Though the port is non-standard, you manage to connect it to your computer through the clever use of several paperclips. Upon connection, the port outputs a series of numbers (your puzzle input).\r\n",
      "\r\n",
      "The data appears to be encrypted with the eXchange-Masking Addition System (*XMAS*) which, conveniently for you, is an old cypher with an important weakness.\r\n",
      "\r\n",
      "XMAS starts by transmitting a *preamble* of 25 numbers. After that, each number you receive should be the sum of any two of the 25 immediately previous numbers. The two numbers will have different values, and there might be more than one such pair.\r\n",
      "\r\n",
      "For example, suppose your preamble consists of the numbers `1` through `25` in a random order. To be valid, the next number must be the sum of two of those numbers:\r\n",
      "\r\n",
      "\r\n",
      " - `26` would be a *valid* next number, as it could be `1` plus `25` (or many other pairs, like `2` and `24`).\r\n",
      "\r\n",
      " - `49` would be a *valid* next number, as it is the sum of `24` and `25`.\r\n",
      "\r\n",
      " - `100` would *not* be valid; no two of the previous 25 numbers sum to `100`.\r\n",
      "\r\n",
      " - `50` would also *not* be valid; although `25` appears in the previous 25 numbers, the two numbers in the pair must be different.\r\n",
      "\r\n",
      "\r\n",
      "Suppose the 26th number is `45`, and the first number (no longer an option, as it is more than 25 numbers ago) was `20`. Now, for the next number to be valid, there needs to be some pair of numbers among `1`-`19`, `21`-`25`, or `45` that add up to it:\r\n",
      "\r\n",
      "\r\n",
      " - `26` would still be a *valid* next number, as `1` and `25` are still within the previous 25 numbers.\r\n",
      "\r\n",
      " - `65` would *not* be valid, as no two of the available numbers sum to it.\r\n",
      "\r\n",
      " - `64` and `66` would both be *valid*, as they are the result of `19+45` and `21+45` respectively.\r\n",
      "\r\n",
      "\r\n",
      "Here is a larger example which only considers the previous *5* numbers (and has a preamble of length 5):\r\n",
      "\r\n",
      "```\r\n",
      "35\r\n",
      "20\r\n",
      "15\r\n",
      "25\r\n",
      "47\r\n",
      "40\r\n",
      "62\r\n",
      "55\r\n",
      "65\r\n",
      "95\r\n",
      "102\r\n",
      "117\r\n",
      "150\r\n",
      "182\r\n",
      "127\r\n",
      "219\r\n",
      "299\r\n",
      "277\r\n",
      "309\r\n",
      "576\r\n",
      "\r\n",
      "```\r\n",
      "\r\n",
      "In this example, after the 5-number preamble, almost every number is the sum of two of the previous 5 numbers; the only number that does not follow this rule is *`127`*.\r\n",
      "\r\n",
      "The first step of attacking the weakness in the XMAS data is to find the first number in the list (after the preamble) which is *not* the sum of two of the 25 numbers before it. *What is the first number that does not have this property?*\r\n",
      "\r\n"
     ]
    }
   ],
   "source": [
    "! cat README.md"
   ]
  },
  {
   "cell_type": "code",
   "execution_count": 3,
   "metadata": {},
   "outputs": [],
   "source": [
    "with open('input.txt', 'rt') as f:\n",
    "    numbers = list(map(int, f.read().splitlines()))"
   ]
  },
  {
   "cell_type": "code",
   "execution_count": 60,
   "metadata": {},
   "outputs": [],
   "source": [
    "import numpy as np\n",
    "from itertools import product\n",
    "\n",
    "def numbercheck(numberlist, preceding):\n",
    "    d = {}\n",
    "    for (i, x), (j, y) in product(iter(enumerate(numberlist)), repeat=2):\n",
    "        if 0 < j - i < preceding:\n",
    "            d[x+y] = d.get(x+y, set()) | set(range(i, i+preceding+1))\n",
    "    for i, n in enumerate(numberlist[preceding:]):\n",
    "        if (n not in d) or (i+preceding not in d[n]):\n",
    "            return i+preceding, n"
   ]
  },
  {
   "cell_type": "code",
   "execution_count": 61,
   "metadata": {},
   "outputs": [
    {
     "data": {
      "text/plain": [
       "(14, 127)"
      ]
     },
     "execution_count": 61,
     "metadata": {},
     "output_type": "execute_result"
    }
   ],
   "source": [
    "# test\n",
    "\n",
    "test = [35,20,15,25,47,40,62,55,65,95,102,117,150,182,127,219,299,277,309,576]\n",
    "numbercheck(test, 5)"
   ]
  },
  {
   "cell_type": "code",
   "execution_count": 62,
   "metadata": {},
   "outputs": [
    {
     "data": {
      "text/plain": [
       "(509, 31161678)"
      ]
     },
     "execution_count": 62,
     "metadata": {},
     "output_type": "execute_result"
    }
   ],
   "source": [
    "# solution\n",
    "\n",
    "numbercheck(numbers, 25)"
   ]
  },
  {
   "cell_type": "raw",
   "metadata": {},
   "source": [
    "--- Part Two ---\n",
    "The final step in breaking the XMAS encryption relies on the invalid number you just found: you must find a contiguous set of at least two numbers in your list which sum to the invalid number from step 1.\n",
    "\n",
    "Again consider the above example:\n",
    "\n",
    "35\n",
    "20\n",
    "15\n",
    "25\n",
    "47\n",
    "40\n",
    "62\n",
    "55\n",
    "65\n",
    "95\n",
    "102\n",
    "117\n",
    "150\n",
    "182\n",
    "127\n",
    "219\n",
    "299\n",
    "277\n",
    "309\n",
    "576\n",
    "In this list, adding up all of the numbers from 15 through 40 produces the invalid number from step 1, 127. (Of course, the contiguous set of numbers in your actual list might be much longer.)\n",
    "\n",
    "To find the encryption weakness, add together the smallest and largest number in this contiguous range; in this example, these are 15 and 47, producing 62.\n",
    "\n",
    "What is the encryption weakness in your XMAS-encrypted list of numbers?"
   ]
  },
  {
   "cell_type": "code",
   "execution_count": 69,
   "metadata": {},
   "outputs": [
    {
     "name": "stdout",
     "output_type": "stream",
     "text": [
      "15 40\n"
     ]
    },
    {
     "data": {
      "text/plain": [
       "62"
      ]
     },
     "execution_count": 69,
     "metadata": {},
     "output_type": "execute_result"
    }
   ],
   "source": [
    "# test\n",
    "\n",
    "test = [35,20,15,25,47,40,62,55,65,95,102,117,150,182,127,219,299,277,309,576]\n",
    "goal = 127\n",
    "for (i, x), (j, y) in product(iter(enumerate(test)), repeat=2):\n",
    "    if i + 1 < j:\n",
    "        if sum(test[i:j]) == goal:\n",
    "            print(test[i], test[j-1])\n",
    "            break\n",
    "m = min(test[i:j])\n",
    "M = max(test[i:j])\n",
    "m + M"
   ]
  },
  {
   "cell_type": "code",
   "execution_count": 70,
   "metadata": {},
   "outputs": [
    {
     "name": "stdout",
     "output_type": "stream",
     "text": [
      "1221256 1605190\n"
     ]
    },
    {
     "data": {
      "text/plain": [
       "5453868"
      ]
     },
     "execution_count": 70,
     "metadata": {},
     "output_type": "execute_result"
    }
   ],
   "source": [
    "goal = 31161678\n",
    "for (i, x), (j, y) in product(iter(enumerate(numbers)), repeat=2):\n",
    "    if i + 1 < j:\n",
    "        if sum(numbers[i:j]) == goal:\n",
    "            print(numbers[i], numbers[j-1])\n",
    "            break\n",
    "m = min(numbers[i:j])\n",
    "M = max(numbers[i:j])\n",
    "m + M"
   ]
  }
 ],
 "metadata": {
  "kernelspec": {
   "display_name": "Python [conda env:stats_env]",
   "language": "python",
   "name": "conda-env-stats_env-py"
  },
  "language_info": {
   "codemirror_mode": {
    "name": "ipython",
    "version": 3
   },
   "file_extension": ".py",
   "mimetype": "text/x-python",
   "name": "python",
   "nbconvert_exporter": "python",
   "pygments_lexer": "ipython3",
   "version": "3.7.6"
  }
 },
 "nbformat": 4,
 "nbformat_minor": 2
}
