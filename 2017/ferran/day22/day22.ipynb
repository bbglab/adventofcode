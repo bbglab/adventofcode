{
 "cells": [
  {
   "cell_type": "markdown",
   "metadata": {},
   "source": [
    "# Sporifica Virus"
   ]
  },
  {
   "cell_type": "code",
   "execution_count": 124,
   "metadata": {
    "ExecuteTime": {
     "end_time": "2017-12-23T10:14:02.841142",
     "start_time": "2017-12-23T10:14:02.823646"
    }
   },
   "outputs": [],
   "source": [
    "from collections import defaultdict\n",
    "\n",
    "def parse_grid(input_path):\n",
    "    grid = defaultdict(lambda: '.')\n",
    "    size = 0\n",
    "    with open(input_path, 'rt') as f_input:\n",
    "        for l in f_input:\n",
    "            hash_row = {hash(np.array([size, i], dtype=np.int16).tostring()): v for i, v in enumerate(list(l.rstrip()))}\n",
    "            grid.update(hash_row)\n",
    "            size += 1\n",
    "    return grid, size"
   ]
  },
  {
   "cell_type": "markdown",
   "metadata": {},
   "source": [
    "## Part 1"
   ]
  },
  {
   "cell_type": "code",
   "execution_count": 128,
   "metadata": {
    "ExecuteTime": {
     "end_time": "2017-12-23T10:14:23.923680",
     "start_time": "2017-12-23T10:14:23.878426"
    }
   },
   "outputs": [],
   "source": [
    "import numpy as np\n",
    "\n",
    "class Virus(object):\n",
    "    def __init__(self, grid, size):\n",
    "        self.grid = grid  # enclosing the hashes and states of infected positions\n",
    "        self.pos = np.array([(size - 1) // 2, (size - 1) // 2], dtype=np.int16)  # initially in the center of a positive grid\n",
    "        self.facing = np.array([-1, 0], dtype=np.int16)  # initially facing up in our coords\n",
    "        self.count_infect = 0\n",
    "    def burst(self):\n",
    "        hash_pos = hash(self.pos.tostring())\n",
    "        rotation = np.array([[0, -1], [1, 0]], dtype=np.int16)\n",
    "        self.facing = np.dot(rotation, self.facing)\n",
    "        if self.grid[hash_pos] == '#':\n",
    "            self.grid[hash_pos] = '.'\n",
    "            self.facing *= -1\n",
    "        else:\n",
    "            self.grid[hash_pos] = '#'\n",
    "            self.count_infect += 1\n",
    "        self.pos += self.facing\n",
    "\n",
    "def count_infect(input_path, n):\n",
    "    grid, size = parse_grid(input_path)\n",
    "    test_virus = Virus(grid, size)\n",
    "    for _ in range(n):\n",
    "        test_virus.burst()\n",
    "    return test_virus.count_infect"
   ]
  },
  {
   "cell_type": "markdown",
   "metadata": {},
   "source": [
    "### Test"
   ]
  },
  {
   "cell_type": "code",
   "execution_count": 129,
   "metadata": {
    "ExecuteTime": {
     "end_time": "2017-12-23T10:14:24.839292",
     "start_time": "2017-12-23T10:14:24.650978"
    }
   },
   "outputs": [],
   "source": [
    "def test():\n",
    "    assert(count_infect('input.test1.txt', 70) == 41)\n",
    "    assert(count_infect('input.test1.txt', 10000) == 5587)\n",
    "test()"
   ]
  },
  {
   "cell_type": "markdown",
   "metadata": {},
   "source": [
    "### Solution"
   ]
  },
  {
   "cell_type": "code",
   "execution_count": 130,
   "metadata": {
    "ExecuteTime": {
     "end_time": "2017-12-23T10:14:30.999058",
     "start_time": "2017-12-23T10:14:30.891181"
    }
   },
   "outputs": [
    {
     "data": {
      "text/plain": [
       "5246"
      ]
     },
     "execution_count": 130,
     "metadata": {},
     "output_type": "execute_result"
    }
   ],
   "source": [
    "count_infect('input.txt', 10000)"
   ]
  },
  {
   "cell_type": "markdown",
   "metadata": {},
   "source": [
    "## Part 2"
   ]
  },
  {
   "cell_type": "code",
   "execution_count": 132,
   "metadata": {
    "ExecuteTime": {
     "end_time": "2017-12-23T10:22:43.304091",
     "start_time": "2017-12-23T10:22:43.269080"
    }
   },
   "outputs": [],
   "source": [
    "class ResistantVirus(Virus):\n",
    "    def burst(self):\n",
    "        hash_pos = hash(self.pos.tostring())\n",
    "        rotation = np.array([[0, -1], [1, 0]], dtype=np.int16)\n",
    "        if self.grid[hash_pos] == '#':\n",
    "            self.facing = -np.dot(rotation, self.facing)\n",
    "            self.grid[hash_pos] = 'F'\n",
    "        elif self.grid[hash_pos] == 'F':\n",
    "            self.facing = np.dot(rotation, np.dot(rotation, self.facing))\n",
    "            self.grid[hash_pos] = '.'\n",
    "        elif self.grid[hash_pos] == 'W':\n",
    "            self.grid[hash_pos] = '#'\n",
    "            self.count_infect += 1\n",
    "        elif self.grid[hash_pos] == '.':\n",
    "            self.facing = np.dot(rotation, self.facing)\n",
    "            self.grid[hash_pos] = 'W'            \n",
    "        self.pos += self.facing\n",
    "\n",
    "def count_resistant_infect(input_path, n):\n",
    "    grid, size = parse_grid(input_path)\n",
    "    test_virus = ResistantVirus(grid, size)\n",
    "    for _ in range(n):\n",
    "        test_virus.burst()\n",
    "    return test_virus.count_infect"
   ]
  },
  {
   "cell_type": "markdown",
   "metadata": {},
   "source": [
    "### Test"
   ]
  },
  {
   "cell_type": "code",
   "execution_count": 135,
   "metadata": {
    "ExecuteTime": {
     "end_time": "2017-12-23T10:25:42.396163",
     "start_time": "2017-12-23T10:24:49.684005"
    }
   },
   "outputs": [],
   "source": [
    "def test():\n",
    "    assert(count_resistant_infect('input.test1.txt', 100) == 26)\n",
    "    assert(count_resistant_infect('input.test1.txt', 10000000) == 2511944)\n",
    "test()"
   ]
  },
  {
   "cell_type": "markdown",
   "metadata": {},
   "source": [
    "### Solution"
   ]
  },
  {
   "cell_type": "code",
   "execution_count": 136,
   "metadata": {
    "ExecuteTime": {
     "end_time": "2017-12-23T10:26:56.270547",
     "start_time": "2017-12-23T10:26:02.102694"
    }
   },
   "outputs": [
    {
     "data": {
      "text/plain": [
       "2512059"
      ]
     },
     "execution_count": 136,
     "metadata": {},
     "output_type": "execute_result"
    }
   ],
   "source": [
    "count_resistant_infect('input.txt', 10000000)"
   ]
  }
 ],
 "metadata": {
  "kernelspec": {
   "display_name": "Python [conda env:adventofcode]",
   "language": "python",
   "name": "conda-env-adventofcode-py"
  },
  "language_info": {
   "codemirror_mode": {
    "name": "ipython",
    "version": 3
   },
   "file_extension": ".py",
   "mimetype": "text/x-python",
   "name": "python",
   "nbconvert_exporter": "python",
   "pygments_lexer": "ipython3",
   "version": "3.5.2"
  },
  "toc": {
   "colors": {
    "hover_highlight": "#DAA520",
    "running_highlight": "#FF0000",
    "selected_highlight": "#FFD700"
   },
   "moveMenuLeft": true,
   "nav_menu": {
    "height": "66px",
    "width": "252px"
   },
   "navigate_menu": true,
   "number_sections": true,
   "sideBar": true,
   "threshold": 4,
   "toc_cell": false,
   "toc_section_display": "block",
   "toc_window_display": false
  }
 },
 "nbformat": 4,
 "nbformat_minor": 2
}
