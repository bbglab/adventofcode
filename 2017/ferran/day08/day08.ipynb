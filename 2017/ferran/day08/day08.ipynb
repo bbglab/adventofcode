{
 "cells": [
  {
   "cell_type": "markdown",
   "metadata": {},
   "source": [
    "# I Heard You Like Registers"
   ]
  },
  {
   "cell_type": "markdown",
   "metadata": {},
   "source": [
    "## Part 1\n",
    "\n",
    "What do registers look like?"
   ]
  },
  {
   "cell_type": "raw",
   "metadata": {},
   "source": [
    "b inc 5 if a > 1\n",
    "a inc 1 if b < 5\n",
    "c dec -10 if a >= 1\n",
    "c inc -20 if c == 10"
   ]
  },
  {
   "cell_type": "code",
   "execution_count": 7,
   "metadata": {
    "ExecuteTime": {
     "end_time": "2017-12-08T06:32:03.442471",
     "start_time": "2017-12-08T06:32:03.403823"
    }
   },
   "outputs": [],
   "source": [
    "import csv\n",
    "\n",
    "instructions = []\n",
    "with open('input.txt', 'rt') as f_input:\n",
    "    csv_reader = csv.reader(f_input, delimiter=' ')\n",
    "    for line in csv_reader:\n",
    "        reg = line[0]\n",
    "        leap = int(line[2]) * ((line[1] == 'inc') + (line[1] == 'dec') * -1)\n",
    "        cond = line[-3:]\n",
    "        instructions.append((reg, leap, cond))"
   ]
  },
  {
   "cell_type": "code",
   "execution_count": 28,
   "metadata": {
    "ExecuteTime": {
     "end_time": "2017-12-08T06:48:20.877412",
     "start_time": "2017-12-08T06:48:20.855062"
    }
   },
   "outputs": [],
   "source": [
    "def apply_instructions(registers):\n",
    "    for reg, leap, cond in instructions:\n",
    "        bool_str = 'registers[\"{0}\"]'.format(cond[0]) + ''.join(cond[1:])\n",
    "        update_str = 'if {0}: registers[\"{1}\"] += {2} '.format(bool_str, reg, leap)\n",
    "        exec(update_str)"
   ]
  },
  {
   "cell_type": "code",
   "execution_count": 29,
   "metadata": {
    "ExecuteTime": {
     "end_time": "2017-12-08T06:48:22.027141",
     "start_time": "2017-12-08T06:48:21.908261"
    }
   },
   "outputs": [],
   "source": [
    "from collections import defaultdict\n",
    "registers = defaultdict(int)\n",
    "apply_instructions(registers)"
   ]
  },
  {
   "cell_type": "code",
   "execution_count": 34,
   "metadata": {
    "ExecuteTime": {
     "end_time": "2017-12-08T06:50:17.976701",
     "start_time": "2017-12-08T06:50:17.961784"
    }
   },
   "outputs": [
    {
     "data": {
      "text/plain": [
       "4647"
      ]
     },
     "execution_count": 34,
     "metadata": {},
     "output_type": "execute_result"
    }
   ],
   "source": [
    "max(registers.values())"
   ]
  },
  {
   "cell_type": "markdown",
   "metadata": {},
   "source": [
    "## Part 2"
   ]
  },
  {
   "cell_type": "code",
   "execution_count": 38,
   "metadata": {
    "ExecuteTime": {
     "end_time": "2017-12-08T06:55:12.851019",
     "start_time": "2017-12-08T06:55:12.837895"
    }
   },
   "outputs": [],
   "source": [
    "def yet_another_apply_instructions(registers):\n",
    "    max_ever = 0\n",
    "    for reg, leap, cond in instructions:\n",
    "        bool_str = 'registers[\"{0}\"]'.format(cond[0]) + ''.join(cond[1:])\n",
    "        update_str = 'if {0}: registers[\"{1}\"] += {2} '.format(bool_str, reg, leap)\n",
    "        exec(update_str)\n",
    "        m = max(registers.values())\n",
    "        if m > max_ever: max_ever = m \n",
    "    return max_ever"
   ]
  },
  {
   "cell_type": "code",
   "execution_count": 39,
   "metadata": {
    "ExecuteTime": {
     "end_time": "2017-12-08T06:55:19.405223",
     "start_time": "2017-12-08T06:55:19.309479"
    }
   },
   "outputs": [
    {
     "data": {
      "text/plain": [
       "5590"
      ]
     },
     "execution_count": 39,
     "metadata": {},
     "output_type": "execute_result"
    }
   ],
   "source": [
    "registers = defaultdict(int)\n",
    "max_ever = yet_another_apply_instructions(registers)\n",
    "max_ever"
   ]
  }
 ],
 "metadata": {
  "kernelspec": {
   "display_name": "Python [conda env:adventofcode]",
   "language": "python",
   "name": "conda-env-adventofcode-py"
  },
  "language_info": {
   "codemirror_mode": {
    "name": "ipython",
    "version": 3
   },
   "file_extension": ".py",
   "mimetype": "text/x-python",
   "name": "python",
   "nbconvert_exporter": "python",
   "pygments_lexer": "ipython3",
   "version": "3.5.2"
  },
  "toc": {
   "colors": {
    "hover_highlight": "#DAA520",
    "running_highlight": "#FF0000",
    "selected_highlight": "#FFD700"
   },
   "moveMenuLeft": true,
   "nav_menu": {
    "height": "66px",
    "width": "252px"
   },
   "navigate_menu": true,
   "number_sections": true,
   "sideBar": true,
   "threshold": 4,
   "toc_cell": false,
   "toc_section_display": "block",
   "toc_window_display": false
  }
 },
 "nbformat": 4,
 "nbformat_minor": 2
}
