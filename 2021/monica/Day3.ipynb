{
 "cells": [
  {
   "cell_type": "markdown",
   "metadata": {},
   "source": [
    "# DAY3"
   ]
  },
  {
   "cell_type": "code",
   "execution_count": 15,
   "metadata": {},
   "outputs": [],
   "source": [
    "import numpy as np"
   ]
  },
  {
   "cell_type": "code",
   "execution_count": 99,
   "metadata": {},
   "outputs": [],
   "source": [
    "def day3 (file):\n",
    "    with open (file) as f:\n",
    "        data = f.read().split('\\n')\n",
    "    data = [d for d in data if d!='']\n",
    "    data = [ [int(pos) for pos in d] for d in data]\n",
    "    data = np.array(data)\n",
    "    final = list(data.sum(axis=0))\n",
    "    total = data.shape[0]\n",
    "    gamma = [ 1 if f > total/2 else 0 for f in final ]\n",
    "    gamma = ''.join([str(g) for g in gamma])\n",
    "    epsilon = [ 1 if f < total/2 else 0 for f in final ]\n",
    "    epsilon = ''.join([str(g) for g in epsilon])\n",
    "    gamma = int(gamma,2)\n",
    "    epsilon = int(epsilon,2)\n",
    "    return gamma * epsilon"
   ]
  },
  {
   "cell_type": "code",
   "execution_count": 100,
   "metadata": {},
   "outputs": [
    {
     "data": {
      "text/plain": [
       "198"
      ]
     },
     "execution_count": 100,
     "metadata": {},
     "output_type": "execute_result"
    }
   ],
   "source": [
    "file = 'example_day3.txt'\n",
    "day3(file)"
   ]
  },
  {
   "cell_type": "code",
   "execution_count": 96,
   "metadata": {},
   "outputs": [
    {
     "data": {
      "text/plain": [
       "4103154"
      ]
     },
     "execution_count": 96,
     "metadata": {},
     "output_type": "execute_result"
    }
   ],
   "source": [
    "file = 'input_day3.txt'\n",
    "day3(file)"
   ]
  },
  {
   "cell_type": "markdown",
   "metadata": {},
   "source": [
    "PART 2"
   ]
  },
  {
   "cell_type": "code",
   "execution_count": 167,
   "metadata": {},
   "outputs": [],
   "source": [
    "file = 'example_day3.txt'\n",
    "def day3_2(file):\n",
    "    with open (file) as f:\n",
    "        data = f.read().split('\\n')\n",
    "    data = [d for d in data if d!='']\n",
    "    data = [ [int(pos) for pos in d] for d in data]\n",
    "    data = np.array(data)\n",
    "    final = list(data.sum(axis=0))\n",
    "    total = data.shape[0]\n",
    "    data2=data\n",
    "    i=0\n",
    "    while data2.shape[0] != 1:\n",
    "        f = data2[:,i]\n",
    "        total = data2.shape[0]\n",
    "#         print('row',f.sum())\n",
    "#         print('sum cols',total)\n",
    "        if f.sum() >= total/2:\n",
    "            mask = data2[:, i] == 1\n",
    "        else:\n",
    "            mask = data2[:, i] == 0\n",
    "        data2 = data2[mask, :] \n",
    "#         print(data2)\n",
    "        i=i+1\n",
    "    oxigen = ''.join([str(g) for g in list(data2[0])])\n",
    "    oxigen = int(oxigen,2)\n",
    "\n",
    "#     print('co2')\n",
    "    data2=data\n",
    "#     print(data2)\n",
    "    i=0\n",
    "    while data2.shape[0] != 1:\n",
    "        f = data2[:,i]\n",
    "        total = data2.shape[0]\n",
    "#         print('row',f.sum())\n",
    "#         print('sum cols',total)\n",
    "        if f.sum() < total/2:\n",
    "            mask = data2[:, i] == 1\n",
    "        else:\n",
    "            mask = data2[:, i] == 0\n",
    "        data2 = data2[mask, :] \n",
    "#         print(data2)\n",
    "        i=i+1\n",
    "\n",
    "    co2 = ''.join([str(g) for g in list(data2[0])])\n",
    "    co2 = int(co2,2)\n",
    "\n",
    "    return oxigen * co2"
   ]
  },
  {
   "cell_type": "code",
   "execution_count": 169,
   "metadata": {},
   "outputs": [
    {
     "data": {
      "text/plain": [
       "230"
      ]
     },
     "execution_count": 169,
     "metadata": {},
     "output_type": "execute_result"
    }
   ],
   "source": [
    "day3_2(file)"
   ]
  },
  {
   "cell_type": "code",
   "execution_count": 170,
   "metadata": {},
   "outputs": [
    {
     "data": {
      "text/plain": [
       "4245351"
      ]
     },
     "execution_count": 170,
     "metadata": {},
     "output_type": "execute_result"
    }
   ],
   "source": [
    "file = 'input_day3.txt'\n",
    "day3_2(file)"
   ]
  }
 ],
 "metadata": {
  "kernelspec": {
   "display_name": "Python 3",
   "language": "python",
   "name": "python3"
  },
  "language_info": {
   "codemirror_mode": {
    "name": "ipython",
    "version": 3
   },
   "file_extension": ".py",
   "mimetype": "text/x-python",
   "name": "python",
   "nbconvert_exporter": "python",
   "pygments_lexer": "ipython3",
   "version": "3.8.3"
  }
 },
 "nbformat": 4,
 "nbformat_minor": 4
}
