{
 "cells": [
  {
   "cell_type": "raw",
   "metadata": {},
   "source": [
    "--- Day 17: Two Steps Forward ---\n",
    "\n",
    "You're trying to access a secure vault protected by a 4x4 grid of small rooms connected by doors. You start in the top-left room (marked S), and you can access the vault (marked V) once you reach the bottom-right room:\n",
    "\n",
    "#########\n",
    "#S| | | #\n",
    "#-#-#-#-#\n",
    "# | | | #\n",
    "#-#-#-#-#\n",
    "# | | | #\n",
    "#-#-#-#-#\n",
    "# | | |  \n",
    "####### V\n",
    "\n",
    "Fixed walls are marked with #, and doors are marked with - or |.\n",
    "\n",
    "The doors in your current room are either open or closed (and locked) based on the hexadecimal MD5 hash of a passcode (your puzzle input) followed by a sequence of uppercase characters representing the path you have taken so far (U for up, D for down, L for left, and R for right).\n",
    "\n",
    "Only the first four characters of the hash are used; they represent, respectively, the doors up, down, left, and right from your current position. Any b, c, d, e, or f means that the corresponding door is open; any other character (any number or a) means that the corresponding door is closed and locked.\n",
    "\n",
    "To access the vault, all you need to do is reach the bottom-right room; reaching this room opens the vault and all doors in the maze.\n",
    "\n",
    "For example, suppose the passcode is hijkl. Initially, you have taken no steps, and so your path is empty: you simply find the MD5 hash of hijkl alone. The first four characters of this hash are ced9, which indicate that up is open (c), down is open (e), left is open (d), and right is closed and locked (9). Because you start in the top-left corner, there are no \"up\" or \"left\" doors to be open, so your only choice is down.\n",
    "\n",
    "Next, having gone only one step (down, or D), you find the hash of hijklD. This produces f2bc, which indicates that you can go back up, left (but that's a wall), or right. Going right means hashing hijklDR to get 5745 - all doors closed and locked. However, going up instead is worthwhile: even though it returns you to the room you started in, your path would then be DU, opening a different set of doors.\n",
    "\n",
    "After going DU (and then hashing hijklDU to get 528e), only the right door is open; after going DUR, all doors lock. (Fortunately, your actual passcode is not hijkl).\n",
    "\n",
    "Passcodes actually used by Easter Bunny Vault Security do allow access to the vault if you know the right path. For example:\n",
    "\n",
    "- If your passcode were ihgpwlah, the shortest path would be DDRRRD.\n",
    "- With kglvqrro, the shortest path would be DDUDRLRRUDRD.\n",
    "- With ulqzkmiv, the shortest would be DRURDRUDDLLDLUURRDULRLDUUDDDRR.\n",
    "\n",
    "Given your vault's passcode, what is the shortest path (the actual path, not just the length) to reach the vault?\n",
    "\n",
    "Your puzzle input is dmypynyp."
   ]
  },
  {
   "cell_type": "code",
   "execution_count": 1,
   "metadata": {
    "ExecuteTime": {
     "end_time": "2016-12-17T23:15:37.790242",
     "start_time": "2016-12-17T23:15:37.785382"
    },
    "collapsed": true
   },
   "outputs": [],
   "source": [
    "import hashlib\n",
    "from collections import namedtuple"
   ]
  },
  {
   "cell_type": "code",
   "execution_count": 2,
   "metadata": {
    "ExecuteTime": {
     "end_time": "2016-12-17T23:15:37.843428",
     "start_time": "2016-12-17T23:15:37.791965"
    },
    "collapsed": false
   },
   "outputs": [],
   "source": [
    "cell = namedtuple('Cell', 'x y code path')\n",
    "\n",
    "\n",
    "class SecureVault:\n",
    "    \n",
    "    dir_dict = {'U': (0, -1), 'D': (0, +1), 'R': (1, 0), 'L': (-1, 0)}\n",
    "    \n",
    "    def __init__(self, movements):\n",
    "        self.movements = movements\n",
    "    \n",
    "    @staticmethod\n",
    "    def get_md5hash(to_hash):\n",
    "        return hashlib.md5(bytes('{}'.format(to_hash), encoding='ascii')).hexdigest().lower()\n",
    "\n",
    "    @staticmethod\n",
    "    def is_valid(x, y):\n",
    "        if 0 <= x < 4 and 0 <= y < 4:\n",
    "            return True\n",
    "        return False\n",
    "    \n",
    "    @staticmethod\n",
    "    def get_directions(hashed):\n",
    "        \"\"\"U for up, D for down, L for left, and R for right. \n",
    "        Any b, c, d, e, or f means that the corresponding door is open; \n",
    "        any other character (any number or a) means that the corresponding \n",
    "        door is closed and locked\n",
    "        \"\"\"\n",
    "        directions = []\n",
    "        for direction, character in zip('UDLR', hashed[:4]):\n",
    "            if character in 'bcdef':\n",
    "                directions.append(direction)\n",
    "        return directions\n",
    "    \n",
    "    def shortest_path(self):\n",
    "        if len(self.movements) == 0:\n",
    "            return False\n",
    "        mov = self.movements.pop(0)\n",
    "        if mov.x == 3 and mov.y == 3:\n",
    "            return mov.path\n",
    "        for direction in self.get_directions(self.get_md5hash(mov.code)):\n",
    "            x_, y_ = self.dir_dict[direction]\n",
    "            if self.is_valid(x=mov.x + x_, y=mov.y + y_):\n",
    "                self.movements.append(\n",
    "                    cell(\n",
    "                        x=mov.x + x_, \n",
    "                        y=mov.y + y_, \n",
    "                        code=mov.code + direction, \n",
    "                        path=mov.path + direction\n",
    "                    )\n",
    "                )\n",
    "        return self.shortest_path()\n",
    "    \n",
    "    def longest_path(self):\n",
    "        longest_path = 0\n",
    "        while len(self.movements) > 0:\n",
    "            mov = self.movements.pop(0)\n",
    "            if mov.x == 3 and mov.y == 3:\n",
    "                longest_path = len(mov.path) if len(mov.path) > longest_path else longest_path\n",
    "                continue\n",
    "            for direction in self.get_directions(self.get_md5hash(mov.code)):\n",
    "                x_, y_ = self.dir_dict[direction]\n",
    "                if self.is_valid(x=mov.x + x_, y=mov.y + y_):\n",
    "                    self.movements.append(\n",
    "                        cell(\n",
    "                            x=mov.x + x_, \n",
    "                            y=mov.y + y_, \n",
    "                            code=mov.code + direction, \n",
    "                            path=mov.path + direction\n",
    "                        )\n",
    "                    )\n",
    "        return longest_path"
   ]
  },
  {
   "cell_type": "code",
   "execution_count": 3,
   "metadata": {
    "ExecuteTime": {
     "end_time": "2016-12-17T23:15:37.853826",
     "start_time": "2016-12-17T23:15:37.844520"
    },
    "collapsed": false
   },
   "outputs": [],
   "source": [
    "# Tests\n",
    "movements = [cell(x=0, y=0, code='ihgpwlah', path='')]\n",
    "assert SecureVault(movements).shortest_path() == 'DDRRRD'\n",
    "movements = [cell(x=0, y=0, code='kglvqrro', path='')]\n",
    "assert SecureVault(movements).shortest_path() == 'DDUDRLRRUDRD'\n",
    "movements = [cell(x=0, y=0, code='ulqzkmiv', path='')]\n",
    "assert SecureVault(movements).shortest_path() == 'DRURDRUDDLLDLUURRDULRLDUUDDDRR'"
   ]
  },
  {
   "cell_type": "code",
   "execution_count": 4,
   "metadata": {
    "ExecuteTime": {
     "end_time": "2016-12-17T23:15:37.867124",
     "start_time": "2016-12-17T23:15:37.854972"
    },
    "collapsed": false
   },
   "outputs": [
    {
     "data": {
      "text/plain": [
       "'RDRDUDLRDR'"
      ]
     },
     "execution_count": 4,
     "metadata": {},
     "output_type": "execute_result"
    }
   ],
   "source": [
    "movements = [cell(x=0, y=0, code='dmypynyp', path='')]\n",
    "SecureVault(movements).shortest_path()"
   ]
  },
  {
   "cell_type": "raw",
   "metadata": {},
   "source": [
    "--- Part Two ---\n",
    "\n",
    "You're curious how robust this security solution really is, and so you decide to find longer and longer paths which still provide access to the vault. You remember that paths always end the first time they reach the bottom-right room (that is, they can never pass through it, only end in it).\n",
    "\n",
    "For example:\n",
    "\n",
    "- If your passcode were ihgpwlah, the longest path would take 370 steps.\n",
    "- With kglvqrro, the longest path would be 492 steps long.\n",
    "- With ulqzkmiv, the longest path would be 830 steps long.\n",
    "\n",
    "What is the length of the longest path that reaches the vault?"
   ]
  },
  {
   "cell_type": "code",
   "execution_count": 5,
   "metadata": {
    "ExecuteTime": {
     "end_time": "2016-12-17T23:15:38.785706",
     "start_time": "2016-12-17T23:15:37.869580"
    },
    "collapsed": false
   },
   "outputs": [],
   "source": [
    "# Tests\n",
    "movements = [cell(x=0, y=0, code='ihgpwlah', path='')]\n",
    "assert SecureVault(movements).longest_path() == 370\n",
    "movements = [cell(x=0, y=0, code='kglvqrro', path='')]\n",
    "assert SecureVault(movements).longest_path() == 492\n",
    "movements = [cell(x=0, y=0, code='ulqzkmiv', path='')]\n",
    "assert SecureVault(movements).longest_path() == 830"
   ]
  },
  {
   "cell_type": "code",
   "execution_count": 6,
   "metadata": {
    "ExecuteTime": {
     "end_time": "2016-12-17T23:15:39.058921",
     "start_time": "2016-12-17T23:15:38.787081"
    },
    "collapsed": false
   },
   "outputs": [
    {
     "data": {
      "text/plain": [
       "386"
      ]
     },
     "execution_count": 6,
     "metadata": {},
     "output_type": "execute_result"
    }
   ],
   "source": [
    "movements = [cell(x=0, y=0, code='dmypynyp', path='')]\n",
    "SecureVault(movements).longest_path()"
   ]
  }
 ],
 "metadata": {
  "kernelspec": {
   "display_name": "Python 3",
   "language": "python",
   "name": "python3"
  },
  "language_info": {
   "codemirror_mode": {
    "name": "ipython",
    "version": 3
   },
   "file_extension": ".py",
   "mimetype": "text/x-python",
   "name": "python",
   "nbconvert_exporter": "python",
   "pygments_lexer": "ipython3",
   "version": "3.5.2+"
  }
 },
 "nbformat": 4,
 "nbformat_minor": 2
}
