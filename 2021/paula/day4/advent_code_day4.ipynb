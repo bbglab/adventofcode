{
 "cells": [
  {
   "cell_type": "markdown",
   "metadata": {},
   "source": [
    "# Part 1"
   ]
  },
  {
   "cell_type": "code",
   "execution_count": 324,
   "metadata": {},
   "outputs": [],
   "source": [
    "import pandas as pd\n",
    "import numpy as np\n",
    "import copy"
   ]
  },
  {
   "cell_type": "code",
   "execution_count": 325,
   "metadata": {},
   "outputs": [],
   "source": [
    "with open('input_day4.txt','r') as file:\n",
    "    data = file.read().split('\\n\\n')\n"
   ]
  },
  {
   "cell_type": "code",
   "execution_count": 326,
   "metadata": {
    "scrolled": true
   },
   "outputs": [],
   "source": [
    "numbers=[int(x) for x in data[0].split(',')]\n",
    "data.remove(data[0])"
   ]
  },
  {
   "cell_type": "code",
   "execution_count": 327,
   "metadata": {},
   "outputs": [],
   "source": [
    "data=[[x.split(' ') for x in i.split('\\n')] for i in data]\n",
    "for i in data:\n",
    "    for j in i:\n",
    "        while '' in j:\n",
    "            j.remove('')\n",
    "data=[[[int(n) for n in x] for x in i] for i in data]"
   ]
  },
  {
   "cell_type": "code",
   "execution_count": 328,
   "metadata": {},
   "outputs": [],
   "source": [
    "matrices=[pd.DataFrame(x) for x in data]\n"
   ]
  },
  {
   "cell_type": "code",
   "execution_count": 308,
   "metadata": {},
   "outputs": [],
   "source": [
    "\"\"\"\n",
    "BINGO\n",
    "\"\"\"\n",
    "def play_bingo(matrices):\n",
    "    tables_game=copy.deepcopy(matrices)\n",
    "    for number in numbers:\n",
    "        for matrix in tables_game:\n",
    "            matrix.replace({number: 0}, inplace=True)\n",
    "            if 0 in matrix.apply(np.sum, axis=1).values:\n",
    "                index= list(matrix.apply(np.sum, axis=1).values).index(0)\n",
    "                return(sum(list(matrix.apply(np.sum, axis=1).values))*number)\n",
    "                \n",
    "            elif 0 in matrix.apply(np.sum, axis=0).values:\n",
    "                index= list(matrix.apply(np.sum, axis=0).values).index(0)\n",
    "                return(sum(list(matrix.apply(np.sum, axis=1).values))*number)\n"
   ]
  },
  {
   "cell_type": "code",
   "execution_count": 309,
   "metadata": {
    "scrolled": true
   },
   "outputs": [
    {
     "data": {
      "text/plain": [
       "65325"
      ]
     },
     "execution_count": 309,
     "metadata": {},
     "output_type": "execute_result"
    }
   ],
   "source": [
    "play_bingo(matrices)"
   ]
  },
  {
   "cell_type": "markdown",
   "metadata": {},
   "source": [
    "# Part 2"
   ]
  },
  {
   "cell_type": "code",
   "execution_count": 337,
   "metadata": {},
   "outputs": [],
   "source": [
    "\"\"\"\n",
    "BINGO\n",
    "\"\"\"\n",
    "def play_bingo2(matrices):\n",
    "    tables_game=copy.deepcopy(matrices)\n",
    "\n",
    "    for number in numbers:\n",
    "        if len(tables_game)>1:            \n",
    "            c=0\n",
    "            changed=False\n",
    "            while  c<len(tables_game):                \n",
    "                tables_game[c].replace({number: 0}, inplace=True)\n",
    "                if 0 in tables_game[c].apply(np.sum, axis=1).values:\n",
    "                    tables_game=tables_game[0:c]+tables_game[c+1:]\n",
    "                    c=0\n",
    "                    \n",
    "                elif 0 in tables_game[c].apply(np.sum, axis=0).values:\n",
    "                    tables_game=tables_game[0:c]+tables_game[c+1:]\n",
    "                    c=0\n",
    "                else:\n",
    "                    c+=1\n",
    "        else:\n",
    "            return(play_bingo(tables_game))\n",
    "\n",
    "                    \n"
   ]
  },
  {
   "cell_type": "code",
   "execution_count": 338,
   "metadata": {},
   "outputs": [
    {
     "data": {
      "text/plain": [
       "4624"
      ]
     },
     "execution_count": 338,
     "metadata": {},
     "output_type": "execute_result"
    }
   ],
   "source": [
    "play_bingo2(matrices)"
   ]
  }
 ],
 "metadata": {
  "kernelspec": {
   "display_name": "Python 3",
   "language": "python",
   "name": "python3"
  },
  "language_info": {
   "codemirror_mode": {
    "name": "ipython",
    "version": 3
   },
   "file_extension": ".py",
   "mimetype": "text/x-python",
   "name": "python",
   "nbconvert_exporter": "python",
   "pygments_lexer": "ipython3",
   "version": "3.8.5"
  }
 },
 "nbformat": 4,
 "nbformat_minor": 4
}
