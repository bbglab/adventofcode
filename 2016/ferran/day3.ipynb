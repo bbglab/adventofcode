{
 "cells": [
  {
   "cell_type": "markdown",
   "metadata": {
    "collapsed": false
   },
   "source": [
    "# Chellenge 3\n",
    "\n",
    "## Challenge 3.1"
   ]
  },
  {
   "cell_type": "code",
   "execution_count": 53,
   "metadata": {
    "collapsed": true
   },
   "outputs": [],
   "source": [
    "myinput = '/home/fmuinos/projects/adventofcode/2016/ferran/inputs/input3.txt'"
   ]
  },
  {
   "cell_type": "code",
   "execution_count": 54,
   "metadata": {
    "collapsed": true
   },
   "outputs": [],
   "source": [
    "def is_triangle(sides):\n",
    "    return sides[0] + sides[1] > sides[2]"
   ]
  },
  {
   "cell_type": "code",
   "execution_count": 55,
   "metadata": {
    "collapsed": false
   },
   "outputs": [],
   "source": [
    "def no_triangles(path):\n",
    "    with open(path,'rt') as f:\n",
    "        ntr = 0\n",
    "        for line in f:\n",
    "            sides = list(map(int, line.rstrip().split()))\n",
    "            if is_triangle(sorted(sides)):\n",
    "                ntr += 1\n",
    "    return ntr"
   ]
  },
  {
   "cell_type": "code",
   "execution_count": 56,
   "metadata": {
    "collapsed": false
   },
   "outputs": [
    {
     "data": {
      "text/plain": [
       "1050"
      ]
     },
     "execution_count": 56,
     "metadata": {},
     "output_type": "execute_result"
    }
   ],
   "source": [
    "no_triangles(myinput)"
   ]
  },
  {
   "cell_type": "markdown",
   "metadata": {},
   "source": [
    "## Challenge 3.2"
   ]
  },
  {
   "cell_type": "code",
   "execution_count": 57,
   "metadata": {
    "collapsed": true
   },
   "outputs": [],
   "source": [
    "def no_triangles_by_cols(path):\n",
    "    triangles = [[0,0,0], [0,0,0], [0,0,0]]\n",
    "    with open(path,'rt') as f:\n",
    "        ntr = 0\n",
    "        i = 1\n",
    "        for line in f:\n",
    "            sides = list(map(int, line.rstrip().split()))\n",
    "            for j in range(3):\n",
    "                triangles[j][i % 3] = sides[j]\n",
    "            if i % 3 == 0:\n",
    "                for j in range(3):\n",
    "                    if is_triangle(sorted(triangles[j])):\n",
    "                        ntr += 1\n",
    "            i += 1\n",
    "    return ntr"
   ]
  },
  {
   "cell_type": "code",
   "execution_count": 58,
   "metadata": {
    "collapsed": false
   },
   "outputs": [
    {
     "data": {
      "text/plain": [
       "1921"
      ]
     },
     "execution_count": 58,
     "metadata": {},
     "output_type": "execute_result"
    }
   ],
   "source": [
    "no_triangles_by_cols(myinput)"
   ]
  }
 ],
 "metadata": {
  "anaconda-cloud": {},
  "kernelspec": {
   "display_name": "Python [conda env:adventofcode]",
   "language": "python",
   "name": "conda-env-adventofcode-py"
  },
  "language_info": {
   "codemirror_mode": {
    "name": "ipython",
    "version": 3
   },
   "file_extension": ".py",
   "mimetype": "text/x-python",
   "name": "python",
   "nbconvert_exporter": "python",
   "pygments_lexer": "ipython3",
   "version": "3.5.2"
  }
 },
 "nbformat": 4,
 "nbformat_minor": 1
}
