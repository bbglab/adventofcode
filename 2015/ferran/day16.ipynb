{
 "cells": [
  {
   "cell_type": "markdown",
   "metadata": {},
   "source": [
    "# Day 16: Aunt Sue\n",
    "\n",
    "## Day 16.1"
   ]
  },
  {
   "cell_type": "code",
   "execution_count": 1,
   "metadata": {
    "ExecuteTime": {
     "end_time": "2017-12-16T18:23:21.197357",
     "start_time": "2017-12-16T18:23:21.180360"
    },
    "collapsed": true
   },
   "outputs": [],
   "source": [
    "ticker_tape = {'children': 3,\n",
    "               'cats': 7,\n",
    "               'samoyeds': 2,\n",
    "               'pomeranians': 3,\n",
    "               'akitas': 0,\n",
    "               'vizslas': 0,\n",
    "               'goldfish': 5,\n",
    "               'trees': 3,\n",
    "               'cars': 2,\n",
    "               'perfumes': 1}"
   ]
  },
  {
   "cell_type": "code",
   "execution_count": 12,
   "metadata": {
    "ExecuteTime": {
     "end_time": "2017-12-16T18:30:49.111165",
     "start_time": "2017-12-16T18:30:49.089172"
    },
    "collapsed": true
   },
   "outputs": [],
   "source": [
    "import csv\n",
    "\n",
    "def parse_aunts(input_path):\n",
    "    auntsues = {}\n",
    "    with open(input_path, 'rt') as f_input:\n",
    "        csv_reader = csv.reader(f_input, delimiter=' ')\n",
    "        for l in csv_reader:\n",
    "            auntsues[int(l[1].rstrip(':'))] = {l[2].rstrip(':'): int(l[3].rstrip(',')), \n",
    "                                               l[4].rstrip(':'): int(l[5].rstrip(',')), \n",
    "                                               l[6].rstrip(':'): int(l[7].rstrip(','))}\n",
    "    return auntsues"
   ]
  },
  {
   "cell_type": "code",
   "execution_count": 14,
   "metadata": {
    "ExecuteTime": {
     "end_time": "2017-12-16T18:31:13.489049",
     "start_time": "2017-12-16T18:31:13.471682"
    }
   },
   "outputs": [],
   "source": [
    "auntsues = parse_aunts('inputs/input16.txt')"
   ]
  },
  {
   "cell_type": "code",
   "execution_count": 15,
   "metadata": {
    "ExecuteTime": {
     "end_time": "2017-12-16T18:32:27.372828",
     "start_time": "2017-12-16T18:32:27.360921"
    },
    "collapsed": true
   },
   "outputs": [],
   "source": [
    "def ticker_consistent(suedict):\n",
    "    for k, v in suedict.items():\n",
    "        if ticker_tape[k] != v:\n",
    "            return False\n",
    "    return True\n",
    "\n",
    "def which_auntsue():\n",
    "    outcome = {}\n",
    "    for k, suedict in auntsues.items():\n",
    "        outcome[k] = ticker_consistent(suedict)\n",
    "    for i, b in outcome.items():\n",
    "        if b: print(i, b)"
   ]
  },
  {
   "cell_type": "code",
   "execution_count": 16,
   "metadata": {
    "ExecuteTime": {
     "end_time": "2017-12-16T18:32:28.640147",
     "start_time": "2017-12-16T18:32:28.617546"
    }
   },
   "outputs": [
    {
     "name": "stdout",
     "output_type": "stream",
     "text": [
      "213 True\n"
     ]
    }
   ],
   "source": [
    "which_auntsue()"
   ]
  },
  {
   "cell_type": "markdown",
   "metadata": {},
   "source": [
    "## Day 16.2"
   ]
  },
  {
   "cell_type": "raw",
   "metadata": {
    "ExecuteTime": {
     "end_time": "2017-12-13T11:24:13.062062",
     "start_time": "2017-12-13T11:24:13.037226"
    },
    "collapsed": true
   },
   "source": [
    "In particular, the cats and trees readings indicates that there are greater than that many (...), \n",
    "while the pomeranians and goldfish readings indicate that there are fewer than that many (...)."
   ]
  },
  {
   "cell_type": "code",
   "execution_count": 27,
   "metadata": {
    "ExecuteTime": {
     "end_time": "2017-12-16T18:37:05.041981",
     "start_time": "2017-12-16T18:37:05.020353"
    },
    "collapsed": true
   },
   "outputs": [],
   "source": [
    "def new_ticker_consistent(suedict):\n",
    "    for k, v in suedict.items():\n",
    "        if k in ['cats', 'trees']: \n",
    "            if v <= ticker_tape[k]:\n",
    "                return False\n",
    "        elif k in ['pomeranians', 'goldfish']:\n",
    "            if v >= ticker_tape[k]:\n",
    "                return False\n",
    "        elif ticker_tape[k] != v:\n",
    "            return False\n",
    "    return True"
   ]
  },
  {
   "cell_type": "code",
   "execution_count": 28,
   "metadata": {
    "ExecuteTime": {
     "end_time": "2017-12-16T18:37:05.725828",
     "start_time": "2017-12-16T18:37:05.703986"
    },
    "collapsed": true
   },
   "outputs": [],
   "source": [
    "def new_which_auntsue():\n",
    "    outcome = {}\n",
    "    for k, suedict in auntsues.items():\n",
    "        outcome[k] = new_ticker_consistent(suedict)\n",
    "    for i, b in outcome.items():\n",
    "        if b: print(i, b)"
   ]
  },
  {
   "cell_type": "code",
   "execution_count": 29,
   "metadata": {
    "ExecuteTime": {
     "end_time": "2017-12-16T18:37:06.550325",
     "start_time": "2017-12-16T18:37:06.533811"
    }
   },
   "outputs": [
    {
     "name": "stdout",
     "output_type": "stream",
     "text": [
      "323 True\n"
     ]
    }
   ],
   "source": [
    "new_which_auntsue()"
   ]
  }
 ],
 "metadata": {
  "kernelspec": {
   "display_name": "Python [conda env:adventofcode]",
   "language": "python",
   "name": "conda-env-adventofcode-py"
  },
  "language_info": {
   "codemirror_mode": {
    "name": "ipython",
    "version": 3
   },
   "file_extension": ".py",
   "mimetype": "text/x-python",
   "name": "python",
   "nbconvert_exporter": "python",
   "pygments_lexer": "ipython3",
   "version": "3.5.2"
  },
  "toc": {
   "colors": {
    "hover_highlight": "#DAA520",
    "running_highlight": "#FF0000",
    "selected_highlight": "#FFD700"
   },
   "moveMenuLeft": true,
   "nav_menu": {
    "height": "66px",
    "width": "252px"
   },
   "navigate_menu": true,
   "number_sections": true,
   "sideBar": true,
   "threshold": 4,
   "toc_cell": false,
   "toc_section_display": "block",
   "toc_window_display": false
  }
 },
 "nbformat": 4,
 "nbformat_minor": 2
}
