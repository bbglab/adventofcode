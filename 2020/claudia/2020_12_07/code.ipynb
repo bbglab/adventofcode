{
 "cells": [
  {
   "cell_type": "markdown",
   "metadata": {},
   "source": [
    "# Day 7"
   ]
  },
  {
   "cell_type": "markdown",
   "metadata": {},
   "source": [
    "#### Problem 1\n",
    "How many bag colors can eventually contain at least one shiny gold bag? "
   ]
  },
  {
   "cell_type": "code",
   "execution_count": 1,
   "metadata": {
    "collapsed": true
   },
   "outputs": [],
   "source": [
    "from collections import defaultdict"
   ]
  },
  {
   "cell_type": "code",
   "execution_count": 2,
   "metadata": {
    "collapsed": true
   },
   "outputs": [],
   "source": [
    "dict_of_colors = defaultdict(list)\n",
    "with open('input.txt', 'r') as fd: \n",
    "    for line in fd: \n",
    "        if 'no other bags' not in line: \n",
    "            sentence = line.split(' ')\n",
    "            main_color = ' '.join(line.split(' ')[:2])\n",
    "            for i, word in enumerate(sentence): \n",
    "                if word.isdigit(): \n",
    "                    dict_of_colors[main_color] += [' '.join([sentence[i + 1], sentence[i + 2]])]"
   ]
  },
  {
   "cell_type": "code",
   "execution_count": 3,
   "metadata": {
    "collapsed": true
   },
   "outputs": [],
   "source": [
    "def pokemon_games_finder(bags, dict_of_colors):\n",
    "\n",
    "    for outside_color, inside_colors in dict_of_colors.items(): \n",
    "        for color in inside_colors: \n",
    "            if color in good_bags: \n",
    "                bags.add(outside_color)\n",
    "                \n",
    "    return bags"
   ]
  },
  {
   "cell_type": "code",
   "execution_count": 4,
   "metadata": {
    "collapsed": true
   },
   "outputs": [],
   "source": [
    "my_color = 'shiny gold'\n",
    "good_bags = set([my_color])\n",
    "n_good_bags = []\n",
    "for i in range(0, 10):\n",
    "    good_bags = pokemon_games_finder(good_bags, dict_of_colors)\n",
    "    if len(n_good_bags) > 2 and len(good_bags) == n_good_bags[i - 1]: \n",
    "        break\n",
    "    n_good_bags.append(len(good_bags))"
   ]
  },
  {
   "cell_type": "code",
   "execution_count": 5,
   "metadata": {},
   "outputs": [
    {
     "data": {
      "text/plain": [
       "115"
      ]
     },
     "execution_count": 5,
     "metadata": {},
     "output_type": "execute_result"
    }
   ],
   "source": [
    "len(good_bags) - 1 # includes my_color"
   ]
  },
  {
   "cell_type": "markdown",
   "metadata": {},
   "source": [
    "#### Problem 2\n",
    "How many individual bags are required inside your single shiny gold bag?"
   ]
  },
  {
   "cell_type": "code",
   "execution_count": 30,
   "metadata": {
    "collapsed": true
   },
   "outputs": [],
   "source": [
    "dict_of_n = defaultdict(dict)\n",
    "with open('input.txt', 'r') as fd: \n",
    "    for line in fd: \n",
    "        if 'no other bags' not in line: \n",
    "            sentence = line.split(' ')\n",
    "            main_color = ' '.join(line.split(' ')[:2])\n",
    "            for i, word in enumerate(sentence): \n",
    "                if word.isdigit(): \n",
    "                    dict_of_n[main_color][' '.join([sentence[i + 1], sentence[i + 2]])] = int(word)\n",
    "        else: \n",
    "            main_color = ' '.join(line.split(' ')[:2])\n",
    "            dict_of_n[main_color] = 0"
   ]
  },
  {
   "cell_type": "code",
   "execution_count": 31,
   "metadata": {
    "scrolled": true
   },
   "outputs": [
    {
     "data": {
      "text/plain": [
       "1250"
      ]
     },
     "execution_count": 31,
     "metadata": {},
     "output_type": "execute_result"
    }
   ],
   "source": [
    "total_bags = 0\n",
    "for bag1, count1 in dict_of_n[my_color].items():\n",
    "    total_bags += count1\n",
    "    if dict_of_n[bag1] != 0:\n",
    "        for bag2, count2 in dict_of_n[bag1].items():\n",
    "            count2 = count1 * count2\n",
    "            total_bags += count2\n",
    "            if dict_of_n[bag2] != 0: \n",
    "                for bag3, count3 in dict_of_n[bag2].items():\n",
    "                    count3 = count2 * count3\n",
    "                    total_bags += count3\n",
    "                    if dict_of_n[bag3] != 0: \n",
    "                        for bag4, count4 in dict_of_n[bag3].items():\n",
    "                            count4 = count3 * count4\n",
    "                            total_bags += count4\n",
    "                            if dict_of_n[bag4] != 0: \n",
    "                                for bag5, count5 in dict_of_n[bag4].items():\n",
    "                                    count5 = count4 * count5\n",
    "                                    total_bags += count5\n",
    "                                    if dict_of_n[bag5] != 0: \n",
    "                                        for bag6, count6 in dict_of_n[bag5].items(): \n",
    "                                            count6 = count5 * count6\n",
    "                                            total_bags += count6\n",
    "total_bags"
   ]
  },
  {
   "cell_type": "markdown",
   "metadata": {
    "collapsed": true
   },
   "source": [
    "# Bag count using Ferran's code: 1250"
   ]
  },
  {
   "cell_type": "code",
   "execution_count": null,
   "metadata": {
    "collapsed": true
   },
   "outputs": [],
   "source": []
  },
  {
   "cell_type": "code",
   "execution_count": null,
   "metadata": {
    "collapsed": true
   },
   "outputs": [],
   "source": []
  }
 ],
 "metadata": {
  "kernelspec": {
   "display_name": "Python [conda env:hotspots_framework]",
   "language": "python",
   "name": "conda-env-hotspots_framework-py"
  },
  "language_info": {
   "codemirror_mode": {
    "name": "ipython",
    "version": 3
   },
   "file_extension": ".py",
   "mimetype": "text/x-python",
   "name": "python",
   "nbconvert_exporter": "python",
   "pygments_lexer": "ipython3",
   "version": "3.6.10"
  }
 },
 "nbformat": 4,
 "nbformat_minor": 2
}
