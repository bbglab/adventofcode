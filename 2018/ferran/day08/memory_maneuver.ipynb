{
 "cells": [
  {
   "cell_type": "markdown",
   "metadata": {},
   "source": [
    "# Part 1"
   ]
  },
  {
   "cell_type": "code",
   "execution_count": 94,
   "metadata": {
    "collapsed": true
   },
   "outputs": [],
   "source": [
    "def parse():\n",
    "    l = ! cat input.txt | tr '\\n' ';'\n",
    "    return list(map(int, l[0].rstrip(';').split(';')[0].split(' ')))"
   ]
  },
  {
   "cell_type": "code",
   "execution_count": 95,
   "metadata": {
    "collapsed": true
   },
   "outputs": [],
   "source": [
    "class Node:\n",
    "    \n",
    "    def __init__(self):\n",
    "        self.pending  = None\n",
    "        self.meta     = None\n",
    "        self.parent   = None\n",
    "        self.first    = True\n",
    "            \n",
    "    def add_child(self, node):\n",
    "        node.parent   = self\n",
    "        self.children.append(node)\n",
    "    \n",
    "    def read(self, acc, license):\n",
    "        if self.first:\n",
    "            self.pending = license.pop(0)\n",
    "            self.meta    = license.pop(0)\n",
    "            self.first   = False\n",
    "        while self.pending > 0:\n",
    "            node = Node()\n",
    "            acc, license = node.read(acc, license)\n",
    "            self.pending -= 1\n",
    "        acc += sum(license[: self.meta])\n",
    "        license = license[self.meta:]\n",
    "        return acc, license\n",
    "\n",
    "def sum_metadata(license):\n",
    "    root = Node()\n",
    "    s, unread = root.read(0, license)\n",
    "    return s"
   ]
  },
  {
   "cell_type": "markdown",
   "metadata": {},
   "source": [
    "### Test"
   ]
  },
  {
   "cell_type": "code",
   "execution_count": 96,
   "metadata": {},
   "outputs": [
    {
     "data": {
      "text/plain": [
       "138"
      ]
     },
     "execution_count": 96,
     "metadata": {},
     "output_type": "execute_result"
    }
   ],
   "source": [
    "license = [2, 3, 0, 3, 10, 11, 12, 1, 1, 0, 1, 99, 2, 1, 1, 2]\n",
    "sum_metadata(license)"
   ]
  },
  {
   "cell_type": "markdown",
   "metadata": {},
   "source": [
    "### Solution"
   ]
  },
  {
   "cell_type": "code",
   "execution_count": 97,
   "metadata": {},
   "outputs": [
    {
     "data": {
      "text/plain": [
       "40984"
      ]
     },
     "execution_count": 97,
     "metadata": {},
     "output_type": "execute_result"
    }
   ],
   "source": [
    "l = parse()\n",
    "sum_metadata(l)"
   ]
  },
  {
   "cell_type": "markdown",
   "metadata": {},
   "source": [
    "# Part 2"
   ]
  },
  {
   "cell_type": "code",
   "execution_count": 232,
   "metadata": {},
   "outputs": [],
   "source": [
    "class Node:\n",
    "    \n",
    "    def __init__(self):\n",
    "        self.children = []\n",
    "        self.pending  = None\n",
    "        self.meta     = None\n",
    "        self.parent   = None\n",
    "        self.metadata = None\n",
    "        self.first    = True\n",
    "            \n",
    "    def add_child(self, node):\n",
    "        node.parent   = self\n",
    "        self.children.append(node)\n",
    "    \n",
    "    def read(self, license):\n",
    "        if self.first:\n",
    "            self.pending = license.pop(0)\n",
    "            self.meta    = license.pop(0)\n",
    "            self.first   = False\n",
    "        while self.pending > 0:\n",
    "            node = Node()\n",
    "            self.add_child(node)\n",
    "            license = node.read(license)\n",
    "            self.pending -= 1\n",
    "        self.metadata = license[: self.meta]\n",
    "        license = license[self.meta:]\n",
    "        return license\n",
    "    \n",
    "    def nodevalue(self):\n",
    "        if self.children == []:\n",
    "            return sum(self.metadata)\n",
    "        acc = 0\n",
    "        for i, n in enumerate(self.children):\n",
    "            acc += self.metadata.count(i+1) * n.nodevalue()\n",
    "        return acc\n",
    "\n",
    "def root_value(license):\n",
    "    root = Node()       \n",
    "    root.read(license)\n",
    "    return root.nodevalue()    "
   ]
  },
  {
   "cell_type": "markdown",
   "metadata": {},
   "source": [
    "## Test"
   ]
  },
  {
   "cell_type": "code",
   "execution_count": 233,
   "metadata": {},
   "outputs": [
    {
     "data": {
      "text/plain": [
       "66"
      ]
     },
     "execution_count": 233,
     "metadata": {},
     "output_type": "execute_result"
    }
   ],
   "source": [
    "license = [2, 3, 0, 3, 10, 11, 12, 1, 1, 0, 1, 99, 2, 1, 1, 2]\n",
    "root_value(license)"
   ]
  },
  {
   "cell_type": "markdown",
   "metadata": {},
   "source": [
    "## Solution"
   ]
  },
  {
   "cell_type": "code",
   "execution_count": 234,
   "metadata": {},
   "outputs": [
    {
     "data": {
      "text/plain": [
       "37067"
      ]
     },
     "execution_count": 234,
     "metadata": {},
     "output_type": "execute_result"
    }
   ],
   "source": [
    "l = parse()\n",
    "root_value(l)"
   ]
  }
 ],
 "metadata": {
  "kernelspec": {
   "display_name": "Python [conda env:adventofcode]",
   "language": "python",
   "name": "conda-env-adventofcode-py"
  },
  "language_info": {
   "codemirror_mode": {
    "name": "ipython",
    "version": 3
   },
   "file_extension": ".py",
   "mimetype": "text/x-python",
   "name": "python",
   "nbconvert_exporter": "python",
   "pygments_lexer": "ipython3",
   "version": "3.5.2"
  }
 },
 "nbformat": 4,
 "nbformat_minor": 2
}
