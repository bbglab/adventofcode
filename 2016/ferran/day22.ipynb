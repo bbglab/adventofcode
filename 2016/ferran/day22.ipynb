{
 "cells": [
  {
   "cell_type": "markdown",
   "metadata": {
    "ExecuteTime": {
     "end_time": "2016-12-25T11:34:33.431939",
     "start_time": "2016-12-25T11:34:33.419659"
    },
    "collapsed": false
   },
   "source": [
    "# Challenge 22\n",
    "\n",
    "## Challenge 22.1"
   ]
  },
  {
   "cell_type": "code",
   "execution_count": 19,
   "metadata": {
    "ExecuteTime": {
     "end_time": "2016-12-27T14:30:03.045218",
     "start_time": "2016-12-27T14:30:03.035281"
    },
    "collapsed": true
   },
   "outputs": [],
   "source": [
    "myinput = '/home/fmuinos/projects/adventofcode/2016/ferran/inputs/input22.txt'"
   ]
  },
  {
   "cell_type": "code",
   "execution_count": 41,
   "metadata": {
    "ExecuteTime": {
     "end_time": "2016-12-27T14:57:56.495528",
     "start_time": "2016-12-27T14:57:56.470658"
    },
    "collapsed": false
   },
   "outputs": [],
   "source": [
    "import pandas as pd\n",
    "import re\n",
    "\n",
    "def read_table(myinput):\n",
    "    df = pd.DataFrame.from_csv(myinput, sep='\\s+', header=0)\n",
    "    mydict = {}\n",
    "    COORDS = re.compile('/dev/grid/node-x(\\d+)-y(\\d+)')\n",
    "    LOAD = re.compile('(\\d+)T')\n",
    "    for ind, row in df.iterrows():\n",
    "        m = COORDS.match(ind)\n",
    "        x, y = m.groups()\n",
    "        m = LOAD.match(row['Used'])\n",
    "        a = m.groups()\n",
    "        m = LOAD.match(row['Avail'])\n",
    "        b = m.groups()\n",
    "        mydict[(int(x),int(y))] = (int(a[0]), int(b[0]))\n",
    "    return mydict\n",
    "\n",
    "def viable(A, B):\n",
    "    if A[1][0] > 0:\n",
    "        if A[0] != B[0]:\n",
    "            if A[1][0] < B[1][1]:\n",
    "                return True\n",
    "    return False"
   ]
  },
  {
   "cell_type": "code",
   "execution_count": 40,
   "metadata": {
    "ExecuteTime": {
     "end_time": "2016-12-27T14:52:14.914538",
     "start_time": "2016-12-27T14:52:14.393525"
    },
    "collapsed": false
   },
   "outputs": [
    {
     "name": "stdout",
     "output_type": "stream",
     "text": [
      "981\n"
     ]
    }
   ],
   "source": [
    "cluster_dict = read_table(myinput)\n",
    "counter = 0\n",
    "for iti in list(cluster_dict.items()):\n",
    "    for itj in list(cluster_dict.items()):\n",
    "        if viable(iti, itj):\n",
    "            counter += 1\n",
    "print(counter)"
   ]
  },
  {
   "cell_type": "markdown",
   "metadata": {},
   "source": [
    "## Challenge 21.2"
   ]
  },
  {
   "cell_type": "code",
   "execution_count": null,
   "metadata": {
    "ExecuteTime": {
     "end_time": "2016-12-26T23:55:38.856487",
     "start_time": "2016-12-26T23:55:38.851521"
    },
    "collapsed": true
   },
   "outputs": [],
   "source": []
  }
 ],
 "metadata": {
  "anaconda-cloud": {},
  "kernelspec": {
   "display_name": "Python [conda env:adventofcode]",
   "language": "python",
   "name": "conda-env-adventofcode-py"
  },
  "language_info": {
   "codemirror_mode": {
    "name": "ipython",
    "version": 3
   },
   "file_extension": ".py",
   "mimetype": "text/x-python",
   "name": "python",
   "nbconvert_exporter": "python",
   "pygments_lexer": "ipython3",
   "version": "3.5.2"
  },
  "toc": {
   "colors": {
    "hover_highlight": "#DAA520",
    "running_highlight": "#FF0000",
    "selected_highlight": "#FFD700"
   },
   "moveMenuLeft": true,
   "nav_menu": {
    "height": "67px",
    "width": "251px"
   },
   "navigate_menu": true,
   "number_sections": true,
   "sideBar": true,
   "threshold": 4,
   "toc_cell": false,
   "toc_section_display": "block",
   "toc_window_display": false
  }
 },
 "nbformat": 4,
 "nbformat_minor": 1
}
