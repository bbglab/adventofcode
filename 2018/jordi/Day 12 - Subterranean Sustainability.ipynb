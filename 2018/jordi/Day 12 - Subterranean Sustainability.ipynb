{
 "cells": [
  {
   "cell_type": "markdown",
   "metadata": {},
   "source": [
    "```\n",
    "\n",
    "The year 518 is significantly more underground than your history books implied. Either that, or you've arrived in a vast cavern network under the North Pole.\n",
    "\n",
    "After exploring a little, you discover a long tunnel that contains a row of small pots as far as you can see to your left and right. A few of them contain plants - someone is trying to grow things in these geothermally-heated caves.\n",
    "\n",
    "The pots are numbered, with 0 in front of you. To the left, the pots are numbered -1, -2, -3, and so on; to the right, 1, 2, 3.... Your puzzle input contains a list of pots from 0 to the right and whether they do (#) or do not (.) currently contain a plant, the initial state. (No other pots currently contain plants.) For example, an initial state of #..##.... indicates that pots 0, 3, and 4 currently contain plants.\n",
    "\n",
    "Your puzzle input also contains some notes you find on a nearby table: someone has been trying to figure out how these plants spread to nearby pots. Based on the notes, for each generation of plants, a given pot has or does not have a plant based on whether that pot (and the two pots on either side of it) had a plant in the last generation. These are written as LLCRR => N, where L are pots to the left, C is the current pot being considered, R are the pots to the right, and N is whether the current pot will have a plant in the next generation. For example:\n",
    "\n",
    "A note like ..#.. => . means that a pot that contains a plant but with no plants within two pots of it will not have a plant in it during the next generation.\n",
    "A note like ##.## => . means that an empty pot with two plants on each side of it will remain empty in the next generation.\n",
    "A note like .##.# => # means that a pot has a plant in a given generation if, in the previous generation, there were plants in that pot, the one immediately to the left, and the one two pots to the right, but not in the ones immediately to the right and two to the left.\n",
    "It's not clear what these plants are for, but you're sure it's important, so you'd like to make sure the current configuration of plants is sustainable by determining what will happen after 20 generations.\n",
    "\n",
    "For example, given the following input:\n",
    "\n",
    "initial state: #..#.#..##......###...###\n",
    "\n",
    "...## => #\n",
    "..#.. => #\n",
    ".#... => #\n",
    ".#.#. => #\n",
    ".#.## => #\n",
    ".##.. => #\n",
    ".#### => #\n",
    "#.#.# => #\n",
    "#.### => #\n",
    "##.#. => #\n",
    "##.## => #\n",
    "###.. => #\n",
    "###.# => #\n",
    "####. => #\n",
    "For brevity, in this example, only the combinations which do produce a plant are listed. (Your input includes all possible combinations.) Then, the next 20 generations will look like this:\n",
    "\n",
    "                 1         2         3     \n",
    "       0         0         0         0     \n",
    " 0: ...#..#.#..##......###...###...........\n",
    " 1: ...#...#....#.....#..#..#..#...........\n",
    " 2: ...##..##...##....#..#..#..##..........\n",
    " 3: ..#.#...#..#.#....#..#..#...#..........\n",
    " 4: ...#.#..#...#.#...#..#..##..##.........\n",
    " 5: ....#...##...#.#..#..#...#...#.........\n",
    " 6: ....##.#.#....#...#..##..##..##........\n",
    " 7: ...#..###.#...##..#...#...#...#........\n",
    " 8: ...#....##.#.#.#..##..##..##..##.......\n",
    " 9: ...##..#..#####....#...#...#...#.......\n",
    "10: ..#.#..#...#.##....##..##..##..##......\n",
    "11: ...#...##...#.#...#.#...#...#...#......\n",
    "12: ...##.#.#....#.#...#.#..##..##..##.....\n",
    "13: ..#..###.#....#.#...#....#...#...#.....\n",
    "14: ..#....##.#....#.#..##...##..##..##....\n",
    "15: ..##..#..#.#....#....#..#.#...#...#....\n",
    "16: .#.#..#...#.#...##...#...#.#..##..##...\n",
    "17: ..#...##...#.#.#.#...##...#....#...#...\n",
    "18: ..##.#.#....#####.#.#.#...##...##..##..\n",
    "19: .#..###.#..#.#.#######.#.#.#..#.#...#..\n",
    "20: .#....##....#####...#######....#.#..##.\n",
    "The generation is shown along the left, where 0 is the initial state. The pot numbers are shown along the top, where 0 labels the center pot, negative-numbered pots extend to the left, and positive pots extend toward the right. Remember, the initial state begins at pot 0, which is not the leftmost pot used in this example.\n",
    "\n",
    "After one generation, only seven plants remain. The one in pot 0 matched the rule looking for ..#.., the one in pot 4 matched the rule looking for .#.#., pot 9 matched .##.., and so on.\n",
    "\n",
    "In this example, after 20 generations, the pots shown as # contain plants, the furthest left of which is pot -2, and the furthest right of which is pot 34. Adding up all the numbers of plant-containing pots after the 20th generation produces 325.\n",
    "\n",
    "After 20 generations, what is the sum of the numbers of all pots which contain a plant?\n",
    "```"
   ]
  },
  {
   "cell_type": "code",
   "execution_count": 1,
   "metadata": {},
   "outputs": [],
   "source": [
    "def evolve(lines):\n",
    "    _, status = next(lines).split(':')\n",
    "    status = {i: c for i, c in enumerate(status.strip())}\n",
    "    next(lines)\n",
    "    notes = [n.replace(' ', '').strip().split(\"=>\") for n in lines]\n",
    "    \n",
    "    min_pos, max_pos = 0, len(status)-1\n",
    "    yield min_pos, max_pos, status \n",
    "    while True:\n",
    "        changes = {}\n",
    "        for p, n in notes:\n",
    "            p = [c for c in p]\n",
    "            for i in range(min_pos-2, max_pos+2+1):\n",
    "                if [status.get(i+j, '.') for j in [-2,-1,0,1,2]] == p:\n",
    "                    changes[i] = n\n",
    "        \n",
    "        for p, n in changes.items():\n",
    "            status[p] = n\n",
    "            if n != '.':\n",
    "                if p < min_pos:\n",
    "                    min_pos = p\n",
    "                if p > max_pos:\n",
    "                    max_pos = p\n",
    "           \n",
    "        for p in range(min_pos, max_pos+1):\n",
    "            if p not in changes:\n",
    "                status[p] = '.'\n",
    "                \n",
    "        while status[min_pos] == '.':\n",
    "            min_pos += 1\n",
    "            \n",
    "        while status[max_pos] == '.':\n",
    "            max_pos -= 1\n",
    "        \n",
    "        yield min_pos, max_pos, status \n",
    "    \n",
    "def sum_after(g, evolution, shift=0):    \n",
    "    _,_,status = next(evolution)\n",
    "    for _ in range(g):\n",
    "        _,_,status = next(evolution)\n",
    "        \n",
    "    return sum(i+shift for i, v in status.items() if v == '#')"
   ]
  },
  {
   "cell_type": "code",
   "execution_count": 2,
   "metadata": {},
   "outputs": [
    {
     "data": {
      "text/plain": [
       "325"
      ]
     },
     "execution_count": 2,
     "metadata": {},
     "output_type": "execute_result"
    }
   ],
   "source": [
    "open(\"input/day12example.txt\") |> evolve |> sum_after$(20)"
   ]
  },
  {
   "cell_type": "code",
   "execution_count": 3,
   "metadata": {},
   "outputs": [
    {
     "data": {
      "text/plain": [
       "3248"
      ]
     },
     "execution_count": 3,
     "metadata": {},
     "output_type": "execute_result"
    }
   ],
   "source": [
    "open(\"input/day12.txt\") |> evolve |> sum_after$(20)"
   ]
  },
  {
   "cell_type": "markdown",
   "metadata": {},
   "source": [
    "```\n",
    "--- Part Two ---\n",
    "You realize that 20 generations aren't enough. After all, these plants will need to last another 1500 years to even reach your timeline, not to mention your future.\n",
    "\n",
    "After fifty billion (50000000000) generations, what is the sum of the numbers of all pots which contain a plant?\n",
    "```"
   ]
  },
  {
   "cell_type": "code",
   "execution_count": 4,
   "metadata": {},
   "outputs": [],
   "source": [
    "def find_first_cycle(generation):\n",
    "    g = 0\n",
    "    seen = {}\n",
    "    min_pos, max_pos, status = next(generation)    \n",
    "    status_str = \"\".join([status.get(p, '.') for p in range(min_pos, max_pos+1)])\n",
    "    while status_str not in seen:\n",
    "        seen[status_str] = g        \n",
    "        g += 1        \n",
    "        min_pos, max_pos, status = next(generation)            \n",
    "        status_str = \"\".join([status.get(p, '.') for p in range(min_pos, max_pos+1)])\n",
    "        \n",
    "    return g, seen[status_str]"
   ]
  },
  {
   "cell_type": "code",
   "execution_count": 5,
   "metadata": {},
   "outputs": [
    {
     "data": {
      "text/plain": [
       "(101, 100)"
      ]
     },
     "execution_count": 5,
     "metadata": {},
     "output_type": "execute_result"
    }
   ],
   "source": [
    "# Returns first generation with same status and the when it was seen.\n",
    "open(\"input/day12.txt\") |> evolve |> find_first_cycle"
   ]
  },
  {
   "cell_type": "code",
   "execution_count": 6,
   "metadata": {},
   "outputs": [
    {
     "name": "stdout",
     "output_type": "stream",
     "text": [
      "100 2 198\n",
      "101 3 199\n",
      "102 4 200\n",
      "103 5 201\n",
      "104 6 202\n",
      "105 7 203\n",
      "106 8 204\n",
      "107 9 205\n",
      "108 10 206\n",
      "109 11 207\n"
     ]
    }
   ],
   "source": [
    "# Observe that the status is the same but the positions are\n",
    "# shifted one position at each iteration\n",
    "with open(\"input/day12.txt\") as fd:\n",
    "    generations = iter(evolve(fd))\n",
    "    for g in range(110):\n",
    "        minp, maxp, status = next(generations)\n",
    "        if g > 99:\n",
    "            print(g, minp, maxp)"
   ]
  },
  {
   "cell_type": "code",
   "execution_count": 7,
   "metadata": {},
   "outputs": [
    {
     "data": {
      "text/plain": [
       "4000000000000"
      ]
     },
     "execution_count": 7,
     "metadata": {},
     "output_type": "execute_result"
    }
   ],
   "source": [
    "# So we compute the sum but adding a shift\n",
    "open(\"input/day12.txt\") |> evolve |> sum_after$(100, shift=(50000000000 - 100))"
   ]
  }
 ],
 "metadata": {
  "kernelspec": {
   "display_name": "Python [default]",
   "language": "python",
   "name": "python3"
  },
  "language_info": {
   "codemirror_mode": {
    "name": "ipython",
    "version": 3
   },
   "file_extension": ".py",
   "mimetype": "text/x-python",
   "name": "python",
   "nbconvert_exporter": "python",
   "pygments_lexer": "ipython3",
   "version": "3.6.6"
  }
 },
 "nbformat": 4,
 "nbformat_minor": 2
}
