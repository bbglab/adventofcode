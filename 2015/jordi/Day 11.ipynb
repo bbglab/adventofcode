{
 "cells": [
  {
   "cell_type": "raw",
   "metadata": {},
   "source": [
    "--- Day 11: Corporate Policy ---\n",
    "\n",
    "Santa's previous password expired, and he needs help choosing a new one.\n",
    "\n",
    "To help him remember his new password after the old one expires, Santa has devised a method of coming up with a password based on the previous one. Corporate policy dictates that passwords must be exactly eight lowercase letters (for security reasons), so he finds his new password by incrementing his old password string repeatedly until it is valid.\n",
    "\n",
    "Incrementing is just like counting with numbers: xx, xy, xz, ya, yb, and so on. Increase the rightmost letter one step; if it was z, it wraps around to a, and repeat with the next letter to the left until one doesn't wrap around.\n",
    "\n",
    "Unfortunately for Santa, a new Security-Elf recently started, and he has imposed some additional password requirements:\n",
    "\n",
    "Passwords must include one increasing straight of at least three letters, like abc, bcd, cde, and so on, up to xyz. They cannot skip letters; abd doesn't count.\n",
    "Passwords may not contain the letters i, o, or l, as these letters can be mistaken for other characters and are therefore confusing.\n",
    "Passwords must contain at least two different, non-overlapping pairs of letters, like aa, bb, or zz.\n",
    "For example:\n",
    "\n",
    "hijklmmn meets the first requirement (because it contains the straight hij) but fails the second requirement requirement (because it contains i and l).\n",
    "abbceffg meets the third requirement (because it repeats bb and ff) but fails the first requirement.\n",
    "abbcegjk fails the third requirement, because it only has one double letter (bb).\n",
    "The next password after abcdefgh is abcdffaa.\n",
    "The next password after ghijklmn is ghjaabcc, because you eventually skip all the passwords that start with ghi..., since i is not allowed.\n",
    "Given Santa's current password (your puzzle input), what should his next password be?\n",
    "\n",
    "Your puzzle input is vzbxkghb. "
   ]
  },
  {
   "cell_type": "code",
   "execution_count": 28,
   "metadata": {
    "collapsed": false
   },
   "outputs": [],
   "source": [
    "def find_three_straight(passwd):\n",
    "    for a,b,c in zip(passwd[:-2], passwd[1:-1], passwd[2:]):\n",
    "        a, b, c = ord(a), ord(b), ord(c)\n",
    "        if a+2 == b+1 and a+2 == c:\n",
    "            return chr(a) + chr(b) + chr(c)\n",
    "        \n",
    "    return None\n",
    "\n",
    "def find_pairs(passwd):\n",
    "    pairs = set()\n",
    "    for a,b in zip(passwd[:-1], passwd[1:]):\n",
    "        if a == b:\n",
    "            pairs.add(\"{}{}\".format(a, b))\n",
    "    return pairs\n",
    "    \n",
    "def check_valid_password(passwd):\n",
    "    \n",
    "    if ('i' in passwd) or ('o' in passwd) or ('l' in passwd):\n",
    "        return False\n",
    "    \n",
    "    if len(find_pairs(passwd)) < 2:\n",
    "        return False\n",
    "    \n",
    "    if find_three_straight(passwd) is None:\n",
    "        return False \n",
    "    \n",
    "    return True \n",
    "\n",
    "def increase_password(passwd):    \n",
    "    new_passwd = \"\"  \n",
    "    inc = True\n",
    "    for c in passwd[::-1]:\n",
    "        if inc:\n",
    "            r = ord(c) + 1\n",
    "            if r > ord('z'):\n",
    "                r = ord('a')\n",
    "            else:\n",
    "                inc = False\n",
    "            c = chr(r)\n",
    "        new_passwd = c + new_passwd\n",
    "    return new_passwd\n",
    "\n",
    "def next_password(passwd):\n",
    "    \n",
    "    next_passwd = increase_password(passwd)    \n",
    "    while not check_valid_password(next_passwd):\n",
    "        next_passwd = increase_password(next_passwd)    \n",
    "    \n",
    "    return next_passwd "
   ]
  },
  {
   "cell_type": "code",
   "execution_count": 31,
   "metadata": {
    "collapsed": false
   },
   "outputs": [
    {
     "name": "stdout",
     "output_type": "stream",
     "text": [
      "CPU times: user 38 s, sys: 3.89 ms, total: 38 s\n",
      "Wall time: 38 s\n"
     ]
    },
    {
     "data": {
      "text/plain": [
       "'ghjaabcc'"
      ]
     },
     "execution_count": 31,
     "metadata": {},
     "output_type": "execute_result"
    }
   ],
   "source": [
    "%%time\n",
    "\n",
    "# Test example\n",
    "next_password(\"ghijklmn\")"
   ]
  },
  {
   "cell_type": "code",
   "execution_count": 32,
   "metadata": {
    "collapsed": false
   },
   "outputs": [
    {
     "name": "stdout",
     "output_type": "stream",
     "text": [
      "CPU times: user 2.2 s, sys: 0 ns, total: 2.2 s\n",
      "Wall time: 2.2 s\n"
     ]
    },
    {
     "data": {
      "text/plain": [
       "'vzbxxyzz'"
      ]
     },
     "execution_count": 32,
     "metadata": {},
     "output_type": "execute_result"
    }
   ],
   "source": [
    "%%time\n",
    "\n",
    "# Check input\n",
    "next_password(\"vzbxkghb\")"
   ]
  },
  {
   "cell_type": "raw",
   "metadata": {},
   "source": [
    "--- Part Two ---\n",
    "\n",
    "Santa's password expired again. What's the next one?\n",
    "\n",
    "Your puzzle input is still vzbxkghb."
   ]
  },
  {
   "cell_type": "code",
   "execution_count": 33,
   "metadata": {
    "collapsed": false
   },
   "outputs": [
    {
     "name": "stdout",
     "output_type": "stream",
     "text": [
      "CPU times: user 8.42 s, sys: 3.99 ms, total: 8.43 s\n",
      "Wall time: 8.43 s\n"
     ]
    },
    {
     "data": {
      "text/plain": [
       "'vzcaabcc'"
      ]
     },
     "execution_count": 33,
     "metadata": {},
     "output_type": "execute_result"
    }
   ],
   "source": [
    "%%time\n",
    "\n",
    "# Check input\n",
    "next_password(\"vzbxxyzz\")"
   ]
  },
  {
   "cell_type": "code",
   "execution_count": null,
   "metadata": {
    "collapsed": true
   },
   "outputs": [],
   "source": []
  }
 ],
 "metadata": {
  "kernelspec": {
   "display_name": "Python 3",
   "language": "python",
   "name": "python3"
  },
  "language_info": {
   "codemirror_mode": {
    "name": "ipython",
    "version": 3
   },
   "file_extension": ".py",
   "mimetype": "text/x-python",
   "name": "python",
   "nbconvert_exporter": "python",
   "pygments_lexer": "ipython3",
   "version": "3.4.3"
  }
 },
 "nbformat": 4,
 "nbformat_minor": 0
}
