{
 "cells": [
  {
   "cell_type": "markdown",
   "metadata": {},
   "source": [
    "```\n",
    "--- Day 5: How About a Nice Game of Chess? ---\n",
    "\n",
    "You are faced with a security door designed by Easter Bunny engineers that seem to have acquired most of their security knowledge by watching hacking movies.\n",
    "\n",
    "The eight-character password for the door is generated one character at a time by finding the MD5 hash of some Door ID (your puzzle input) and an increasing integer index (starting with 0).\n",
    "\n",
    "A hash indicates the next character in the password if its hexadecimal representation starts with five zeroes. If it does, the sixth character in the hash is the next character of the password.\n",
    "\n",
    "For example, if the Door ID is abc:\n",
    "\n",
    "The first index which produces a hash that starts with five zeroes is 3231929, which we find by hashing abc3231929; the sixth character of the hash, and thus the first character of the password, is 1.\n",
    "5017308 produces the next interesting hash, which starts with 000008f82..., so the second character of the password is 8.\n",
    "The third time a hash starts with five zeroes is for abc5278568, discovering the character f.\n",
    "In this example, after continuing this search a total of eight times, the password is 18f47a30.\n",
    "\n",
    "Given the actual Door ID, what is the password?\n",
    "```"
   ]
  },
  {
   "cell_type": "code",
   "execution_count": 1,
   "metadata": {
    "collapsed": false
   },
   "outputs": [],
   "source": [
    "from hashlib import md5"
   ]
  },
  {
   "cell_type": "code",
   "execution_count": 4,
   "metadata": {
    "collapsed": false
   },
   "outputs": [],
   "source": [
    "def create_password(door_id):\n",
    "    i = 0\n",
    "    password = \"\"\n",
    "    while len(password) < 8:\n",
    "        next_hash = md5(\"{}{}\".format(door_id, i).encode()).hexdigest()\n",
    "        i += 1\n",
    "        if next_hash.startswith('00000'):\n",
    "            password += next_hash[5]\n",
    "        \n",
    "    return password"
   ]
  },
  {
   "cell_type": "code",
   "execution_count": 5,
   "metadata": {
    "collapsed": false
   },
   "outputs": [
    {
     "name": "stdout",
     "output_type": "stream",
     "text": [
      "CPU times: user 11.5 s, sys: 8 ms, total: 11.5 s\n",
      "Wall time: 11.5 s\n"
     ]
    },
    {
     "data": {
      "text/plain": [
       "'18f47a30'"
      ]
     },
     "execution_count": 5,
     "metadata": {},
     "output_type": "execute_result"
    }
   ],
   "source": [
    "%%time\n",
    "create_password('abc')"
   ]
  },
  {
   "cell_type": "code",
   "execution_count": 6,
   "metadata": {
    "collapsed": false
   },
   "outputs": [
    {
     "name": "stdout",
     "output_type": "stream",
     "text": [
      "CPU times: user 22.4 s, sys: 4 ms, total: 22.4 s\n",
      "Wall time: 22.4 s\n"
     ]
    },
    {
     "data": {
      "text/plain": [
       "'1a3099aa'"
      ]
     },
     "execution_count": 6,
     "metadata": {},
     "output_type": "execute_result"
    }
   ],
   "source": [
    "%%time\n",
    "create_password('uqwqemis')"
   ]
  },
  {
   "cell_type": "markdown",
   "metadata": {},
   "source": [
    "```\n",
    "--- Part Two ---\n",
    "\n",
    "As the door slides open, you are presented with a second door that uses a slightly more inspired security mechanism. Clearly unimpressed by the last version (in what movie is the password decrypted in order?!), the Easter Bunny engineers have worked out a better solution.\n",
    "\n",
    "Instead of simply filling in the password from left to right, the hash now also indicates the position within the password to fill. You still look for hashes that begin with five zeroes; however, now, the sixth character represents the position (0-7), and the seventh character is the character to put in that position.\n",
    "\n",
    "A hash result of 000001f means that f is the second character in the password. Use only the first result for each position, and ignore invalid positions.\n",
    "\n",
    "For example, if the Door ID is abc:\n",
    "\n",
    "The first interesting hash is from abc3231929, which produces 0000015...; so, 5 goes in position 1: _5______.\n",
    "In the previous method, 5017308 produced an interesting hash; however, it is ignored, because it specifies an invalid position (8).\n",
    "The second interesting hash is at index 5357525, which produces 000004e...; so, e goes in position 4: _5__e___.\n",
    "You almost choke on your popcorn as the final character falls into place, producing the password 05ace8e3.\n",
    "\n",
    "Given the actual Door ID and this new method, what is the password? Be extra proud of your solution if it uses a cinematic \"decrypting\" animation.\n",
    "```"
   ]
  },
  {
   "cell_type": "code",
   "execution_count": 11,
   "metadata": {
    "collapsed": true
   },
   "outputs": [],
   "source": [
    "def create_strong_password(door_id):\n",
    "    i = 0\n",
    "    password = {}\n",
    "    while len(password) < 8:\n",
    "        next_hash = md5(\"{}{}\".format(door_id, i).encode()).hexdigest()\n",
    "        i += 1\n",
    "        if next_hash.startswith('00000'):\n",
    "            position, character = next_hash[5:7]\n",
    "\n",
    "            if position in \"01234567\" and position not in password:        \n",
    "                password[position] = character\n",
    "                print(\"\".join([password.get(p, '_') for p in \"01234567\"]))\n",
    "        \n",
    "    return \"\".join([password.get(p, '_') for p in \"01234567\"])"
   ]
  },
  {
   "cell_type": "code",
   "execution_count": 12,
   "metadata": {
    "collapsed": false
   },
   "outputs": [
    {
     "name": "stdout",
     "output_type": "stream",
     "text": [
      "_5______\n",
      "_5__e___\n",
      "_5__e__3\n",
      "_5_ce__3\n",
      "05_ce__3\n",
      "05_ce_e3\n",
      "05_ce8e3\n",
      "05ace8e3\n",
      "CPU times: user 18.2 s, sys: 28 ms, total: 18.2 s\n",
      "Wall time: 18.2 s\n"
     ]
    },
    {
     "data": {
      "text/plain": [
       "'05ace8e3'"
      ]
     },
     "execution_count": 12,
     "metadata": {},
     "output_type": "execute_result"
    }
   ],
   "source": [
    "%%time\n",
    "create_strong_password('abc')"
   ]
  },
  {
   "cell_type": "code",
   "execution_count": 13,
   "metadata": {
    "collapsed": false
   },
   "outputs": [
    {
     "name": "stdout",
     "output_type": "stream",
     "text": [
      "_9______\n",
      "_9_1____\n",
      "69_1____\n",
      "6941____\n",
      "6941_0__\n",
      "694190__\n",
      "694190c_\n",
      "694190cd\n",
      "CPU times: user 39 s, sys: 28 ms, total: 39 s\n",
      "Wall time: 39.1 s\n"
     ]
    },
    {
     "data": {
      "text/plain": [
       "'694190cd'"
      ]
     },
     "execution_count": 13,
     "metadata": {},
     "output_type": "execute_result"
    }
   ],
   "source": [
    "%%time\n",
    "create_strong_password('uqwqemis')"
   ]
  },
  {
   "cell_type": "code",
   "execution_count": null,
   "metadata": {
    "collapsed": true
   },
   "outputs": [],
   "source": []
  }
 ],
 "metadata": {
  "anaconda-cloud": {},
  "kernelspec": {
   "display_name": "Python [conda env:adventofcode]",
   "language": "python",
   "name": "conda-env-adventofcode-py"
  },
  "language_info": {
   "codemirror_mode": {
    "name": "ipython",
    "version": 3
   },
   "file_extension": ".py",
   "mimetype": "text/x-python",
   "name": "python",
   "nbconvert_exporter": "python",
   "pygments_lexer": "ipython3",
   "version": "3.5.2"
  }
 },
 "nbformat": 4,
 "nbformat_minor": 1
}
