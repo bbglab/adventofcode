{
 "cells": [
  {
   "cell_type": "markdown",
   "metadata": {},
   "source": [
    "# Advent of code 2020"
   ]
  },
  {
   "cell_type": "markdown",
   "metadata": {},
   "source": [
    "## --- Day 1: Report Repair ---\n",
    "After saving Christmas five years in a row, you've decided to take a vacation at a nice resort on a tropical island. Surely, Christmas will go on without you.\n",
    "\n",
    "The tropical island has its own currency and is entirely cash-only. The gold coins used there have a little picture of a starfish; the locals just call them stars. None of the currency exchanges seem to have heard of them, but somehow, you'll need to find fifty of these coins by the time you arrive so you can pay the deposit on your room.\n",
    "\n",
    "To save your vacation, you need to get all fifty stars by December 25th.\n",
    "\n",
    "Collect stars by solving puzzles. Two puzzles will be made available on each day in the Advent calendar; the second puzzle is unlocked when you complete the first. Each puzzle grants one star. Good luck!\n",
    "\n",
    "Before you leave, the Elves in accounting just need you to fix your expense report (your puzzle input); apparently, something isn't quite adding up.\n",
    "\n",
    "Specifically, they need you to find the two entries that sum to 2020 and then multiply those two numbers together.\n",
    "\n",
    "For example, suppose your expense report contained the following:\n",
    "\n",
    "1721  \n",
    "979  \n",
    "366  \n",
    "299  \n",
    "675  \n",
    "1456  \n",
    "\n",
    "In this list, the two entries that sum to 2020 are 1721 and 299. Multiplying them together produces 1721 * 299 = 514579, so the correct answer is 514579.\n",
    "\n",
    "Of course, your expense report is much larger. Find the two entries that sum to 2020; what do you get if you multiply them together?"
   ]
  },
  {
   "cell_type": "code",
   "execution_count": 60,
   "metadata": {},
   "outputs": [
    {
     "name": "stdout",
     "output_type": "stream",
     "text": [
      "968 and 1052 sum 2020, and multiplied are 1018336\n"
     ]
    }
   ],
   "source": [
    "with open('input_day1.txt') as f:\n",
    "    report = f.read().splitlines()\n",
    "\n",
    "for i in range(0,len(report)):\n",
    "    for j in range(0,len(report)):\n",
    "        if i>j:\n",
    "            entry1 = int(report[i])\n",
    "            entry2 = int(report[j])\n",
    "            if (entry1 + entry2 == 2020):\n",
    "                sum_entries = [entry1,entry2]\n",
    "                mult = entry1*entry2\n",
    "\n",
    "print(sum_entries[0], 'and', sum_entries[1], 'sum 2020, and multiplied are',mult)"
   ]
  },
  {
   "cell_type": "markdown",
   "metadata": {},
   "source": [
    "--- Part Two ---  \n",
    "The Elves in accounting are thankful for your help; one of them even offers you a starfish coin they had left over from a past vacation. They offer you a second one if you can find three numbers in your expense report that meet the same criteria.\n",
    "\n",
    "Using the above example again, the three entries that sum to 2020 are 979, 366, and 675. Multiplying them together produces the answer, 241861950.\n",
    "\n",
    "In your expense report, what is the product of the three entries that sum to 2020?"
   ]
  },
  {
   "cell_type": "code",
   "execution_count": 61,
   "metadata": {},
   "outputs": [
    {
     "name": "stdout",
     "output_type": "stream",
     "text": [
      "644 , 530 and 846 sum 2020, and multiplied are 288756720\n"
     ]
    }
   ],
   "source": [
    "for i in range(0,len(report)):\n",
    "    for j in range(0,len(report)):\n",
    "        if i>j:\n",
    "            for k in range(0,len(report)):\n",
    "                if j>k:\n",
    "                    entry1 = int(report[i])\n",
    "                    entry2 = int(report[j])\n",
    "                    entry3 = int(report[k])\n",
    "                    if (entry1 + entry2 + entry3 == 2020):\n",
    "                        sum_entries = [entry1,entry2,entry3]\n",
    "                        mult = entry1*entry2*entry3\n",
    "\n",
    "print(sum_entries[0],',', sum_entries[1], 'and', sum_entries[2], 'sum 2020, and multiplied are',mult)"
   ]
  }
 ],
 "metadata": {
  "kernelspec": {
   "display_name": "Python 3",
   "language": "python",
   "name": "python3"
  },
  "language_info": {
   "codemirror_mode": {
    "name": "ipython",
    "version": 3
   },
   "file_extension": ".py",
   "mimetype": "text/x-python",
   "name": "python",
   "nbconvert_exporter": "python",
   "pygments_lexer": "ipython3",
   "version": "3.7.4"
  }
 },
 "nbformat": 4,
 "nbformat_minor": 2
}
