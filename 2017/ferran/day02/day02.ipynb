{
 "cells": [
  {
   "cell_type": "markdown",
   "metadata": {},
   "source": [
    "# Checksum\n",
    "\n",
    "## Input"
   ]
  },
  {
   "cell_type": "code",
   "execution_count": 6,
   "metadata": {
    "ExecuteTime": {
     "end_time": "2017-12-02T14:04:13.901627",
     "start_time": "2017-12-02T14:04:13.890653"
    }
   },
   "outputs": [],
   "source": [
    "import pandas as pd\n",
    "\n",
    "f_input = 'input.txt'\n",
    "table = pd.read_csv(f_input, sep='\\t', header=None)"
   ]
  },
  {
   "cell_type": "markdown",
   "metadata": {},
   "source": [
    "## Solution: part 1"
   ]
  },
  {
   "cell_type": "code",
   "execution_count": 14,
   "metadata": {
    "ExecuteTime": {
     "end_time": "2017-12-02T14:07:22.548896",
     "start_time": "2017-12-02T14:07:22.529219"
    }
   },
   "outputs": [
    {
     "data": {
      "text/plain": [
       "51139"
      ]
     },
     "execution_count": 14,
     "metadata": {},
     "output_type": "execute_result"
    }
   ],
   "source": [
    "sum(table.apply(max, axis=1) - table.apply(min, axis=1))"
   ]
  },
  {
   "cell_type": "markdown",
   "metadata": {
    "ExecuteTime": {
     "end_time": "2017-12-02T14:10:12.187061",
     "start_time": "2017-12-02T14:10:12.180153"
    },
    "collapsed": true
   },
   "source": [
    "## Solution: part 2"
   ]
  },
  {
   "cell_type": "code",
   "execution_count": 17,
   "metadata": {
    "ExecuteTime": {
     "end_time": "2017-12-02T14:16:17.221609",
     "start_time": "2017-12-02T14:16:17.214083"
    }
   },
   "outputs": [],
   "source": [
    "def evenly_divide(u):\n",
    "    \"\"\"\n",
    "    finds quotient of only pair of entries which evenly divide\n",
    "    u: array-like\n",
    "    \"\"\"\n",
    "    sorted_u = sorted(u)\n",
    "    for i, n in enumerate(sorted_u):\n",
    "        for m in sorted_u[i+1:]:\n",
    "            if m % n == 0:\n",
    "                return m // n"
   ]
  },
  {
   "cell_type": "code",
   "execution_count": 19,
   "metadata": {
    "ExecuteTime": {
     "end_time": "2017-12-02T14:16:51.822288",
     "start_time": "2017-12-02T14:16:51.804180"
    }
   },
   "outputs": [
    {
     "data": {
      "text/plain": [
       "272"
      ]
     },
     "execution_count": 19,
     "metadata": {},
     "output_type": "execute_result"
    }
   ],
   "source": [
    "sum(table.apply(evenly_divide, axis=1))"
   ]
  }
 ],
 "metadata": {
  "kernelspec": {
   "display_name": "Python [conda env:adventofcode]",
   "language": "python",
   "name": "conda-env-adventofcode-py"
  },
  "language_info": {
   "codemirror_mode": {
    "name": "ipython",
    "version": 3
   },
   "file_extension": ".py",
   "mimetype": "text/x-python",
   "name": "python",
   "nbconvert_exporter": "python",
   "pygments_lexer": "ipython3",
   "version": "3.5.2"
  },
  "toc": {
   "colors": {
    "hover_highlight": "#DAA520",
    "running_highlight": "#FF0000",
    "selected_highlight": "#FFD700"
   },
   "moveMenuLeft": true,
   "nav_menu": {
    "height": "66px",
    "width": "252px"
   },
   "navigate_menu": true,
   "number_sections": true,
   "sideBar": true,
   "threshold": 4,
   "toc_cell": false,
   "toc_section_display": "block",
   "toc_window_display": false
  }
 },
 "nbformat": 4,
 "nbformat_minor": 2
}
