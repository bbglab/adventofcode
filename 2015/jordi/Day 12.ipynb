{
 "cells": [
  {
   "cell_type": "raw",
   "metadata": {},
   "source": [
    "--- Day 12: JSAbacusFramework.io ---\n",
    "\n",
    "Santa's Accounting-Elves need help balancing the books after a recent order. Unfortunately, their accounting software uses a peculiar storage format. That's where you come in.\n",
    "\n",
    "They have a JSON document which contains a variety of things: arrays ([1,2,3]), objects ({\"a\":1, \"b\":2}), numbers, and strings. Your first job is to simply find all of the numbers throughout the document and add them together.\n",
    "\n",
    "For example:\n",
    "\n",
    "[1,2,3] and {\"a\":2,\"b\":4} both have a sum of 6.\n",
    "[[[3]]] and {\"a\":{\"b\":4},\"c\":-1} both have a sum of 3.\n",
    "{\"a\":[-1,1]} and [-1,{\"a\":1}] both have a sum of 0.\n",
    "[] and {} both have a sum of 0.\n",
    "You will not encounter any strings containing numbers.\n",
    "\n",
    "What is the sum of all numbers in the document?"
   ]
  },
  {
   "cell_type": "code",
   "execution_count": 53,
   "metadata": {
    "collapsed": true
   },
   "outputs": [],
   "source": [
    "def sum_values(data, nored=False):\n",
    "    if type(data) == dict:\n",
    "        if nored and ('red' in data.values()):\n",
    "            return 0\n",
    "        else:\n",
    "            return sum(sum_values(d, nored=nored) for d in data.values())\n",
    "    if type(data) == list:\n",
    "        return sum(sum_values(d, nored=nored) for d in data)\n",
    "    if type(data) == int:\n",
    "        return data\n",
    "    return 0"
   ]
  },
  {
   "cell_type": "code",
   "execution_count": 49,
   "metadata": {
    "collapsed": false
   },
   "outputs": [
    {
     "data": {
      "text/plain": [
       "0"
      ]
     },
     "execution_count": 49,
     "metadata": {},
     "output_type": "execute_result"
    }
   ],
   "source": [
    "# Test examples\n",
    "sum_values({})"
   ]
  },
  {
   "cell_type": "code",
   "execution_count": 50,
   "metadata": {
    "collapsed": false
   },
   "outputs": [
    {
     "name": "stdout",
     "output_type": "stream",
     "text": [
      "111754\n"
     ]
    }
   ],
   "source": [
    "import json\n",
    "with open('day12/input.txt', 'rt') as fd:\n",
    "    data = json.load(fd)\n",
    "    print(sum_values(data))"
   ]
  },
  {
   "cell_type": "raw",
   "metadata": {},
   "source": [
    "--- Part Two ---\n",
    "\n",
    "Uh oh - the Accounting-Elves have realized that they double-counted everything red.\n",
    "\n",
    "Ignore any object (and all of its children) which has any property with the value \"red\". Do this only for objects ({...}), not arrays ([...]).\n",
    "\n",
    "[1,2,3] still has a sum of 6.\n",
    "[1,{\"c\":\"red\",\"b\":2},3] now has a sum of 4, because the middle object is ignored.\n",
    "{\"d\":\"red\",\"e\":[1,2,3,4],\"f\":5} now has a sum of 0, because the entire structure is ignored.\n",
    "[1,\"red\",5] has a sum of 6, because \"red\" in an array has no effect.\n"
   ]
  },
  {
   "cell_type": "code",
   "execution_count": 51,
   "metadata": {
    "collapsed": false
   },
   "outputs": [
    {
     "data": {
      "text/plain": [
       "4"
      ]
     },
     "execution_count": 51,
     "metadata": {},
     "output_type": "execute_result"
    }
   ],
   "source": [
    "# Test examples\n",
    "sum_values([1,{\"c\":\"red\",\"b\":2},3], nored=True)"
   ]
  },
  {
   "cell_type": "code",
   "execution_count": 54,
   "metadata": {
    "collapsed": false
   },
   "outputs": [
    {
     "name": "stdout",
     "output_type": "stream",
     "text": [
      "65402\n"
     ]
    }
   ],
   "source": [
    "with open('day12/input.txt', 'rt') as fd:\n",
    "    data = json.load(fd)\n",
    "    print(sum_values(data, nored=True))"
   ]
  },
  {
   "cell_type": "code",
   "execution_count": null,
   "metadata": {
    "collapsed": true
   },
   "outputs": [],
   "source": []
  }
 ],
 "metadata": {
  "kernelspec": {
   "display_name": "Python 3",
   "language": "python",
   "name": "python3"
  },
  "language_info": {
   "codemirror_mode": {
    "name": "ipython",
    "version": 3
   },
   "file_extension": ".py",
   "mimetype": "text/x-python",
   "name": "python",
   "nbconvert_exporter": "python",
   "pygments_lexer": "ipython3",
   "version": "3.4.3"
  }
 },
 "nbformat": 4,
 "nbformat_minor": 0
}
