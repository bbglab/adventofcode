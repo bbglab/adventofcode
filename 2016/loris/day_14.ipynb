{
 "cells": [
  {
   "cell_type": "markdown",
   "metadata": {},
   "source": [
    "# Advent of Code 2016"
   ]
  },
  {
   "cell_type": "raw",
   "metadata": {},
   "source": [
    "--- Day 14: One-Time Pad ---\n",
    "\n",
    "In order to communicate securely with Santa while you're on this mission, you've been using a one-time pad that you generate using a pre-agreed algorithm. Unfortunately, you've run out of keys in your one-time pad, and so you need to generate some more.\n",
    "\n",
    "To generate keys, you first get a stream of random data by taking the MD5 of a pre-arranged salt (your puzzle input) and an increasing integer index (starting with 0, and represented in decimal); the resulting MD5 hash should be represented as a string of lowercase hexadecimal digits.\n",
    "\n",
    "However, not all of these MD5 hashes are keys, and you need 64 new keys for your one-time pad. A hash is a key only if:\n",
    "\n",
    "- It contains three of the same character in a row, like 777. Only consider the first such triplet in a hash.\n",
    "- One of the next 1000 hashes in the stream contains that same character five times in a row, like 77777.\n",
    "\n",
    "Considering future hashes for five-of-a-kind sequences does not cause those hashes to be skipped; instead, regardless of whether the current hash is a key, always resume testing for keys starting with the very next hash.\n",
    "\n",
    "For example, if the pre-arranged salt is abc:\n",
    "\n",
    "- The first index which produces a triple is 18, because the MD5 hash of abc18 contains ...cc38887a5.... However, index 18 does not count as a key for your one-time pad, because none of the next thousand hashes (index 19 through index 1018) contain 88888.\n",
    "- The next index which produces a triple is 39; the hash of abc39 contains eee. It is also the first key: one of the next thousand hashes (the one at index 816) contains eeeee.\n",
    "- None of the next six triples are keys, but the one after that, at index 92, is: it contains 999 and index 200 contains 99999.\n",
    "- Eventually, index 22728 meets all of the criteria to generate the 64th key.\n",
    "\n",
    "So, using our example salt of abc, index 22728 produces the 64th key.\n",
    "\n",
    "Given the actual salt in your puzzle input, what index produces your 64th one-time pad key?\n",
    "\n",
    "Your puzzle input is zpqevtbw."
   ]
  },
  {
   "cell_type": "code",
   "execution_count": 1,
   "metadata": {
    "collapsed": true
   },
   "outputs": [],
   "source": [
    "import hashlib\n",
    "import re"
   ]
  },
  {
   "cell_type": "code",
   "execution_count": 2,
   "metadata": {
    "collapsed": true
   },
   "outputs": [],
   "source": [
    "# Global dictionaries for memoization\n",
    "hashes_stretched = dict()\n",
    "\n",
    "\n",
    "def make_hash(to_hash):\n",
    "    return hashlib.md5(bytes('{}'.format(to_hash), encoding='ascii')).hexdigest().lower()\n",
    "\n",
    "\n",
    "def make_hash_stretched(to_hash, stretched_to=0):\n",
    "    if to_hash in hashes_stretched.keys():\n",
    "        md5sum = hashes_stretched[to_hash]\n",
    "    else:\n",
    "        md5sum = to_hash\n",
    "        for _ in range(stretched_to + 1):\n",
    "            md5sum = make_hash(md5sum)\n",
    "        hashes_stretched[to_hash] = md5sum\n",
    "    return md5sum\n",
    "\n",
    "\n",
    "def generate_key(salt, stretched_to=0):\n",
    "    regex_3 = re.compile(r'(\\w)\\1\\1')\n",
    "\n",
    "    key = []\n",
    "    index = 0\n",
    "    while len(key) < 64:\n",
    "        md5sum = '{}{}'.format(salt, index)\n",
    "        md5sum = make_hash_stretched(md5sum, stretched_to=stretched_to)\n",
    "        \n",
    "        if regex_3.search(md5sum):\n",
    "            regex_5 = re.compile(r'{}{}'.format(regex_3.findall(md5sum)[0], {5,}))\n",
    "            for i in range(1, 1001):\n",
    "                md5sum = '{}{}'.format(salt, index + i)\n",
    "                md5sum = make_hash_stretched(md5sum, stretched_to=stretched_to)\n",
    "                    \n",
    "                if regex_5.search(md5sum):\n",
    "                    key.append(index)\n",
    "                    break\n",
    "        index += 1\n",
    "    return key[-1]"
   ]
  },
  {
   "cell_type": "code",
   "execution_count": 3,
   "metadata": {
    "collapsed": false
   },
   "outputs": [],
   "source": [
    "# Test\n",
    "assert generate_key('abc') == 22728"
   ]
  },
  {
   "cell_type": "code",
   "execution_count": 4,
   "metadata": {
    "collapsed": false
   },
   "outputs": [
    {
     "name": "stdout",
     "output_type": "stream",
     "text": [
      "CPU times: user 2.15 s, sys: 0 ns, total: 2.15 s\n",
      "Wall time: 2.16 s\n"
     ]
    },
    {
     "data": {
      "text/plain": [
       "16106"
      ]
     },
     "execution_count": 4,
     "metadata": {},
     "output_type": "execute_result"
    }
   ],
   "source": [
    "%%time\n",
    "\n",
    "generate_key('zpqevtbw')"
   ]
  },
  {
   "cell_type": "raw",
   "metadata": {},
   "source": [
    "--- Part Two ---\n",
    "\n",
    "Of course, in order to make this process even more secure, you've also implemented key stretching.\n",
    "\n",
    "Key stretching forces attackers to spend more time generating hashes. Unfortunately, it forces everyone else to spend more time, too.\n",
    "\n",
    "To implement key stretching, whenever you generate a hash, before you use it, you first find the MD5 hash of that hash, then the MD5 hash of that hash, and so on, a total of 2016 additional hashings. Always use lowercase hexadecimal representations of hashes.\n",
    "\n",
    "For example, to find the stretched hash for index 0 and salt abc:\n",
    "\n",
    "- Find the MD5 hash of abc0: 577571be4de9dcce85a041ba0410f29f.\n",
    "- Then, find the MD5 hash of that hash: eec80a0c92dc8a0777c619d9bb51e910.\n",
    "- Then, find the MD5 hash of that hash: 16062ce768787384c81fe17a7a60c7e3.\n",
    "- ...repeat many times...\n",
    "- Then, find the MD5 hash of that hash: a107ff634856bb300138cac6568c0f24.\n",
    "\n",
    "So, the stretched hash for index 0 in this situation is a107ff.... In the end, you find the original hash (one use of MD5), then find the hash-of-the-previous-hash 2016 times, for a total of 2017 uses of MD5.\n",
    "\n",
    "The rest of the process remains the same, but now the keys are entirely different. Again for salt abc:\n",
    "\n",
    "- The first triple (222, at index 5) has no matching 22222 in the next thousand hashes.\n",
    "- The second triple (eee, at index 10) hash a matching eeeee at index 89, and so it is the first key.\n",
    "- Eventually, index 22551 produces the 64th key (triple fff with matching fffff at index 22859.\n",
    "\n",
    "Given the actual salt in your puzzle input and using 2016 extra MD5 calls of key stretching, what index now produces your 64th one-time pad key?\n",
    "\n",
    "Your puzzle input is still zpqevtbw."
   ]
  },
  {
   "cell_type": "code",
   "execution_count": 5,
   "metadata": {
    "collapsed": true
   },
   "outputs": [],
   "source": [
    "# Global dictionaries for memoization\n",
    "hashes_stretched = dict()"
   ]
  },
  {
   "cell_type": "code",
   "execution_count": 6,
   "metadata": {
    "collapsed": false
   },
   "outputs": [],
   "source": [
    "# Test\n",
    "assert generate_key('abc', stretched_to=2016) == 22551"
   ]
  },
  {
   "cell_type": "code",
   "execution_count": 7,
   "metadata": {
    "collapsed": false
   },
   "outputs": [
    {
     "name": "stdout",
     "output_type": "stream",
     "text": [
      "CPU times: user 1min 14s, sys: 60 ms, total: 1min 14s\n",
      "Wall time: 1min 14s\n"
     ]
    },
    {
     "data": {
      "text/plain": [
       "22423"
      ]
     },
     "execution_count": 7,
     "metadata": {},
     "output_type": "execute_result"
    }
   ],
   "source": [
    "%%time\n",
    "\n",
    "generate_key('zpqevtbw', stretched_to=2016)"
   ]
  }
 ],
 "metadata": {
  "kernelspec": {
   "display_name": "Python 3",
   "language": "python",
   "name": "python3"
  },
  "language_info": {
   "codemirror_mode": {
    "name": "ipython",
    "version": 3
   },
   "file_extension": ".py",
   "mimetype": "text/x-python",
   "name": "python",
   "nbconvert_exporter": "python",
   "pygments_lexer": "ipython3",
   "version": "3.5.2+"
  }
 },
 "nbformat": 4,
 "nbformat_minor": 2
}
