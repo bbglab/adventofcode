{
 "cells": [
  {
   "cell_type": "markdown",
   "metadata": {
    "collapsed": false
   },
   "source": [
    "# Chellenge 4\n",
    "\n",
    "## Challenge 4.1"
   ]
  },
  {
   "cell_type": "code",
   "execution_count": 54,
   "metadata": {
    "collapsed": true
   },
   "outputs": [],
   "source": [
    "myinput = '/home/fmuinos/projects/adventofcode/2016/ferran/inputs/input4.txt'"
   ]
  },
  {
   "cell_type": "code",
   "execution_count": 89,
   "metadata": {
    "collapsed": false
   },
   "outputs": [
    {
     "name": "stdout",
     "output_type": "stream",
     "text": [
      "974 inputs/input4.txt\r\n"
     ]
    }
   ],
   "source": [
    "! wc -l inputs/input4.txt"
   ]
  },
  {
   "cell_type": "code",
   "execution_count": 82,
   "metadata": {
    "collapsed": false
   },
   "outputs": [],
   "source": [
    "def name_id_check(room):\n",
    "    name = '-'.join(room.split('-')[:-1])\n",
    "    tail = room.split('-')[-1]\n",
    "    aidee = int(tail.split('[')[0])\n",
    "    check = tail.split('[')[1][:-1]\n",
    "    return name, aidee, check\n",
    "\n",
    "def checksum(name):\n",
    "    char_dict = {char: 0 for char in name}\n",
    "    for char in name:\n",
    "        char_dict[char] += 1\n",
    "    realcheck = sorted(char_dict.items(), key=lambda x: (-x[1],x[0]), reverse=False)\n",
    "    realcheck = ''.join(list(zip(*realcheck))[0][:5])\n",
    "    return realcheck\n",
    "    \n",
    "def is_real(room):\n",
    "    name, aidee, check = name_id_check(room)\n",
    "    name = ''.join(name.split('-'))\n",
    "    if checksum(name) == check:\n",
    "        return aidee\n",
    "    else:\n",
    "        return 0\n",
    "\n",
    "def sum_real_ids(path):\n",
    "    with open(path,'rt') as f:\n",
    "        count = 0\n",
    "        for line in f:\n",
    "            room = line.rstrip()\n",
    "            count += is_real(room)\n",
    "    return count"
   ]
  },
  {
   "cell_type": "code",
   "execution_count": 83,
   "metadata": {
    "collapsed": false
   },
   "outputs": [
    {
     "data": {
      "text/plain": [
       "361724"
      ]
     },
     "execution_count": 83,
     "metadata": {},
     "output_type": "execute_result"
    }
   ],
   "source": [
    "sum_real_ids(myinput)"
   ]
  },
  {
   "cell_type": "markdown",
   "metadata": {},
   "source": [
    "## Challenge 4.2"
   ]
  },
  {
   "cell_type": "code",
   "execution_count": 84,
   "metadata": {
    "collapsed": false
   },
   "outputs": [],
   "source": [
    "def write_real_rooms(inpath, outpath):\n",
    "    with open(inpath,'rt') as f:\n",
    "        with open(outpath, 'wt') as g:\n",
    "            for line in f:\n",
    "                if is_real(line.rstrip()):\n",
    "                    g.write(line)"
   ]
  },
  {
   "cell_type": "code",
   "execution_count": 85,
   "metadata": {
    "collapsed": false
   },
   "outputs": [],
   "source": [
    "write_real_rooms(myinput, 'inputs/input4-filt.txt')\n",
    "mynewinput = '/home/fmuinos/projects/adventofcode/2016/ferran/inputs/input4-filt.txt'"
   ]
  },
  {
   "cell_type": "code",
   "execution_count": 87,
   "metadata": {
    "collapsed": false
   },
   "outputs": [
    {
     "name": "stdout",
     "output_type": "stream",
     "text": [
      "666 inputs/input4-filt.txt\r\n"
     ]
    }
   ],
   "source": [
    "! wc -l inputs/input4-filt.txt"
   ]
  },
  {
   "cell_type": "code",
   "execution_count": 122,
   "metadata": {
    "collapsed": false
   },
   "outputs": [],
   "source": [
    "alphabet = 'abcdefghijklmnopqrstuvwxyz'\n",
    "cypher = dict(enumerate(alphabet))\n",
    "revcypher = dict(map(lambda i:(i[1],i[0]), list(cypher.items())))\n",
    "\n",
    "def shift_decypher(name, aidee):\n",
    "    decypher = []\n",
    "    for char in name:\n",
    "        if not char == '-':\n",
    "            new_char = cypher[(revcypher[char] + aidee) % 26]\n",
    "            decypher.append(new_char)\n",
    "        else:\n",
    "            decypher.append(' ')\n",
    "    return ''.join(decypher)\n",
    "\n",
    "def write_decyphered_rooms(inpath, outpath):\n",
    "    with open(inpath,'rt') as f:\n",
    "        with open(outpath, 'wt') as g:\n",
    "            for line in f:\n",
    "                room = line.rstrip()\n",
    "                name, aidee, check = name_id_check(room)\n",
    "                g.write(shift_decypher(name, aidee)+' {}'.format(aidee)+'\\n')"
   ]
  },
  {
   "cell_type": "code",
   "execution_count": 123,
   "metadata": {
    "collapsed": false
   },
   "outputs": [],
   "source": [
    "write_decyphered_rooms(mynewinput,'inputs/input4-decyphered.txt')"
   ]
  },
  {
   "cell_type": "code",
   "execution_count": 125,
   "metadata": {
    "collapsed": false
   },
   "outputs": [
    {
     "name": "stdout",
     "output_type": "stream",
     "text": [
      "northpole object storage 482\r\n"
     ]
    }
   ],
   "source": [
    "! cat inputs/input4-decyphered.txt | grep northpole"
   ]
  }
 ],
 "metadata": {
  "anaconda-cloud": {},
  "kernelspec": {
   "display_name": "Python [conda env:adventofcode]",
   "language": "python",
   "name": "conda-env-adventofcode-py"
  },
  "language_info": {
   "codemirror_mode": {
    "name": "ipython",
    "version": 3
   },
   "file_extension": ".py",
   "mimetype": "text/x-python",
   "name": "python",
   "nbconvert_exporter": "python",
   "pygments_lexer": "ipython3",
   "version": "3.5.2"
  }
 },
 "nbformat": 4,
 "nbformat_minor": 1
}
