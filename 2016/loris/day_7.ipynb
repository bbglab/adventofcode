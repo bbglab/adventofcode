{
 "cells": [
  {
   "cell_type": "markdown",
   "metadata": {},
   "source": [
    "# Advent of Code 2016m"
   ]
  },
  {
   "cell_type": "raw",
   "metadata": {},
   "source": [
    "--- Day 7: Internet Protocol Version 7 ---\n",
    "\n",
    "While snooping around the local network of EBHQ, you compile a list of IP addresses (they're IPv7, of course; IPv6 is much too limited). You'd like to figure out which IPs support TLS (transport-layer snooping).\n",
    "\n",
    "An IP supports TLS if it has an Autonomous Bridge Bypass Annotation, or ABBA. An ABBA is any four-character sequence which consists of a pair of two different characters followed by the reverse of that pair, such as xyyx or abba. However, the IP also must not have an ABBA within any hypernet sequences, which are contained by square brackets.\n",
    "\n",
    "For example:\n",
    "\n",
    "- abba[mnop]qrst supports TLS (abba outside square brackets).\n",
    "- abcd[bddb]xyyx does not support TLS (bddb is within square brackets, even though xyyx is outside square brackets).\n",
    "- aaaa[qwer]tyui does not support TLS (aaaa is invalid; the interior - characters must be different).\n",
    "- ioxxoj[asdfgh]zxcvbn supports TLS (oxxo is outside square brackets, even though it's within a larger string).\n",
    "\n",
    "How many IPs in your puzzle input support TLS?"
   ]
  },
  {
   "cell_type": "code",
   "execution_count": 1,
   "metadata": {
    "collapsed": true
   },
   "outputs": [],
   "source": [
    "import re"
   ]
  },
  {
   "cell_type": "code",
   "execution_count": 2,
   "metadata": {
    "collapsed": true
   },
   "outputs": [],
   "source": [
    "def get_tls(data):\n",
    "    regex = re.compile(r'(\\w)(\\w)\\2\\1')\n",
    "    tls = 0\n",
    "    for line in data:\n",
    "        line = line.replace('[', '-').replace(']', '-').split('-')\n",
    "        good = '-'.join([line[i] for i in range(len(line)) if i % 2 == 0])\n",
    "        bad = '-'.join([line[i] for i in range(len(line)) if i % 2 == 1])\n",
    "        if regex.findall(good) and not regex.findall(bad):\n",
    "            tls_ = regex.search(good)\n",
    "            if tls_.group()[0] != tls_.group()[1]:\n",
    "                tls += 1\n",
    "    return tls"
   ]
  },
  {
   "cell_type": "code",
   "execution_count": 3,
   "metadata": {
    "collapsed": false
   },
   "outputs": [],
   "source": [
    "def is_tls(array):\n",
    "    for tls_ in [array[i: i + 4] for i in range(len(array) - 3)]:\n",
    "        if tls_[0] == tls_[-1] and tls_[1] == tls_[2] and tls_[0] != tls_[1]:\n",
    "            return True\n",
    "    return False\n",
    "\n",
    "def count_tls(data):\n",
    "    tls = 0\n",
    "    for line in data:\n",
    "        line = line.replace('[', '-').replace(']', '-').split('-')\n",
    "        good = '-'.join([line[i] for i in range(len(line)) if i % 2 == 0])\n",
    "        bad = '-'.join([line[i] for i in range(len(line)) if i % 2 == 1])\n",
    "        if is_tls(good) and not is_tls(bad):\n",
    "            tls += 1\n",
    "    return tls"
   ]
  },
  {
   "cell_type": "code",
   "execution_count": 4,
   "metadata": {
    "collapsed": false
   },
   "outputs": [],
   "source": [
    "# Test\n",
    "data = [\n",
    "    'abba[mnop]qrst',  # True\n",
    "    'abcd[bddb]xyyx',  # False\n",
    "    'aaaa[qwer]tyui',  # False\n",
    "    'ioxxoj[asdfgh]zxcvbn'  # True\n",
    "]\n",
    "\n",
    "assert count_tls(data) == 2"
   ]
  },
  {
   "cell_type": "code",
   "execution_count": 5,
   "metadata": {
    "collapsed": false
   },
   "outputs": [
    {
     "data": {
      "text/plain": [
       "118"
      ]
     },
     "execution_count": 5,
     "metadata": {},
     "output_type": "execute_result"
    }
   ],
   "source": [
    "data = [line.strip() for line in open('data/day_7.txt', 'r')]\n",
    "count_tls(data)"
   ]
  },
  {
   "cell_type": "raw",
   "metadata": {},
   "source": [
    "--- Part Two ---\n",
    "\n",
    "You would also like to know which IPs support SSL (super-secret listening).\n",
    "\n",
    "An IP supports SSL if it has an Area-Broadcast Accessor, or ABA, anywhere in the supernet sequences (outside any square bracketed sections), and a corresponding Byte Allocation Block, or BAB, anywhere in the hypernet sequences. An ABA is any three-character sequence which consists of the same character twice with a different character between them, such as xyx or aba. A corresponding BAB is the same characters but in reversed positions: yxy and bab, respectively.\n",
    "\n",
    "For example:\n",
    "\n",
    "- aba[bab]xyz supports SSL (aba outside square brackets with corresponding bab within square brackets).\n",
    "- xyx[xyx]xyx does not support SSL (xyx, but no corresponding yxy).\n",
    "- aaa[kek]eke supports SSL (eke in supernet with corresponding kek in hypernet; the aaa sequence is not related, because the interior character must be different).\n",
    "- zazbz[bzb]cdb supports SSL (zaz has no corresponding aza, but zbz has a corresponding bzb, even though zaz and zbz overlap).\n",
    "\n",
    "How many IPs in your puzzle input support SSL?"
   ]
  },
  {
   "cell_type": "code",
   "execution_count": 6,
   "metadata": {
    "collapsed": true
   },
   "outputs": [],
   "source": [
    "def get_tls(data):\n",
    "    ssl = 0\n",
    "    for line in data:\n",
    "        line = line.replace('[', '-').replace(']', '-').split('-')\n",
    "        good = '-'.join([line[i] for i in range(len(line)) if i % 2 == 0])\n",
    "        bad = '-'.join([line[i] for i in range(len(line)) if i % 2 == 1])\n",
    "        for ssl_ in [good[i: i + 3] for i in range(len(good) - 2)]:\n",
    "            if ssl_[0] == ssl_[-1] and ssl_[0] != ssl_[1]:\n",
    "                regex_bab = re.compile(r'{}{}{}'.format(ssl_[1], ssl_[0], ssl_[1]))\n",
    "                if regex_bab.search(bad):\n",
    "                    ssl += 1\n",
    "                    break\n",
    "    return ssl"
   ]
  },
  {
   "cell_type": "code",
   "execution_count": 7,
   "metadata": {
    "collapsed": true
   },
   "outputs": [],
   "source": [
    "# Test\n",
    "data = [\n",
    "    'aba[bab]xyz',  # True\n",
    "    'xyx[xyx]xyx',  # False\n",
    "    'aaa[kek]eke',  # True\n",
    "    'zazbz[bzb]cdb'  # True\n",
    "]\n",
    "\n",
    "assert get_tls(data) == 3"
   ]
  },
  {
   "cell_type": "code",
   "execution_count": 8,
   "metadata": {
    "collapsed": false
   },
   "outputs": [
    {
     "data": {
      "text/plain": [
       "260"
      ]
     },
     "execution_count": 8,
     "metadata": {},
     "output_type": "execute_result"
    }
   ],
   "source": [
    "data = [line.strip() for line in open('data/day_7.txt', 'r')]\n",
    "get_tls(data)"
   ]
  }
 ],
 "metadata": {
  "kernelspec": {
   "display_name": "Python 3",
   "language": "python",
   "name": "python3"
  },
  "language_info": {
   "codemirror_mode": {
    "name": "ipython",
    "version": 3
   },
   "file_extension": ".py",
   "mimetype": "text/x-python",
   "name": "python",
   "nbconvert_exporter": "python",
   "pygments_lexer": "ipython3",
   "version": "3.5.2+"
  }
 },
 "nbformat": 4,
 "nbformat_minor": 2
}
