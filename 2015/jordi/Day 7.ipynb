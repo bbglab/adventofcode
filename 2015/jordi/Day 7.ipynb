{
 "cells": [
  {
   "cell_type": "markdown",
   "metadata": {},
   "source": [
    "# Day 7: Some Assembly Required ---\n",
    "\n",
    "```\n",
    "This year, Santa brought little Bobby Tables a set of wires and bitwise logic gates! Unfortunately, little Bobby is a little under the recommended age range, and he needs help assembling the circuit.\n",
    "\n",
    "Each wire has an identifier (some lowercase letters) and can carry a 16-bit signal (a number from 0 to 65535). A signal is provided to each wire by a gate, another wire, or some specific value. Each wire can only get a signal from one source, but can provide its signal to multiple destinations. A gate provides no signal until all of its inputs have a signal.\n",
    "\n",
    "The included instructions booklet describe how to connect the parts together: x AND y -> z means to connect wires x and y to an AND gate, and then connect its output to wire z.\n",
    "\n",
    "For example:\n",
    "\n",
    "123 -> x means that the signal 123 is provided to wire x.\n",
    "x AND y -> z means that the bitwise AND of wire x and wire y is provided to wire z.\n",
    "p LSHIFT 2 -> q means that the value from wire p is left-shifted by 2 and then provided to wire q.\n",
    "NOT e -> f means that the bitwise complement of the value from wire e is provided to wire f.\n",
    "Other possible gates include OR (bitwise OR) and RSHIFT (right-shift). If, for some reason, you'd like to emulate the circuit instead, almost all programming languages (for example, C, JavaScript, or Python) provide operators for these gates.\n",
    "\n",
    "For example, here is a simple circuit:\n",
    "\n",
    "123 -> x\n",
    "456 -> y\n",
    "x AND y -> d\n",
    "x OR y -> e\n",
    "x LSHIFT 2 -> f\n",
    "y RSHIFT 2 -> g\n",
    "NOT x -> h\n",
    "NOT y -> i\n",
    "After it is run, these are the signals on the wires:\n",
    "\n",
    "d: 72\n",
    "e: 507\n",
    "f: 492\n",
    "g: 114\n",
    "h: 65412\n",
    "i: 65079\n",
    "x: 123\n",
    "y: 456\n",
    "In little Bobby's kit's instructions booklet (provided as your puzzle input), what signal is ultimately provided to wire a?\n",
    "```"
   ]
  },
  {
   "cell_type": "code",
   "execution_count": 21,
   "metadata": {
    "collapsed": false
   },
   "outputs": [],
   "source": [
    "import re\n",
    "\n",
    "_LOGIC_OP = re.compile(\"([a-z0-9]+) (AND|OR) ([a-z0-9]+) -> ([a-z0-9]+)\")\n",
    "_SHIFT_OP = re.compile(\"([a-z0-9]+) (LSHIFT|RSHIFT) ([0-9]+) -> ([a-z0-9]+)\")\n",
    "_NOT_OP = re.compile(\"NOT ([a-z0-9]+) -> ([a-z0-9]+)\")\n",
    "_ASSIGN_OP = re.compile(\"([0-9]+) -> ([a-z0-9]+)\")\n",
    "_CONNECT_OP = re.compile(\"([a-z]+) -> ([a-z0-9]+)\")\n",
    "\n",
    "_OP_FUNC = {\n",
    "    'AND': lambda x, y: value(x) & value(y),\n",
    "    'OR': lambda x, y: value(x) | value(y),\n",
    "    'LSHIFT': lambda x, y: value(x) << y,\n",
    "    'RSHIFT': lambda x, y: value(x) >> y,\n",
    "    'NOT': lambda x: ~value(x)\n",
    "}\n",
    "\n",
    "# Extract a value from a function\n",
    "def value(x):\n",
    "    if callable(x):\n",
    "        return value(x())\n",
    "    return x & 0xffff\n",
    "\n",
    "\n",
    "# Extract wire\n",
    "def get_wire(p_ins, wire):\n",
    "\n",
    "    if wire in p_ins:\n",
    "        v = p_ins[wire]\n",
    "        while callable(v):\n",
    "            v = v()\n",
    "            p_ins[wire] = v\n",
    "        return v\n",
    "\n",
    "    return int(wire)\n",
    "\n",
    "# Functions to encapsulate values\n",
    "def _logic_op(p_ins, op, wire_left, wire_right):\n",
    "    return lambda: _OP_FUNC[op](lambda: get_wire(p_ins, wire_left), get_wire(p_ins, wire_right))\n",
    "\n",
    "\n",
    "def _shift_op(p_ins, op, shift, wire_left):\n",
    "    return lambda: _OP_FUNC[op](lambda: get_wire(p_ins, wire_left), int(shift))\n",
    "\n",
    "\n",
    "def _not_op(p_ins, wire_left):\n",
    "    return lambda: _OP_FUNC['NOT'](lambda: get_wire(p_ins, wire_left))\n",
    "\n",
    "\n",
    "def _connect_op(p_ins, wire_left):\n",
    "    return lambda: p_ins[wire_left]\n",
    "\n",
    "\n",
    "# Parse and load all the instructions\n",
    "def load_instructions(instructions):\n",
    "\n",
    "    p_ins = {}\n",
    "    for i in instructions:\n",
    "\n",
    "        # Logic operation\n",
    "        m = _LOGIC_OP.match(i)\n",
    "        if m:\n",
    "            wire_left, op, wire_right, wire = m.groups()\n",
    "            p_ins[wire] = _logic_op(p_ins, op, wire_left, wire_right)\n",
    "            continue\n",
    "\n",
    "        # Shift operation\n",
    "        m = _SHIFT_OP.match(i)\n",
    "        if m:\n",
    "            wire_left, op, shift, wire = m.groups()\n",
    "            p_ins[wire] = _shift_op(p_ins, op, shift, wire_left)\n",
    "            continue\n",
    "\n",
    "        # Not operation\n",
    "        m = _NOT_OP.match(i)\n",
    "        if m:\n",
    "            wire_left, wire = m.groups()\n",
    "            p_ins[wire] = _not_op(p_ins, wire_left)\n",
    "            continue\n",
    "\n",
    "        # Value connected to a wire\n",
    "        m = _ASSIGN_OP.match(i)\n",
    "        if m:\n",
    "            value, wire = m.groups()\n",
    "            p_ins[wire] = int(value)\n",
    "            continue\n",
    "\n",
    "        # Two wires connected\n",
    "        m = _CONNECT_OP.match(i)\n",
    "        if m:\n",
    "            wire_left, wire = m.groups()\n",
    "            p_ins[wire] = _connect_op(p_ins, wire_left)\n",
    "            continue\n",
    "\n",
    "    return p_ins           "
   ]
  },
  {
   "cell_type": "code",
   "execution_count": 24,
   "metadata": {
    "collapsed": false
   },
   "outputs": [
    {
     "name": "stdout",
     "output_type": "stream",
     "text": [
      "d: 72 =  72\n",
      "e: 507 =  507\n",
      "f: 492 =  492\n",
      "g: 114 =  114\n",
      "h: 65412 =  65412\n",
      "i: 65079 =  65079\n",
      "x: 123 =  123\n",
      "y: 456 =  456\n",
      "CPU times: user 374 µs, sys: 0 ns, total: 374 µs\n",
      "Wall time: 384 µs\n"
     ]
    }
   ],
   "source": [
    "%%time\n",
    "# Test example\n",
    "ins = [\n",
    "    \"123 -> x\",\n",
    "    \"456 -> y\",\n",
    "    \"x AND y -> d\",\n",
    "    \"x OR y -> e\",\n",
    "    \"x LSHIFT 2 -> f\",\n",
    "    \"y RSHIFT 2 -> g\",\n",
    "    \"NOT x -> h\",\n",
    "    \"NOT y -> i\"\n",
    "]\n",
    "\n",
    "ains = load_instructions(ins)\n",
    "print(\"d: 72 = \", value(ains['d']))\n",
    "print(\"e: 507 = \", value(ains['e']))\n",
    "print(\"f: 492 = \", value(ains['f']))\n",
    "print(\"g: 114 = \", value(ains['g']))\n",
    "print(\"h: 65412 = \", value(ains['h']))\n",
    "print(\"i: 65079 = \", value(ains['i']))\n",
    "print(\"x: 123 = \", value(ains['x']))\n",
    "print(\"y: 456 = \", value(ains['y']))"
   ]
  },
  {
   "cell_type": "code",
   "execution_count": 26,
   "metadata": {
    "collapsed": false
   },
   "outputs": [
    {
     "name": "stdout",
     "output_type": "stream",
     "text": [
      "a =  46065\n",
      "CPU times: user 12.9 ms, sys: 3 µs, total: 12.9 ms\n",
      "Wall time: 13 ms\n"
     ]
    }
   ],
   "source": [
    "%%time\n",
    "\n",
    "# Load input\n",
    "with open('day7/input.txt', 'rt') as fd:\n",
    "    ains = load_instructions(fd)\n",
    "    \n",
    "print(\"a = \", value(ains['a']))"
   ]
  },
  {
   "cell_type": "markdown",
   "metadata": {},
   "source": [
    "## Part Two \n",
    "\n",
    "```\n",
    "Now, take the signal you got on wire a, override wire b to that signal, and reset the other wires (including wire a). What new signal is ultimately provided to wire a?\n",
    "```"
   ]
  },
  {
   "cell_type": "code",
   "execution_count": 28,
   "metadata": {
    "collapsed": false
   },
   "outputs": [
    {
     "name": "stdout",
     "output_type": "stream",
     "text": [
      "a =  14134\n"
     ]
    }
   ],
   "source": [
    "# Load input\n",
    "with open('day7/input.txt', 'rt') as fd:\n",
    "    ains = load_instructions(fd.readlines() + ['46065 -> b'])\n",
    "    \n",
    "print(\"a = \", value(ains['a']))"
   ]
  }
 ],
 "metadata": {
  "kernelspec": {
   "display_name": "Python 3",
   "language": "python",
   "name": "python3"
  },
  "language_info": {
   "codemirror_mode": {
    "name": "ipython",
    "version": 3
   },
   "file_extension": ".py",
   "mimetype": "text/x-python",
   "name": "python",
   "nbconvert_exporter": "python",
   "pygments_lexer": "ipython3",
   "version": "3.4.3"
  }
 },
 "nbformat": 4,
 "nbformat_minor": 0
}
