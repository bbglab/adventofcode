{
 "cells": [
  {
   "cell_type": "markdown",
   "metadata": {},
   "source": [
    "# Day 18: Medicine for Rudolph\n",
    "\n",
    "## Day 18.1"
   ]
  },
  {
   "cell_type": "code",
   "execution_count": 74,
   "metadata": {
    "ExecuteTime": {
     "end_time": "2017-12-17T20:36:01.593127",
     "start_time": "2017-12-17T20:36:01.563078"
    },
    "collapsed": true
   },
   "outputs": [],
   "source": [
    "import csv\n",
    "\n",
    "target = ''\n",
    "reactions = []\n",
    "with open('inputs/input18.txt', 'rt') as f_input:\n",
    "    csv_reader = csv.reader(f_input, delimiter=' ')\n",
    "    for line in csv_reader:\n",
    "        if len(line) == 3:\n",
    "            reactions.append((line[0], line[2]))\n",
    "        elif len(line) == 1:\n",
    "            target = line[0]"
   ]
  },
  {
   "cell_type": "code",
   "execution_count": 75,
   "metadata": {
    "ExecuteTime": {
     "end_time": "2017-12-17T20:36:02.262494",
     "start_time": "2017-12-17T20:36:02.245997"
    }
   },
   "outputs": [
    {
     "name": "stdout",
     "output_type": "stream",
     "text": [
      "[('Al', 'ThF'), ('Al', 'ThRnFAr'), ('B', 'BCa'), ('B', 'TiB'), ('B', 'TiRnFAr'), ('Ca', 'CaCa'), ('Ca', 'PB'), ('Ca', 'PRnFAr'), ('Ca', 'SiRnFYFAr'), ('Ca', 'SiRnMgAr'), ('Ca', 'SiTh'), ('F', 'CaF'), ('F', 'PMg'), ('F', 'SiAl'), ('H', 'CRnAlAr'), ('H', 'CRnFYFYFAr'), ('H', 'CRnFYMgAr'), ('H', 'CRnMgYFAr'), ('H', 'HCa'), ('H', 'NRnFYFAr'), ('H', 'NRnMgAr'), ('H', 'NTh'), ('H', 'OB'), ('H', 'ORnFAr'), ('Mg', 'BF'), ('Mg', 'TiMg'), ('N', 'CRnFAr'), ('N', 'HSi'), ('O', 'CRnFYFAr'), ('O', 'CRnMgAr'), ('O', 'HP'), ('O', 'NRnFAr'), ('O', 'OTi'), ('P', 'CaP'), ('P', 'PTi'), ('P', 'SiRnFAr'), ('Si', 'CaSi'), ('Th', 'ThCa'), ('Ti', 'BP'), ('Ti', 'TiTi'), ('e', 'HF'), ('e', 'NAl'), ('e', 'OMg')]\n"
     ]
    }
   ],
   "source": [
    "print(reactions)"
   ]
  },
  {
   "cell_type": "code",
   "execution_count": 76,
   "metadata": {
    "ExecuteTime": {
     "end_time": "2017-12-17T20:36:02.948563",
     "start_time": "2017-12-17T20:36:02.926857"
    }
   },
   "outputs": [
    {
     "name": "stdout",
     "output_type": "stream",
     "text": [
      "CRnCaCaCaSiRnBPTiMgArSiRnSiRnMgArSiRnCaFArTiTiBSiThFYCaFArCaCaSiThCaPBSiThSiThCaCaPTiRnPBSiThRnFArArCaCaSiThCaSiThSiRnMgArCaPTiBPRnFArSiThCaSiRnFArBCaSiRnCaPRnFArPMgYCaFArCaPTiTiTiBPBSiThCaPTiBPBSiRnFArBPBSiRnCaFArBPRnSiRnFArRnSiRnBFArCaFArCaCaCaSiThSiThCaCaPBPTiTiRnFArCaPTiBSiAlArPBCaCaCaCaCaSiRnMgArCaSiThFArThCaSiThCaSiRnCaFYCaSiRnFYFArFArCaSiRnFYFArCaSiRnBPMgArSiThPRnFArCaSiRnFArTiRnSiRnFYFArCaSiRnBFArCaSiRnTiMgArSiThCaSiThCaFArPRnFArSiRnFArTiTiTiTiBCaCaSiRnCaCaFYFArSiThCaPTiBPTiBCaSiThSiRnMgArCaF\n"
     ]
    }
   ],
   "source": [
    "print(target)"
   ]
  },
  {
   "cell_type": "code",
   "execution_count": 66,
   "metadata": {
    "ExecuteTime": {
     "end_time": "2017-12-17T20:34:39.856210",
     "start_time": "2017-12-17T20:34:39.795822"
    },
    "collapsed": true
   },
   "outputs": [],
   "source": [
    "import re\n",
    "\n",
    "def count_molecules(target, reactions):\n",
    "    visited = set()\n",
    "    count = 0\n",
    "    while reactions:\n",
    "        r = reactions.pop()\n",
    "        le = len(r[0])\n",
    "        if le == 1:\n",
    "            m = re.finditer('({0}[A-Z]|{0}$)'.format(r[0]), target)\n",
    "        elif le == 2:\n",
    "            m = re.finditer(r[0], target)\n",
    "        for overlap in m:\n",
    "            i = overlap.span()[0]\n",
    "            outcome = hash(target[:i] + r[1] + target[i + le:])\n",
    "            if outcome not in visited:\n",
    "                visited.add(outcome)\n",
    "                count += 1\n",
    "    return count"
   ]
  },
  {
   "cell_type": "markdown",
   "metadata": {},
   "source": [
    "### Test"
   ]
  },
  {
   "cell_type": "code",
   "execution_count": 67,
   "metadata": {
    "ExecuteTime": {
     "end_time": "2017-12-17T20:34:41.385056",
     "start_time": "2017-12-17T20:34:41.365679"
    },
    "collapsed": true
   },
   "outputs": [],
   "source": [
    "target_test = 'HOHOHO'\n",
    "reactions_test = [('H', 'HO'), ('H', 'OH'), ('O', 'HH')]\n",
    "assert(count_molecules(target_test, reactions_test) == 7)"
   ]
  },
  {
   "cell_type": "markdown",
   "metadata": {},
   "source": [
    "### Solution"
   ]
  },
  {
   "cell_type": "code",
   "execution_count": 68,
   "metadata": {
    "ExecuteTime": {
     "end_time": "2017-12-17T20:34:42.313033",
     "start_time": "2017-12-17T20:34:42.283592"
    }
   },
   "outputs": [
    {
     "data": {
      "text/plain": [
       "535"
      ]
     },
     "execution_count": 68,
     "metadata": {},
     "output_type": "execute_result"
    }
   ],
   "source": [
    "count_molecules(target, reactions)"
   ]
  },
  {
   "cell_type": "markdown",
   "metadata": {},
   "source": [
    "## Day 18.2"
   ]
  },
  {
   "cell_type": "code",
   "execution_count": 114,
   "metadata": {
    "ExecuteTime": {
     "end_time": "2017-12-17T21:29:56.684556",
     "start_time": "2017-12-17T21:29:56.598423"
    },
    "collapsed": true
   },
   "outputs": [],
   "source": [
    "def replace(rpl, motif, molecule):\n",
    "    le = len(motif)\n",
    "    m = re.finditer(motif, molecule)\n",
    "    for overlap in m:\n",
    "        i = overlap.span()[0]\n",
    "        yield molecule[:i] + rpl + molecule[i + le:]\n",
    "        \n",
    "def all_ancestors(molecule, reactions):\n",
    "    for r in sorted(reactions, key=lambda x: x[1], reverse=True):\n",
    "        for ancestor in replace(r[0], r[1], molecule):\n",
    "            yield ancestor\n",
    "            \n",
    "def min_path(molecule, reactions):\n",
    "    min_length = 30\n",
    "    queue = [(molecule, 0)]\n",
    "    visited = set()\n",
    "    while queue:\n",
    "        mol, path_len = queue.pop()\n",
    "        if mol == 'e':\n",
    "            min_length = min(min_length, path_len)\n",
    "            print(min_length)\n",
    "        else:\n",
    "            if path_len < min_length:\n",
    "                for ancestor in all_ancestors(mol, reactions):\n",
    "                    if ('e' not in ancestor) or (ancestor == 'e'):\n",
    "                        ancestor_hash = hash(ancestor) \n",
    "                        if ancestor_hash not in visited:\n",
    "                            queue.append((ancestor, path_len + 1))\n",
    "                            visited.add(ancestor_hash)\n",
    "    return min_length"
   ]
  },
  {
   "cell_type": "markdown",
   "metadata": {},
   "source": [
    "### Test"
   ]
  },
  {
   "cell_type": "code",
   "execution_count": 111,
   "metadata": {
    "ExecuteTime": {
     "end_time": "2017-12-17T21:25:47.989092",
     "start_time": "2017-12-17T21:25:47.944679"
    }
   },
   "outputs": [
    {
     "name": "stdout",
     "output_type": "stream",
     "text": [
      "CPU times: user 4 ms, sys: 0 ns, total: 4 ms\n",
      "Wall time: 3.83 ms\n"
     ]
    }
   ],
   "source": [
    "%%time\n",
    "def test():\n",
    "    reactions_test = [('H', 'HO'), ('H', 'OH'), ('O', 'HH'), ('e', 'H'), ('e', 'O')]\n",
    "    assert(min_path('HOH', reactions_test) == 3)\n",
    "    assert(min_path('HOHOHO', reactions_test) == 6)\n",
    "test()"
   ]
  },
  {
   "cell_type": "code",
   "execution_count": 112,
   "metadata": {
    "ExecuteTime": {
     "end_time": "2017-12-17T21:25:56.021566",
     "start_time": "2017-12-17T21:25:55.817513"
    }
   },
   "outputs": [
    {
     "name": "stdout",
     "output_type": "stream",
     "text": [
      "19\n",
      "CPU times: user 184 ms, sys: 4 ms, total: 188 ms\n",
      "Wall time: 190 ms\n"
     ]
    }
   ],
   "source": [
    "%%time\n",
    "reactions_test = [('H', 'HO'), ('H', 'OH'), ('O', 'HH'), ('e', 'H'), ('e', 'O')]\n",
    "print(min_path('HOHOHOHOHOHHOHOHHOH', reactions_test))"
   ]
  },
  {
   "cell_type": "markdown",
   "metadata": {},
   "source": [
    "### Solution"
   ]
  },
  {
   "cell_type": "code",
   "execution_count": 116,
   "metadata": {
    "ExecuteTime": {
     "end_time": "2017-12-17T21:52:05.462213",
     "start_time": "2017-12-17T21:52:05.453405"
    },
    "collapsed": true
   },
   "outputs": [],
   "source": [
    "min_path(target, reactions)"
   ]
  },
  {
   "cell_type": "code",
   "execution_count": null,
   "metadata": {
    "collapsed": true
   },
   "outputs": [],
   "source": []
  }
 ],
 "metadata": {
  "kernelspec": {
   "display_name": "Python [conda env:adventofcode]",
   "language": "python",
   "name": "conda-env-adventofcode-py"
  },
  "language_info": {
   "codemirror_mode": {
    "name": "ipython",
    "version": 3
   },
   "file_extension": ".py",
   "mimetype": "text/x-python",
   "name": "python",
   "nbconvert_exporter": "python",
   "pygments_lexer": "ipython3",
   "version": "3.5.2"
  },
  "toc": {
   "colors": {
    "hover_highlight": "#DAA520",
    "running_highlight": "#FF0000",
    "selected_highlight": "#FFD700"
   },
   "moveMenuLeft": true,
   "nav_menu": {
    "height": "66px",
    "width": "252px"
   },
   "navigate_menu": true,
   "number_sections": true,
   "sideBar": true,
   "threshold": 4,
   "toc_cell": false,
   "toc_section_display": "block",
   "toc_window_display": false
  }
 },
 "nbformat": 4,
 "nbformat_minor": 2
}
