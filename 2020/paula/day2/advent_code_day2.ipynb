{
 "cells": [
  {
   "cell_type": "markdown",
   "metadata": {},
   "source": [
    "\n",
    "# Day 2"
   ]
  },
  {
   "cell_type": "code",
   "execution_count": 1,
   "metadata": {},
   "outputs": [],
   "source": [
    "count=0\n",
    "\n",
    "with open('input_day2.txt','r') as file:\n",
    "    for line in file:\n",
    "        elements=line.strip().split(\" \")\n",
    "        num=elements[0].split(\"-\")\n",
    "        n_min=int(num[0])\n",
    "        n_max=int(num[1])\n",
    "        letter=elements[1][0]\n",
    "        string=elements[2]\n",
    "        if string.count(letter)<=n_max and string.count(letter)>=n_min:\n",
    "            count+=1"
   ]
  },
  {
   "cell_type": "code",
   "execution_count": 2,
   "metadata": {},
   "outputs": [
    {
     "data": {
      "text/plain": [
       "515"
      ]
     },
     "execution_count": 2,
     "metadata": {},
     "output_type": "execute_result"
    }
   ],
   "source": [
    "count"
   ]
  },
  {
   "cell_type": "code",
   "execution_count": 3,
   "metadata": {},
   "outputs": [],
   "source": [
    "count=0\n",
    "\n",
    "with open('input_day2.txt','r') as file:\n",
    "    for line in file:\n",
    "        elements=line.strip().split(\" \")\n",
    "        num=elements[0].split(\"-\")\n",
    "        n_min=int(num[0])\n",
    "        n_max=int(num[1])\n",
    "        letter=elements[1][0]\n",
    "        string=elements[2]\n",
    "        if (string[n_min-1]==letter and string[n_max-1]!=letter) or (string[n_min-1]!=letter and string[n_max-1]==letter):\n",
    "            count+=1 "
   ]
  },
  {
   "cell_type": "code",
   "execution_count": 4,
   "metadata": {},
   "outputs": [
    {
     "data": {
      "text/plain": [
       "711"
      ]
     },
     "execution_count": 4,
     "metadata": {},
     "output_type": "execute_result"
    }
   ],
   "source": [
    "count"
   ]
  }
 ],
 "metadata": {
  "kernelspec": {
   "display_name": "Python 3",
   "language": "python",
   "name": "python3"
  },
  "language_info": {
   "codemirror_mode": {
    "name": "ipython",
    "version": 3
   },
   "file_extension": ".py",
   "mimetype": "text/x-python",
   "name": "python",
   "nbconvert_exporter": "python",
   "pygments_lexer": "ipython3",
   "version": "3.8.5"
  }
 },
 "nbformat": 4,
 "nbformat_minor": 4
}
