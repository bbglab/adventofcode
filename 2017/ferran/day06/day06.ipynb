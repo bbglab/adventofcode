{
 "cells": [
  {
   "cell_type": "markdown",
   "metadata": {},
   "source": [
    "# Memory Reallocation"
   ]
  },
  {
   "cell_type": "markdown",
   "metadata": {},
   "source": [
    "## Part 1"
   ]
  },
  {
   "cell_type": "code",
   "execution_count": 57,
   "metadata": {
    "ExecuteTime": {
     "end_time": "2017-12-06T11:11:31.611878",
     "start_time": "2017-12-06T11:11:31.580300"
    }
   },
   "outputs": [],
   "source": [
    "def reallocate(val, pos, n):\n",
    "        l = [val // n] * n\n",
    "        r = val % n\n",
    "        for i in range(r):\n",
    "            l[(pos + i + 1) % n] += 1\n",
    "        return l\n",
    "\n",
    "def update(b):\n",
    "    blocks = sorted(list(enumerate(b)), key=lambda v: (v[1], -v[0]), reverse=True)\n",
    "    pos = blocks[0][0]\n",
    "    val = blocks[0][1]\n",
    "    c = [b[i] if i != pos else 0 for i in range(len(b))]\n",
    "    l = reallocate(val, pos, len(b))\n",
    "    for i, v in enumerate(c):\n",
    "        c[i] += l[i]\n",
    "    return c\n",
    "\n",
    "def count_until_loop(b):\n",
    "    count = 0\n",
    "    previous = set()\n",
    "    h = hash(tuple(b))\n",
    "    while h not in previous:\n",
    "        previous.add(h)\n",
    "        count += 1\n",
    "        b = update(b)\n",
    "        h = hash(tuple(b))\n",
    "    return count"
   ]
  },
  {
   "cell_type": "markdown",
   "metadata": {
    "ExecuteTime": {
     "end_time": "2017-12-06T11:21:50.283617",
     "start_time": "2017-12-06T11:21:50.274136"
    }
   },
   "source": [
    "### Test"
   ]
  },
  {
   "cell_type": "code",
   "execution_count": 76,
   "metadata": {
    "ExecuteTime": {
     "end_time": "2017-12-06T11:25:07.323149",
     "start_time": "2017-12-06T11:25:07.312748"
    }
   },
   "outputs": [],
   "source": [
    "assert(count_until_loop([0, 2, 7, 0]) == 5)"
   ]
  },
  {
   "cell_type": "markdown",
   "metadata": {},
   "source": [
    "### Solution"
   ]
  },
  {
   "cell_type": "code",
   "execution_count": 78,
   "metadata": {
    "ExecuteTime": {
     "end_time": "2017-12-06T11:26:42.894688",
     "start_time": "2017-12-06T11:26:42.769974"
    }
   },
   "outputs": [
    {
     "data": {
      "text/plain": [
       "4074"
      ]
     },
     "execution_count": 78,
     "metadata": {},
     "output_type": "execute_result"
    }
   ],
   "source": [
    "input_blocks = [11, 11, 13, 7, 0, 15, 5, 5, 4, 4, 1, 1, 7, 1, 15, 11]\n",
    "count_until_loop(input_blocks)"
   ]
  },
  {
   "cell_type": "markdown",
   "metadata": {},
   "source": [
    "## Part 2"
   ]
  },
  {
   "cell_type": "code",
   "execution_count": 79,
   "metadata": {
    "ExecuteTime": {
     "end_time": "2017-12-06T11:33:14.353344",
     "start_time": "2017-12-06T11:33:14.337549"
    },
    "collapsed": true
   },
   "outputs": [],
   "source": [
    "def loop_size(b):\n",
    "    count = 0\n",
    "    last_seen = {}\n",
    "    h = hash(tuple(b))\n",
    "    while h not in last_seen:\n",
    "        last_seen[h] = count\n",
    "        count += 1\n",
    "        b = update(b)\n",
    "        h = hash(tuple(b))\n",
    "    return count - last_seen[h]"
   ]
  },
  {
   "cell_type": "markdown",
   "metadata": {},
   "source": [
    "### Test"
   ]
  },
  {
   "cell_type": "code",
   "execution_count": 81,
   "metadata": {
    "ExecuteTime": {
     "end_time": "2017-12-06T11:34:11.653172",
     "start_time": "2017-12-06T11:34:11.639637"
    }
   },
   "outputs": [],
   "source": [
    "assert(loop_size([0, 2, 7, 0]) == 4)"
   ]
  },
  {
   "cell_type": "markdown",
   "metadata": {},
   "source": [
    "### Solution"
   ]
  },
  {
   "cell_type": "code",
   "execution_count": 82,
   "metadata": {
    "ExecuteTime": {
     "end_time": "2017-12-06T11:35:04.000236",
     "start_time": "2017-12-06T11:35:03.882008"
    }
   },
   "outputs": [
    {
     "data": {
      "text/plain": [
       "2793"
      ]
     },
     "execution_count": 82,
     "metadata": {},
     "output_type": "execute_result"
    }
   ],
   "source": [
    "input_blocks = [11, 11, 13, 7, 0, 15, 5, 5, 4, 4, 1, 1, 7, 1, 15, 11]\n",
    "loop_size(input_blocks)"
   ]
  }
 ],
 "metadata": {
  "kernelspec": {
   "display_name": "Python [conda env:adventofcode]",
   "language": "python",
   "name": "conda-env-adventofcode-py"
  },
  "language_info": {
   "codemirror_mode": {
    "name": "ipython",
    "version": 3
   },
   "file_extension": ".py",
   "mimetype": "text/x-python",
   "name": "python",
   "nbconvert_exporter": "python",
   "pygments_lexer": "ipython3",
   "version": "3.5.2"
  },
  "toc": {
   "colors": {
    "hover_highlight": "#DAA520",
    "running_highlight": "#FF0000",
    "selected_highlight": "#FFD700"
   },
   "moveMenuLeft": true,
   "nav_menu": {
    "height": "66px",
    "width": "252px"
   },
   "navigate_menu": true,
   "number_sections": true,
   "sideBar": true,
   "threshold": 4,
   "toc_cell": false,
   "toc_section_display": "block",
   "toc_window_display": false
  }
 },
 "nbformat": 4,
 "nbformat_minor": 2
}
