{
 "cells": [
  {
   "cell_type": "markdown",
   "metadata": {},
   "source": [
    "# Advent of Code 2016"
   ]
  },
  {
   "cell_type": "raw",
   "metadata": {},
   "source": [
    "--- Day 6: Signals and Noise ---\n",
    "\n",
    "Something is jamming your communications with Santa. Fortunately, your signal is only partially jammed, and protocol in situations like this is to switch to a simple repetition code to get the message through.\n",
    "\n",
    "In this model, the same message is sent repeatedly. You've recorded the repeating message signal (your puzzle input), but the data seems quite corrupted - almost too badly to recover. Almost.\n",
    "\n",
    "All you need to do is figure out which character is most frequent for each position. For example, suppose you had recorded the following messages:\n",
    "\n",
    "eedadn\n",
    "drvtee\n",
    "eandsr\n",
    "raavrd\n",
    "atevrs\n",
    "tsrnev\n",
    "sdttsa\n",
    "rasrtv\n",
    "nssdts\n",
    "ntnada\n",
    "svetve\n",
    "tesnvt\n",
    "vntsnd\n",
    "vrdear\n",
    "dvrsen\n",
    "enarar\n",
    "\n",
    "The most common character in the first column is e; in the second, a; in the third, s, and so on. Combining these characters returns the error-corrected message, easter.\n",
    "\n",
    "Given the recording in your puzzle input, what is the error-corrected version of the message being sent?"
   ]
  },
  {
   "cell_type": "code",
   "execution_count": 1,
   "metadata": {
    "collapsed": true
   },
   "outputs": [],
   "source": [
    "from collections import Counter"
   ]
  },
  {
   "cell_type": "code",
   "execution_count": 2,
   "metadata": {
    "collapsed": true
   },
   "outputs": [],
   "source": [
    "def get_message(data):\n",
    "    freqs = [Counter([line[i] for line in data]) for i in range(len(data[0]))]\n",
    "    message = ''.join([freqs[i].most_common(1)[0][0] for i in range(len(freqs))])\n",
    "    return message"
   ]
  },
  {
   "cell_type": "code",
   "execution_count": 3,
   "metadata": {
    "collapsed": false
   },
   "outputs": [
    {
     "data": {
      "text/plain": [
       "'easter'"
      ]
     },
     "execution_count": 3,
     "metadata": {},
     "output_type": "execute_result"
    }
   ],
   "source": [
    "# Test\n",
    "data = [\n",
    "    'eedadn',\n",
    "    'drvtee',\n",
    "    'eandsr',\n",
    "    'raavrd',\n",
    "    'atevrs',\n",
    "    'tsrnev',\n",
    "    'sdttsa',\n",
    "    'rasrtv',\n",
    "    'nssdts',\n",
    "    'ntnada',\n",
    "    'svetve',\n",
    "    'tesnvt',\n",
    "    'vntsnd',\n",
    "    'vrdear',\n",
    "    'dvrsen',\n",
    "    'enarar'\n",
    "]\n",
    "\n",
    "get_message(data)"
   ]
  },
  {
   "cell_type": "code",
   "execution_count": 4,
   "metadata": {
    "collapsed": false
   },
   "outputs": [
    {
     "data": {
      "text/plain": [
       "'mshjnduc'"
      ]
     },
     "execution_count": 4,
     "metadata": {},
     "output_type": "execute_result"
    }
   ],
   "source": [
    "data = [line.strip() for line in open('data/day_6.txt', 'r')]\n",
    "get_message(data)"
   ]
  },
  {
   "cell_type": "raw",
   "metadata": {},
   "source": [
    "--- Part Two ---\n",
    "\n",
    "Of course, that would be the message - if you hadn't agreed to use a modified repetition code instead.\n",
    "\n",
    "In this modified code, the sender instead transmits what looks like random data, but for each character, the character they actually want to send is slightly less likely than the others. Even after signal-jamming noise, you can look at the letter distributions in each column and choose the least common letter to reconstruct the original message.\n",
    "\n",
    "In the above example, the least common character in the first column is a; in the second, d, and so on. Repeating this process for the remaining characters produces the original message, advent.\n",
    "\n",
    "Given the recording in your puzzle input and this new decoding methodology, what is the original message that Santa is trying to send?"
   ]
  },
  {
   "cell_type": "code",
   "execution_count": 5,
   "metadata": {
    "collapsed": true
   },
   "outputs": [],
   "source": [
    "def get_message(data):\n",
    "    freqs = [Counter([line[i] for line in data]) for i in range(len(data[0]))]\n",
    "    message = ''.join([sorted(freqs[i].items(), key=lambda x: x[1])[0][0] for i in range(len(freqs))])\n",
    "    return message"
   ]
  },
  {
   "cell_type": "code",
   "execution_count": 6,
   "metadata": {
    "collapsed": false
   },
   "outputs": [
    {
     "data": {
      "text/plain": [
       "'advent'"
      ]
     },
     "execution_count": 6,
     "metadata": {},
     "output_type": "execute_result"
    }
   ],
   "source": [
    "# Test\n",
    "data = [\n",
    "    'eedadn',\n",
    "    'drvtee',\n",
    "    'eandsr',\n",
    "    'raavrd',\n",
    "    'atevrs',\n",
    "    'tsrnev',\n",
    "    'sdttsa',\n",
    "    'rasrtv',\n",
    "    'nssdts',\n",
    "    'ntnada',\n",
    "    'svetve',\n",
    "    'tesnvt',\n",
    "    'vntsnd',\n",
    "    'vrdear',\n",
    "    'dvrsen',\n",
    "    'enarar'\n",
    "]\n",
    "\n",
    "get_message(data)"
   ]
  },
  {
   "cell_type": "code",
   "execution_count": 7,
   "metadata": {
    "collapsed": false
   },
   "outputs": [
    {
     "data": {
      "text/plain": [
       "'apfeeebz'"
      ]
     },
     "execution_count": 7,
     "metadata": {},
     "output_type": "execute_result"
    }
   ],
   "source": [
    "data = [line.strip() for line in open('data/day_6.txt', 'r')]\n",
    "get_message(data)"
   ]
  }
 ],
 "metadata": {
  "kernelspec": {
   "display_name": "Python 3",
   "language": "python",
   "name": "python3"
  },
  "language_info": {
   "codemirror_mode": {
    "name": "ipython",
    "version": 3
   },
   "file_extension": ".py",
   "mimetype": "text/x-python",
   "name": "python",
   "nbconvert_exporter": "python",
   "pygments_lexer": "ipython3",
   "version": "3.5.2+"
  }
 },
 "nbformat": 4,
 "nbformat_minor": 1
}
