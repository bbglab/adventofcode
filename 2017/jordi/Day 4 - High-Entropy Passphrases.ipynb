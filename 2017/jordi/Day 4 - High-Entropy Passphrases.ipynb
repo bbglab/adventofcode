{
 "cells": [
  {
   "cell_type": "markdown",
   "metadata": {},
   "source": [
    "# Part 1"
   ]
  },
  {
   "cell_type": "code",
   "execution_count": 15,
   "metadata": {},
   "outputs": [
    {
     "name": "stdout",
     "output_type": "stream",
     "text": [
      "325\n"
     ]
    }
   ],
   "source": [
    "function valid_pass(passphrase)\n",
    "    words = split(passphrase)\n",
    "    length(words) == length(Set(words))\n",
    "end\n",
    "\n",
    "open(\"inputs/day4.txt\") do fd    \n",
    "    valid = 0\n",
    "    for line in eachline(fd)\n",
    "        if valid_pass(line)\n",
    "            valid += 1\n",
    "        end\n",
    "    end    \n",
    "    println(valid)    \n",
    "end"
   ]
  },
  {
   "cell_type": "markdown",
   "metadata": {},
   "source": [
    "# Part 2"
   ]
  },
  {
   "cell_type": "code",
   "execution_count": 26,
   "metadata": {},
   "outputs": [
    {
     "name": "stdout",
     "output_type": "stream",
     "text": [
      "119\n"
     ]
    }
   ],
   "source": [
    "using DataStructures\n",
    "\n",
    "function valid_pass(passphrase)\n",
    "    words = map(x->counter(collect(x)), split(passphrase))\n",
    "    length(words) == length(Set(words))\n",
    "end\n",
    "\n",
    "open(\"inputs/day4.txt\") do fd    \n",
    "    valid = 0\n",
    "    for line in eachline(fd)\n",
    "        if valid_pass(line)\n",
    "            valid += 1\n",
    "        end\n",
    "    end    \n",
    "    println(valid)    \n",
    "end"
   ]
  },
  {
   "cell_type": "code",
   "execution_count": null,
   "metadata": {
    "collapsed": true
   },
   "outputs": [],
   "source": []
  }
 ],
 "metadata": {
  "kernelspec": {
   "display_name": "Julia 0.6.1",
   "language": "julia",
   "name": "julia-0.6"
  },
  "language_info": {
   "file_extension": ".jl",
   "mimetype": "application/julia",
   "name": "julia",
   "version": "0.6.1"
  }
 },
 "nbformat": 4,
 "nbformat_minor": 2
}
