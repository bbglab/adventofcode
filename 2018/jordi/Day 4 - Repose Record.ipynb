{
 "cells": [
  {
   "cell_type": "markdown",
   "metadata": {},
   "source": [
    "```\n",
    "You've sneaked into another supply closet - this time, it's across from the prototype suit manufacturing lab. You need to sneak inside and fix the issues with the suit, but there's a guard stationed outside the lab, so this is as close as you can safely get.\n",
    "\n",
    "As you search the closet for anything that might help, you discover that you're not the first person to want to sneak in. Covering the walls, someone has spent an hour starting every midnight for the past few months secretly observing this guard post! They've been writing down the ID of the one guard on duty that night - the Elves seem to have decided that one guard was enough for the overnight shift - as well as when they fall asleep or wake up while at their post (your puzzle input).\n",
    "\n",
    "For example, consider the following records, which have already been organized into chronological order:\n",
    "\n",
    "[1518-11-01 00:00] Guard #10 begins shift\n",
    "[1518-11-01 00:05] falls asleep\n",
    "[1518-11-01 00:25] wakes up\n",
    "[1518-11-01 00:30] falls asleep\n",
    "[1518-11-01 00:55] wakes up\n",
    "[1518-11-01 23:58] Guard #99 begins shift\n",
    "[1518-11-02 00:40] falls asleep\n",
    "[1518-11-02 00:50] wakes up\n",
    "[1518-11-03 00:05] Guard #10 begins shift\n",
    "[1518-11-03 00:24] falls asleep\n",
    "[1518-11-03 00:29] wakes up\n",
    "[1518-11-04 00:02] Guard #99 begins shift\n",
    "[1518-11-04 00:36] falls asleep\n",
    "[1518-11-04 00:46] wakes up\n",
    "[1518-11-05 00:03] Guard #99 begins shift\n",
    "[1518-11-05 00:45] falls asleep\n",
    "[1518-11-05 00:55] wakes up\n",
    "Timestamps are written using year-month-day hour:minute format. The guard falling asleep or waking up is always the one whose shift most recently started. Because all asleep/awake times are during the midnight hour (00:00 - 00:59), only the minute portion (00 - 59) is relevant for those events.\n",
    "\n",
    "Visually, these records show that the guards are asleep at these times:\n",
    "\n",
    "Date   ID   Minute\n",
    "            000000000011111111112222222222333333333344444444445555555555\n",
    "            012345678901234567890123456789012345678901234567890123456789\n",
    "11-01  #10  .....####################.....#########################.....\n",
    "11-02  #99  ........................................##########..........\n",
    "11-03  #10  ........................#####...............................\n",
    "11-04  #99  ....................................##########..............\n",
    "11-05  #99  .............................................##########.....\n",
    "The columns are Date, which shows the month-day portion of the relevant day; ID, which shows the guard on duty that day; and Minute, which shows the minutes during which the guard was asleep within the midnight hour. (The Minute column's header shows the minute's ten's digit in the first row and the one's digit in the second row.) Awake is shown as ., and asleep is shown as #.\n",
    "\n",
    "Note that guards count as asleep on the minute they fall asleep, and they count as awake on the minute they wake up. For example, because Guard #10 wakes up at 00:25 on 1518-11-01, minute 25 is marked as awake.\n",
    "\n",
    "If you can figure out the guard most likely to be asleep at a specific time, you might be able to trick that guard into working tonight so you can have the best chance of sneaking in. You have two strategies for choosing the best guard/minute combination.\n",
    "\n",
    "Strategy 1: Find the guard that has the most minutes asleep. What minute does that guard spend asleep the most?\n",
    "\n",
    "In the example above, Guard #10 spent the most minutes asleep, a total of 50 minutes (20+25+5), while Guard #99 only slept for a total of 30 minutes (10+10+10). Guard #10 was asleep most during minute 24 (on two days, whereas any other minute the guard was asleep was only seen on one day).\n",
    "\n",
    "While this example listed the entries in chronological order, your entries are in the order you found them. You'll need to organize them before they can be analyzed.\n",
    "\n",
    "What is the ID of the guard you chose multiplied by the minute you chose? (In the above example, the answer would be 10 * 24 = 240.)\n",
    "```"
   ]
  },
  {
   "cell_type": "code",
   "execution_count": 63,
   "metadata": {},
   "outputs": [],
   "source": [
    "import re\n",
    "\n",
    "from collections import Counter\n",
    "from collections import defaultdict\n",
    "\n",
    "REGEX_RECORD = re.compile(\"\\[([0-9]*)-([0-9]*)-([0-9]*) ([0-9]*):([0-9]*)\\] ([A-Za-z0-9# ]*)\")\n",
    "\n",
    "def parse_record(record):\n",
    "    return REGEX_RECORD.match(record.strip()).groups()\n",
    "\n",
    "def compute_guards(records):\n",
    "    \n",
    "    guards = defaultdict(Counter)\n",
    "    for _,_,_,_,m,s in records:\n",
    "        \n",
    "        if '#' in s:\n",
    "            guard = int(s.split(' ')[1].replace('#', ''))\n",
    "            continue\n",
    "        \n",
    "        if 'asleep' in s:\n",
    "            asleep = int(m)\n",
    "            continue\n",
    "            \n",
    "        if 'wakes up' in s:\n",
    "            guards[guard].update(range(asleep, int(m)))\n",
    "            continue\n",
    "    \n",
    "    return guards\n",
    "    \n",
    "def strategy1(guards):\n",
    "    guard_most_asleep = max(guards.keys(), key=k->sum(guards[k].values()))\n",
    "    guard_most_minute = guards[guard_most_asleep].most_common()[0][0]\n",
    "    \n",
    "    return guard_most_asleep * guard_most_minute"
   ]
  },
  {
   "cell_type": "code",
   "execution_count": 64,
   "metadata": {},
   "outputs": [],
   "source": [
    "example = [\n",
    "    \"[1518-11-01 00:00] Guard #10 begins shift\\n\",\n",
    "    \"[1518-11-01 00:05] falls asleep\",\n",
    "    \"[1518-11-01 00:25] wakes up\",\n",
    "    \"[1518-11-01 00:30] falls asleep\",\n",
    "    \"[1518-11-01 00:55] wakes up\",    \n",
    "    \"[1518-11-02 00:40] falls asleep\",\n",
    "    \"[1518-11-02 00:50] wakes up\",\n",
    "    \"[1518-11-03 00:05] Guard #10 begins shift\",\n",
    "    \"[1518-11-01 23:58] Guard #99 begins shift\",\n",
    "    \"[1518-11-03 00:24] falls asleep\",\n",
    "    \"[1518-11-03 00:29] wakes up\",\n",
    "    \"[1518-11-04 00:02] Guard #99 begins shift\",\n",
    "    \"[1518-11-04 00:36] falls asleep\",\n",
    "    \"[1518-11-04 00:46] wakes up\",\n",
    "    \"[1518-11-05 00:03] Guard #99 begins shift\",\n",
    "    \"[1518-11-05 00:45] falls asleep\",\n",
    "    \"[1518-11-05 00:55] wakes up\"\n",
    "]"
   ]
  },
  {
   "cell_type": "code",
   "execution_count": 65,
   "metadata": {},
   "outputs": [
    {
     "data": {
      "text/plain": [
       "240"
      ]
     },
     "execution_count": 65,
     "metadata": {},
     "output_type": "execute_result"
    }
   ],
   "source": [
    "example |> fmap$(parse_record) |> sorted$(?, key=lambda r:r[:5]) |> compute_guards |> strategy1"
   ]
  },
  {
   "cell_type": "code",
   "execution_count": 67,
   "metadata": {},
   "outputs": [
    {
     "data": {
      "text/plain": [
       "14346"
      ]
     },
     "execution_count": 67,
     "metadata": {},
     "output_type": "execute_result"
    }
   ],
   "source": [
    "open('input/day04.txt') |> fmap$(parse_record) |> sorted$(?, key=lambda r:r[:5]) |> compute_guards |> strategy1"
   ]
  },
  {
   "cell_type": "markdown",
   "metadata": {},
   "source": [
    "```\n",
    "Strategy 2: Of all guards, which guard is most frequently asleep on the same minute?\n",
    "\n",
    "In the example above, Guard #99 spent minute 45 asleep more than any other guard or minute - three times in total. (In all other cases, any guard spent any minute asleep at most twice.)\n",
    "\n",
    "What is the ID of the guard you chose multiplied by the minute you chose? (In the above example, the answer would be 99 * 45 = 4455.)\n",
    "```"
   ]
  },
  {
   "cell_type": "code",
   "execution_count": 68,
   "metadata": {},
   "outputs": [],
   "source": [
    "def strategy2(guards):\n",
    "    guard_max_asleep = max(guards.keys(), key=k->max(guards[k].values()))\n",
    "    guard_max_minute = guards[guard_max_asleep].most_common()[0][0]\n",
    "    \n",
    "    return guard_max_asleep * guard_max_minute"
   ]
  },
  {
   "cell_type": "code",
   "execution_count": 69,
   "metadata": {},
   "outputs": [
    {
     "data": {
      "text/plain": [
       "4455"
      ]
     },
     "execution_count": 69,
     "metadata": {},
     "output_type": "execute_result"
    }
   ],
   "source": [
    "example |> fmap$(parse_record) |> sorted$(?, key=lambda r:r[:5]) |> compute_guards |> strategy2"
   ]
  },
  {
   "cell_type": "code",
   "execution_count": 70,
   "metadata": {},
   "outputs": [
    {
     "data": {
      "text/plain": [
       "5705"
      ]
     },
     "execution_count": 70,
     "metadata": {},
     "output_type": "execute_result"
    }
   ],
   "source": [
    "open('input/day04.txt') |> fmap$(parse_record) |> sorted$(?, key=lambda r:r[:5]) |> compute_guards |> strategy2"
   ]
  },
  {
   "cell_type": "code",
   "execution_count": null,
   "metadata": {},
   "outputs": [],
   "source": []
  }
 ],
 "metadata": {
  "kernelspec": {
   "display_name": "Coconut (Python 3)",
   "language": "coconut",
   "name": "coconut3"
  },
  "language_info": {
   "codemirror_mode": {
    "name": "python",
    "version": 3.6
   },
   "file_extension": ".coco",
   "mimetype": "text/x-python3",
   "name": "coconut",
   "pygments_lexer": "coconut"
  }
 },
 "nbformat": 4,
 "nbformat_minor": 2
}
