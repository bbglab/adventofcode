{
 "cells": [
  {
   "cell_type": "markdown",
   "metadata": {},
   "source": [
    "# Advent of Code 2016"
   ]
  },
  {
   "cell_type": "raw",
   "metadata": {},
   "source": [
    "--- Day 21: Scrambled Letters and Hash ---\n",
    "\n",
    "The computer system you're breaking into uses a weird scrambling function to store its passwords. It shouldn't be much trouble to create your own scrambled password so you can add it to the system; you just have to implement the scrambler.\n",
    "\n",
    "The scrambling function is a series of operations (the exact list is provided in your puzzle input). Starting with the password to be scrambled, apply each operation in succession to the string. The individual operations behave as follows:\n",
    "\n",
    "- swap position X with position Y means that the letters at indexes X and Y (counting from 0) should be swapped.\n",
    "- swap letter X with letter Y means that the letters X and Y should be swapped (regardless of where they appear in the string).\n",
    "- rotate left/right X steps means that the whole string should be rotated; for example, one right rotation would turn abcd into dabc.\n",
    "- rotate based on position of letter X means that the whole string should be rotated to the right based on the index of letter X (counting from 0) as determined before this instruction does any rotations. Once the index is  determined, rotate the string to the right one time, plus a number of times equal to that index, plus one additional time if the index was at least 4.\n",
    "- reverse positions X through Y means that the span of letters at indexes X through Y (including the letters at X and Y) should be reversed in order.\n",
    "- move position X to position Y means that the letter which is at index X should be removed from the string, then inserted such that it ends up at index Y.\n",
    "\n",
    "For example, suppose you start with abcde and perform the following operations:\n",
    "\n",
    "- swap position 4 with position 0 swaps the first and last letters, producing the input for the next step, ebcda.\n",
    "- swap letter d with letter b swaps the positions of d and b: edcba.\n",
    "- reverse positions 0 through 4 causes the entire string to be reversed, producing abcde.\n",
    "- rotate left 1 step shifts all letters left one position, causing the first letter to wrap to the end of the string: bcdea.\n",
    "- move position 1 to position 4 removes the letter at position 1 (c), then inserts it at position 4 (the end of the string): bdeac.\n",
    "- move position 3 to position 0 removes the letter at position 3 (a), then inserts it at position 0 (the front of the string): abdec.\n",
    "- rotate based on position of letter b finds the index of letter b (1), then rotates the string right once plus a number of times equal to that index (2): ecabd.\n",
    "- rotate based on position of letter d finds the index of letter d (4), then rotates the string right once, plus a number of times equal to that index, plus an additional time because the index was at least 4, for a total of 6 right rotations: decab.\n",
    "\n",
    "After these steps, the resulting scrambled password is decab.\n",
    "\n",
    "Now, you just need to generate a new scrambled password and you can access the system. Given the list of scrambling operations in your puzzle input, what is the result of scrambling abcdefgh?"
   ]
  },
  {
   "cell_type": "code",
   "execution_count": 1,
   "metadata": {
    "ExecuteTime": {
     "end_time": "2016-12-21T12:03:11.060079",
     "start_time": "2016-12-21T12:03:10.981904"
    },
    "collapsed": true
   },
   "outputs": [],
   "source": [
    "class Scramble:\n",
    "    \n",
    "    def __init__(self, password):\n",
    "        self.password = list(password)        \n",
    "        \n",
    "    def swap_positions(self, x, y):\n",
    "        \"\"\"The letters at indexes X and Y (counting from 0) should be swapped.\"\"\"\n",
    "        self.password[x], self.password[y] = self.password[y], self.password[x]\n",
    "    \n",
    "    def swap_letters(self, x, y):\n",
    "        \"\"\"The letters X and Y should be swapped (regardless of where they appear in the string).\"\"\"\n",
    "        x = self.password.index(x)\n",
    "        y = self.password.index(y)\n",
    "        self.swap_positions(x, y)\n",
    "        \n",
    "    def rotate_by_steps(self, how, steps):\n",
    "        \"\"\"The whole string should be rotated; for example, one right rotation would turn abcd into dabc.\"\"\"\n",
    "        pwd = list(self.password)\n",
    "        for i in range(len(self.password)):\n",
    "            if how == 'right':\n",
    "                self.password[(i + steps) % len(self.password)] = pwd[i]\n",
    "            else:\n",
    "                self.password[(i - steps) % len(self.password)] = pwd[i]            \n",
    "\n",
    "    def rotate_by_position(self, x):\n",
    "        \"\"\"The whole string should be rotated to the right based on the index \n",
    "        of letter X (counting from 0) as determined before this instruction \n",
    "        does any rotations. Once the index is  determined, rotate the string \n",
    "        to the right one time, plus a number of times equal to that index, plus \n",
    "        one additional time if the index was at least 4.\n",
    "        \"\"\"\n",
    "        steps = self.password.index(x)\n",
    "        steps += 2 if steps >= 4 else 1\n",
    "        self.rotate_by_steps(how='right', steps=steps)\n",
    "        \n",
    "    def reverse(self, x, y):\n",
    "        \"\"\"The span of letters at indexes X through Y (including the \n",
    "        letters at X and Y) should be reversed in order.\n",
    "        \"\"\"\n",
    "        sublist = self.password[x: y + 1]\n",
    "        sublist.reverse()\n",
    "        self.password = self.password[: x] + sublist + self.password[y + 1: ]\n",
    "        \n",
    "    def move(self, x, y):\n",
    "        \"\"\"The letter which is at index X should be removed from the string, \n",
    "        then inserted such that it ends up at index Y.\n",
    "        \"\"\"\n",
    "        self.password.insert(y, self.password.pop(x))\n",
    "    \n",
    "    def get_scrambled_password(self):\n",
    "        return ''.join(self.password)\n",
    "    \n",
    "    def run(self, data):\n",
    "        for instruction in data:\n",
    "            instruction = instruction.split()\n",
    "            if instruction[0] == 'swap' and instruction[1] == 'position':\n",
    "                x = int(instruction[2])\n",
    "                y = int(instruction[-1])\n",
    "                self.swap_positions(x, y)\n",
    "            elif instruction[0] == 'swap' and instruction[1] == 'letter':\n",
    "                x = instruction[2]\n",
    "                y = instruction[-1]\n",
    "                self.swap_letters(x, y)\n",
    "            elif instruction[0] == 'rotate' and instruction[1] == 'based':\n",
    "                x = instruction[-1]\n",
    "                self.rotate_by_position(x)\n",
    "            elif instruction[0] == 'rotate':\n",
    "                how = instruction[1]\n",
    "                steps = int(instruction[2])\n",
    "                self.rotate_by_steps(how, steps)\n",
    "            elif instruction[0] == 'reverse':\n",
    "                x = int(instruction[2])\n",
    "                y = int(instruction[-1])\n",
    "                self.reverse(x, y)\n",
    "            elif instruction[0] == 'move':\n",
    "                x = int(instruction[2])\n",
    "                y = int(instruction[-1])\n",
    "                self.move(x, y)"
   ]
  },
  {
   "cell_type": "code",
   "execution_count": 2,
   "metadata": {
    "ExecuteTime": {
     "end_time": "2016-12-21T12:03:11.068622",
     "start_time": "2016-12-21T12:03:11.061188"
    },
    "collapsed": false
   },
   "outputs": [],
   "source": [
    "data = [\n",
    "    'swap position 4 with position 0',\n",
    "    'swap letter d with letter b', \n",
    "    'reverse positions 0 through 4',\n",
    "    'rotate left 1 step',\n",
    "    'move position 1 to position 4',\n",
    "    'move position 3 to position 0',\n",
    "    'rotate based on position of letter b', \n",
    "    'rotate based on position of letter d'\n",
    "]\n",
    "\n",
    "scramble = Scramble('abcde')\n",
    "scramble.run(data)\n",
    "assert scramble.get_scrambled_password() == 'decab'"
   ]
  },
  {
   "cell_type": "code",
   "execution_count": 3,
   "metadata": {
    "ExecuteTime": {
     "end_time": "2016-12-21T12:03:11.074525",
     "start_time": "2016-12-21T12:03:11.069749"
    },
    "collapsed": true
   },
   "outputs": [],
   "source": [
    "data = [line.strip() for line in open('data/day_21.txt', 'r')]"
   ]
  },
  {
   "cell_type": "code",
   "execution_count": 4,
   "metadata": {
    "ExecuteTime": {
     "end_time": "2016-12-21T12:03:11.098203",
     "start_time": "2016-12-21T12:03:11.079350"
    },
    "collapsed": false
   },
   "outputs": [
    {
     "data": {
      "text/plain": [
       "'dgfaehcb'"
      ]
     },
     "execution_count": 4,
     "metadata": {},
     "output_type": "execute_result"
    }
   ],
   "source": [
    "scramble = Scramble('abcdefgh')\n",
    "scramble.run(data)\n",
    "scramble.get_scrambled_password()"
   ]
  },
  {
   "cell_type": "raw",
   "metadata": {},
   "source": [
    "--- Part Two ---\n",
    "\n",
    "You scrambled the password correctly, but you discover that you can't actually modify the password file on the system. You'll need to un-scramble one of the existing passwords by reversing the scrambling process.\n",
    "\n",
    "What is the un-scrambled version of the scrambled password fbgdceah?"
   ]
  },
  {
   "cell_type": "code",
   "execution_count": 5,
   "metadata": {
    "ExecuteTime": {
     "end_time": "2016-12-21T12:03:11.116156",
     "start_time": "2016-12-21T12:03:11.100408"
    },
    "collapsed": true
   },
   "outputs": [],
   "source": [
    "import itertools\n",
    "from tqdm import tqdm"
   ]
  },
  {
   "cell_type": "code",
   "execution_count": 6,
   "metadata": {
    "ExecuteTime": {
     "end_time": "2016-12-21T12:03:11.128782",
     "start_time": "2016-12-21T12:03:11.118306"
    },
    "collapsed": true
   },
   "outputs": [],
   "source": [
    "def unscramble(password):\n",
    "    res = []\n",
    "    all_passwords = itertools.permutations(list(password), len(password))\n",
    "    for pwd in tqdm(all_passwords):\n",
    "        scramble = Scramble(''.join(pwd))\n",
    "        scramble.run(data)\n",
    "        if scramble.get_scrambled_password() == password:\n",
    "            res.append(''.join(pwd))\n",
    "    return res"
   ]
  },
  {
   "cell_type": "code",
   "execution_count": 7,
   "metadata": {
    "ExecuteTime": {
     "end_time": "2016-12-21T12:03:11.151977",
     "start_time": "2016-12-21T12:03:11.135012"
    },
    "collapsed": false
   },
   "outputs": [
    {
     "name": "stderr",
     "output_type": "stream",
     "text": [
      "0it [00:00, ?it/s]120it [00:00, 30399.01it/s]\n"
     ]
    }
   ],
   "source": [
    "data = [\n",
    "    'swap position 4 with position 0',\n",
    "    'swap letter d with letter b', \n",
    "    'reverse positions 0 through 4',\n",
    "    'rotate left 1 step',\n",
    "    'move position 1 to position 4',\n",
    "    'move position 3 to position 0',\n",
    "    'rotate based on position of letter b', \n",
    "    'rotate based on position of letter d'\n",
    "]\n",
    "\n",
    "assert 'abcde' in unscramble('decab')"
   ]
  },
  {
   "cell_type": "code",
   "execution_count": 8,
   "metadata": {
    "ExecuteTime": {
     "end_time": "2016-12-21T12:03:20.270830",
     "start_time": "2016-12-21T12:03:11.155929"
    },
    "collapsed": false
   },
   "outputs": [
    {
     "name": "stderr",
     "output_type": "stream",
     "text": [
      "40320it [00:09, 4428.24it/s]00, 3143.64it/s]\n"
     ]
    },
    {
     "data": {
      "text/plain": [
       "['fdhgacbe']"
      ]
     },
     "execution_count": 8,
     "metadata": {},
     "output_type": "execute_result"
    }
   ],
   "source": [
    "data = [line.strip() for line in open('data/day_21.txt', 'r')]\n",
    "unscramble('fbgdceah')"
   ]
  }
 ],
 "metadata": {
  "kernelspec": {
   "display_name": "Python 3",
   "language": "python",
   "name": "python3"
  },
  "language_info": {
   "codemirror_mode": {
    "name": "ipython",
    "version": 3
   },
   "file_extension": ".py",
   "mimetype": "text/x-python",
   "name": "python",
   "nbconvert_exporter": "python",
   "pygments_lexer": "ipython3",
   "version": "3.5.2+"
  }
 },
 "nbformat": 4,
 "nbformat_minor": 2
}
