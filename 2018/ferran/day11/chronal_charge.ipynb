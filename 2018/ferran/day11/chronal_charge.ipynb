{
 "cells": [
  {
   "cell_type": "markdown",
   "metadata": {
    "collapsed": true
   },
   "source": [
    "# Part 1"
   ]
  },
  {
   "cell_type": "code",
   "execution_count": 14,
   "metadata": {
    "collapsed": true
   },
   "outputs": [],
   "source": [
    "import numpy as np\n",
    "from itertools import product\n",
    "from tqdm import tqdm"
   ]
  },
  {
   "cell_type": "code",
   "execution_count": 15,
   "metadata": {
    "collapsed": true
   },
   "outputs": [],
   "source": [
    "serial = 1308"
   ]
  },
  {
   "cell_type": "code",
   "execution_count": 16,
   "metadata": {
    "collapsed": true
   },
   "outputs": [],
   "source": [
    "def power(x, y, serial):\n",
    "\n",
    "    rackid = (x + 1) + 10\n",
    "    power = rackid * (y + 1)\n",
    "    power += serial\n",
    "    power *= rackid\n",
    "    return (abs(power) // 100) % 10 - 5"
   ]
  },
  {
   "cell_type": "code",
   "execution_count": 17,
   "metadata": {
    "collapsed": true
   },
   "outputs": [],
   "source": [
    "def best_square(serial, dim=300):\n",
    "    \n",
    "    grid = np.empty((300, 300))\n",
    "    for i, j in product(range(300), repeat=2):\n",
    "        grid[i, j] = power(i, j, serial)\n",
    "    m = 0\n",
    "    for (x, y), indices in square_generator():\n",
    "        s = np.sum([grid[a] for a in indices])\n",
    "        if s > m:\n",
    "            a, m = (x, y), s\n",
    "    return a, m\n",
    "    \n",
    "def square_generator():\n",
    "    \n",
    "    for i, j in product(range(300), repeat=2):\n",
    "        if (300 - i - 1 >= 2) and (300 - j - 1 >= 2):\n",
    "            yield (i, j), [(i + s, j + t) for s, t in product([0, 1, 2], repeat=2)]"
   ]
  },
  {
   "cell_type": "markdown",
   "metadata": {},
   "source": [
    "## Test"
   ]
  },
  {
   "cell_type": "code",
   "execution_count": 25,
   "metadata": {
    "collapsed": true
   },
   "outputs": [],
   "source": [
    "def test():\n",
    "    assert(power(121, 78, 57) == -5)\n",
    "    assert(power(216, 195, 39) == 0)\n",
    "    assert(power(100, 152, 71) == 4)\n",
    "\n",
    "test()"
   ]
  },
  {
   "cell_type": "markdown",
   "metadata": {},
   "source": [
    "## Solution"
   ]
  },
  {
   "cell_type": "code",
   "execution_count": 26,
   "metadata": {},
   "outputs": [
    {
     "name": "stdout",
     "output_type": "stream",
     "text": [
      "21,41\n"
     ]
    }
   ],
   "source": [
    "(a, b), charge = best_square(serial)\n",
    "print(str(a+1) + ',' + str(b+1))"
   ]
  },
  {
   "cell_type": "markdown",
   "metadata": {},
   "source": [
    "# Part 2"
   ]
  },
  {
   "cell_type": "code",
   "execution_count": 27,
   "metadata": {
    "collapsed": true
   },
   "outputs": [],
   "source": [
    "class PowerGrid:\n",
    "    \n",
    "    def __init__(self, serial):\n",
    "        self.grid = np.zeros((300, 300, 300))\n",
    "        for i, j in product(range(300), repeat=2):\n",
    "            self.grid[i, j, 0] = power(i, j, serial)\n",
    "    \n",
    "    def lshape(self, i, j, size):\n",
    "        lateral = sum(self.grid[i: i + size, j + size, 0]) \n",
    "        bottom  = sum(self.grid[i + size, j: j + size, 0])\n",
    "        corner  = self.grid[i + size, j + size, 0]\n",
    "        return lateral + bottom + corner\n",
    "    \n",
    "    def dichotosum(self, i, j, q):\n",
    "        return self.grid[i,j,q-1] + self.grid[i+q,j,q-1] + self.grid[i,j+q,q-1] + self.grid[i+q,j+q,q-1]\n",
    "    \n",
    "    def topsquare(self):\n",
    "        msize, mx, index = 1, np.max(self.grid[:, :, 0]), np.argmax(self.grid[:, :, 0])\n",
    "        size  = 2\n",
    "        while size <= 300:\n",
    "            for i, j in product(range(300), repeat=2):\n",
    "                if (300 - i >= size) and (300 - j >= size):\n",
    "                    if size % 2 == 0:\n",
    "                        q = size // 2\n",
    "                        a = 0\n",
    "                    else:\n",
    "                        q = (size - 1) // 2\n",
    "                        a = self.lshape(i, j, 2*q)\n",
    "                    a += self.dichotosum(i, j, q)\n",
    "                    self.grid[i, j, size-1] = a\n",
    "                    if a > mx:\n",
    "                        msize   = size\n",
    "                        index   = (i, j)\n",
    "                        mx      = a\n",
    "                        aoc_out = str(i+1) + ',' + str(j+1) + ',' + str(msize)\n",
    "            size += 1\n",
    "        return aoc_out"
   ]
  },
  {
   "cell_type": "markdown",
   "metadata": {},
   "source": [
    "## Test"
   ]
  },
  {
   "cell_type": "code",
   "execution_count": 28,
   "metadata": {},
   "outputs": [
    {
     "data": {
      "text/plain": [
       "'90,269,16'"
      ]
     },
     "execution_count": 28,
     "metadata": {},
     "output_type": "execute_result"
    }
   ],
   "source": [
    "x = PowerGrid(18)\n",
    "x.topsquare()"
   ]
  },
  {
   "cell_type": "code",
   "execution_count": 30,
   "metadata": {},
   "outputs": [
    {
     "data": {
      "text/plain": [
       "'232,251,12'"
      ]
     },
     "execution_count": 30,
     "metadata": {},
     "output_type": "execute_result"
    }
   ],
   "source": [
    "y = PowerGrid(42)\n",
    "y.topsquare()"
   ]
  },
  {
   "cell_type": "markdown",
   "metadata": {
    "collapsed": true
   },
   "source": [
    "## Solution"
   ]
  },
  {
   "cell_type": "code",
   "execution_count": 31,
   "metadata": {},
   "outputs": [
    {
     "data": {
      "text/plain": [
       "'227,199,19'"
      ]
     },
     "execution_count": 31,
     "metadata": {},
     "output_type": "execute_result"
    }
   ],
   "source": [
    "serial = 1308\n",
    "z = PowerGrid(serial)\n",
    "z.topsquare()"
   ]
  }
 ],
 "metadata": {
  "kernelspec": {
   "display_name": "Python [conda env:adventofcode]",
   "language": "python",
   "name": "conda-env-adventofcode-py"
  },
  "language_info": {
   "codemirror_mode": {
    "name": "ipython",
    "version": 3
   },
   "file_extension": ".py",
   "mimetype": "text/x-python",
   "name": "python",
   "nbconvert_exporter": "python",
   "pygments_lexer": "ipython3",
   "version": "3.5.2"
  }
 },
 "nbformat": 4,
 "nbformat_minor": 2
}
