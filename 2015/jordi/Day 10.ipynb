{
 "cells": [
  {
   "cell_type": "raw",
   "metadata": {},
   "source": [
    "--- Day 10: Elves Look, Elves Say ---\n",
    "\n",
    "Today, the Elves are playing a game called look-and-say. They take turns making sequences by reading aloud the previous sequence and using that reading as the next sequence. For example, 211 is read as \"one two, two ones\", which becomes 1221 (1 2, 2 1s).\n",
    "\n",
    "Look-and-say sequences are generated iteratively, using the previous value as input for the next step. For each step, take the previous value, and replace each run of digits (like 111) with the number of digits (3) followed by the digit itself (1).\n",
    "\n",
    "For example:\n",
    "\n",
    "1 becomes 11 (1 copy of digit 1).\n",
    "11 becomes 21 (2 copies of digit 1).\n",
    "21 becomes 1211 (one 2 followed by one 1).\n",
    "1211 becomes 111221 (one 1, one 2, and two 1s).\n",
    "111221 becomes 312211 (three 1s, two 2s, and one 1).\n",
    "Starting with the digits in your puzzle input, apply this process 40 times. What is the length of the result?\n",
    "\n",
    "Your puzzle input is 1113122113."
   ]
  },
  {
   "cell_type": "code",
   "execution_count": 5,
   "metadata": {
    "collapsed": true
   },
   "outputs": [],
   "source": [
    "def re_read(in_n):\n",
    "    out_n = \"\"\n",
    "    \n",
    "    p = in_n[0]\n",
    "    c_p = 1\n",
    "    \n",
    "    for n in in_n[1:]:\n",
    "        if n != p:\n",
    "            out_n += \"{}{}\".format(c_p, p)\n",
    "            p = n\n",
    "            c_p = 1\n",
    "        else:\n",
    "            c_p += 1\n",
    "        \n",
    "    if in_n[-1] == p:\n",
    "        out_n += \"{}{}\".format(c_p, p)\n",
    "        \n",
    "    return out_n"
   ]
  },
  {
   "cell_type": "code",
   "execution_count": 8,
   "metadata": {
    "collapsed": false
   },
   "outputs": [
    {
     "name": "stdout",
     "output_type": "stream",
     "text": [
      "1\n",
      "11\n",
      "21\n",
      "1211\n",
      "111221\n",
      "312211\n"
     ]
    }
   ],
   "source": [
    "# Example\n",
    "token = \"1\"\n",
    "print(token)\n",
    "for i in range(5):\n",
    "    token = re_read(token)\n",
    "    print(token)"
   ]
  },
  {
   "cell_type": "code",
   "execution_count": 12,
   "metadata": {
    "collapsed": false
   },
   "outputs": [
    {
     "name": "stdout",
     "output_type": "stream",
     "text": [
      "360154\n",
      "CPU times: user 1.71 s, sys: 4.07 ms, total: 1.72 s\n",
      "Wall time: 1.72 s\n"
     ]
    }
   ],
   "source": [
    "%%time\n",
    "\n",
    "# Input\n",
    "token = \"1113122113\"\n",
    "for i in range(40):\n",
    "    token = re_read(token)\n",
    "    \n",
    "print(len(token))"
   ]
  },
  {
   "cell_type": "raw",
   "metadata": {},
   "source": [
    "--- Part Two ---\n",
    "\n",
    "Neat, right? You might also enjoy hearing John Conway talking about this sequence (that's Conway of Conway's Game of Life fame).\n",
    "\n",
    "Now, starting again with the digits in your puzzle input, apply this process 50 times. What is the length of the new result?\n",
    "\n",
    "Your puzzle input is still 1113122113."
   ]
  },
  {
   "cell_type": "code",
   "execution_count": 13,
   "metadata": {
    "collapsed": false
   },
   "outputs": [
    {
     "name": "stdout",
     "output_type": "stream",
     "text": [
      "5103798\n",
      "CPU times: user 23.1 s, sys: 20.1 ms, total: 23.1 s\n",
      "Wall time: 23.1 s\n"
     ]
    }
   ],
   "source": [
    "%%time\n",
    "\n",
    "# Input\n",
    "token = \"1113122113\"\n",
    "for i in range(50):\n",
    "    token = re_read(token)\n",
    "    \n",
    "print(len(token))"
   ]
  },
  {
   "cell_type": "code",
   "execution_count": null,
   "metadata": {
    "collapsed": true
   },
   "outputs": [],
   "source": []
  }
 ],
 "metadata": {
  "kernelspec": {
   "display_name": "Python 3",
   "language": "python",
   "name": "python3"
  },
  "language_info": {
   "codemirror_mode": {
    "name": "ipython",
    "version": 3
   },
   "file_extension": ".py",
   "mimetype": "text/x-python",
   "name": "python",
   "nbconvert_exporter": "python",
   "pygments_lexer": "ipython3",
   "version": "3.4.3"
  }
 },
 "nbformat": 4,
 "nbformat_minor": 0
}
