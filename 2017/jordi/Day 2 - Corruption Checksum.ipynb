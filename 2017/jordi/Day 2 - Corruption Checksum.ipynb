{
 "cells": [
  {
   "cell_type": "raw",
   "metadata": {},
   "source": [
    "As you walk through the door, a glowing humanoid shape yells in your direction. \"You there! Your state appears to be idle. Come help us repair the corruption in this spreadsheet - if we take another millisecond, we'll have to display an hourglass cursor!\"\n",
    "\n",
    "The spreadsheet consists of rows of apparently-random numbers. To make sure the recovery process is on the right track, they need you to calculate the spreadsheet's checksum. For each row, determine the difference between the largest value and the smallest value; the checksum is the sum of all of these differences.\n",
    "\n",
    "For example, given the following spreadsheet:\n",
    "\n",
    "5 1 9 5\n",
    "7 5 3\n",
    "2 4 6 8\n",
    "The first row's largest and smallest values are 9 and 1, and their difference is 8.\n",
    "The second row's largest and smallest values are 7 and 3, and their difference is 4.\n",
    "The third row's difference is 6.\n",
    "In this example, the spreadsheet's checksum would be 8 + 4 + 6 = 18.\n",
    "\n",
    "What is the checksum for the spreadsheet in your puzzle input?"
   ]
  },
  {
   "cell_type": "code",
   "execution_count": 63,
   "metadata": {},
   "outputs": [
    {
     "data": {
      "text/plain": [
       "16×16 Array{Int32,2}:\n",
       " 1364   461  1438  1456   818   999  …  1353   148   837   590   404   123\n",
       "  204    99   235  2281  2848  3307     3525   525   288   278  3059   821\n",
       "  280   311   100   287   265   383      398    99   194   297   399    87\n",
       " 7698  2334  7693   218  7344  3887     7412  6147   231  1066   248   208\n",
       " 3740   837  4144   123   155  2494     1221  4061    95   148  3460   550\n",
       " 1376  1462    73   968    95  1721  …  1683   618    82  1660    83  1778\n",
       "  197  2295  5475  2886  2646   186     1477   196  1778  3496  5041  3314\n",
       "  179  2949  3197  2745  1341  3128     2692   212  2487  2947  3547  1120\n",
       "  460    73    52   373    41   133      715   644   182   524   648   320\n",
       "  169   207  5529  4820   248  6210     5472  3954  3791  1311  7074  5729\n",
       " 5965  7445  2317   196  1886  3638  …   229   230  1791  6900  3108  5827\n",
       "  212   249   226   129   196   245      184    99   276    93   222    56\n",
       "   51   592   426    66   594   406      522    57   547    65   564   622\n",
       "  215  2092  1603  1001   940  2054     2808   208   194  2339  2028  2580\n",
       "  378   171   155  1100   184   937     1611  1349   647  1778  1723  1709\n",
       " 4463  4757   201   186  3812  2413  …  2898   200  5536  5226  1028   180"
      ]
     },
     "execution_count": 63,
     "metadata": {},
     "output_type": "execute_result"
    }
   ],
   "source": [
    "spreadsheet = readdlm(\"inputs/day2.txt\", Int32)"
   ]
  },
  {
   "cell_type": "code",
   "execution_count": 64,
   "metadata": {},
   "outputs": [
    {
     "name": "stdout",
     "output_type": "stream",
     "text": [
      "  0.234362 seconds (126.68 k allocations: 5.911 MiB)\n"
     ]
    },
    {
     "data": {
      "text/plain": [
       "53460"
      ]
     },
     "execution_count": 64,
     "metadata": {},
     "output_type": "execute_result"
    }
   ],
   "source": [
    "@time sum(maximum(spreadsheet, 2) - minimum(spreadsheet, 2))"
   ]
  },
  {
   "cell_type": "raw",
   "metadata": {},
   "source": [
    "--- Part Two ---\n",
    "\n",
    "\"Great work; looks like we're on the right track after all. Here's a star for your effort.\" However, the program seems a little worried. Can programs be worried?\n",
    "\n",
    "\"Based on what we're seeing, it looks like all the User wanted is some information about the evenly divisible values in the spreadsheet. Unfortunately, none of us are equipped for that kind of calculation - most of us specialize in bitwise operations.\"\n",
    "\n",
    "It sounds like the goal is to find the only two numbers in each row where one evenly divides the other - that is, where the result of the division operation is a whole number. They would like you to find those numbers on each line, divide them, and add up each line's result.\n",
    "\n",
    "For example, given the following spreadsheet:\n",
    "\n",
    "5 9 2 8\n",
    "9 4 7 3\n",
    "3 8 6 5\n",
    "In the first row, the only two numbers that evenly divide are 8 and 2; the result of this division is 4.\n",
    "In the second row, the two numbers are 9 and 3; the result is 3.\n",
    "In the third row, the result is 2.\n",
    "In this example, the sum of the results would be 4 + 3 + 2 = 9.\n",
    "\n",
    "What is the sum of each row's result in your puzzle input?"
   ]
  },
  {
   "cell_type": "code",
   "execution_count": 92,
   "metadata": {},
   "outputs": [
    {
     "data": {
      "text/plain": [
       "evenly_divide (generic function with 1 method)"
      ]
     },
     "execution_count": 92,
     "metadata": {},
     "output_type": "execute_result"
    }
   ],
   "source": [
    "function evenly_divide(row)\n",
    "    L = length(row)\n",
    "    row = sort(row)\n",
    "    for i = 1:L\n",
    "        for j = (i+1):L\n",
    "            r = row[j] // row[i]\n",
    "            if r.den == 1\n",
    "                return r.num\n",
    "            end\n",
    "        end\n",
    "    end\n",
    "end"
   ]
  },
  {
   "cell_type": "code",
   "execution_count": 93,
   "metadata": {},
   "outputs": [
    {
     "data": {
      "text/plain": [
       "3×4 Array{Int64,2}:\n",
       " 5  9  2  8\n",
       " 9  4  7  3\n",
       " 3  8  6  5"
      ]
     },
     "execution_count": 93,
     "metadata": {},
     "output_type": "execute_result"
    }
   ],
   "source": [
    "a = [5 9 2 8; 9 4 7 3; 3 8 6 5]"
   ]
  },
  {
   "cell_type": "code",
   "execution_count": 94,
   "metadata": {},
   "outputs": [
    {
     "data": {
      "text/plain": [
       "9"
      ]
     },
     "execution_count": 94,
     "metadata": {},
     "output_type": "execute_result"
    }
   ],
   "source": [
    "sum(mapslices(evenly_divide, a, 2))"
   ]
  },
  {
   "cell_type": "code",
   "execution_count": 96,
   "metadata": {},
   "outputs": [
    {
     "name": "stdout",
     "output_type": "stream",
     "text": [
      "  0.000997 seconds (1.33 k allocations: 27.094 KiB)\n"
     ]
    },
    {
     "data": {
      "text/plain": [
       "282"
      ]
     },
     "execution_count": 96,
     "metadata": {},
     "output_type": "execute_result"
    }
   ],
   "source": [
    "@time sum(mapslices(evenly_divide, spreadsheet, 2))"
   ]
  },
  {
   "cell_type": "code",
   "execution_count": null,
   "metadata": {
    "collapsed": true
   },
   "outputs": [],
   "source": []
  }
 ],
 "metadata": {
  "kernelspec": {
   "display_name": "Julia 0.6.1",
   "language": "julia",
   "name": "julia-0.6"
  },
  "language_info": {
   "file_extension": ".jl",
   "mimetype": "application/julia",
   "name": "julia",
   "version": "0.6.1"
  }
 },
 "nbformat": 4,
 "nbformat_minor": 2
}
