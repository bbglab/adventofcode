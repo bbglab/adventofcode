{
 "cells": [
  {
   "cell_type": "markdown",
   "metadata": {},
   "source": [
    "In general your solutions are more elegant.\n",
    "\n",
    "Great use of available libraries\n",
    "\n",
    "Like your solutions for day3 (spiral memory), day11 (hex grid)"
   ]
  },
  {
   "cell_type": "markdown",
   "metadata": {},
   "source": [
    "## Day 1\n",
    "\n",
    "Smart, clean and elegant."
   ]
  },
  {
   "cell_type": "code",
   "execution_count": 1,
   "metadata": {
    "collapsed": true
   },
   "outputs": [],
   "source": [
    "digits = '91212129'"
   ]
  },
  {
   "cell_type": "code",
   "execution_count": 2,
   "metadata": {},
   "outputs": [
    {
     "data": {
      "text/plain": [
       "9"
      ]
     },
     "execution_count": 2,
     "metadata": {},
     "output_type": "execute_result"
    }
   ],
   "source": [
    "L = len(digits)\n",
    "sum([int(digits[i]) for i in range(L) if digits[i] == digits[(i+1) % L]])"
   ]
  },
  {
   "cell_type": "code",
   "execution_count": 3,
   "metadata": {},
   "outputs": [
    {
     "data": {
      "text/plain": [
       "9"
      ]
     },
     "execution_count": 3,
     "metadata": {},
     "output_type": "execute_result"
    }
   ],
   "source": [
    "def solve(captcha):\n",
    "    captcha = list(map(int, captcha))\n",
    "    prev_val = captcha[-1]\n",
    "    repeated = 0\n",
    "    for v in captcha:\n",
    "        if v == prev_val:\n",
    "            repeated += v\n",
    "        prev_val = v\n",
    "    return repeated\n",
    "solve(digits)"
   ]
  },
  {
   "cell_type": "markdown",
   "metadata": {},
   "source": [
    "## Day 3\n",
    "\n",
    "Well done"
   ]
  },
  {
   "cell_type": "code",
   "execution_count": 24,
   "metadata": {},
   "outputs": [
    {
     "data": {
      "text/plain": [
       "31"
      ]
     },
     "execution_count": 24,
     "metadata": {},
     "output_type": "execute_result"
    }
   ],
   "source": [
    "import numpy as np\n",
    "\n",
    "def number_to_coordinates(n):\n",
    "    \n",
    "    q = int(np.sqrt(n))\n",
    "    r = n - q ** 2\n",
    "    if q % 2 != 0:\n",
    "        x = (q - 1) // 2 + min(1, r) + min(q - r + 1, 0)\n",
    "        y = - (q - 1) // 2 + min(max(r - 1, 0), q)\n",
    "    else:\n",
    "        x = 1 - (q // 2) - min(1, r) - min(q - r + 1, 0)\n",
    "        y = q // 2 - min(max(r - 1, 0), q)\n",
    "    return x, y\n",
    "\n",
    "def spiral_manhattan(n):\n",
    "    x, y = number_to_coordinates(n)\n",
    "    return abs(x) + abs(y)\n",
    "\n",
    "spiral_manhattan(1024)"
   ]
  },
  {
   "cell_type": "code",
   "execution_count": 26,
   "metadata": {},
   "outputs": [
    {
     "data": {
      "text/plain": [
       "31"
      ]
     },
     "execution_count": 26,
     "metadata": {},
     "output_type": "execute_result"
    }
   ],
   "source": [
    "import math\n",
    "\n",
    "def get_side_size(point):\n",
    "    side_size = math.ceil(math.sqrt(point))\n",
    "    if side_size % 2 == 0:\n",
    "        side_size += 1\n",
    "    return side_size\n",
    "\n",
    "\n",
    "def get_displacement(point, ring):\n",
    "    distances = []\n",
    "    for i in [1,3,5,7]:\n",
    "        distances.append(abs(point-i*ring))\n",
    "    return min(distances)\n",
    "\n",
    "\n",
    "def distance(point):\n",
    "    if point == 1:\n",
    "        return 0\n",
    "    else:\n",
    "        side_size = get_side_size(point)\n",
    "        radius = (side_size - 1) // 2\n",
    "        rescaled = point - (side_size-2)**2\n",
    "        displacement = get_displacement(rescaled, radius)\n",
    "        return displacement + radius\n",
    "    \n",
    "distance(1024)"
   ]
  },
  {
   "cell_type": "markdown",
   "metadata": {},
   "source": [
    "## Day 5\n",
    "\n",
    "Although it can be better to expicitily check, you can use Exceptions to capture exceptional behaviour.\n",
    "\n",
    "Note that your code is mor robutes and pos=-1 will work for even even when it shouldn't"
   ]
  },
  {
   "cell_type": "code",
   "execution_count": 5,
   "metadata": {
    "collapsed": true
   },
   "outputs": [],
   "source": [
    "instructions = [0, 3, 0, 1, -3]"
   ]
  },
  {
   "cell_type": "code",
   "execution_count": 6,
   "metadata": {},
   "outputs": [
    {
     "data": {
      "text/plain": [
       "(5, [2, 5, 0, 1, -2])"
      ]
     },
     "execution_count": 6,
     "metadata": {},
     "output_type": "execute_result"
    }
   ],
   "source": [
    "class Maze(object):\n",
    "    \n",
    "    def __init__(self, curr_pos, state):\n",
    "        self.curr_pos = curr_pos\n",
    "        self.state = state.copy()\n",
    "        self.length = len(self.state)\n",
    "    \n",
    "    def evolve(self):\n",
    "        self.state[self.curr_pos] += 1\n",
    "        self.curr_pos += self.state[self.curr_pos] - 1\n",
    "        \n",
    "    def outside(self):\n",
    "        return (self.curr_pos >= self.length) or (self.curr_pos < 0)\n",
    "    \n",
    "\n",
    "def steps_maze(l):\n",
    "    maze = Maze(0, l)\n",
    "    count = 0\n",
    "    while not maze.outside():\n",
    "        maze.evolve()\n",
    "        count += 1\n",
    "    return count, maze.state\n",
    "\n",
    "steps_maze(instructions)"
   ]
  },
  {
   "cell_type": "code",
   "execution_count": 7,
   "metadata": {},
   "outputs": [
    {
     "data": {
      "text/plain": [
       "5"
      ]
     },
     "execution_count": 7,
     "metadata": {},
     "output_type": "execute_result"
    }
   ],
   "source": [
    "def steps2exit(instructions):\n",
    "    position = 0\n",
    "    steps = 0\n",
    "    try:\n",
    "        while True:\n",
    "            jump = instructions[position]\n",
    "            instructions[position] = jump + 1\n",
    "            position += jump\n",
    "            steps += 1\n",
    "    except IndexError:\n",
    "        return steps\n",
    "    \n",
    "steps2exit(instructions)"
   ]
  },
  {
   "cell_type": "code",
   "execution_count": 16,
   "metadata": {},
   "outputs": [
    {
     "name": "stdout",
     "output_type": "stream",
     "text": [
      "1.52 µs ± 109 ns per loop (mean ± std. dev. of 7 runs, 1000000 loops each)\n"
     ]
    }
   ],
   "source": [
    "%%timeit\n",
    "steps_maze(instructions)"
   ]
  },
  {
   "cell_type": "code",
   "execution_count": 17,
   "metadata": {},
   "outputs": [
    {
     "name": "stdout",
     "output_type": "stream",
     "text": [
      "437 ns ± 0.961 ns per loop (mean ± std. dev. of 7 runs, 1000000 loops each)\n"
     ]
    }
   ],
   "source": [
    "%%timeit\n",
    "steps2exit(instructions)"
   ]
  },
  {
   "cell_type": "markdown",
   "metadata": {},
   "source": [
    "## Day 6\n",
    "\n",
    "It can be difficult to decide when classes are useful"
   ]
  },
  {
   "cell_type": "code",
   "execution_count": 9,
   "metadata": {
    "collapsed": true
   },
   "outputs": [],
   "source": [
    "banks = [0, 2, 7, 0]"
   ]
  },
  {
   "cell_type": "code",
   "execution_count": 10,
   "metadata": {},
   "outputs": [
    {
     "data": {
      "text/plain": [
       "5"
      ]
     },
     "execution_count": 10,
     "metadata": {},
     "output_type": "execute_result"
    }
   ],
   "source": [
    "def reallocate(val, pos, n):\n",
    "        l = [val // n] * n\n",
    "        r = val % n\n",
    "        for i in range(r):\n",
    "            l[(pos + i + 1) % n] += 1\n",
    "        return l\n",
    "\n",
    "def update(b):\n",
    "    blocks = sorted(list(enumerate(b)), key=lambda v: (v[1], -v[0]), reverse=True)\n",
    "    pos = blocks[0][0]\n",
    "    val = blocks[0][1]\n",
    "    c = [b[i] if i != pos else 0 for i in range(len(b))]\n",
    "    l = reallocate(val, pos, len(b))\n",
    "    for i, v in enumerate(c):\n",
    "        c[i] += l[i]\n",
    "    return c\n",
    "\n",
    "def count_until_loop(b):\n",
    "    count = 0\n",
    "    previous = set()\n",
    "    h = hash(tuple(b))\n",
    "    while h not in previous:\n",
    "        previous.add(h)\n",
    "        count += 1\n",
    "        b = update(b)\n",
    "        h = hash(tuple(b))\n",
    "    return count\n",
    "\n",
    "count_until_loop(banks)"
   ]
  },
  {
   "cell_type": "code",
   "execution_count": 11,
   "metadata": {},
   "outputs": [
    {
     "data": {
      "text/plain": [
       "5"
      ]
     },
     "execution_count": 11,
     "metadata": {},
     "output_type": "execute_result"
    }
   ],
   "source": [
    "class Memory:\n",
    "\n",
    "    def __init__(self, banks):\n",
    "        self.banks = banks\n",
    "        self.states = []\n",
    "\n",
    "    def _find_fullest(self):\n",
    "        blocks = max(self.banks)\n",
    "        return self.banks.index(blocks), blocks\n",
    "\n",
    "    def _redistribue(self):\n",
    "        pos, blocks = self._find_fullest()\n",
    "        self.banks[pos] = 0\n",
    "        while blocks > 0:\n",
    "            pos += 1\n",
    "            if pos >= len(self.banks):\n",
    "                pos = 0\n",
    "            self.banks[pos] += 1\n",
    "            blocks -= 1\n",
    "\n",
    "    def realloate_till_loop(self):\n",
    "        redistributions = 0\n",
    "        self.states.append(self.banks.copy())\n",
    "        while True:\n",
    "            self._redistribue()\n",
    "            redistributions += 1\n",
    "            configuration = self.banks.copy()\n",
    "            if configuration in self.states:\n",
    "                break\n",
    "            else:\n",
    "                self.states.append(configuration)\n",
    "        return redistributions\n",
    "\n",
    "Memory(banks).realloate_till_loop()"
   ]
  },
  {
   "cell_type": "code",
   "execution_count": 18,
   "metadata": {},
   "outputs": [
    {
     "name": "stdout",
     "output_type": "stream",
     "text": [
      "18.5 µs ± 893 ns per loop (mean ± std. dev. of 7 runs, 100000 loops each)\n"
     ]
    }
   ],
   "source": [
    "%%timeit\n",
    "count_until_loop(banks)"
   ]
  },
  {
   "cell_type": "code",
   "execution_count": 19,
   "metadata": {},
   "outputs": [
    {
     "name": "stdout",
     "output_type": "stream",
     "text": [
      "7.77 µs ± 22.1 ns per loop (mean ± std. dev. of 7 runs, 100000 loops each)\n"
     ]
    }
   ],
   "source": [
    "%%timeit\n",
    "Memory(banks).realloate_till_loop()"
   ]
  },
  {
   "cell_type": "markdown",
   "metadata": {},
   "source": [
    "## Day 7\n",
    "\n",
    "Assertions should not be used in normal program execution because they can be disabled\n",
    "\n",
    "You can define your own exceptions easily"
   ]
  },
  {
   "cell_type": "code",
   "execution_count": 22,
   "metadata": {
    "collapsed": true
   },
   "outputs": [],
   "source": [
    "def pick_cherry(leaves):\n",
    "    while leaves:\n",
    "        leaf = leaves.pop()\n",
    "        parent = parents[leaf]\n",
    "        offspring = children[parent]\n",
    "        try:\n",
    "            for child in offspring:\n",
    "                assert(children[child] == [])\n",
    "            return parent\n",
    "        except AssertionError:\n",
    "            pass"
   ]
  },
  {
   "cell_type": "code",
   "execution_count": null,
   "metadata": {
    "collapsed": true
   },
   "outputs": [],
   "source": [
    "class Unbalanced(Exception):\n",
    "    pass"
   ]
  },
  {
   "cell_type": "markdown",
   "metadata": {},
   "source": [
    "## Day 8\n",
    "\n",
    "Exec is a good idea (and makes the code really simple), but there are also other solutions.\n",
    "\n",
    "Same for day 18"
   ]
  },
  {
   "cell_type": "code",
   "execution_count": 23,
   "metadata": {
    "collapsed": true
   },
   "outputs": [],
   "source": [
    "def apply_instructions(registers):\n",
    "    for reg, leap, cond in instructions:\n",
    "        bool_str = 'registers[\"{0}\"]'.format(cond[0]) + ''.join(cond[1:])\n",
    "        update_str = 'if {0}: registers[\"{1}\"] += {2} '.format(bool_str, reg, leap)\n",
    "        exec(update_str)"
   ]
  },
  {
   "cell_type": "code",
   "execution_count": null,
   "metadata": {
    "collapsed": true
   },
   "outputs": [],
   "source": [
    "import operator\n",
    "\n",
    "comparisons = {'>': operator.gt, '>=': operator.ge, '<': operator.lt,\n",
    "               '<=': operator.le, '==': operator.eq, '!=': operator.ne}\n",
    "\n",
    "def process(instruction):\n",
    "    reg, operation, val, condition = parse(instruction)\n",
    "    cond_reg, cond_op, cond_val = condition\n",
    "    if cond_op(registers[cond_reg], cond_val):\n",
    "        registers[reg] = operation(registers[reg], val)"
   ]
  },
  {
   "cell_type": "markdown",
   "metadata": {},
   "source": [
    "## Day 12\n",
    "\n",
    "Continue more explicit than pass"
   ]
  },
  {
   "cell_type": "code",
   "execution_count": 29,
   "metadata": {
    "collapsed": true
   },
   "outputs": [],
   "source": [
    "def connected(node, pipes):\n",
    "    neighbors = pipes[node]\n",
    "    pending = list(neighbors)\n",
    "    while pending:\n",
    "        alice = pending.pop(0)\n",
    "        for bob in pipes[alice]:\n",
    "            if bob in neighbors:\n",
    "                pass   # ---> continue\n",
    "            else:\n",
    "                neighbors.add(bob)\n",
    "                pending.append(bob)\n",
    "    return neighbors"
   ]
  },
  {
   "cell_type": "markdown",
   "metadata": {},
   "source": [
    "## Day 13\n",
    "\n",
    "Do not make complex parsers if not needed"
   ]
  },
  {
   "cell_type": "code",
   "execution_count": 31,
   "metadata": {
    "collapsed": true
   },
   "outputs": [],
   "source": [
    "def parse_scanners(input_file):\n",
    "    scanners = defaultdict(int)\n",
    "    with open(input_file, 'rt') as f_input:\n",
    "        csv_reader = csv.reader(f_input, delimiter=' ')\n",
    "        for l in csv_reader:\n",
    "            scanners[int(l[0].rstrip(':'))] = int(l[1].rstrip())\n",
    "    return scanners"
   ]
  },
  {
   "cell_type": "code",
   "execution_count": 32,
   "metadata": {
    "collapsed": true
   },
   "outputs": [],
   "source": [
    "def parse(lines):\n",
    "    layers_depth = {}\n",
    "    for line in lines:\n",
    "        l = line.strip().split(': ')\n",
    "        layers_depth[int(l[0])] = int(l[1])\n",
    "    return layers_depth"
   ]
  },
  {
   "cell_type": "markdown",
   "metadata": {},
   "source": [
    "And do not need to do too many things"
   ]
  },
  {
   "cell_type": "code",
   "execution_count": 34,
   "metadata": {
    "collapsed": true
   },
   "outputs": [],
   "source": [
    "test_input = \"\"\"0: 3\n",
    "1: 2\n",
    "4: 4\n",
    "6: 4\"\"\".splitlines()\n",
    "\n",
    "layers = parse(test_input)"
   ]
  },
  {
   "cell_type": "code",
   "execution_count": 38,
   "metadata": {},
   "outputs": [
    {
     "data": {
      "text/plain": [
       "24"
      ]
     },
     "execution_count": 38,
     "metadata": {},
     "output_type": "execute_result"
    }
   ],
   "source": [
    "import collections\n",
    "\n",
    "def tick(lrank, time):\n",
    "    r = time % (2 * (lrank - 1))\n",
    "    return  (r <= lrank - 1) * r + (r > lrank - 1) * (2 * (lrank - 1) - r)\n",
    "\n",
    "\n",
    "def get_state(time, scanners):    \n",
    "    state = dict(zip(list(scanners.keys()), [0] * len(scanners)))\n",
    "    if time == 0:\n",
    "        return state\n",
    "    elif time > 0:\n",
    "        for t in range(time + 1):\n",
    "            for scanner in scanners:\n",
    "                state[scanner] = tick(scanners[scanner], t)\n",
    "    return state\n",
    "\n",
    "def trip_severity(scanners):\n",
    "    severity = 0\n",
    "    layers = max(list(scanners.keys()))\n",
    "    for t in range(layers + 1):\n",
    "        if scanners[t] != 0:\n",
    "            tick_before = tick(scanners[t], t)\n",
    "            tick_now = tick(scanners[t], t + 1)\n",
    "            if (tick_before == 0):\n",
    "                severity += scanners[t] * t\n",
    "    return severity\n",
    "\n",
    "scanners = collections.defaultdict(int)\n",
    "scanners.update(layers)\n",
    "trip_severity(scanners)"
   ]
  },
  {
   "cell_type": "code",
   "execution_count": 39,
   "metadata": {},
   "outputs": [
    {
     "data": {
      "text/plain": [
       "24"
      ]
     },
     "execution_count": 39,
     "metadata": {},
     "output_type": "execute_result"
    }
   ],
   "source": [
    "def severity(layers_depth, start_time=0):\n",
    "    severity_ = 0\n",
    "    for i, depth in layers_depth.items():\n",
    "        if (start_time + i) % ((depth-1) * 2) == 0:\n",
    "            severity_ += i*depth\n",
    "    return severity_\n",
    "\n",
    "severity(layers)"
   ]
  },
  {
   "cell_type": "markdown",
   "metadata": {},
   "source": [
    "## Day 15\n",
    "\n",
    "Generators are an esaier way to make iterators. In the end the result is similar"
   ]
  },
  {
   "cell_type": "code",
   "execution_count": 41,
   "metadata": {
    "collapsed": true
   },
   "outputs": [],
   "source": [
    "class FancyGen(object):\n",
    "    \n",
    "    def __init__(self, start, factor):\n",
    "        self.start = start\n",
    "        self.factor = factor\n",
    "        self.q = 2147483647\n",
    "        \n",
    "    def __iter__(self):\n",
    "        self.a = self.start\n",
    "        return self\n",
    "\n",
    "    def __next__(self):\n",
    "        n = (self.a * self.factor) % self.q\n",
    "        self.a = n\n",
    "        return n\n",
    "\n",
    "def compare_lowest_bits(n, m):\n",
    "    n = n % (2 ** 16)\n",
    "    m = m % (2 ** 16)\n",
    "    return n == m\n",
    "\n",
    "def duel(starta, startb):\n",
    "    N = 40 * 10 ** 6\n",
    "    count = 0\n",
    "    gena = iter(FancyGen(starta, 16807))\n",
    "    genb = iter(FancyGen(startb, 48271))\n",
    "    for _ in range(N):\n",
    "        if compare_lowest_bits(next(gena), next(genb)):\n",
    "            count += 1\n",
    "    return count"
   ]
  },
  {
   "cell_type": "code",
   "execution_count": 42,
   "metadata": {},
   "outputs": [
    {
     "name": "stdout",
     "output_type": "stream",
     "text": [
      "44.8 s ± 848 ms per loop (mean ± std. dev. of 7 runs, 1 loop each)\n"
     ]
    }
   ],
   "source": [
    "%%timeit\n",
    "duel(65, 8921)"
   ]
  },
  {
   "cell_type": "code",
   "execution_count": 47,
   "metadata": {
    "collapsed": true
   },
   "outputs": [],
   "source": [
    "def generator(start_value, factor):\n",
    "    val = start_value\n",
    "    while True:\n",
    "        val = val * factor % 2147483647\n",
    "        yield val\n",
    "\n",
    "def compare(start_A, start_B, rounds):\n",
    "    matches = 0\n",
    "    for i, values in enumerate(zip(generator(start_A, 16807), generator(start_B, 48271))):\n",
    "        if i >= rounds:\n",
    "            return matches\n",
    "        else:\n",
    "            vA, vB = values\n",
    "            if vA.to_bytes(100, 'big')[-2:] == vB.to_bytes(100, 'big')[-2:]:\n",
    "                matches += 1"
   ]
  },
  {
   "cell_type": "code",
   "execution_count": 48,
   "metadata": {},
   "outputs": [
    {
     "name": "stdout",
     "output_type": "stream",
     "text": [
      "42 s ± 797 ms per loop (mean ± std. dev. of 7 runs, 1 loop each)\n"
     ]
    }
   ],
   "source": [
    "%%timeit\n",
    "compare(65, 8921, 40*10**6)"
   ]
  },
  {
   "cell_type": "markdown",
   "metadata": {},
   "source": [
    "## Day 16\n",
    "\n",
    "Regex are expensive, even if you do not \"precompile\" them"
   ]
  },
  {
   "cell_type": "code",
   "execution_count": 49,
   "metadata": {
    "collapsed": true
   },
   "outputs": [],
   "source": [
    "import re\n",
    "import numpy as np\n",
    "import copy\n",
    "\n",
    "def shuffle(p, moves):\n",
    "    s = copy.copy(p)\n",
    "    for move in moves:\n",
    "        spin = re.search('s(\\d+)', move)\n",
    "        swapx = re.search('x(\\d+)\\/(\\d+)', move)\n",
    "        swapp = re.search('p(\\w)\\/(\\w)', move)\n",
    "        if spin:\n",
    "            s = np.roll(s, int(spin.group(1)))\n",
    "        if swapx:\n",
    "            a = int(swapx.group(1))\n",
    "            b = int(swapx.group(2))\n",
    "            s[a], s[b] = s[b], s[a]\n",
    "        if swapp:\n",
    "            a = swapp.group(1)\n",
    "            b = swapp.group(2)\n",
    "            a = ''.join(s).index(a)\n",
    "            b = ''.join(s).index(b)\n",
    "            s[a], s[b] = s[b], s[a]\n",
    "    return ''.join(s)"
   ]
  },
  {
   "cell_type": "code",
   "execution_count": 57,
   "metadata": {},
   "outputs": [
    {
     "name": "stdout",
     "output_type": "stream",
     "text": [
      "39.7 µs ± 5.35 µs per loop (mean ± std. dev. of 7 runs, 10000 loops each)\n"
     ]
    }
   ],
   "source": [
    "%%timeit\n",
    "shuffle(list('abcde'), ['s1', 'x3/4', 'pe/b'])"
   ]
  },
  {
   "cell_type": "code",
   "execution_count": 51,
   "metadata": {
    "collapsed": true
   },
   "outputs": [],
   "source": [
    "def parse(instruction):\n",
    "    name = instruction[0]\n",
    "    params = instruction[1:]\n",
    "    if name == 's':\n",
    "        params = [int(params)]\n",
    "    else:\n",
    "        params = params.split('/')\n",
    "        if name == 'x':\n",
    "            params = list(map(int, params))\n",
    "    return name, params\n",
    "\n",
    "class Programs:\n",
    "\n",
    "    def __init__(self, progs):\n",
    "        self.progs = progs\n",
    "        self.length = len(self.progs)\n",
    "        self.instructions_dict = {'s': self.spin, 'x': self.exchange, 'p': self.partner}\n",
    "\n",
    "    def spin(self, pos):\n",
    "        pos = pos % self.length\n",
    "        if pos > 0:\n",
    "            tmp = self.progs[-pos:]\n",
    "            progs = tmp + self.progs\n",
    "            self.progs = progs[:self.length]\n",
    "\n",
    "    def exchange(self, pos1, pos2):\n",
    "        v1 = self.progs[pos1]\n",
    "        v2 = self.progs[pos2]\n",
    "        self.progs = self.progs[:pos1] + v2 + self.progs[pos1+1:]\n",
    "        self.progs = self.progs[:pos2] + v1 + self.progs[pos2+1:]\n",
    "\n",
    "    def partner(self, prog1, prog2):\n",
    "        self.exchange(self.progs.index(prog1), self.progs.index(prog2))\n",
    "\n",
    "    def dance(self, instructions):\n",
    "        for inst, params in instructions:\n",
    "            self.instructions_dict[inst](*params)\n",
    "        return p.progs"
   ]
  },
  {
   "cell_type": "code",
   "execution_count": 58,
   "metadata": {},
   "outputs": [
    {
     "name": "stdout",
     "output_type": "stream",
     "text": [
      "6.32 µs ± 468 ns per loop (mean ± std. dev. of 7 runs, 100000 loops each)\n"
     ]
    }
   ],
   "source": [
    "%%timeit\n",
    "p = Programs('abcde')\n",
    "p.dance([parse(inst) for inst in ['s1', 'x3/4', 'pe/b']])"
   ]
  },
  {
   "cell_type": "code",
   "execution_count": 54,
   "metadata": {
    "collapsed": true
   },
   "outputs": [],
   "source": [
    "import re\n",
    "import numpy as np\n",
    "import copy\n",
    "\n",
    "regex1 = re.compile('s(\\d+)')\n",
    "regex2 = re.compile('x(\\d+)\\/(\\d+)')\n",
    "regex3 = re.compile('p(\\w)\\/(\\w)')\n",
    "\n",
    "def shuffle2(p, moves):\n",
    "    s = copy.copy(p)\n",
    "    for move in moves:\n",
    "        spin = regex1.search(move)\n",
    "        swapx = regex2.search(move)\n",
    "        swapp = regex3.search(move)\n",
    "        if spin:\n",
    "            s = np.roll(s, int(spin.group(1)))\n",
    "        if swapx:\n",
    "            a = int(swapx.group(1))\n",
    "            b = int(swapx.group(2))\n",
    "            s[a], s[b] = s[b], s[a]\n",
    "        if swapp:\n",
    "            a = swapp.group(1)\n",
    "            b = swapp.group(2)\n",
    "            a = ''.join(s).index(a)\n",
    "            b = ''.join(s).index(b)\n",
    "            s[a], s[b] = s[b], s[a]\n",
    "    return ''.join(s)"
   ]
  },
  {
   "cell_type": "code",
   "execution_count": 59,
   "metadata": {},
   "outputs": [
    {
     "name": "stdout",
     "output_type": "stream",
     "text": [
      "37.9 µs ± 5.74 µs per loop (mean ± std. dev. of 7 runs, 10000 loops each)\n"
     ]
    }
   ],
   "source": [
    "%%timeit\n",
    "shuffle2(list('abcde'), ['s1', 'x3/4', 'pe/b'])"
   ]
  },
  {
   "cell_type": "markdown",
   "metadata": {},
   "source": [
    "## Day 22\n",
    "\n",
    "Useless day just takes memory and time"
   ]
  },
  {
   "cell_type": "code",
   "execution_count": 62,
   "metadata": {
    "collapsed": true
   },
   "outputs": [],
   "source": [
    "test_input = \"\"\"..#\n",
    "#..\n",
    "...\"\"\".splitlines()"
   ]
  },
  {
   "cell_type": "code",
   "execution_count": 71,
   "metadata": {
    "collapsed": true
   },
   "outputs": [],
   "source": [
    "import numpy as np\n",
    "from collections import defaultdict\n",
    "\n",
    "def parse_grid(f_input):\n",
    "    grid = defaultdict(lambda: '.')\n",
    "    size = 0\n",
    "    for l in f_input:\n",
    "        hash_row = {hash(np.array([size, i], dtype=np.int16).tostring()): v for i, v in enumerate(list(l.rstrip()))}\n",
    "        grid.update(hash_row)\n",
    "        size += 1\n",
    "    return grid, size\n",
    "\n",
    "class Virus(object):\n",
    "    def __init__(self, grid, size):\n",
    "        self.grid = grid  # enclosing the hashes and states of infected positions\n",
    "        self.pos = np.array([(size - 1) // 2, (size - 1) // 2], dtype=np.int16)  # initially in the center of a positive grid\n",
    "        self.facing = np.array([-1, 0], dtype=np.int16)  # initially facing up in our coords\n",
    "        self.count_infect = 0\n",
    "    def burst(self):\n",
    "        hash_pos = hash(self.pos.tostring())\n",
    "        rotation = np.array([[0, -1], [1, 0]], dtype=np.int16)\n",
    "        self.facing = np.dot(rotation, self.facing)\n",
    "        if self.grid[hash_pos] == '#':\n",
    "            self.grid[hash_pos] = '.'\n",
    "            self.facing *= -1\n",
    "        else:\n",
    "            self.grid[hash_pos] = '#'\n",
    "            self.count_infect += 1\n",
    "        self.pos += self.facing\n",
    "\n",
    "def count_infect(grid, size, n):\n",
    "    test_virus = Virus(grid, size)\n",
    "    for _ in range(n):\n",
    "        test_virus.burst()\n",
    "    return test_virus.count_infect\n",
    "\n",
    "grid, size = parse_grid(test_input)"
   ]
  },
  {
   "cell_type": "code",
   "execution_count": 72,
   "metadata": {},
   "outputs": [
    {
     "name": "stdout",
     "output_type": "stream",
     "text": [
      "55.8 ms ± 4.22 ms per loop (mean ± std. dev. of 7 runs, 10 loops each)\n"
     ]
    }
   ],
   "source": [
    "%%timeit\n",
    "count_infect(grid, size, 10000)"
   ]
  },
  {
   "cell_type": "code",
   "execution_count": 69,
   "metadata": {
    "collapsed": true
   },
   "outputs": [],
   "source": [
    "directions = 'nesw'\n",
    "directions2move = {'n': (0, 1), 's': (0, -1), 'e': (1, 0), 'w': (-1, 0)}\n",
    "\n",
    "def parse(lines):\n",
    "    nodes = []\n",
    "    size = len(lines[0].strip())\n",
    "    v = size // 2\n",
    "    for i, line in enumerate(lines):\n",
    "        for j, c in enumerate(line.strip()):\n",
    "            if c == '#':\n",
    "                nodes.append((j-v, (i-v)*(-1)))\n",
    "    return set(nodes)\n",
    "\n",
    "\n",
    "def burst(infected_nodes, pos, direction):\n",
    "    x, y = pos\n",
    "\n",
    "    # next direction\n",
    "    if pos in infected_nodes:\n",
    "        i = (directions.index(direction) + 1) % 4\n",
    "\n",
    "        infected_nodes.remove(pos)\n",
    "\n",
    "    else:\n",
    "        i = (directions.index(direction) - 1) % 4\n",
    "\n",
    "        infected_nodes.add(pos)\n",
    "\n",
    "    next_direction = directions[i]\n",
    "\n",
    "    # next position\n",
    "    a, b = directions2move[next_direction]\n",
    "    next_pos = (x+a, y+b)\n",
    "\n",
    "    return infected_nodes, next_pos, next_direction\n",
    "\n",
    "\n",
    "def count_infections(initial_status, iterations):\n",
    "    count = 0\n",
    "    status = initial_status\n",
    "    pos = (0,0)\n",
    "    direction = 'n'\n",
    "    for _ in range(iterations):\n",
    "        prev_size = len(status)\n",
    "        status, pos, direction = burst(status, pos, direction)\n",
    "        count += 1 if len(status) > prev_size else 0 # should be 0 or 1\n",
    "    return count\n",
    "\n",
    "nodes = parse(test_input)"
   ]
  },
  {
   "cell_type": "code",
   "execution_count": 73,
   "metadata": {},
   "outputs": [
    {
     "name": "stdout",
     "output_type": "stream",
     "text": [
      "9.86 ms ± 587 µs per loop (mean ± std. dev. of 7 runs, 100 loops each)\n"
     ]
    }
   ],
   "source": [
    "%%timeit\n",
    "count_infections(nodes, 10**4)"
   ]
  },
  {
   "cell_type": "markdown",
   "metadata": {},
   "source": [
    "## Day 23\n",
    "\n",
    "Just different approaches"
   ]
  },
  {
   "cell_type": "code",
   "execution_count": 84,
   "metadata": {
    "collapsed": true
   },
   "outputs": [],
   "source": [
    "def is_prime(x):\n",
    "    if x >= 2:\n",
    "        for y in range(2,x):\n",
    "            if not ( x % y ):\n",
    "                return False\n",
    "    else:\n",
    "        return False\n",
    "    return True\n",
    "\n",
    "def run_coprocessor(alpha):\n",
    "    loop = False\n",
    "    a, b = alpha, 79\n",
    "    c = b\n",
    "    d, e, f, g, h = 0, 0, 0, 0, 0\n",
    "    if a != 0:\n",
    "        b *= 100\n",
    "        b += 100000\n",
    "        c = b\n",
    "        c += 17000\n",
    "    while (g != 0) or not loop:\n",
    "        loop = True\n",
    "        f = 1\n",
    "        d = 2\n",
    "        e = 2\n",
    "        if not is_prime(b):\n",
    "            f = 0\n",
    "        e = b\n",
    "        d = b\n",
    "        if f == 0:\n",
    "            h += 1\n",
    "        g = b\n",
    "        g = g - c\n",
    "        if g == 0:\n",
    "            return a, b, c, d, e, f, g, h\n",
    "        else:\n",
    "            b += 17"
   ]
  },
  {
   "cell_type": "code",
   "execution_count": 85,
   "metadata": {},
   "outputs": [
    {
     "name": "stdout",
     "output_type": "stream",
     "text": [
      "524 ms ± 5.07 ms per loop (mean ± std. dev. of 7 runs, 1 loop each)\n"
     ]
    }
   ],
   "source": [
    "run_coprocessor(1)"
   ]
  },
  {
   "cell_type": "code",
   "execution_count": 86,
   "metadata": {
    "collapsed": true
   },
   "outputs": [],
   "source": [
    "def isprime(value):\n",
    "    for i in range(2, value):\n",
    "        if (value % i) == 0:\n",
    "            return False\n",
    "    return True\n",
    "\n",
    "\n",
    "def count_primes(init, end, step):\n",
    "    count = 0\n",
    "    for i in range(init, end+1, step):\n",
    "        if isprime(i):\n",
    "            count += 1\n",
    "    return count\n",
    "\n",
    "\n",
    "def part2():\n",
    "   b = 106500\n",
    "   c = 123500\n",
    "   h = (c-b)/17  # each loop b increases 17 until it matches c\n",
    "   h += 1  # there is an extra loop when b == c ??\n",
    "   h -= count_primes(b, c, 17)  # on primes, f is set to 0 and h not increased\n",
    "   return int(h)"
   ]
  },
  {
   "cell_type": "code",
   "execution_count": 87,
   "metadata": {},
   "outputs": [
    {
     "name": "stdout",
     "output_type": "stream",
     "text": [
      "573 ms ± 15 ms per loop (mean ± std. dev. of 7 runs, 1 loop each)\n"
     ]
    }
   ],
   "source": [
    "part2()"
   ]
  },
  {
   "cell_type": "code",
   "execution_count": null,
   "metadata": {
    "collapsed": true
   },
   "outputs": [],
   "source": []
  }
 ],
 "metadata": {
  "kernelspec": {
   "display_name": "Python [conda root]",
   "language": "python",
   "name": "conda-root-py"
  },
  "language_info": {
   "codemirror_mode": {
    "name": "ipython",
    "version": 3
   },
   "file_extension": ".py",
   "mimetype": "text/x-python",
   "name": "python",
   "nbconvert_exporter": "python",
   "pygments_lexer": "ipython3",
   "version": "3.6.3"
  }
 },
 "nbformat": 4,
 "nbformat_minor": 2
}
