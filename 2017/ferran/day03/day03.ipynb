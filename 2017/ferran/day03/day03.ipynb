{
 "cells": [
  {
   "cell_type": "markdown",
   "metadata": {},
   "source": [
    "# Spiral Memory"
   ]
  },
  {
   "cell_type": "raw",
   "metadata": {},
   "source": [
    "Each square on the grid is allocated in a spiral pattern starting at a location marked 1 and then counting up while spiraling outward. For example, the first few squares are allocated like this:\n",
    "\n",
    "17  16  15  14  13\n",
    "18   5   4   3  12\n",
    "19   6   1   2  11\n",
    "20   7   8   9  10\n",
    "21  22  23---> ..."
   ]
  },
  {
   "cell_type": "markdown",
   "metadata": {},
   "source": [
    "## Input"
   ]
  },
  {
   "cell_type": "code",
   "execution_count": 1,
   "metadata": {
    "ExecuteTime": {
     "end_time": "2017-12-03T11:53:28.598410",
     "start_time": "2017-12-03T11:53:28.591627"
    },
    "collapsed": true
   },
   "outputs": [],
   "source": [
    "puzzle_input = 312051"
   ]
  },
  {
   "cell_type": "markdown",
   "metadata": {},
   "source": [
    "## Part 1"
   ]
  },
  {
   "cell_type": "code",
   "execution_count": 149,
   "metadata": {
    "ExecuteTime": {
     "end_time": "2017-12-03T13:23:01.546927",
     "start_time": "2017-12-03T13:23:01.511131"
    }
   },
   "outputs": [],
   "source": [
    "import numpy as np\n",
    "\n",
    "def number_to_coordinates(n):\n",
    "    \n",
    "    q = int(np.sqrt(n))\n",
    "    r = n - q ** 2\n",
    "    if q % 2 != 0:\n",
    "        x = (q - 1) // 2 + min(1, r) + min(q - r + 1, 0)\n",
    "        y = - (q - 1) // 2 + min(max(r - 1, 0), q)\n",
    "    else:\n",
    "        x = 1 - (q // 2) - min(1, r) - min(q - r + 1, 0)\n",
    "        y = q // 2 - min(max(r - 1, 0), q)\n",
    "    return x, y\n",
    "\n",
    "def spiral_manhattan(n):\n",
    "    x, y = number_to_coordinates(n)\n",
    "    return abs(x) + abs(y)"
   ]
  },
  {
   "cell_type": "markdown",
   "metadata": {},
   "source": [
    "### Tests"
   ]
  },
  {
   "cell_type": "code",
   "execution_count": 152,
   "metadata": {
    "ExecuteTime": {
     "end_time": "2017-12-03T13:24:19.606546",
     "start_time": "2017-12-03T13:24:19.588932"
    }
   },
   "outputs": [
    {
     "data": {
      "text/plain": [
       "0"
      ]
     },
     "execution_count": 152,
     "metadata": {},
     "output_type": "execute_result"
    }
   ],
   "source": [
    "spiral_manhattan(1)"
   ]
  },
  {
   "cell_type": "code",
   "execution_count": 153,
   "metadata": {
    "ExecuteTime": {
     "end_time": "2017-12-03T13:24:22.976034",
     "start_time": "2017-12-03T13:24:22.962709"
    }
   },
   "outputs": [
    {
     "data": {
      "text/plain": [
       "3"
      ]
     },
     "execution_count": 153,
     "metadata": {},
     "output_type": "execute_result"
    }
   ],
   "source": [
    "spiral_manhattan(12)"
   ]
  },
  {
   "cell_type": "code",
   "execution_count": 156,
   "metadata": {
    "ExecuteTime": {
     "end_time": "2017-12-03T13:24:38.422635",
     "start_time": "2017-12-03T13:24:38.408776"
    }
   },
   "outputs": [
    {
     "data": {
      "text/plain": [
       "2"
      ]
     },
     "execution_count": 156,
     "metadata": {},
     "output_type": "execute_result"
    }
   ],
   "source": [
    "spiral_manhattan(23)"
   ]
  },
  {
   "cell_type": "code",
   "execution_count": 155,
   "metadata": {
    "ExecuteTime": {
     "end_time": "2017-12-03T13:24:28.483608",
     "start_time": "2017-12-03T13:24:28.465685"
    }
   },
   "outputs": [
    {
     "data": {
      "text/plain": [
       "31"
      ]
     },
     "execution_count": 155,
     "metadata": {},
     "output_type": "execute_result"
    }
   ],
   "source": [
    "spiral_manhattan(1024)"
   ]
  },
  {
   "cell_type": "markdown",
   "metadata": {},
   "source": [
    "### Solution"
   ]
  },
  {
   "cell_type": "code",
   "execution_count": 157,
   "metadata": {
    "ExecuteTime": {
     "end_time": "2017-12-03T13:25:13.236615",
     "start_time": "2017-12-03T13:25:13.223674"
    }
   },
   "outputs": [
    {
     "data": {
      "text/plain": [
       "430"
      ]
     },
     "execution_count": 157,
     "metadata": {},
     "output_type": "execute_result"
    }
   ],
   "source": [
    "spiral_manhattan(puzzle_input)"
   ]
  },
  {
   "cell_type": "markdown",
   "metadata": {
    "ExecuteTime": {
     "end_time": "2017-12-02T14:10:12.187061",
     "start_time": "2017-12-02T14:10:12.180153"
    },
    "collapsed": true
   },
   "source": [
    "## Part 2"
   ]
  },
  {
   "cell_type": "raw",
   "metadata": {},
   "source": [
    "Square 1 starts with the value 1.\n",
    "Square 2 has only one adjacent filled square (with value 1), so it also stores 1.\n",
    "Square 3 has both of the above squares as neighbors and stores the sum of their values, 2.\n",
    "Square 4 has all three of the aforementioned squares as neighbors and stores the sum of their values, 4.\n",
    "Square 5 only has the first and fourth squares as neighbors, so it gets the value 5.\n",
    "Once a square is written, its value does not change. Therefore, the first few squares would receive the following values:\n",
    "\n",
    "147  142  133  122   59\n",
    "304    5    4    2   57\n",
    "330   10    1    1   54\n",
    "351   11   23   25   26\n",
    "362  747  806--->   ..."
   ]
  },
  {
   "cell_type": "code",
   "execution_count": 178,
   "metadata": {
    "ExecuteTime": {
     "end_time": "2017-12-03T17:26:31.941542",
     "start_time": "2017-12-03T17:26:31.919389"
    }
   },
   "outputs": [],
   "source": [
    "from collections import defaultdict\n",
    "\n",
    "def spiral_coordinates():\n",
    "    n = 0\n",
    "    while n >= 0:\n",
    "        n += 1\n",
    "        yield number_to_coordinates(n)\n",
    "\n",
    "def first_larger(bound):\n",
    "    values = defaultdict(int)\n",
    "    g = spiral_coordinates()\n",
    "    x, y = next(g)\n",
    "    values[(x, y)] = 1\n",
    "    while values[(x, y)] <= bound:\n",
    "        x, y = next(g)\n",
    "        values[(x, y)] = sum([values[(x + i, y + j)] for i in {-1, 0, 1} for j in {-1 , 0, 1} if (i != 0) or (j != 0)])\n",
    "    return values[(x, y)]"
   ]
  },
  {
   "cell_type": "code",
   "execution_count": 186,
   "metadata": {
    "ExecuteTime": {
     "end_time": "2017-12-03T17:27:17.825294",
     "start_time": "2017-12-03T17:27:17.810916"
    }
   },
   "outputs": [
    {
     "data": {
      "text/plain": [
       "312453"
      ]
     },
     "execution_count": 186,
     "metadata": {},
     "output_type": "execute_result"
    }
   ],
   "source": [
    "first_larger(puzzle_input)"
   ]
  }
 ],
 "metadata": {
  "kernelspec": {
   "display_name": "Python [conda env:adventofcode]",
   "language": "python",
   "name": "conda-env-adventofcode-py"
  },
  "language_info": {
   "codemirror_mode": {
    "name": "ipython",
    "version": 3
   },
   "file_extension": ".py",
   "mimetype": "text/x-python",
   "name": "python",
   "nbconvert_exporter": "python",
   "pygments_lexer": "ipython3",
   "version": "3.5.2"
  },
  "toc": {
   "colors": {
    "hover_highlight": "#DAA520",
    "running_highlight": "#FF0000",
    "selected_highlight": "#FFD700"
   },
   "moveMenuLeft": true,
   "nav_menu": {
    "height": "66px",
    "width": "252px"
   },
   "navigate_menu": true,
   "number_sections": true,
   "sideBar": true,
   "threshold": 4,
   "toc_cell": false,
   "toc_section_display": "block",
   "toc_window_display": false
  }
 },
 "nbformat": 4,
 "nbformat_minor": 2
}
