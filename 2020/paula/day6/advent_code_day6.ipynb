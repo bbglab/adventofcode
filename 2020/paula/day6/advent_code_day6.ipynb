{
 "cells": [
  {
   "cell_type": "code",
   "execution_count": 8,
   "metadata": {},
   "outputs": [],
   "source": [
    "group=set([])\n",
    "numbers=[]\n",
    "with open('input_day6.txt','r') as file:\n",
    "    for line in file:\n",
    "        if line == '\\n':\n",
    "            numbers.append(len(group))\n",
    "            group=set([])\n",
    "        else:\n",
    "            for letter in line.strip():\n",
    "                group.add(letter)\n",
    "    numbers.append(len(group))"
   ]
  },
  {
   "cell_type": "code",
   "execution_count": 9,
   "metadata": {},
   "outputs": [
    {
     "data": {
      "text/plain": [
       "6799"
      ]
     },
     "execution_count": 9,
     "metadata": {},
     "output_type": "execute_result"
    }
   ],
   "source": [
    "sum(numbers)"
   ]
  },
  {
   "cell_type": "code",
   "execution_count": 22,
   "metadata": {},
   "outputs": [],
   "source": [
    "group=set([])\n",
    "numbers=[]\n",
    "start=True\n",
    "with open('input_day6.txt','r') as file:\n",
    "    for line in file:\n",
    "        if line == '\\n':\n",
    "            numbers.append(len(group))\n",
    "            group=set([])\n",
    "            start=True\n",
    "        else:\n",
    "            if start:\n",
    "                group=set(list(line.strip()))\n",
    "                start=False\n",
    "            else:\n",
    "                group=group & set(list(line.strip()))\n",
    "    numbers.append(len(group))"
   ]
  },
  {
   "cell_type": "code",
   "execution_count": 23,
   "metadata": {},
   "outputs": [
    {
     "data": {
      "text/plain": [
       "3354"
      ]
     },
     "execution_count": 23,
     "metadata": {},
     "output_type": "execute_result"
    }
   ],
   "source": [
    "sum(numbers)\n"
   ]
  }
 ],
 "metadata": {
  "kernelspec": {
   "display_name": "Python 3",
   "language": "python",
   "name": "python3"
  },
  "language_info": {
   "codemirror_mode": {
    "name": "ipython",
    "version": 3
   },
   "file_extension": ".py",
   "mimetype": "text/x-python",
   "name": "python",
   "nbconvert_exporter": "python",
   "pygments_lexer": "ipython3",
   "version": "3.8.5"
  }
 },
 "nbformat": 4,
 "nbformat_minor": 4
}
