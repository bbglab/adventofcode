{
 "cells": [
  {
   "cell_type": "markdown",
   "metadata": {},
   "source": [
    "# Day 17: No such thing as too much"
   ]
  },
  {
   "cell_type": "code",
   "execution_count": null,
   "metadata": {
    "collapsed": true
   },
   "outputs": [],
   "source": [
    "containers = [50, 44, 11, 49, 42, 46, 18, 32, 26, 40, 21, 7, 18, 43, 10, 47, 36, 24, 22, 40]"
   ]
  },
  {
   "cell_type": "markdown",
   "metadata": {},
   "source": [
    "## Day 17.1"
   ]
  },
  {
   "cell_type": "code",
   "execution_count": 2,
   "metadata": {
    "ExecuteTime": {
     "end_time": "2017-12-18T00:11:36.276526",
     "start_time": "2017-12-18T00:11:35.856156"
    }
   },
   "outputs": [],
   "source": [
    "from sympy.abc import x\n",
    "from sympy import Poly"
   ]
  },
  {
   "cell_type": "code",
   "execution_count": 8,
   "metadata": {
    "ExecuteTime": {
     "end_time": "2017-12-18T00:17:35.728994",
     "start_time": "2017-12-18T00:17:35.701449"
    }
   },
   "outputs": [],
   "source": [
    "def combine(total, containers):\n",
    "    poly = 1\n",
    "    for i in containers:\n",
    "        poly *= (1 + x**i)\n",
    "    poly = Poly(poly)\n",
    "    return poly.all_coeffs()[total]"
   ]
  },
  {
   "cell_type": "code",
   "execution_count": 9,
   "metadata": {
    "ExecuteTime": {
     "end_time": "2017-12-18T00:17:56.094051",
     "start_time": "2017-12-18T00:17:55.969677"
    }
   },
   "outputs": [
    {
     "data": {
      "text/plain": [
       "654"
      ]
     },
     "execution_count": 9,
     "metadata": {},
     "output_type": "execute_result"
    }
   ],
   "source": [
    "combine(150, containers)"
   ]
  },
  {
   "cell_type": "markdown",
   "metadata": {},
   "source": [
    "## Day 17.2"
   ]
  },
  {
   "cell_type": "code",
   "execution_count": 10,
   "metadata": {
    "ExecuteTime": {
     "end_time": "2017-12-18T00:18:57.190446",
     "start_time": "2017-12-18T00:18:57.175775"
    },
    "collapsed": true
   },
   "outputs": [],
   "source": [
    "from sympy.abc import x, y"
   ]
  },
  {
   "cell_type": "code",
   "execution_count": 24,
   "metadata": {
    "ExecuteTime": {
     "end_time": "2017-12-18T00:37:18.375514",
     "start_time": "2017-12-18T00:37:18.344034"
    },
    "collapsed": true
   },
   "outputs": [],
   "source": [
    "def min_combine(total, containers):\n",
    "    poly = 1\n",
    "    for i in containers:\n",
    "        poly *= (y + x**i)\n",
    "    poly = Poly(poly)\n",
    "    coeff_dict = dict(zip(poly.monoms(), poly.coeffs()))\n",
    "    master_monom = sorted([m for m in poly.monoms() if m[0] == total], key=lambda a: a[1], reverse=True)[0]\n",
    "    return coeff_dict[master_monom]"
   ]
  },
  {
   "cell_type": "code",
   "execution_count": 25,
   "metadata": {
    "ExecuteTime": {
     "end_time": "2017-12-18T00:37:19.507633",
     "start_time": "2017-12-18T00:37:19.103694"
    }
   },
   "outputs": [
    {
     "data": {
      "text/plain": [
       "57"
      ]
     },
     "execution_count": 25,
     "metadata": {},
     "output_type": "execute_result"
    }
   ],
   "source": [
    "min_combine(150, containers)"
   ]
  }
 ],
 "metadata": {
  "kernelspec": {
   "display_name": "Python [conda env:adventofcode]",
   "language": "python",
   "name": "conda-env-adventofcode-py"
  },
  "language_info": {
   "codemirror_mode": {
    "name": "ipython",
    "version": 3
   },
   "file_extension": ".py",
   "mimetype": "text/x-python",
   "name": "python",
   "nbconvert_exporter": "python",
   "pygments_lexer": "ipython3",
   "version": "3.5.2"
  },
  "toc": {
   "colors": {
    "hover_highlight": "#DAA520",
    "running_highlight": "#FF0000",
    "selected_highlight": "#FFD700"
   },
   "moveMenuLeft": true,
   "nav_menu": {
    "height": "66px",
    "width": "252px"
   },
   "navigate_menu": true,
   "number_sections": true,
   "sideBar": true,
   "threshold": 4,
   "toc_cell": false,
   "toc_section_display": "block",
   "toc_window_display": false
  }
 },
 "nbformat": 4,
 "nbformat_minor": 2
}
