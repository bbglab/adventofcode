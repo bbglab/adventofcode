{
 "cells": [
  {
   "cell_type": "markdown",
   "metadata": {
    "ExecuteTime": {
     "end_time": "2016-12-25T11:34:33.431939",
     "start_time": "2016-12-25T11:34:33.419659"
    },
    "collapsed": false
   },
   "source": [
    "# Challenge 21\n",
    "\n",
    "## Challenge 21.1"
   ]
  },
  {
   "cell_type": "code",
   "execution_count": 26,
   "metadata": {
    "ExecuteTime": {
     "end_time": "2016-12-26T23:46:37.654877",
     "start_time": "2016-12-26T23:46:37.492380"
    },
    "collapsed": false
   },
   "outputs": [],
   "source": [
    "import numpy as np\n",
    "import re\n",
    "\n",
    "SWAP_POS       = re.compile('swap position (\\d+) with position (\\d+)')\n",
    "SWAP_LETTER    = re.compile('swap letter ([a-z]) with letter ([a-z])')\n",
    "ROTATE_LEFT    = re.compile('rotate left (\\d+) step')\n",
    "ROTATE_RIGHT   = re.compile('rotate right (\\d+) step')\n",
    "ROTATE_LETTER  = re.compile('rotate based on position of letter ([a-z])')\n",
    "REVERSE        = re.compile('reverse positions (\\d+) through (\\d+)')\n",
    "MOVE           = re.compile('move position (\\d+) to position (\\d+)')\n",
    "\n",
    "class Password(object):\n",
    "    \n",
    "    def __init__(self, word):\n",
    "        self.word = word\n",
    "    \n",
    "    def get(self):\n",
    "        return str(self.word)\n",
    "\n",
    "    def swap_position(self, x, y):\n",
    "        a = self.word[x]\n",
    "        self.word = [self.word[i] if i != x else self.word[y] for i in range(len(self.word))]\n",
    "        self.word[y] = a\n",
    "        self.word = ''.join(self.word)\n",
    "    \n",
    "    def swap_letter(self, a, b):\n",
    "        pos_a = [j for j, k in enumerate(list(self.word)) if k == a]\n",
    "        pos_b = [j for j, k in enumerate(list(self.word)) if k == b]\n",
    "        self.word = [self.word[i] if i not in pos_a else b for i in range(len(self.word))]\n",
    "        self.word = ''.join([self.word[i] if i not in pos_b else a for i in range(len(self.word))])\n",
    "        \n",
    "    def rotate_right(self, x):\n",
    "        self.word = ''.join(np.roll(list(self.word), x))\n",
    "            \n",
    "    def rotate_left(self, x):\n",
    "        self.word = ''.join(np.roll(list(self.word), -x))\n",
    "    \n",
    "    def rotate_letter(self, a):\n",
    "        ind = self.word.index(a)\n",
    "        self.rotate_right((ind + 2)*(ind >= 4) + (ind + 1)*(ind < 4))\n",
    "    \n",
    "    def reverse_positions(self, x, y):\n",
    "        l = list(self.word)\n",
    "        q = l[x:y+1]\n",
    "        q.reverse()\n",
    "        self.word = ''.join(l[:x] + q + l[y+1:])\n",
    "    \n",
    "    def move_position(self, x, y):\n",
    "        l = list(self.word)\n",
    "        a = l.pop(x)\n",
    "        q = l[:y] + [a] + l[y:]\n",
    "        self.word = ''.join(q)\n",
    "        \n",
    "    def use(self, instr):\n",
    "        \n",
    "        m = SWAP_POS.match(instr)\n",
    "        if m:\n",
    "            x, y = m.groups()\n",
    "            self.swap_position(int(x), int(y))\n",
    "        \n",
    "        m = SWAP_LETTER.match(instr)\n",
    "        if m:\n",
    "            a, b = m.groups()\n",
    "            self.swap_letter(a, b)\n",
    "        \n",
    "        m = ROTATE_RIGHT.match(instr)\n",
    "        if m:\n",
    "            x = m.groups()\n",
    "            self.rotate_right(int(x[0]))\n",
    "        \n",
    "        m = ROTATE_LEFT.match(instr)\n",
    "        if m:\n",
    "            x = m.groups()\n",
    "            self.rotate_left(int(x[0]))\n",
    "        \n",
    "        m = ROTATE_LETTER.match(instr)\n",
    "        if m:\n",
    "            a = m.groups()\n",
    "            self.rotate_letter(str(a[0]))\n",
    "        \n",
    "        m = REVERSE.match(instr)\n",
    "        if m:\n",
    "            x, y = m.groups()\n",
    "            self.reverse_positions(int(x), int(y))\n",
    "        \n",
    "        m = MOVE.match(instr)\n",
    "        if m:\n",
    "            x, y = m.groups()\n",
    "            self.move_position(int(x), int(y))"
   ]
  },
  {
   "cell_type": "code",
   "execution_count": 27,
   "metadata": {
    "ExecuteTime": {
     "end_time": "2016-12-26T23:46:46.278378",
     "start_time": "2016-12-26T23:46:46.265391"
    },
    "collapsed": true
   },
   "outputs": [],
   "source": [
    "def scramble(myinput, w):\n",
    "    password = Password(w)\n",
    "    with open(myinput, 'rt') as f:\n",
    "        for line in f:\n",
    "            password.use(line.rstrip())\n",
    "    return password.get()"
   ]
  },
  {
   "cell_type": "markdown",
   "metadata": {},
   "source": [
    "## Test"
   ]
  },
  {
   "cell_type": "code",
   "execution_count": 28,
   "metadata": {
    "ExecuteTime": {
     "end_time": "2016-12-26T23:46:47.844132",
     "start_time": "2016-12-26T23:46:47.815102"
    },
    "collapsed": false
   },
   "outputs": [
    {
     "data": {
      "text/plain": [
       "'decab'"
      ]
     },
     "execution_count": 28,
     "metadata": {},
     "output_type": "execute_result"
    }
   ],
   "source": [
    "w = Password('abcde')\n",
    "w.swap_position(4,0)\n",
    "w.swap_letter('b','d')\n",
    "w.reverse_positions(0,4)\n",
    "w.rotate_left(1)\n",
    "w.move_position(1,4)\n",
    "w.move_position(3,0)\n",
    "w.rotate_letter('b')\n",
    "w.rotate_letter('d')\n",
    "w.get()"
   ]
  },
  {
   "cell_type": "code",
   "execution_count": 29,
   "metadata": {
    "ExecuteTime": {
     "end_time": "2016-12-26T23:46:49.976335",
     "start_time": "2016-12-26T23:46:49.964562"
    },
    "collapsed": false
   },
   "outputs": [
    {
     "data": {
      "text/plain": [
       "'decab'"
      ]
     },
     "execution_count": 29,
     "metadata": {},
     "output_type": "execute_result"
    }
   ],
   "source": [
    "word = 'abcde'\n",
    "testinput = '/home/fmuinos/projects/adventofcode/2016/ferran/inputs/input21-test.txt'\n",
    "scramble(testinput, word)"
   ]
  },
  {
   "cell_type": "markdown",
   "metadata": {},
   "source": [
    "## Result"
   ]
  },
  {
   "cell_type": "code",
   "execution_count": 30,
   "metadata": {
    "ExecuteTime": {
     "end_time": "2016-12-26T23:47:07.032104",
     "start_time": "2016-12-26T23:47:07.011448"
    },
    "collapsed": false
   },
   "outputs": [
    {
     "data": {
      "text/plain": [
       "'baecdfgh'"
      ]
     },
     "execution_count": 30,
     "metadata": {},
     "output_type": "execute_result"
    }
   ],
   "source": [
    "word = 'abcdefgh'\n",
    "myinput = '/home/fmuinos/projects/adventofcode/2016/ferran/inputs/input21.txt'\n",
    "scramble(myinput, word)"
   ]
  },
  {
   "cell_type": "markdown",
   "metadata": {},
   "source": [
    "## Challenge 21.2\n",
    "\n",
    "(Brute Force Solution)"
   ]
  },
  {
   "cell_type": "code",
   "execution_count": 36,
   "metadata": {
    "ExecuteTime": {
     "end_time": "2016-12-26T23:55:38.856487",
     "start_time": "2016-12-26T23:55:38.851521"
    },
    "collapsed": true
   },
   "outputs": [],
   "source": [
    "word = 'fbgdceah'\n",
    "myinput = '/home/fmuinos/projects/adventofcode/2016/ferran/inputs/input21.txt'"
   ]
  },
  {
   "cell_type": "code",
   "execution_count": 37,
   "metadata": {
    "ExecuteTime": {
     "end_time": "2016-12-26T23:55:39.719277",
     "start_time": "2016-12-26T23:55:39.701571"
    },
    "collapsed": false
   },
   "outputs": [],
   "source": [
    "from itertools import permutations\n",
    "\n",
    "def unscramble(myinput, word):\n",
    "    for l in permutations(list('abcdefgh')):\n",
    "        if scramble(myinput, ''.join(l)) == unscrambable:\n",
    "            return ''.join(l)"
   ]
  },
  {
   "cell_type": "code",
   "execution_count": 38,
   "metadata": {
    "ExecuteTime": {
     "end_time": "2016-12-26T23:56:12.576695",
     "start_time": "2016-12-26T23:55:59.207912"
    },
    "collapsed": false
   },
   "outputs": [
    {
     "data": {
      "text/plain": [
       "'cegdahbf'"
      ]
     },
     "execution_count": 38,
     "metadata": {},
     "output_type": "execute_result"
    }
   ],
   "source": [
    "unscramble(myinput, word)"
   ]
  }
 ],
 "metadata": {
  "anaconda-cloud": {},
  "kernelspec": {
   "display_name": "Python [conda env:adventofcode]",
   "language": "python",
   "name": "conda-env-adventofcode-py"
  },
  "language_info": {
   "codemirror_mode": {
    "name": "ipython",
    "version": 3
   },
   "file_extension": ".py",
   "mimetype": "text/x-python",
   "name": "python",
   "nbconvert_exporter": "python",
   "pygments_lexer": "ipython3",
   "version": "3.5.2"
  },
  "toc": {
   "colors": {
    "hover_highlight": "#DAA520",
    "running_highlight": "#FF0000",
    "selected_highlight": "#FFD700"
   },
   "moveMenuLeft": true,
   "nav_menu": {
    "height": "67px",
    "width": "251px"
   },
   "navigate_menu": true,
   "number_sections": true,
   "sideBar": true,
   "threshold": 4,
   "toc_cell": false,
   "toc_section_display": "block",
   "toc_window_display": false
  }
 },
 "nbformat": 4,
 "nbformat_minor": 1
}
