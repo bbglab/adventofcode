{
 "cells": [
  {
   "cell_type": "code",
   "execution_count": 25,
   "metadata": {},
   "outputs": [],
   "source": [
    "number_seat=[]\n",
    "with open('input_day5.txt','r') as file:\n",
    "    for line in file:\n",
    "        \n",
    "        row=list(range(128))\n",
    "        for letter in line.strip()[:7]:\n",
    "            if letter==\"F\":\n",
    "                row=row[:int(len(row)/2)]\n",
    "            else:\n",
    "                row=row[int(len(row)/2):]\n",
    "                \n",
    "        col=list(range(8))\n",
    "        for letter in line.strip()[7:]:\n",
    "            if letter==\"L\":\n",
    "                col=col[:int(len(col)/2)]\n",
    "            else:\n",
    "                col=col[int(len(col)/2):]\n",
    "        \n",
    "        number_seat.append(row[0]*8+col[0])\n",
    "     "
   ]
  },
  {
   "cell_type": "code",
   "execution_count": 27,
   "metadata": {},
   "outputs": [
    {
     "data": {
      "text/plain": [
       "850"
      ]
     },
     "execution_count": 27,
     "metadata": {},
     "output_type": "execute_result"
    }
   ],
   "source": [
    "max(number_seat)"
   ]
  },
  {
   "cell_type": "code",
   "execution_count": 29,
   "metadata": {},
   "outputs": [
    {
     "data": {
      "text/plain": [
       "{0, 1, 2, 3, 4, 5, 6, 7, 8, 9, 10, 599}"
      ]
     },
     "execution_count": 29,
     "metadata": {},
     "output_type": "execute_result"
    }
   ],
   "source": [
    "set(range(851))-set(number_seat)"
   ]
  }
 ],
 "metadata": {
  "kernelspec": {
   "display_name": "Python 3",
   "language": "python",
   "name": "python3"
  },
  "language_info": {
   "codemirror_mode": {
    "name": "ipython",
    "version": 3
   },
   "file_extension": ".py",
   "mimetype": "text/x-python",
   "name": "python",
   "nbconvert_exporter": "python",
   "pygments_lexer": "ipython3",
   "version": "3.8.5"
  }
 },
 "nbformat": 4,
 "nbformat_minor": 4
}
