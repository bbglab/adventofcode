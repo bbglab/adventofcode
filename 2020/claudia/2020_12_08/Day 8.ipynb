{
 "cells": [
  {
   "cell_type": "markdown",
   "metadata": {},
   "source": [
    "# Day 8"
   ]
  },
  {
   "cell_type": "code",
   "execution_count": 16,
   "metadata": {},
   "outputs": [],
   "source": [
    "instructions = []\n",
    "with open('input.txt', 'r') as fd: \n",
    "    for line in fd: \n",
    "        command, position = line.strip().split(' ')\n",
    "        instructions += [(command, position)]"
   ]
  },
  {
   "cell_type": "code",
   "execution_count": 17,
   "metadata": {},
   "outputs": [
    {
     "name": "stdout",
     "output_type": "stream",
     "text": [
      "2058\n"
     ]
    }
   ],
   "source": [
    "pointer = 0\n",
    "lines_visited = []\n",
    "accumulator = 0\n",
    "while pointer > -1: \n",
    "    \n",
    "    if pointer in lines_visited: \n",
    "        break\n",
    "    else: \n",
    "        lines_visited.append(pointer)\n",
    "    \n",
    "    command, value = instructions[pointer]\n",
    "    if command == 'nop': \n",
    "        pointer += 1\n",
    "    elif command == 'acc': \n",
    "        if value[0] == '+': \n",
    "            accumulator += int(value[1:])\n",
    "        else: \n",
    "            accumulator -= int(value[1:])\n",
    "        pointer += 1\n",
    "    elif command == 'jmp': \n",
    "        if value[0] == '+': \n",
    "            pointer += int(value[1:])\n",
    "        else: \n",
    "            pointer -= int(value[1:])\n",
    "print(accumulator)"
   ]
  },
  {
   "cell_type": "code",
   "execution_count": 51,
   "metadata": {
    "collapsed": true
   },
   "outputs": [],
   "source": [
    "instructions = []\n",
    "with open('input.txt', 'r') as fd: \n",
    "    for i, line in enumerate(fd): \n",
    "        command, position = line.strip().split(' ')\n",
    "        instructions += [(command, position)]"
   ]
  },
  {
   "cell_type": "code",
   "execution_count": 52,
   "metadata": {},
   "outputs": [],
   "source": [
    "instructions_to_test = []\n",
    "\n",
    "for i, line in enumerate(instructions): \n",
    "    command, value = line\n",
    "    if command == 'nop' and value[1:] != '0': \n",
    "        new_line = ('jmp', value)\n",
    "        instructions_to_test += [instructions[:i] + [new_line] + instructions[+i:]]\n",
    "    elif command == 'jmp': \n",
    "        new_line = ('nop', value)\n",
    "        instructions_to_test += [instructions[:i] + [new_line] + instructions[i+1:]]"
   ]
  },
  {
   "cell_type": "code",
   "execution_count": 53,
   "metadata": {},
   "outputs": [
    {
     "name": "stdout",
     "output_type": "stream",
     "text": [
      "Terminate! 1000\n"
     ]
    }
   ],
   "source": [
    "for instructions in instructions_to_test: \n",
    "    \n",
    "    pointer = 0\n",
    "    lines_visited = []\n",
    "    accumulator = 0\n",
    "    while pointer > -1: \n",
    "\n",
    "        if pointer in lines_visited: \n",
    "            break\n",
    "        else: \n",
    "            lines_visited.append(pointer)\n",
    "\n",
    "        if pointer == len(instructions): \n",
    "            print('Terminate!', accumulator)\n",
    "            break\n",
    "\n",
    "        command, value = instructions[pointer]\n",
    "        if command == 'nop': \n",
    "            pointer += 1\n",
    "        elif command == 'acc': \n",
    "            if value[0] == '+': \n",
    "                accumulator += int(value[1:])\n",
    "            else: \n",
    "                accumulator -= int(value[1:])\n",
    "            pointer += 1\n",
    "        elif command == 'jmp': \n",
    "            if value[1:] == '0':\n",
    "                print('jmp 0')\n",
    "                break\n",
    "            if value[0] == '+': \n",
    "                pointer += int(value[1:])\n",
    "            else: \n",
    "                pointer -= int(value[1:])"
   ]
  },
  {
   "cell_type": "code",
   "execution_count": null,
   "metadata": {
    "collapsed": true
   },
   "outputs": [],
   "source": []
  }
 ],
 "metadata": {
  "kernelspec": {
   "display_name": "Python [conda env:hotspots_framework]",
   "language": "python",
   "name": "conda-env-hotspots_framework-py"
  },
  "language_info": {
   "codemirror_mode": {
    "name": "ipython",
    "version": 3
   },
   "file_extension": ".py",
   "mimetype": "text/x-python",
   "name": "python",
   "nbconvert_exporter": "python",
   "pygments_lexer": "ipython3",
   "version": "3.6.10"
  }
 },
 "nbformat": 4,
 "nbformat_minor": 2
}
