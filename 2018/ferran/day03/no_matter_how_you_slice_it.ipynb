{
 "cells": [
  {
   "cell_type": "markdown",
   "metadata": {},
   "source": [
    "# Part 1"
   ]
  },
  {
   "cell_type": "code",
   "execution_count": 127,
   "metadata": {
    "collapsed": true
   },
   "outputs": [],
   "source": [
    "import numpy as np\n",
    "from functools import reduce"
   ]
  },
  {
   "cell_type": "code",
   "execution_count": 128,
   "metadata": {
    "collapsed": true
   },
   "outputs": [],
   "source": [
    "l = ! cat input.txt | tr '\\n' ';'\n",
    "l = l[0].rstrip(';').split(';')"
   ]
  },
  {
   "cell_type": "raw",
   "metadata": {},
   "source": [
    "head = top-left cell\n",
    "tail = bottom-right cell"
   ]
  },
  {
   "cell_type": "code",
   "execution_count": 129,
   "metadata": {
    "collapsed": true
   },
   "outputs": [],
   "source": [
    "def fabrix(head, tail):\n",
    "    mat = np.zeros((tail[0] + 1, tail[1] + 1))\n",
    "    for i in range(head[0], tail[0] + 1):\n",
    "        for j in range(head[1], tail[1] + 1):\n",
    "            mat[i, j] = 1\n",
    "    return mat\n",
    "\n",
    "def parse(fid):\n",
    "    left, top     = tuple(list(map(int, fid.split(' ')[2].rstrip(':').split(','))))\n",
    "    width, height = tuple(list(map(int, fid.split(' ')[3].split('x'))))\n",
    "    head = (left, top)\n",
    "    tail = (left + width - 1, top + height - 1)\n",
    "    return head, tail\n",
    "\n",
    "def combine(mat1, mat2):\n",
    "    s1, s2 = mat1.shape, mat2.shape\n",
    "    big_shape = (max(s1[0], s2[0]), max(s1[1], s2[1]))\n",
    "    exp1, exp2 = np.zeros(big_shape), np.zeros(big_shape)\n",
    "    exp1[:s1[0],:s1[1]], exp2[:s2[0],:s2[1]] = mat1, mat2\n",
    "    return exp1 + exp2"
   ]
  },
  {
   "cell_type": "code",
   "execution_count": 146,
   "metadata": {},
   "outputs": [
    {
     "data": {
      "text/plain": [
       "107663"
      ]
     },
     "execution_count": 146,
     "metadata": {},
     "output_type": "execute_result"
    }
   ],
   "source": [
    "positions = list(map(parse, l))\n",
    "mat_list = [fabrix(*pos) for pos in positions]\n",
    "overlap  = reduce(combine, mat_list, np.array([[0]]))\n",
    "len(overlap[overlap > 1])"
   ]
  },
  {
   "cell_type": "markdown",
   "metadata": {},
   "source": [
    "# Part 2"
   ]
  },
  {
   "cell_type": "code",
   "execution_count": 149,
   "metadata": {},
   "outputs": [
    {
     "name": "stdout",
     "output_type": "stream",
     "text": [
      "#1166 @ 126,200: 10x11\n"
     ]
    }
   ],
   "source": [
    "for i, s in enumerate(positions):\n",
    "    c = 0\n",
    "    for j in range(s[0][0], s[1][0] + 1):\n",
    "        for k in range(s[0][1], s[1][1] + 1):\n",
    "            c += overlap[j, k] - 1\n",
    "    if c == 0:\n",
    "        print(l[i])"
   ]
  }
 ],
 "metadata": {
  "kernelspec": {
   "display_name": "Python [conda env:adventofcode]",
   "language": "python",
   "name": "conda-env-adventofcode-py"
  },
  "language_info": {
   "codemirror_mode": {
    "name": "ipython",
    "version": 3
   },
   "file_extension": ".py",
   "mimetype": "text/x-python",
   "name": "python",
   "nbconvert_exporter": "python",
   "pygments_lexer": "ipython3",
   "version": "3.5.2"
  }
 },
 "nbformat": 4,
 "nbformat_minor": 2
}
