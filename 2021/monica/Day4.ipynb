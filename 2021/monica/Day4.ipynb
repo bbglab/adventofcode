{
 "cells": [
  {
   "cell_type": "markdown",
   "metadata": {},
   "source": [
    "# Day 4"
   ]
  },
  {
   "cell_type": "code",
   "execution_count": 3,
   "metadata": {},
   "outputs": [],
   "source": [
    "import numpy as np"
   ]
  },
  {
   "cell_type": "code",
   "execution_count": 47,
   "metadata": {},
   "outputs": [],
   "source": [
    "file = 'example_day4.txt'\n",
    "def day4 (file):\n",
    "    with open (file) as f:\n",
    "        data = f.read().split('\\n\\n')\n",
    "    data = [d.split('\\n') for d in data]\n",
    "    data = [[pos for pos in d if d !=''] for d in data]\n",
    "    numbers = data[0]\n",
    "    numbers = numbers[0].split(',')\n",
    "    numbers = [int(n) for n in numbers]\n",
    "    boards = data[1:]\n",
    "    boards = [[b.split(' ') for b in board] for board in boards]\n",
    "    boards = [[[int(b) for b in bor if b!=''] for bor in board] for board in boards]\n",
    "    boards = [np.array([bor for bor in board if bor != []]) for board in boards]\n",
    "\n",
    "    selected_numbers=[]\n",
    "    for n in numbers:\n",
    "        selected_numbers.append(n)\n",
    "    #     print('numbers',selected_numbers)\n",
    "        for board in boards:\n",
    "            for row in board:\n",
    "                row2 = [pos for pos in row if pos not in selected_numbers]\n",
    "    #             print(row2)\n",
    "                if row2 == []:\n",
    "                    bingo = row\n",
    "                    print(bingo)\n",
    "                    winning_board = board\n",
    "                    break\n",
    "            if row2 == []:\n",
    "                break\n",
    "\n",
    "        if row2 == []:\n",
    "            break\n",
    "    print(selected_numbers)       \n",
    "    all_unmarked=[]\n",
    "    for row in winning_board:\n",
    "        unmarked = [pos for pos in row if pos not in selected_numbers]\n",
    "#         print(unmarked)\n",
    "        all_unmarked = all_unmarked + unmarked\n",
    "\n",
    "    return sum(all_unmarked)*selected_numbers[-1]"
   ]
  },
  {
   "cell_type": "code",
   "execution_count": 48,
   "metadata": {},
   "outputs": [
    {
     "name": "stdout",
     "output_type": "stream",
     "text": [
      "[14 21 17 24  4]\n",
      "[7, 4, 9, 5, 11, 17, 23, 2, 0, 14, 21, 24]\n"
     ]
    },
    {
     "data": {
      "text/plain": [
       "4512"
      ]
     },
     "execution_count": 48,
     "metadata": {},
     "output_type": "execute_result"
    }
   ],
   "source": [
    "day4(file)"
   ]
  },
  {
   "cell_type": "code",
   "execution_count": 49,
   "metadata": {},
   "outputs": [
    {
     "name": "stdout",
     "output_type": "stream",
     "text": [
      "[32 81 21 11 31]\n",
      "[42, 44, 71, 26, 70, 92, 77, 45, 6, 18, 79, 54, 31, 34, 64, 32, 16, 55, 81, 11, 90, 10, 21]\n"
     ]
    },
    {
     "data": {
      "text/plain": [
       "16674"
      ]
     },
     "execution_count": 49,
     "metadata": {},
     "output_type": "execute_result"
    }
   ],
   "source": [
    "file = 'input_day4.txt'\n",
    "day4(file)"
   ]
  },
  {
   "cell_type": "markdown",
   "metadata": {},
   "source": [
    "PART 2"
   ]
  },
  {
   "cell_type": "code",
   "execution_count": 2,
   "metadata": {},
   "outputs": [],
   "source": [
    "import numpy as np"
   ]
  },
  {
   "cell_type": "code",
   "execution_count": 84,
   "metadata": {},
   "outputs": [],
   "source": [
    "def day4_2(file):\n",
    "    with open (file) as f:\n",
    "        data = f.read().split('\\n\\n')\n",
    "    data = [d.split('\\n') for d in data]\n",
    "    data = [[pos for pos in d if d !=''] for d in data]\n",
    "    numbers = data[0]\n",
    "    numbers = numbers[0].split(',')\n",
    "    numbers = [int(n) for n in numbers]\n",
    "    boards = data[1:]\n",
    "    boards = [[b.split(' ') for b in board] for board in boards]\n",
    "    boards = [[[int(b) for b in bor if b!=''] for bor in board] for board in boards]\n",
    "    boards = [np.array([bor for bor in board if bor != []]) for board in boards]\n",
    "\n",
    "    selected_numbers = []\n",
    "    winning_boards = []\n",
    "    for n in numbers:\n",
    "        selected_numbers.append(n)\n",
    "        for board in boards:\n",
    "            for row in board:\n",
    "                row2 = [pos for pos in row if pos in selected_numbers]\n",
    "                if len(row2) == 5:\n",
    "                    if winning_boards == []:\n",
    "                        winning_boards.append(board)\n",
    "                    else:\n",
    "                        comparisons = [True if elem is board else False for elem in winning_boards]\n",
    "                        if any (c == True for c in comparisons):\n",
    "                            pass\n",
    "                        else:\n",
    "                            winning_boards.append(board)\n",
    "\n",
    "                    if len(winning_boards) == len(boards):\n",
    "                        print('bingo! Row',row)\n",
    "                        losing_board = board\n",
    "                        print(board)\n",
    "                        print(selected_numbers)\n",
    "                    break\n",
    "            if len(winning_boards) == len(boards):\n",
    "                break\n",
    "\n",
    "            for col in board.T:\n",
    "                col2 = [pos for pos in col if pos in selected_numbers]\n",
    "                if len(col2) == 5:\n",
    "                    if winning_boards == []:\n",
    "                        winning_boards.append(board)\n",
    "                    else:\n",
    "                        comparisons = [True if elem is board else False for elem in winning_boards]\n",
    "                        if any (c == True for c in comparisons):\n",
    "                            pass\n",
    "                        else:\n",
    "                            winning_boards.append(board)\n",
    "\n",
    "                    if len(winning_boards) == len(boards):\n",
    "                        print('bingo! Col',col)\n",
    "                        losing_board = board\n",
    "                        print(board)\n",
    "                        print(selected_numbers)\n",
    "                    break\n",
    "            if len(winning_boards) == len(boards):\n",
    "                break\n",
    "        if len(winning_boards) == len(boards):\n",
    "            break\n",
    "\n",
    "    all_unmarked=[]\n",
    "\n",
    "    for row in losing_board:\n",
    "        unmarked = [pos for pos in row if pos not in selected_numbers]\n",
    "        all_unmarked = all_unmarked + unmarked\n",
    "    print(sum(all_unmarked))\n",
    "    print(selected_numbers[-1])\n",
    "    return sum(all_unmarked) * selected_numbers[-1]"
   ]
  },
  {
   "cell_type": "code",
   "execution_count": 85,
   "metadata": {},
   "outputs": [
    {
     "name": "stdout",
     "output_type": "stream",
     "text": [
      "bingo! Col [ 0 13  7 10 16]\n",
      "[[ 3 15  0  2 22]\n",
      " [ 9 18 13 17  5]\n",
      " [19  8  7 25 23]\n",
      " [20 11 10 24  4]\n",
      " [14 21 16 12  6]]\n",
      "[7, 4, 9, 5, 11, 17, 23, 2, 0, 14, 21, 24, 10, 16, 13]\n",
      "148\n",
      "13\n"
     ]
    },
    {
     "data": {
      "text/plain": [
       "1924"
      ]
     },
     "execution_count": 85,
     "metadata": {},
     "output_type": "execute_result"
    }
   ],
   "source": [
    "file = 'example_day4.txt'\n",
    "day4_2(file)\n"
   ]
  },
  {
   "cell_type": "code",
   "execution_count": 86,
   "metadata": {},
   "outputs": [
    {
     "name": "stdout",
     "output_type": "stream",
     "text": [
      "bingo! Row [25 22 91 20  2]\n",
      "[[ 1 27 74 89  4]\n",
      " [29  9 78 48 54]\n",
      " [10 38 13 40 49]\n",
      " [71 73 79 77 17]\n",
      " [25 22 91 20  2]]\n",
      "[42, 44, 71, 26, 70, 92, 77, 45, 6, 18, 79, 54, 31, 34, 64, 32, 16, 55, 81, 11, 90, 10, 21, 87, 0, 84, 8, 23, 1, 12, 60, 20, 57, 68, 61, 82, 49, 59, 22, 2, 63, 33, 50, 39, 28, 30, 88, 41, 69, 72, 98, 73, 7, 65, 53, 35, 96, 67, 36, 4, 51, 75, 24, 86, 97, 85, 66, 29, 74, 40, 93, 58, 9, 62, 95, 91, 80, 99, 14, 19, 43, 37, 27, 56, 94, 25]\n",
      "283\n",
      "25\n"
     ]
    },
    {
     "data": {
      "text/plain": [
       "7075"
      ]
     },
     "execution_count": 86,
     "metadata": {},
     "output_type": "execute_result"
    }
   ],
   "source": [
    "file = 'input_day4.txt'\n",
    "day4_2(file)"
   ]
  }
 ],
 "metadata": {
  "kernelspec": {
   "display_name": "Python 3",
   "language": "python",
   "name": "python3"
  },
  "language_info": {
   "codemirror_mode": {
    "name": "ipython",
    "version": 3
   },
   "file_extension": ".py",
   "mimetype": "text/x-python",
   "name": "python",
   "nbconvert_exporter": "python",
   "pygments_lexer": "ipython3",
   "version": "3.8.3"
  }
 },
 "nbformat": 4,
 "nbformat_minor": 4
}
