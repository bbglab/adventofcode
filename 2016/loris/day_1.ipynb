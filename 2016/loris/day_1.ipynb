{
 "cells": [
  {
   "cell_type": "markdown",
   "metadata": {},
   "source": [
    "# Advent of Code 2016"
   ]
  },
  {
   "cell_type": "raw",
   "metadata": {},
   "source": [
    "--- Day 1: No Time for a Taxicab ---\n",
    "\n",
    "Santa's sleigh uses a very high-precision clock to guide its movements, and the clock's oscillator is regulated by stars. Unfortunately, the stars have been stolen... by the Easter Bunny. To save Christmas, Santa needs you to retrieve all fifty stars by December 25th.\n",
    "\n",
    "Collect stars by solving puzzles. Two puzzles will be made available on each day in the advent calendar; the second puzzle is unlocked when you complete the first. Each puzzle grants one star. Good luck!\n",
    "\n",
    "You're airdropped near Easter Bunny Headquarters in a city somewhere. \"Near\", unfortunately, is as close as you can get - the instructions on the Easter Bunny Recruiting Document the Elves intercepted start here, and nobody had time to work them out further.\n",
    "\n",
    "The Document indicates that you should start at the given coordinates (where you just landed) and face North. Then, follow the provided sequence: either turn left (L) or right (R) 90 degrees, then walk forward the given number of blocks, ending at a new intersection.\n",
    "\n",
    "There's no time to follow such ridiculous instructions on foot, though, so you take a moment and work out the destination. Given that you can only walk on the street grid of the city, how far is the shortest path to the destination?\n",
    "\n",
    "For example:\n",
    "\n",
    "Following R2, L3 leaves you 2 blocks East and 3 blocks North, or 5 blocks away.\n",
    "R2, R2, R2 leaves you 2 blocks due South of your starting position, which is 2 blocks away.\n",
    "R5, L5, R5, R3 leaves you 12 blocks away.\n",
    "\n",
    "How many blocks away is Easter Bunny HQ?"
   ]
  },
  {
   "cell_type": "code",
   "execution_count": 1,
   "metadata": {
    "collapsed": false
   },
   "outputs": [],
   "source": [
    "data = open('data/day_1-1.txt', 'r').readline().strip().split(', ')"
   ]
  },
  {
   "cell_type": "code",
   "execution_count": 2,
   "metadata": {
    "collapsed": false
   },
   "outputs": [],
   "source": [
    "class TaxiCab:\n",
    "    \n",
    "    def __init__(self, data):\n",
    "        self.data = data\n",
    "        self.double_visit = []\n",
    "        self.position = {'x': 0, 'y': 0}\n",
    "        self.direction = {'x': 0, 'y': 1}\n",
    "        self.grid = {i: {j: 0 for j in range(-500, 501)} for i in range(-500, 501)}\n",
    "        \n",
    "    def run(self):\n",
    "        for instruction in self.data:\n",
    "            toward = instruction[0]\n",
    "            length = int(instruction[1:])\n",
    "            self.move(toward, length)\n",
    "            \n",
    "    def move(self, toward, length):\n",
    "        if toward == 'R':\n",
    "            if self.direction['x'] == 0:\n",
    "                # from UP\n",
    "                if self.direction['y'] == 1:\n",
    "                    self.position['x'] += length\n",
    "                    self.direction['x'] = 1\n",
    "                    for i in range(self.position['x'] - length, self.position['x']):\n",
    "                        self.grid[self.position['y']][i] += 1\n",
    "                        if self.grid[self.position['y']][i] > 1:\n",
    "                            self.double_visit.append((i, self.position['y']))\n",
    "                # from DOWN\n",
    "                else:\n",
    "                    self.position['x'] -= length\n",
    "                    self.direction['x'] = -1\n",
    "                    for i in range(self.position['x'] + length, self.position['x'], -1):\n",
    "                        self.grid[self.position['y']][i] += 1\n",
    "                        if self.grid[self.position['y']][i] > 1:\n",
    "                            self.double_visit.append((i, self.position['y']))\n",
    "                self.direction['y'] = 0\n",
    "            else:                     \n",
    "                # FROM RIGHT\n",
    "                if self.direction['x'] == 1:\n",
    "                    self.position['y'] -= length\n",
    "                    self.direction['y'] = -1\n",
    "                    for i in range(self.position['y'] + length, self.position['y'], -1):\n",
    "                        self.grid[i][self.position['x']] += 1\n",
    "                        if self.grid[i][self.position['x']] > 1:\n",
    "                            self.double_visit.append((self.position['x'], i))\n",
    "                # FROM LEFT\n",
    "                else:\n",
    "                    self.position['y'] += length\n",
    "                    self.direction['y'] = 1\n",
    "                    for i in range(self.position['y'] - length, self.position['y']):\n",
    "                        self.grid[i][self.position['x']] += 1\n",
    "                        if self.grid[i][self.position['x']] > 1:\n",
    "                            self.double_visit.append((self.position['x'], i))\n",
    "                self.direction['x'] = 0\n",
    "        else:\n",
    "            if self.direction['x'] == 0:\n",
    "                # from UP\n",
    "                if self.direction['y'] == 1:\n",
    "                    self.position['x'] -= length\n",
    "                    self.direction['x'] = -1\n",
    "                    for i in range(self.position['x'] + length, self.position['x'], -1):\n",
    "                        self.grid[self.position['y']][i] += 1\n",
    "                        if self.grid[self.position['y']][i] > 1:\n",
    "                            self.double_visit.append((i, self.position['y']))\n",
    "                # from DOWN\n",
    "                else:\n",
    "                    self.position['x'] += length\n",
    "                    self.direction['x'] = 1\n",
    "                    for i in range(self.position['x'] - length, self.position['x']):\n",
    "                        self.grid[self.position['y']][i] += 1\n",
    "                        if self.grid[self.position['y']][i] > 1:\n",
    "                            self.double_visit.append((i, self.position['y']))\n",
    "                self.direction['y'] = 0\n",
    "            else:                     \n",
    "                # FROM RIGHT\n",
    "                if self.direction['x'] == 1:\n",
    "                    self.position['y'] += length\n",
    "                    self.direction['y'] = 1\n",
    "                    for i in range(self.position['y'] - length, self.position['y']):\n",
    "                        self.grid[i][self.position['x']] += 1\n",
    "                        if self.grid[i][self.position['x']] > 1:\n",
    "                            self.double_visit.append((self.position['x'], i))\n",
    "                # FROM LEFT\n",
    "                else:\n",
    "                    self.position['y'] -= length\n",
    "                    self.direction['y'] = -1\n",
    "                    for i in range(self.position['y'] + length, self.position['y'], -1):\n",
    "                        self.grid[i][self.position['x']] += 1\n",
    "                        if self.grid[i][self.position['x']] > 1:\n",
    "                            self.double_visit.append((self.position['x'], i))\n",
    "                self.direction['x'] = 0\n",
    "                \n",
    "    def get_distance(self):\n",
    "        return sum([abs(i) for i in self.position.values()])\n",
    "    \n",
    "    def get_distance_first_double_visit(self):\n",
    "        return sum(self.double_visit[0]) if len(self.double_visit) > 0 else 0"
   ]
  },
  {
   "cell_type": "code",
   "execution_count": 3,
   "metadata": {
    "collapsed": true
   },
   "outputs": [],
   "source": [
    "# Test \n",
    "def test(data, result):\n",
    "    tc = TaxiCab(data)\n",
    "    tc.run()\n",
    "    assert tc.get_distance() == result"
   ]
  },
  {
   "cell_type": "code",
   "execution_count": 4,
   "metadata": {
    "collapsed": false
   },
   "outputs": [],
   "source": [
    "test(data=['R2', 'L3'], result=5)\n",
    "test(data=['R2', 'R2', 'R2'], result=2)\n",
    "test(data=['R5', 'L5', 'R5', 'R3'], result=12)"
   ]
  },
  {
   "cell_type": "code",
   "execution_count": 5,
   "metadata": {
    "collapsed": false
   },
   "outputs": [
    {
     "data": {
      "text/plain": [
       "253"
      ]
     },
     "execution_count": 5,
     "metadata": {},
     "output_type": "execute_result"
    }
   ],
   "source": [
    "tc = TaxiCab(data)\n",
    "tc.run()\n",
    "tc.get_distance()"
   ]
  },
  {
   "cell_type": "raw",
   "metadata": {},
   "source": [
    "--- Part Two ---\n",
    "\n",
    "Then, you notice the instructions continue on the back of the Recruiting Document. Easter Bunny HQ is actually at the first location you visit twice.\n",
    "\n",
    "For example, if your instructions are R8, R4, R4, R8, the first location you visit twice is 4 blocks away, due East.\n",
    "\n",
    "How many blocks away is the first location you visit twice?"
   ]
  },
  {
   "cell_type": "code",
   "execution_count": 6,
   "metadata": {
    "collapsed": true
   },
   "outputs": [],
   "source": [
    "# Test \n",
    "def test(data, result):\n",
    "    tc = TaxiCab(data)\n",
    "    tc.run()\n",
    "    assert tc.get_distance_first_double_visit() == result"
   ]
  },
  {
   "cell_type": "code",
   "execution_count": 7,
   "metadata": {
    "collapsed": false
   },
   "outputs": [],
   "source": [
    "test(data=['R8', 'R4', 'R4', 'R8'], result=4)"
   ]
  },
  {
   "cell_type": "code",
   "execution_count": 8,
   "metadata": {
    "collapsed": false
   },
   "outputs": [
    {
     "data": {
      "text/plain": [
       "126"
      ]
     },
     "execution_count": 8,
     "metadata": {},
     "output_type": "execute_result"
    }
   ],
   "source": [
    "tc.get_distance_first_double_visit()"
   ]
  }
 ],
 "metadata": {
  "kernelspec": {
   "display_name": "Python 3",
   "language": "python",
   "name": "python3"
  },
  "language_info": {
   "codemirror_mode": {
    "name": "ipython",
    "version": 3
   },
   "file_extension": ".py",
   "mimetype": "text/x-python",
   "name": "python",
   "nbconvert_exporter": "python",
   "pygments_lexer": "ipython3",
   "version": "3.5.2+"
  }
 },
 "nbformat": 4,
 "nbformat_minor": 1
}
