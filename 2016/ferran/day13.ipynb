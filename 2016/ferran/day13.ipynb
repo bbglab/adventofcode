{
 "cells": [
  {
   "cell_type": "markdown",
   "metadata": {
    "ExecuteTime": {
     "end_time": "2016-12-25T11:34:33.431939",
     "start_time": "2016-12-25T11:34:33.419659"
    },
    "collapsed": false
   },
   "source": [
    "# Challenge 13\n",
    "\n",
    "## Challenge 13.1"
   ]
  },
  {
   "cell_type": "code",
   "execution_count": 114,
   "metadata": {
    "ExecuteTime": {
     "end_time": "2016-12-25T13:02:22.216351",
     "start_time": "2016-12-25T13:02:22.205428"
    },
    "collapsed": true
   },
   "outputs": [],
   "source": [
    "myinput = 1350"
   ]
  },
  {
   "cell_type": "code",
   "execution_count": 115,
   "metadata": {
    "ExecuteTime": {
     "end_time": "2016-12-25T13:02:23.036821",
     "start_time": "2016-12-25T13:02:23.023205"
    },
    "collapsed": true
   },
   "outputs": [],
   "source": [
    "bits = lambda a: a % 2 + bits(a // 2) if a > 0 else 0\n",
    "wall = lambda x, y, k: bits(x*x + 3*x + 2*x*y + y + y*y + k) % 2  "
   ]
  },
  {
   "cell_type": "code",
   "execution_count": 116,
   "metadata": {
    "ExecuteTime": {
     "end_time": "2016-12-25T13:02:23.823534",
     "start_time": "2016-12-25T13:02:23.791606"
    },
    "collapsed": false
   },
   "outputs": [],
   "source": [
    "from operator import add\n",
    "\n",
    "directions = [(0,1), (0,-1), (1,0), (-1,0)]\n",
    "\n",
    "def minsteps(k, start, final):\n",
    "    queue = [(0, start)]\n",
    "    wallist = set()\n",
    "    visited = set()\n",
    "    while len(queue) > 0:\n",
    "        depth, state = queue.pop(0)\n",
    "        visited.add(state)\n",
    "        if state == final:\n",
    "            return depth\n",
    "        else:\n",
    "            for arrow in directions:\n",
    "                new_pos = tuple(map(add, state, arrow))\n",
    "                if (new_pos[0] >= 0) and (new_pos[1] >= 0):\n",
    "                    if (wall(new_pos[0], new_pos[1], k) == 0) and new_pos not in wallist:\n",
    "                        if new_pos not in visited:\n",
    "                            queue.append((depth + 1, new_pos))\n",
    "                    else:\n",
    "                        wallist.add(new_pos)"
   ]
  },
  {
   "cell_type": "code",
   "execution_count": 117,
   "metadata": {
    "ExecuteTime": {
     "end_time": "2016-12-25T13:02:24.954330",
     "start_time": "2016-12-25T13:02:24.876924"
    },
    "collapsed": false
   },
   "outputs": [
    {
     "data": {
      "text/plain": [
       "92"
      ]
     },
     "execution_count": 117,
     "metadata": {},
     "output_type": "execute_result"
    }
   ],
   "source": [
    "minsteps(myinput, (1,1), (31,39))"
   ]
  },
  {
   "cell_type": "markdown",
   "metadata": {},
   "source": [
    "## Challenge 13.2\n",
    "\n",
    "Let's tune a bit the previous code..."
   ]
  },
  {
   "cell_type": "code",
   "execution_count": 118,
   "metadata": {
    "ExecuteTime": {
     "end_time": "2016-12-25T13:02:26.770565",
     "start_time": "2016-12-25T13:02:26.743760"
    },
    "collapsed": false
   },
   "outputs": [],
   "source": [
    "def visited(k, start, steps):\n",
    "    queue = [(0, start)]\n",
    "    wallist = set()\n",
    "    visited = set()\n",
    "    while len(queue) > 0:\n",
    "        depth, state = queue.pop(0)\n",
    "        visited.add(state)\n",
    "        if depth > steps:\n",
    "            return len(visited)-1\n",
    "        else:\n",
    "            for arrow in directions:\n",
    "                new_pos = tuple(map(add, state, arrow))\n",
    "                if (new_pos[0] >= 0) and (new_pos[1] >= 0):\n",
    "                    if (wall(new_pos[0], new_pos[1], k) == 0) and new_pos not in wallist:\n",
    "                        if new_pos not in visited:\n",
    "                            queue.append((depth + 1, new_pos))\n",
    "                    else:\n",
    "                        wallist.add(new_pos)    "
   ]
  },
  {
   "cell_type": "code",
   "execution_count": 119,
   "metadata": {
    "ExecuteTime": {
     "end_time": "2016-12-25T13:02:28.376459",
     "start_time": "2016-12-25T13:02:28.360977"
    },
    "collapsed": false
   },
   "outputs": [
    {
     "data": {
      "text/plain": [
       "124"
      ]
     },
     "execution_count": 119,
     "metadata": {},
     "output_type": "execute_result"
    }
   ],
   "source": [
    "visited(myinput, (1,1), 50)"
   ]
  }
 ],
 "metadata": {
  "anaconda-cloud": {},
  "kernelspec": {
   "display_name": "Python [conda env:adventofcode]",
   "language": "python",
   "name": "conda-env-adventofcode-py"
  },
  "language_info": {
   "codemirror_mode": {
    "name": "ipython",
    "version": 3
   },
   "file_extension": ".py",
   "mimetype": "text/x-python",
   "name": "python",
   "nbconvert_exporter": "python",
   "pygments_lexer": "ipython3",
   "version": "3.5.2"
  },
  "toc": {
   "colors": {
    "hover_highlight": "#DAA520",
    "running_highlight": "#FF0000",
    "selected_highlight": "#FFD700"
   },
   "moveMenuLeft": true,
   "nav_menu": {
    "height": "67px",
    "width": "251px"
   },
   "navigate_menu": true,
   "number_sections": true,
   "sideBar": true,
   "threshold": 4,
   "toc_cell": false,
   "toc_section_display": "block",
   "toc_window_display": false
  }
 },
 "nbformat": 4,
 "nbformat_minor": 1
}
