{
 "cells": [
  {
   "cell_type": "markdown",
   "metadata": {},
   "source": [
    "## Day 3: Perfectly Spherical Houses in a Vacuum \n",
    "\n",
    "Santa is delivering presents to an infinite two-dimensional grid of houses.\n",
    "\n",
    "He begins by delivering a present to the house at his starting location, and then an elf at the North Pole calls him via radio and tells him where to move next. Moves are always exactly one house to the north (^), south (v), east (>), or west (<). After each move, he delivers another present to the house at his new location.\n",
    "\n",
    "However, the elf back at the north pole has had a little too much eggnog, and so his directions are a little off, and Santa ends up visiting some houses more than once. How many houses receive at least one present?\n",
    "\n",
    "For example:\n",
    "\n",
    "```\n",
    "> delivers presents to 2 houses: one at the starting location, and one to the east.\n",
    "^>v< delivers presents to 4 houses in a square, including twice to the house at his starting/ending location.\n",
    "^v^v^v^v^v delivers a bunch of presents to some very lucky children at only 2 houses.\n",
    "```"
   ]
  },
  {
   "cell_type": "code",
   "execution_count": 8,
   "metadata": {
    "collapsed": true
   },
   "outputs": [],
   "source": [
    "def next_house(position, move):\n",
    "    x, y = position\n",
    "    if move == '^':\n",
    "        return x+1, y\n",
    "    if move == 'v':\n",
    "        return x-1, y\n",
    "    if move == '>':\n",
    "        return x, y+1\n",
    "    if move == '<':\n",
    "        return x, y-1\n",
    "    raise RuntimeError(\"Unknown move: '{}'\".format(move))\n",
    "    \n",
    "def visited_houses(instructions):\n",
    "    position = (0, 0)\n",
    "    houses = set()\n",
    "    houses.add(position)\n",
    "    for move in instructions:\n",
    "        position = next_house(position, move)\n",
    "        houses.add(position)\n",
    "    return houses\n",
    "\n",
    "def count_houses(instructions):\n",
    "    return len(visited_houses(instructions))"
   ]
  },
  {
   "cell_type": "code",
   "execution_count": 9,
   "metadata": {
    "collapsed": false
   },
   "outputs": [
    {
     "data": {
      "text/plain": [
       "2"
      ]
     },
     "execution_count": 9,
     "metadata": {},
     "output_type": "execute_result"
    }
   ],
   "source": [
    "# Test examples\n",
    "count_houses(\"^v^v^v^v^v\")"
   ]
  },
  {
   "cell_type": "code",
   "execution_count": 10,
   "metadata": {
    "collapsed": false
   },
   "outputs": [
    {
     "name": "stdout",
     "output_type": "stream",
     "text": [
      "Santa will visit 2081 houses.\n"
     ]
    }
   ],
   "source": [
    "# Real puzzle\n",
    "with open('day3/input.txt', 'rt') as fd:\n",
    "    print(\"Santa will visit {} houses.\".format(count_houses(fd.read())))"
   ]
  },
  {
   "cell_type": "markdown",
   "metadata": {},
   "source": [
    "## Part Two \n",
    "\n",
    "The next year, to speed up the process, Santa creates a robot version of himself, Robo-Santa, to deliver presents with him.\n",
    "\n",
    "Santa and Robo-Santa start at the same location (delivering two presents to the same starting house), then take turns moving based on instructions from the elf, who is eggnoggedly reading from the same script as the previous year.\n",
    "\n",
    "This year, how many houses receive at least one present?\n",
    "\n",
    "For example:\n",
    "\n",
    "```\n",
    "^v delivers presents to 3 houses, because Santa goes north, and then Robo-Santa goes south.\n",
    "^>v< now delivers presents to 3 houses, and Santa and Robo-Santa end up back where they started.\n",
    "^v^v^v^v^v now delivers presents to 11 houses, with Santa going one direction and Robo-Santa going the other.\n",
    "```"
   ]
  },
  {
   "cell_type": "code",
   "execution_count": 16,
   "metadata": {
    "collapsed": true
   },
   "outputs": [],
   "source": [
    "def count_houses_with_robo(instructions):\n",
    "    santa_instructions = [instructions[i] for i in range(0, len(instructions), 2)]\n",
    "    robo_instructions = [instructions[i] for i in range(1, len(instructions), 2)]\n",
    "    \n",
    "    houses_santa = visited_houses(santa_instructions)\n",
    "    houses_robo = visited_houses(robo_instructions)\n",
    "    \n",
    "    houses = houses_santa.union(houses_robo)    \n",
    "    return len(houses)    "
   ]
  },
  {
   "cell_type": "code",
   "execution_count": 20,
   "metadata": {
    "collapsed": false
   },
   "outputs": [
    {
     "data": {
      "text/plain": [
       "11"
      ]
     },
     "execution_count": 20,
     "metadata": {},
     "output_type": "execute_result"
    }
   ],
   "source": [
    "# Test example\n",
    "count_houses_with_robo('^v^v^v^v^v')"
   ]
  },
  {
   "cell_type": "code",
   "execution_count": 21,
   "metadata": {
    "collapsed": false
   },
   "outputs": [
    {
     "name": "stdout",
     "output_type": "stream",
     "text": [
      "Santa and Robo will visit 2341 houses.\n"
     ]
    }
   ],
   "source": [
    "# Real puzzle\n",
    "with open('day3/input.txt', 'rt') as fd:\n",
    "    print(\"Santa and Robo will visit {} houses.\".format(count_houses_with_robo(fd.read())))"
   ]
  }
 ],
 "metadata": {
  "kernelspec": {
   "display_name": "Python 3",
   "language": "python",
   "name": "python3"
  },
  "language_info": {
   "codemirror_mode": {
    "name": "ipython",
    "version": 3
   },
   "file_extension": ".py",
   "mimetype": "text/x-python",
   "name": "python",
   "nbconvert_exporter": "python",
   "pygments_lexer": "ipython3",
   "version": "3.4.3"
  }
 },
 "nbformat": 4,
 "nbformat_minor": 0
}
