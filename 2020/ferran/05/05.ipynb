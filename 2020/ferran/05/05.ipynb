{
 "cells": [
  {
   "cell_type": "markdown",
   "metadata": {},
   "source": [
    "# Day 5"
   ]
  },
  {
   "cell_type": "code",
   "execution_count": null,
   "metadata": {},
   "outputs": [],
   "source": [
    "! cat README.md"
   ]
  },
  {
   "cell_type": "code",
   "execution_count": null,
   "metadata": {},
   "outputs": [],
   "source": [
    "def decode(boarding):\n",
    "    row_number = sum(list(map(lambda x: int(x[1] == 'B') * 2 ** (6 - x[0]), list(enumerate(boarding[:7])))))\n",
    "    col_number = sum(list(map(lambda x: int(x[1] == 'R') * 2 ** (2 - x[0]), list(enumerate(boarding[-3:])))))\n",
    "    return row_number * 8 + col_number"
   ]
  },
  {
   "cell_type": "code",
   "execution_count": null,
   "metadata": {},
   "outputs": [],
   "source": [
    "# testing\n",
    "\n",
    "for boarding, code in {'BFFFBBFRRR': 567, 'FFFBBBFRRR': 119, 'BBFFBBFRLL': 820}.items():\n",
    "    assert(decode(boarding) == code)"
   ]
  },
  {
   "cell_type": "code",
   "execution_count": null,
   "metadata": {},
   "outputs": [],
   "source": [
    "with open('input.txt') as f:\n",
    "    max_code = max(list(map(decode, f.read().splitlines())))\n",
    "max_code"
   ]
  },
  {
   "cell_type": "markdown",
   "metadata": {},
   "source": [
    "--- Part Two ---\n",
    "Ding! The \"fasten seat belt\" signs have turned on. Time to find your seat.\n",
    "\n",
    "It's a completely full flight, so your seat should be the only missing boarding pass in your list. However, there's a catch: some of the seats at the very front and back of the plane don't exist on this aircraft, so they'll be missing from your list as well.\n",
    "\n",
    "Your seat wasn't at the very front or back, though; the seats with IDs +1 and -1 from yours will be in your list.\n",
    "\n",
    "What is the ID of your seat?"
   ]
  },
  {
   "cell_type": "code",
   "execution_count": null,
   "metadata": {},
   "outputs": [],
   "source": [
    "with open('input.txt') as f:\n",
    "    sorted_ids = sorted(list(map(decode, f.read().splitlines())))\n",
    "\n",
    "for i, s in enumerate(sorted_ids):\n",
    "    if (i < len(sorted_ids) - 1) and ((sorted_ids[i+1] - s) == 2):\n",
    "        print(i+1, s+1)"
   ]
  }
 ],
 "metadata": {
  "kernelspec": {
   "display_name": "Python [conda env:stats_env]",
   "language": "python",
   "name": "conda-env-stats_env-py"
  },
  "language_info": {
   "codemirror_mode": {
    "name": "ipython",
    "version": 3
   },
   "file_extension": ".py",
   "mimetype": "text/x-python",
   "name": "python",
   "nbconvert_exporter": "python",
   "pygments_lexer": "ipython3",
   "version": "3.7.6"
  }
 },
 "nbformat": 4,
 "nbformat_minor": 2
}
