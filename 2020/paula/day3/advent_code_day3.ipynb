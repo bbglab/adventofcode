{
 "cells": [
  {
   "cell_type": "markdown",
   "metadata": {},
   "source": [
    "# Day 3"
   ]
  },
  {
   "cell_type": "markdown",
   "metadata": {},
   "source": [
    "Part 1"
   ]
  },
  {
   "cell_type": "code",
   "execution_count": 1,
   "metadata": {},
   "outputs": [],
   "source": [
    "\"\"\"\n",
    "Right 3, down 1.\n",
    "\"\"\"\n",
    "i=1\n",
    "trees=0\n",
    "with open('input_day3.txt','r') as file:\n",
    "    for line in file:\n",
    "        if line.strip()[i%31-1] == '#':\n",
    "            trees+=1\n",
    "        i+=3\n",
    "        "
   ]
  },
  {
   "cell_type": "code",
   "execution_count": 2,
   "metadata": {},
   "outputs": [
    {
     "data": {
      "text/plain": [
       "278"
      ]
     },
     "execution_count": 2,
     "metadata": {},
     "output_type": "execute_result"
    }
   ],
   "source": [
    "trees"
   ]
  },
  {
   "cell_type": "markdown",
   "metadata": {},
   "source": [
    "Part 2"
   ]
  },
  {
   "cell_type": "code",
   "execution_count": 3,
   "metadata": {},
   "outputs": [],
   "source": [
    "\"\"\"\n",
    "Right 1, down 1.\n",
    "\"\"\"\n",
    "i=1\n",
    "trees1=0\n",
    "with open('input_day3.txt','r') as file:\n",
    "    for line in file:\n",
    "        if line.strip()[i%31-1] == '#':\n",
    "            trees1+=1\n",
    "        i+=1\n",
    "        "
   ]
  },
  {
   "cell_type": "code",
   "execution_count": 4,
   "metadata": {},
   "outputs": [],
   "source": [
    "\"\"\"\n",
    "Right 5, down 1.\n",
    "\"\"\"\n",
    "i=1\n",
    "trees2=0\n",
    "with open('input_day3.txt','r') as file:\n",
    "    for line in file:\n",
    "        if line.strip()[i%31-1] == '#':\n",
    "            trees2+=1\n",
    "        i+=5\n",
    "        "
   ]
  },
  {
   "cell_type": "code",
   "execution_count": 5,
   "metadata": {},
   "outputs": [],
   "source": [
    "\"\"\"\n",
    "Right 7, down 1.\n",
    "\"\"\"\n",
    "i=1\n",
    "trees3=0\n",
    "with open('input_day3.txt','r') as file:\n",
    "    for line in file:\n",
    "        if line.strip()[i%31-1] == '#':\n",
    "            trees3+=1\n",
    "        i+=7\n",
    "        "
   ]
  },
  {
   "cell_type": "code",
   "execution_count": 6,
   "metadata": {},
   "outputs": [],
   "source": [
    "\"\"\"\n",
    "Right 1, down 2.\n",
    "\"\"\"\n",
    "i=1\n",
    "trees4=0\n",
    "j=0\n",
    "with open('input_day3.txt','r') as file:\n",
    "    for line in file:\n",
    "        if j%2 == 0:\n",
    "            if line.strip()[i%31-1] == '#':\n",
    "                trees4+=1\n",
    "            i+=1\n",
    "        j+=1"
   ]
  },
  {
   "cell_type": "code",
   "execution_count": 7,
   "metadata": {},
   "outputs": [
    {
     "name": "stdout",
     "output_type": "stream",
     "text": [
      "278 90 88 98 45\n"
     ]
    }
   ],
   "source": [
    "print(trees,trees1,trees2,trees3,trees4)"
   ]
  },
  {
   "cell_type": "code",
   "execution_count": 8,
   "metadata": {},
   "outputs": [
    {
     "data": {
      "text/plain": [
       "9709761600"
      ]
     },
     "execution_count": 8,
     "metadata": {},
     "output_type": "execute_result"
    }
   ],
   "source": [
    "trees*trees1*trees2*trees3*trees4"
   ]
  },
  {
   "cell_type": "code",
   "execution_count": null,
   "metadata": {},
   "outputs": [],
   "source": []
  }
 ],
 "metadata": {
  "kernelspec": {
   "display_name": "Python 3",
   "language": "python",
   "name": "python3"
  },
  "language_info": {
   "codemirror_mode": {
    "name": "ipython",
    "version": 3
   },
   "file_extension": ".py",
   "mimetype": "text/x-python",
   "name": "python",
   "nbconvert_exporter": "python",
   "pygments_lexer": "ipython3",
   "version": "3.8.5"
  }
 },
 "nbformat": 4,
 "nbformat_minor": 4
}
