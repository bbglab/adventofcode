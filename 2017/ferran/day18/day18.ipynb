{
 "cells": [
  {
   "cell_type": "markdown",
   "metadata": {},
   "source": [
    "# Duet"
   ]
  },
  {
   "cell_type": "markdown",
   "metadata": {},
   "source": [
    "## Part 1\n",
    "\n",
    "I am going to adopt a weird approach, executing the register instances as python scipts in the global namespace."
   ]
  },
  {
   "cell_type": "raw",
   "metadata": {
    "ExecuteTime": {
     "end_time": "2017-12-17T15:43:13.602725",
     "start_time": "2017-12-17T15:43:13.571527"
    },
    "collapsed": true
   },
   "source": [
    "snd X plays a sound with a frequency equal to the value of X.\n",
    "set X Y sets register X to the value of Y.\n",
    "add X Y increases register X by the value of Y.\n",
    "mul X Y sets register X to the result of multiplying the value contained in register X by the value of Y.\n",
    "mod X Y sets register X to the remainder of dividing the value contained in register X by the value of Y (that is, it sets X to the result of X modulo Y).\n",
    "rcv X recovers the frequency of the last sound played, but only when the value of X is not zero. (If it is zero, the command does nothing.)\n",
    "jgz X Y jumps with an offset of the value of Y, but only if the value of X is greater than zero. (An offset of 2 skips the next instruction, an offset of -1 jumps to the previous instruction, and so on.)"
   ]
  },
  {
   "cell_type": "code",
   "execution_count": 23,
   "metadata": {
    "ExecuteTime": {
     "end_time": "2017-12-18T18:55:25.066535",
     "start_time": "2017-12-18T18:55:25.048227"
    },
    "collapsed": true
   },
   "outputs": [],
   "source": [
    "import csv\n",
    "\n",
    "def parse_registers(input_path):\n",
    "    registers = []\n",
    "    with open(input_path, 'rt') as f_input:\n",
    "        csv_reader = csv.reader(f_input, delimiter=' ')\n",
    "        for line in csv_reader:\n",
    "            registers.append((line[0], tuple(line[1:])))\n",
    "    return registers"
   ]
  },
  {
   "cell_type": "code",
   "execution_count": 24,
   "metadata": {
    "ExecuteTime": {
     "end_time": "2017-12-18T18:55:25.585578",
     "start_time": "2017-12-18T18:55:25.553622"
    },
    "collapsed": true
   },
   "outputs": [],
   "source": [
    "def r_set(x, y):\n",
    "    exec('{0} = {1}'.format(x, y), globals())\n",
    "\n",
    "def r_add(x, y):\n",
    "    exec('{0} += {1}'.format(x, y), globals())\n",
    "    \n",
    "def r_mul(x, y):\n",
    "    if x not in globals(): globals()[x] = 0\n",
    "    exec('{0} *= {1}'.format(x, y), globals())\n",
    "\n",
    "def r_mod(x, y):\n",
    "    exec('{0} = {0} % {1}'.format(x, y), globals())\n",
    "\n",
    "def r_snd(x):\n",
    "    exec('last_played = {0}'.format(x), globals())\n",
    "\n",
    "def r_rcv(x):\n",
    "    exec('if {0} != 0: recovered = last_played'.format(x), globals())"
   ]
  },
  {
   "cell_type": "code",
   "execution_count": 25,
   "metadata": {
    "ExecuteTime": {
     "end_time": "2017-12-18T18:55:26.358028",
     "start_time": "2017-12-18T18:55:26.242974"
    },
    "collapsed": true
   },
   "outputs": [],
   "source": [
    "import re\n",
    "\n",
    "def exec_register(reg):\n",
    "    comm = reg[0]\n",
    "    argx = reg[1][0]\n",
    "    if len(reg[1]) == 1:\n",
    "        globals()['r_' + comm](argx)\n",
    "    if len(reg[1]) > 1:\n",
    "        argy = reg[1][1]\n",
    "        globals()['r_' + comm](argx, argy)\n",
    "    \n",
    "def retrieve(string):\n",
    "    if re.search('\\d+', string):\n",
    "        return int(string)\n",
    "    else:\n",
    "        return globals()[string]\n",
    "\n",
    "def read_registers(registers):\n",
    "    head = 0\n",
    "    while recovered is None:\n",
    "        reg = registers[head]\n",
    "        if reg[0] != 'jgz':\n",
    "            exec_register(reg)\n",
    "            head += 1\n",
    "        else:\n",
    "            req = retrieve(reg[1][0])\n",
    "            offset = retrieve(reg[1][1])\n",
    "            if req > 0:\n",
    "                head += offset\n",
    "            else:\n",
    "                head += 1\n",
    "    return last_played"
   ]
  },
  {
   "cell_type": "markdown",
   "metadata": {},
   "source": [
    "### Test"
   ]
  },
  {
   "cell_type": "code",
   "execution_count": 26,
   "metadata": {
    "ExecuteTime": {
     "end_time": "2017-12-18T18:55:27.767490",
     "start_time": "2017-12-18T18:55:27.755259"
    }
   },
   "outputs": [
    {
     "data": {
      "text/plain": [
       "4"
      ]
     },
     "execution_count": 26,
     "metadata": {},
     "output_type": "execute_result"
    }
   ],
   "source": [
    "registers = parse_registers('input.test1.txt')\n",
    "recovered = None\n",
    "last_played = None\n",
    "read_registers(registers)"
   ]
  },
  {
   "cell_type": "markdown",
   "metadata": {},
   "source": [
    "### Solution"
   ]
  },
  {
   "cell_type": "code",
   "execution_count": 27,
   "metadata": {
    "ExecuteTime": {
     "end_time": "2017-12-18T18:55:29.013522",
     "start_time": "2017-12-18T18:55:28.914977"
    }
   },
   "outputs": [
    {
     "data": {
      "text/plain": [
       "9423"
      ]
     },
     "execution_count": 27,
     "metadata": {},
     "output_type": "execute_result"
    }
   ],
   "source": [
    "registers = parse_registers('input.txt')\n",
    "recovered = None\n",
    "last_played = None\n",
    "read_registers(registers)"
   ]
  },
  {
   "cell_type": "markdown",
   "metadata": {},
   "source": [
    "## Part 2\n",
    "\n",
    "We take a different approach now: let's define a dictionary for each variable in each scope of \"duet\"."
   ]
  },
  {
   "cell_type": "code",
   "execution_count": 162,
   "metadata": {
    "ExecuteTime": {
     "end_time": "2017-12-18T20:02:52.362338",
     "start_time": "2017-12-18T20:02:52.349456"
    }
   },
   "outputs": [],
   "source": [
    "from collections import defaultdict\n",
    "\n",
    "def init():\n",
    "    globals()['prog'] = (defaultdict(int), defaultdict(int))\n",
    "    globals()['prog'][1]['p'] = 1\n",
    "    globals()['queue'] = ([], [])\n",
    "    globals()['halt'] = [False, False]\n",
    "    globals()['sent_count'] = 0"
   ]
  },
  {
   "cell_type": "code",
   "execution_count": 225,
   "metadata": {
    "ExecuteTime": {
     "end_time": "2017-12-18T22:30:15.260495",
     "start_time": "2017-12-18T22:30:15.210085"
    }
   },
   "outputs": [],
   "source": [
    "def retrieve(string, prog):\n",
    "    if re.search('\\d+', string):\n",
    "        return int(string)\n",
    "    else:\n",
    "        return prog[string]\n",
    "\n",
    "def r_set(x, y, i):\n",
    "    y = retrieve(y, prog[i])\n",
    "    prog[i][x] = y\n",
    "\n",
    "def r_add(x, y, i):\n",
    "    y = retrieve(y, prog[i])\n",
    "    prog[i][x] += y\n",
    "    \n",
    "def r_mul(x, y, i):\n",
    "    y = retrieve(y, prog[i])\n",
    "    prog[i][x] *= y\n",
    "\n",
    "def r_mod(x, y, i):\n",
    "    y = retrieve(y, prog[i])\n",
    "    prog[i][x] = prog[i][x] % y\n",
    "\n",
    "def r_snd(x, i):\n",
    "    x = retrieve(x, prog[i])\n",
    "    queue[(i + 1) % 2].append(x)\n",
    "    if halt[(i + 1) % 2] == True:\n",
    "        halt[(i + 1) % 2] = False\n",
    "    if i == 1: \n",
    "        globals()['sent_count'] += 1    \n",
    "\n",
    "def r_rcv(x, i):\n",
    "    try:\n",
    "        prog[i][x] = queue[i].pop(0)\n",
    "    except IndexError:\n",
    "        globals()['halt'][i] = True"
   ]
  },
  {
   "cell_type": "code",
   "execution_count": 226,
   "metadata": {
    "ExecuteTime": {
     "end_time": "2017-12-18T22:30:16.027505",
     "start_time": "2017-12-18T22:30:15.998060"
    },
    "collapsed": true
   },
   "outputs": [],
   "source": [
    "import re\n",
    "\n",
    "def exec_register(reg, i):\n",
    "    comm = reg[0]\n",
    "    argx = reg[1][0]\n",
    "    if len(reg[1]) == 1:\n",
    "        globals()['r_' + comm](argx, i)\n",
    "    if len(reg[1]) > 1:\n",
    "        argy = reg[1][1]\n",
    "        globals()['r_' + comm](argx, argy, i)"
   ]
  },
  {
   "cell_type": "code",
   "execution_count": 234,
   "metadata": {
    "ExecuteTime": {
     "end_time": "2017-12-18T22:32:26.432766",
     "start_time": "2017-12-18T22:32:26.407028"
    },
    "collapsed": true
   },
   "outputs": [],
   "source": [
    "def run_duet(registers):\n",
    "    head = [0, 0]\n",
    "    while (not halt[0]) or (not halt[1]):\n",
    "        i = halt.index(False)\n",
    "        reg = registers[head[i]]\n",
    "        if reg[0] != 'jgz':\n",
    "            exec_register(reg, i)\n",
    "            if not halt[i]:\n",
    "                head[i] += 1\n",
    "        else:\n",
    "            req = retrieve(reg[1][0], prog[i])\n",
    "            offset = retrieve(reg[1][1], prog[i])\n",
    "            if req > 0:\n",
    "                head[i] += offset\n",
    "            else:\n",
    "                head[i] += 1"
   ]
  },
  {
   "cell_type": "markdown",
   "metadata": {},
   "source": [
    "### Test"
   ]
  },
  {
   "cell_type": "code",
   "execution_count": 235,
   "metadata": {
    "ExecuteTime": {
     "end_time": "2017-12-18T22:32:27.661502",
     "start_time": "2017-12-18T22:32:27.637430"
    }
   },
   "outputs": [],
   "source": [
    "init()\n",
    "registers = parse_registers('input.test1.txt')\n",
    "run_duet(registers)\n",
    "assert(sent_count == 1)"
   ]
  },
  {
   "cell_type": "code",
   "execution_count": 236,
   "metadata": {
    "ExecuteTime": {
     "end_time": "2017-12-18T22:32:43.886521",
     "start_time": "2017-12-18T22:32:43.872358"
    }
   },
   "outputs": [],
   "source": [
    "init()\n",
    "registers = parse_registers('input.test2.txt')\n",
    "run_duet(registers)\n",
    "assert(sent_count == 3)"
   ]
  },
  {
   "cell_type": "markdown",
   "metadata": {},
   "source": [
    "### Solution"
   ]
  },
  {
   "cell_type": "code",
   "execution_count": 237,
   "metadata": {
    "ExecuteTime": {
     "end_time": "2017-12-18T22:32:51.212049",
     "start_time": "2017-12-18T22:32:50.740838"
    }
   },
   "outputs": [
    {
     "name": "stdout",
     "output_type": "stream",
     "text": [
      "7620\n"
     ]
    }
   ],
   "source": [
    "init()\n",
    "registers = parse_registers('input.txt')\n",
    "run_duet(registers)\n",
    "print(sent_count)"
   ]
  }
 ],
 "metadata": {
  "kernelspec": {
   "display_name": "Python [conda env:adventofcode]",
   "language": "python",
   "name": "conda-env-adventofcode-py"
  },
  "language_info": {
   "codemirror_mode": {
    "name": "ipython",
    "version": 3
   },
   "file_extension": ".py",
   "mimetype": "text/x-python",
   "name": "python",
   "nbconvert_exporter": "python",
   "pygments_lexer": "ipython3",
   "version": "3.5.2"
  },
  "toc": {
   "colors": {
    "hover_highlight": "#DAA520",
    "running_highlight": "#FF0000",
    "selected_highlight": "#FFD700"
   },
   "moveMenuLeft": true,
   "nav_menu": {
    "height": "66px",
    "width": "252px"
   },
   "navigate_menu": true,
   "number_sections": true,
   "sideBar": true,
   "threshold": 4,
   "toc_cell": false,
   "toc_section_display": "block",
   "toc_window_display": false
  }
 },
 "nbformat": 4,
 "nbformat_minor": 2
}
