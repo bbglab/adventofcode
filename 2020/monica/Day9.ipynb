{
 "cells": [
  {
   "cell_type": "markdown",
   "metadata": {},
   "source": [
    "# Advent of code 2020"
   ]
  },
  {
   "cell_type": "markdown",
   "metadata": {},
   "source": [
    "## --- Day 9: Encoding Error ---\n",
    "\n",
    "With your neighbor happily enjoying their video game, you turn your attention to an open data port on the little screen in the seat in front of you.  \n",
    "\n",
    "Though the port is non-standard, you manage to connect it to your computer through the clever use of several paperclips. Upon connection, the port outputs a series of numbers (your puzzle input).  \n",
    "\n",
    "The data appears to be encrypted with the eXchange-Masking Addition System (XMAS) which, conveniently for you, is an old cypher with an important weakness.  \n",
    "\n",
    "XMAS starts by transmitting a **preamble** of 25 numbers. After that, each number you receive should be the sum of any two of the 25 immediately previous numbers. The two numbers will have different values, and there might be more than one such pair.  \n",
    "\n",
    "For example, suppose your preamble consists of the numbers `1` through `25` in a random order. To be valid, the next number must be the sum of two of those numbers:  \n",
    "\n",
    "- `26` would be a **valid** next number, as it could be `1` plus `25` (or many other pairs, like `2` and `24`).\n",
    "- `49` would be a **valid** next number, as it is the sum of `24` and `25`.\n",
    "- `100` would **not** be valid; no two of the previous 25 numbers sum to `100`.\n",
    "- `50` would also **not** be valid; although `25` appears in the previous 25 numbers, the two numbers in the pair must be different.  \n",
    "\n",
    "Suppose the 26th number is `45`, and the first number (no longer an option, as it is more than 25 numbers ago) was `20`. Now, for the next number to be valid, there needs to be some pair of numbers among 1-19, 21-25, or 45 that add up to it:  \n",
    "\n",
    "- `26` would still be a **valid** next number, as `1` and `25` are still within the previous 25 numbers.  \n",
    "- `65` would **not** be valid, as no two of the available numbers sum to it.  \n",
    "- `64` and 66 would both be **valid**, as they are the result of 19+45 and 21+45 respectively.  \n",
    "\n",
    "Here is a larger example which only considers the previous 5 numbers (and has a preamble of length 5):  \n",
    "```\n",
    "35\n",
    "20\n",
    "15\n",
    "25\n",
    "47\n",
    "40\n",
    "62\n",
    "55\n",
    "65\n",
    "95\n",
    "102\n",
    "117\n",
    "150\n",
    "182\n",
    "127\n",
    "219\n",
    "299\n",
    "277\n",
    "309\n",
    "576\n",
    "```\n",
    "In this example, after the 5-number preamble, almost every number is the sum of two of the previous 5 numbers; the only number that does not follow this rule is 127.  \n",
    "\n",
    "The first step of attacking the weakness in the XMAS data is to find the first number in the list (after the preamble) which is not the sum of two of the 25 numbers before it. What is the first number that does not have this property?  "
   ]
  },
  {
   "cell_type": "code",
   "execution_count": 9,
   "metadata": {},
   "outputs": [
    {
     "name": "stdout",
     "output_type": "stream",
     "text": [
      "The first number to not follow the rule is 127\n"
     ]
    }
   ],
   "source": [
    "#Example\n",
    "\n",
    "with open('example9.txt') as f:\n",
    "    xmas = f.read().split('\\n')\n",
    "    xmas = [num for num in xmas if num != '']\n",
    "\n",
    "def find_number(xmas,num_preamble):\n",
    "    \n",
    "    stop=False\n",
    "    i = num_preamble\n",
    "    while stop == False:\n",
    "        preamble = xmas[i-num_preamble:i]\n",
    "        check_sum = []\n",
    "        for num1 in preamble:\n",
    "            for num2 in preamble:           \n",
    "                if (num1 != num2)&(int(num1)+int(num2)==int(xmas[i])):\n",
    "                    check_sum.append(xmas[i])\n",
    "\n",
    "        if (i == len(xmas))| (check_sum == []):\n",
    "            stop = True\n",
    "            print('The first number to not follow the rule is', xmas[i])\n",
    "        else:\n",
    "            i = i +1     \n",
    "    return xmas[i]\n",
    "        \n",
    "invalid_number = find_number(xmas,5)"
   ]
  },
  {
   "cell_type": "code",
   "execution_count": 37,
   "metadata": {},
   "outputs": [
    {
     "name": "stdout",
     "output_type": "stream",
     "text": [
      "The first number to not follow the rule is 10884537\n"
     ]
    }
   ],
   "source": [
    "#Input 9\n",
    "with open('input_day9.txt') as f:\n",
    "    xmas = f.read().split('\\n')\n",
    "    xmas = [num for num in xmas if num != '']\n",
    "\n",
    "find_number(xmas,25)"
   ]
  },
  {
   "cell_type": "markdown",
   "metadata": {},
   "source": [
    "## --- Part Two ---\n",
    "The final step in breaking the XMAS encryption relies on the invalid number you just found: you must find a contiguous set of at least two numbers in your list which sum to the invalid number from step 1.  \n",
    "\n",
    "Again consider the above example:  \n",
    "```\n",
    "35\n",
    "20\n",
    "15\n",
    "25\n",
    "47\n",
    "40\n",
    "62\n",
    "55\n",
    "65\n",
    "95\n",
    "102\n",
    "117\n",
    "150\n",
    "182\n",
    "127\n",
    "219\n",
    "299\n",
    "277\n",
    "309\n",
    "576\n",
    "```\n",
    "In this list, adding up all of the numbers from `15` through `40` produces the invalid number from step 1, `127`. (Of course, the contiguous set of numbers in your actual list might be much longer.)  \n",
    "\n",
    "To find the encryption weakness, add together the smallest and largest number in this contiguous range; in this example, these are `15` and `47`, producing `62`.  \n",
    "\n",
    "What is the encryption weakness in your XMAS-encrypted list of numbers?  "
   ]
  },
  {
   "cell_type": "code",
   "execution_count": 15,
   "metadata": {},
   "outputs": [
    {
     "name": "stdout",
     "output_type": "stream",
     "text": [
      "The first number to not follow the rule is 127\n",
      "End of list with range 2\n",
      "End of list with range 3\n",
      "The range is [15, 25, 47, 40]\n",
      "The encryption weakness is 62\n"
     ]
    }
   ],
   "source": [
    "#Example\n",
    "\n",
    "with open('example9.txt') as f:\n",
    "    xmas = f.read().split('\\n')\n",
    "    xmas = [int(num) for num in xmas if num != '']\n",
    "    \n",
    "def find_weakness(xmas,invalid_number):\n",
    "    stop=False\n",
    "    start = 0\n",
    "    end = 2\n",
    "    num_range = 2\n",
    "\n",
    "    while stop == False:\n",
    "        contiguous = xmas[start:end]\n",
    "        if sum(contiguous) == invalid_number:\n",
    "            print('The range is',contiguous)\n",
    "            min_number = min(contiguous)\n",
    "            max_number = max(contiguous)\n",
    "            sum_numbers = min_number + max_number\n",
    "            print('The encryption weakness is', sum_numbers)\n",
    "            stop = True\n",
    "        elif end == len(xmas):\n",
    "            print('End of list with range',num_range)\n",
    "    #         stop = True\n",
    "            if start == len(xmas):\n",
    "                print('End of start')\n",
    "                stop = True\n",
    "            else:\n",
    "                num_range = num_range +1\n",
    "                end = num_range\n",
    "                start = 0\n",
    "        else:\n",
    "            end = end +1\n",
    "            start = start +1\n",
    "invalid_number = find_number(xmas,5)            \n",
    "find_weakness(xmas,invalid_number)"
   ]
  },
  {
   "cell_type": "code",
   "execution_count": 16,
   "metadata": {},
   "outputs": [
    {
     "name": "stdout",
     "output_type": "stream",
     "text": [
      "The first number to not follow the rule is 10884537\n",
      "End of list with range 2\n",
      "End of list with range 3\n",
      "End of list with range 4\n",
      "End of list with range 5\n",
      "End of list with range 6\n",
      "End of list with range 7\n",
      "End of list with range 8\n",
      "End of list with range 9\n",
      "End of list with range 10\n",
      "End of list with range 11\n",
      "End of list with range 12\n",
      "End of list with range 13\n",
      "End of list with range 14\n",
      "End of list with range 15\n",
      "End of list with range 16\n",
      "The range is [408514, 507208, 753282, 695857, 570543, 444281, 626571, 592643, 500865, 693401, 599118, 661929, 814643, 662453, 712303, 852795, 788131]\n",
      "The encryption weakness is 1261309\n"
     ]
    }
   ],
   "source": [
    "#Input 9\n",
    "with open('input_day9.txt') as f:\n",
    "    xmas = f.read().split('\\n')\n",
    "    xmas = [int(num) for num in xmas if num != '']\n",
    "\n",
    "invalid_number = find_number(xmas,25)            \n",
    "find_weakness(xmas,invalid_number)"
   ]
  }
 ],
 "metadata": {
  "kernelspec": {
   "display_name": "Python 3",
   "language": "python",
   "name": "python3"
  },
  "language_info": {
   "codemirror_mode": {
    "name": "ipython",
    "version": 3
   },
   "file_extension": ".py",
   "mimetype": "text/x-python",
   "name": "python",
   "nbconvert_exporter": "python",
   "pygments_lexer": "ipython3",
   "version": "3.8.3"
  }
 },
 "nbformat": 4,
 "nbformat_minor": 4
}
