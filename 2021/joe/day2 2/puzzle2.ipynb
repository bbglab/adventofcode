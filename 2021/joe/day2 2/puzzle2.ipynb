{
 "cells": [
  {
   "cell_type": "markdown",
   "id": "101edc18",
   "metadata": {},
   "source": [
    "# Part 1"
   ]
  },
  {
   "cell_type": "code",
   "execution_count": 1,
   "id": "f4ad76a9",
   "metadata": {},
   "outputs": [],
   "source": [
    "with open(\"i2.txt\", 'r') as f:\n",
    "    directions = f.read().splitlines()"
   ]
  },
  {
   "cell_type": "markdown",
   "id": "6380047a",
   "metadata": {},
   "source": [
    "#### Create 'map' that stores directions"
   ]
  },
  {
   "cell_type": "code",
   "execution_count": 2,
   "id": "453e9a7d",
   "metadata": {},
   "outputs": [],
   "source": [
    "sea_map = {}\n",
    "for move in directions:\n",
    "    direction = move.split(\" \")[0]\n",
    "    distance = [int(move.split(\" \")[1])]\n",
    "    if direction not in sea_map:\n",
    "        sea_map[direction] = distance\n",
    "    else:\n",
    "        sea_map[direction] += distance"
   ]
  },
  {
   "cell_type": "markdown",
   "id": "14c917ba",
   "metadata": {},
   "source": [
    "#### Aggregate total directions travelled"
   ]
  },
  {
   "cell_type": "code",
   "execution_count": 3,
   "id": "39accdd4",
   "metadata": {},
   "outputs": [
    {
     "data": {
      "text/plain": [
       "1451208"
      ]
     },
     "execution_count": 3,
     "metadata": {},
     "output_type": "execute_result"
    }
   ],
   "source": [
    "travel_history = { direction: sum(sea_map[direction]) for direction in sea_map}\n",
    "(travel_history['down'] - travel_history['up']) * travel_history['forward']"
   ]
  },
  {
   "cell_type": "markdown",
   "id": "985de837",
   "metadata": {},
   "source": [
    "# Part 2"
   ]
  },
  {
   "cell_type": "code",
   "execution_count": 4,
   "id": "56a1a176",
   "metadata": {},
   "outputs": [],
   "source": [
    "def navigate( sea_map, direction ):\n",
    "    move= int(direction.split(\" \")[1])\n",
    "    if 'forward' in direction:\n",
    "        sea_map['horizontal'] += move\n",
    "        sea_map['depth'] += move*sea_map['aim']\n",
    "    elif 'down' in direction: \n",
    "        sea_map['aim'] = sea_map['aim'] + move \n",
    "    elif 'up' in direction: \n",
    "        sea_map['aim'] = sea_map['aim'] - move \n",
    "    return sea_map"
   ]
  },
  {
   "cell_type": "markdown",
   "id": "61ef1c24",
   "metadata": {},
   "source": [
    "#### Run"
   ]
  },
  {
   "cell_type": "code",
   "execution_count": 5,
   "id": "db58794e",
   "metadata": {},
   "outputs": [],
   "source": [
    "sea_map = {'aim':0, 'depth':0,'horizontal':0}\n",
    "for direction in directions:\n",
    "    sea_map = navigate( sea_map, direction )"
   ]
  },
  {
   "cell_type": "code",
   "execution_count": 6,
   "id": "22fca111",
   "metadata": {},
   "outputs": [
    {
     "data": {
      "text/plain": [
       "{'aim': 717, 'depth': 800465, 'horizontal': 2024}"
      ]
     },
     "execution_count": 6,
     "metadata": {},
     "output_type": "execute_result"
    }
   ],
   "source": [
    "sea_map"
   ]
  },
  {
   "cell_type": "code",
   "execution_count": 7,
   "id": "0bcebbba",
   "metadata": {},
   "outputs": [
    {
     "data": {
      "text/plain": [
       "1620141160"
      ]
     },
     "execution_count": 7,
     "metadata": {},
     "output_type": "execute_result"
    }
   ],
   "source": [
    "sea_map['depth']*sea_map['horizontal']"
   ]
  }
 ],
 "metadata": {
  "kernelspec": {
   "display_name": "Python 3 (ipykernel)",
   "language": "python",
   "name": "python3"
  },
  "language_info": {
   "codemirror_mode": {
    "name": "ipython",
    "version": 3
   },
   "file_extension": ".py",
   "mimetype": "text/x-python",
   "name": "python",
   "nbconvert_exporter": "python",
   "pygments_lexer": "ipython3",
   "version": "3.9.7"
  }
 },
 "nbformat": 4,
 "nbformat_minor": 5
}
