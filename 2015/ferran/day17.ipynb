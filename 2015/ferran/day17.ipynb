{
 "cells": [
  {
   "cell_type": "markdown",
   "metadata": {},
   "source": [
    "# Day 17: Like a GIF For Your Yard\n",
    "\n",
    "## Day 17.1"
   ]
  },
  {
   "cell_type": "code",
   "execution_count": 60,
   "metadata": {
    "ExecuteTime": {
     "end_time": "2017-12-17T02:06:57.542605",
     "start_time": "2017-12-17T02:06:57.531181"
    }
   },
   "outputs": [],
   "source": [
    "import numpy as np\n",
    "\n",
    "def parse_grid(input_path, size):\n",
    "    grid = []\n",
    "    with open(input_path, 'rt') as f_input:\n",
    "        for line in f_input:\n",
    "            grid += list(line.rstrip())\n",
    "    grid = np.array(grid)\n",
    "    return grid.reshape(size, size)"
   ]
  },
  {
   "cell_type": "code",
   "execution_count": 61,
   "metadata": {
    "ExecuteTime": {
     "end_time": "2017-12-17T02:06:59.213458",
     "start_time": "2017-12-17T02:06:59.170605"
    }
   },
   "outputs": [],
   "source": [
    "from itertools import product\n",
    "\n",
    "def adjacent(a, b, size):\n",
    "    for i, j in product([-1, 0, 1], repeat=2):\n",
    "        if (0 <= a + i < size) and (0 <= b + j < size):\n",
    "            if (i != 0) or (j != 0):\n",
    "                yield a + i, b + j\n",
    "            \n",
    "\n",
    "def transform(grid, size):\n",
    "    new_grid = np.empty((size, size), dtype=object)\n",
    "    for i, j in product(range(size), repeat=2):\n",
    "        on = sum([1 if grid[a, b] == '#' else 0 for a, b in adjacent(i, j, size)])\n",
    "        if grid[i, j] == '#':\n",
    "            if on in [2, 3]:\n",
    "                new_grid[i, j] = '#'\n",
    "            else:\n",
    "                new_grid[i, j] = '.'\n",
    "        elif grid[i, j] == '.':\n",
    "            if on == 3:\n",
    "                new_grid[i, j] = '#'\n",
    "            else:\n",
    "                new_grid[i, j] = '.'\n",
    "    return new_grid"
   ]
  },
  {
   "cell_type": "code",
   "execution_count": 66,
   "metadata": {
    "ExecuteTime": {
     "end_time": "2017-12-17T02:11:32.340347",
     "start_time": "2017-12-17T02:11:32.321815"
    },
    "collapsed": true
   },
   "outputs": [],
   "source": [
    "def iterate_grid(initial_state, size, n):\n",
    "    s = initial_state\n",
    "    for _ in range(n):\n",
    "        s = transform(s, size)\n",
    "    return s\n",
    "\n",
    "def lights_on(initial_state, size, n):\n",
    "    s = iterate_grid(initial_state, size, n)\n",
    "    count = 0\n",
    "    for i, j in product(range(size), repeat=2):\n",
    "        if s[i, j] == '#':\n",
    "            count += 1\n",
    "    return count"
   ]
  },
  {
   "cell_type": "markdown",
   "metadata": {},
   "source": [
    "### Test"
   ]
  },
  {
   "cell_type": "code",
   "execution_count": 67,
   "metadata": {
    "ExecuteTime": {
     "end_time": "2017-12-17T02:11:33.070681",
     "start_time": "2017-12-17T02:11:33.059693"
    }
   },
   "outputs": [],
   "source": [
    "test_grid = parse_grid('inputs/input17.test1.txt', 6)"
   ]
  },
  {
   "cell_type": "code",
   "execution_count": 68,
   "metadata": {
    "ExecuteTime": {
     "end_time": "2017-12-17T02:11:33.258080",
     "start_time": "2017-12-17T02:11:33.237537"
    }
   },
   "outputs": [
    {
     "name": "stdout",
     "output_type": "stream",
     "text": [
      "[['.' '#' '.' '#' '.' '#']\n",
      " ['.' '.' '.' '#' '#' '.']\n",
      " ['#' '.' '.' '.' '.' '#']\n",
      " ['.' '.' '#' '.' '.' '.']\n",
      " ['#' '.' '#' '.' '.' '#']\n",
      " ['#' '#' '#' '#' '.' '.']]\n"
     ]
    }
   ],
   "source": [
    "print(test_grid)"
   ]
  },
  {
   "cell_type": "code",
   "execution_count": 69,
   "metadata": {
    "ExecuteTime": {
     "end_time": "2017-12-17T02:11:33.766669",
     "start_time": "2017-12-17T02:11:33.744310"
    }
   },
   "outputs": [
    {
     "name": "stdout",
     "output_type": "stream",
     "text": [
      "[['.' '.' '#' '#' '.' '.']\n",
      " ['.' '.' '#' '#' '.' '#']\n",
      " ['.' '.' '.' '#' '#' '.']\n",
      " ['.' '.' '.' '.' '.' '.']\n",
      " ['#' '.' '.' '.' '.' '.']\n",
      " ['#' '.' '#' '#' '.' '.']]\n"
     ]
    }
   ],
   "source": [
    "print(transform(test_grid, 6))"
   ]
  },
  {
   "cell_type": "code",
   "execution_count": 70,
   "metadata": {
    "ExecuteTime": {
     "end_time": "2017-12-17T02:11:34.232504",
     "start_time": "2017-12-17T02:11:34.220662"
    }
   },
   "outputs": [
    {
     "name": "stdout",
     "output_type": "stream",
     "text": [
      "[['.' '.' '.' '.' '.' '.']\n",
      " ['.' '.' '.' '.' '.' '.']\n",
      " ['.' '.' '#' '#' '.' '.']\n",
      " ['.' '.' '#' '#' '.' '.']\n",
      " ['.' '.' '.' '.' '.' '.']\n",
      " ['.' '.' '.' '.' '.' '.']]\n"
     ]
    }
   ],
   "source": [
    "print(iterate_grid(test_grid, 6, 4))"
   ]
  },
  {
   "cell_type": "code",
   "execution_count": 71,
   "metadata": {
    "ExecuteTime": {
     "end_time": "2017-12-17T02:11:53.521748",
     "start_time": "2017-12-17T02:11:53.515989"
    },
    "collapsed": true
   },
   "outputs": [],
   "source": [
    "assert(lights_on(test_grid, 6, 4) == 4)"
   ]
  },
  {
   "cell_type": "markdown",
   "metadata": {
    "ExecuteTime": {
     "end_time": "2017-12-17T02:12:09.810033",
     "start_time": "2017-12-17T02:12:09.804522"
    }
   },
   "source": [
    "### Solution"
   ]
  },
  {
   "cell_type": "code",
   "execution_count": 73,
   "metadata": {
    "ExecuteTime": {
     "end_time": "2017-12-17T02:13:12.437392",
     "start_time": "2017-12-17T02:13:06.254142"
    }
   },
   "outputs": [
    {
     "data": {
      "text/plain": [
       "821"
      ]
     },
     "execution_count": 73,
     "metadata": {},
     "output_type": "execute_result"
    }
   ],
   "source": [
    "grid = parse_grid('inputs/input17.txt', 100)\n",
    "lights_on(grid, 100, 100)"
   ]
  },
  {
   "cell_type": "markdown",
   "metadata": {},
   "source": [
    "## Day 17.2"
   ]
  },
  {
   "cell_type": "code",
   "execution_count": 74,
   "metadata": {
    "ExecuteTime": {
     "end_time": "2017-12-17T02:18:05.172481",
     "start_time": "2017-12-17T02:18:05.157260"
    },
    "collapsed": true
   },
   "outputs": [],
   "source": [
    "def force_lights_stuck(grid, size):\n",
    "    grid[0, 0] = '#'\n",
    "    grid[0, size - 1] = '#'\n",
    "    grid[size - 1, 0] = '#'\n",
    "    grid[size - 1, size - 1] = '#'\n",
    "    return grid"
   ]
  },
  {
   "cell_type": "code",
   "execution_count": 76,
   "metadata": {
    "ExecuteTime": {
     "end_time": "2017-12-17T02:20:01.466107",
     "start_time": "2017-12-17T02:20:01.445530"
    },
    "collapsed": true
   },
   "outputs": [],
   "source": [
    "def iterate_grid_stuck(initial_state, size, n):\n",
    "    s = initial_state\n",
    "    s = force_lights_stuck(s, size)\n",
    "    for _ in range(n):\n",
    "        s = transform(s, size)\n",
    "        s = force_lights_stuck(s, size)\n",
    "    return s\n",
    "\n",
    "def lights_on_stuck(initial_state, size, n):\n",
    "    s = iterate_grid_stuck(initial_state, size, n)\n",
    "    count = 0\n",
    "    for i, j in product(range(size), repeat=2):\n",
    "        if s[i, j] == '#':\n",
    "            count += 1\n",
    "    return count"
   ]
  },
  {
   "cell_type": "markdown",
   "metadata": {},
   "source": [
    "### Test"
   ]
  },
  {
   "cell_type": "code",
   "execution_count": 77,
   "metadata": {
    "ExecuteTime": {
     "end_time": "2017-12-17T02:20:21.135920",
     "start_time": "2017-12-17T02:20:21.117511"
    }
   },
   "outputs": [
    {
     "data": {
      "text/plain": [
       "17"
      ]
     },
     "execution_count": 77,
     "metadata": {},
     "output_type": "execute_result"
    }
   ],
   "source": [
    "test_grid = parse_grid('inputs/input17.test1.txt', 6)\n",
    "lights_on_stuck(test_grid, 6, 5)"
   ]
  },
  {
   "cell_type": "markdown",
   "metadata": {},
   "source": [
    "### Solution"
   ]
  },
  {
   "cell_type": "code",
   "execution_count": 78,
   "metadata": {
    "ExecuteTime": {
     "end_time": "2017-12-17T02:21:17.914037",
     "start_time": "2017-12-17T02:21:11.579962"
    }
   },
   "outputs": [
    {
     "data": {
      "text/plain": [
       "886"
      ]
     },
     "execution_count": 78,
     "metadata": {},
     "output_type": "execute_result"
    }
   ],
   "source": [
    "grid = parse_grid('inputs/input17.txt', 100)\n",
    "lights_on_stuck(grid, 100, 100)"
   ]
  },
  {
   "cell_type": "code",
   "execution_count": null,
   "metadata": {
    "collapsed": true
   },
   "outputs": [],
   "source": []
  }
 ],
 "metadata": {
  "kernelspec": {
   "display_name": "Python [conda env:adventofcode]",
   "language": "python",
   "name": "conda-env-adventofcode-py"
  },
  "language_info": {
   "codemirror_mode": {
    "name": "ipython",
    "version": 3
   },
   "file_extension": ".py",
   "mimetype": "text/x-python",
   "name": "python",
   "nbconvert_exporter": "python",
   "pygments_lexer": "ipython3",
   "version": "3.5.2"
  },
  "toc": {
   "colors": {
    "hover_highlight": "#DAA520",
    "running_highlight": "#FF0000",
    "selected_highlight": "#FFD700"
   },
   "moveMenuLeft": true,
   "nav_menu": {
    "height": "66px",
    "width": "252px"
   },
   "navigate_menu": true,
   "number_sections": true,
   "sideBar": true,
   "threshold": 4,
   "toc_cell": false,
   "toc_section_display": "block",
   "toc_window_display": false
  }
 },
 "nbformat": 4,
 "nbformat_minor": 2
}
