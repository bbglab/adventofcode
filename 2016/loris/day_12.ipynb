{
 "cells": [
  {
   "cell_type": "markdown",
   "metadata": {},
   "source": [
    "# Advent of Code 2016"
   ]
  },
  {
   "cell_type": "raw",
   "metadata": {},
   "source": [
    "--- Day 12: Leonardo's Monorail ---\n",
    "\n",
    "You finally reach the top floor of this building: a garden with a slanted glass ceiling. Looks like there are no more stars to be had.\n",
    "\n",
    "While sitting on a nearby bench amidst some tiger lilies, you manage to decrypt some of the files you extracted from the servers downstairs.\n",
    "\n",
    "According to these documents, Easter Bunny HQ isn't just this building - it's a collection of buildings in the nearby area. They're all connected by a local monorail, and there's another building not far from here! Unfortunately, being night, the monorail is currently not operating.\n",
    "\n",
    "You remotely connect to the monorail control systems and discover that the boot sequence expects a password. The password-checking logic (your puzzle input) is easy to extract, but the code it uses is strange: it's assembunny code designed for the new computer you just assembled. You'll have to execute the code and get the password.\n",
    "\n",
    "The assembunny code you've extracted operates on four registers (a, b, c, and d) that start at 0 and can hold any integer. However, it seems to make use of only a few instructions:\n",
    "\n",
    "- cpy x y copies x (either an integer or the value of a register) into register y.\n",
    "- inc x increases the value of register x by one.\n",
    "- dec x decreases the value of register x by one.\n",
    "- jnz x y jumps to an instruction y away (positive means forward; negative means backward), but only if x is not zero.\n",
    "\n",
    "The jnz instruction moves relative to itself: an offset of -1 would continue at the previous instruction, while an offset of 2 would skip over the next instruction.\n",
    "\n",
    "For example:\n",
    "\n",
    "cpy 41 a\n",
    "inc a\n",
    "inc a\n",
    "dec a\n",
    "jnz a 2\n",
    "dec a\n",
    "\n",
    "The above code would set register a to 41, increase its value by 2, decrease its value by 1, and then skip the last dec a (because a is not zero, so the jnz a 2 skips it), leaving register a at 42. When you move past the last instruction, the program halts.\n",
    "\n",
    "After executing the assembunny code in your puzzle input, what value is left in register a?"
   ]
  },
  {
   "cell_type": "code",
   "execution_count": 1,
   "metadata": {
    "collapsed": true
   },
   "outputs": [],
   "source": [
    "from collections import defaultdict"
   ]
  },
  {
   "cell_type": "code",
   "execution_count": 2,
   "metadata": {
    "collapsed": false
   },
   "outputs": [],
   "source": [
    "class Assembunny:\n",
    "    \n",
    "    def __init__(self):\n",
    "        self.registers = defaultdict(int)\n",
    "        self.pointer = 0\n",
    "        \n",
    "    def _add_to_register(self, register, value):\n",
    "        self.registers[register] = value\n",
    "        \n",
    "    def copy(self, register, value):\n",
    "        try:\n",
    "            value = int(value)\n",
    "        except ValueError:\n",
    "            value = self.registers[value]\n",
    "        self._add_to_register(register, value)\n",
    "        \n",
    "    def increase(self, register):\n",
    "        self.registers[register] += 1\n",
    "        \n",
    "    def decrease(self, register):\n",
    "        self.registers[register] -= 1\n",
    "        \n",
    "    @staticmethod\n",
    "    def is_number(n):\n",
    "        try:\n",
    "            n = int(n)\n",
    "        except ValueError:\n",
    "            return False\n",
    "        return True\n",
    "        \n",
    "    def jump(self, index, register=None):\n",
    "        if register is not None and (self.registers[register] != 0 or \n",
    "                                     self.is_number(register)):\n",
    "            self.pointer += index\n",
    "        else:\n",
    "            self.pointer += 1\n",
    "            \n",
    "    def execute(self, instructions):\n",
    "        while True:\n",
    "            try:\n",
    "                instruction = instructions[self.pointer]\n",
    "                instruction = instruction.split()\n",
    "                if instruction[0] == 'cpy':\n",
    "                    self.copy(instruction[-1], instruction[1])\n",
    "                    self.jump(1)\n",
    "                elif instruction[0] == 'inc':\n",
    "                    self.increase(instruction[-1])\n",
    "                    self.jump(1)\n",
    "                elif instruction[0] == 'dec':\n",
    "                    self.decrease(instruction[-1])\n",
    "                    self.jump(1)\n",
    "                else:\n",
    "                    self.jump(int(instruction[-1]), instruction[1])\n",
    "            except IndexError:\n",
    "                return self.registers"
   ]
  },
  {
   "cell_type": "code",
   "execution_count": 3,
   "metadata": {
    "collapsed": false
   },
   "outputs": [],
   "source": [
    "# Test\n",
    "data = [\n",
    "    'cpy 41 a',  # set register a to 41, \n",
    "    'inc a',     # increase its value by 1, (42)\n",
    "    'inc a',     # increase its value by 1, (43)\n",
    "    'dec a',     # decrease its value by 1, (42)\n",
    "    'jnz a 2',   # skip the last dec a\n",
    "    'dec a'\n",
    "]\n",
    "\n",
    "assembunny = Assembunny()\n",
    "assert(assembunny.execute(data)['a'] == 42)"
   ]
  },
  {
   "cell_type": "code",
   "execution_count": 4,
   "metadata": {
    "collapsed": false
   },
   "outputs": [],
   "source": [
    "data = [line.strip() for line in open('data/day_12.txt', 'r')]"
   ]
  },
  {
   "cell_type": "code",
   "execution_count": 5,
   "metadata": {
    "collapsed": false
   },
   "outputs": [
    {
     "name": "stdout",
     "output_type": "stream",
     "text": [
      "CPU times: user 840 ms, sys: 4 ms, total: 844 ms\n",
      "Wall time: 845 ms\n"
     ]
    }
   ],
   "source": [
    "%%time \n",
    "\n",
    "assembunny = Assembunny()\n",
    "res = assembunny.execute(data)"
   ]
  },
  {
   "cell_type": "code",
   "execution_count": 6,
   "metadata": {
    "collapsed": false
   },
   "outputs": [
    {
     "data": {
      "text/plain": [
       "defaultdict(int, {'1': 0, 'a': 318007, 'b': 196418, 'c': 0, 'd': 0})"
      ]
     },
     "execution_count": 6,
     "metadata": {},
     "output_type": "execute_result"
    }
   ],
   "source": [
    "res"
   ]
  },
  {
   "cell_type": "raw",
   "metadata": {},
   "source": [
    "--- Part Two ---\n",
    "\n",
    "As you head down the fire escape to the monorail, you notice it didn't start; register c needs to be initialized to the position of the ignition key.\n",
    "\n",
    "If you instead initialize register c to be 1, what value is now left in register a?"
   ]
  },
  {
   "cell_type": "code",
   "execution_count": 7,
   "metadata": {
    "collapsed": false
   },
   "outputs": [
    {
     "name": "stdout",
     "output_type": "stream",
     "text": [
      "CPU times: user 22.9 s, sys: 0 ns, total: 22.9 s\n",
      "Wall time: 22.9 s\n"
     ]
    }
   ],
   "source": [
    "%%time \n",
    "\n",
    "assembunny = Assembunny()\n",
    "assembunny.increase('c')\n",
    "res = assembunny.execute(data)"
   ]
  },
  {
   "cell_type": "code",
   "execution_count": 8,
   "metadata": {
    "collapsed": false
   },
   "outputs": [
    {
     "data": {
      "text/plain": [
       "defaultdict(int, {'a': 9227661, 'b': 5702887, 'c': 0, 'd': 0})"
      ]
     },
     "execution_count": 8,
     "metadata": {},
     "output_type": "execute_result"
    }
   ],
   "source": [
    "res"
   ]
  }
 ],
 "metadata": {
  "kernelspec": {
   "display_name": "Python 3",
   "language": "python",
   "name": "python3"
  },
  "language_info": {
   "codemirror_mode": {
    "name": "ipython",
    "version": 3
   },
   "file_extension": ".py",
   "mimetype": "text/x-python",
   "name": "python",
   "nbconvert_exporter": "python",
   "pygments_lexer": "ipython3",
   "version": "3.5.2+"
  }
 },
 "nbformat": 4,
 "nbformat_minor": 2
}
