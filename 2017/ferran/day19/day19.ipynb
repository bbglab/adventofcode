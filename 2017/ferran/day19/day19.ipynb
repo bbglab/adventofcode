{
 "cells": [
  {
   "cell_type": "markdown",
   "metadata": {},
   "source": [
    "# A Series of Tubes"
   ]
  },
  {
   "cell_type": "markdown",
   "metadata": {},
   "source": [
    "## Part 1 & 2"
   ]
  },
  {
   "cell_type": "code",
   "execution_count": 98,
   "metadata": {
    "ExecuteTime": {
     "end_time": "2017-12-19T08:16:16.494754",
     "start_time": "2017-12-19T08:16:16.474837"
    },
    "collapsed": true
   },
   "outputs": [],
   "source": [
    "from collections import defaultdict\n",
    "\n",
    "def parse_route(input_path):\n",
    "    route = defaultdict(lambda: ' ')\n",
    "    with open(input_path, 'rt') as f_input:\n",
    "        for i, line in enumerate(f_input):\n",
    "            for j, v in enumerate(list(line.rstrip('\\n'))):\n",
    "                route[(i, j)] = v\n",
    "                if (i == 0) and (v == '|'): start = (i, j)\n",
    "    return route, start"
   ]
  },
  {
   "cell_type": "code",
   "execution_count": 99,
   "metadata": {
    "ExecuteTime": {
     "end_time": "2017-12-19T08:16:16.928121",
     "start_time": "2017-12-19T08:16:16.875768"
    }
   },
   "outputs": [],
   "source": [
    "import re\n",
    "\n",
    "def move(curr_pos, curr_dir, route):\n",
    "    if route[curr_pos] == '+':\n",
    "        for e in [(1, 0), [0, 1], [-1, 0], [0, -1]]:\n",
    "            next_dir = (e[0], e[1])\n",
    "            next_pos = (curr_pos[0] + next_dir[0], curr_pos[1] + next_dir[1])\n",
    "            if (route[next_pos] != ' ') and (curr_dir[0]*next_dir[0] + curr_dir[1]*next_dir[1] == 0):\n",
    "                break\n",
    "    else:\n",
    "        next_pos = (curr_pos[0] + curr_dir[0], curr_pos[1] + curr_dir[1])\n",
    "        next_dir = curr_dir\n",
    "        if route[next_pos] == ' ':\n",
    "            next_pos = None\n",
    "    return next_pos, next_dir\n",
    "\n",
    "def follow_route(input_path):\n",
    "    word = ''\n",
    "    route, curr_pos = parse_route(input_path)\n",
    "    curr_dir = (1, 0)\n",
    "    steps = 0\n",
    "    while curr_pos is not None:\n",
    "        curr_pos, curr_dir = move(curr_pos, curr_dir, route)\n",
    "        steps += 1\n",
    "        if (curr_pos is not None) and re.search('[A-Z]', route[curr_pos]):\n",
    "            word += route[curr_pos]\n",
    "    return word, steps"
   ]
  },
  {
   "cell_type": "markdown",
   "metadata": {},
   "source": [
    "### Test"
   ]
  },
  {
   "cell_type": "code",
   "execution_count": 100,
   "metadata": {
    "ExecuteTime": {
     "end_time": "2017-12-19T08:16:17.914520",
     "start_time": "2017-12-19T08:16:17.891928"
    }
   },
   "outputs": [
    {
     "data": {
      "text/plain": [
       "('ABCDEF', 38)"
      ]
     },
     "execution_count": 100,
     "metadata": {},
     "output_type": "execute_result"
    }
   ],
   "source": [
    "follow_route('input.test1.txt')"
   ]
  },
  {
   "cell_type": "markdown",
   "metadata": {},
   "source": [
    "### Solution"
   ]
  },
  {
   "cell_type": "code",
   "execution_count": 101,
   "metadata": {
    "ExecuteTime": {
     "end_time": "2017-12-19T08:16:19.011213",
     "start_time": "2017-12-19T08:16:18.854100"
    }
   },
   "outputs": [
    {
     "data": {
      "text/plain": [
       "('LOHMDQATP', 16492)"
      ]
     },
     "execution_count": 101,
     "metadata": {},
     "output_type": "execute_result"
    }
   ],
   "source": [
    "follow_route('input.txt')"
   ]
  }
 ],
 "metadata": {
  "kernelspec": {
   "display_name": "Python [conda env:adventofcode]",
   "language": "python",
   "name": "conda-env-adventofcode-py"
  },
  "language_info": {
   "codemirror_mode": {
    "name": "ipython",
    "version": 3
   },
   "file_extension": ".py",
   "mimetype": "text/x-python",
   "name": "python",
   "nbconvert_exporter": "python",
   "pygments_lexer": "ipython3",
   "version": "3.5.2"
  },
  "toc": {
   "colors": {
    "hover_highlight": "#DAA520",
    "running_highlight": "#FF0000",
    "selected_highlight": "#FFD700"
   },
   "moveMenuLeft": true,
   "nav_menu": {
    "height": "66px",
    "width": "252px"
   },
   "navigate_menu": true,
   "number_sections": true,
   "sideBar": true,
   "threshold": 4,
   "toc_cell": false,
   "toc_section_display": "block",
   "toc_window_display": false
  }
 },
 "nbformat": 4,
 "nbformat_minor": 2
}
