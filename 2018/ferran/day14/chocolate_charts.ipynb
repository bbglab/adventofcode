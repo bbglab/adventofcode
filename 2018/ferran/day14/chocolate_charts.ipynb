{
 "cells": [
  {
   "cell_type": "markdown",
   "metadata": {
    "collapsed": true
   },
   "source": [
    "# Part 1"
   ]
  },
  {
   "cell_type": "code",
   "execution_count": 30,
   "metadata": {
    "collapsed": true
   },
   "outputs": [],
   "source": [
    "class Raceipy:\n",
    "    \n",
    "    def __init__(self):\n",
    "        self.strip = [3, 7] \n",
    "        self.pos1  = 0\n",
    "        self.pos2  = 1\n",
    "    \n",
    "    def step(self):\n",
    "        s = self.strip[self.pos1] + self.strip[self.pos2]\n",
    "        self.strip += list(map(int, str(s)))\n",
    "        self.pos1 = (self.pos1 + self.strip[self.pos1] + 1) % len(self.strip)\n",
    "        self.pos2 = (self.pos2 + self.strip[self.pos2] + 1) % len(self.strip)\n",
    "    \n",
    "    def show(self):\n",
    "        printable = ''\n",
    "        for i, v in enumerate(self.strip):\n",
    "            if i == self.pos1:\n",
    "                printable += '({0})'.format(v)\n",
    "            elif i == self.pos2:\n",
    "                printable += '[{0}]'.format(v)\n",
    "            else:\n",
    "                printable += ' {0} '.format(v)\n",
    "        print(printable)\n",
    "\n",
    "def after(first, last):\n",
    "    race = Raceipy()\n",
    "    while len(race.strip) < first + last:\n",
    "        race.step()\n",
    "    return ''.join(map(str, race.strip[first: first + last]))"
   ]
  },
  {
   "cell_type": "markdown",
   "metadata": {},
   "source": [
    "## Test"
   ]
  },
  {
   "cell_type": "code",
   "execution_count": 31,
   "metadata": {},
   "outputs": [],
   "source": [
    "assert(after(9, 10) == '5158916779')\n",
    "assert(after(5, 10) == '0124515891')\n",
    "assert(after(18, 10) == '9251071085')\n",
    "assert(after(2018, 10) == '5941429882')"
   ]
  },
  {
   "cell_type": "markdown",
   "metadata": {},
   "source": [
    "## Solution"
   ]
  },
  {
   "cell_type": "code",
   "execution_count": 27,
   "metadata": {},
   "outputs": [
    {
     "data": {
      "text/plain": [
       "'9315164154'"
      ]
     },
     "execution_count": 27,
     "metadata": {},
     "output_type": "execute_result"
    }
   ],
   "source": [
    "after(505961, 10)"
   ]
  },
  {
   "cell_type": "markdown",
   "metadata": {},
   "source": [
    "# Part 2"
   ]
  },
  {
   "cell_type": "code",
   "execution_count": 35,
   "metadata": {
    "collapsed": true
   },
   "outputs": [],
   "source": [
    "def first(seq):\n",
    "    race = Raceipy()\n",
    "    while len(race.strip) < len(seq):\n",
    "        race.step()\n",
    "    match = False\n",
    "    i = 0\n",
    "    while not match:\n",
    "        last = ''.join(map(str, race.strip[i: i + len(seq)]))\n",
    "        if last == seq:\n",
    "            match = True\n",
    "            return i\n",
    "        else:\n",
    "            race.step()\n",
    "            i += 1"
   ]
  },
  {
   "cell_type": "markdown",
   "metadata": {},
   "source": [
    "## Test"
   ]
  },
  {
   "cell_type": "code",
   "execution_count": 37,
   "metadata": {
    "scrolled": false
   },
   "outputs": [],
   "source": [
    "assert(first('51589') == 9)\n",
    "assert(first('01245') == 5)\n",
    "assert(first('92510') == 18)\n",
    "assert(first('59414') == 2018)"
   ]
  },
  {
   "cell_type": "markdown",
   "metadata": {},
   "source": [
    "## Solution"
   ]
  },
  {
   "cell_type": "code",
   "execution_count": 38,
   "metadata": {
    "scrolled": false
   },
   "outputs": [
    {
     "data": {
      "text/plain": [
       "20231866"
      ]
     },
     "execution_count": 38,
     "metadata": {},
     "output_type": "execute_result"
    }
   ],
   "source": [
    "first('505961')"
   ]
  }
 ],
 "metadata": {
  "kernelspec": {
   "display_name": "Python [conda env:adventofcode]",
   "language": "python",
   "name": "conda-env-adventofcode-py"
  },
  "language_info": {
   "codemirror_mode": {
    "name": "ipython",
    "version": 3
   },
   "file_extension": ".py",
   "mimetype": "text/x-python",
   "name": "python",
   "nbconvert_exporter": "python",
   "pygments_lexer": "ipython3",
   "version": "3.5.2"
  }
 },
 "nbformat": 4,
 "nbformat_minor": 2
}
