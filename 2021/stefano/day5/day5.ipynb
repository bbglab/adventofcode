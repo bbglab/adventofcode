{
 "cells": [
  {
   "cell_type": "markdown",
   "metadata": {},
   "source": [
    "# Day 5"
   ]
  },
  {
   "cell_type": "code",
   "execution_count": 263,
   "metadata": {},
   "outputs": [],
   "source": [
    "import numpy as np"
   ]
  },
  {
   "cell_type": "code",
   "execution_count": 204,
   "metadata": {},
   "outputs": [],
   "source": [
    "with open(\"input.txt\", \"r\") as f:\n",
    "    data = [line.strip() for line in f]\n",
    "    \n",
    "lines = [[int(n) for n in l.replace(\" -> \", \",\").split(\",\")] for l in data]"
   ]
  },
  {
   "cell_type": "markdown",
   "metadata": {},
   "source": [
    "## Puzzle 1"
   ]
  },
  {
   "cell_type": "code",
   "execution_count": 275,
   "metadata": {},
   "outputs": [],
   "source": [
    "def get_1d_points(v1, v2):\n",
    "    \n",
    "    if v2 > v1:\n",
    "        v_pts = np.arange(v1, v2 + 1)\n",
    "    else:\n",
    "        v_pts = np.arange(v2, v1 + 1)[::-1]\n",
    "        \n",
    "    return v_pts\n",
    "\n",
    "\n",
    "def get_2d_points(line):\n",
    "    \n",
    "    x1, y1, x2, y2 = line   \n",
    "    x_pts = get_1d_points(x1, x2)\n",
    "    y_pts = get_1d_points(y1, y2)\n",
    "    \n",
    "    if x1 == x2 or y1 == y2:\n",
    "        if len(x_pts) > len(y_pts):\n",
    "            y_pts = np.repeat(y_pts[0], len(x_pts))\n",
    "        else:\n",
    "            x_pts = np.repeat(x_pts[0], len(y_pts))       \n",
    "    \n",
    "    return list(zip(x_pts, y_pts))\n",
    "\n",
    "\n",
    "def get_diagram(lines):\n",
    "    \n",
    "    list_points = []\n",
    "    for line in lines:\n",
    "        list_points += get_2d_points(line)\n",
    "    \n",
    "    n = np.array(horizontal_lines).max() + 1\n",
    "    diagram = np.zeros(shape=(n, n))  \n",
    "    for x, y in list_points:\n",
    "        diagram[y,x] += 1\n",
    "            \n",
    "    return diagram"
   ]
  },
  {
   "cell_type": "code",
   "execution_count": 276,
   "metadata": {},
   "outputs": [
    {
     "data": {
      "text/plain": [
       "6267"
      ]
     },
     "execution_count": 276,
     "metadata": {},
     "output_type": "execute_result"
    }
   ],
   "source": [
    "horizontal_lines = [l for l in lines if l[0] == l[2] or l[1] == l[3]]\n",
    "diagram = get_diagram(horizontal_lines)\n",
    "\n",
    "count = diagram >= 2  \n",
    "count.sum()      "
   ]
  },
  {
   "cell_type": "markdown",
   "metadata": {},
   "source": [
    "## Puzzle 2"
   ]
  },
  {
   "cell_type": "code",
   "execution_count": 277,
   "metadata": {},
   "outputs": [
    {
     "data": {
      "text/plain": [
       "20196"
      ]
     },
     "execution_count": 277,
     "metadata": {},
     "output_type": "execute_result"
    }
   ],
   "source": [
    "diagram = get_diagram(lines)\n",
    "\n",
    "count = diagram >= 2  \n",
    "count.sum()   "
   ]
  }
 ],
 "metadata": {
  "kernelspec": {
   "display_name": "first_project",
   "language": "python",
   "name": "first_project"
  },
  "language_info": {
   "codemirror_mode": {
    "name": "ipython",
    "version": 3
   },
   "file_extension": ".py",
   "mimetype": "text/x-python",
   "name": "python",
   "nbconvert_exporter": "python",
   "pygments_lexer": "ipython3",
   "version": "3.9.7"
  }
 },
 "nbformat": 4,
 "nbformat_minor": 4
}
