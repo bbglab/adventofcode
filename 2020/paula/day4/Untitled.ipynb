{
 "cells": [
  {
   "cell_type": "markdown",
   "metadata": {},
   "source": [
    "# Day 4"
   ]
  },
  {
   "cell_type": "markdown",
   "metadata": {},
   "source": [
    "Part 1"
   ]
  },
  {
   "cell_type": "code",
   "execution_count": 1,
   "metadata": {},
   "outputs": [],
   "source": [
    "\n",
    "information=set(['byr','iyr','eyr','hgt','hcl','ecl','pid','cid'])\n",
    "\n",
    "def is_correct(data):\n",
    "    if information-set(data) == set(['cid']) or information-set(data) == set([]):\n",
    "        return True\n",
    "    else:\n",
    "        return False\n"
   ]
  },
  {
   "cell_type": "code",
   "execution_count": 5,
   "metadata": {},
   "outputs": [],
   "source": [
    "corrects=0\n",
    "passport=set([])\n",
    "\n",
    "with open('input_day4.txt','r') as file:\n",
    "    for line in file:\n",
    "        if line == '\\n':\n",
    "            if is_correct(passport):\n",
    "                corrects+=1\n",
    "            passport=set([])\n",
    "        else:\n",
    "            info=line.strip().split(' ')\n",
    "            for i in info:\n",
    "                passport.add(i.split(':')[0])\n",
    "                \n",
    "    if is_correct(passport):\n",
    "        corrects+=1\n"
   ]
  },
  {
   "cell_type": "code",
   "execution_count": 6,
   "metadata": {},
   "outputs": [
    {
     "data": {
      "text/plain": [
       "254"
      ]
     },
     "execution_count": 6,
     "metadata": {},
     "output_type": "execute_result"
    }
   ],
   "source": [
    "corrects\n"
   ]
  },
  {
   "cell_type": "markdown",
   "metadata": {},
   "source": [
    "Part 2"
   ]
  },
  {
   "cell_type": "code",
   "execution_count": 2,
   "metadata": {},
   "outputs": [],
   "source": [
    "def is_valid(passport):\n",
    "    \n",
    "    if int(passport['byr'])<1920 or int(passport['byr'])>2002:\n",
    "        return False\n",
    "    if int(passport['iyr'])<2010 or int(passport['iyr'])>2020:\n",
    "        return False\n",
    "    if int(passport['eyr'])<2020 or int(passport['eyr'])>2030:\n",
    "        return False\n",
    "    if ('cm' not in passport['hgt']) and ('in' not in passport['hgt']):\n",
    "        return False\n",
    "    if ('cm' in passport['hgt'] and int(passport['hgt'][:-2])<150) or ('cm' in passport['hgt'] and int(passport['hgt'][:-2])>193) or ('cm' in passport['hgt'] and int(passport['hgt'][:-2])<59) or ('in' in passport['hgt'] and int(passport['hgt'][:-2])>76): \n",
    "        return False\n",
    "    if passport['ecl'] not in ['amb', 'blu', 'brn', 'gry', 'grn' ,'hzl' ,'oth']:\n",
    "        return False\n",
    "    if passport['hcl'][0] != '#':\n",
    "        return False\n",
    "    if len(passport['hcl']) != 7:\n",
    "        return False\n",
    "    for i in passport['hcl'][1:]:\n",
    "        if i not in [0,1,2,3,4,5,6,7,8,9,'0','1','2','3','4','5','6','7','8','9','a','b','c','d','e','f']:\n",
    "            return False \n",
    "    if len(passport['pid'])!=9:\n",
    "        return False \n",
    "    try:\n",
    "        int(passport['pid'])\n",
    "    except:\n",
    "        return False\n",
    "    return True\n",
    "    "
   ]
  },
  {
   "cell_type": "code",
   "execution_count": 3,
   "metadata": {},
   "outputs": [
    {
     "ename": "TypeError",
     "evalue": "unsupported operand type(s) for -: 'set' and 'dict'",
     "output_type": "error",
     "traceback": [
      "\u001b[0;31m---------------------------------------------------------------------------\u001b[0m",
      "\u001b[0;31mTypeError\u001b[0m                                 Traceback (most recent call last)",
      "\u001b[0;32m<ipython-input-3-e711bd384114>\u001b[0m in \u001b[0;36m<module>\u001b[0;34m\u001b[0m\n\u001b[1;32m     15\u001b[0m                 \u001b[0mpassport\u001b[0m\u001b[0;34m[\u001b[0m\u001b[0melements\u001b[0m\u001b[0;34m[\u001b[0m\u001b[0;36m0\u001b[0m\u001b[0;34m]\u001b[0m\u001b[0;34m]\u001b[0m\u001b[0;34m=\u001b[0m\u001b[0melements\u001b[0m\u001b[0;34m[\u001b[0m\u001b[0;36m1\u001b[0m\u001b[0;34m]\u001b[0m\u001b[0;34m\u001b[0m\u001b[0;34m\u001b[0m\u001b[0m\n\u001b[1;32m     16\u001b[0m \u001b[0;34m\u001b[0m\u001b[0m\n\u001b[0;32m---> 17\u001b[0;31m     \u001b[0;32mif\u001b[0m \u001b[0mis_correct\u001b[0m\u001b[0;34m(\u001b[0m\u001b[0mpassport\u001b[0m\u001b[0;34m)\u001b[0m\u001b[0;34m:\u001b[0m\u001b[0;34m\u001b[0m\u001b[0;34m\u001b[0m\u001b[0m\n\u001b[0m\u001b[1;32m     18\u001b[0m         \u001b[0mcorrects\u001b[0m\u001b[0;34m+=\u001b[0m\u001b[0;36m1\u001b[0m\u001b[0;34m\u001b[0m\u001b[0;34m\u001b[0m\u001b[0m\n",
      "\u001b[0;32m<ipython-input-1-09064a64ccd9>\u001b[0m in \u001b[0;36mis_correct\u001b[0;34m(data)\u001b[0m\n\u001b[1;32m      2\u001b[0m \u001b[0;34m\u001b[0m\u001b[0m\n\u001b[1;32m      3\u001b[0m \u001b[0;32mdef\u001b[0m \u001b[0mis_correct\u001b[0m\u001b[0;34m(\u001b[0m\u001b[0mdata\u001b[0m\u001b[0;34m)\u001b[0m\u001b[0;34m:\u001b[0m\u001b[0;34m\u001b[0m\u001b[0;34m\u001b[0m\u001b[0m\n\u001b[0;32m----> 4\u001b[0;31m     \u001b[0;32mif\u001b[0m \u001b[0minformation\u001b[0m\u001b[0;34m-\u001b[0m\u001b[0mdata\u001b[0m \u001b[0;34m==\u001b[0m \u001b[0mset\u001b[0m\u001b[0;34m(\u001b[0m\u001b[0;34m[\u001b[0m\u001b[0;34m'cid'\u001b[0m\u001b[0;34m]\u001b[0m\u001b[0;34m)\u001b[0m \u001b[0;32mor\u001b[0m \u001b[0minformation\u001b[0m\u001b[0;34m-\u001b[0m\u001b[0mdata\u001b[0m \u001b[0;34m==\u001b[0m \u001b[0mset\u001b[0m\u001b[0;34m(\u001b[0m\u001b[0;34m[\u001b[0m\u001b[0;34m]\u001b[0m\u001b[0;34m)\u001b[0m\u001b[0;34m:\u001b[0m\u001b[0;34m\u001b[0m\u001b[0;34m\u001b[0m\u001b[0m\n\u001b[0m\u001b[1;32m      5\u001b[0m         \u001b[0;32mreturn\u001b[0m \u001b[0;32mTrue\u001b[0m\u001b[0;34m\u001b[0m\u001b[0;34m\u001b[0m\u001b[0m\n\u001b[1;32m      6\u001b[0m     \u001b[0;32melse\u001b[0m\u001b[0;34m:\u001b[0m\u001b[0;34m\u001b[0m\u001b[0;34m\u001b[0m\u001b[0m\n",
      "\u001b[0;31mTypeError\u001b[0m: unsupported operand type(s) for -: 'set' and 'dict'"
     ]
    }
   ],
   "source": [
    "corrects=0\n",
    "passport={}\n",
    "\n",
    "with open('input_day4.txt','r') as file:\n",
    "    for line in file:\n",
    "        if line == '\\n':\n",
    "            if is_correct(set(passport.keys())):\n",
    "                if is_valid(passport):         \n",
    "                    corrects+=1\n",
    "            passport={}\n",
    "        else:\n",
    "            info=line.strip().split(' ')\n",
    "            for i in info:\n",
    "                elements=i.split(':')\n",
    "                passport[elements[0]]=elements[1]\n",
    "                \n",
    "    if is_correct(passport):\n",
    "        corrects+=1\n"
   ]
  },
  {
   "cell_type": "code",
   "execution_count": 44,
   "metadata": {},
   "outputs": [
    {
     "data": {
      "text/plain": [
       "184"
      ]
     },
     "execution_count": 44,
     "metadata": {},
     "output_type": "execute_result"
    }
   ],
   "source": [
    "corrects"
   ]
  },
  {
   "cell_type": "code",
   "execution_count": 45,
   "metadata": {},
   "outputs": [],
   "source": [
    "### duda: si no pongo set(data) en la funcion, me sale error de dict-set, pero ya he puesto\n",
    "# el set al llamar la funcion,... "
   ]
  },
  {
   "cell_type": "code",
   "execution_count": null,
   "metadata": {},
   "outputs": [],
   "source": []
  },
  {
   "cell_type": "code",
   "execution_count": null,
   "metadata": {},
   "outputs": [],
   "source": []
  }
 ],
 "metadata": {
  "kernelspec": {
   "display_name": "Python 3",
   "language": "python",
   "name": "python3"
  },
  "language_info": {
   "codemirror_mode": {
    "name": "ipython",
    "version": 3
   },
   "file_extension": ".py",
   "mimetype": "text/x-python",
   "name": "python",
   "nbconvert_exporter": "python",
   "pygments_lexer": "ipython3",
   "version": "3.8.5"
  }
 },
 "nbformat": 4,
 "nbformat_minor": 4
}
