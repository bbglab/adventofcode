{
 "cells": [
  {
   "cell_type": "markdown",
   "metadata": {},
   "source": [
    "# Challenge 20"
   ]
  },
  {
   "cell_type": "markdown",
   "metadata": {},
   "source": [
    "## Challenge 20.1"
   ]
  },
  {
   "cell_type": "code",
   "execution_count": 62,
   "metadata": {
    "collapsed": true
   },
   "outputs": [],
   "source": [
    "myinput = '/home/fmuinos/projects/adventofcode/2016/ferran/inputs/input20.txt'"
   ]
  },
  {
   "cell_type": "code",
   "execution_count": 63,
   "metadata": {
    "collapsed": false
   },
   "outputs": [],
   "source": [
    "def min_func(myinput):\n",
    "    mylist = []\n",
    "    with open(myinput, 'rt') as f:\n",
    "        for line in f:\n",
    "            mylist.append([int(i) for i in line.rstrip().split('-')])\n",
    "    return sorted(mylist, key=lambda x: x[0])\n",
    "\n",
    "def min_func(l):\n",
    "    c = 0\n",
    "    for i in range(len(l)):\n",
    "        a, b = l.pop(0)\n",
    "        if a <= c <= b:\n",
    "            c = b + 1    \n",
    "    return c"
   ]
  },
  {
   "cell_type": "markdown",
   "metadata": {},
   "source": [
    "## Result"
   ]
  },
  {
   "cell_type": "code",
   "execution_count": 64,
   "metadata": {
    "collapsed": false
   },
   "outputs": [
    {
     "name": "stdout",
     "output_type": "stream",
     "text": [
      "23923783\n"
     ]
    }
   ],
   "source": [
    "l = parse(myinput)\n",
    "print(min_func(l))"
   ]
  },
  {
   "cell_type": "markdown",
   "metadata": {},
   "source": [
    "## Challenge 20.2"
   ]
  },
  {
   "cell_type": "code",
   "execution_count": 65,
   "metadata": {
    "collapsed": false
   },
   "outputs": [],
   "source": [
    "upper_limit = 4294967295"
   ]
  },
  {
   "cell_type": "code",
   "execution_count": 66,
   "metadata": {
    "collapsed": true
   },
   "outputs": [],
   "source": [
    "def allowed(l):\n",
    "    c = -1\n",
    "    white = upper_limit + 1\n",
    "    for i in range(len(l)):\n",
    "        a, b = l.pop(0)\n",
    "        if a <= c <= b:\n",
    "            white -= b - c\n",
    "            c = b\n",
    "        elif c < a:\n",
    "            white -= b - a + 1\n",
    "            c = b\n",
    "    return white"
   ]
  },
  {
   "cell_type": "code",
   "execution_count": 67,
   "metadata": {
    "collapsed": false
   },
   "outputs": [
    {
     "name": "stdout",
     "output_type": "stream",
     "text": [
      "125\n"
     ]
    }
   ],
   "source": [
    "l = parse(myinput)\n",
    "print(allowed(l))"
   ]
  }
 ],
 "metadata": {
  "anaconda-cloud": {},
  "kernelspec": {
   "display_name": "Python [conda env:adventofcode]",
   "language": "python",
   "name": "conda-env-adventofcode-py"
  },
  "language_info": {
   "codemirror_mode": {
    "name": "ipython",
    "version": 3
   },
   "file_extension": ".py",
   "mimetype": "text/x-python",
   "name": "python",
   "nbconvert_exporter": "python",
   "pygments_lexer": "ipython3",
   "version": "3.5.2"
  }
 },
 "nbformat": 4,
 "nbformat_minor": 0
}
