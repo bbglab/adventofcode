{
 "cells": [
  {
   "cell_type": "markdown",
   "metadata": {},
   "source": [
    "# Part 1"
   ]
  },
  {
   "cell_type": "code",
   "execution_count": 1,
   "metadata": {},
   "outputs": [
    {
     "data": {
      "text/plain": [
       "dance (generic function with 1 method)"
      ]
     },
     "execution_count": 1,
     "metadata": {},
     "output_type": "execute_result"
    }
   ],
   "source": [
    "function dance(status, steps, reps)\n",
    "    \n",
    "    r = 1\n",
    "    seen = Dict()    \n",
    "    status = collect(status)\n",
    "    while r<=reps\n",
    "        for step in steps\n",
    "            if step[1] == 's'\n",
    "                # SPIN\n",
    "                a, = match(r\"s([0-9]+)\", step).captures                \n",
    "                status = circshift(status, a[1])\n",
    "            elseif step[1] == 'x'\n",
    "                # EXCHANGE\n",
    "                a, b = match(r\"x([0-9]+)/([0-9]+)\", step).captures\n",
    "                a = parse(Int, a) + 1\n",
    "                b = parse(Int, b) + 1\n",
    "                ca = status[a]\n",
    "                cb = status[b]\n",
    "                status[a] = cb\n",
    "                status[b] = ca\n",
    "            elseif step[1] == 'p'\n",
    "                # PARTNER\n",
    "                a, b = match(r\"p([a-z])/([a-z])\", step).captures            \n",
    "                a = findfirst(status, a[1])\n",
    "                b = findfirst(status, b[1])\n",
    "                ca = status[a]\n",
    "                cb = status[b]\n",
    "                status[a] = cb\n",
    "                status[b] = ca\n",
    "            end\n",
    "        end\n",
    "        \n",
    "        str_status = join(status)\n",
    "        if haskey(seen, str_status)\n",
    "            target = reps % (r - seen[str_status])\n",
    "            for (k, v) in seen\n",
    "                if v == target\n",
    "                    return k\n",
    "                end\n",
    "            end\n",
    "        else\n",
    "            seen[str_status] = r\n",
    "        end\n",
    "        r += 1\n",
    "    end\n",
    "    join(status)\n",
    "end"
   ]
  },
  {
   "cell_type": "code",
   "execution_count": 2,
   "metadata": {},
   "outputs": [
    {
     "data": {
      "text/plain": [
       "\"ecdab\""
      ]
     },
     "execution_count": 2,
     "metadata": {},
     "output_type": "execute_result"
    }
   ],
   "source": [
    "dance('a':'e', split(\"s1,x3/4,pe/b\", \",\"), 1)"
   ]
  },
  {
   "cell_type": "code",
   "execution_count": 3,
   "metadata": {
    "scrolled": true
   },
   "outputs": [
    {
     "name": "stdout",
     "output_type": "stream",
     "text": [
      "  0.007905 seconds (79.18 k allocations: 4.645 MiB)\n"
     ]
    },
    {
     "data": {
      "text/plain": [
       "\"kfmaegpbclnjhodi\""
      ]
     },
     "execution_count": 3,
     "metadata": {},
     "output_type": "execute_result"
    }
   ],
   "source": [
    "open(\"inputs/day16.txt\") do fd\n",
    "    @time dance('a':'p', split(strip(readstring(fd)),\",\"), 1)\n",
    "end"
   ]
  },
  {
   "cell_type": "markdown",
   "metadata": {},
   "source": [
    "# Part 2"
   ]
  },
  {
   "cell_type": "code",
   "execution_count": 4,
   "metadata": {},
   "outputs": [
    {
     "name": "stdout",
     "output_type": "stream",
     "text": [
      "  0.260832 seconds (2.15 M allocations: 123.111 MiB, 6.30% gc time)\n"
     ]
    },
    {
     "data": {
      "text/plain": [
       "\"ajcdefghpkblmion\""
      ]
     },
     "execution_count": 4,
     "metadata": {},
     "output_type": "execute_result"
    }
   ],
   "source": [
    "open(\"inputs/day16.txt\") do fd\n",
    "    @time dance('a':'p', split(strip(readstring(fd)),\",\"), 1000000000)\n",
    "end"
   ]
  },
  {
   "cell_type": "code",
   "execution_count": null,
   "metadata": {
    "collapsed": true
   },
   "outputs": [],
   "source": []
  }
 ],
 "metadata": {
  "kernelspec": {
   "display_name": "Julia 0.6.1",
   "language": "julia",
   "name": "julia-0.6"
  },
  "language_info": {
   "file_extension": ".jl",
   "mimetype": "application/julia",
   "name": "julia",
   "version": "0.6.1"
  }
 },
 "nbformat": 4,
 "nbformat_minor": 2
}
