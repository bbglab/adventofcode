{
 "cells": [
  {
   "cell_type": "markdown",
   "metadata": {},
   "source": [
    "# Maze of Twisty Trampolines"
   ]
  },
  {
   "cell_type": "raw",
   "metadata": {},
   "source": [
    "Positive jumps (\"forward\") move downward; negative jumps move upward. For legibility in this example, \n",
    "these offset values will be written all on one line, with the current instruction marked in parentheses. \n",
    "\n",
    "The following steps would be taken before an exit is found:\n",
    "\n",
    "(0) 3  0  1  -3  - before we have taken any steps.\n",
    "\n",
    "(1) 3  0  1  -3  - jump with offset 0 (that is, don't jump at all). Fortunately, the instruction is then incremented to 1.\n",
    "\n",
    "2 (3) 0  1  -3  - step forward because of the instruction we just modified. The first instruction is incremented again, now to 2.\n",
    "\n",
    "2  4  0  1 (-3) - jump all the way to the end; leave a 4 behind.\n",
    "\n",
    "2 (4) 0  1  -2  - go back to where we just were; increment -3 to -2.\n",
    "\n",
    "2  5  0  1  -2  - jump 4 steps forward, escaping the maze.\n",
    "\n",
    "In this example, the exit is reached in 5 steps.\n",
    "\n",
    "How many steps does it take to reach the exit?"
   ]
  },
  {
   "cell_type": "markdown",
   "metadata": {},
   "source": [
    "## Part 1"
   ]
  },
  {
   "cell_type": "markdown",
   "metadata": {},
   "source": [
    "### Input"
   ]
  },
  {
   "cell_type": "code",
   "execution_count": 18,
   "metadata": {
    "ExecuteTime": {
     "end_time": "2017-12-05T08:07:50.524192",
     "start_time": "2017-12-05T08:07:50.500930"
    },
    "collapsed": true
   },
   "outputs": [],
   "source": [
    "import csv\n",
    "import numpy as np\n",
    "\n",
    "with open('input.txt', 'rt') as f_input:\n",
    "    csv_reader = csv.reader(f_input)\n",
    "    l = np.array([int(a[0]) for a in csv_reader])"
   ]
  },
  {
   "cell_type": "markdown",
   "metadata": {},
   "source": [
    "### Class Maze"
   ]
  },
  {
   "cell_type": "code",
   "execution_count": 20,
   "metadata": {
    "ExecuteTime": {
     "end_time": "2017-12-05T08:08:25.244500",
     "start_time": "2017-12-05T08:08:25.231455"
    },
    "collapsed": true
   },
   "outputs": [],
   "source": [
    "class Maze(object):\n",
    "    \n",
    "    def __init__(self, curr_pos, state):\n",
    "        self.curr_pos = curr_pos\n",
    "        self.state = state.copy()\n",
    "        self.length = len(self.state)\n",
    "    \n",
    "    def evolve(self):\n",
    "        self.state[self.curr_pos] += 1\n",
    "        self.curr_pos += self.state[self.curr_pos] - 1\n",
    "        \n",
    "    def outside(self):\n",
    "        return (self.curr_pos >= self.length) or (self.curr_pos < 0)"
   ]
  },
  {
   "cell_type": "markdown",
   "metadata": {},
   "source": [
    "### Main"
   ]
  },
  {
   "cell_type": "code",
   "execution_count": 21,
   "metadata": {
    "ExecuteTime": {
     "end_time": "2017-12-05T08:08:26.542776",
     "start_time": "2017-12-05T08:08:26.534013"
    },
    "collapsed": true
   },
   "outputs": [],
   "source": [
    "def steps_maze(l):\n",
    "    maze = Maze(0, l)\n",
    "    count = 0\n",
    "    while not maze.outside():\n",
    "        maze.evolve()\n",
    "        count += 1\n",
    "    return count, maze.state"
   ]
  },
  {
   "cell_type": "markdown",
   "metadata": {},
   "source": [
    "### Test"
   ]
  },
  {
   "cell_type": "code",
   "execution_count": 22,
   "metadata": {
    "ExecuteTime": {
     "end_time": "2017-12-05T08:08:29.161006",
     "start_time": "2017-12-05T08:08:29.139454"
    }
   },
   "outputs": [
    {
     "data": {
      "text/plain": [
       "(5, array([ 2,  5,  0,  1, -2]))"
      ]
     },
     "execution_count": 22,
     "metadata": {},
     "output_type": "execute_result"
    }
   ],
   "source": [
    "t = np.array([0, 3, 0, 1, -3])\n",
    "steps_maze(t)"
   ]
  },
  {
   "cell_type": "markdown",
   "metadata": {},
   "source": [
    "### Solution"
   ]
  },
  {
   "cell_type": "code",
   "execution_count": 23,
   "metadata": {
    "ExecuteTime": {
     "end_time": "2017-12-05T08:08:33.137792",
     "start_time": "2017-12-05T08:08:32.489860"
    }
   },
   "outputs": [
    {
     "data": {
      "text/plain": [
       "(387096, array([   2,    8,   15, ..., -697,  -80, -681]))"
      ]
     },
     "execution_count": 23,
     "metadata": {},
     "output_type": "execute_result"
    }
   ],
   "source": [
    "steps_maze(l)"
   ]
  },
  {
   "cell_type": "markdown",
   "metadata": {},
   "source": [
    "## Part 2"
   ]
  },
  {
   "cell_type": "raw",
   "metadata": {},
   "source": [
    "Now, the jumps are even stranger: after each jump, if the offset was three or more, instead decrease it by 1. Otherwise, increase it by 1 as before."
   ]
  },
  {
   "cell_type": "markdown",
   "metadata": {},
   "source": [
    "### Class Maze with new dynamics"
   ]
  },
  {
   "cell_type": "code",
   "execution_count": 78,
   "metadata": {
    "ExecuteTime": {
     "end_time": "2017-12-05T08:26:17.593348",
     "start_time": "2017-12-05T08:26:17.570490"
    }
   },
   "outputs": [],
   "source": [
    "class NewMaze(Maze):\n",
    "    \n",
    "    def evolve(self):\n",
    "        if self.state[self.curr_pos] >= 3:\n",
    "            self.state[self.curr_pos] -= 1\n",
    "            self.curr_pos += self.state[self.curr_pos] + 1\n",
    "        else:\n",
    "            self.state[self.curr_pos] += 1\n",
    "            self.curr_pos += self.state[self.curr_pos] - 1"
   ]
  },
  {
   "cell_type": "code",
   "execution_count": 79,
   "metadata": {
    "ExecuteTime": {
     "end_time": "2017-12-05T08:26:21.819334",
     "start_time": "2017-12-05T08:26:21.797771"
    },
    "collapsed": true
   },
   "outputs": [],
   "source": [
    "def steps_new_maze(l):\n",
    "    new_maze = NewMaze(0, l)\n",
    "    count = 0\n",
    "    while not new_maze.outside():\n",
    "        new_maze.evolve()\n",
    "        count += 1\n",
    "    return count, new_maze.curr_pos, new_maze.state"
   ]
  },
  {
   "cell_type": "markdown",
   "metadata": {
    "collapsed": true
   },
   "source": [
    "### Test"
   ]
  },
  {
   "cell_type": "code",
   "execution_count": 92,
   "metadata": {
    "ExecuteTime": {
     "end_time": "2017-12-05T08:26:53.442457",
     "start_time": "2017-12-05T08:26:53.423662"
    }
   },
   "outputs": [
    {
     "data": {
      "text/plain": [
       "(10, 5, array([ 2,  3,  2,  3, -1]))"
      ]
     },
     "execution_count": 92,
     "metadata": {},
     "output_type": "execute_result"
    }
   ],
   "source": [
    "t = np.array([0, 3, 0, 1, -3])\n",
    "steps_new_maze(t)"
   ]
  },
  {
   "cell_type": "markdown",
   "metadata": {},
   "source": [
    "### Solution"
   ]
  },
  {
   "cell_type": "code",
   "execution_count": 93,
   "metadata": {
    "ExecuteTime": {
     "end_time": "2017-12-05T08:27:56.899349",
     "start_time": "2017-12-05T08:27:03.399155"
    }
   },
   "outputs": [
    {
     "data": {
      "text/plain": [
       "(28040648, 1097, array([   2,    2,    3, ...,  -76,    3, -681]))"
      ]
     },
     "execution_count": 93,
     "metadata": {},
     "output_type": "execute_result"
    }
   ],
   "source": [
    "steps_new_maze(l)"
   ]
  },
  {
   "cell_type": "code",
   "execution_count": null,
   "metadata": {
    "collapsed": true
   },
   "outputs": [],
   "source": []
  }
 ],
 "metadata": {
  "kernelspec": {
   "display_name": "Python [conda env:adventofcode]",
   "language": "python",
   "name": "conda-env-adventofcode-py"
  },
  "language_info": {
   "codemirror_mode": {
    "name": "ipython",
    "version": 3
   },
   "file_extension": ".py",
   "mimetype": "text/x-python",
   "name": "python",
   "nbconvert_exporter": "python",
   "pygments_lexer": "ipython3",
   "version": "3.5.2"
  },
  "toc": {
   "colors": {
    "hover_highlight": "#DAA520",
    "running_highlight": "#FF0000",
    "selected_highlight": "#FFD700"
   },
   "moveMenuLeft": true,
   "nav_menu": {
    "height": "66px",
    "width": "252px"
   },
   "navigate_menu": true,
   "number_sections": true,
   "sideBar": true,
   "threshold": 4,
   "toc_cell": false,
   "toc_section_display": "block",
   "toc_window_display": false
  }
 },
 "nbformat": 4,
 "nbformat_minor": 2
}
