{
 "cells": [
  {
   "cell_type": "markdown",
   "metadata": {},
   "source": [
    "# Day 3"
   ]
  },
  {
   "cell_type": "code",
   "execution_count": 1,
   "metadata": {
    "collapsed": true
   },
   "outputs": [],
   "source": [
    "input_f = './input.txt'"
   ]
  },
  {
   "cell_type": "markdown",
   "metadata": {},
   "source": [
    "#### Problem 1"
   ]
  },
  {
   "cell_type": "markdown",
   "metadata": {},
   "source": [
    "You start on the open square (.) in the top-left corner and need to reach the bottom (below the bottom-most row on your map).\n",
    "\n",
    "The toboggan can only follow a few specific slopes (you opted for a cheaper model that prefers rational numbers); start by counting all the trees you would encounter for the slope right 3, down 1\n",
    "\n",
    "open squares (.) and trees (#)\n",
    "\n",
    "From your starting position at the top-left, check the position that is right 3 and down 1. Then, check the position that is right 3 and down 1 from there, and so on until you go past the bottom of the map."
   ]
  },
  {
   "cell_type": "code",
   "execution_count": 39,
   "metadata": {},
   "outputs": [],
   "source": [
    "def find_trees(input_f, move_right, move_down): \n",
    "    \"\"\"Find the trees in the path\"\"\"\n",
    "    \n",
    "    trees = 0\n",
    "    pointer = 0\n",
    "    number_of_columns = 0\n",
    "    with open(input_f, 'r') as fd: \n",
    "        \n",
    "        for row, line in enumerate(fd, 0):\n",
    "            line = line.strip()\n",
    "\n",
    "            if number_of_columns:\n",
    "                if row%move_down == 0: \n",
    "                    # Position\n",
    "                    pointer += move_right\n",
    "                    if pointer >= number_of_columns: \n",
    "                        pointer = pointer - number_of_columns\n",
    "                    # Count trees\n",
    "                    if line[pointer] == '#': \n",
    "                        trees += 1\n",
    "            else: \n",
    "                number_of_columns = len(line)\n",
    "            \n",
    "    return trees"
   ]
  },
  {
   "cell_type": "code",
   "execution_count": 40,
   "metadata": {},
   "outputs": [
    {
     "data": {
      "text/plain": [
       "278"
      ]
     },
     "execution_count": 40,
     "metadata": {},
     "output_type": "execute_result"
    }
   ],
   "source": [
    "find_trees(input_f, 3, 1)"
   ]
  },
  {
   "cell_type": "markdown",
   "metadata": {},
   "source": [
    "#### Problem 2"
   ]
  },
  {
   "cell_type": "markdown",
   "metadata": {},
   "source": [
    "\n",
    "- Right 1, down 1.\n",
    "- Right 3, down 1. (This is the slope you already checked.)\n",
    "- Right 5, down 1.\n",
    "- Right 7, down 1.\n",
    "- Right 1, down 2.\n",
    "\n",
    "What do you get if you multiply together the number of trees encountered on each of the listed slopes?"
   ]
  },
  {
   "cell_type": "code",
   "execution_count": 41,
   "metadata": {},
   "outputs": [
    {
     "data": {
      "text/plain": [
       "9709761600"
      ]
     },
     "execution_count": 41,
     "metadata": {},
     "output_type": "execute_result"
    }
   ],
   "source": [
    "find_trees(input_f, 1, 1) * find_trees(input_f, 3, 1) * find_trees(input_f, 5, 1) * find_trees(input_f, 7, 1) * find_trees(input_f, 1, 2)"
   ]
  },
  {
   "cell_type": "code",
   "execution_count": null,
   "metadata": {
    "collapsed": true
   },
   "outputs": [],
   "source": []
  }
 ],
 "metadata": {
  "kernelspec": {
   "display_name": "Python [conda env:hotspots_framework]",
   "language": "python",
   "name": "conda-env-hotspots_framework-py"
  },
  "language_info": {
   "codemirror_mode": {
    "name": "ipython",
    "version": 3
   },
   "file_extension": ".py",
   "mimetype": "text/x-python",
   "name": "python",
   "nbconvert_exporter": "python",
   "pygments_lexer": "ipython3",
   "version": "3.6.10"
  }
 },
 "nbformat": 4,
 "nbformat_minor": 2
}
