{
 "cells": [
  {
   "cell_type": "markdown",
   "metadata": {},
   "source": [
    "# Part 1"
   ]
  },
  {
   "cell_type": "code",
   "execution_count": 2,
   "metadata": {},
   "outputs": [
    {
     "data": {
      "text/plain": [
       "parse_programs (generic function with 1 method)"
      ]
     },
     "execution_count": 2,
     "metadata": {},
     "output_type": "execute_result"
    }
   ],
   "source": [
    "function parse_programs(values)\n",
    "    r = Dict()\n",
    "    for line in values\n",
    "        from, to = match(r\"([0-9]+) <-> ([0-9 ,]+)\", strip(line)).captures\n",
    "        s_to = split(to, \", \")\n",
    "        r[from] = Set(s_to)\n",
    "    end\n",
    "    r\n",
    "end"
   ]
  },
  {
   "cell_type": "code",
   "execution_count": 3,
   "metadata": {},
   "outputs": [
    {
     "data": {
      "text/plain": [
       "7-element Array{String,1}:\n",
       " \"0 <-> 2\"      \n",
       " \"1 <-> 1\"      \n",
       " \"2 <-> 0, 3, 4\"\n",
       " \"3 <-> 2, 4\"   \n",
       " \"4 <-> 2, 3, 6\"\n",
       " \"5 <-> 6\"      \n",
       " \"6 <-> 4, 5\"   "
      ]
     },
     "execution_count": 3,
     "metadata": {},
     "output_type": "execute_result"
    }
   ],
   "source": [
    "example = [\n",
    "    \"0 <-> 2\",\n",
    "    \"1 <-> 1\",\n",
    "    \"2 <-> 0, 3, 4\",\n",
    "    \"3 <-> 2, 4\",\n",
    "    \"4 <-> 2, 3, 6\",\n",
    "    \"5 <-> 6\",\n",
    "    \"6 <-> 4, 5\"\n",
    "]"
   ]
  },
  {
   "cell_type": "code",
   "execution_count": 6,
   "metadata": {},
   "outputs": [
    {
     "data": {
      "text/plain": [
       "Dict{Any,Any} with 7 entries:\n",
       "  \"4\" => Set(SubString{String}[\"2\", \"6\", \"3\"])\n",
       "  \"1\" => Set(SubString{String}[\"1\"])\n",
       "  \"5\" => Set(SubString{String}[\"6\"])\n",
       "  \"0\" => Set(SubString{String}[\"2\"])\n",
       "  \"2\" => Set(SubString{String}[\"4\", \"0\", \"3\"])\n",
       "  \"6\" => Set(SubString{String}[\"4\", \"5\"])\n",
       "  \"3\" => Set(SubString{String}[\"4\", \"2\"])"
      ]
     },
     "execution_count": 6,
     "metadata": {},
     "output_type": "execute_result"
    }
   ],
   "source": [
    "r = parse_programs(example)"
   ]
  },
  {
   "cell_type": "code",
   "execution_count": 14,
   "metadata": {},
   "outputs": [
    {
     "data": {
      "text/plain": [
       "Set(String[\"4\", \"1\", \"2\", \"3\"])"
      ]
     },
     "execution_count": 14,
     "metadata": {},
     "output_type": "execute_result"
    }
   ],
   "source": [
    "union(Set([\"1\", \"2\"]), Set([\"3\", \"4\", \"2\"]))"
   ]
  },
  {
   "cell_type": "code",
   "execution_count": 22,
   "metadata": {},
   "outputs": [
    {
     "data": {
      "text/plain": [
       "comunicate_to (generic function with 1 method)"
      ]
     },
     "execution_count": 22,
     "metadata": {},
     "output_type": "execute_result"
    }
   ],
   "source": [
    "function comunicate_to(dest, visited, all)    \n",
    "    for to in all[dest]\n",
    "        if !in(to, visited)\n",
    "            push!(visited, to)  \n",
    "            visited = union(visited, comunicate_to(to, visited, all))\n",
    "        end\n",
    "    end\n",
    "    visited\n",
    "end\n",
    "            "
   ]
  },
  {
   "cell_type": "code",
   "execution_count": 27,
   "metadata": {},
   "outputs": [
    {
     "data": {
      "text/plain": [
       "6"
      ]
     },
     "execution_count": 27,
     "metadata": {},
     "output_type": "execute_result"
    }
   ],
   "source": [
    "length(comunicate_to(\"0\", Set(), r))"
   ]
  },
  {
   "cell_type": "code",
   "execution_count": 39,
   "metadata": {},
   "outputs": [
    {
     "data": {
      "text/plain": [
       "380"
      ]
     },
     "execution_count": 39,
     "metadata": {},
     "output_type": "execute_result"
    }
   ],
   "source": [
    "open(\"inputs/day12.txt\") do fd\n",
    "    lines = readlines(fd)\n",
    "    all = parse_programs(lines)\n",
    "    length(comunicate_to(\"0\", Set(), all))\n",
    "end"
   ]
  },
  {
   "cell_type": "markdown",
   "metadata": {},
   "source": [
    "# Part 2"
   ]
  },
  {
   "cell_type": "code",
   "execution_count": 37,
   "metadata": {},
   "outputs": [
    {
     "data": {
      "text/plain": [
       "discover_groups (generic function with 1 method)"
      ]
     },
     "execution_count": 37,
     "metadata": {},
     "output_type": "execute_result"
    }
   ],
   "source": [
    "function discover_groups(data)\n",
    "    all = Set(keys(data))    \n",
    "    done = Set()\n",
    "    groups = 0\n",
    "    for p in all\n",
    "        if !in(p, done)\n",
    "            done = union(done, comunicate_to(p, Set(), data))\n",
    "            groups += 1\n",
    "        end\n",
    "    end\n",
    "    groups\n",
    "end "
   ]
  },
  {
   "cell_type": "code",
   "execution_count": 38,
   "metadata": {},
   "outputs": [
    {
     "data": {
      "text/plain": [
       "2"
      ]
     },
     "execution_count": 38,
     "metadata": {},
     "output_type": "execute_result"
    }
   ],
   "source": [
    "discover_groups(parse_programs(example))"
   ]
  },
  {
   "cell_type": "code",
   "execution_count": 40,
   "metadata": {},
   "outputs": [
    {
     "data": {
      "text/plain": [
       "181"
      ]
     },
     "execution_count": 40,
     "metadata": {},
     "output_type": "execute_result"
    },
    {
     "name": "stderr",
     "output_type": "stream",
     "text": [
      "\u001b[91mERROR (unhandled task failure): \u001b[91mInterruptException:\u001b[39m\n",
      "Stacktrace:\n",
      " [1] \u001b[1mprocess_events\u001b[22m\u001b[22m at \u001b[1m./libuv.jl:82\u001b[22m\u001b[22m [inlined]\n",
      " [2] \u001b[1mwait\u001b[22m\u001b[22m\u001b[1m(\u001b[22m\u001b[22m\u001b[1m)\u001b[22m\u001b[22m at \u001b[1m./event.jl:216\u001b[22m\u001b[22m\n",
      " [3] \u001b[1mwait\u001b[22m\u001b[22m\u001b[1m(\u001b[22m\u001b[22m::Condition\u001b[1m)\u001b[22m\u001b[22m at \u001b[1m./event.jl:27\u001b[22m\u001b[22m\n",
      " [4] \u001b[1mstream_wait\u001b[22m\u001b[22m\u001b[1m(\u001b[22m\u001b[22m::Timer, ::Condition, ::Vararg{Condition,N} where N\u001b[1m)\u001b[22m\u001b[22m at \u001b[1m./stream.jl:42\u001b[22m\u001b[22m\n",
      " [5] \u001b[1mwait\u001b[22m\u001b[22m\u001b[1m(\u001b[22m\u001b[22m::Timer\u001b[1m)\u001b[22m\u001b[22m at \u001b[1m./event.jl:357\u001b[22m\u001b[22m\n",
      " [6] \u001b[1m(::Base.##300#301{IJulia.#send_stderr,Timer})\u001b[22m\u001b[22m\u001b[1m(\u001b[22m\u001b[22m\u001b[1m)\u001b[22m\u001b[22m at \u001b[1m./event.jl:430\u001b[22m\u001b[22m\n",
      "\u001b[39m"
     ]
    }
   ],
   "source": [
    "open(\"inputs/day12.txt\") do fd\n",
    "    lines = readlines(fd)\n",
    "    discover_groups(parse_programs(lines))\n",
    "end"
   ]
  },
  {
   "cell_type": "code",
   "execution_count": null,
   "metadata": {
    "collapsed": true
   },
   "outputs": [],
   "source": []
  }
 ],
 "metadata": {
  "kernelspec": {
   "display_name": "Julia 0.6.1",
   "language": "julia",
   "name": "julia-0.6"
  },
  "language_info": {
   "file_extension": ".jl",
   "mimetype": "application/julia",
   "name": "julia",
   "version": "0.6.1"
  }
 },
 "nbformat": 4,
 "nbformat_minor": 2
}
