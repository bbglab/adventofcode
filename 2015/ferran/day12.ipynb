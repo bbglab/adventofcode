{
 "cells": [
  {
   "cell_type": "markdown",
   "metadata": {},
   "source": [
    "# Day 12: JSAbacusFramework.io\n",
    "\n",
    "## Day 12.1"
   ]
  },
  {
   "cell_type": "code",
   "execution_count": 56,
   "metadata": {
    "ExecuteTime": {
     "end_time": "2017-12-10T17:12:24.396858",
     "start_time": "2017-12-10T17:12:24.381240"
    }
   },
   "outputs": [],
   "source": [
    "with open('inputs/input12.txt') as f_input:\n",
    "    s = next(f_input).rstrip()"
   ]
  },
  {
   "cell_type": "code",
   "execution_count": 57,
   "metadata": {
    "ExecuteTime": {
     "end_time": "2017-12-10T17:12:36.238152",
     "start_time": "2017-12-10T17:12:36.223022"
    },
    "collapsed": true
   },
   "outputs": [],
   "source": [
    "import re\n",
    "\n",
    "def sum_numbers(s):\n",
    "    p = re.compile('[-]?[\\d]+')\n",
    "    numbers = list(map(int, p.findall(s)))\n",
    "    return sum(numbers)"
   ]
  },
  {
   "cell_type": "code",
   "execution_count": 58,
   "metadata": {
    "ExecuteTime": {
     "end_time": "2017-12-10T17:12:36.842208",
     "start_time": "2017-12-10T17:12:36.805387"
    }
   },
   "outputs": [
    {
     "data": {
      "text/plain": [
       "191164"
      ]
     },
     "execution_count": 58,
     "metadata": {},
     "output_type": "execute_result"
    }
   ],
   "source": [
    "sum_numbers(s)"
   ]
  },
  {
   "cell_type": "markdown",
   "metadata": {},
   "source": [
    "## Day 12.2\n",
    "\n",
    "A function to transform terms of the form **\"[key]\":\"red\"** into a single character **'R'**."
   ]
  },
  {
   "cell_type": "code",
   "execution_count": 59,
   "metadata": {
    "ExecuteTime": {
     "end_time": "2017-12-10T17:12:41.626048",
     "start_time": "2017-12-10T17:12:41.611935"
    }
   },
   "outputs": [],
   "source": [
    "def transform_reds(s):\n",
    "    q = re.compile('\\\"[\\w]+\\\"\\:\\\"red\\\"')\n",
    "    return q.sub('R', s)"
   ]
  },
  {
   "cell_type": "markdown",
   "metadata": {},
   "source": [
    "Track the regions to ignore: when an 'R' is found at depth d we keep this information; we ignore the span between the last $[d-1,d]$ transition (sink down) and the next $[d,d-1]$ transition (float up). Those regions will be erased."
   ]
  },
  {
   "cell_type": "code",
   "execution_count": 60,
   "metadata": {
    "ExecuteTime": {
     "end_time": "2017-12-10T17:12:42.993220",
     "start_time": "2017-12-10T17:12:42.973731"
    }
   },
   "outputs": [],
   "source": [
    "def regions_to_erase(s):\n",
    "    regions = []\n",
    "    curr_depth = 0\n",
    "    last_sink = {}\n",
    "    red = None\n",
    "    for i, c in enumerate(s):\n",
    "        if c == '{':\n",
    "            curr_depth += 1\n",
    "            if red is None:\n",
    "                last_sink[curr_depth] = i\n",
    "        elif c == 'R':\n",
    "            ignore = True\n",
    "            if red is None:\n",
    "                red = curr_depth\n",
    "        elif c == '}':\n",
    "            if red is not None:\n",
    "                if curr_depth == red:\n",
    "                    regions.append([last_sink[curr_depth], i])\n",
    "                    red = None\n",
    "            curr_depth -= 1\n",
    "    return regions"
   ]
  },
  {
   "cell_type": "markdown",
   "metadata": {},
   "source": [
    "Regions to erase may come out nested. If one region to erase is included inside another, we will ignore the smaller one."
   ]
  },
  {
   "cell_type": "code",
   "execution_count": 61,
   "metadata": {
    "ExecuteTime": {
     "end_time": "2017-12-10T17:12:43.937105",
     "start_time": "2017-12-10T17:12:43.910673"
    }
   },
   "outputs": [],
   "source": [
    "def nest_regions(regions):\n",
    "    nested = []\n",
    "    for i, bounds in enumerate(regions):\n",
    "        include = True\n",
    "        for a in regions[i + 1:]:\n",
    "            if a[0] < bounds[0]:\n",
    "                include = include & False\n",
    "        if include:\n",
    "            nested.append(bounds)\n",
    "    return nested"
   ]
  },
  {
   "cell_type": "markdown",
   "metadata": {},
   "source": [
    "Gather all the functions into a main pruned_sum()"
   ]
  },
  {
   "cell_type": "code",
   "execution_count": 72,
   "metadata": {
    "ExecuteTime": {
     "end_time": "2017-12-10T17:20:46.197062",
     "start_time": "2017-12-10T17:20:46.177711"
    },
    "collapsed": true
   },
   "outputs": [],
   "source": [
    "def pruned_sum(s):\n",
    "    t = transform_reds(s)\n",
    "    nested_regions = nest_regions(regions_to_erase(t))\n",
    "    last_bound = 0\n",
    "    pruned = ''\n",
    "    for i, bounds in enumerate(nested_regions):\n",
    "        pruned += t[last_bound: bounds[0]]\n",
    "        last_bound = bounds[1] + 1\n",
    "    pruned += t[last_bound:]\n",
    "    return sum_numbers(pruned)"
   ]
  },
  {
   "cell_type": "markdown",
   "metadata": {},
   "source": [
    "### Test"
   ]
  },
  {
   "cell_type": "code",
   "execution_count": 74,
   "metadata": {
    "ExecuteTime": {
     "end_time": "2017-12-10T17:23:33.590479",
     "start_time": "2017-12-10T17:23:33.569476"
    },
    "collapsed": true
   },
   "outputs": [],
   "source": [
    "def test():\n",
    "    assert(pruned_sum('[1,2,3]') == 6)\n",
    "    assert(pruned_sum('[1,{\"c\":\"red\",\"b\":2},3]') == 4)\n",
    "    assert(pruned_sum('{\"d\":\"red\",\"e\":[1,2,3,4],\"f\":5}') == 0)\n",
    "    assert(pruned_sum('[1,{\"c\":\"red\",\"b\":2},3]') == 4)\n",
    "    assert(pruned_sum('[1,\"red\",5]') == 6)\n",
    "test()"
   ]
  },
  {
   "cell_type": "markdown",
   "metadata": {},
   "source": [
    "### Solution"
   ]
  },
  {
   "cell_type": "code",
   "execution_count": 76,
   "metadata": {
    "ExecuteTime": {
     "end_time": "2017-12-10T17:23:55.207724",
     "start_time": "2017-12-10T17:23:55.175600"
    }
   },
   "outputs": [
    {
     "data": {
      "text/plain": [
       "87842"
      ]
     },
     "execution_count": 76,
     "metadata": {},
     "output_type": "execute_result"
    }
   ],
   "source": [
    "pruned_sum(s)"
   ]
  }
 ],
 "metadata": {
  "kernelspec": {
   "display_name": "Python [conda env:adventofcode]",
   "language": "python",
   "name": "conda-env-adventofcode-py"
  },
  "language_info": {
   "codemirror_mode": {
    "name": "ipython",
    "version": 3
   },
   "file_extension": ".py",
   "mimetype": "text/x-python",
   "name": "python",
   "nbconvert_exporter": "python",
   "pygments_lexer": "ipython3",
   "version": "3.5.2"
  },
  "toc": {
   "colors": {
    "hover_highlight": "#DAA520",
    "running_highlight": "#FF0000",
    "selected_highlight": "#FFD700"
   },
   "moveMenuLeft": true,
   "nav_menu": {
    "height": "66px",
    "width": "252px"
   },
   "navigate_menu": true,
   "number_sections": true,
   "sideBar": true,
   "threshold": 4,
   "toc_cell": false,
   "toc_section_display": "block",
   "toc_window_display": false
  }
 },
 "nbformat": 4,
 "nbformat_minor": 2
}
