{
 "cells": [
  {
   "cell_type": "markdown",
   "metadata": {},
   "source": [
    "# Day 14"
   ]
  },
  {
   "cell_type": "code",
   "execution_count": null,
   "metadata": {},
   "outputs": [],
   "source": [
    "! cat README.md"
   ]
  },
  {
   "cell_type": "code",
   "execution_count": null,
   "metadata": {},
   "outputs": [],
   "source": [
    "! cat input.txt"
   ]
  },
  {
   "cell_type": "code",
   "execution_count": null,
   "metadata": {},
   "outputs": [],
   "source": [
    "# parse input\n",
    "with open('input.txt', 'rt') as f:\n",
    "    lines = f.read().splitlines()\n",
    "code = []\n",
    "for l in lines:\n",
    "    k, v = l.split(' = ')\n",
    "    if k.startswith('mem'):\n",
    "        code.append((int(k[4:-1]), int(v)))\n",
    "    else:\n",
    "        code.append(('mask', v))"
   ]
  },
  {
   "cell_type": "code",
   "execution_count": null,
   "metadata": {},
   "outputs": [],
   "source": [
    "def masked(n, mask):\n",
    "    bin_value = str('{:036b}'.format(n))\n",
    "    zipped = ''.join(list(map(lambda x: x[0] if x[1] == 'X' else x[1], zip(bin_value[::-1], mask[::-1])))[::-1])\n",
    "    return int(zipped, 2)"
   ]
  },
  {
   "cell_type": "code",
   "execution_count": null,
   "metadata": {},
   "outputs": [],
   "source": [
    "mask = ''\n",
    "memory = {}\n",
    "for k, v in code:\n",
    "    if k == 'mask':\n",
    "        mask = v\n",
    "    else:\n",
    "        memory[k] = masked(v, mask)"
   ]
  },
  {
   "cell_type": "code",
   "execution_count": null,
   "metadata": {},
   "outputs": [],
   "source": [
    "sum(memory.values())"
   ]
  },
  {
   "cell_type": "raw",
   "metadata": {},
   "source": [
    "--- Part Two ---\n",
    "For some reason, the sea port's computer system still can't communicate with your ferry's docking program. It must be using version 2 of the decoder chip!\n",
    "\n",
    "A version 2 decoder chip doesn't modify the values being written at all. Instead, it acts as a memory address decoder. Immediately before a value is written to memory, each bit in the bitmask modifies the corresponding bit of the destination memory address in the following way:\n",
    "\n",
    "If the bitmask bit is 0, the corresponding memory address bit is unchanged.\n",
    "If the bitmask bit is 1, the corresponding memory address bit is overwritten with 1.\n",
    "If the bitmask bit is X, the corresponding memory address bit is floating.\n",
    "A floating bit is not connected to anything and instead fluctuates unpredictably. In practice, this means the floating bits will take on all possible values, potentially causing many memory addresses to be written all at once!\n",
    "\n",
    "For example, consider the following program:\n",
    "\n",
    "mask = 000000000000000000000000000000X1001X\n",
    "mem[42] = 100\n",
    "mask = 00000000000000000000000000000000X0XX\n",
    "mem[26] = 1\n",
    "When this program goes to write to memory address 42, it first applies the bitmask:\n",
    "\n",
    "address: 000000000000000000000000000000101010  (decimal 42)\n",
    "mask:    000000000000000000000000000000X1001X\n",
    "result:  000000000000000000000000000000X1101X\n",
    "After applying the mask, four bits are overwritten, three of which are different, and two of which are floating. Floating bits take on every possible combination of values; with two floating bits, four actual memory addresses are written:\n",
    "\n",
    "000000000000000000000000000000011010  (decimal 26)\n",
    "000000000000000000000000000000011011  (decimal 27)\n",
    "000000000000000000000000000000111010  (decimal 58)\n",
    "000000000000000000000000000000111011  (decimal 59)\n",
    "Next, the program is about to write to memory address 26 with a different bitmask:\n",
    "\n",
    "address: 000000000000000000000000000000011010  (decimal 26)\n",
    "mask:    00000000000000000000000000000000X0XX\n",
    "result:  00000000000000000000000000000001X0XX\n",
    "This results in an address with three floating bits, causing writes to eight memory addresses:\n",
    "\n",
    "000000000000000000000000000000010000  (decimal 16)\n",
    "000000000000000000000000000000010001  (decimal 17)\n",
    "000000000000000000000000000000010010  (decimal 18)\n",
    "000000000000000000000000000000010011  (decimal 19)\n",
    "000000000000000000000000000000011000  (decimal 24)\n",
    "000000000000000000000000000000011001  (decimal 25)\n",
    "000000000000000000000000000000011010  (decimal 26)\n",
    "000000000000000000000000000000011011  (decimal 27)\n",
    "The entire 36-bit address space still begins initialized to the value 0 at every address, and you still need the sum of all values left in memory at the end of the program. In this example, the sum is 208.\n",
    "\n",
    "Execute the initialization program using an emulator for a version 2 decoder chip. What is the sum of all values left in memory after it completes?"
   ]
  },
  {
   "cell_type": "code",
   "execution_count": null,
   "metadata": {},
   "outputs": [],
   "source": [
    "from itertools import product\n",
    "\n",
    "def masked(address, mask):\n",
    "    bin_address = str('{:036b}'.format(address))\n",
    "    new_mask = list(map(lambda x: x[0] if (x[1]=='0') else ('1' if (x[1]=='1') else 'X'), \n",
    "                        zip(bin_address, mask)))\n",
    "    x_ind = [i for i, v in enumerate(new_mask) if v == 'X']\n",
    "    template = new_mask.copy()\n",
    "    addresses = []\n",
    "    for b in product(['0', '1'], repeat=len(x_ind)):\n",
    "        for i, ind in enumerate(x_ind):\n",
    "            template[ind] = b[i]\n",
    "        addresses.append(int(''.join(template), 2))\n",
    "    return addresses"
   ]
  },
  {
   "cell_type": "code",
   "execution_count": null,
   "metadata": {},
   "outputs": [],
   "source": [
    "def run(code):\n",
    "    mask = ''\n",
    "    memory = {}\n",
    "    for k, v in code:\n",
    "        if k == 'mask':\n",
    "            mask = v\n",
    "        else:\n",
    "            addresses = masked(k, mask)\n",
    "            for add in addresses:\n",
    "                memory[add] = v\n",
    "    return sum(memory.values())"
   ]
  },
  {
   "cell_type": "code",
   "execution_count": null,
   "metadata": {},
   "outputs": [],
   "source": [
    "# test\n",
    "test_code = [('mask', '000000000000000000000000000000X1001X'), (42, 100),\n",
    "             ('mask', '00000000000000000000000000000000X0XX'), (26, 1)]\n",
    "run(test_code)"
   ]
  },
  {
   "cell_type": "code",
   "execution_count": null,
   "metadata": {},
   "outputs": [],
   "source": [
    "# solution\n",
    "run(code)"
   ]
  }
 ],
 "metadata": {
  "kernelspec": {
   "display_name": "Python [conda env:stats_env]",
   "language": "python",
   "name": "conda-env-stats_env-py"
  },
  "language_info": {
   "codemirror_mode": {
    "name": "ipython",
    "version": 3
   },
   "file_extension": ".py",
   "mimetype": "text/x-python",
   "name": "python",
   "nbconvert_exporter": "python",
   "pygments_lexer": "ipython3",
   "version": "3.7.6"
  }
 },
 "nbformat": 4,
 "nbformat_minor": 2
}
