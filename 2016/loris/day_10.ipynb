{
 "cells": [
  {
   "cell_type": "markdown",
   "metadata": {},
   "source": [
    "# Advent of Code 2016"
   ]
  },
  {
   "cell_type": "raw",
   "metadata": {},
   "source": [
    "--- Day 10: Balance Bots ---\n",
    "\n",
    "You come upon a factory in which many robots are zooming around handing small microchips to each other.\n",
    "\n",
    "Upon closer examination, you notice that each bot only proceeds when it has two microchips, and once it does, it gives each one to a different bot or puts it in a marked \"output\" bin. Sometimes, bots take microchips from \"input\" bins, too.\n",
    "\n",
    "Inspecting one of the microchips, it seems like they each contain a single number; the bots must use some logic to decide what to do with each chip. You access the local control computer and download the bots' instructions (your puzzle input).\n",
    "\n",
    "Some of the instructions specify that a specific-valued microchip should be given to a specific bot; the rest of the instructions indicate what a given bot should do with its lower-value or higher-value chip.\n",
    "\n",
    "For example, consider the following instructions:\n",
    "\n",
    "- value 5 goes to bot 2\n",
    "- bot 2 gives low to bot 1 and high to bot 0\n",
    "- value 3 goes to bot 1\n",
    "- bot 1 gives low to output 1 and high to bot 0\n",
    "- bot 0 gives low to output 2 and high to output 0\n",
    "- value 2 goes to bot 2\n",
    "\n",
    "- Initially, bot 1 starts with a value-3 chip, and bot 2 starts with a value-2 chip and a value-5 chip.\n",
    "- Because bot 2 has two microchips, it gives its lower one (2) to bot 1 and its higher one (5) to bot 0.\n",
    "- Then, bot 1 has two microchips; it puts the value-2 chip in output 1 and gives the value-3 chip to bot 0.\n",
    "- Finally, bot 0 has two microchips; it puts the 3 in output 2 and the 5 in output 0.\n",
    "\n",
    "In the end, output bin 0 contains a value-5 microchip, output bin 1 contains a value-2 microchip, and output bin 2 contains a value-3 microchip. In this configuration, bot number 2 is responsible for comparing value-5 microchips with value-2 microchips.\n",
    "\n",
    "Based on your instructions, what is the number of the bot that is responsible for comparing value-61 microchips with value-17 microchips?"
   ]
  },
  {
   "cell_type": "code",
   "execution_count": 1,
   "metadata": {
    "collapsed": true
   },
   "outputs": [],
   "source": [
    "from collections import defaultdict, namedtuple"
   ]
  },
  {
   "cell_type": "code",
   "execution_count": 2,
   "metadata": {
    "collapsed": false
   },
   "outputs": [],
   "source": [
    "class Bot:\n",
    "    def __init__(self):\n",
    "        self.values = []\n",
    "        self.instructions = []\n",
    "    \n",
    "    def add_value(self, value):\n",
    "        self.values.append(value)\n",
    "        \n",
    "    def pop_high(self):\n",
    "        value = max(self.values)\n",
    "        self.values.remove(value)\n",
    "        return value\n",
    "    \n",
    "    def pop_low(self):\n",
    "        value = min(self.values)\n",
    "        self.values.remove(value)\n",
    "        return value\n",
    "    \n",
    "    def num_values(self):\n",
    "        return len(self.values)\n",
    "    \n",
    "    def add_instruction(self, instruction):\n",
    "        self.instructions.append(instruction)\n",
    "        \n",
    "    def get_instruction(self):\n",
    "        instruction = self.instructions.pop(0)\n",
    "        return instruction"
   ]
  },
  {
   "cell_type": "code",
   "execution_count": 3,
   "metadata": {
    "collapsed": true
   },
   "outputs": [],
   "source": [
    "data = [line.strip() for line in open('data/day_10.txt', 'r')]"
   ]
  },
  {
   "cell_type": "code",
   "execution_count": 4,
   "metadata": {
    "collapsed": false
   },
   "outputs": [
    {
     "name": "stdout",
     "output_type": "stream",
     "text": [
      "101\n"
     ]
    }
   ],
   "source": [
    "bots = defaultdict(Bot)\n",
    "outputs = {}\n",
    "\n",
    "init = namedtuple('Init', 'number value')\n",
    "transfer = namedtuple('Transfer', 'origin destination_low destination_high')\n",
    "\n",
    "\n",
    "for instruction in data:\n",
    "    instruction = instruction.split()\n",
    "    if instruction[0] == 'value':\n",
    "        bot = init(\n",
    "            number=instruction[-1], \n",
    "            value=int(instruction[1])\n",
    "        )\n",
    "        bots[bot.number].add_value(bot.value)\n",
    "    else:\n",
    "        bot = transfer(\n",
    "                origin=instruction[1], \n",
    "                destination_low={\n",
    "                    'destination': instruction[5], \n",
    "                    'value': instruction[6]\n",
    "                },\n",
    "                destination_high={\n",
    "                    'destination': instruction[-2], \n",
    "                    'value': instruction[-1]\n",
    "                }\n",
    "            )\n",
    "        bots[bot.origin].add_instruction(bot)\n",
    "    \n",
    "while any([v.num_values() > 1 for k, v in bots.items()]):\n",
    "    number = [k for k, v in bots.items() if v.num_values() > 1][0]\n",
    "    bot = bots[number]\n",
    "    low_value = bot.pop_low()\n",
    "    high_value = bot.pop_high()\n",
    "    instruction = bot.get_instruction()\n",
    "    \n",
    "    if high_value == 61 and low_value == 17:\n",
    "        print(number)\n",
    "\n",
    "    if instruction.destination_low['destination'] == 'bot':\n",
    "        bots[instruction.destination_low['value']].add_value(low_value)\n",
    "    else:\n",
    "        outputs[instruction.destination_low['value']] = low_value\n",
    "    if instruction.destination_high['destination'] == 'bot':\n",
    "        bots[instruction.destination_high['value']].add_value(high_value)\n",
    "    else:\n",
    "        outputs[instruction.destination_high['value']] = high_value"
   ]
  },
  {
   "cell_type": "raw",
   "metadata": {},
   "source": [
    "--- Part Two ---\n",
    "\n",
    "What do you get if you multiply together the values of one chip in each of outputs 0, 1, and 2?"
   ]
  },
  {
   "cell_type": "code",
   "execution_count": 5,
   "metadata": {
    "collapsed": false
   },
   "outputs": [
    {
     "data": {
      "text/plain": [
       "37789"
      ]
     },
     "execution_count": 5,
     "metadata": {},
     "output_type": "execute_result"
    }
   ],
   "source": [
    "outputs['0'] * outputs['1'] * outputs['2']"
   ]
  }
 ],
 "metadata": {
  "kernelspec": {
   "display_name": "Python 3",
   "language": "python",
   "name": "python3"
  },
  "language_info": {
   "codemirror_mode": {
    "name": "ipython",
    "version": 3
   },
   "file_extension": ".py",
   "mimetype": "text/x-python",
   "name": "python",
   "nbconvert_exporter": "python",
   "pygments_lexer": "ipython3",
   "version": "3.5.2+"
  }
 },
 "nbformat": 4,
 "nbformat_minor": 2
}
