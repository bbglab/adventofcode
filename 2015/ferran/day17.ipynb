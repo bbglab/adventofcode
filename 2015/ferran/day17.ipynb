{
 "cells": [
  {
   "cell_type": "markdown",
   "metadata": {},
   "source": [
    "# Day 17: No Such Thing as Too Much\n",
    "\n",
    "## Day 17.1"
   ]
  },
  {
   "cell_type": "code",
   "execution_count": 12,
   "metadata": {
    "ExecuteTime": {
     "end_time": "2017-12-16T22:21:01.566238",
     "start_time": "2017-12-16T22:21:01.554375"
    },
    "collapsed": true
   },
   "outputs": [],
   "source": [
    "test_containers = [20, 15, 10, 5, 5]\n",
    "solution_containers = [50, 44, 11, 49, 42, 46, 18, 32, 26, 40, 21, 7, 18, 43, 10, 47, 36, 24, 22, 40]"
   ]
  },
  {
   "cell_type": "code",
   "execution_count": 26,
   "metadata": {
    "ExecuteTime": {
     "end_time": "2017-12-16T22:24:30.150084",
     "start_time": "2017-12-16T22:24:30.132895"
    },
    "collapsed": true
   },
   "outputs": [],
   "source": [
    "from sympy import Poly\n",
    "from sympy.abc import x\n",
    "\n",
    "def comb_containers(total, containers):\n",
    "    p = 1\n",
    "    for i in containers:\n",
    "        p = p * (1 + x**i)\n",
    "    poly = Poly(p)\n",
    "    return poly.all_coeffs()[total]"
   ]
  },
  {
   "cell_type": "markdown",
   "metadata": {
    "ExecuteTime": {
     "end_time": "2017-12-16T22:16:51.361763",
     "start_time": "2017-12-16T22:16:51.346674"
    }
   },
   "source": [
    "### Test"
   ]
  },
  {
   "cell_type": "code",
   "execution_count": 27,
   "metadata": {
    "ExecuteTime": {
     "end_time": "2017-12-16T22:24:31.013163",
     "start_time": "2017-12-16T22:24:30.995002"
    }
   },
   "outputs": [],
   "source": [
    "assert(comb_containers(25, test_containers) == 4)"
   ]
  },
  {
   "cell_type": "markdown",
   "metadata": {},
   "source": [
    "### Solution"
   ]
  },
  {
   "cell_type": "code",
   "execution_count": 28,
   "metadata": {
    "ExecuteTime": {
     "end_time": "2017-12-16T22:25:06.161599",
     "start_time": "2017-12-16T22:25:06.059375"
    }
   },
   "outputs": [
    {
     "data": {
      "text/plain": [
       "654"
      ]
     },
     "execution_count": 28,
     "metadata": {},
     "output_type": "execute_result"
    }
   ],
   "source": [
    "comb_containers(150, solution_containers)"
   ]
  },
  {
   "cell_type": "markdown",
   "metadata": {},
   "source": [
    "## Day 17.2"
   ]
  },
  {
   "cell_type": "code",
   "execution_count": 37,
   "metadata": {
    "ExecuteTime": {
     "end_time": "2017-12-16T22:48:09.349228",
     "start_time": "2017-12-16T22:48:09.330979"
    },
    "collapsed": true
   },
   "outputs": [],
   "source": [
    "from sympy.abc import x, y\n",
    "\n",
    "def comb_min_containers(total, containers):\n",
    "    p = 1\n",
    "    for i in containers:\n",
    "        p = p * (y + x**i)\n",
    "    poly = Poly(p)\n",
    "    coeff_dict = dict(zip(poly.monoms(), poly.coeffs()))\n",
    "    comb_key = sorted([k for k in coeff_dict if k[0] == total], key=lambda x: x[1], reverse=True)[0]\n",
    "    return coeff_dict[comb_key]"
   ]
  },
  {
   "cell_type": "markdown",
   "metadata": {},
   "source": [
    "### Test"
   ]
  },
  {
   "cell_type": "code",
   "execution_count": 39,
   "metadata": {
    "ExecuteTime": {
     "end_time": "2017-12-16T22:48:42.045584",
     "start_time": "2017-12-16T22:48:42.032363"
    }
   },
   "outputs": [],
   "source": [
    "assert(comb_min_containers(25, test_containers) == 3)"
   ]
  },
  {
   "cell_type": "markdown",
   "metadata": {},
   "source": [
    "### Solution"
   ]
  },
  {
   "cell_type": "code",
   "execution_count": 40,
   "metadata": {
    "ExecuteTime": {
     "end_time": "2017-12-16T22:49:40.258110",
     "start_time": "2017-12-16T22:49:20.683301"
    }
   },
   "outputs": [
    {
     "data": {
      "text/plain": [
       "57"
      ]
     },
     "execution_count": 40,
     "metadata": {},
     "output_type": "execute_result"
    }
   ],
   "source": [
    "comb_min_containers(150, solution_containers)"
   ]
  }
 ],
 "metadata": {
  "kernelspec": {
   "display_name": "Python [conda env:adventofcode]",
   "language": "python",
   "name": "conda-env-adventofcode-py"
  },
  "language_info": {
   "codemirror_mode": {
    "name": "ipython",
    "version": 3
   },
   "file_extension": ".py",
   "mimetype": "text/x-python",
   "name": "python",
   "nbconvert_exporter": "python",
   "pygments_lexer": "ipython3",
   "version": "3.5.2"
  },
  "toc": {
   "colors": {
    "hover_highlight": "#DAA520",
    "running_highlight": "#FF0000",
    "selected_highlight": "#FFD700"
   },
   "moveMenuLeft": true,
   "nav_menu": {
    "height": "66px",
    "width": "252px"
   },
   "navigate_menu": true,
   "number_sections": true,
   "sideBar": true,
   "threshold": 4,
   "toc_cell": false,
   "toc_section_display": "block",
   "toc_window_display": false
  }
 },
 "nbformat": 4,
 "nbformat_minor": 2
}
