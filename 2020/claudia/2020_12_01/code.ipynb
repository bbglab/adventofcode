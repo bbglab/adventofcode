{
 "cells": [
  {
   "cell_type": "markdown",
   "metadata": {},
   "source": [
    "# Day 1"
   ]
  },
  {
   "cell_type": "code",
   "execution_count": 1,
   "metadata": {
    "collapsed": true
   },
   "outputs": [],
   "source": [
    "input_f = './input.txt'"
   ]
  },
  {
   "cell_type": "code",
   "execution_count": 9,
   "metadata": {
    "collapsed": true
   },
   "outputs": [],
   "source": [
    "# Read expenses\n",
    "expenses = set()\n",
    "with open(input_f, 'r') as fd: \n",
    "    for line in fd: \n",
    "        expenses.add(int(line.strip()))"
   ]
  },
  {
   "cell_type": "markdown",
   "metadata": {},
   "source": [
    "### Question 1"
   ]
  },
  {
   "cell_type": "markdown",
   "metadata": {},
   "source": [
    "Find the two entries that sum to 2020 and then multiply those two numbers together."
   ]
  },
  {
   "cell_type": "code",
   "execution_count": 16,
   "metadata": {
    "scrolled": true
   },
   "outputs": [
    {
     "name": "stdout",
     "output_type": "stream",
     "text": [
      "1236 784 969024\n",
      "784 1236 969024\n"
     ]
    }
   ],
   "source": [
    "# Find 2 expenses that add up to 2020 and get their product\n",
    "stop = 0\n",
    "for exp1 in expenses: \n",
    "    for exp2 in expenses: \n",
    "        if exp1 + exp2 == 2020: \n",
    "            print(exp1, exp2, exp1 * exp2)"
   ]
  },
  {
   "cell_type": "markdown",
   "metadata": {},
   "source": [
    "### Question 2"
   ]
  },
  {
   "cell_type": "markdown",
   "metadata": {},
   "source": [
    "What is the product of the three entries that sum to 2020?"
   ]
  },
  {
   "cell_type": "code",
   "execution_count": 20,
   "metadata": {},
   "outputs": [
    {
     "name": "stdout",
     "output_type": "stream",
     "text": [
      "1065 587 368 230057040\n",
      "1065 368 587 230057040\n",
      "587 1065 368 230057040\n",
      "587 368 1065 230057040\n",
      "368 1065 587 230057040\n",
      "368 587 1065 230057040\n"
     ]
    }
   ],
   "source": [
    "# First try, not very nice\n",
    "stop = 0\n",
    "for exp1 in expenses: \n",
    "    for exp2 in expenses:\n",
    "        for exp3 in expenses: \n",
    "            if exp1 + exp2 + exp3 == 2020: \n",
    "                print(exp1, exp2, exp3, exp1 * exp2 * exp3)\n",
    "                stop = 1"
   ]
  },
  {
   "cell_type": "code",
   "execution_count": 35,
   "metadata": {},
   "outputs": [],
   "source": [
    "def evaluate_3(a, b, c): \n",
    "    if a + b + c == 2020: \n",
    "        return a * b * c\n",
    "    else: \n",
    "        return 0"
   ]
  },
  {
   "cell_type": "code",
   "execution_count": 36,
   "metadata": {},
   "outputs": [
    {
     "name": "stdout",
     "output_type": "stream",
     "text": [
      "230057040\n"
     ]
    }
   ],
   "source": [
    "# Second option (would also apply to question 1)\n",
    "solution = 0\n",
    "for exp1 in expenses: \n",
    "    for exp2 in expenses:\n",
    "        for exp3 in expenses: \n",
    "            solution = evaluate_3(exp1, exp2, exp3)\n",
    "            if solution != 0: \n",
    "                break\n",
    "        if solution != 0: \n",
    "            break\n",
    "    if solution != 0: \n",
    "        break\n",
    "print(solution)"
   ]
  },
  {
   "cell_type": "code",
   "execution_count": null,
   "metadata": {
    "collapsed": true
   },
   "outputs": [],
   "source": []
  }
 ],
 "metadata": {
  "kernelspec": {
   "display_name": "Python [conda env:hotspots_framework]",
   "language": "python",
   "name": "conda-env-hotspots_framework-py"
  },
  "language_info": {
   "codemirror_mode": {
    "name": "ipython",
    "version": 3
   },
   "file_extension": ".py",
   "mimetype": "text/x-python",
   "name": "python",
   "nbconvert_exporter": "python",
   "pygments_lexer": "ipython3",
   "version": "3.6.10"
  }
 },
 "nbformat": 4,
 "nbformat_minor": 2
}
