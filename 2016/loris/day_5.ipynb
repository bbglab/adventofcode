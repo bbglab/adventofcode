{
 "cells": [
  {
   "cell_type": "markdown",
   "metadata": {},
   "source": [
    "# Advent of Code 2016"
   ]
  },
  {
   "cell_type": "raw",
   "metadata": {},
   "source": [
    "--- Day 5: How About a Nice Game of Chess? ---\n",
    "\n",
    "You are faced with a security door designed by Easter Bunny engineers that seem to have acquired most of their security knowledge by watching hacking movies.\n",
    "\n",
    "The eight-character password for the door is generated one character at a time by finding the MD5 hash of some Door ID (your puzzle input) and an increasing integer index (starting with 0).\n",
    "\n",
    "A hash indicates the next character in the password if its hexadecimal representation starts with five zeroes. If it does, the sixth character in the hash is the next character of the password.\n",
    "\n",
    "For example, if the Door ID is abc:\n",
    "\n",
    "- The first index which produces a hash that starts with five zeroes is 3231929, which we find by hashing abc3231929; the sixth character of the hash, and thus the first character of the password, is 1.\n",
    "- 5017308 produces the next interesting hash, which starts with 000008f82..., so the second character of the password is 8.\n",
    "- The third time a hash starts with five zeroes is for abc5278568, discovering the character f.\n",
    "\n",
    "In this example, after continuing this search a total of eight times, the password is 18f47a30.\n",
    "\n",
    "Given the actual Door ID, what is the password?\n",
    "\n",
    "Your puzzle input is wtnhxymk."
   ]
  },
  {
   "cell_type": "code",
   "execution_count": 1,
   "metadata": {
    "collapsed": false
   },
   "outputs": [],
   "source": [
    "import hashlib"
   ]
  },
  {
   "cell_type": "code",
   "execution_count": 2,
   "metadata": {
    "collapsed": false
   },
   "outputs": [],
   "source": [
    "def get_password(door_id):\n",
    "    password = ''\n",
    "    index = 0\n",
    "    while True: \n",
    "        hash_string = hashlib.md5(bytes('{}{}'.format(door_id, index), encoding='ascii')).hexdigest()\n",
    "        if hash_string[:5] == '0' * 5:\n",
    "            password += hash_string[5]\n",
    "        if len(password) == 8:\n",
    "            break\n",
    "        index += 1\n",
    "    return password"
   ]
  },
  {
   "cell_type": "code",
   "execution_count": 3,
   "metadata": {
    "collapsed": false
   },
   "outputs": [],
   "source": [
    "# Test\n",
    "assert get_password(door_id='abc') == '18f47a30'"
   ]
  },
  {
   "cell_type": "code",
   "execution_count": 4,
   "metadata": {
    "collapsed": false
   },
   "outputs": [
    {
     "data": {
      "text/plain": [
       "'2414bc77'"
      ]
     },
     "execution_count": 4,
     "metadata": {},
     "output_type": "execute_result"
    }
   ],
   "source": [
    "door_id = 'wtnhxymk'\n",
    "get_password(door_id)"
   ]
  },
  {
   "cell_type": "raw",
   "metadata": {},
   "source": [
    "--- Part Two ---\n",
    "\n",
    "As the door slides open, you are presented with a second door that uses a slightly more inspired security mechanism. Clearly unimpressed by the last version (in what movie is the password decrypted in order?!), the Easter Bunny engineers have worked out a better solution.\n",
    "\n",
    "Instead of simply filling in the password from left to right, the hash now also indicates the position within the password to fill. You still look for hashes that begin with five zeroes; however, now, the sixth character represents the position (0-7), and the seventh character is the character to put in that position.\n",
    "\n",
    "A hash result of 000001f means that f is the second character in the password. Use only the first result for each position, and ignore invalid positions.\n",
    "\n",
    "For example, if the Door ID is abc:\n",
    "\n",
    "- The first interesting hash is from abc3231929, which produces 0000015...; so, 5 goes in position 1: _5______.\n",
    "- In the previous method, 5017308 produced an interesting hash; however, it is ignored, because it specifies an invalid position (8).\n",
    "- The second interesting hash is at index 5357525, which produces 000004e...; so, e goes in position 4: _5__e___.\n",
    "- You almost choke on your popcorn as the final character falls into place, producing the password 05ace8e3.\n",
    "\n",
    "Given the actual Door ID and this new method, what is the password? Be extra proud of your solution if it uses a cinematic \"decrypting\" animation.\n",
    "\n",
    "Your puzzle input is still wtnhxymk."
   ]
  },
  {
   "cell_type": "code",
   "execution_count": 5,
   "metadata": {
    "collapsed": true
   },
   "outputs": [],
   "source": [
    "def get_password(door_id, len_password=8):\n",
    "    password = {k: None for k in range(len_password)}\n",
    "    index = 0\n",
    "    while True: \n",
    "        hash_string = hashlib.md5(bytes('{}{}'.format(door_id, index), encoding='ascii')).hexdigest()\n",
    "        if hash_string[:5] == '0' * 5:\n",
    "            position = hash_string[5]\n",
    "            try:\n",
    "                if password[int(position)] is not None:\n",
    "                    raise Exception\n",
    "                password[int(position)] = hash_string[6]\n",
    "            except Exception:\n",
    "                pass\n",
    "        if all([v is not None for k, v in password.items()]):\n",
    "            break\n",
    "        index += 1\n",
    "    return ''.join([password[i] for i in range(len_password)])"
   ]
  },
  {
   "cell_type": "code",
   "execution_count": 6,
   "metadata": {
    "collapsed": false
   },
   "outputs": [],
   "source": [
    "# Test\n",
    "assert get_password(door_id='abc') == '05ace8e3'"
   ]
  },
  {
   "cell_type": "code",
   "execution_count": 7,
   "metadata": {
    "collapsed": false
   },
   "outputs": [
    {
     "data": {
      "text/plain": [
       "'437e60fc'"
      ]
     },
     "execution_count": 7,
     "metadata": {},
     "output_type": "execute_result"
    }
   ],
   "source": [
    "door_id = 'wtnhxymk'\n",
    "get_password(door_id)"
   ]
  }
 ],
 "metadata": {
  "kernelspec": {
   "display_name": "Python 3",
   "language": "python",
   "name": "python3"
  },
  "language_info": {
   "codemirror_mode": {
    "name": "ipython",
    "version": 3
   },
   "file_extension": ".py",
   "mimetype": "text/x-python",
   "name": "python",
   "nbconvert_exporter": "python",
   "pygments_lexer": "ipython3",
   "version": "3.5.2+"
  }
 },
 "nbformat": 4,
 "nbformat_minor": 1
}
