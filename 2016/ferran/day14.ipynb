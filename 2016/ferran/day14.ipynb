{
 "cells": [
  {
   "cell_type": "markdown",
   "metadata": {},
   "source": [
    "# Challenge 14"
   ]
  },
  {
   "cell_type": "code",
   "execution_count": 2,
   "metadata": {
    "collapsed": true
   },
   "outputs": [],
   "source": [
    "myinput = 'ihaygndm'"
   ]
  },
  {
   "cell_type": "markdown",
   "metadata": {},
   "source": [
    "## Solution 14.1"
   ]
  },
  {
   "cell_type": "code",
   "execution_count": 3,
   "metadata": {
    "collapsed": true
   },
   "outputs": [],
   "source": [
    "import hashlib"
   ]
  },
  {
   "cell_type": "code",
   "execution_count": 140,
   "metadata": {
    "collapsed": true
   },
   "outputs": [],
   "source": [
    "def repetitions(mystr, n, m):\n",
    "    ns = []\n",
    "    ms = []\n",
    "    i = 0\n",
    "    j = 0\n",
    "    while i < len(mystr) - n + 1:\n",
    "        if mystr[i:i+n] == mystr[i] * n:\n",
    "            if mystr[i] not in ns:\n",
    "                ns.append(mystr[i])\n",
    "            if mystr[i:i+m] == mystr[i] * m:\n",
    "                if mystr[i] not in set(ms):\n",
    "                    ms.append(mystr[i])\n",
    "            i += n\n",
    "        else:\n",
    "            i += 1\n",
    "    return ns, ms\n",
    "\n",
    "def hashkey(myinput, k):\n",
    "    mystr = myinput + str(k)\n",
    "    hsh = hashlib.md5(mystr.encode('utf-8')).hexdigest()\n",
    "    return hsh\n",
    "    \n",
    "def generate_keys(myinput, hashkey_function, n, m):\n",
    "    white = []\n",
    "    key_ns = []\n",
    "    key_ms = []\n",
    "    k = 0\n",
    "    while len(white) < 64:\n",
    "        hsh = hashkey_function(myinput, k)\n",
    "        ns, ms = repetitions(hsh, 3, 5)\n",
    "        if len(ns) > 0:\n",
    "            key_ns.append((k, ns[0]))\n",
    "        if len(ms) > 0:\n",
    "            for char in ms:\n",
    "                key_ms.append((k, char))\n",
    "            for ns_tuple in key_ns:\n",
    "                for ms_tuple in key_ms:\n",
    "                    if (ns_tuple[1] == ms_tuple[1]) and (0 < ms_tuple[0] - ns_tuple[0] < 1001):\n",
    "                        if ns_tuple[0] not in white:\n",
    "                            white.append(ns_tuple[0])\n",
    "        k += 1\n",
    "    return sorted(white)"
   ]
  },
  {
   "cell_type": "code",
   "execution_count": 142,
   "metadata": {
    "collapsed": true
   },
   "outputs": [],
   "source": [
    "sorted_indices1 = generate_keys(myinput, hashkey, 3, 5)"
   ]
  },
  {
   "cell_type": "code",
   "execution_count": 143,
   "metadata": {
    "collapsed": false
   },
   "outputs": [
    {
     "name": "stdout",
     "output_type": "stream",
     "text": [
      "15035\n"
     ]
    }
   ],
   "source": [
    "sorted_indices1[63]"
   ]
  },
  {
   "cell_type": "markdown",
   "metadata": {},
   "source": [
    "## Solution 14.2"
   ]
  },
  {
   "cell_type": "code",
   "execution_count": 144,
   "metadata": {
    "collapsed": false
   },
   "outputs": [],
   "source": [
    "def hashkey_stretched(myinput, k, n):\n",
    "    mystr = myinput + str(k)\n",
    "    hsh = hashlib.md5(mystr.encode('utf-8')).hexdigest()\n",
    "    for i in range(n-1):\n",
    "        hsh = hashlib.md5(hsh.encode('utf-8')).hexdigest()\n",
    "    return hsh\n",
    "\n",
    "def new_hashkey(myinput, k):\n",
    "    return hashkey_stretched(myinput, k, 2017)"
   ]
  },
  {
   "cell_type": "markdown",
   "metadata": {},
   "source": [
    "## Test"
   ]
  },
  {
   "cell_type": "code",
   "execution_count": 146,
   "metadata": {
    "collapsed": false
   },
   "outputs": [
    {
     "data": {
      "text/plain": [
       "'a107ff634856bb300138cac6568c0f24'"
      ]
     },
     "execution_count": 146,
     "metadata": {},
     "output_type": "execute_result"
    }
   ],
   "source": [
    "hashkey_stretched('abc', 0, 2017)"
   ]
  },
  {
   "cell_type": "code",
   "execution_count": 147,
   "metadata": {
    "collapsed": false
   },
   "outputs": [],
   "source": [
    "sorted_indices2 = generate_keys('abc', new_hashkey, 3, 5)"
   ]
  },
  {
   "cell_type": "code",
   "execution_count": 148,
   "metadata": {
    "collapsed": false
   },
   "outputs": [
    {
     "data": {
      "text/plain": [
       "22551"
      ]
     },
     "execution_count": 148,
     "metadata": {},
     "output_type": "execute_result"
    }
   ],
   "source": [
    "sorted_indices[63]"
   ]
  },
  {
   "cell_type": "markdown",
   "metadata": {},
   "source": [
    "## Result"
   ]
  },
  {
   "cell_type": "code",
   "execution_count": 149,
   "metadata": {
    "collapsed": true
   },
   "outputs": [],
   "source": [
    "sorted_indices3 = generate_keys(myinput, new_hashkey, 3, 5)"
   ]
  },
  {
   "cell_type": "code",
   "execution_count": 150,
   "metadata": {
    "collapsed": false
   },
   "outputs": [
    {
     "data": {
      "text/plain": [
       "19968"
      ]
     },
     "execution_count": 150,
     "metadata": {},
     "output_type": "execute_result"
    }
   ],
   "source": [
    "sorted_indices3[63]"
   ]
  }
 ],
 "metadata": {
  "anaconda-cloud": {},
  "kernelspec": {
   "display_name": "Python [conda env:adventofcode]",
   "language": "python",
   "name": "conda-env-adventofcode-py"
  },
  "language_info": {
   "codemirror_mode": {
    "name": "ipython",
    "version": 3
   },
   "file_extension": ".py",
   "mimetype": "text/x-python",
   "name": "python",
   "nbconvert_exporter": "python",
   "pygments_lexer": "ipython3",
   "version": "3.5.2"
  }
 },
 "nbformat": 4,
 "nbformat_minor": 0
}
