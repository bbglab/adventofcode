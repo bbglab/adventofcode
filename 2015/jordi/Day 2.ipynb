{
 "cells": [
  {
   "cell_type": "markdown",
   "metadata": {},
   "source": [
    "# Puzzles from adventofcode.com 2015"
   ]
  },
  {
   "cell_type": "markdown",
   "metadata": {},
   "source": [
    "## Day 2: I Was Told There Would Be No Math"
   ]
  },
  {
   "cell_type": "code",
   "execution_count": 15,
   "metadata": {
    "collapsed": true
   },
   "outputs": [],
   "source": [
    "def compute_feets(text):\n",
    "    l, w, h = [int(v) for v in text.split('x')]\n",
    "    f1 = l*w \n",
    "    f2 = w*h \n",
    "    f3 = h*l \n",
    "    return 2*(f1 + f2 + f3) + min(f1, f2, f3)"
   ]
  },
  {
   "cell_type": "code",
   "execution_count": 8,
   "metadata": {
    "collapsed": false
   },
   "outputs": [
    {
     "data": {
      "text/plain": [
       "43"
      ]
     },
     "execution_count": 8,
     "metadata": {},
     "output_type": "execute_result"
    }
   ],
   "source": [
    "# Test examples\n",
    "compute_feets(\"1x1x10\")"
   ]
  },
  {
   "cell_type": "code",
   "execution_count": 16,
   "metadata": {
    "collapsed": false
   },
   "outputs": [
    {
     "name": "stdout",
     "output_type": "stream",
     "text": [
      "They should order 1586300 square feet of wrapping paper\n"
     ]
    }
   ],
   "source": [
    "# Real input\n",
    "with open('day2/input.txt', 'rt') as gifts:\n",
    "    total_feets = 0\n",
    "    for gift in gifts:\n",
    "        total_feets += compute_feets(gift.rstrip())\n",
    "    print(\"They should order {} square feet of wrapping paper\".format(total_feets))        "
   ]
  },
  {
   "cell_type": "code",
   "execution_count": 17,
   "metadata": {
    "collapsed": true
   },
   "outputs": [],
   "source": [
    "def compute_ribbon(text):\n",
    "    l, w, h = [int(v) for v in text.split('x')]\n",
    "    return 2*(l + w + h - max(l, w, h)) + l*w*h"
   ]
  },
  {
   "cell_type": "code",
   "execution_count": 18,
   "metadata": {
    "collapsed": false
   },
   "outputs": [
    {
     "data": {
      "text/plain": [
       "34"
      ]
     },
     "execution_count": 18,
     "metadata": {},
     "output_type": "execute_result"
    }
   ],
   "source": [
    "# Test examples\n",
    "compute_ribbon(\"2x3x4\")"
   ]
  },
  {
   "cell_type": "code",
   "execution_count": 19,
   "metadata": {
    "collapsed": false
   },
   "outputs": [
    {
     "name": "stdout",
     "output_type": "stream",
     "text": [
      "They should order 3737498 feet of ribbon\n"
     ]
    }
   ],
   "source": [
    "# Real input\n",
    "with open('day2/input.txt', 'rt') as gifts:\n",
    "    total_ribbon = 0\n",
    "    for gift in gifts:\n",
    "        total_ribbon += compute_ribbon(gift.rstrip())\n",
    "    print(\"They should order {} feet of ribbon\".format(total_ribbon))     "
   ]
  }
 ],
 "metadata": {
  "kernelspec": {
   "display_name": "Python 3",
   "language": "python",
   "name": "python3"
  },
  "language_info": {
   "codemirror_mode": {
    "name": "ipython",
    "version": 3
   },
   "file_extension": ".py",
   "mimetype": "text/x-python",
   "name": "python",
   "nbconvert_exporter": "python",
   "pygments_lexer": "ipython3",
   "version": "3.4.3"
  }
 },
 "nbformat": 4,
 "nbformat_minor": 0
}
