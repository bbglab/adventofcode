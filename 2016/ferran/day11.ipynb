{
 "cells": [
  {
   "cell_type": "markdown",
   "metadata": {
    "collapsed": false
   },
   "source": [
    "# Challenge 11\n",
    "\n",
    "## Challenge 11.1"
   ]
  },
  {
   "cell_type": "code",
   "execution_count": 1,
   "metadata": {
    "ExecuteTime": {
     "end_time": "2016-12-28T14:14:18.490350",
     "start_time": "2016-12-28T14:14:18.470094"
    },
    "collapsed": false
   },
   "outputs": [
    {
     "name": "stdout",
     "output_type": "stream",
     "text": [
      "The first floor contains a promethium generator and a promethium-compatible microchip.\n",
      "The second floor contains a cobalt generator, a curium generator, a ruthenium generator, and a plutonium generator.\n",
      "The third floor contains a cobalt-compatible microchip, a curium-compatible microchip, a ruthenium-compatible microchip, and a plutonium-compatible microchip.\n",
      "The fourth floor contains nothing relevant.\n"
     ]
    }
   ],
   "source": [
    "myinput = '/home/fmuinos/projects/adventofcode/2016/ferran/inputs/input11.txt'\n",
    "with open(myinput,'rt') as f:\n",
    "    for line in f:\n",
    "        print(line.rstrip())"
   ]
  },
  {
   "cell_type": "code",
   "execution_count": 2,
   "metadata": {
    "ExecuteTime": {
     "end_time": "2016-12-28T14:14:19.693717",
     "start_time": "2016-12-28T14:14:19.690238"
    },
    "collapsed": true
   },
   "outputs": [],
   "source": [
    "initial_state = (1,(1,1,3,2,3,2,3,2,3,2))"
   ]
  },
  {
   "cell_type": "markdown",
   "metadata": {},
   "source": [
    "**Convention:** Each position represents a device, either a chip or a generator. Chips are in even positions, generators are in odd positions. Two consecutive chip-generator devices belong to the same element-type. The number at each position represents the floor the device of this position is in."
   ]
  },
  {
   "cell_type": "code",
   "execution_count": 3,
   "metadata": {
    "ExecuteTime": {
     "end_time": "2016-12-28T14:14:31.997042",
     "start_time": "2016-12-28T14:14:31.915001"
    },
    "collapsed": false
   },
   "outputs": [],
   "source": [
    "import numpy as np\n",
    "from operator import add\n",
    "\n",
    "elements = ['Pm', 'Cm', 'Co', 'Ru', 'Pu']\n",
    "\n",
    "def chips_n_gens(conf, floor):\n",
    "    chips = set([elements[i // 2] for i, x in enumerate(conf) if (x == floor) and (i % 2 == 0)])\n",
    "    gens = set([elements[i // 2] for i, x in enumerate(conf) if (x == floor) and (i % 2 == 1)])\n",
    "    return chips, gens\n",
    "\n",
    "def valid(state, floor):\n",
    "    chips, gens = chips_n_gens(state[1], floor)\n",
    "    return len(chips) == 0 or len(gens) == 0 or np.all([x in gens for x in chips])\n",
    "\n",
    "def move(state, load, step):\n",
    "    load = [a * step for a in load]\n",
    "    return state[0] + step, tuple(map(add, state[1], load))"
   ]
  },
  {
   "cell_type": "markdown",
   "metadata": {},
   "source": [
    "## Test"
   ]
  },
  {
   "cell_type": "code",
   "execution_count": 5,
   "metadata": {
    "ExecuteTime": {
     "end_time": "2016-12-28T14:15:07.159941",
     "start_time": "2016-12-28T14:15:07.141346"
    },
    "collapsed": false
   },
   "outputs": [
    {
     "data": {
      "text/plain": [
       "({'Cm', 'Pm'}, set())"
      ]
     },
     "execution_count": 5,
     "metadata": {},
     "output_type": "execute_result"
    }
   ],
   "source": [
    "initial_state = (1,(1,2,1,3))\n",
    "chips_n_gens(initial_state[1],1)"
   ]
  },
  {
   "cell_type": "code",
   "execution_count": 6,
   "metadata": {
    "ExecuteTime": {
     "end_time": "2016-12-28T14:15:27.508283",
     "start_time": "2016-12-28T14:15:27.498803"
    },
    "collapsed": false
   },
   "outputs": [
    {
     "data": {
      "text/plain": [
       "({'Pm'}, {'Pm'})"
      ]
     },
     "execution_count": 6,
     "metadata": {},
     "output_type": "execute_result"
    }
   ],
   "source": [
    "load = (1,1,0,0)\n",
    "chips_n_gens(load, 1)"
   ]
  },
  {
   "cell_type": "markdown",
   "metadata": {},
   "source": [
    "## Plot function"
   ]
  },
  {
   "cell_type": "code",
   "execution_count": 4,
   "metadata": {
    "ExecuteTime": {
     "end_time": "2016-12-28T14:14:40.049263",
     "start_time": "2016-12-28T14:14:40.025456"
    },
    "collapsed": true
   },
   "outputs": [],
   "source": [
    "def plot(state):\n",
    "    elem_dict = dict(enumerate(elements))\n",
    "    types = ['Pm', 'Pm', 'Co', 'Co', 'Cm', 'Cm', 'Ru', 'Ru', 'Pu', 'Pu']\n",
    "    floor = state[0]\n",
    "    for i in range(4):\n",
    "        printable = '-> ' * (4-i == floor) + '   ' * (4-i != floor) + 'F' + str(4-i) + '  '\n",
    "        for j in range(len(state[1])):\n",
    "            if state[1][j] == 4-i:\n",
    "                elem = elem_dict[j//2]\n",
    "                if j % 2 == 0:\n",
    "                    printable += ' ch-' + elem + ' '\n",
    "                else:\n",
    "                    printable += ' ge-' +  elem + ' '\n",
    "            else:\n",
    "                printable += '  ' +  ' - ' + '  '\n",
    "        print(printable)\n",
    "    print('-' * len(printable))"
   ]
  },
  {
   "cell_type": "code",
   "execution_count": 9,
   "metadata": {
    "ExecuteTime": {
     "end_time": "2016-12-28T14:16:33.082321",
     "start_time": "2016-12-28T14:16:33.074609"
    },
    "collapsed": false
   },
   "outputs": [
    {
     "name": "stdout",
     "output_type": "stream",
     "text": [
      "   F4     -      -      -    ge-Cm    -      -      -      -      -      -   \n",
      "-> F3     -      -    ch-Cm    -      -    ge-Co    -    ge-Ru    -    ge-Pu \n",
      "   F2     -      -      -      -    ch-Co    -    ch-Ru    -    ch-Pu    -   \n",
      "   F1   ch-Pm  ge-Pm    -      -      -      -      -      -      -      -   \n",
      "-----------------------------------------------------------------------------\n"
     ]
    }
   ],
   "source": [
    "some_state = (3,(1,1,3,4,2,3,2,3,2,3))\n",
    "plot(some_state)"
   ]
  },
  {
   "cell_type": "code",
   "execution_count": 10,
   "metadata": {
    "ExecuteTime": {
     "end_time": "2016-12-28T14:16:39.078013",
     "start_time": "2016-12-28T14:16:39.072884"
    },
    "collapsed": false
   },
   "outputs": [
    {
     "name": "stdout",
     "output_type": "stream",
     "text": [
      "   F4     -      -      -    ge-Cm    -      -      -      -      -      -   \n",
      "   F3     -      -      -      -      -    ge-Co    -    ge-Ru    -    ge-Pu \n",
      "-> F2     -      -    ch-Cm    -    ch-Co    -    ch-Ru    -    ch-Pu    -   \n",
      "   F1   ch-Pm  ge-Pm    -      -      -      -      -      -      -      -   \n",
      "-----------------------------------------------------------------------------\n"
     ]
    }
   ],
   "source": [
    "load = (0,0,1,0,0,0,0,0,0,0)\n",
    "plot(move(some_state,load,-1))"
   ]
  },
  {
   "cell_type": "markdown",
   "metadata": {},
   "source": [
    "## Valid State Generator"
   ]
  },
  {
   "cell_type": "code",
   "execution_count": 129,
   "metadata": {
    "ExecuteTime": {
     "end_time": "2016-12-28T17:58:17.738504",
     "start_time": "2016-12-28T17:58:17.681629"
    },
    "collapsed": false
   },
   "outputs": [],
   "source": [
    "from itertools import combinations, chain\n",
    "\n",
    "\n",
    "class Node(object):\n",
    "    \n",
    "    def __init__(self, state):\n",
    "        self.state = state\n",
    "        self.parent = None\n",
    "    \n",
    "    def add_parent(self, node):\n",
    "        self.parent = node\n",
    "\n",
    "def hasher(state):\n",
    "    l = [str(state[0])]\n",
    "    for k in range(4):\n",
    "        chips = sum([(x == k + 1) and (i % 2 == 0) for i, x in enumerate(state[1])])\n",
    "        gens = sum([(x == k + 1) and (i % 2 == 1) for i, x in enumerate(state[1])])\n",
    "        l.append(chips)\n",
    "        l.append(gens)\n",
    "        l = list(map(str, l))\n",
    "    return ''.join(l)\n",
    "\n",
    "def load_hasher(s, load):\n",
    "    l = [str(s)]\n",
    "    for k in range(4):\n",
    "        chips = sum([(x == k + 1) and (i % 2 == 0) for i, x in enumerate(load)])\n",
    "        gens = sum([(x == k + 1) and (i % 2 == 1) for i, x in enumerate(load)])\n",
    "        l.append(chips)\n",
    "        l.append(gens)\n",
    "        l = list(map(str, l))\n",
    "    return ''.join(l)\n",
    "    \n",
    "def children_states(state, size, visited):\n",
    "    next_states = []\n",
    "    directed_loads = []\n",
    "    minfloor = min(state[1])\n",
    "    indices = [ind for ind, x in enumerate(state[1]) if x == state[0]]\n",
    "    for subset in chain(combinations(indices, 2), combinations(indices, 1)):\n",
    "        for step in [-1, +1]:\n",
    "            if minfloor <= state[0] + step <= 4: \n",
    "                load = tuple([j in subset for j in range(size)])\n",
    "                load_hash = load_hasher(step, load)\n",
    "                if load_hash not in directed_loads:\n",
    "                    new_state = move(state, load, step)\n",
    "                    if hasher(new_state) not in visited:\n",
    "                        if valid(new_state, state[0]):\n",
    "                            if valid(new_state, state[0] + step):\n",
    "                                directed_loads.append(load_hash)\n",
    "                                next_states.append(new_state)\n",
    "    return next_states"
   ]
  },
  {
   "cell_type": "markdown",
   "metadata": {},
   "source": [
    "## Breadth-First Search"
   ]
  },
  {
   "cell_type": "code",
   "execution_count": 103,
   "metadata": {
    "ExecuteTime": {
     "end_time": "2016-12-28T17:35:22.052984",
     "start_time": "2016-12-28T17:35:22.026203"
    },
    "code_folding": [],
    "collapsed": false
   },
   "outputs": [],
   "source": [
    "def minsearch(initial_state, final_state, size):\n",
    "    visited = set()\n",
    "    node = Node(initial_state)\n",
    "    pending = [(0, node)]\n",
    "    while len(pending) > 0:\n",
    "        depth, node = pending.pop(0)\n",
    "        visited.add(hasher(node.state))\n",
    "        if node.state == final_state:\n",
    "            print(final_state)\n",
    "            while(node.parent is not None):\n",
    "                print(node.parent.state)\n",
    "                node = node.parent\n",
    "            return depth\n",
    "        else:\n",
    "            gen = children_states(node.state, size, visited)\n",
    "            for new_state in gen:\n",
    "                child = Node(new_state)\n",
    "                child.add_parent(node)\n",
    "                pending.append((depth + 1, child))"
   ]
  },
  {
   "cell_type": "markdown",
   "metadata": {},
   "source": [
    "## Test"
   ]
  },
  {
   "cell_type": "code",
   "execution_count": 130,
   "metadata": {
    "ExecuteTime": {
     "end_time": "2016-12-28T17:58:22.310414",
     "start_time": "2016-12-28T17:58:22.222756"
    },
    "collapsed": false
   },
   "outputs": [
    {
     "name": "stdout",
     "output_type": "stream",
     "text": [
      "(4, (4, 4, 4, 4))\n",
      "(3, (3, 4, 3, 4))\n",
      "(2, (2, 4, 2, 4))\n",
      "(1, (1, 4, 1, 4))\n",
      "(2, (2, 4, 1, 4))\n",
      "(3, (3, 4, 1, 4))\n",
      "(4, (4, 4, 1, 4))\n",
      "(3, (4, 3, 1, 3))\n",
      "(4, (4, 4, 1, 3))\n",
      "(3, (3, 3, 1, 3))\n",
      "(2, (2, 2, 1, 3))\n",
      "(1, (1, 2, 1, 3))\n",
      "11\n",
      "CPU times: user 68 ms, sys: 4 ms, total: 72 ms\n",
      "Wall time: 70.2 ms\n"
     ]
    }
   ],
   "source": [
    "%%time\n",
    "elements = ['Pm', 'Cm']\n",
    "initial_state = (1,(1,2,1,3))\n",
    "final_state = (4,(4,4,4,4))\n",
    "print(minsearch(initial_state, final_state, 4))"
   ]
  },
  {
   "cell_type": "code",
   "execution_count": 131,
   "metadata": {
    "ExecuteTime": {
     "end_time": "2016-12-28T17:58:32.507304",
     "start_time": "2016-12-28T17:58:25.236847"
    },
    "collapsed": false
   },
   "outputs": [
    {
     "name": "stdout",
     "output_type": "stream",
     "text": [
      "(4, (4, 4, 4, 4, 4, 4, 4, 4))\n",
      "(3, (3, 3, 4, 4, 4, 4, 4, 4))\n",
      "(2, (2, 2, 4, 4, 4, 4, 4, 4))\n",
      "(3, (2, 3, 4, 4, 4, 4, 4, 4))\n",
      "(4, (2, 4, 4, 4, 4, 4, 4, 4))\n",
      "(3, (2, 4, 3, 4, 4, 4, 3, 4))\n",
      "(4, (2, 4, 4, 4, 4, 4, 3, 4))\n",
      "(3, (2, 3, 4, 4, 4, 4, 3, 3))\n",
      "(2, (2, 2, 4, 4, 4, 4, 3, 2))\n",
      "(3, (2, 2, 4, 4, 4, 4, 3, 3))\n",
      "(4, (2, 2, 4, 4, 4, 4, 3, 4))\n",
      "(3, (2, 2, 3, 4, 3, 4, 3, 4))\n",
      "(4, (2, 2, 3, 4, 4, 4, 3, 4))\n",
      "(3, (2, 2, 3, 3, 4, 4, 3, 3))\n",
      "(2, (2, 2, 3, 2, 4, 4, 3, 2))\n",
      "(3, (3, 2, 3, 2, 4, 4, 3, 2))\n",
      "(2, (2, 2, 2, 2, 4, 4, 3, 2))\n",
      "(3, (2, 2, 2, 2, 4, 4, 3, 3))\n",
      "(4, (2, 2, 2, 2, 4, 4, 3, 4))\n",
      "(3, (2, 2, 2, 2, 4, 3, 3, 3))\n",
      "(4, (2, 2, 2, 2, 4, 4, 3, 3))\n",
      "(3, (2, 2, 2, 2, 3, 3, 3, 3))\n",
      "(2, (2, 2, 2, 2, 3, 2, 3, 2))\n",
      "(3, (3, 2, 3, 2, 3, 2, 3, 2))\n",
      "(2, (2, 2, 3, 2, 3, 2, 3, 2))\n",
      "(1, (1, 1, 3, 2, 3, 2, 3, 2))\n",
      "25\n",
      "CPU times: user 7.23 s, sys: 4 ms, total: 7.24 s\n",
      "Wall time: 7.25 s\n"
     ]
    }
   ],
   "source": [
    "%%time\n",
    "elements = ['Pm', 'Cm', 'Co', 'Ru', 'Pu']\n",
    "initial_state = (1,(1,1,3,2,3,2,3,2))\n",
    "final_state = (4,(4,4,4,4,4,4,4,4))\n",
    "print(minsearch(initial_state, final_state, 8))"
   ]
  },
  {
   "cell_type": "markdown",
   "metadata": {},
   "source": [
    "## Result"
   ]
  },
  {
   "cell_type": "code",
   "execution_count": 113,
   "metadata": {
    "ExecuteTime": {
     "end_time": "2016-12-28T17:37:39.912476",
     "start_time": "2016-12-28T17:37:39.751974"
    },
    "collapsed": false
   },
   "outputs": [
    {
     "name": "stdout",
     "output_type": "stream",
     "text": [
      "None\n",
      "CPU times: user 148 ms, sys: 4 ms, total: 152 ms\n",
      "Wall time: 153 ms\n"
     ]
    }
   ],
   "source": [
    "%%time\n",
    "elements = ['Pm', 'Cm', 'Co', 'Ru', 'Pu']\n",
    "initial_state = (1,(1,1,3,2,3,2,3,2,3,2))\n",
    "final_state = (4,(4,4,4,4,4,4,4,4,4,4))\n",
    "print(minsearch(initial_state, final_state, 10))"
   ]
  },
  {
   "cell_type": "markdown",
   "metadata": {},
   "source": [
    "## Challenge 11.2"
   ]
  },
  {
   "cell_type": "code",
   "execution_count": 68,
   "metadata": {
    "ExecuteTime": {
     "end_time": "2016-12-28T14:59:15.819862",
     "start_time": "2016-12-28T14:59:15.809472"
    },
    "collapsed": true
   },
   "outputs": [],
   "source": [
    "elements = ['Pm', 'Cm', 'Co', 'Ru', 'Pu', 'El', 'Di']"
   ]
  },
  {
   "cell_type": "code",
   "execution_count": 87,
   "metadata": {
    "ExecuteTime": {
     "end_time": "2016-12-28T17:18:08.282316",
     "start_time": "2016-12-28T17:18:08.155057"
    },
    "collapsed": false
   },
   "outputs": [
    {
     "name": "stdout",
     "output_type": "stream",
     "text": [
      "(4, (4, 4, 4, 4, 4, 4, 4, 4, 4, 4, 4, 4, 4, 4))\n",
      "(3, (4, 4, 4, 4, 3, 3, 4, 4, 4, 4, 4, 4, 4, 4))\n",
      "(4, (4, 4, 4, 4, 3, 4, 4, 4, 4, 4, 4, 4, 4, 4))\n",
      "(3, (3, 4, 3, 4, 3, 4, 4, 4, 4, 4, 4, 4, 4, 4))\n",
      "(4, (3, 4, 3, 4, 4, 4, 4, 4, 4, 4, 4, 4, 4, 4))\n",
      "(3, (3, 3, 3, 3, 4, 4, 4, 4, 4, 4, 4, 4, 4, 4))\n",
      "(2, (2, 2, 3, 3, 4, 4, 4, 4, 4, 4, 4, 4, 4, 4))\n",
      "(1, (1, 2, 3, 3, 4, 4, 4, 4, 4, 4, 4, 4, 4, 4))\n",
      "7\n",
      "CPU times: user 112 ms, sys: 0 ns, total: 112 ms\n",
      "Wall time: 112 ms\n"
     ]
    }
   ],
   "source": [
    "%%time\n",
    "initial_state = (1,tuple([1]+[2]+[3]*2+[4]*10))\n",
    "final_state = (4,(tuple([4]*14)))\n",
    "print(minsearch(initial_state, final_state, 14))"
   ]
  }
 ],
 "metadata": {
  "anaconda-cloud": {},
  "kernelspec": {
   "display_name": "Python [conda env:adventofcode]",
   "language": "python",
   "name": "conda-env-adventofcode-py"
  },
  "language_info": {
   "codemirror_mode": {
    "name": "ipython",
    "version": 3
   },
   "file_extension": ".py",
   "mimetype": "text/x-python",
   "name": "python",
   "nbconvert_exporter": "python",
   "pygments_lexer": "ipython3",
   "version": "3.5.2"
  },
  "toc": {
   "colors": {
    "hover_highlight": "#DAA520",
    "running_highlight": "#FF0000",
    "selected_highlight": "#FFD700"
   },
   "moveMenuLeft": true,
   "nav_menu": {
    "height": "123px",
    "width": "252px"
   },
   "navigate_menu": true,
   "number_sections": true,
   "sideBar": true,
   "threshold": 4,
   "toc_cell": false,
   "toc_section_display": "block",
   "toc_window_display": false
  }
 },
 "nbformat": 4,
 "nbformat_minor": 1
}
