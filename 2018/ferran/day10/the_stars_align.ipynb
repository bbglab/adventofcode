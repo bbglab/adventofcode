{
 "cells": [
  {
   "cell_type": "code",
   "execution_count": 1,
   "metadata": {
    "collapsed": true
   },
   "outputs": [],
   "source": [
    "import re\n",
    "import numpy as np\n",
    "import matplotlib.pyplot as plt"
   ]
  },
  {
   "cell_type": "code",
   "execution_count": 2,
   "metadata": {
    "collapsed": true
   },
   "outputs": [],
   "source": [
    "def split(s):\n",
    "    return re.split('<|>|=<|,', s)\n",
    "\n",
    "def extract(l):\n",
    "    pos = (int(l[1]), int(l[2]))\n",
    "    vel = (int(l[4]), int(l[5]))\n",
    "    return pos, vel\n",
    "    \n",
    "def parse():\n",
    "    l = ! cat input.txt | tr '\\n' ';'\n",
    "    l = list(map(split, l[0].split(';')))\n",
    "    return list(map(extract, l[:-1]))\n",
    "\n",
    "l = parse()"
   ]
  },
  {
   "cell_type": "code",
   "execution_count": 3,
   "metadata": {
    "collapsed": true
   },
   "outputs": [],
   "source": [
    "pos, vel = zip(*l)\n",
    "pos = np.array(pos)\n",
    "posx, posy = zip(*pos)\n",
    "posx = list(posx)\n",
    "posy = list(posy)"
   ]
  },
  {
   "cell_type": "code",
   "execution_count": 6,
   "metadata": {
    "collapsed": true
   },
   "outputs": [],
   "source": [
    "l = parse()\n",
    "\n",
    "def coords(pos):\n",
    "    posx, posy = zip(*pos)\n",
    "    posx = list(posx)\n",
    "    posy = list(posy)\n",
    "    posy = list(map(lambda x: -1*x, posy))\n",
    "    return posx, posy\n",
    "\n",
    "def diameter(pos):\n",
    "    return np.max(list(map(np.linalg.norm, pos)))\n",
    "\n",
    "def draw(diam):\n",
    "    pos, vel = zip(*l)\n",
    "    pos = np.array(pos)\n",
    "    vel = np.array(vel)\n",
    "    c = 1\n",
    "    while diameter(pos) > diam:\n",
    "        pos += vel\n",
    "        c += 1\n",
    "    while diameter(pos) <= diam:\n",
    "        pos += vel\n",
    "        posx, posy = coords(pos)\n",
    "        plt.scatter(posx, posy)\n",
    "        plt.show()\n",
    "        print(c)\n",
    "        print(diameter(pos))\n",
    "        c += 1\n",
    "        \n",
    "def iterate(iters):\n",
    "    pos, vel = zip(*l)\n",
    "    pos = np.array(pos)\n",
    "    vel = np.array(vel)\n",
    "    c = 1\n",
    "    while c <= iters:\n",
    "        pos += vel\n",
    "        c += 1\n",
    "    posx, posy = coords(pos)\n",
    "    plt.scatter(posx, posy)\n",
    "    plt.show()"
   ]
  },
  {
   "cell_type": "markdown",
   "metadata": {},
   "source": [
    "## Solution"
   ]
  },
  {
   "cell_type": "code",
   "execution_count": 7,
   "metadata": {},
   "outputs": [
    {
     "data": {
      "image/png": "[encoded data removed]",
      "text/plain": [
       "<matplotlib.figure.Figure at 0x7f7165da82b0>"
      ]
     },
     "metadata": {},
     "output_type": "display_data"
    }
   ],
   "source": [
    "iterate(10054)"
   ]
  }
 ],
 "metadata": {
  "kernelspec": {
   "display_name": "Python [conda env:adventofcode]",
   "language": "python",
   "name": "conda-env-adventofcode-py"
  },
  "language_info": {
   "codemirror_mode": {
    "name": "ipython",
    "version": 3
   },
   "file_extension": ".py",
   "mimetype": "text/x-python",
   "name": "python",
   "nbconvert_exporter": "python",
   "pygments_lexer": "ipython3",
   "version": "3.5.2"
  }
 },
 "nbformat": 4,
 "nbformat_minor": 2
}
