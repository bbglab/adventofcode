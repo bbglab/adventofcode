{
 "cells": [
  {
   "cell_type": "markdown",
   "id": "c0e0b511",
   "metadata": {},
   "source": [
    "### Read and transform lines"
   ]
  },
  {
   "cell_type": "code",
   "execution_count": 1,
   "id": "1d46ab2a",
   "metadata": {},
   "outputs": [],
   "source": [
    "with open(\"i1.txt\", \"r\") as f:\n",
    "    i1 = f.readlines()\n",
    "ii = [ int(j.split(\"\\n\")[0]) for j in i1]    "
   ]
  },
  {
   "cell_type": "markdown",
   "id": "7ee11886",
   "metadata": {},
   "source": [
    "## Part 1 "
   ]
  },
  {
   "cell_type": "markdown",
   "id": "b7f8ace9",
   "metadata": {},
   "source": [
    "### Extract start and end, compare"
   ]
  },
  {
   "cell_type": "code",
   "execution_count": 2,
   "id": "813f5c4b",
   "metadata": {},
   "outputs": [
    {
     "data": {
      "text/plain": [
       "1752"
      ]
     },
     "execution_count": 2,
     "metadata": {},
     "output_type": "execute_result"
    }
   ],
   "source": [
    "start = ii[:-1]; end = ii[1:]\n",
    "sum([ end[i] > start[i] for i in range(len(start))])"
   ]
  },
  {
   "cell_type": "markdown",
   "id": "0ed7b1e7",
   "metadata": {},
   "source": [
    "## Part 2"
   ]
  },
  {
   "cell_type": "code",
   "execution_count": 7,
   "id": "9b1758a1",
   "metadata": {},
   "outputs": [],
   "source": [
    "def sum3(ll, i): \n",
    "    return sum(ll[i:(i+3)])"
   ]
  },
  {
   "cell_type": "code",
   "execution_count": 8,
   "id": "a0d3cc6f",
   "metadata": {},
   "outputs": [
    {
     "data": {
      "text/plain": [
       "1781"
      ]
     },
     "execution_count": 8,
     "metadata": {},
     "output_type": "execute_result"
    }
   ],
   "source": [
    "start3 = [sum3(start, i) for i in range(len(start)-2)];\n",
    "end3 = [sum3(end, i) for i in range(len(end)-2)];\n",
    "sum([ end3[i] > start3[i] for i in range(len(start3))])"
   ]
  }
 ],
 "metadata": {
  "kernelspec": {
   "display_name": "Python 3 (ipykernel)",
   "language": "python",
   "name": "python3"
  },
  "language_info": {
   "codemirror_mode": {
    "name": "ipython",
    "version": 3
   },
   "file_extension": ".py",
   "mimetype": "text/x-python",
   "name": "python",
   "nbconvert_exporter": "python",
   "pygments_lexer": "ipython3",
   "version": "3.9.7"
  }
 },
 "nbformat": 4,
 "nbformat_minor": 5
}
