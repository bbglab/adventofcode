{
 "cells": [
  {
   "cell_type": "markdown",
   "metadata": {},
   "source": [
    "# Puzzles from adventofcode.com 2015"
   ]
  },
  {
   "cell_type": "markdown",
   "metadata": {},
   "source": [
    "## Day 1: Not Quite Lisp"
   ]
  },
  {
   "cell_type": "code",
   "execution_count": 5,
   "metadata": {
    "collapsed": true
   },
   "outputs": [],
   "source": [
    "DIRECTIONS = {'(': 1, ')': -1}\n",
    "def floor_counter(text):\n",
    "    floor = 0\n",
    "    for c in text:\n",
    "        floor += DIRECTIONS.get(c, 0)\n",
    "    return floor                    "
   ]
  },
  {
   "cell_type": "code",
   "execution_count": 9,
   "metadata": {
    "collapsed": false
   },
   "outputs": [
    {
     "name": "stdout",
     "output_type": "stream",
     "text": [
      ")())()) = -3\n"
     ]
    }
   ],
   "source": [
    "# Test some examples\n",
    "print(\")())()) = {}\".format(floor_counter(\")())())\")))"
   ]
  },
  {
   "cell_type": "code",
   "execution_count": 16,
   "metadata": {
    "collapsed": false
   },
   "outputs": [
    {
     "name": "stdout",
     "output_type": "stream",
     "text": [
      "First puzzle solution is 74\n"
     ]
    }
   ],
   "source": [
    "# Real puzzle\n",
    "with open('day1/input.txt', 'rt') as fd:\n",
    "    text = fd.read()\n",
    "    print(\"First puzzle solution is {}\".format(floor_counter(text)))"
   ]
  },
  {
   "cell_type": "code",
   "execution_count": 17,
   "metadata": {
    "collapsed": true
   },
   "outputs": [],
   "source": [
    "def basement_position(text):\n",
    "    floor = 0\n",
    "    position = 0\n",
    "    for c in text:\n",
    "        position += 1\n",
    "        floor += DIRECTIONS.get(c, 0)\n",
    "        if floor == -1:\n",
    "            return position\n",
    "    return None"
   ]
  },
  {
   "cell_type": "code",
   "execution_count": 18,
   "metadata": {
    "collapsed": false
   },
   "outputs": [
    {
     "name": "stdout",
     "output_type": "stream",
     "text": [
      "()()) = 5\n"
     ]
    }
   ],
   "source": [
    "# Test some examples\n",
    "print(\"()()) = {}\".format(basement_position(\"()())\")))"
   ]
  },
  {
   "cell_type": "code",
   "execution_count": 19,
   "metadata": {
    "collapsed": false
   },
   "outputs": [
    {
     "name": "stdout",
     "output_type": "stream",
     "text": [
      "Second puzzle solution is 1795\n"
     ]
    }
   ],
   "source": [
    "# Real puzzle\n",
    "with open('day1/input.txt', 'rt') as fd:\n",
    "    text = fd.read()\n",
    "    print(\"Second puzzle solution is {}\".format(basement_position(text)))"
   ]
  }
 ],
 "metadata": {
  "kernelspec": {
   "display_name": "Python 3",
   "language": "python",
   "name": "python3"
  },
  "language_info": {
   "codemirror_mode": {
    "name": "ipython",
    "version": 3
   },
   "file_extension": ".py",
   "mimetype": "text/x-python",
   "name": "python",
   "nbconvert_exporter": "python",
   "pygments_lexer": "ipython3",
   "version": "3.4.3"
  }
 },
 "nbformat": 4,
 "nbformat_minor": 0
}
