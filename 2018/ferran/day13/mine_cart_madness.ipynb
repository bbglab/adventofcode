{
 "cells": [
  {
   "cell_type": "markdown",
   "metadata": {
    "collapsed": true
   },
   "source": [
    "# Part 1"
   ]
  },
  {
   "cell_type": "code",
   "execution_count": 24,
   "metadata": {
    "collapsed": true
   },
   "outputs": [],
   "source": [
    "import numpy as np"
   ]
  },
  {
   "cell_type": "code",
   "execution_count": 25,
   "metadata": {
    "collapsed": true
   },
   "outputs": [],
   "source": [
    "def parse(fn):\n",
    "    levels = []\n",
    "    with open(fn, 'rt') as f:\n",
    "        for l in f.readlines():\n",
    "            levels.append(l.rstrip('\\n'))\n",
    "    return levels"
   ]
  },
  {
   "cell_type": "code",
   "execution_count": 69,
   "metadata": {
    "collapsed": true
   },
   "outputs": [],
   "source": [
    "class BluePrint:\n",
    "    \n",
    "    def __init__(self, fn):\n",
    "        self.tracks = {}\n",
    "        self.carts  = []\n",
    "        levels = parse(fn)\n",
    "        under = dict(zip('^v<>|-/\\\\+ ', '||--|-/\\\\+ '))\n",
    "        for j, lev in enumerate(levels):\n",
    "            lev = list(lev)\n",
    "            for i, c in enumerate(lev):\n",
    "                pos = (i, j)\n",
    "                if c in '^>v<':\n",
    "                    self.carts.append(Cart(pos, c))\n",
    "                self.tracks[pos] = under[c]\n",
    "\n",
    "class Cart:\n",
    "    \n",
    "    def __init__(self, pos, face):\n",
    "        self.pos       = pos\n",
    "        self.face      = face\n",
    "        self.turn      = 'l'\n",
    "        \n",
    "    def step(self):\n",
    "        \n",
    "        clockwise = [[0,-1],[1,0],[0,1],[-1,0]]\n",
    "        moves     = dict(zip('^>v<', map(np.array, clockwise)))\n",
    "        left      = dict(zip('^<v>', '<v>^'))\n",
    "        right     = dict(zip('^>v<', '>v<^'))\n",
    "        straight  = dict(zip('^<v>', '^<v>'))\n",
    "        turn      = dict(zip('lsr', [left, straight, right]))\n",
    "        next_turn = dict(zip('lsr', 'srl'))\n",
    "        corner    = {'/': dict(zip('^>v<', '>^<v')), '\\\\': dict(zip('^>v<', '<v>^'))}\n",
    "    \n",
    "        self.pos = tuple(np.array(self.pos) + moves[self.face])\n",
    "        new = blueprint.tracks[self.pos]\n",
    "        if new == '+':\n",
    "            self.face = turn[self.turn][self.face]\n",
    "            self.turn = next_turn[self.turn]\n",
    "        if new in ['/', '\\\\']:\n",
    "            self.face = corner[new][self.face]\n",
    "\n",
    "def first_collision():\n",
    "    \n",
    "    carts = blueprint.carts\n",
    "    keep_moving = True\n",
    "    while keep_moving:\n",
    "        carts     = sorted(carts, key=lambda x: x.pos[::-1])\n",
    "        counter   = len(carts)\n",
    "        current   = list(map(lambda x: x.pos, carts))\n",
    "        while counter > 0:\n",
    "            cart = carts.pop(0)\n",
    "            current.pop(0)\n",
    "            cart.step()\n",
    "            carts.append(cart)\n",
    "            if cart.pos in current:\n",
    "                print(','.join(map(str, cart.pos)))\n",
    "                keep_moving = False\n",
    "                break\n",
    "            else:\n",
    "                current.append(cart.pos)\n",
    "                counter -= 1"
   ]
  },
  {
   "cell_type": "markdown",
   "metadata": {},
   "source": [
    "## Test"
   ]
  },
  {
   "cell_type": "code",
   "execution_count": 80,
   "metadata": {},
   "outputs": [
    {
     "name": "stdout",
     "output_type": "stream",
     "text": [
      "7,3\n"
     ]
    }
   ],
   "source": [
    "blueprint = BluePrint('input_test1.txt')\n",
    "first_collision()"
   ]
  },
  {
   "cell_type": "markdown",
   "metadata": {},
   "source": [
    "## Solution"
   ]
  },
  {
   "cell_type": "code",
   "execution_count": 81,
   "metadata": {},
   "outputs": [
    {
     "name": "stdout",
     "output_type": "stream",
     "text": [
      "41,17\n"
     ]
    }
   ],
   "source": [
    "blueprint = BluePrint('input.txt')\n",
    "first_collision()"
   ]
  },
  {
   "cell_type": "markdown",
   "metadata": {},
   "source": [
    "# Part 2"
   ]
  },
  {
   "cell_type": "code",
   "execution_count": 87,
   "metadata": {},
   "outputs": [],
   "source": [
    "def cartnage():\n",
    "    \n",
    "    carts = blueprint.carts\n",
    "    while len(carts) > 1:\n",
    "        carts     = sorted(carts, key=lambda x: x.pos[::-1])\n",
    "        tick      = [1 for x in carts]\n",
    "        current   = list(map(lambda x: x.pos, carts))\n",
    "        while sum(tick) > 0:\n",
    "            cart = carts.pop(0)\n",
    "            current.pop(0)\n",
    "            tick.pop(0)\n",
    "            cart.step()\n",
    "            if cart.pos in current:\n",
    "                indices = [i for i, c in enumerate(carts) if c.pos != cart.pos]\n",
    "                carts = [carts[i] for i in indices]\n",
    "                tick = [tick[i] for i in indices]\n",
    "                current = [x.pos for x in carts]\n",
    "            else:\n",
    "                current.append(cart.pos)\n",
    "                carts.append(cart)\n",
    "                tick.append(0)\n",
    "    print(','.join(map(str, cart.pos)))"
   ]
  },
  {
   "cell_type": "markdown",
   "metadata": {},
   "source": [
    "## Test"
   ]
  },
  {
   "cell_type": "code",
   "execution_count": 88,
   "metadata": {},
   "outputs": [
    {
     "name": "stdout",
     "output_type": "stream",
     "text": [
      "6,4\n"
     ]
    }
   ],
   "source": [
    "blueprint = BluePrint('input_test2.txt')\n",
    "cartnage()"
   ]
  },
  {
   "cell_type": "code",
   "execution_count": 89,
   "metadata": {
    "scrolled": true
   },
   "outputs": [
    {
     "name": "stdout",
     "output_type": "stream",
     "text": [
      "134,117\n"
     ]
    }
   ],
   "source": [
    "blueprint = BluePrint('input.txt')\n",
    "cartnage()"
   ]
  }
 ],
 "metadata": {
  "kernelspec": {
   "display_name": "Python [conda env:adventofcode]",
   "language": "python",
   "name": "conda-env-adventofcode-py"
  },
  "language_info": {
   "codemirror_mode": {
    "name": "ipython",
    "version": 3
   },
   "file_extension": ".py",
   "mimetype": "text/x-python",
   "name": "python",
   "nbconvert_exporter": "python",
   "pygments_lexer": "ipython3",
   "version": "3.5.2"
  }
 },
 "nbformat": 4,
 "nbformat_minor": 2
}
