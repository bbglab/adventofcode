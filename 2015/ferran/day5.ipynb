{
 "cells": [
  {
   "cell_type": "markdown",
   "metadata": {},
   "source": [
    "# Day 5"
   ]
  },
  {
   "cell_type": "code",
   "execution_count": 29,
   "metadata": {
    "ExecuteTime": {
     "end_time": "2017-12-03T01:19:25.316296",
     "start_time": "2017-12-03T01:19:25.295308"
    },
    "collapsed": true
   },
   "outputs": [],
   "source": [
    "import csv\n",
    "import numpy as np\n",
    "\n",
    "string_list = []\n",
    "with open('inputs/input5.txt', 'rt') as f_input:\n",
    "    csv_reader = csv.reader(f_input)\n",
    "    for line in csv_reader:\n",
    "        string_list += line"
   ]
  },
  {
   "cell_type": "markdown",
   "metadata": {
    "ExecuteTime": {
     "end_time": "2017-12-03T00:53:13.569737",
     "start_time": "2017-12-03T00:53:13.558938"
    }
   },
   "source": [
    "## Day 5.1"
   ]
  },
  {
   "cell_type": "code",
   "execution_count": 30,
   "metadata": {
    "ExecuteTime": {
     "end_time": "2017-12-03T01:19:32.469822",
     "start_time": "2017-12-03T01:19:32.415199"
    }
   },
   "outputs": [],
   "source": [
    "def vowel_rule(s):\n",
    "    vowels = list('aeiou')\n",
    "    n = len([digit for digit in list(s) if digit in vowels])\n",
    "    if n >= 3:\n",
    "        return True\n",
    "    return False\n",
    "\n",
    "def two_in_a_row_rule(s):\n",
    "    for i in range(len(s) - 1):\n",
    "        if s[i] == s[i+1]:\n",
    "            return True\n",
    "    return False\n",
    "\n",
    "def forbidden_rule(s):\n",
    "    for item in ['ab', 'cd', 'pq', 'xy']:\n",
    "        if item in s:\n",
    "            return False\n",
    "    return True\n",
    "\n",
    "def nice_string(s):\n",
    "    if forbidden_rule(s):\n",
    "        if vowel_rule(s) and two_in_a_row_rule(s):\n",
    "            return True\n",
    "    return False"
   ]
  },
  {
   "cell_type": "code",
   "execution_count": 31,
   "metadata": {
    "ExecuteTime": {
     "end_time": "2017-12-03T01:19:33.185613",
     "start_time": "2017-12-03T01:19:33.108552"
    }
   },
   "outputs": [
    {
     "data": {
      "text/plain": [
       "236"
      ]
     },
     "execution_count": 31,
     "metadata": {},
     "output_type": "execute_result"
    }
   ],
   "source": [
    "len([s for s in string_list if nice_string(s)])"
   ]
  },
  {
   "cell_type": "markdown",
   "metadata": {},
   "source": [
    "## Day 5.2"
   ]
  },
  {
   "cell_type": "code",
   "execution_count": 60,
   "metadata": {
    "ExecuteTime": {
     "end_time": "2017-12-03T01:38:05.577497",
     "start_time": "2017-12-03T01:38:05.547440"
    },
    "collapsed": true
   },
   "outputs": [],
   "source": [
    "def two_twice(s):\n",
    "    for i in range(len(s) - 3):\n",
    "        if s[i:i+2] in s[i+2:]:\n",
    "            return True\n",
    "    return False\n",
    "\n",
    "def one_leap(s):\n",
    "    for i in range(len(s) - 2):\n",
    "        if s[i] == s[i+2]:\n",
    "            return True\n",
    "    return False\n",
    "\n",
    "def nicest_string(s):\n",
    "    return two_twice(s) and one_leap(s)"
   ]
  },
  {
   "cell_type": "code",
   "execution_count": 61,
   "metadata": {
    "ExecuteTime": {
     "end_time": "2017-12-03T01:38:05.891022",
     "start_time": "2017-12-03T01:38:05.868956"
    }
   },
   "outputs": [
    {
     "data": {
      "text/plain": [
       "51"
      ]
     },
     "execution_count": 61,
     "metadata": {},
     "output_type": "execute_result"
    }
   ],
   "source": [
    "len([s for s in string_list if nicest_string(s)])"
   ]
  },
  {
   "cell_type": "code",
   "execution_count": null,
   "metadata": {
    "collapsed": true
   },
   "outputs": [],
   "source": []
  }
 ],
 "metadata": {
  "kernelspec": {
   "display_name": "Python [conda env:adventofcode]",
   "language": "python",
   "name": "conda-env-adventofcode-py"
  },
  "language_info": {
   "codemirror_mode": {
    "name": "ipython",
    "version": 3
   },
   "file_extension": ".py",
   "mimetype": "text/x-python",
   "name": "python",
   "nbconvert_exporter": "python",
   "pygments_lexer": "ipython3",
   "version": "3.5.2"
  },
  "toc": {
   "colors": {
    "hover_highlight": "#DAA520",
    "running_highlight": "#FF0000",
    "selected_highlight": "#FFD700"
   },
   "moveMenuLeft": true,
   "nav_menu": {
    "height": "66px",
    "width": "252px"
   },
   "navigate_menu": true,
   "number_sections": true,
   "sideBar": true,
   "threshold": 4,
   "toc_cell": false,
   "toc_section_display": "block",
   "toc_window_display": false
  }
 },
 "nbformat": 4,
 "nbformat_minor": 2
}
