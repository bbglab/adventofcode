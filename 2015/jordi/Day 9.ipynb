{
 "cells": [
  {
   "cell_type": "raw",
   "metadata": {},
   "source": [
    "--- Day 9: All in a Single Night ---\n",
    "\n",
    "Every year, Santa manages to deliver all of his presents in a single night.\n",
    "\n",
    "This year, however, he has some new locations to visit; his elves have provided him the distances between every pair of locations. He can start and end at any two (different) locations he wants, but he must visit each location exactly once. What is the shortest distance he can travel to achieve this?\n",
    "\n",
    "For example, given the following distances:\n",
    "\n",
    "London to Dublin = 464\n",
    "London to Belfast = 518\n",
    "Dublin to Belfast = 141\n",
    "The possible routes are therefore:\n",
    "\n",
    "Dublin -> London -> Belfast = 982\n",
    "London -> Dublin -> Belfast = 605\n",
    "London -> Belfast -> Dublin = 659\n",
    "Dublin -> Belfast -> London = 659\n",
    "Belfast -> Dublin -> London = 605\n",
    "Belfast -> London -> Dublin = 982\n",
    "The shortest of these is London -> Dublin -> Belfast = 605, and so the answer is 605 in this example.\n",
    "\n",
    "What is the distance of the shortest route?"
   ]
  },
  {
   "cell_type": "code",
   "execution_count": 21,
   "metadata": {
    "collapsed": true
   },
   "outputs": [],
   "source": [
    "import re\n",
    "import itertools\n",
    "from collections import defaultdict\n",
    "\n",
    "_PARSER = re.compile(\"([a-zA-Z]+) to ([a-zA-Z]+) = ([0-9]+)\")\n",
    "\n",
    "def load_distances(distances):    \n",
    "    city_distances = defaultdict(dict)        \n",
    "    for d in distances:\n",
    "        c_from, c_to, kms = _PARSER.match(d.strip()).groups()\n",
    "        city_distances[c_from][c_to] = kms\n",
    "        city_distances[c_to][c_from] = kms\n",
    "    return city_distances\n",
    "\n",
    "def count_distance(distances, route):\n",
    "    p = route[0]\n",
    "    kms = 0\n",
    "    for c in route[1:]:\n",
    "        kms += int(distances[p][c])\n",
    "        p = c\n",
    "    return kms\n",
    "\n",
    "def find_route(distances, shortest=True):\n",
    "    city_distances = load_distances(distances)\n",
    "    all_cities = list(city_distances.keys())\n",
    "    \n",
    "    min_route = tuple(all_cities)\n",
    "    min_distance = count_distance(city_distances, min_route)\n",
    "    \n",
    "    for route in itertools.permutations(city_distances.keys()):\n",
    "        kms = count_distance(city_distances, route)\n",
    "        if (shortest and kms < min_distance) or (not shortest and kms > min_distance):\n",
    "            min_route = route\n",
    "            min_distance = kms\n",
    "            \n",
    "    return min_route, min_distance"
   ]
  },
  {
   "cell_type": "code",
   "execution_count": 22,
   "metadata": {
    "collapsed": false
   },
   "outputs": [
    {
     "name": "stdout",
     "output_type": "stream",
     "text": [
      "(('Belfast', 'Dublin', 'London'), 605)\n",
      "CPU times: user 148 µs, sys: 8 µs, total: 156 µs\n",
      "Wall time: 164 µs\n"
     ]
    }
   ],
   "source": [
    "%%time\n",
    "\n",
    "# Test example\n",
    "example = [\"London to Dublin = 464\",\"London to Belfast = 518\",\"Dublin to Belfast = 141\"]\n",
    "print(find_route(example))"
   ]
  },
  {
   "cell_type": "code",
   "execution_count": 23,
   "metadata": {
    "collapsed": false
   },
   "outputs": [
    {
     "name": "stdout",
     "output_type": "stream",
     "text": [
      "(('Norrath', 'Faerun', 'Straylight', 'Tristram', 'AlphaCentauri', 'Snowdin', 'Arbre', 'Tambi'), 251)\n",
      "CPU times: user 398 ms, sys: 180 µs, total: 398 ms\n",
      "Wall time: 397 ms\n"
     ]
    }
   ],
   "source": [
    "%%time\n",
    "\n",
    "# Check input\n",
    "with open('day9/input.txt', 'rt') as fd:\n",
    "    print(find_route(fd))"
   ]
  },
  {
   "cell_type": "raw",
   "metadata": {},
   "source": [
    "--- Part Two ---\n",
    "\n",
    "The next year, just to show off, Santa decides to take the route with the longest distance instead.\n",
    "\n",
    "He can still start and end at any two (different) locations he wants, and he still must visit each location exactly once.\n",
    "\n",
    "For example, given the distances above, the longest route would be 982 via (for example) Dublin -> London -> Belfast.\n",
    "\n",
    "What is the distance of the longest route?"
   ]
  },
  {
   "cell_type": "code",
   "execution_count": 24,
   "metadata": {
    "collapsed": false
   },
   "outputs": [
    {
     "name": "stdout",
     "output_type": "stream",
     "text": [
      "(('Belfast', 'London', 'Dublin'), 982)\n",
      "CPU times: user 237 µs, sys: 11 µs, total: 248 µs\n",
      "Wall time: 261 µs\n"
     ]
    }
   ],
   "source": [
    "%%time\n",
    "\n",
    "# Test example\n",
    "example = [\"London to Dublin = 464\",\"London to Belfast = 518\",\"Dublin to Belfast = 141\"]\n",
    "print(find_route(example, shortest=False))"
   ]
  },
  {
   "cell_type": "code",
   "execution_count": 25,
   "metadata": {
    "collapsed": false
   },
   "outputs": [
    {
     "name": "stdout",
     "output_type": "stream",
     "text": [
      "(('Snowdin', 'Tambi', 'Norrath', 'AlphaCentauri', 'Straylight', 'Arbre', 'Faerun', 'Tristram'), 898)\n",
      "CPU times: user 404 ms, sys: 0 ns, total: 404 ms\n",
      "Wall time: 404 ms\n"
     ]
    }
   ],
   "source": [
    "%%time\n",
    "\n",
    "# Check input\n",
    "with open('day9/input.txt', 'rt') as fd:\n",
    "    print(find_route(fd, shortest=False))"
   ]
  },
  {
   "cell_type": "code",
   "execution_count": null,
   "metadata": {
    "collapsed": true
   },
   "outputs": [],
   "source": []
  }
 ],
 "metadata": {
  "kernelspec": {
   "display_name": "Python 3",
   "language": "python",
   "name": "python3"
  },
  "language_info": {
   "codemirror_mode": {
    "name": "ipython",
    "version": 3
   },
   "file_extension": ".py",
   "mimetype": "text/x-python",
   "name": "python",
   "nbconvert_exporter": "python",
   "pygments_lexer": "ipython3",
   "version": "3.4.3"
  }
 },
 "nbformat": 4,
 "nbformat_minor": 0
}
