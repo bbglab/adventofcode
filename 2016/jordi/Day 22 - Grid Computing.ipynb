{
 "cells": [
  {
   "cell_type": "markdown",
   "metadata": {},
   "source": [
    "```\n",
    "--- Day 22: Grid Computing ---\n",
    "\n",
    "You gain access to a massive storage cluster arranged in a grid; each storage node is only connected to the four nodes directly adjacent to it (three if the node is on an edge, two if it's in a corner).\n",
    "\n",
    "You can directly access data only on node /dev/grid/node-x0-y0, but you can perform some limited actions on the other nodes:\n",
    "\n",
    "You can get the disk usage of all nodes (via df). The result of doing this is in your puzzle input.\n",
    "You can instruct a node to move (not copy) all of its data to an adjacent node (if the destination node has enough space to receive the data). The sending node is left empty after this operation.\n",
    "Nodes are named by their position: the node named node-x10-y10 is adjacent to nodes node-x9-y10, node-x11-y10, node-x10-y9, and node-x10-y11.\n",
    "\n",
    "Before you begin, you need to understand the arrangement of data on these nodes. Even though you can only move data between directly connected nodes, you're going to need to rearrange a lot of the data to get access to the data you need. Therefore, you need to work out how you might be able to shift data around.\n",
    "\n",
    "To do this, you'd like to count the number of viable pairs of nodes. A viable pair is any two nodes (A,B), regardless of whether they are directly connected, such that:\n",
    "\n",
    "Node A is not empty (its Used is not zero).\n",
    "Nodes A and B are not the same node.\n",
    "The data on node A (its Used) would fit on node B (its Avail).\n",
    "How many viable pairs of nodes are there?\n",
    "\n",
    "```"
   ]
  },
  {
   "cell_type": "code",
   "execution_count": 1,
   "metadata": {
    "collapsed": false
   },
   "outputs": [],
   "source": [
    "from types import SimpleNamespace\n",
    "from itertools import combinations\n",
    "\n",
    "def parse_input(usage):\n",
    "    nodes = {}\n",
    "    for line in usage:\n",
    "        if not line.startswith(\"/dev/grid/node\"):\n",
    "            continue\n",
    "        node = SimpleNamespace()\n",
    "        name, size, used, avail, use = line.strip().split()\n",
    "        #node.name = name\n",
    "        #node.size = int(size.replace(\"T\", \"\"))\n",
    "        node.used = int(used.replace(\"T\", \"\"))\n",
    "        node.avail = int(avail.replace(\"T\", \"\"))\n",
    "        #node.use = int(use.replace(\"%\", \"\"))\n",
    "        _, x, y = name.split('-')\n",
    "        node.key = (int(x.replace(\"x\", \"\")), int(y.replace(\"y\", \"\")))\n",
    "        nodes[node.key] = node\n",
    "    return nodes\n",
    "\n",
    "def viable_pairs(nodes):\n",
    "    viable = set()\n",
    "    for a, b in combinations(nodes.values(), 2):\n",
    "        if (a.used != 0 and a.used <= b.avail) or (b.used != 0 and b.used <= a.avail):\n",
    "            viable.add(tuple(sorted([a.key, b.key])))\n",
    "    return viable        "
   ]
  },
  {
   "cell_type": "code",
   "execution_count": 2,
   "metadata": {
    "collapsed": false
   },
   "outputs": [
    {
     "name": "stdout",
     "output_type": "stream",
     "text": [
      "987\n",
      "CPU times: user 220 ms, sys: 0 ns, total: 220 ms\n",
      "Wall time: 224 ms\n"
     ]
    }
   ],
   "source": [
    "%%time\n",
    "with open('inputs/day22.txt', 'rt') as fd:\n",
    "    nodes = parse_input(fd)\n",
    "    viable = viable_pairs(nodes)\n",
    "    print(len(viable))"
   ]
  },
  {
   "cell_type": "markdown",
   "metadata": {},
   "source": [
    "```\n",
    "--- Part Two ---\n",
    "\n",
    "Now that you have a better understanding of the grid, it's time to get to work.\n",
    "\n",
    "Your goal is to gain access to the data which begins in the node with y=0 and the highest x (that is, the node in the top-right corner).\n",
    "\n",
    "For example, suppose you have the following grid:\n",
    "\n",
    "Filesystem            Size  Used  Avail  Use%\n",
    "/dev/grid/node-x0-y0   10T    8T     2T   80%\n",
    "/dev/grid/node-x0-y1   11T    6T     5T   54%\n",
    "/dev/grid/node-x0-y2   32T   28T     4T   87%\n",
    "/dev/grid/node-x1-y0    9T    7T     2T   77%\n",
    "/dev/grid/node-x1-y1    8T    0T     8T    0%\n",
    "/dev/grid/node-x1-y2   11T    7T     4T   63%\n",
    "/dev/grid/node-x2-y0   10T    6T     4T   60%\n",
    "/dev/grid/node-x2-y1    9T    8T     1T   88%\n",
    "/dev/grid/node-x2-y2    9T    6T     3T   66%\n",
    "In this example, you have a storage grid 3 nodes wide and 3 nodes tall. The node you can access directly, node-x0-y0, is almost full. The node containing the data you want to access, node-x2-y0 (because it has y=0 and the highest x value), contains 6 terabytes of data - enough to fit on your node, if only you could make enough space to move it there.\n",
    "\n",
    "Fortunately, node-x1-y1 looks like it has enough free space to enable you to move some of this data around. In fact, it seems like all of the nodes have enough space to hold any node's data (except node-x0-y2, which is much larger, very full, and not moving any time soon). So, initially, the grid's capacities and connections look like this:\n",
    "\n",
    "( 8T/10T) --  7T/ 9T -- [ 6T/10T]\n",
    "    |           |           |\n",
    "  6T/11T  --  0T/ 8T --   8T/ 9T\n",
    "    |           |           |\n",
    " 28T/32T  --  7T/11T --   6T/ 9T\n",
    "The node you can access directly is in parentheses; the data you want starts in the node marked by square brackets.\n",
    "\n",
    "In this example, most of the nodes are interchangable: they're full enough that no other node's data would fit, but small enough that their data could be moved around. Let's draw these nodes as .. The exceptions are the empty node, which we'll draw as _, and the very large, very full node, which we'll draw as #. Let's also draw the goal data as G. Then, it looks like this:\n",
    "\n",
    "(.) .  G\n",
    " .  _  .\n",
    " #  .  .\n",
    "The goal is to move the data in the top right, G, to the node in parentheses. To do this, we can issue some commands to the grid and rearrange the data:\n",
    "\n",
    "Move data from node-y0-x1 to node-y1-x1, leaving node node-y0-x1 empty:\n",
    "\n",
    "(.) _  G\n",
    " .  .  .\n",
    " #  .  .\n",
    "Move the goal data from node-y0-x2 to node-y0-x1:\n",
    "\n",
    "(.) G  _\n",
    " .  .  .\n",
    " #  .  .\n",
    "At this point, we're quite close. However, we have no deletion command, so we have to move some more data around. So, next, we move the data from node-y1-x2 to node-y0-x2:\n",
    "\n",
    "(.) G  .\n",
    " .  .  _\n",
    " #  .  .\n",
    "Move the data from node-y1-x1 to node-y1-x2:\n",
    "\n",
    "(.) G  .\n",
    " .  _  .\n",
    " #  .  .\n",
    "Move the data from node-y1-x0 to node-y1-x1:\n",
    "\n",
    "(.) G  .\n",
    " _  .  .\n",
    " #  .  .\n",
    "Next, we can free up space on our node by moving the data from node-y0-x0 to node-y1-x0:\n",
    "\n",
    "(_) G  .\n",
    " .  .  .\n",
    " #  .  .\n",
    "Finally, we can access the goal data by moving the it from node-y0-x1 to node-y0-x0:\n",
    "\n",
    "(G) _  .\n",
    " .  .  .\n",
    " #  .  .\n",
    "So, after 7 steps, we've accessed the data we want. Unfortunately, each of these moves takes time, and we need to be efficient:\n",
    "\n",
    "What is the fewest number of steps required to move your goal data to node-x0-y0?\n",
    "\n",
    "```"
   ]
  },
  {
   "cell_type": "code",
   "execution_count": null,
   "metadata": {
    "collapsed": true
   },
   "outputs": [],
   "source": []
  }
 ],
 "metadata": {
  "anaconda-cloud": {},
  "kernelspec": {
   "display_name": "Python [conda env:adventofcode]",
   "language": "python",
   "name": "conda-env-adventofcode-py"
  },
  "language_info": {
   "codemirror_mode": {
    "name": "ipython",
    "version": 3
   },
   "file_extension": ".py",
   "mimetype": "text/x-python",
   "name": "python",
   "nbconvert_exporter": "python",
   "pygments_lexer": "ipython3",
   "version": "3.5.2"
  }
 },
 "nbformat": 4,
 "nbformat_minor": 1
}
