{
 "cells": [
  {
   "cell_type": "markdown",
   "metadata": {},
   "source": [
    "# From day 10"
   ]
  },
  {
   "cell_type": "code",
   "execution_count": 7,
   "metadata": {},
   "outputs": [
    {
     "data": {
      "text/plain": [
       "knot_hash (generic function with 1 method)"
      ]
     },
     "execution_count": 7,
     "metadata": {},
     "output_type": "execute_result"
    }
   ],
   "source": [
    "function knot_hash_base(lens, size=256, rounds=1)\n",
    "    i = 0\n",
    "    skip = 0\n",
    "    elem = collect(0:(size)-1)    \n",
    "    for r = 1:rounds\n",
    "        for l in lens\n",
    "            elem = circshift(reverse(circshift(elem, -i), 1, l), i)\n",
    "            i = (i + l + skip) % size\n",
    "            skip += 1        \n",
    "        end\n",
    "    end    \n",
    "    elem\n",
    "end\n",
    "\n",
    "function encode_str(values)\n",
    "    vcat(map(Int, collect(values)), [17, 31, 73, 47, 23])\n",
    "end\n",
    "\n",
    "function encode_hexa(elem)\n",
    "    elem = reshape(elem, (16, 16))\n",
    "    elem = mapslices(c->reduce(xor,0,c), elem, 1)\n",
    "    join(map(x->hex(x,2), elem))\n",
    "end\n",
    "\n",
    "function knot_hash(value)\n",
    "    encode_hexa(knot_hash_base(encode_str(value), 256, 64))\n",
    "end"
   ]
  },
  {
   "cell_type": "markdown",
   "metadata": {},
   "source": [
    "# Part 1"
   ]
  },
  {
   "cell_type": "code",
   "execution_count": 38,
   "metadata": {},
   "outputs": [
    {
     "data": {
      "text/plain": [
       "fragmentation_matrix (generic function with 1 method)"
      ]
     },
     "execution_count": 38,
     "metadata": {},
     "output_type": "execute_result"
    }
   ],
   "source": [
    "function fragmentation_matrix(key)\n",
    "    [[(c == '1' ? 1 : 0) for b in map(bits, hex2bytes(knot_hash(key*\"-\"*string(row)))) for c in collect(b)] for row=0:127]\n",
    "end"
   ]
  },
  {
   "cell_type": "code",
   "execution_count": 41,
   "metadata": {},
   "outputs": [
    {
     "data": {
      "text/plain": [
       "8108"
      ]
     },
     "execution_count": 41,
     "metadata": {},
     "output_type": "execute_result"
    }
   ],
   "source": [
    "sum(sum(fragmentation_matrix(\"flqrgnkx\")))"
   ]
  },
  {
   "cell_type": "code",
   "execution_count": 42,
   "metadata": {},
   "outputs": [
    {
     "data": {
      "text/plain": [
       "8148"
      ]
     },
     "execution_count": 42,
     "metadata": {},
     "output_type": "execute_result"
    }
   ],
   "source": [
    "sum(sum(fragmentation_matrix(\"vbqugkhl\")))"
   ]
  },
  {
   "cell_type": "markdown",
   "metadata": {},
   "source": [
    "# Part 2"
   ]
  },
  {
   "cell_type": "code",
   "execution_count": 67,
   "metadata": {},
   "outputs": [
    {
     "data": {
      "text/plain": [
       "count_regions (generic function with 1 method)"
      ]
     },
     "execution_count": 67,
     "metadata": {},
     "output_type": "execute_result"
    }
   ],
   "source": [
    "function fill_region(m, r, c, region)\n",
    "    if r>0 && r<129 && c>0 && c<129 && m[r][c]==1\n",
    "        m[r][c] = region\n",
    "        fill_region(m, r-1,   c, region)\n",
    "        fill_region(m, r  , c-1, region)\n",
    "        fill_region(m, r+1,   c, region)\n",
    "        fill_region(m, r  , c+1, region)\n",
    "    end\n",
    "end        \n",
    "\n",
    "function count_regions(key)\n",
    "    m = fragmentation_matrix(key)\n",
    "    region = 2\n",
    "    for r=1:128\n",
    "        for c=1:128\n",
    "            if m[r][c] == 1\n",
    "                fill_region(m, r, c, region)\n",
    "                region += 1\n",
    "            end\n",
    "        end\n",
    "    end\n",
    "    region - 2\n",
    "end"
   ]
  },
  {
   "cell_type": "code",
   "execution_count": 68,
   "metadata": {},
   "outputs": [
    {
     "data": {
      "text/plain": [
       "1242"
      ]
     },
     "execution_count": 68,
     "metadata": {},
     "output_type": "execute_result"
    }
   ],
   "source": [
    "count_regions(\"flqrgnkx\")"
   ]
  },
  {
   "cell_type": "code",
   "execution_count": 70,
   "metadata": {},
   "outputs": [
    {
     "data": {
      "text/plain": [
       "1180"
      ]
     },
     "execution_count": 70,
     "metadata": {},
     "output_type": "execute_result"
    }
   ],
   "source": [
    "count_regions(\"vbqugkhl\")"
   ]
  },
  {
   "cell_type": "code",
   "execution_count": null,
   "metadata": {
    "collapsed": true
   },
   "outputs": [],
   "source": []
  }
 ],
 "metadata": {
  "kernelspec": {
   "display_name": "Julia 0.6.1",
   "language": "julia",
   "name": "julia-0.6"
  },
  "language_info": {
   "file_extension": ".jl",
   "mimetype": "application/julia",
   "name": "julia",
   "version": "0.6.1"
  }
 },
 "nbformat": 4,
 "nbformat_minor": 2
}
