{
 "cells": [
  {
   "cell_type": "markdown",
   "metadata": {},
   "source": [
    "# Part 1 & 2"
   ]
  },
  {
   "cell_type": "code",
   "execution_count": 1,
   "metadata": {},
   "outputs": [
    {
     "data": {
      "text/plain": [
       "distance (generic function with 1 method)"
      ]
     },
     "execution_count": 1,
     "metadata": {},
     "output_type": "execute_result"
    }
   ],
   "source": [
    "directions = Dict(\n",
    "    \"n\" =>[ 0, 1,-1],\n",
    "    \"s\" =>[ 0,-1, 1],\n",
    "    \"ne\"=>[ 1, 0,-1],\n",
    "    \"sw\"=>[-1, 0, 1],    \n",
    "    \"se\"=>[ 1,-1, 0],\n",
    "    \"nw\"=>[-1, 1, 0]\n",
    ")\n",
    "\n",
    "function distance(steps)\n",
    "    m = 0\n",
    "    p = [0, 0, 0]\n",
    "    for s in steps\n",
    "        p += directions[s]\n",
    "        m = max(m, sum(abs, p))\n",
    "    end\n",
    "    (div(sum(abs, p), 2), div(m, 2))\n",
    "end"
   ]
  },
  {
   "cell_type": "code",
   "execution_count": 2,
   "metadata": {},
   "outputs": [
    {
     "data": {
      "text/plain": [
       "(3, 3)"
      ]
     },
     "execution_count": 2,
     "metadata": {},
     "output_type": "execute_result"
    }
   ],
   "source": [
    "distance([\"ne\", \"ne\", \"ne\"])"
   ]
  },
  {
   "cell_type": "code",
   "execution_count": 3,
   "metadata": {},
   "outputs": [
    {
     "data": {
      "text/plain": [
       "(0, 2)"
      ]
     },
     "execution_count": 3,
     "metadata": {},
     "output_type": "execute_result"
    }
   ],
   "source": [
    "distance([\"ne\",\"ne\",\"sw\",\"sw\"])"
   ]
  },
  {
   "cell_type": "code",
   "execution_count": 4,
   "metadata": {},
   "outputs": [
    {
     "data": {
      "text/plain": [
       "(824, 1548)"
      ]
     },
     "execution_count": 4,
     "metadata": {},
     "output_type": "execute_result"
    }
   ],
   "source": [
    "open(\"inputs/day11.txt\") do fd\n",
    "    steps = split(strip(readstring(fd)), ',')\n",
    "    distance(steps)\n",
    "end"
   ]
  },
  {
   "cell_type": "code",
   "execution_count": null,
   "metadata": {
    "collapsed": true
   },
   "outputs": [],
   "source": []
  }
 ],
 "metadata": {
  "kernelspec": {
   "display_name": "Julia 0.6.1",
   "language": "julia",
   "name": "julia-0.6"
  },
  "language_info": {
   "file_extension": ".jl",
   "mimetype": "application/julia",
   "name": "julia",
   "version": "0.6.1"
  }
 },
 "nbformat": 4,
 "nbformat_minor": 2
}
