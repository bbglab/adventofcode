{
 "cells": [
  {
   "cell_type": "markdown",
   "metadata": {
    "collapsed": false
   },
   "source": [
    "# Chellenge 5\n",
    "\n",
    "## Challenge 5.1"
   ]
  },
  {
   "cell_type": "code",
   "execution_count": 43,
   "metadata": {
    "collapsed": true
   },
   "outputs": [],
   "source": [
    "myinput = 'uqwqemis'"
   ]
  },
  {
   "cell_type": "code",
   "execution_count": 32,
   "metadata": {
    "collapsed": false
   },
   "outputs": [],
   "source": [
    "import hashlib\n",
    "\n",
    "def md5hash(myinput):\n",
    "    hasher = hashlib.md5()\n",
    "    hasher.update(myinput.encode('utf-8'))\n",
    "    return hasher.hexdigest()\n",
    "\n",
    "def is_valid(myhash):\n",
    "    lower_bound = int('0x' + '00000' + 'f'*27, 16)\n",
    "    if int(myhash, 16) > lower_bound:\n",
    "        return False\n",
    "    else:\n",
    "        return True\n",
    "\n",
    "def password(myinput):\n",
    "    i = 0\n",
    "    j = 0\n",
    "    pswd = ''\n",
    "    while i < len(myinput):\n",
    "        myhash = md5hash(myinput + str(j))\n",
    "        if is_valid(myhash):\n",
    "            pswd += myhash[5]\n",
    "            i += 1\n",
    "        j += 1\n",
    "    return pswd"
   ]
  },
  {
   "cell_type": "code",
   "execution_count": 33,
   "metadata": {
    "collapsed": false
   },
   "outputs": [
    {
     "data": {
      "text/plain": [
       "'1a3099aa'"
      ]
     },
     "execution_count": 33,
     "metadata": {},
     "output_type": "execute_result"
    }
   ],
   "source": [
    "password(myinput)"
   ]
  },
  {
   "cell_type": "markdown",
   "metadata": {},
   "source": [
    "## Challenge 5.2"
   ]
  },
  {
   "cell_type": "code",
   "execution_count": 45,
   "metadata": {
    "collapsed": false
   },
   "outputs": [],
   "source": [
    "def complex_password(myinput):\n",
    "    i = 0\n",
    "    j = 0\n",
    "    pswd = [None] * len(myinput)\n",
    "    while i < len(myinput):\n",
    "        myhash = md5hash(myinput + str(j))\n",
    "        if is_valid(myhash):\n",
    "            pos = int(myhash[5], 16)\n",
    "            if (pos in range(len(myinput))) and (pswd[pos] is None):\n",
    "                pswd[pos] = myhash[6]\n",
    "                i += 1\n",
    "        j += 1\n",
    "    return ''.join(pswd)"
   ]
  },
  {
   "cell_type": "code",
   "execution_count": 46,
   "metadata": {
    "collapsed": false
   },
   "outputs": [
    {
     "data": {
      "text/plain": [
       "'694190cd'"
      ]
     },
     "execution_count": 46,
     "metadata": {},
     "output_type": "execute_result"
    }
   ],
   "source": [
    "complex_password(myinput)"
   ]
  },
  {
   "cell_type": "code",
   "execution_count": null,
   "metadata": {
    "collapsed": true
   },
   "outputs": [],
   "source": []
  }
 ],
 "metadata": {
  "anaconda-cloud": {},
  "kernelspec": {
   "display_name": "Python [conda env:adventofcode]",
   "language": "python",
   "name": "conda-env-adventofcode-py"
  },
  "language_info": {
   "codemirror_mode": {
    "name": "ipython",
    "version": 3
   },
   "file_extension": ".py",
   "mimetype": "text/x-python",
   "name": "python",
   "nbconvert_exporter": "python",
   "pygments_lexer": "ipython3",
   "version": "3.5.2"
  }
 },
 "nbformat": 4,
 "nbformat_minor": 1
}
