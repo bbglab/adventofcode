{
 "cells": [
  {
   "cell_type": "markdown",
   "metadata": {},
   "source": [
    "\n",
    "# Part 1 "
   ]
  },
  {
   "cell_type": "code",
   "execution_count": 309,
   "metadata": {},
   "outputs": [],
   "source": [
    "dd={}\n",
    "i=0\n",
    "with open('input_day8.txt','r') as file:\n",
    "    for line in file:\n",
    "        dd[i]=[line.strip().split(' ')[0],int(line.strip().split(' ')[1]),False]\n",
    "        i+=1"
   ]
  },
  {
   "cell_type": "code",
   "execution_count": 310,
   "metadata": {},
   "outputs": [],
   "source": [
    "line=0\n",
    "accumulator=0"
   ]
  },
  {
   "cell_type": "code",
   "execution_count": 311,
   "metadata": {},
   "outputs": [],
   "source": [
    "def go_next_line(line, accum, d):\n",
    "    if d[line][0]=='acc':\n",
    "        d[line][2]=True\n",
    "        accum+=d[line][1]\n",
    "        line+=1\n",
    "        \n",
    "    elif d[line][0]=='jmp':\n",
    "        d[line][2]=True\n",
    "        line+=d[line][1]\n",
    "              \n",
    "    elif d[line][0]=='nop':\n",
    "        d[line][2]=True\n",
    "        line+=1\n",
    "\n",
    "    return(line,accum,d)"
   ]
  },
  {
   "cell_type": "code",
   "execution_count": 312,
   "metadata": {},
   "outputs": [],
   "source": [
    "while dd[line][2]==False:\n",
    "    (line,accumulator,dd)=go_next_line(line, accumulator,dd)\n"
   ]
  },
  {
   "cell_type": "code",
   "execution_count": 313,
   "metadata": {},
   "outputs": [
    {
     "data": {
      "text/plain": [
       "1521"
      ]
     },
     "execution_count": 313,
     "metadata": {},
     "output_type": "execute_result"
    }
   ],
   "source": [
    "accumulator\n",
    "\n"
   ]
  },
  {
   "cell_type": "markdown",
   "metadata": {},
   "source": [
    "# Part 2"
   ]
  },
  {
   "cell_type": "code",
   "execution_count": 314,
   "metadata": {},
   "outputs": [],
   "source": [
    "import copy"
   ]
  },
  {
   "cell_type": "code",
   "execution_count": 315,
   "metadata": {},
   "outputs": [],
   "source": [
    "dd={}\n",
    "i=0\n",
    "with open('input_day8.txt','r') as file:\n",
    "    for line in file:\n",
    "        dd[i]=[line.strip().split(' ')[0],int(line.strip().split(' ')[1]),False]\n",
    "        i+=1"
   ]
  },
  {
   "cell_type": "code",
   "execution_count": 316,
   "metadata": {},
   "outputs": [],
   "source": [
    "indexes_jmp=[x for x in dd.keys() if dd[x][0]=='jmp']\n",
    "indexes_nop=[x for x in dd.keys() if dd[x][0]=='nop']"
   ]
  },
  {
   "cell_type": "code",
   "execution_count": 317,
   "metadata": {},
   "outputs": [],
   "source": [
    "def check_if_correct(d):\n",
    "    line=0\n",
    "    accumulator=0\n",
    "    while d[line][2]==False:\n",
    "        (line,accumulator,d)=go_next_line(line, accumulator,d)\n",
    "        if line==len(d):\n",
    "            return (line,accumulator)\n",
    "    \n",
    "    return False"
   ]
  },
  {
   "cell_type": "code",
   "execution_count": 318,
   "metadata": {},
   "outputs": [],
   "source": [
    "def search_correct(index_list):\n",
    "    for j in index_list:\n",
    "        d2=copy.deepcopy(dd)\n",
    "        if d2[index_list[0]][0]=='jmp':\n",
    "            d2[j][0]='nop'\n",
    "        elif d2[index_list[0]][0]=='nop':\n",
    "            d2[j][0]='jmp'\n",
    "        res=check_if_correct(d2)\n",
    "        if res:\n",
    "            return (j,res)\n",
    "    return('None is correct')\n",
    "        "
   ]
  },
  {
   "cell_type": "code",
   "execution_count": 319,
   "metadata": {},
   "outputs": [
    {
     "name": "stdout",
     "output_type": "stream",
     "text": [
      "(327, (638, 1016))\n",
      "None is correct\n"
     ]
    }
   ],
   "source": [
    "print(search_correct(indexes_jmp))\n",
    "print(search_correct(indexes_nop))"
   ]
  }
 ],
 "metadata": {
  "kernelspec": {
   "display_name": "Python 3",
   "language": "python",
   "name": "python3"
  },
  "language_info": {
   "codemirror_mode": {
    "name": "ipython",
    "version": 3
   },
   "file_extension": ".py",
   "mimetype": "text/x-python",
   "name": "python",
   "nbconvert_exporter": "python",
   "pygments_lexer": "ipython3",
   "version": "3.8.5"
  }
 },
 "nbformat": 4,
 "nbformat_minor": 4
}
