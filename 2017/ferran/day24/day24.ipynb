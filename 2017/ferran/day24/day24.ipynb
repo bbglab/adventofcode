{
 "cells": [
  {
   "cell_type": "markdown",
   "metadata": {},
   "source": [
    "# Electromagnetic Moat"
   ]
  },
  {
   "cell_type": "code",
   "execution_count": 4,
   "metadata": {
    "ExecuteTime": {
     "end_time": "2017-12-24T09:21:29.454088",
     "start_time": "2017-12-24T09:21:29.439316"
    }
   },
   "outputs": [],
   "source": [
    "bricks = []\n",
    "with open('input.txt', 'rt') as f_input:\n",
    "    for line in f_input:\n",
    "        br = tuple(map(int, line.rstrip().split('/')))\n",
    "        bricks.append(br)"
   ]
  },
  {
   "cell_type": "markdown",
   "metadata": {},
   "source": [
    "## Part 1"
   ]
  },
  {
   "cell_type": "code",
   "execution_count": 34,
   "metadata": {
    "ExecuteTime": {
     "end_time": "2017-12-24T09:55:48.383259",
     "start_time": "2017-12-24T09:55:48.316475"
    }
   },
   "outputs": [],
   "source": [
    "def bridges(bricks):\n",
    "    queue = [([br], br[not br.index(0)]) for br in bricks if 0 in br]\n",
    "    max_score = 0\n",
    "    while queue:\n",
    "        bridge, head = queue.pop(0)\n",
    "        extended = False\n",
    "        for br in bricks:\n",
    "            if (br not in bridge) and (head in br):\n",
    "                extended = True\n",
    "                new_bridge = bridge[:] + [br]\n",
    "                new_head = br[not br.index(head)]\n",
    "                queue.append((new_bridge, new_head))\n",
    "        if not extended:\n",
    "            score = sum(map(sum, bridge))\n",
    "            if score > max_score: \n",
    "                max_score = score\n",
    "                max_score_bridge = bridge[:]\n",
    "    return max_score, max_score_bridge"
   ]
  },
  {
   "cell_type": "code",
   "execution_count": 35,
   "metadata": {
    "ExecuteTime": {
     "end_time": "2017-12-24T09:56:31.236291",
     "start_time": "2017-12-24T09:56:04.218824"
    }
   },
   "outputs": [],
   "source": [
    "max_score, max_score_bridge = bridges(bricks)"
   ]
  },
  {
   "cell_type": "code",
   "execution_count": 36,
   "metadata": {
    "ExecuteTime": {
     "end_time": "2017-12-24T09:56:52.389322",
     "start_time": "2017-12-24T09:56:52.384052"
    }
   },
   "outputs": [
    {
     "name": "stdout",
     "output_type": "stream",
     "text": [
      "[(0, 39), (39, 30), (30, 35), (41, 35), (32, 41), (3, 32), (17, 3), (46, 17), (46, 50), (41, 50), (49, 41), (49, 4), (4, 30), (44, 30), (40, 44), (23, 40), (38, 23), (38, 20), (20, 24), (24, 14), (14, 45), (47, 45), (47, 11), (45, 11), (45, 50), (50, 36), (36, 31), (5, 31), (5, 5), (44, 5), (29, 44), (29, 29), (29, 12)]\n"
     ]
    }
   ],
   "source": [
    "print(max_score_bridge)"
   ]
  },
  {
   "cell_type": "code",
   "execution_count": 37,
   "metadata": {
    "ExecuteTime": {
     "end_time": "2017-12-24T09:57:01.213944",
     "start_time": "2017-12-24T09:57:01.206401"
    }
   },
   "outputs": [
    {
     "name": "stdout",
     "output_type": "stream",
     "text": [
      "2006\n"
     ]
    }
   ],
   "source": [
    "print(max_score)"
   ]
  },
  {
   "cell_type": "markdown",
   "metadata": {},
   "source": [
    "## Part 2"
   ]
  },
  {
   "cell_type": "code",
   "execution_count": 76,
   "metadata": {
    "ExecuteTime": {
     "end_time": "2017-12-24T10:30:46.602518",
     "start_time": "2017-12-24T10:30:46.562415"
    }
   },
   "outputs": [],
   "source": [
    "import operator\n",
    "\n",
    "def longest_bridge(bricks):\n",
    "    queue = [([br], br[not br.index(0)]) for br in bricks if 0 in br]\n",
    "    max_len_strength = (1, 0)\n",
    "    while queue:\n",
    "        bridge, head = queue.pop(0)\n",
    "        extended = False\n",
    "        for br in bricks:\n",
    "            if (br not in bridge) and (head in br):\n",
    "                extended = True\n",
    "                new_bridge = bridge[:] + [br]\n",
    "                new_head = br[not br.index(head)]\n",
    "                queue.append((new_bridge, new_head))\n",
    "        if not extended:\n",
    "            length = len(bridge)\n",
    "            strength = sum(map(sum, bridge))\n",
    "            if (length, strength) > max_len_strength:\n",
    "                max_len_strength = (length, strength)\n",
    "                max_score_bridge = bridge[:]\n",
    "    return max_len_strength, max_score_bridge"
   ]
  },
  {
   "cell_type": "markdown",
   "metadata": {},
   "source": [
    "### Solution"
   ]
  },
  {
   "cell_type": "code",
   "execution_count": 77,
   "metadata": {
    "ExecuteTime": {
     "end_time": "2017-12-24T10:31:18.606127",
     "start_time": "2017-12-24T10:30:52.182504"
    }
   },
   "outputs": [],
   "source": [
    "max_score, max_score_bridge = longest_bridge(bricks)"
   ]
  },
  {
   "cell_type": "code",
   "execution_count": 78,
   "metadata": {
    "ExecuteTime": {
     "end_time": "2017-12-24T10:31:22.619354",
     "start_time": "2017-12-24T10:31:22.603534"
    }
   },
   "outputs": [
    {
     "name": "stdout",
     "output_type": "stream",
     "text": [
      "(34, 1994)\n"
     ]
    }
   ],
   "source": [
    "print(max_score)"
   ]
  },
  {
   "cell_type": "code",
   "execution_count": 79,
   "metadata": {
    "ExecuteTime": {
     "end_time": "2017-12-24T10:31:29.879767",
     "start_time": "2017-12-24T10:31:29.855387"
    }
   },
   "outputs": [
    {
     "name": "stdout",
     "output_type": "stream",
     "text": [
      "[(0, 39), (39, 30), (30, 35), (41, 35), (32, 41), (3, 32), (17, 3), (2, 17), (2, 31), (36, 31), (50, 36), (41, 50), (49, 41), (49, 4), (4, 30), (44, 30), (44, 5), (5, 5), (5, 37), (20, 37), (38, 20), (38, 23), (23, 40), (40, 24), (24, 14), (14, 45), (47, 45), (47, 11), (45, 11), (45, 50), (46, 50), (46, 17), (22, 17), (22, 48)]\n"
     ]
    }
   ],
   "source": [
    "print(max_score_bridge)"
   ]
  }
 ],
 "metadata": {
  "kernelspec": {
   "display_name": "Python [conda env:adventofcode]",
   "language": "python",
   "name": "conda-env-adventofcode-py"
  },
  "language_info": {
   "codemirror_mode": {
    "name": "ipython",
    "version": 3
   },
   "file_extension": ".py",
   "mimetype": "text/x-python",
   "name": "python",
   "nbconvert_exporter": "python",
   "pygments_lexer": "ipython3",
   "version": "3.5.2"
  },
  "toc": {
   "colors": {
    "hover_highlight": "#DAA520",
    "running_highlight": "#FF0000",
    "selected_highlight": "#FFD700"
   },
   "moveMenuLeft": true,
   "nav_menu": {
    "height": "66px",
    "width": "252px"
   },
   "navigate_menu": true,
   "number_sections": true,
   "sideBar": true,
   "threshold": 4,
   "toc_cell": false,
   "toc_section_display": "block",
   "toc_window_display": false
  }
 },
 "nbformat": 4,
 "nbformat_minor": 2
}
