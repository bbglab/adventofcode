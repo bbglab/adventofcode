{
 "cells": [
  {
   "cell_type": "markdown",
   "metadata": {
    "collapsed": false
   },
   "source": [
    "# Chellenge 8\n",
    "\n",
    "## Challenge 8.1"
   ]
  },
  {
   "cell_type": "code",
   "execution_count": 84,
   "metadata": {
    "collapsed": true
   },
   "outputs": [],
   "source": [
    "myinput = '/home/fmuinos/projects/adventofcode/2016/ferran/inputs/input8.txt'"
   ]
  },
  {
   "cell_type": "code",
   "execution_count": 85,
   "metadata": {
    "collapsed": false
   },
   "outputs": [],
   "source": [
    "import matplotlib.pyplot as plt\n",
    "import numpy as np\n",
    "\n",
    "class Screen(set):\n",
    "    \n",
    "    def __init__(self, *args, **kwds):\n",
    "        super(Screen, self).__init__(*args, **kwds)\n",
    "\n",
    "    def rect(self, a, b):\n",
    "        for i in range(a):\n",
    "            for j in range(b):\n",
    "                self.add((i,j))\n",
    "\n",
    "    def col(self, a, b):\n",
    "        tmp = set([])\n",
    "        for j in range(6):\n",
    "            if (a,j) in self:\n",
    "                tmp.add((a,(j+b)%6))\n",
    "                self.remove((a,j))\n",
    "        for item in tmp:\n",
    "            self.add(item)\n",
    "\n",
    "    def row(self, a, b):\n",
    "        tmp = set([])\n",
    "        for i in range(50):\n",
    "            if (i,a) in self:\n",
    "                tmp.add(((i+b)%50,a))\n",
    "                self.remove((i,a))\n",
    "        for item in tmp:\n",
    "            self.add(item)\n",
    "    def plot(self):\n",
    "        g = np.zeros((6, 50))\n",
    "        for item in self:\n",
    "            g[item[1], item[0]] = 1\n",
    "        plt.tick_params(axis='both', length=0, labelsize=0)\n",
    "        plt.imshow(g, cmap='Greys',  interpolation='nearest')\n",
    "        plt.show()"
   ]
  },
  {
   "cell_type": "code",
   "execution_count": 86,
   "metadata": {
    "collapsed": false
   },
   "outputs": [],
   "source": [
    "import re\n",
    "\n",
    "def read_command(mystr):\n",
    "    p = re.compile('(rect|row|col)')\n",
    "    op = p.search(mystr).group()\n",
    "    cross = re.compile('\\d+x\\d+')\n",
    "    by = re.compile('\\d+ by \\d+')\n",
    "    if op == 'rect':\n",
    "        size = cross.search(mystr).group().split('x')\n",
    "    if op == 'row' or op == 'col':\n",
    "        size = by.search(mystr).group().split(' by ')\n",
    "    return op, int(size[0]), int(size[1])\n",
    "\n",
    "def read_card(myinput):\n",
    "    screen = Screen()\n",
    "    with open(myinput, 'rt') as f:\n",
    "        for line in f:\n",
    "            try:\n",
    "                op, a, b = read_command(line)\n",
    "                getattr(screen, op)(a,b)\n",
    "            except:\n",
    "                pass\n",
    "    return screen"
   ]
  },
  {
   "cell_type": "code",
   "execution_count": 87,
   "metadata": {
    "collapsed": false
   },
   "outputs": [
    {
     "data": {
      "text/plain": [
       "110"
      ]
     },
     "execution_count": 87,
     "metadata": {},
     "output_type": "execute_result"
    }
   ],
   "source": [
    "screen = read_card(myinput1)\n",
    "len(screen)"
   ]
  },
  {
   "cell_type": "markdown",
   "metadata": {},
   "source": [
    "## Challenge 8.2"
   ]
  },
  {
   "cell_type": "code",
   "execution_count": 88,
   "metadata": {
    "collapsed": false
   },
   "outputs": [
    {
     "data": {
      "image/png": "[encoded data removed]",
      "text/plain": [
       "<matplotlib.figure.Figure at 0x7f0f928fd2b0>"
      ]
     },
     "metadata": {},
     "output_type": "display_data"
    }
   ],
   "source": [
    "screen.plot()"
   ]
  }
 ],
 "metadata": {
  "anaconda-cloud": {},
  "kernelspec": {
   "display_name": "Python [conda env:adventofcode]",
   "language": "python",
   "name": "conda-env-adventofcode-py"
  },
  "language_info": {
   "codemirror_mode": {
    "name": "ipython",
    "version": 3
   },
   "file_extension": ".py",
   "mimetype": "text/x-python",
   "name": "python",
   "nbconvert_exporter": "python",
   "pygments_lexer": "ipython3",
   "version": "3.5.2"
  }
 },
 "nbformat": 4,
 "nbformat_minor": 1
}
