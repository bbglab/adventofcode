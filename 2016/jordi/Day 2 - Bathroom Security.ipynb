{
 "cells": [
  {
   "cell_type": "markdown",
   "metadata": {},
   "source": [
    "```\n",
    "You arrive at Easter Bunny Headquarters under cover of darkness. However, you left in such a rush that you forgot to use the bathroom! Fancy office buildings like this one usually have keypad locks on their bathrooms, so you search the front desk for the code.\n",
    "\n",
    "\"In order to improve security,\" the document you find says, \"bathroom codes will no longer be written down. Instead, please memorize and follow the procedure below to access the bathrooms.\"\n",
    "\n",
    "The document goes on to explain that each button to be pressed can be found by starting on the previous button and moving to adjacent buttons on the keypad: U moves up, D moves down, L moves left, and R moves right. Each line of instructions corresponds to one button, starting at the previous button (or, for the first line, the \"5\" button); press whatever button you're on at the end of each line. If a move doesn't lead to a button, ignore it.\n",
    "\n",
    "You can't hold it much longer, so you decide to figure out the code as you walk to the bathroom. You picture a keypad like this:\n",
    "\n",
    "1 2 3\n",
    "4 5 6\n",
    "7 8 9\n",
    "Suppose your instructions are:\n",
    "\n",
    "ULL\n",
    "RRDDD\n",
    "LURDL\n",
    "UUUUD\n",
    "You start at \"5\" and move up (to \"2\"), left (to \"1\"), and left (you can't, and stay on \"1\"), so the first button is 1.\n",
    "Starting from the previous button (\"1\"), you move right twice (to \"3\") and then down three times (stopping at \"9\" after two moves and ignoring the third), ending up with 9.\n",
    "Continuing from \"9\", you move left, up, right, down, and left, ending with 8.\n",
    "Finally, you move up four times (stopping at \"2\"), then down once, ending with 5.\n",
    "So, in this example, the bathroom code is 1985.\n",
    "\n",
    "Your puzzle input is the instructions from the document you found at the front desk. What is the bathroom code?\n",
    "```"
   ]
  },
  {
   "cell_type": "code",
   "execution_count": 20,
   "metadata": {
    "collapsed": true
   },
   "outputs": [],
   "source": [
    "NEIGHBOURS = {\n",
    "    '1': ['1', '2', '3', '1'],\n",
    "    '2': ['2', '3', '5', '1'],\n",
    "    '3': ['3', '3', '6', '2'],\n",
    "    '4': ['1', '5', '7', '4'],\n",
    "    '5': ['2', '6', '8', '4'],\n",
    "    '6': ['3', '6', '9', '5'],\n",
    "    '7': ['4', '8', '7', '7'],\n",
    "    '8': ['5', '9', '8', '7'],\n",
    "    '9': ['6', '9', '9', '8']\n",
    "}\n",
    "\n",
    "MOVES = { 'U': 0, 'R': 1, 'D': 2, 'L': 3}\n",
    "\n",
    "def decrypt(instructions, digit = '5'):    \n",
    "    for line in instructions:\n",
    "        for character in line.strip():\n",
    "            digit = NEIGHBOURS[digit][MOVES[character]]\n",
    "        print(digit, end=\"\")"
   ]
  },
  {
   "cell_type": "code",
   "execution_count": 21,
   "metadata": {
    "collapsed": false
   },
   "outputs": [
    {
     "name": "stdout",
     "output_type": "stream",
     "text": [
      "1985"
     ]
    }
   ],
   "source": [
    "decrypt([\"ULL\",\"RRDD\", \"LURDL\", \"UUUUD\"])"
   ]
  },
  {
   "cell_type": "code",
   "execution_count": 22,
   "metadata": {
    "collapsed": false
   },
   "outputs": [
    {
     "name": "stdout",
     "output_type": "stream",
     "text": [
      "73597"
     ]
    }
   ],
   "source": [
    "with open('inputs/day2.txt', 'rt') as instructions:\n",
    "    decrypt(instructions)"
   ]
  },
  {
   "cell_type": "markdown",
   "metadata": {},
   "source": [
    "```\n",
    "--- Part Two ---\n",
    "\n",
    "You finally arrive at the bathroom (it's a several minute walk from the lobby so visitors can behold the many fancy conference rooms and water coolers on this floor) and go to punch in the code. Much to your bladder's dismay, the keypad is not at all like you imagined it. Instead, you are confronted with the result of hundreds of man-hours of bathroom-keypad-design meetings:\n",
    "\n",
    "    1\n",
    "  2 3 4\n",
    "5 6 7 8 9\n",
    "  A B C\n",
    "    D\n",
    "You still start at \"5\" and stop when you're at an edge, but given the same instructions as above, the outcome is very different:\n",
    "\n",
    "You start at \"5\" and don't move at all (up and left are both edges), ending at 5.\n",
    "Continuing from \"5\", you move right twice and down three times (through \"6\", \"7\", \"B\", \"D\", \"D\"), ending at D.\n",
    "Then, from \"D\", you move five more times (through \"D\", \"B\", \"C\", \"C\", \"B\"), ending at B.\n",
    "Finally, after five more moves, you end at 3.\n",
    "So, given the actual keypad layout, the code would be 5DB3.\n",
    "\n",
    "Using the same instructions in your puzzle input, what is the correct bathroom code?\n",
    "```"
   ]
  },
  {
   "cell_type": "code",
   "execution_count": 23,
   "metadata": {
    "collapsed": true
   },
   "outputs": [],
   "source": [
    "NEIGHBOURS = {\n",
    "    '1': ['1', '1', '3', '1'],\n",
    "    '2': ['2', '3', '6', '2'],\n",
    "    '3': ['1', '4', '7', '2'],\n",
    "    '4': ['4', '4', '8', '3'],\n",
    "    '5': ['5', '6', '5', '5'],\n",
    "    '6': ['2', '7', 'A', '5'],\n",
    "    '7': ['3', '8', 'B', '6'],\n",
    "    '8': ['4', '9', 'C', '7'],\n",
    "    '9': ['9', '9', '9', '8'],\n",
    "    'A': ['6', 'B', 'A', 'A'],\n",
    "    'B': ['7', 'C', 'D', 'A'],\n",
    "    'C': ['8', 'C', 'C', 'B'],\n",
    "    'D': ['B', 'D', 'D', 'D']\n",
    "}"
   ]
  },
  {
   "cell_type": "code",
   "execution_count": 24,
   "metadata": {
    "collapsed": false
   },
   "outputs": [
    {
     "name": "stdout",
     "output_type": "stream",
     "text": [
      "5DB3"
     ]
    }
   ],
   "source": [
    "decrypt([\"ULL\",\"RRDD\", \"LURDL\", \"UUUUD\"])"
   ]
  },
  {
   "cell_type": "code",
   "execution_count": 25,
   "metadata": {
    "collapsed": false
   },
   "outputs": [
    {
     "name": "stdout",
     "output_type": "stream",
     "text": [
      "A47DA"
     ]
    }
   ],
   "source": [
    "with open('inputs/day2.txt', 'rt') as instructions:\n",
    "    decrypt(instructions)"
   ]
  }
 ],
 "metadata": {
  "anaconda-cloud": {},
  "kernelspec": {
   "display_name": "Python [conda env:adventofcode]",
   "language": "python",
   "name": "conda-env-adventofcode-py"
  },
  "language_info": {
   "codemirror_mode": {
    "name": "ipython",
    "version": 3
   },
   "file_extension": ".py",
   "mimetype": "text/x-python",
   "name": "python",
   "nbconvert_exporter": "python",
   "pygments_lexer": "ipython3",
   "version": "3.5.2"
  }
 },
 "nbformat": 4,
 "nbformat_minor": 1
}
