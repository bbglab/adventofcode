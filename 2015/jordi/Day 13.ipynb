{
 "cells": [
  {
   "cell_type": "raw",
   "metadata": {},
   "source": [
    "--- Day 13: Knights of the Dinner Table ---\n",
    "\n",
    "In years past, the holiday feast with your family hasn't gone so well. Not everyone gets along! This year, you resolve, will be different. You're going to find the optimal seating arrangement and avoid all those awkward conversations.\n",
    "\n",
    "You start by writing up a list of everyone invited and the amount their happiness would increase or decrease if they were to find themselves sitting next to each other person. You have a circular table that will be just big enough to fit everyone comfortably, and so each person will have exactly two neighbors.\n",
    "\n",
    "For example, suppose you have only four attendees planned, and you calculate their potential happiness as follows:\n",
    "\n",
    "Alice would gain 54 happiness units by sitting next to Bob.\n",
    "Alice would lose 79 happiness units by sitting next to Carol.\n",
    "Alice would lose 2 happiness units by sitting next to David.\n",
    "Bob would gain 83 happiness units by sitting next to Alice.\n",
    "Bob would lose 7 happiness units by sitting next to Carol.\n",
    "Bob would lose 63 happiness units by sitting next to David.\n",
    "Carol would lose 62 happiness units by sitting next to Alice.\n",
    "Carol would gain 60 happiness units by sitting next to Bob.\n",
    "Carol would gain 55 happiness units by sitting next to David.\n",
    "David would gain 46 happiness units by sitting next to Alice.\n",
    "David would lose 7 happiness units by sitting next to Bob.\n",
    "David would gain 41 happiness units by sitting next to Carol.\n",
    "Then, if you seat Alice next to David, Alice would lose 2 happiness units (because David talks so much), but David would gain 46 happiness units (because Alice is such a good listener), for a total change of 44.\n",
    "\n",
    "If you continue around the table, you could then seat Bob next to Alice (Bob gains 83, Alice gains 54). Finally, seat Carol, who sits next to Bob (Carol gains 60, Bob loses 7) and David (Carol gains 55, David gains 41). The arrangement looks like this:\n",
    "\n",
    "     +41 +46\n",
    "+55   David    -2\n",
    "Carol       Alice\n",
    "+60    Bob    +54\n",
    "     -7  +83\n",
    "After trying every other seating arrangement in this hypothetical scenario, you find that this one is the most optimal, with a total change in happiness of 330.\n",
    "\n",
    "What is the total change in happiness for the optimal seating arrangement of the actual guest list?"
   ]
  },
  {
   "cell_type": "code",
   "execution_count": 50,
   "metadata": {
    "collapsed": false
   },
   "outputs": [],
   "source": [
    "import re\n",
    "from collections import defaultdict\n",
    "from itertools import permutations\n",
    "\n",
    "_PARSE = re.compile(\"([A-Za-z]+) would (gain|lose) ([0-9]+) happiness units by sitting next to ([A-Za-z]+).\")\n",
    "\n",
    "def count_happines(units, order):\n",
    "    p = order[0]    \n",
    "    v_l = units[p][order[-1]]\n",
    "    for c in order[1:]:\n",
    "        v_l += int(units[p][c])\n",
    "        p = c\n",
    "        \n",
    "    p = order[-1]    \n",
    "    v_r = units[p][order[0]]\n",
    "    for c in order[::-1][1:]:\n",
    "        v_r += int(units[p][c])\n",
    "        p = c\n",
    "\n",
    "    return v_r + v_l\n",
    "\n",
    "def happiness(data, addme=False):    \n",
    "    units = defaultdict(dict)    \n",
    "    for d in data:\n",
    "        name1, gain_loss, points, name2 = _PARSE.match(d).groups()\n",
    "        points = int(points) if gain_loss == 'gain' else -int(points)\n",
    "        units[name1][name2] = points\n",
    "        \n",
    "    if addme:\n",
    "        for name in list(units.keys()):\n",
    "            units['me'][name] = 0\n",
    "            units[name]['me'] = 0\n",
    "        \n",
    "    names = list(units.keys())\n",
    "    \n",
    "    max_perm = tuple(names)\n",
    "    max_value = count_happines(units, max_perm)\n",
    "    \n",
    "    for perm in permutations(units.keys()):\n",
    "        value = count_happines(units, perm)\n",
    "        if value > max_value:\n",
    "            max_perm = perm\n",
    "            max_value = value\n",
    "    \n",
    "    return max_value, max_perm"
   ]
  },
  {
   "cell_type": "code",
   "execution_count": 51,
   "metadata": {
    "collapsed": false
   },
   "outputs": [
    {
     "data": {
      "text/plain": [
       "(330, ('Bob', 'Carol', 'David', 'Alice'))"
      ]
     },
     "execution_count": 51,
     "metadata": {},
     "output_type": "execute_result"
    }
   ],
   "source": [
    "# Test example\n",
    "example = [\n",
    "    \"Alice would gain 54 happiness units by sitting next to Bob.\",\n",
    "    \"Alice would lose 79 happiness units by sitting next to Carol.\",\n",
    "    \"Alice would lose 2 happiness units by sitting next to David.\",\n",
    "    \"Bob would gain 83 happiness units by sitting next to Alice.\",\n",
    "    \"Bob would lose 7 happiness units by sitting next to Carol.\",\n",
    "    \"Bob would lose 63 happiness units by sitting next to David.\",\n",
    "    \"Carol would lose 62 happiness units by sitting next to Alice.\",\n",
    "    \"Carol would gain 60 happiness units by sitting next to Bob.\",\n",
    "    \"Carol would gain 55 happiness units by sitting next to David.\",\n",
    "    \"David would gain 46 happiness units by sitting next to Alice.\",\n",
    "    \"David would lose 7 happiness units by sitting next to Bob.\",\n",
    "    \"David would gain 41 happiness units by sitting next to Carol.\"\n",
    "]\n",
    "happiness(example)"
   ]
  },
  {
   "cell_type": "code",
   "execution_count": 52,
   "metadata": {
    "collapsed": false
   },
   "outputs": [
    {
     "name": "stdout",
     "output_type": "stream",
     "text": [
      "(618, ('Bob', 'Carol', 'David', 'George', 'Mallory', 'Frank', 'Alice', 'Eric'))\n"
     ]
    }
   ],
   "source": [
    "# Test input\n",
    "with open('day13/input.txt', 'rt') as fd:\n",
    "    print(happiness(fd))"
   ]
  },
  {
   "cell_type": "raw",
   "metadata": {},
   "source": [
    "--- Part Two ---\n",
    "\n",
    "In all the commotion, you realize that you forgot to seat yourself. At this point, you're pretty apathetic toward the whole thing, and your happiness wouldn't really go up or down regardless of who you sit next to. You assume everyone else would be just as ambivalent about sitting next to you, too.\n",
    "\n",
    "So, add yourself to the list, and give all happiness relationships that involve you a score of 0.\n",
    "\n",
    "What is the total change in happiness for the optimal seating arrangement that actually includes yourself?"
   ]
  },
  {
   "cell_type": "code",
   "execution_count": 53,
   "metadata": {
    "collapsed": false
   },
   "outputs": [
    {
     "name": "stdout",
     "output_type": "stream",
     "text": [
      "(601, ('Bob', 'Carol', 'David', 'George', 'Mallory', 'Frank', 'Alice', 'Eric', 'me'))\n"
     ]
    }
   ],
   "source": [
    "with open('day13/input.txt', 'rt') as fd:\n",
    "    print(happiness(fd, addme=True))"
   ]
  },
  {
   "cell_type": "code",
   "execution_count": null,
   "metadata": {
    "collapsed": true
   },
   "outputs": [],
   "source": []
  }
 ],
 "metadata": {
  "kernelspec": {
   "display_name": "Python 3",
   "language": "python",
   "name": "python3"
  },
  "language_info": {
   "codemirror_mode": {
    "name": "ipython",
    "version": 3
   },
   "file_extension": ".py",
   "mimetype": "text/x-python",
   "name": "python",
   "nbconvert_exporter": "python",
   "pygments_lexer": "ipython3",
   "version": "3.4.3"
  }
 },
 "nbformat": 4,
 "nbformat_minor": 0
}
