{
 "cells": [
  {
   "cell_type": "markdown",
   "metadata": {},
   "source": [
    "```\n",
    "You find yourself standing on a snow-covered coastline; apparently, you landed a little off course. The region is too hilly to see the North Pole from here, but you do spot some Elves that seem to be trying to unpack something that washed ashore. It's quite cold out, so you decide to risk creating a paradox by asking them for directions.\n",
    "\n",
    "\"Oh, are you the search party?\" Somehow, you can understand whatever Elves from the year 1018 speak; you assume it's Ancient Nordic Elvish. Could the device on your wrist also be a translator? \"Those clothes don't look very warm; take this.\" They hand you a heavy coat.\n",
    "\n",
    "\"We do need to find our way back to the North Pole, but we have higher priorities at the moment. You see, believe it or not, this box contains something that will solve all of Santa's transportation problems - at least, that's what it looks like from the pictures in the instructions.\" It doesn't seem like they can read whatever language it's in, but you can: \"Sleigh kit. Some assembly required.\"\n",
    "\n",
    "\"'Sleigh'? What a wonderful name! You must help us assemble this 'sleigh' at once!\" They start excitedly pulling more parts out of the box.\n",
    "\n",
    "The instructions specify a series of steps and requirements about which steps must be finished before others can begin (your puzzle input). Each step is designated by a single letter. For example, suppose you have the following instructions:\n",
    "\n",
    "Step C must be finished before step A can begin.\n",
    "Step C must be finished before step F can begin.\n",
    "Step A must be finished before step B can begin.\n",
    "Step A must be finished before step D can begin.\n",
    "Step B must be finished before step E can begin.\n",
    "Step D must be finished before step E can begin.\n",
    "Step F must be finished before step E can begin.\n",
    "Visually, these requirements look like this:\n",
    "\n",
    "\n",
    "  -->A--->B--\n",
    " /    \\      \\\n",
    "C      -->D----->E\n",
    " \\           /\n",
    "  ---->F-----\n",
    "Your first goal is to determine the order in which the steps should be completed. If more than one step is ready, choose the step which is first alphabetically. In this example, the steps would be completed as follows:\n",
    "\n",
    "Only C is available, and so it is done first.\n",
    "Next, both A and F are available. A is first alphabetically, so it is done next.\n",
    "Then, even though F was available earlier, steps B and D are now also available, and B is the first alphabetically of the three.\n",
    "After that, only D and F are available. E is not available because only some of its prerequisites are complete. Therefore, D is completed next.\n",
    "F is the only choice, so it is done next.\n",
    "Finally, E is completed.\n",
    "So, in this example, the correct order is CABDFE.\n",
    "\n",
    "In what order should the steps in your instructions be completed?\n",
    "```"
   ]
  },
  {
   "cell_type": "code",
   "execution_count": 1,
   "metadata": {},
   "outputs": [],
   "source": [
    "import re\n",
    "\n",
    "PARSE_LINE = re.compile(\"Step ([A-Z]) must be finished before step ([A-Z]) can begin.\")\n",
    "\n",
    "def parse_line(line):\n",
    "    return PARSE_LINE.match(line).groups()\n",
    "\n",
    "class Instructions:    \n",
    "        \n",
    "    def __init__(self, ins):          \n",
    "        self.deps = {}\n",
    "        self.running = set()\n",
    "        \n",
    "        for a, b in ins:\n",
    "            \n",
    "            if b not in self.deps:\n",
    "                self.deps[b] = set()\n",
    "\n",
    "            if a not in self.deps:\n",
    "                self.deps[a] = set()\n",
    "\n",
    "            self.deps[b].add(a)\n",
    "        \n",
    "    def ready(self):\n",
    "        return self.deps |> filter$(x->len(self.deps[x])==0) |> filter$(x->x not in self.running) |> sorted\n",
    "    \n",
    "    def start(self, a):\n",
    "        del self.deps[a]\n",
    "        self.running.add(a)\n",
    "        \n",
    "    def finish(self, a):\n",
    "        for k in self.deps:\n",
    "            self.deps[k].discard(a)\n",
    "        self.running.discard(a)\n",
    "    \n",
    "    def __len__(self):\n",
    "        return len(self.deps)\n",
    "    \n",
    "def order(ins):\n",
    "    \n",
    "    while len(ins) > 0:\n",
    "        i = ins.ready()[0]\n",
    "        yield i\n",
    "        ins.start(i)\n",
    "        ins.finish(i)\n",
    "            "
   ]
  },
  {
   "cell_type": "code",
   "execution_count": 2,
   "metadata": {},
   "outputs": [],
   "source": [
    "example = [\n",
    "    \"Step C must be finished before step A can begin.\",\n",
    "    \"Step C must be finished before step F can begin.\",\n",
    "    \"Step A must be finished before step B can begin.\",\n",
    "    \"Step A must be finished before step D can begin.\",\n",
    "    \"Step B must be finished before step E can begin.\",\n",
    "    \"Step D must be finished before step E can begin.\",\n",
    "    \"Step F must be finished before step E can begin.\"\n",
    "]"
   ]
  },
  {
   "cell_type": "code",
   "execution_count": 3,
   "metadata": {},
   "outputs": [
    {
     "data": {
      "text/plain": [
       "'CABDFE'"
      ]
     },
     "execution_count": 3,
     "metadata": {},
     "output_type": "execute_result"
    }
   ],
   "source": [
    "Instructions(example |> fmap$(parse_line)) |> order |> \"\".join"
   ]
  },
  {
   "cell_type": "code",
   "execution_count": 4,
   "metadata": {},
   "outputs": [
    {
     "data": {
      "text/plain": [
       "'BGKDMJCNEQRSTUZWHYLPAFIVXO'"
      ]
     },
     "execution_count": 4,
     "metadata": {},
     "output_type": "execute_result"
    }
   ],
   "source": [
    "Instructions(open(\"input/day07.txt\") |> fmap$(parse_line)) |> order |> \"\".join"
   ]
  },
  {
   "cell_type": "markdown",
   "metadata": {},
   "source": [
    "```\n",
    "--- Part Two ---\n",
    "As you're about to begin construction, four of the Elves offer to help. \"The sun will set soon; it'll go faster if we work together.\" Now, you need to account for multiple people working on steps simultaneously. If multiple steps are available, workers should still begin them in alphabetical order.\n",
    "\n",
    "Each step takes 60 seconds plus an amount corresponding to its letter: A=1, B=2, C=3, and so on. So, step A takes 60+1=61 seconds, while step Z takes 60+26=86 seconds. No time is required between steps.\n",
    "\n",
    "To simplify things for the example, however, suppose you only have help from one Elf (a total of two workers) and that each step takes 60 fewer seconds (so that step A takes 1 second and step Z takes 26 seconds). Then, using the same instructions as above, this is how each second would be spent:\n",
    "\n",
    "Second   Worker 1   Worker 2   Done\n",
    "   0        C          .        \n",
    "   1        C          .        \n",
    "   2        C          .        \n",
    "   3        A          F       C\n",
    "   4        B          F       CA\n",
    "   5        B          F       CA\n",
    "   6        D          F       CAB\n",
    "   7        D          F       CAB\n",
    "   8        D          F       CAB\n",
    "   9        D          .       CABF\n",
    "  10        E          .       CABFD\n",
    "  11        E          .       CABFD\n",
    "  12        E          .       CABFD\n",
    "  13        E          .       CABFD\n",
    "  14        E          .       CABFD\n",
    "  15        .          .       CABFDE\n",
    "Each row represents one second of time. The Second column identifies how many seconds have passed as of the beginning of that second. Each worker column shows the step that worker is currently doing (or . if they are idle). The Done column shows completed steps.\n",
    "\n",
    "Note that the order of the steps has changed; this is because steps now take time to finish and multiple workers can begin multiple steps simultaneously.\n",
    "\n",
    "In this example, it would take 15 seconds for two workers to complete these steps.\n",
    "\n",
    "With 5 workers and the 60+ second step durations described above, how long will it take to complete all of the steps?\n",
    "\n",
    "```"
   ]
  },
  {
   "cell_type": "code",
   "execution_count": 5,
   "metadata": {},
   "outputs": [],
   "source": [
    "class Workers:\n",
    "    \n",
    "    def __init__(self, workers=2, delay=0):\n",
    "        \n",
    "        # Total time working\n",
    "        self.t = 0\n",
    "        \n",
    "        # Delay to add to each instruction (Using ASCII code)\n",
    "        self.delay = delay - ord(\"A\") + 1\n",
    "        \n",
    "        # Remaining working time for each worker\n",
    "        self.wt = [0] * workers\n",
    "        \n",
    "        # Current working instructions ids (or '.' if the worker is idle)\n",
    "        self.wi = ['.'] * workers\n",
    "        \n",
    "    # Check if there is at least one worker idle\n",
    "    def is_busy(self):\n",
    "        return '.' not in self.wi\n",
    "    \n",
    "    # Start an instructions at first idle worker\n",
    "    def start(self, i):\n",
    "        idx = self.wt.index(0)\n",
    "        self.wt[idx] = ord(i) + self.delay\n",
    "        self.wi[idx] = i    \n",
    "        \n",
    "    # Work until all the instructions finish\n",
    "    # and return the total time\n",
    "    def finish(self):\n",
    "        self.t += max(self.wt)\n",
    "        return self.t        \n",
    "    \n",
    "    # Work until at least one instruction finish\n",
    "    # and return the finished instructions\n",
    "    def work(self):       \n",
    "        \n",
    "        # Workers not idle\n",
    "        idx = [i for i, t in enumerate(self.wi) if t != '.']        \n",
    "        \n",
    "        if len(idx) > 0:\n",
    "            \n",
    "            # Minimum time to work\n",
    "            min_time = min([self.wt[i] for i in idx])\n",
    "            \n",
    "            self.t += min_time            \n",
    "            for i in idx:\n",
    "                self.wt[i] -= min_time\n",
    "                \n",
    "                if self.wt[i] == 0:\n",
    "                    # Return the finished \n",
    "                    fi = self.wi[i]\n",
    "                    self.wi[i] = '.'\n",
    "                    yield fi              \n",
    "\n",
    "\n",
    "def totaltime(ins, workers):\n",
    "    \n",
    "    while len(ins) > 0:        \n",
    "        ready_ins = ins.ready()\n",
    "        \n",
    "        # Work if there is nothing ready or all the workers are busy\n",
    "        if workers.is_busy() or len(ready_ins) == 0:\n",
    "            for i in workers.work():\n",
    "                ins.finish(i)\n",
    "        \n",
    "        # Start new instructions\n",
    "        for i in ready_ins:  \n",
    "            if not workers.is_busy():\n",
    "                workers.start(i)\n",
    "                ins.start(i)\n",
    "    \n",
    "    return workers.finish()"
   ]
  },
  {
   "cell_type": "code",
   "execution_count": 6,
   "metadata": {},
   "outputs": [
    {
     "data": {
      "text/plain": [
       "15"
      ]
     },
     "execution_count": 6,
     "metadata": {},
     "output_type": "execute_result"
    }
   ],
   "source": [
    "totaltime(\n",
    "    Instructions(example |> fmap$(parse_line)),\n",
    "    Workers()\n",
    ")"
   ]
  },
  {
   "cell_type": "code",
   "execution_count": 7,
   "metadata": {},
   "outputs": [
    {
     "data": {
      "text/plain": [
       "941"
      ]
     },
     "execution_count": 7,
     "metadata": {},
     "output_type": "execute_result"
    }
   ],
   "source": [
    "totaltime(\n",
    "    Instructions(open('input/day07.txt') |> fmap$(parse_line)),\n",
    "    Workers(workers=5, delay=60)\n",
    ")"
   ]
  }
 ],
 "metadata": {
  "kernelspec": {
   "display_name": "Python 3",
   "language": "python",
   "name": "python3"
  },
  "language_info": {
   "codemirror_mode": {
    "name": "ipython",
    "version": 3
   },
   "file_extension": ".py",
   "mimetype": "text/x-python",
   "name": "python",
   "nbconvert_exporter": "python",
   "pygments_lexer": "ipython3",
   "version": "3.7.0"
  }
 },
 "nbformat": 4,
 "nbformat_minor": 2
}
