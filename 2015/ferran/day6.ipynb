{
 "cells": [
  {
   "cell_type": "markdown",
   "metadata": {},
   "source": [
    "# Day 6"
   ]
  },
  {
   "cell_type": "code",
   "execution_count": 14,
   "metadata": {
    "ExecuteTime": {
     "end_time": "2017-12-03T18:00:25.071397",
     "start_time": "2017-12-03T18:00:24.994839"
    }
   },
   "outputs": [],
   "source": [
    "import csv\n",
    "import numpy as np\n",
    "\n",
    "instructions_list = []\n",
    "with open('inputs/input6.txt', 'rt') as f_input:\n",
    "    csv_reader = csv.reader(f_input, delimiter=' ')\n",
    "    for line in csv_reader:\n",
    "        c, d = tuple(map(int, line.pop().split(',')))\n",
    "        line.pop()\n",
    "        a, b = tuple(map(int, line.pop().split(',')))\n",
    "        action = line.pop()\n",
    "        instructions_list += [(action, a, b, c, d)]"
   ]
  },
  {
   "cell_type": "markdown",
   "metadata": {
    "ExecuteTime": {
     "end_time": "2017-12-03T00:53:13.569737",
     "start_time": "2017-12-03T00:53:13.558938"
    }
   },
   "source": [
    "## Day 6.1"
   ]
  },
  {
   "cell_type": "code",
   "execution_count": 54,
   "metadata": {
    "ExecuteTime": {
     "end_time": "2017-12-03T18:17:53.240929",
     "start_time": "2017-12-03T18:17:53.220970"
    },
    "collapsed": true
   },
   "outputs": [],
   "source": [
    "def lit(command):\n",
    "    action = command[0]\n",
    "    a, b, c, d = command[1:]\n",
    "    if action == 'on':\n",
    "        grid[a: c + 1, b: d + 1] = 1\n",
    "    elif action == 'off':\n",
    "        grid[a: c + 1, b: d + 1] = 0\n",
    "    elif action == 'toggle':\n",
    "        grid[a: c + 1, b: d + 1] = - grid[a: c + 1, b: d + 1] + 1"
   ]
  },
  {
   "cell_type": "code",
   "execution_count": 64,
   "metadata": {
    "ExecuteTime": {
     "end_time": "2017-12-03T18:21:43.839633",
     "start_time": "2017-12-03T18:21:43.770095"
    }
   },
   "outputs": [
    {
     "data": {
      "text/plain": [
       "569999"
      ]
     },
     "execution_count": 64,
     "metadata": {},
     "output_type": "execute_result"
    }
   ],
   "source": [
    "grid = np.zeros((1000, 1000))\n",
    "for command in instructions_list:\n",
    "    lit(command)\n",
    "int(sum(sum(grid)))"
   ]
  },
  {
   "cell_type": "markdown",
   "metadata": {},
   "source": [
    "## Day 6.2"
   ]
  },
  {
   "cell_type": "code",
   "execution_count": 69,
   "metadata": {
    "ExecuteTime": {
     "end_time": "2017-12-03T18:30:48.306132",
     "start_time": "2017-12-03T18:30:48.281324"
    },
    "collapsed": true
   },
   "outputs": [],
   "source": [
    "def brightness_lit(command):\n",
    "    action = command[0]\n",
    "    a, b, c, d = command[1:]\n",
    "    if action == 'on':\n",
    "        grid[a: c + 1, b: d + 1] += 1\n",
    "    elif action == 'off':\n",
    "        grid[a: c + 1, b: d + 1] -= 1\n",
    "    elif action == 'toggle':\n",
    "        grid[a: c + 1, b: d + 1] += 2\n",
    "    mask = grid < 0\n",
    "    grid[mask] = 0"
   ]
  },
  {
   "cell_type": "code",
   "execution_count": 70,
   "metadata": {
    "ExecuteTime": {
     "end_time": "2017-12-03T18:30:48.994594",
     "start_time": "2017-12-03T18:30:48.729126"
    }
   },
   "outputs": [
    {
     "data": {
      "text/plain": [
       "17836115"
      ]
     },
     "execution_count": 70,
     "metadata": {},
     "output_type": "execute_result"
    }
   ],
   "source": [
    "grid = np.zeros((1000, 1000))\n",
    "for command in instructions_list:\n",
    "    brightness_lit(command)\n",
    "int(sum(sum(grid)))"
   ]
  },
  {
   "cell_type": "code",
   "execution_count": null,
   "metadata": {
    "collapsed": true
   },
   "outputs": [],
   "source": []
  }
 ],
 "metadata": {
  "kernelspec": {
   "display_name": "Python [conda env:adventofcode]",
   "language": "python",
   "name": "conda-env-adventofcode-py"
  },
  "language_info": {
   "codemirror_mode": {
    "name": "ipython",
    "version": 3
   },
   "file_extension": ".py",
   "mimetype": "text/x-python",
   "name": "python",
   "nbconvert_exporter": "python",
   "pygments_lexer": "ipython3",
   "version": "3.5.2"
  },
  "toc": {
   "colors": {
    "hover_highlight": "#DAA520",
    "running_highlight": "#FF0000",
    "selected_highlight": "#FFD700"
   },
   "moveMenuLeft": true,
   "nav_menu": {
    "height": "66px",
    "width": "252px"
   },
   "navigate_menu": true,
   "number_sections": true,
   "sideBar": true,
   "threshold": 4,
   "toc_cell": false,
   "toc_section_display": "block",
   "toc_window_display": false
  }
 },
 "nbformat": 4,
 "nbformat_minor": 2
}
