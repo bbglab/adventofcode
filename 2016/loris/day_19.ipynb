{
 "cells": [
  {
   "cell_type": "markdown",
   "metadata": {},
   "source": [
    "# Advent of Code 2016"
   ]
  },
  {
   "cell_type": "raw",
   "metadata": {},
   "source": [
    "--- Day 19: An Elephant Named Joseph ---\n",
    "\n",
    "The Elves contact you over a highly secure emergency channel. Back at the North Pole, the Elves are busy misunderstanding White Elephant parties.\n",
    "\n",
    "Each Elf brings a present. They all sit in a circle, numbered starting with position 1. Then, starting with the first Elf, they take turns stealing all the presents from the Elf to their left. An Elf with no presents is removed from the circle and does not take turns.\n",
    "\n",
    "For example, with five Elves (numbered 1 to 5):\n",
    "\n",
    "  1\n",
    "5   2\n",
    " 4 3\n",
    "    \n",
    "- Elf 1 takes Elf 2's present.\n",
    "- Elf 2 has no presents and is skipped.\n",
    "- Elf 3 takes Elf 4's present.\n",
    "- Elf 4 has no presents and is also skipped.\n",
    "- Elf 5 takes Elf 1's two presents.\n",
    "- Neither Elf 1 nor Elf 2 have any presents, so both are skipped.\n",
    "- Elf 3 takes Elf 5's three presents.\n",
    "\n",
    "So, with five Elves, the Elf that sits starting in position 3 gets all the presents.\n",
    "\n",
    "With the number of Elves given in your puzzle input, which Elf gets all the presents?\n",
    "\n",
    "Your puzzle input is 3005290."
   ]
  },
  {
   "cell_type": "code",
   "execution_count": 1,
   "metadata": {
    "ExecuteTime": {
     "end_time": "2016-12-22T16:23:41.192392",
     "start_time": "2016-12-22T16:23:41.180804"
    },
    "collapsed": false
   },
   "outputs": [],
   "source": [
    "def white_elephant_recursive(d={}, i=0, elves=None):\n",
    "    if elves:\n",
    "        d = {e: 1 for e in range(elves)}\n",
    "    if d[i] == 0:\n",
    "        print('skip', i + 1)\n",
    "        return white_elephant_recursive(d, (i + 1) % len(d))\n",
    "    for j in range(1, len(d)):\n",
    "        if d[(i + j) % len(d)] > 0:\n",
    "            d[i] += d[(i + j) % len(d)]\n",
    "            d[(i + j) % len(d)] = 0\n",
    "            print(i + 1, 'stole from', (i + j) % len(d) + 1)\n",
    "            return white_elephant_recursive(d, (i + 1) % len(d))\n",
    "    return [k + 1 for k, v in d.items() if v > 0][0]"
   ]
  },
  {
   "cell_type": "code",
   "execution_count": 2,
   "metadata": {
    "ExecuteTime": {
     "end_time": "2016-12-22T16:23:41.202353",
     "start_time": "2016-12-22T16:23:41.193626"
    },
    "collapsed": false
   },
   "outputs": [
    {
     "name": "stdout",
     "output_type": "stream",
     "text": [
      "1 stole from 2\n",
      "skip 2\n",
      "3 stole from 4\n",
      "skip 4\n",
      "5 stole from 1\n",
      "skip 1\n",
      "skip 2\n",
      "3 stole from 5\n",
      "skip 4\n",
      "skip 5\n",
      "skip 1\n",
      "skip 2\n"
     ]
    }
   ],
   "source": [
    "# Test\n",
    "assert white_elephant_recursive(elves=5) == 3"
   ]
  },
  {
   "cell_type": "code",
   "execution_count": 3,
   "metadata": {
    "ExecuteTime": {
     "end_time": "2016-12-22T16:23:41.213714",
     "start_time": "2016-12-22T16:23:41.204417"
    },
    "collapsed": false
   },
   "outputs": [],
   "source": [
    "def white_elephant(elves, verbose=False):\n",
    "    d = {e: 1 for e in range(elves)}\n",
    "    while len([v for v in d.values() if v > 0]) > 1:\n",
    "        for i in range(elves):\n",
    "            if d[i] == 0:\n",
    "                if verbose:\n",
    "                    print('skip', i + 1)\n",
    "                continue\n",
    "            for j in range(1, len(d)):\n",
    "                if d[(i + j) % len(d)] > 0:\n",
    "                    d[i] += d[(i + j) % len(d)]\n",
    "                    d[(i + j) % len(d)] = 0\n",
    "                    if verbose:\n",
    "                        print(i + 1, 'stole from', (i + j) % len(d) + 1)\n",
    "                    break\n",
    "    return [k + 1 for k, v in d.items() if v > 0][0]"
   ]
  },
  {
   "cell_type": "code",
   "execution_count": 4,
   "metadata": {
    "ExecuteTime": {
     "end_time": "2016-12-22T16:23:41.221931",
     "start_time": "2016-12-22T16:23:41.215020"
    },
    "collapsed": false
   },
   "outputs": [
    {
     "name": "stdout",
     "output_type": "stream",
     "text": [
      "1 stole from 2\n",
      "skip 2\n",
      "3 stole from 4\n",
      "skip 4\n",
      "5 stole from 1\n",
      "skip 1\n",
      "skip 2\n",
      "3 stole from 5\n",
      "skip 4\n",
      "skip 5\n"
     ]
    }
   ],
   "source": [
    "assert white_elephant(elves=5, verbose=True) == 3"
   ]
  },
  {
   "cell_type": "code",
   "execution_count": 5,
   "metadata": {
    "ExecuteTime": {
     "end_time": "2016-12-22T16:23:55.482956",
     "start_time": "2016-12-22T16:23:41.223055"
    },
    "collapsed": false
   },
   "outputs": [
    {
     "data": {
      "text/plain": [
       "1816277"
      ]
     },
     "execution_count": 5,
     "metadata": {},
     "output_type": "execute_result"
    }
   ],
   "source": [
    "white_elephant(elves=3005290)"
   ]
  },
  {
   "cell_type": "raw",
   "metadata": {},
   "source": [
    "--- Part Two ---\n",
    "\n",
    "Realizing the folly of their present-exchange rules, the Elves agree to instead steal presents from the Elf directly across the circle. If two Elves are across the circle, the one on the left (from the perspective of the stealer) is stolen from. The other rules remain unchanged: Elves with no presents are removed from the circle entirely, and the other elves move in slightly to keep the circle evenly spaced.\n",
    "\n",
    "For example, with five Elves (again numbered 1 to 5):\n",
    "\n",
    "The Elves sit in a circle; Elf 1 goes first:\n",
    "  1\n",
    "5   2\n",
    " 4 3\n",
    " \n",
    "Elves 3 and 4 are across the circle; Elf 3's present is stolen, being the one to the left. Elf 3 leaves the circle, and the rest of the Elves move in:\n",
    "\n",
    "  1           1\n",
    "5   2  -->  5   2\n",
    " 4 -          4\n",
    " \n",
    "Elf 2 steals from the Elf directly across the circle, Elf 5:\n",
    "\n",
    "-   2  -->     2\n",
    "  4         4 \n",
    "  \n",
    "Next is Elf 4 who, choosing between Elves 1 and 2, steals from Elf 1:\n",
    "\n",
    " -          2  \n",
    "    2  -->\n",
    " 4          4\n",
    " \n",
    "Finally, Elf 2 steals from Elf 4:\n",
    "\n",
    " 2\n",
    "    -->  2  \n",
    " -\n",
    "So, with five Elves, the Elf that sits starting in position 2 gets all the presents.\n",
    "\n",
    "With the number of Elves given in your puzzle input, which Elf now gets all the presents?"
   ]
  },
  {
   "cell_type": "code",
   "execution_count": 6,
   "metadata": {
    "ExecuteTime": {
     "end_time": "2016-12-22T16:23:55.501210",
     "start_time": "2016-12-22T16:23:55.484249"
    },
    "collapsed": true
   },
   "outputs": [],
   "source": [
    "from tqdm import tqdm"
   ]
  },
  {
   "cell_type": "code",
   "execution_count": 7,
   "metadata": {
    "ExecuteTime": {
     "end_time": "2016-12-22T16:23:55.513712",
     "start_time": "2016-12-22T16:23:55.503649"
    },
    "collapsed": false
   },
   "outputs": [],
   "source": [
    "class WhiteElephant:\n",
    "    \n",
    "    def __init__(self, elves):\n",
    "        self.elves = elves\n",
    "        self.players = list(range(elves))\n",
    "        self.distance = elves / 2\n",
    "        \n",
    "    def solve(self):\n",
    "        p = 0\n",
    "        for _ in tqdm(range(self.elves - 1)):\n",
    "            index_to_remove = (p + int(self.distance)) % len(self.players)\n",
    "            self.players.pop(index_to_remove)\n",
    "            if p < index_to_remove:\n",
    "                p += 1\n",
    "            p = p % len(self.players)\n",
    "            self.distance -= 0.5\n",
    "        return self.players[0] + 1"
   ]
  },
  {
   "cell_type": "code",
   "execution_count": 8,
   "metadata": {
    "ExecuteTime": {
     "end_time": "2016-12-22T16:23:55.523351",
     "start_time": "2016-12-22T16:23:55.515029"
    },
    "collapsed": false
   },
   "outputs": [
    {
     "name": "stderr",
     "output_type": "stream",
     "text": [
      "  0%|          | 0/4 [00:00<?, ?it/s]100%|██████████| 4/4 [00:00<00:00, 28679.00it/s]\n"
     ]
    }
   ],
   "source": [
    "# Test\n",
    "obj = WhiteElephant(5)\n",
    "assert obj.solve() == 2"
   ]
  },
  {
   "cell_type": "code",
   "execution_count": 9,
   "metadata": {
    "ExecuteTime": {
     "end_time": "2016-12-22T16:45:09.878606",
     "start_time": "2016-12-22T16:23:55.524713"
    },
    "collapsed": false
   },
   "outputs": [
    {
     "name": "stderr",
     "output_type": "stream",
     "text": [
      "100%|██████████| 3005289/3005289 [21:14<00:00, 2358.44it/s]  8/3005289 [00:00<1:04:58, 770.82it/s] 33%|███▎      | 1001774/3005289 [07:00<14:00, 2382.42it/s]\n"
     ]
    },
    {
     "data": {
      "text/plain": [
       "1410967"
      ]
     },
     "execution_count": 9,
     "metadata": {},
     "output_type": "execute_result"
    }
   ],
   "source": [
    "obj = WhiteElephant(3005290)\n",
    "obj.solve()"
   ]
  }
 ],
 "metadata": {
  "kernelspec": {
   "display_name": "Python 3",
   "language": "python",
   "name": "python3"
  },
  "language_info": {
   "codemirror_mode": {
    "name": "ipython",
    "version": 3
   },
   "file_extension": ".py",
   "mimetype": "text/x-python",
   "name": "python",
   "nbconvert_exporter": "python",
   "pygments_lexer": "ipython3",
   "version": "3.5.2+"
  }
 },
 "nbformat": 4,
 "nbformat_minor": 2
}
