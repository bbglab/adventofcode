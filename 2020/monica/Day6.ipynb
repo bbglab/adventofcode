{
 "cells": [
  {
   "cell_type": "markdown",
   "metadata": {},
   "source": [
    "# Advent of code"
   ]
  },
  {
   "cell_type": "markdown",
   "metadata": {},
   "source": [
    "## --- Day 6: Custom Customs ---  \n",
    "As your flight approaches the regional airport where you'll switch to a much larger plane, customs declaration forms are distributed to the passengers.  \n",
    "\n",
    "The form asks a series of 26 yes-or-no questions marked `a` through `z`. All you need to do is identify the questions for which anyone in your group answers \"yes\". Since your group is just you, this doesn't take very long.  \n",
    "\n",
    "However, the person sitting next to you seems to be experiencing a language barrier and asks if you can help. For each of the people in their group, you write down the questions for which they answer \"yes\", one per line. For example:  \n",
    "```\n",
    "abcx  \n",
    "abcy  \n",
    "abcz  \n",
    "```\n",
    "In this group, there are 6 questions to which anyone answered \"yes\": a, b, c, x, y, and z. (Duplicate answers to the same question don't count extra; each question counts at most once.)  \n",
    "\n",
    "Another group asks for your help, then another, and eventually you've collected answers from every group on the plane (your puzzle input). Each group's answers are separated by a blank line, and within each group, each person's answers are on a single line. For example:  \n",
    "```\n",
    "abc  \n",
    "\n",
    "a  \n",
    "b  \n",
    "c  \n",
    "\n",
    "ab  \n",
    "ac  \n",
    "\n",
    "a  \n",
    "a  \n",
    "a  \n",
    "a  \n",
    "\n",
    "b  \n",
    "```\n",
    "This list represents answers from five groups:  \n",
    "\n",
    "The first group contains one person who answered \"yes\" to 3 questions: a, b, and c.  \n",
    "The second group contains three people; combined, they answered \"yes\" to 3 questions: a, b, and c.  \n",
    "The third group contains two people; combined, they answered \"yes\" to 3 questions: a, b, and c.  \n",
    "The fourth group contains four people; combined, they answered \"yes\" to only 1 question, a.  \n",
    "The last group contains one person who answered \"yes\" to only 1 question, b.  \n",
    "In this example, the sum of these counts is 3 + 3 + 3 + 1 + 1 = 11.  \n",
    "\n",
    "For each group, count the number of questions to which anyone answered \"yes\". What is the sum of those counts?  "
   ]
  },
  {
   "cell_type": "code",
   "execution_count": 26,
   "metadata": {},
   "outputs": [
    {
     "name": "stdout",
     "output_type": "stream",
     "text": [
      "[3, 3, 3, 1, 1]\n"
     ]
    },
    {
     "data": {
      "text/plain": [
       "11"
      ]
     },
     "execution_count": 26,
     "metadata": {},
     "output_type": "execute_result"
    }
   ],
   "source": [
    "#Example\n",
    "with open('example6.txt') as f:\n",
    "    example = f.read().split('\\n\\n')\n",
    "    \n",
    "def count_yes(questions):\n",
    "    questions = [group.split('\\n') for group in questions]\n",
    "\n",
    "    #eliminate last empty element\n",
    "    questions2 = []\n",
    "    for group in questions:\n",
    "        group = [question for question in group if question != '']\n",
    "        questions2.append(group)\n",
    "    questions2\n",
    "\n",
    "\n",
    "    questions3 = []\n",
    "    for group in questions2:\n",
    "        group2 = ''\n",
    "        for letter in group: \n",
    "            group2 += letter\n",
    "            group2 = \"\".join(set(group2))\n",
    "            n_letters = len(group2)\n",
    "        questions3.append(n_letters)\n",
    "    print(questions3)\n",
    "    return sum(questions3)\n",
    "count_yes (example)"
   ]
  },
  {
   "cell_type": "code",
   "execution_count": 130,
   "metadata": {},
   "outputs": [
    {
     "name": "stdout",
     "output_type": "stream",
     "text": [
      "[20, 16, 1, 18, 8, 21, 10, 8, 24, 26, 7, 3, 26, 5, 17, 21, 23, 15, 21, 26, 6, 11, 12, 23, 1, 24, 15, 17, 7, 6, 9, 4, 23, 6, 10, 19, 11, 11, 9, 20, 2, 18, 7, 19, 7, 25, 15, 8, 15, 18, 22, 18, 6, 1, 15, 15, 13, 4, 16, 11, 13, 21, 1, 18, 13, 10, 6, 3, 22, 18, 4, 19, 23, 9, 4, 16, 26, 20, 19, 5, 4, 17, 2, 18, 9, 12, 18, 21, 13, 17, 6, 26, 9, 19, 23, 10, 3, 22, 18, 18, 10, 6, 22, 7, 21, 20, 26, 11, 21, 25, 20, 20, 17, 26, 18, 13, 7, 7, 26, 25, 15, 8, 22, 7, 23, 7, 14, 2, 15, 16, 25, 14, 20, 8, 18, 11, 10, 17, 16, 24, 26, 5, 8, 18, 3, 22, 7, 19, 16, 15, 8, 13, 12, 8, 4, 26, 2, 25, 16, 2, 4, 3, 5, 18, 4, 11, 9, 6, 9, 24, 19, 22, 7, 11, 2, 24, 9, 7, 11, 26, 5, 20, 14, 13, 20, 13, 10, 26, 19, 13, 23, 13, 16, 5, 16, 20, 8, 18, 18, 8, 5, 12, 20, 22, 5, 9, 11, 11, 1, 3, 5, 9, 25, 15, 18, 11, 23, 19, 24, 18, 15, 10, 3, 5, 8, 4, 23, 20, 23, 13, 11, 9, 6, 5, 11, 13, 6, 18, 8, 23, 17, 13, 17, 1, 20, 14, 15, 11, 15, 8, 21, 22, 12, 14, 14, 19, 19, 20, 17, 20, 10, 25, 7, 14, 24, 21, 23, 14, 22, 3, 15, 19, 13, 20, 18, 12, 8, 11, 9, 14, 17, 21, 18, 6, 10, 22, 7, 20, 25, 13, 23, 15, 10, 17, 25, 4, 19, 4, 26, 18, 21, 19, 19, 15, 24, 23, 9, 10, 17, 20, 19, 16, 8, 13, 26, 16, 18, 25, 10, 13, 7, 5, 19, 17, 19, 18, 16, 26, 9, 3, 13, 2, 10, 19, 26, 21, 24, 15, 14, 10, 2, 23, 20, 16, 8, 15, 15, 4, 10, 11, 24, 20, 22, 15, 3, 12, 22, 25, 25, 26, 8, 3, 10, 26, 23, 25, 4, 7, 10, 24, 3, 13, 19, 3, 3, 20, 21, 5, 14, 5, 22, 11, 2, 26, 26, 19, 21, 16, 7, 25, 8, 24, 9, 2, 17, 17, 5, 21, 21, 5, 25, 21, 15, 21, 20, 13, 26, 9, 12, 20, 17, 2, 7, 3, 19, 14, 3, 2, 24, 11, 18, 13, 2, 3, 14, 9, 12, 12, 22, 17, 18, 15, 5, 8, 3, 2, 10, 3, 9, 12, 5, 6, 10, 22, 7, 23, 18, 8, 15, 4, 7, 20, 6, 24, 17, 25, 2]\n",
      "There are 6437 questions in wich at least one member of the same group has answered yes.\n"
     ]
    }
   ],
   "source": [
    "#Input 6\n",
    "with open('input_day6.txt') as f:\n",
    "    questions = f.read().split('\\n\\n')\n",
    "\n",
    "result = count_yes (questions)\n",
    "print('There are', result, 'questions in wich at least one member of the same group has answered yes.')"
   ]
  },
  {
   "cell_type": "markdown",
   "metadata": {},
   "source": [
    "## --- Part Two ---\n",
    "As you finish the last group's customs declaration, you notice that you misread one word in the instructions:  \n",
    "\n",
    "You don't need to identify the questions to which anyone answered \"yes\"; you need to identify the questions to which everyone answered \"yes\"!  \n",
    "\n",
    "Using the same example as above:  \n",
    "```\n",
    "abc\n",
    "\n",
    "a\n",
    "b\n",
    "c\n",
    "\n",
    "ab\n",
    "ac\n",
    "\n",
    "a\n",
    "a\n",
    "a\n",
    "a\n",
    "\n",
    "b\n",
    "```\n",
    "This list represents answers from five groups:  \n",
    "\n",
    "In the first group, everyone (all 1 person) answered \"yes\" to 3 questions: a, b, and c.  \n",
    "In the second group, there is no question to which everyone answered \"yes\".  \n",
    "In the third group, everyone answered yes to only 1 question, a. Since some people did not answer \"yes\" to b or c, they don't count.  \n",
    "In the fourth group, everyone answered yes to only 1 question, a.  \n",
    "In the fifth group, everyone (all 1 person) answered \"yes\" to 1 question, b.  \n",
    "In this example, the sum of these counts is 3 + 0 + 1 + 1 + 1 = 6.  \n",
    "\n",
    "For each group, count the number of questions to which everyone answered \"yes\". What is the sum of those counts?  "
   ]
  },
  {
   "cell_type": "code",
   "execution_count": 134,
   "metadata": {},
   "outputs": [
    {
     "name": "stdout",
     "output_type": "stream",
     "text": [
      "[3, 0, 1, 1, 1]\n"
     ]
    },
    {
     "data": {
      "text/plain": [
       "6"
      ]
     },
     "execution_count": 134,
     "metadata": {},
     "output_type": "execute_result"
    }
   ],
   "source": [
    "#Example\n",
    "with open('example6.txt') as f:\n",
    "    questions = f.read().split('\\n\\n')\n",
    "    \n",
    "def count_yes2 (questions):\n",
    "    questions = [group.split('\\n') for group in questions]\n",
    "\n",
    "    #eliminate last empty element\n",
    "    questions2 = []\n",
    "    for group in questions:\n",
    "        group = [question for question in group if question != '']\n",
    "        questions2.append(group)\n",
    "    questions2\n",
    "\n",
    "    len_questions3 = []\n",
    "    questions3 = []\n",
    "    for group in questions2: \n",
    "        if len(group) == 1:\n",
    "            group2 = group[0]\n",
    "            n_group2 = len(group2)\n",
    "        else:\n",
    "            group2 = [set(x) for x in group] \n",
    "            group2 = group2[0].intersection(*group2[1:])\n",
    "            n_group2 = len(group2)\n",
    "        questions3.append(group2)\n",
    "        len_questions3.append(n_group2)\n",
    "    print(len_questions3)\n",
    "    return (sum(len_questions3))\n",
    "count_yes2(questions)"
   ]
  },
  {
   "cell_type": "code",
   "execution_count": 135,
   "metadata": {},
   "outputs": [
    {
     "name": "stdout",
     "output_type": "stream",
     "text": [
      "[11, 10, 1, 13, 2, 21, 5, 8, 6, 23, 1, 1, 17, 2, 3, 18, 2, 10, 16, 3, 3, 3, 0, 22, 1, 16, 13, 12, 4, 6, 8, 0, 8, 3, 3, 19, 9, 7, 8, 0, 0, 9, 3, 14, 2, 19, 10, 2, 12, 11, 21, 1, 5, 1, 2, 4, 1, 3, 1, 11, 1, 7, 1, 10, 5, 8, 6, 0, 6, 0, 4, 3, 10, 6, 3, 1, 10, 9, 5, 3, 1, 2, 1, 16, 4, 1, 4, 21, 6, 2, 3, 6, 3, 15, 9, 0, 2, 5, 7, 4, 1, 1, 14, 0, 9, 1, 5, 8, 14, 14, 14, 9, 7, 22, 14, 0, 0, 5, 21, 13, 12, 7, 0, 0, 6, 6, 12, 1, 6, 12, 8, 14, 0, 0, 10, 7, 5, 9, 1, 8, 22, 1, 3, 6, 1, 14, 6, 12, 14, 6, 5, 0, 8, 5, 3, 15, 2, 3, 3, 0, 0, 1, 3, 3, 3, 9, 4, 0, 5, 8, 10, 15, 6, 1, 2, 20, 5, 5, 3, 14, 4, 1, 13, 8, 12, 5, 2, 24, 1, 1, 20, 8, 6, 4, 7, 5, 6, 5, 14, 5, 2, 1, 15, 20, 2, 7, 10, 3, 1, 2, 1, 0, 19, 10, 13, 0, 6, 18, 7, 14, 6, 7, 0, 4, 4, 1, 23, 10, 9, 7, 7, 7, 2, 2, 4, 3, 3, 14, 6, 13, 17, 8, 15, 1, 2, 0, 3, 9, 0, 8, 8, 19, 5, 11, 8, 17, 15, 15, 11, 9, 8, 5, 7, 13, 4, 4, 21, 4, 4, 2, 5, 14, 3, 11, 11, 2, 1, 5, 8, 2, 17, 15, 10, 3, 10, 19, 6, 1, 3, 5, 4, 15, 8, 0, 3, 3, 16, 1, 23, 15, 17, 14, 6, 7, 18, 3, 5, 8, 2, 12, 7, 2, 6, 9, 14, 4, 10, 11, 10, 7, 2, 5, 15, 10, 15, 17, 9, 26, 1, 1, 4, 0, 4, 19, 0, 4, 4, 11, 10, 7, 1, 6, 1, 16, 0, 8, 2, 0, 6, 9, 19, 0, 21, 7, 2, 6, 21, 18, 25, 15, 0, 1, 9, 0, 5, 18, 2, 0, 8, 8, 1, 3, 19, 0, 2, 0, 18, 0, 11, 1, 8, 6, 0, 6, 12, 2, 20, 15, 7, 0, 1, 12, 4, 2, 16, 3, 5, 20, 15, 4, 4, 1, 2, 4, 6, 12, 21, 9, 3, 14, 7, 2, 0, 1, 6, 8, 0, 2, 16, 6, 11, 6, 1, 1, 4, 0, 10, 6, 3, 0, 15, 14, 0, 4, 1, 0, 6, 0, 9, 7, 2, 0, 9, 7, 1, 18, 3, 8, 8, 0, 5, 0, 6, 2, 2, 24, 1]\n",
      "There are 3229 questions in wich all the members of the same group have answered yes.\n"
     ]
    }
   ],
   "source": [
    "#Input 6\n",
    "with open('input_day6.txt') as f:\n",
    "    questions = f.read().split('\\n\\n')\n",
    "\n",
    "result = count_yes2(questions)\n",
    "print('There are', result, 'questions in wich all the members of the same group have answered yes.')"
   ]
  }
 ],
 "metadata": {
  "kernelspec": {
   "display_name": "Python 3",
   "language": "python",
   "name": "python3"
  },
  "language_info": {
   "codemirror_mode": {
    "name": "ipython",
    "version": 3
   },
   "file_extension": ".py",
   "mimetype": "text/x-python",
   "name": "python",
   "nbconvert_exporter": "python",
   "pygments_lexer": "ipython3",
   "version": "3.8.3"
  }
 },
 "nbformat": 4,
 "nbformat_minor": 2
}
