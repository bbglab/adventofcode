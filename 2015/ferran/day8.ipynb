{
 "cells": [
  {
   "cell_type": "markdown",
   "metadata": {},
   "source": [
    "# Day 8\n",
    "\n",
    "## Day 8.1"
   ]
  },
  {
   "cell_type": "code",
   "execution_count": 14,
   "metadata": {
    "ExecuteTime": {
     "end_time": "2017-12-08T21:27:20.282729",
     "start_time": "2017-12-08T21:27:20.257528"
    },
    "collapsed": true
   },
   "outputs": [],
   "source": [
    "# Parser: first approach\n",
    "\n",
    "import csv\n",
    "\n",
    "strings = []\n",
    "with open('inputs/input8.txt', 'rt') as f_input:\n",
    "    for line in f_input:\n",
    "        strings.append(line.rstrip()[1:-1])"
   ]
  },
  {
   "cell_type": "code",
   "execution_count": 21,
   "metadata": {
    "ExecuteTime": {
     "end_time": "2017-12-08T21:30:12.667500",
     "start_time": "2017-12-08T21:30:12.649456"
    }
   },
   "outputs": [],
   "source": [
    "import re\n",
    "\n",
    "p = re.compile(r'(\\\\\\\\|\\\\\")')\n",
    "q = re.compile(r'\\\\x[0-9a-f][0-9a-f]')    \n",
    "\n",
    "def difference(s):\n",
    "    lenp = len(p.findall(s))\n",
    "    lenq = len(q.findall(s))\n",
    "    return 3 * lenq + lenp + 2"
   ]
  },
  {
   "cell_type": "markdown",
   "metadata": {},
   "source": [
    "### Test"
   ]
  },
  {
   "cell_type": "code",
   "execution_count": 22,
   "metadata": {
    "ExecuteTime": {
     "end_time": "2017-12-08T21:30:15.518501",
     "start_time": "2017-12-08T21:30:15.501516"
    },
    "collapsed": true
   },
   "outputs": [],
   "source": [
    "def test():\n",
    "    assert(difference('') == 2)\n",
    "    assert(difference('abc') == 2)\n",
    "    assert(difference('aaa\\\\\\\"aaa') == 3)\n",
    "    assert(difference('\\\\x27') == 5)\n",
    "test()"
   ]
  },
  {
   "cell_type": "code",
   "execution_count": 23,
   "metadata": {
    "ExecuteTime": {
     "end_time": "2017-12-08T21:30:17.241243",
     "start_time": "2017-12-08T21:30:17.220167"
    }
   },
   "outputs": [
    {
     "data": {
      "text/plain": [
       "1371"
      ]
     },
     "execution_count": 23,
     "metadata": {},
     "output_type": "execute_result"
    }
   ],
   "source": [
    "sum(list(map(difference, strings)))"
   ]
  },
  {
   "cell_type": "markdown",
   "metadata": {},
   "source": [
    "## Day 8.2"
   ]
  },
  {
   "cell_type": "code",
   "execution_count": 60,
   "metadata": {
    "ExecuteTime": {
     "end_time": "2017-12-08T21:54:28.937112",
     "start_time": "2017-12-08T21:54:28.925022"
    }
   },
   "outputs": [],
   "source": [
    "strings = []\n",
    "with open('inputs/input8.txt', 'rt') as f_input:\n",
    "    for line in f_input:\n",
    "        strings.append(line.rstrip()[1:-1])"
   ]
  },
  {
   "cell_type": "code",
   "execution_count": 61,
   "metadata": {
    "ExecuteTime": {
     "end_time": "2017-12-08T21:54:32.132689",
     "start_time": "2017-12-08T21:54:32.099753"
    }
   },
   "outputs": [
    {
     "data": {
      "text/plain": [
       "['\\\\xa8br\\\\x8bjr\\\\\"',\n",
       " 'nq',\n",
       " 'zjrfcpbktjmrzgsz\\\\xcaqsc\\\\x03n\\\\\"huqab',\n",
       " 'daz\\\\\\\\zyyxddpwk',\n",
       " 'draes\\\\xa2n\\\\\\\\g\\\\x27ek\\\\\"lj\\\\\"\\\\\\\\viqych',\n",
       " 'nnx\\\\\\\\krnrfomdnt\\\\x2flbl\\\\xd2xpo\\\\\"cp\\\\\"k',\n",
       " 'kwdaapalq',\n",
       " 'u\\\\\"ptk',\n",
       " 'ckhorczuiudfjmmcc\\\\\\\\u\\\\\"wozqxibsfjma',\n",
       " 'ydctdrxat\\\\\"pd\\\\\"lwi\\\\\"bjesevfw\\\\xe8',\n",
       " 'v\\\\\"\\\\xa8rrzep\\\\\"\\\\\"r',\n",
       " 'nbydghkfvmq\\\\\\\\\\\\xe0\\\\\"lfsrsvlsj\\\\\"i\\\\x61liif',\n",
       " 'jsas\\\\\"u',\n",
       " 'odipikxlo',\n",
       " '\\\\\"rnubsgwltqkbsu\\\\\"pcpcs',\n",
       " 'eitk\\\\\\\\f\\\\\\\\mhcqqoym\\\\\\\\ji',\n",
       " 'vnedc',\n",
       " '\\\\\"lhcaurdqzyjyu',\n",
       " 'haxzsa\\\\\"zcn\\\\\"y\\\\\"foclgtjfcnv\\\\\"m\\\\x68krc',\n",
       " '\\\\\"eoeggg\\\\\"tmiydvcay\\\\\"vfavc',\n",
       " 'snqvyqoncwxcvwbdktoywch',\n",
       " 'rnfgjsyr\\\\xd5wacy',\n",
       " 'ik\\\\\"hebrpvsts',\n",
       " 'txw',\n",
       " '\\\\x15pxtdkogd\\\\\"urbm\\\\\"gevhh\\\\\"nxr\\\\x3erxtk',\n",
       " 'cetqtcy',\n",
       " 'inleep\\\\\\\\mgl',\n",
       " 'uflwbxvww\\\\x2cxzezqnaply\\\\\"yh\\\\\"qlllzk',\n",
       " 'eepak\\\\\"xqtedzt',\n",
       " 'na\\\\x61qzfieafvyrsnwkssznohjmc',\n",
       " 'yceaonylz\\\\xc1\\\\\\\\jrlbbkzwsidfi',\n",
       " 'ybqafngkcqpbp',\n",
       " '\\\\xaft',\n",
       " 'yidjpaobqydso',\n",
       " 'ju\\\\\\\\ldxig\\\\\\\\lrdrhjcmm\\\\x77rc',\n",
       " 'tylacqeslnwj\\\\x48ds\\\\\"tjxa',\n",
       " 'efbfm',\n",
       " '\\\\\\\\fxkgoprgdcjgyajykg\\\\\\\\dtbrz',\n",
       " 'eujvva',\n",
       " 'h\\\\x7acwfpikme\\\\\\\\vwthyvrqdnx\\\\\"',\n",
       " 'rbpbrxm\\\\\\\\\\\\\"\\\\\"\\\\\"voxx',\n",
       " 'ykiw\\\\\"tkb\\\\\\\\lforu\\\\\"rsf\\\\\\\\tf\\\\\"x\\\\\"rqti',\n",
       " 'e\\\\\\\\wh\\\\x77aqeugiq\\\\\\\\ihhfqfuaij',\n",
       " 'g\\\\\"t\\\\\\\\o',\n",
       " 'nxzo\\\\\"hf\\\\\\\\xp',\n",
       " 'dxiaqfo\\\\xea',\n",
       " 'kali\\\\\\\\zczhiqkqzybjj\\\\\"fgdjnik',\n",
       " 'zdkgrqmdv',\n",
       " 'bimxim\\\\xb6lrwsaj\\\\\"ui\\\\\"a',\n",
       " '\\\\\"rrznitibgx\\\\\\\\olpsjmjqzctxaubdifsq',\n",
       " 'zb\\\\\"khzixaacmhuzmlymoformipdzml',\n",
       " 'qfwi',\n",
       " 'hjwsxfpphttjy\\\\\"\\\\\"zixais\\\\xbblgnqfto',\n",
       " 'puj\\\\\\\\qmyu\\\\\"nqgaqfthbwjokbmrpbhpi',\n",
       " 'cyxdpkh\\\\\\\\\\\\\"',\n",
       " 'q',\n",
       " 'm',\n",
       " 'tbxdzzllarlo',\n",
       " 'gbtys',\n",
       " 'gytilk\\\\\\\\vlqxvcuutjunrqc',\n",
       " 'uugkvcuzan\\\\\\\\eyhb',\n",
       " 'yaxr\\\\\"genlbgw\\\\\"\\\\\\\\uc',\n",
       " 'nrgecjeip\\\\\\\\sjdvgqaqxwsqactopu',\n",
       " 'pu\\\\\"r\\\\\"txpyrkfny\\\\\\\\zmwfneyvwmnkkdipv',\n",
       " 'jm\\\\xa3bhwvq',\n",
       " 'qxojmnml\\\\\"w\\\\x9airr',\n",
       " 'xbzsuihs\\\\x4dcedy\\\\xaclrhgii\\\\\\\\\\\\\"',\n",
       " 'drgjirusrekrwmvxllwdm',\n",
       " '\\\\x28hfxnfpycmpnkku\\\\\"csuf\\\\xaarxlqyg\\\\\"x',\n",
       " '\\\\\"zvz\\\\\\\\rmg\\\\\"\\\\\\\\sxxoifffyqfyn\\\\\"iq\\\\\"ps',\n",
       " '\\\\\"z',\n",
       " 'zbwkmk\\\\\"sgzos\\\\x93gtc\\\\\"',\n",
       " 'bvm\\\\x28aa\\\\\\\\\\\\\\\\\\\\\"pywuhaniox\\\\\\\\z\\\\\\\\hbp\\\\xd7mold',\n",
       " 'aszgvsyna',\n",
       " 'qf\\\\\"vdwuss',\n",
       " 'lnohni\\\\\"qwiacjsjegstlbfq\\\\\\\\kyjhyd',\n",
       " 'c\\\\\\\\naawulxlqplnacvytspry\\\\xf5ytxxqq',\n",
       " 'razwqmsqgbaaxcd\\\\\\\\f',\n",
       " 'radggyrjrg\\\\\"zx',\n",
       " '\\\\\"pu\\\\x11t\\\\\\\\ajcjuieinlkvya',\n",
       " 'veggiskh',\n",
       " 'eglfhjxiet\\\\\"kouqfskwsy\\\\\"hpthsldel',\n",
       " 'mv\\\\xc1b\\\\\"f\\\\\\\\shrssnjwcpmurepdxdlcj',\n",
       " 'dlayjd\\\\\"suvzotgdtc',\n",
       " '\\\\xa9pvxeopn',\n",
       " 'lpplsaxy\\\\\"oiwaq',\n",
       " 'hqwh\\\\\\\\lusv',\n",
       " 'hykykwlx\\\\\"\\\\xa5atkgh\\\\\\\\d\\\\x63dff',\n",
       " 'vfktanpjy\\\\\"xxetc',\n",
       " 'dnhwkgjnsmsswfuelvihvjl\\\\\"jtf',\n",
       " 'x\\\\\"dwvzra\\\\\"nbbsewftehczgbvfzd\\\\\"rau',\n",
       " 'csfi\\\\\"mzejnjqkqupwadrgti\\\\\"von',\n",
       " 'xckf\\\\xf7xsm\\\\\\\\pgvlpetjndpyblais\\\\\\\\z',\n",
       " 'yecy\\\\x6fuj\\\\x58bwpgeuiw\\\\\"mdu',\n",
       " 'fgb',\n",
       " 'c\\\\\\\\lx\\\\x3efthet\\\\xfdelgvwvpem',\n",
       " 'kgyrmarvfwjinlowt',\n",
       " 'yzte',\n",
       " 'vc\\\\\"z',\n",
       " 'sxevqfzmmdwsuu\\\\\"',\n",
       " 'fxbaercmcy\\\\xb6md',\n",
       " 'f',\n",
       " 'm\\\\x44gqbcppho\\\\\\\\b',\n",
       " 'gtafr\\\\x57m\\\\x11jy\\\\\"\\\\\"erwmmpiwjkbckuw',\n",
       " 'ufdjt\\\\\"kssprzxqixzxmq\\\\x58q',\n",
       " 'yzbyo\\\\\"lfdbyaxexyfbnyv\\\\\\\\\\\\xe8xmre',\n",
       " 'u\\\\x43ntr\\\\\\\\\\\\\\\\byyfjr\\\\\"iveujvnwsqbnpuvrta',\n",
       " 'us\\\\xf6bai',\n",
       " 'c\\\\\\\\edh',\n",
       " 'tzckolphexfq\\\\\\\\\\\\x23\\\\xfbdqv\\\\\\\\\\\\\"m',\n",
       " 'yjafhbvhhj\\\\x1b\\\\\"bplb',\n",
       " '\\\\\"o',\n",
       " 'rubahvmp\\\\\"',\n",
       " 'qmkukrnrmqumh',\n",
       " 'wdpxyvyidhwjf\\\\\\\\nabbijwhr\\\\xc5bksvy\\\\\"p',\n",
       " 'u\\\\\"prlpg\\\\\"',\n",
       " 'nsvcquyxbwilsxxemf\\\\xd9leq',\n",
       " 'y\\\\xcetxuafl',\n",
       " 'it',\n",
       " 'kwdlysf\\\\\\\\xjpelae',\n",
       " 'viwh\\\\x58wpjjlnvryuti\\\\x2chngrx\\\\\\\\nhtkui',\n",
       " 'vhn\\\\x9ehre\\\\xc3ncsqbozms\\\\\"nl',\n",
       " 'ytc\\\\xa3mgeeogjcqavmmmd',\n",
       " 'xzlexlitseozoxtpzzutfq',\n",
       " 'cish\\\\x07lmovj',\n",
       " 'ekbflwqzaiivdr\\\\\"pq\\\\\\\\azrfbntqwkn',\n",
       " 'uc\\\\\"xdbegmlmhksofzohavtrnxf',\n",
       " 'xfdnrdqdrcjzbe',\n",
       " 'ndg\\\\\"ckgrpisib\\\\\"rg\\\\\"p\\\\\\\\lmpfzlssnvk',\n",
       " 'witfjwpbyyzlop',\n",
       " 'zonlww\\\\\"emrbcsgdtrg\\\\\"rjzy\\\\x64zqntlw',\n",
       " 'dvgb\\\\\"zn\\\\\\\\vrbzema\\\\\"ckmd',\n",
       " '\\\\\\\\vdlmxhlvldk\\\\\"pmzazeip',\n",
       " '\\\\\"\\\\\"r',\n",
       " 'rsntinv',\n",
       " 'iy',\n",
       " 'lr\\\\x20efh',\n",
       " 'csgexlb\\\\\"zqdavlxxhtdbh\\\\\"\\\\\"\\\\x0fkpvhiphm',\n",
       " 'ouwhp\\\\\"ogbft',\n",
       " 'cm\\\\\\\\ckltng\\\\\"dw\\\\x8brf\\\\xf0eppgckd',\n",
       " 'zmnlsgalhpkejsizfsbtnfliu\\\\\"nhc',\n",
       " 'pnrkaayqvwpdjbhcrbb\\\\\"yfeq\\\\\"aq',\n",
       " 'ozh\\\\\\\\hoxow\\\\x2csrtr\\\\\\\\r\\\\\"',\n",
       " 'bqxabj\\\\\"u\\\\\\\\s',\n",
       " 'cpsjti\\\\\"gy',\n",
       " 'aa\\\\\"p\\\\\\\\nki\\\\\\\\ajijkqev',\n",
       " 'q\\\\\"\\\\\"lfdentjgd\\\\\\\\',\n",
       " 'bmokvpoebutfki',\n",
       " 'pielvcbne\\\\xf6efvzxn',\n",
       " 'kx',\n",
       " 'zlgmqagcrbhrwtwtmmg',\n",
       " 'aiyhmntcqjbpv\\\\xb5hhswxbryoedvos',\n",
       " 'tdpaxrb',\n",
       " 'fu\\\\\"\\\\x7dttkyvhrlwko',\n",
       " 'oirc\\\\\\\\\\\\\"cqlnqffjqt\\\\\\\\k',\n",
       " 'edxlia\\\\\\\\tcyby',\n",
       " 'jpeybgwfayerfrfbvfog\\\\\"ol',\n",
       " 'ysr',\n",
       " 'bzwzilgwfugjk',\n",
       " 'tlcc\\\\x75nukvwjgftetjcs\\\\xaecwc',\n",
       " 'dsqssa\\\\\"vzrf\\\\\"sewbp\\\\\\\\ahhlmhbeihlh',\n",
       " 'qtgmjck\\\\\"n\\\\\"guki\\\\\"gmdivwqxismqj',\n",
       " '\\\\\"f',\n",
       " 'wuorvlovucngbzdszqpikyk',\n",
       " 'dfrdsacoukmgvhbq\\\\\"\\\\\"iwto',\n",
       " '\\\\\"ey\\\\\"ch\\\\\\\\wcgioe\\\\\\\\\\\\\"ouvligmsw',\n",
       " 'ciqlszzgs',\n",
       " '\\\\\\\\tzyrkaoi\\\\\"sopjaq',\n",
       " 'lmtnv',\n",
       " 'ar\\\\\"fqoroigiertjjlm\\\\\"ymgi\\\\\\\\kkjewsxd',\n",
       " 'wehcimlvudpxtamdn\\\\\"rwy',\n",
       " 'hr\\\\\"zvrwthr\\\\\"vruzqfrldn\\\\\"b',\n",
       " 'sggekodkiwvym\\\\\"mhsco',\n",
       " 'ltlkfbrrdvk\\\\\\\\',\n",
       " 'uut\\\\\"sfjnz\\\\\"\\\\\\\\ef',\n",
       " 'hxilg\\\\\\\\',\n",
       " 'zsredsiwlzrpedibn',\n",
       " 'vtfi',\n",
       " '\\\\\\\\h',\n",
       " 'qekfrc\\\\xf6wduodbwrguqcng\\\\\\\\n',\n",
       " '\\\\\"lljlfdrxftwidn\\\\\\\\pkv\\\\xd9ij',\n",
       " 'mrvgqynpehkliuijlpp',\n",
       " 'gikjph',\n",
       " 'yoxcdrdt\\\\\"wbaurnyhoyxoihu',\n",
       " 'onmomwuxuammbzxe',\n",
       " 'rnrr\\\\\\\\twviz\\\\x61gqaljr\\\\x0dmtw',\n",
       " 'r\\\\\"vupaoi',\n",
       " 'l',\n",
       " 'sei',\n",
       " 'jwxtdtbkd\\\\\\\\kxd',\n",
       " '\\\\x22v\\\\\\\\',\n",
       " 'ahd',\n",
       " 'j\\\\\"bjqxs',\n",
       " '\\\\\\\\i\\\\x24gglxub\\\\\\\\nzsajokt',\n",
       " 'lviwpu\\\\\"uxdlh\\\\\\\\zuy\\\\\"xqy\\\\\"ytdzlx\\\\\"r',\n",
       " 'kptfmys',\n",
       " 'fwxzikfhczkjwyjszqdbkepaeellc',\n",
       " 'nlqpsvbrbd\\\\\\\\ns',\n",
       " 'qryuwkjiodw\\\\\"\\\\\"vaqyq\\\\\"dmyifm',\n",
       " 'tw\\\\x15kdmaudjl\\\\\\\\zorhp\\\\\"alwh',\n",
       " 'aatrvczesykekkjfyb\\\\\"kb',\n",
       " 'usqcutbqbxxhucwxo\\\\xc1ltb\\\\\"j\\\\\"bghjcvws',\n",
       " 'ilhsrnzxkz',\n",
       " 'bianqfdfdhvw',\n",
       " 'hqibqs\\\\x7ax\\\\\"qoxqoaqtcsz',\n",
       " 'htxtoojbbauztwxuiq\\\\\\\\ngyfy\\\\\\\\obzc',\n",
       " 'rxn\\\\\\\\moxlj',\n",
       " 'mtus\\\\x84erh\\\\\"dbe',\n",
       " 'asx\\\\x50huvsitcxadt',\n",
       " '\\\\\"bugggtnrc\\\\\"\\\\\"kl\\\\\"hmpu\\\\x83hqrvhpo',\n",
       " 'ewisbp\\\\\"\\\\\"vuzf\\\\\\\\w\\\\x5fvalszdhl',\n",
       " 'scusplpwxfnxu\\\\x57\\\\\"zynpn\\\\x99xerc\\\\\\\\ri',\n",
       " 'm\\\\\\\\kinmkke\\\\x0cl',\n",
       " 'xhuzit\\\\x7fd',\n",
       " 'kfbo\\\\x04\\\\x50ruqirn',\n",
       " 't\\\\\"\\\\\"xpbdscmdoug',\n",
       " 'punvpsgnbgyxe\\\\\"sptmpz',\n",
       " 'bxukkazijr',\n",
       " 'nxyrcdaoo\\\\\"rjkk\\\\\"wntehcvcip\\\\\"vrd',\n",
       " 'rdpvqskmihqaw',\n",
       " 'p\\\\\\\\gwdhtqnpgthod',\n",
       " 'nwnuf\\\\\"\\\\\"yebycearom\\\\\"nqym\\\\\"\\\\xd4sii\\\\xccle',\n",
       " 'alda\\\\\"ptspo\\\\\"wkkv\\\\\"zoi\\\\\"hkb\\\\\"vnntyd',\n",
       " 'ixpgpfzbqv',\n",
       " 'znui\\\\\"\\\\\\\\fzn\\\\x03qozabh\\\\\"rva\\\\\"pv\\\\x67',\n",
       " 'e\\\\\"zswmwuk',\n",
       " 'hcccygwfa',\n",
       " 'ngmace\\\\\\\\rtyllolr\\\\\"\\\\x68bw',\n",
       " '\\\\\\\\c\\\\\"jyufbry\\\\\"ryo\\\\\"xpo\\\\x26ecninfeckh\\\\\\\\s',\n",
       " 'hdnpngtuc\\\\\"dzbvvosn\\\\x31fwtpzbrt',\n",
       " 'hesbpd\\\\xd4',\n",
       " 'dsdbstuzrdfmrnyntufs\\\\\"dmv',\n",
       " 'd\\\\xeeibcwhcvkt',\n",
       " 'fvzwrsfjdqdmy\\\\\"\\\\\"v',\n",
       " 'ns\\\\\"dqafz\\\\\\\\lkyoflnazv\\\\\"mn\\\\x37\\\\\"o\\\\\"yj\\\\\"e',\n",
       " 'dypilgbwzccayxa\\\\\"bnmuernx',\n",
       " 'q\\\\xa9ztqrhreb\\\\\"\\\\\"kxfeyodqb',\n",
       " 'iz\\\\xa5qjxqulaawuwz\\\\\"rqmpcj\\\\\\\\yel',\n",
       " 'z\\\\\"\\\\\\\\pq\\\\\"\\\\\"y\\\\x67zpjtn',\n",
       " 'ifxqvivp\\\\\"kiiftdoe',\n",
       " 'jxzebj\\\\\"\\\\x35\\\\\"qr\\\\\"ecglcutuoyywqumcs\\\\\"kk',\n",
       " 'q',\n",
       " 'yob\\\\x85qmpuwexptczbkrl',\n",
       " 'cjiavv\\\\\"uudpozvibyycnmxhxpxmpjoz',\n",
       " 'xro\\\\\\\\uiqyrcid',\n",
       " 'nod\\\\\\\\k',\n",
       " 'd\\\\\"neiec',\n",
       " 'tqyrqvwyvmz\\\\\\\\pzgzzcqsqsrgbqbtapoz',\n",
       " 'r\\\\\"xvocpeuxfxslgueb\\\\x05kzyyie\\\\\"aoec',\n",
       " '\\\\\"du\\\\\\\\uirlhcbgv\\\\\\\\cjqhfreqnvn',\n",
       " 'zp\\\\x04\\\\x15\\\\\"pbjwhrjtmiba',\n",
       " '\\\\\\\\cv\\\\\"',\n",
       " 'k\\\\\"rwnb\\\\\\\\hiu\\\\\"rqd\\\\\"rc\\\\\\\\nyakrhly',\n",
       " 'klrmafjzandiddodgz',\n",
       " 'xipzhqzhvlpykzcuppx',\n",
       " 'zdvrvn\\\\xd0mtfvpylbn\\\\\\\\\\\\\\\\sxcznrzugwznl',\n",
       " 'ody\\\\\\\\pvm\\\\\"kpjiudzhxazirgxzvumeat\\\\\"o',\n",
       " 'kllvhdp\\\\\"prjikzrrc\\\\\"adgpegc\\\\\\\\\\\\\"gk',\n",
       " 'sqtpug\\\\xbcaauxaamw',\n",
       " 'wegxxrrxdvpivrqievfeokmnojsk',\n",
       " '\\\\\\\\bo',\n",
       " 'gijhz',\n",
       " 'ylowluvabwrigssdgtxdwsiorxev\\\\xdd',\n",
       " '\\\\\"',\n",
       " 'ghnsrnsqtxpygikahkrl',\n",
       " '\\\\\"rcfqkbjf\\\\\"sgxg\\\\\"vnd\\\\\\\\rotn',\n",
       " 'ap\\\\\"smgsuexjrbuqs\\\\\"mpbstogj\\\\\"x',\n",
       " 'koaunz\\\\\\\\sgt\\\\\"opv',\n",
       " 'yialiuzwix',\n",
       " 'yp\\\\\"ndxgwzml\\\\\"bt',\n",
       " 'lpcjxmggfsy\\\\\\\\szbxccarjkqzasqkb\\\\xcfd\\\\x0c',\n",
       " 'x',\n",
       " 'mgakc',\n",
       " 'vjieunoh\\\\x73fjwx',\n",
       " 'erbvv\\\\\"qulsd',\n",
       " 'mimycrbfhqkarmz',\n",
       " 'tihfbgcszuej\\\\\"c\\\\xfbvoqskkhbgpaddioo',\n",
       " 'mziavkwrmekriqghw',\n",
       " 'izk\\\\\\\\tnjd\\\\\\\\ed\\\\\\\\emokvjoc',\n",
       " 'c\\\\\"nhbqzndro\\\\\\\\g',\n",
       " 'usfngdo',\n",
       " 'aypljdftvptt',\n",
       " 'ym\\\\\"afvq\\\\xbcc',\n",
       " 'zabi\\\\\"wjpvugwhl',\n",
       " 'ebvptcjqjhc\\\\\"n\\\\\"p\\\\\"dxrphegr\\\\\\\\',\n",
       " 'mzlqqxokhye\\\\xd9\\\\\\\\rffhnzs',\n",
       " 'hnipqknwpsjakanuewe',\n",
       " 'rqgbfcjdrmiz\\\\\"h',\n",
       " 'kzzp\\\\\\\\z\\\\\\\\txmkwaouxictybwx',\n",
       " 'yzmspjkqrteiydswlvb',\n",
       " 'gjpxklgpzv\\\\\"txri\\\\\\\\hotpuiukzzzd',\n",
       " 'p\\\\\"rxergtbsxmjmkeeqwvoagnki\\\\\"',\n",
       " 'santipvuiq',\n",
       " '\\\\\"ihjqlhtwbuy\\\\\"hdkiv\\\\\"mtiqacnf\\\\\\\\',\n",
       " 'oliaggtqyyx',\n",
       " 'fwwnpmbb',\n",
       " 'yrtdrieazfxyyneo',\n",
       " 'nywbv\\\\\\\\',\n",
       " 'twc\\\\\\\\ehfqxhgomgrgwpxyzmnkioj',\n",
       " 'qludrkkvljljd\\\\\\\\xvdeum\\\\x4e']"
      ]
     },
     "execution_count": 61,
     "metadata": {},
     "output_type": "execute_result"
    }
   ],
   "source": [
    "strings"
   ]
  },
  {
   "cell_type": "code",
   "execution_count": 100,
   "metadata": {
    "ExecuteTime": {
     "end_time": "2017-12-08T22:08:07.638370",
     "start_time": "2017-12-08T22:08:07.623046"
    }
   },
   "outputs": [],
   "source": [
    "rule = {'\"': '\\\\\"', '\\\\': '\\\\\\\\'}\n",
    "\n",
    "def encode(s):\n",
    "    w = ''\n",
    "    for i in range(len(s)):\n",
    "        if s[i] in rule:\n",
    "            w += rule[s[i]]\n",
    "        else:\n",
    "            w += s[i]\n",
    "    return len('\"\\\\\"' + w + '\\\\\"\"') - len(s) - 2"
   ]
  },
  {
   "cell_type": "code",
   "execution_count": 101,
   "metadata": {
    "ExecuteTime": {
     "end_time": "2017-12-08T22:08:08.005559",
     "start_time": "2017-12-08T22:08:07.992464"
    }
   },
   "outputs": [
    {
     "data": {
      "text/plain": [
       "6"
      ]
     },
     "execution_count": 101,
     "metadata": {},
     "output_type": "execute_result"
    }
   ],
   "source": [
    "encode('aaa\\\\\\\"aaa')"
   ]
  },
  {
   "cell_type": "code",
   "execution_count": 102,
   "metadata": {
    "ExecuteTime": {
     "end_time": "2017-12-08T22:08:09.102791",
     "start_time": "2017-12-08T22:08:09.083721"
    }
   },
   "outputs": [],
   "source": [
    "def test():\n",
    "    assert(encode('') == 4)\n",
    "    assert(encode('abc') == 4)\n",
    "    assert(encode('aaa\\\\\\\"aaa') == 6)\n",
    "    assert(encode('\\\\x27') == 5)\n",
    "test()"
   ]
  },
  {
   "cell_type": "code",
   "execution_count": 103,
   "metadata": {
    "ExecuteTime": {
     "end_time": "2017-12-08T22:08:39.503397",
     "start_time": "2017-12-08T22:08:39.481413"
    }
   },
   "outputs": [
    {
     "data": {
      "text/plain": [
       "2117"
      ]
     },
     "execution_count": 103,
     "metadata": {},
     "output_type": "execute_result"
    }
   ],
   "source": [
    "sum(list(map(encode, strings)))"
   ]
  }
 ],
 "metadata": {
  "kernelspec": {
   "display_name": "Python [conda env:adventofcode]",
   "language": "python",
   "name": "conda-env-adventofcode-py"
  },
  "language_info": {
   "codemirror_mode": {
    "name": "ipython",
    "version": 3
   },
   "file_extension": ".py",
   "mimetype": "text/x-python",
   "name": "python",
   "nbconvert_exporter": "python",
   "pygments_lexer": "ipython3",
   "version": "3.5.2"
  },
  "toc": {
   "colors": {
    "hover_highlight": "#DAA520",
    "running_highlight": "#FF0000",
    "selected_highlight": "#FFD700"
   },
   "moveMenuLeft": true,
   "nav_menu": {
    "height": "66px",
    "width": "252px"
   },
   "navigate_menu": true,
   "number_sections": true,
   "sideBar": true,
   "threshold": 4,
   "toc_cell": false,
   "toc_section_display": "block",
   "toc_window_display": false
  }
 },
 "nbformat": 4,
 "nbformat_minor": 2
}
