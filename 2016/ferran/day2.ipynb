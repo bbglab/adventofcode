{
 "cells": [
  {
   "cell_type": "markdown",
   "metadata": {},
   "source": [
    "# Challenge 2"
   ]
  },
  {
   "cell_type": "code",
   "execution_count": 1,
   "metadata": {
    "collapsed": true
   },
   "outputs": [],
   "source": [
    "myinput = 'input2.txt'"
   ]
  },
  {
   "cell_type": "markdown",
   "metadata": {},
   "source": [
    "## Challenge 2.1"
   ]
  },
  {
   "cell_type": "code",
   "execution_count": 2,
   "metadata": {
    "collapsed": false
   },
   "outputs": [],
   "source": [
    "def pad_move(move, digit):\n",
    "    moves = {'R': 1, 'L': -1, 'U': -3, 'D': 3}\n",
    "    border = {'R': {3,6,9}, 'L': {1,4,7}, 'U': {1,2,3}, 'D': {7,8,9}}\n",
    "    new_digit = digit\n",
    "    if not digit in border[move]:\n",
    "        new_digit += moves[move] \n",
    "    return new_digit\n",
    "\n",
    "def digit_sequence(myinput):\n",
    "    with open(myinput, 'rt') as f:\n",
    "        bathroom = []\n",
    "        digit = 5\n",
    "        for line in f:\n",
    "            for move in list(line.rstrip()):\n",
    "                digit = pad_move(move, digit)\n",
    "            bathroom.append(digit)\n",
    "    return int(''.join([str(i) for i in bathroom]))"
   ]
  },
  {
   "cell_type": "code",
   "execution_count": 3,
   "metadata": {
    "collapsed": false
   },
   "outputs": [
    {
     "data": {
      "text/plain": [
       "73597"
      ]
     },
     "execution_count": 3,
     "metadata": {},
     "output_type": "execute_result"
    }
   ],
   "source": [
    "digit_sequence(myinput)"
   ]
  },
  {
   "cell_type": "markdown",
   "metadata": {},
   "source": [
    "## Challenge 2.2"
   ]
  },
  {
   "cell_type": "code",
   "execution_count": 4,
   "metadata": {
    "collapsed": true
   },
   "outputs": [],
   "source": [
    "digit_letters = {10:'A',11:'B',12:'C',13:'D'}\n",
    "\n",
    "def fancy_pad_move(move, digit):\n",
    "    f_u = lambda x: x-2 if x in {3, 13} else x-4\n",
    "    f_d = lambda x: x+2 if x in {1, 11} else x+4 \n",
    "    moves = {'R': lambda x: x+1, 'L': lambda x: x-1, 'U': f_u, 'D': f_d}\n",
    "    border = {'R': {1,4,9,12,13}, 'L': {1,2,5,10,13}, 'U': {5,2,1,4,9}, 'D': {5,10,13,12,9}}\n",
    "    new_digit = digit\n",
    "    if not digit in border[move]:\n",
    "        new_digit = moves[move](digit)\n",
    "    return new_digit\n",
    "\n",
    "def fancy_digit_sequence(myinput):\n",
    "    with open(myinput, 'rt') as f:\n",
    "        bathroom = []\n",
    "        digit = 5\n",
    "        for line in f:\n",
    "            for move in list(line.rstrip()):\n",
    "                digit = fancy_pad_move(move, digit)\n",
    "            if digit > 9:\n",
    "                letter = digit_letters[digit]\n",
    "                bathroom.append(letter)\n",
    "            else:\n",
    "                bathroom.append(digit)\n",
    "    return ''.join([str(i) for i in bathroom])"
   ]
  },
  {
   "cell_type": "code",
   "execution_count": 5,
   "metadata": {
    "collapsed": false
   },
   "outputs": [
    {
     "data": {
      "text/plain": [
       "'A47DA'"
      ]
     },
     "execution_count": 5,
     "metadata": {},
     "output_type": "execute_result"
    }
   ],
   "source": [
    "fancy_digit_sequence(myinput)"
   ]
  }
 ],
 "metadata": {
  "anaconda-cloud": {},
  "kernelspec": {
   "display_name": "Python [conda env:adventofcode]",
   "language": "python",
   "name": "conda-env-adventofcode-py"
  },
  "language_info": {
   "codemirror_mode": {
    "name": "ipython",
    "version": 3
   },
   "file_extension": ".py",
   "mimetype": "text/x-python",
   "name": "python",
   "nbconvert_exporter": "python",
   "pygments_lexer": "ipython3",
   "version": "3.5.2"
  }
 },
 "nbformat": 4,
 "nbformat_minor": 1
}
