{
 "cells": [
  {
   "cell_type": "raw",
   "metadata": {},
   "source": [
    "--- Day 15: Science for Hungry People ---\n",
    "\n",
    "Today, you set out on the task of perfecting your milk-dunking cookie recipe. All you have to do is find the right balance of ingredients.\n",
    "\n",
    "Your recipe leaves room for exactly 100 teaspoons of ingredients. You make a list of the remaining ingredients you could use to finish the recipe (your puzzle input) and their properties per teaspoon:\n",
    "\n",
    "capacity (how well it helps the cookie absorb milk)\n",
    "durability (how well it keeps the cookie intact when full of milk)\n",
    "flavor (how tasty it makes the cookie)\n",
    "texture (how it improves the feel of the cookie)\n",
    "calories (how many calories it adds to the cookie)\n",
    "You can only measure ingredients in whole-teaspoon amounts accurately, and you have to be accurate so you can reproduce your results in the future. The total score of a cookie can be found by adding up each of the properties (negative totals become 0) and then multiplying together everything except calories.\n",
    "\n",
    "For instance, suppose you have these two ingredients:\n",
    "\n",
    "Butterscotch: capacity -1, durability -2, flavor 6, texture 3, calories 8\n",
    "Cinnamon: capacity 2, durability 3, flavor -2, texture -1, calories 3\n",
    "Then, choosing to use 44 teaspoons of butterscotch and 56 teaspoons of cinnamon (because the amounts of each ingredient must add up to 100) would result in a cookie with the following properties:\n",
    "\n",
    "A capacity of 44*-1 + 56*2 = 68\n",
    "A durability of 44*-2 + 56*3 = 80\n",
    "A flavor of 44*6 + 56*-2 = 152\n",
    "A texture of 44*3 + 56*-1 = 76\n",
    "Multiplying these together (68 * 80 * 152 * 76, ignoring calories for now) results in a total score of 62842880, which happens to be the best score possible given these ingredients. If any properties had produced a negative total, it would have instead become zero, causing the whole score to multiply to zero.\n",
    "\n",
    "Given the ingredients in your kitchen and their properties, what is the total score of the highest-scoring cookie you can make?"
   ]
  },
  {
   "cell_type": "code",
   "execution_count": 47,
   "metadata": {
    "collapsed": false
   },
   "outputs": [],
   "source": [
    "import re\n",
    "from collections import defaultdict\n",
    "\n",
    "PARSE = re.compile(\"([A-Za-z]+): capacity ([-0-9]+), durability ([-0-9]+), flavor ([-0-9]+), texture ([-0-9]+), calories ([-0-9]+)\")\n",
    "\n",
    "def load_ingredients(ingredients):\n",
    "    result = {}\n",
    "    properties = defaultdict(dict)\n",
    "    for i in ingredients:\n",
    "        name, capacity, durability, flavor, texture, calories = PARSE.match(i).groups()\n",
    "        result[name] = {\n",
    "            'capacity': int(capacity), \n",
    "            'durability': int(durability),\n",
    "            'flavor': int(flavor),\n",
    "            'texture': int(texture), \n",
    "            'calories': int(calories)\n",
    "        }\n",
    "        \n",
    "    for k, r in result.items():\n",
    "        for p, v in r.items():\n",
    "            properties[p][k] = v\n",
    "            \n",
    "    return result, properties\n",
    "\n",
    "def score(elements, properties):\n",
    "    values = {k: v for k, v in elements}\n",
    "    s = 1\n",
    "    for p, v in properties.items():\n",
    "        if p == 'calories':\n",
    "            continue            \n",
    "        s *= max(sum([values[k]*w for k, w in v.items()]), 0)\n",
    "    return s\n",
    "\n",
    "def combinations(elements, total):    \n",
    "    if len(elements) == 0:\n",
    "        yield []\n",
    "    elif len(elements) == 1:\n",
    "        yield [(elements[0], total)]\n",
    "    else:    \n",
    "        first_element = elements[0]\n",
    "        for i in range(0, total+1):\n",
    "            for c in combinations(elements[1:], total - i):\n",
    "                yield [(first_element, i)] + c   \n",
    "                \n",
    "def find_max_score(ingredients, properties, total, calories=None):\n",
    "    max_combinations = []\n",
    "    max_score = -1\n",
    "    for c in combinations(list(ingredients), total):\n",
    "        \n",
    "        if calories:\n",
    "            total_calories = sum([properties['calories'][a]*v for a, v in c])\n",
    "            if total_calories != calories:\n",
    "                continue\n",
    "        \n",
    "        s = score(c, properties)\n",
    "        if s == max_score:\n",
    "            max_combinations.append(c)\n",
    "        elif s > max_score:\n",
    "            max_combinations = [c]\n",
    "            max_score = s\n",
    "    return max_score, max_combinations"
   ]
  },
  {
   "cell_type": "code",
   "execution_count": 45,
   "metadata": {
    "collapsed": false
   },
   "outputs": [
    {
     "data": {
      "text/plain": [
       "(62842880, [[('Butterscotch', 44), ('Cinnamon', 56)]])"
      ]
     },
     "execution_count": 45,
     "metadata": {},
     "output_type": "execute_result"
    }
   ],
   "source": [
    "# Test example\n",
    "example = [\n",
    "    \"Butterscotch: capacity -1, durability -2, flavor 6, texture 3, calories 8\",\n",
    "    \"Cinnamon: capacity 2, durability 3, flavor -2, texture -1, calories 3\"\n",
    "]\n",
    "\n",
    "ingredients, properties = load_ingredients(example)       \n",
    "find_max_score(ingredients, properties, 100)"
   ]
  },
  {
   "cell_type": "code",
   "execution_count": 46,
   "metadata": {
    "collapsed": false
   },
   "outputs": [
    {
     "name": "stdout",
     "output_type": "stream",
     "text": [
      "(18965440, [[('Frosting', 24), ('Sugar', 16), ('Candy', 29), ('Butterscotch', 31)]])\n"
     ]
    }
   ],
   "source": [
    "# Real input\n",
    "with open(\"day15/input.txt\", \"rt\") as fd:\n",
    "    ingredients, properties = load_ingredients(fd)       \n",
    "    print(find_max_score(ingredients, properties, 100))"
   ]
  },
  {
   "cell_type": "raw",
   "metadata": {},
   "source": [
    "--- Part Two ---\n",
    "\n",
    "Your cookie recipe becomes wildly popular! Someone asks if you can make another recipe that has exactly 500 calories per cookie (so they can use it as a meal replacement). Keep the rest of your award-winning process the same (100 teaspoons, same ingredients, same scoring system).\n",
    "\n",
    "For example, given the ingredients above, if you had instead selected 40 teaspoons of butterscotch and 60 teaspoons of cinnamon (which still adds to 100), the total calorie count would be 40*8 + 60*3 = 500. The total score would go down, though: only 57600000, the best you can do in such trying circumstances.\n",
    "\n",
    "Given the ingredients in your kitchen and their properties, what is the total score of the highest-scoring cookie you can make with a calorie total of 500?"
   ]
  },
  {
   "cell_type": "code",
   "execution_count": 48,
   "metadata": {
    "collapsed": false
   },
   "outputs": [
    {
     "data": {
      "text/plain": [
       "(57600000, [[('Butterscotch', 40), ('Cinnamon', 60)]])"
      ]
     },
     "execution_count": 48,
     "metadata": {},
     "output_type": "execute_result"
    }
   ],
   "source": [
    "# Test example\n",
    "ingredients, properties = load_ingredients(example)       \n",
    "find_max_score(ingredients, properties, 100, calories=500)"
   ]
  },
  {
   "cell_type": "code",
   "execution_count": 49,
   "metadata": {
    "collapsed": false
   },
   "outputs": [
    {
     "name": "stdout",
     "output_type": "stream",
     "text": [
      "(15862900, [[('Frosting', 21), ('Sugar', 25), ('Candy', 23), ('Butterscotch', 31)]])\n"
     ]
    }
   ],
   "source": [
    "# Real input\n",
    "with open(\"day15/input.txt\", \"rt\") as fd:\n",
    "    ingredients, properties = load_ingredients(fd)       \n",
    "    print(find_max_score(ingredients, properties, 100, calories=500))"
   ]
  },
  {
   "cell_type": "code",
   "execution_count": null,
   "metadata": {
    "collapsed": true
   },
   "outputs": [],
   "source": []
  }
 ],
 "metadata": {
  "kernelspec": {
   "display_name": "Python 3",
   "language": "python",
   "name": "python3"
  },
  "language_info": {
   "codemirror_mode": {
    "name": "ipython",
    "version": 3
   },
   "file_extension": ".py",
   "mimetype": "text/x-python",
   "name": "python",
   "nbconvert_exporter": "python",
   "pygments_lexer": "ipython3",
   "version": "3.4.3"
  }
 },
 "nbformat": 4,
 "nbformat_minor": 0
}
