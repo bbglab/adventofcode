{
 "cells": [
  {
   "cell_type": "markdown",
   "metadata": {},
   "source": [
    "```\n",
    "The device on your wrist beeps several times, and once again you feel like you're falling.\n",
    "\n",
    "\"Situation critical,\" the device announces. \"Destination indeterminate. Chronal interference detected. Please specify new target coordinates.\"\n",
    "\n",
    "The device then produces a list of coordinates (your puzzle input). Are they places it thinks are safe or dangerous? It recommends you check manual page 729. The Elves did not give you a manual.\n",
    "\n",
    "If they're dangerous, maybe you can minimize the danger by finding the coordinate that gives the largest distance from the other points.\n",
    "\n",
    "Using only the Manhattan distance, determine the area around each coordinate by counting the number of integer X,Y locations that are closest to that coordinate (and aren't tied in distance to any other coordinate).\n",
    "\n",
    "Your goal is to find the size of the largest area that isn't infinite. For example, consider the following list of coordinates:\n",
    "\n",
    "1, 1\n",
    "1, 6\n",
    "8, 3\n",
    "3, 4\n",
    "5, 5\n",
    "8, 9\n",
    "If we name these coordinates A through F, we can draw them on a grid, putting 0,0 at the top left:\n",
    "\n",
    "..........\n",
    ".A........\n",
    "..........\n",
    "........C.\n",
    "...D......\n",
    ".....E....\n",
    ".B........\n",
    "..........\n",
    "..........\n",
    "........F.\n",
    "This view is partial - the actual grid extends infinitely in all directions. Using the Manhattan distance, each location's closest coordinate can be determined, shown here in lowercase:\n",
    "\n",
    "aaaaa.cccc\n",
    "aAaaa.cccc\n",
    "aaaddecccc\n",
    "aadddeccCc\n",
    "..dDdeeccc\n",
    "bb.deEeecc\n",
    "bBb.eeee..\n",
    "bbb.eeefff\n",
    "bbb.eeffff\n",
    "bbb.ffffFf\n",
    "Locations shown as . are equally far from two or more coordinates, and so they don't count as being closest to any.\n",
    "\n",
    "In this example, the areas of coordinates A, B, C, and F are infinite - while not shown here, their areas extend forever outside the visible grid. However, the areas of coordinates D and E are finite: D is closest to 9 locations, and E is closest to 17 (both including the coordinate's location itself). Therefore, in this example, the size of the largest area is 17.\n",
    "\n",
    "What is the size of the largest area that isn't infinite?\n",
    "```"
   ]
  },
  {
   "cell_type": "code",
   "execution_count": 1,
   "metadata": {},
   "outputs": [],
   "source": [
    "from collections import Counter, defaultdict\n",
    "\n",
    "# Parses lines like \"123, 123\"\n",
    "def parse(line):\n",
    "    x, y = line.split(',')\n",
    "    return int(x), int(y)\n",
    "\n",
    "# Compute Manhattan distance\n",
    "def distance((x1, y1), (x2, y2)):\n",
    "    return abs(x1 - x2) + abs(y1 - y2)    \n",
    "\n",
    "# Nearst location to p or None if there is more than one location at the same distance\n",
    "def nearest(p, locations):\n",
    "    distances = defaultdict(list)\n",
    "    for l in locations:\n",
    "        distances[distance(l, p)].append(l)\n",
    "        \n",
    "    min_distance = min(distances.keys())\n",
    "    \n",
    "    # Don't count positions with more than one location at the same distance    \n",
    "    if len(distances[min_distance]) > 1:\n",
    "        return None\n",
    "    \n",
    "    return distances[min_distance][0]\n",
    "\n",
    "# Returns True if the (x, y) location is surrounded\n",
    "def has_finite_area((x, y), locations):\n",
    "    \n",
    "    directions = [    \n",
    "        (i, j) -> (i < x) and (j < y),  # northeast\n",
    "        (i, j) -> (i < x) and (j > y),  # southeast\n",
    "        (i, j) -> (i > x) and (j < y),  # northwest\n",
    "        (i, j) -> (i > x) and (j > y)   # southwest\n",
    "    ]\n",
    "    \n",
    "    for d in directions:        \n",
    "        \n",
    "        # If there is no other location at one direction\n",
    "        # it will have an infinite area\n",
    "        if sum(1 for i, j in locations if d(i, j)) == 0:\n",
    "            return False\n",
    "    \n",
    "    return True\n",
    "\n",
    "# Returns and iterator of all the coordinates in the area of interest\n",
    "def area_to_explore(locations):\n",
    "    \n",
    "    # Area borders\n",
    "    north = min(l[1] for l in locations) \n",
    "    south = max(l[1] for l in locations) \n",
    "    east  = min(l[0] for l in locations) \n",
    "    west  = max(l[0] for l in locations) \n",
    "\n",
    "    # All area coordinates\n",
    "    return ((x, y) for x in range(east, west+1) for y in range(north, south+1))    \n",
    "\n",
    "# Returns the maximum area of a surrounded location\n",
    "def maximum_finite_area(locations):        \n",
    "    \n",
    "    # Count the area\n",
    "    areas = Counter(locations |> area_to_explore |> fmap$(nearest$(?, locations)))        \n",
    "    \n",
    "    # Find locations that has a finite area\n",
    "    finite_locations = locations |> filter$(has_finite_area$(?, locations)) |> list\n",
    "    \n",
    "    # Return the biggest area belonging to a finite area location\n",
    "    return max(areas[l] for l in finite_locations)"
   ]
  },
  {
   "cell_type": "code",
   "execution_count": 2,
   "metadata": {},
   "outputs": [
    {
     "data": {
      "text/plain": [
       "17"
      ]
     },
     "execution_count": 2,
     "metadata": {},
     "output_type": "execute_result"
    }
   ],
   "source": [
    "# Test the example\n",
    "example = [\"1, 1\", \"1, 6\", \"8, 3\", \"3, 4\", \"5, 5\", \"8, 9\"]\n",
    "example |> fmap$(parse) |> maximum_finite_area"
   ]
  },
  {
   "cell_type": "code",
   "execution_count": 3,
   "metadata": {},
   "outputs": [
    {
     "data": {
      "text/plain": [
       "3010"
      ]
     },
     "execution_count": 3,
     "metadata": {},
     "output_type": "execute_result"
    }
   ],
   "source": [
    "# Compute input\n",
    "open(\"input/day06.txt\") |> fmap$(parse) |> maximum_finite_area"
   ]
  },
  {
   "cell_type": "markdown",
   "metadata": {},
   "source": [
    "```\n",
    "--- Part Two ---\n",
    "On the other hand, if the coordinates are safe, maybe the best you can do is try to find a region near as many coordinates as possible.\n",
    "\n",
    "For example, suppose you want the sum of the Manhattan distance to all of the coordinates to be less than 32. For each location, add up the distances to all of the given coordinates; if the total of those distances is less than 32, that location is within the desired region. Using the same coordinates as above, the resulting region looks like this:\n",
    "\n",
    "..........\n",
    ".A........\n",
    "..........\n",
    "...###..C.\n",
    "..#D###...\n",
    "..###E#...\n",
    ".B.###....\n",
    "..........\n",
    "..........\n",
    "........F.\n",
    "In particular, consider the highlighted location 4,3 located at the top middle of the region. Its calculation is as follows, where abs() is the absolute value function:\n",
    "\n",
    "Distance to coordinate A: abs(4-1) + abs(3-1) =  5\n",
    "Distance to coordinate B: abs(4-1) + abs(3-6) =  6\n",
    "Distance to coordinate C: abs(4-8) + abs(3-3) =  4\n",
    "Distance to coordinate D: abs(4-3) + abs(3-4) =  2\n",
    "Distance to coordinate E: abs(4-5) + abs(3-5) =  3\n",
    "Distance to coordinate F: abs(4-8) + abs(3-9) = 10\n",
    "Total distance: 5 + 6 + 4 + 2 + 3 + 10 = 30\n",
    "Because the total distance to all coordinates (30) is less than 32, the location is within the region.\n",
    "\n",
    "This region, which also includes coordinates D and E, has a total size of 16.\n",
    "\n",
    "Your actual region will need to be much larger than this example, though, instead including all locations with a total distance of less than 10000.\n",
    "\n",
    "What is the size of the region containing all locations which have a total distance to all given coordinates of less than 10000?\n",
    "\n",
    "```"
   ]
  },
  {
   "cell_type": "code",
   "execution_count": 4,
   "metadata": {},
   "outputs": [],
   "source": [
    "# Check that a is in a safe region with distance less than safe_distance\n",
    "def is_in_safe_region(a, locations, safe_distance):\n",
    "    total_distance = locations |> fmap$(distance$(?, a)) |> sum\n",
    "    return total_distance < safe_distance\n",
    "\n",
    "# Returns and iterator over all safe coordinates\n",
    "def locations_in_safe_region(locations, safe_distance):    \n",
    "    return area_to_explore(locations) |> filter$(is_in_safe_region$(?, locations, safe_distance)) "
   ]
  },
  {
   "cell_type": "code",
   "execution_count": 5,
   "metadata": {},
   "outputs": [
    {
     "data": {
      "text/plain": [
       "16"
      ]
     },
     "execution_count": 5,
     "metadata": {},
     "output_type": "execute_result"
    }
   ],
   "source": [
    "example |> fmap$(parse) |> locations_in_safe_region$(?, 32) |> list |> len"
   ]
  },
  {
   "cell_type": "code",
   "execution_count": 6,
   "metadata": {},
   "outputs": [
    {
     "data": {
      "text/plain": [
       "48034"
      ]
     },
     "execution_count": 6,
     "metadata": {},
     "output_type": "execute_result"
    }
   ],
   "source": [
    "open(\"input/day06.txt\") |> fmap$(parse) |> locations_in_safe_region$(?, 10000) |> list |> len"
   ]
  }
 ],
 "metadata": {
  "kernelspec": {
   "display_name": "Coconut (Python 3)",
   "language": "coconut",
   "name": "coconut3"
  },
  "language_info": {
   "codemirror_mode": {
    "name": "python",
    "version": 3.6
   },
   "file_extension": ".coco",
   "mimetype": "text/x-python3",
   "name": "coconut",
   "pygments_lexer": "coconut"
  }
 },
 "nbformat": 4,
 "nbformat_minor": 2
}
