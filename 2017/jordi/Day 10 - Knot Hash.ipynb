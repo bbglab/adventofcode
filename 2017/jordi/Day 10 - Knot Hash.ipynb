{
 "cells": [
  {
   "cell_type": "markdown",
   "metadata": {},
   "source": [
    "# Part 1"
   ]
  },
  {
   "cell_type": "code",
   "execution_count": 1,
   "metadata": {},
   "outputs": [
    {
     "data": {
      "text/plain": [
       "knot_hash (generic function with 3 methods)"
      ]
     },
     "execution_count": 1,
     "metadata": {},
     "output_type": "execute_result"
    }
   ],
   "source": [
    "function encode_hash(elem)\n",
    "    elem[1]*elem[2]\n",
    "end\n",
    "\n",
    "function knot_hash(lens, size=256, rounds=1)\n",
    "    i = 0\n",
    "    skip = 0\n",
    "    elem = collect(0:(size)-1)    \n",
    "    for r = 1:rounds\n",
    "        for l in lens\n",
    "            elem = circshift(reverse(circshift(elem, -i), 1, l), i)\n",
    "            i = (i + l + skip) % size\n",
    "            skip += 1        \n",
    "        end\n",
    "    end    \n",
    "    elem\n",
    "end"
   ]
  },
  {
   "cell_type": "code",
   "execution_count": 2,
   "metadata": {},
   "outputs": [
    {
     "name": "stdout",
     "output_type": "stream",
     "text": [
      "  0.389266 seconds (122.28 k allocations: 6.276 MiB, 12.17% gc time)\n"
     ]
    },
    {
     "data": {
      "text/plain": [
       "12"
      ]
     },
     "execution_count": 2,
     "metadata": {},
     "output_type": "execute_result"
    }
   ],
   "source": [
    "@time encode_hash(knot_hash([3 4 1 5], 5))"
   ]
  },
  {
   "cell_type": "code",
   "execution_count": 3,
   "metadata": {},
   "outputs": [
    {
     "name": "stdout",
     "output_type": "stream",
     "text": [
      "  0.556250 seconds (326.87 k allocations: 17.492 MiB, 0.94% gc time)\n"
     ]
    },
    {
     "data": {
      "text/plain": [
       "29240"
      ]
     },
     "execution_count": 3,
     "metadata": {},
     "output_type": "execute_result"
    }
   ],
   "source": [
    "@time encode_hash(knot_hash(readdlm(\"inputs/day10.txt\", ',', Int16)))"
   ]
  },
  {
   "cell_type": "markdown",
   "metadata": {},
   "source": [
    "# Part 2"
   ]
  },
  {
   "cell_type": "code",
   "execution_count": 4,
   "metadata": {},
   "outputs": [
    {
     "data": {
      "text/plain": [
       "encode_hexa (generic function with 1 method)"
      ]
     },
     "execution_count": 4,
     "metadata": {},
     "output_type": "execute_result"
    }
   ],
   "source": [
    "function encode_str(values)\n",
    "    vcat(map(Int, collect(values)), [17, 31, 73, 47, 23])\n",
    "end\n",
    "\n",
    "function encode_hexa(elem)\n",
    "    elem = reshape(elem, (16, 16))\n",
    "    elem = mapslices(c->reduce(xor,0,c), elem, 1)\n",
    "    join(map(x->hex(x,2), elem))\n",
    "end"
   ]
  },
  {
   "cell_type": "code",
   "execution_count": 5,
   "metadata": {},
   "outputs": [],
   "source": [
    "# The empty string becomes a2582a3a0e66e6e86e3812dcb672a272.\n",
    "# AoC 2017 becomes 33efeb34ea91902bb2f59c9920caa6cd.\n",
    "# 1,2,3 becomes 3efbe78a8d82f29979031a4aa0b16a9d.\n",
    "# 1,2,4 becomes 63960835bcdc130f0b66d7ff4f6a5a8e"
   ]
  },
  {
   "cell_type": "code",
   "execution_count": 6,
   "metadata": {},
   "outputs": [
    {
     "data": {
      "text/plain": [
       "\"a2582a3a0e66e6e86e3812dcb672a272\""
      ]
     },
     "execution_count": 6,
     "metadata": {},
     "output_type": "execute_result"
    }
   ],
   "source": [
    "encode_hexa(knot_hash(encode_str(\"\"), 256, 64))"
   ]
  },
  {
   "cell_type": "code",
   "execution_count": 7,
   "metadata": {},
   "outputs": [
    {
     "data": {
      "text/plain": [
       "\"3efbe78a8d82f29979031a4aa0b16a9d\""
      ]
     },
     "execution_count": 7,
     "metadata": {},
     "output_type": "execute_result"
    }
   ],
   "source": [
    "encode_hexa(knot_hash(encode_str(\"1,2,3\"), 256, 64))"
   ]
  },
  {
   "cell_type": "code",
   "execution_count": 8,
   "metadata": {},
   "outputs": [
    {
     "data": {
      "text/plain": [
       "\"3efbe78a8d82f29979031a4aa0b16a9d\""
      ]
     },
     "execution_count": 8,
     "metadata": {},
     "output_type": "execute_result"
    }
   ],
   "source": [
    "encode_hexa(knot_hash(encode_str(\"1,2,3\"), 256, 64))"
   ]
  },
  {
   "cell_type": "code",
   "execution_count": 9,
   "metadata": {},
   "outputs": [
    {
     "data": {
      "text/plain": [
       "\"4db3799145278dc9f73dcdbc680bd53d\""
      ]
     },
     "execution_count": 9,
     "metadata": {},
     "output_type": "execute_result"
    }
   ],
   "source": [
    "open(\"inputs/day10.txt\") do fd\n",
    "    encode_hexa(knot_hash(encode_str(strip(readstring(fd))), 256, 64))\n",
    "end"
   ]
  },
  {
   "cell_type": "code",
   "execution_count": null,
   "metadata": {
    "collapsed": true
   },
   "outputs": [],
   "source": []
  }
 ],
 "metadata": {
  "kernelspec": {
   "display_name": "Julia 0.6.1",
   "language": "julia",
   "name": "julia-0.6"
  },
  "language_info": {
   "file_extension": ".jl",
   "mimetype": "application/julia",
   "name": "julia",
   "version": "0.6.1"
  }
 },
 "nbformat": 4,
 "nbformat_minor": 2
}
