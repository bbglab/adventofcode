{
 "cells": [
  {
   "cell_type": "markdown",
   "metadata": {},
   "source": [
    "```\n",
    "--- Day 7: Internet Protocol Version 7 ---\n",
    "\n",
    "While snooping around the local network of EBHQ, you compile a list of IP addresses (they're IPv7, of course; IPv6 is much too limited). You'd like to figure out which IPs support TLS (transport-layer snooping).\n",
    "\n",
    "An IP supports TLS if it has an Autonomous Bridge Bypass Annotation, or ABBA. An ABBA is any four-character sequence which consists of a pair of two different characters followed by the reverse of that pair, such as xyyx or abba. However, the IP also must not have an ABBA within any hypernet sequences, which are contained by square brackets.\n",
    "\n",
    "For example:\n",
    "\n",
    "abba[mnop]qrst supports TLS (abba outside square brackets).\n",
    "abcd[bddb]xyyx does not support TLS (bddb is within square brackets, even though xyyx is outside square brackets).\n",
    "aaaa[qwer]tyui does not support TLS (aaaa is invalid; the interior characters must be different).\n",
    "ioxxoj[asdfgh]zxcvbn supports TLS (oxxo is outside square brackets, even though it's within a larger string).\n",
    "How many IPs in your puzzle input support TLS?\n",
    "\n",
    "```"
   ]
  },
  {
   "cell_type": "code",
   "execution_count": 109,
   "metadata": {
    "collapsed": true
   },
   "outputs": [],
   "source": [
    "import re\n",
    "\n",
    "HYPERNET = re.compile(\"\\[([a-z]*)\\]\")\n",
    "\n",
    "def check_abba(ip):\n",
    "    \n",
    "    for a,b,c,d in zip(ip[:-3], ip[1:-2], ip[2:-1], ip[3:]):\n",
    "        if a==d and b==c and a!=b:\n",
    "            return True\n",
    "        \n",
    "    return False\n",
    "\n",
    "def check_tls(ip): \n",
    "    \n",
    "    ip = ip.strip()    \n",
    "    for hypernet in HYPERNET.findall(ip):\n",
    "        if check_abba(hypernet):\n",
    "            return False\n",
    "        \n",
    "    for segment in HYPERNET.sub(\"#\", ip).split('#'):\n",
    "        if check_abba(segment):\n",
    "            return True\n",
    "            \n",
    "    return False"
   ]
  },
  {
   "cell_type": "code",
   "execution_count": 107,
   "metadata": {
    "collapsed": false
   },
   "outputs": [
    {
     "data": {
      "text/plain": [
       "True"
      ]
     },
     "execution_count": 107,
     "metadata": {},
     "output_type": "execute_result"
    }
   ],
   "source": [
    "check_tls('abba[mnop]qrst[sdfdf]kjhjk')"
   ]
  },
  {
   "cell_type": "code",
   "execution_count": 105,
   "metadata": {
    "collapsed": false
   },
   "outputs": [
    {
     "data": {
      "text/plain": [
       "False"
      ]
     },
     "execution_count": 105,
     "metadata": {},
     "output_type": "execute_result"
    }
   ],
   "source": [
    "check_tls('abcd[bddb]xyyx')"
   ]
  },
  {
   "cell_type": "code",
   "execution_count": 112,
   "metadata": {
    "collapsed": false
   },
   "outputs": [
    {
     "data": {
      "text/plain": [
       "False"
      ]
     },
     "execution_count": 112,
     "metadata": {},
     "output_type": "execute_result"
    }
   ],
   "source": [
    "check_tls('aaa[qwer]tyui')"
   ]
  },
  {
   "cell_type": "code",
   "execution_count": 113,
   "metadata": {
    "collapsed": false
   },
   "outputs": [
    {
     "data": {
      "text/plain": [
       "True"
      ]
     },
     "execution_count": 113,
     "metadata": {},
     "output_type": "execute_result"
    }
   ],
   "source": [
    "check_tls('ioxxoj[asdfgh]zxcvbn')"
   ]
  },
  {
   "cell_type": "code",
   "execution_count": 114,
   "metadata": {
    "collapsed": false,
    "scrolled": false
   },
   "outputs": [
    {
     "name": "stdout",
     "output_type": "stream",
     "text": [
      "115\n"
     ]
    }
   ],
   "source": [
    "with open('inputs/day7.txt', 'rt') as fd:\n",
    "    print(sum(1 for ip in filter(check_tls, fd)))"
   ]
  },
  {
   "cell_type": "markdown",
   "metadata": {},
   "source": [
    "```\n",
    "--- Part Two ---\n",
    "\n",
    "You would also like to know which IPs support SSL (super-secret listening).\n",
    "\n",
    "An IP supports SSL if it has an Area-Broadcast Accessor, or ABA, anywhere in the supernet sequences (outside any square bracketed sections), and a corresponding Byte Allocation Block, or BAB, anywhere in the hypernet sequences. An ABA is any three-character sequence which consists of the same character twice with a different character between them, such as xyx or aba. A corresponding BAB is the same characters but in reversed positions: yxy and bab, respectively.\n",
    "\n",
    "For example:\n",
    "\n",
    "aba[bab]xyz supports SSL (aba outside square brackets with corresponding bab within square brackets).\n",
    "xyx[xyx]xyx does not support SSL (xyx, but no corresponding yxy).\n",
    "aaa[kek]eke supports SSL (eke in supernet with corresponding kek in hypernet; the aaa sequence is not related, because the interior character must be different).\n",
    "zazbz[bzb]cdb supports SSL (zaz has no corresponding aza, but zbz has a corresponding bzb, even though zaz and zbz overlap).\n",
    "How many IPs in your puzzle input support SSL?\n",
    "```"
   ]
  },
  {
   "cell_type": "code",
   "execution_count": 119,
   "metadata": {
    "collapsed": true
   },
   "outputs": [],
   "source": [
    "def find_aba(ip):    \n",
    "    for a,b,c in zip(ip[:-2], ip[1:-1], ip[2:]):\n",
    "        if a==c:\n",
    "            yield a + b + a, b + a + b  \n",
    "            \n",
    "def check_ssl(ip):   \n",
    "    \n",
    "    ip = ip.strip()    \n",
    "    hypernets = HYPERNET.findall(ip)        \n",
    "    for segment in HYPERNET.sub(\"#\", ip).split('#'):\n",
    "        for aba, bab in find_aba(segment):\n",
    "            if len([h for h in hypernets if bab in h]) > 0:\n",
    "                return True\n",
    "            \n",
    "    return False    "
   ]
  },
  {
   "cell_type": "code",
   "execution_count": 120,
   "metadata": {
    "collapsed": false
   },
   "outputs": [
    {
     "data": {
      "text/plain": [
       "True"
      ]
     },
     "execution_count": 120,
     "metadata": {},
     "output_type": "execute_result"
    }
   ],
   "source": [
    "check_ssl(\"aba[bab]xyz\")"
   ]
  },
  {
   "cell_type": "code",
   "execution_count": 121,
   "metadata": {
    "collapsed": false
   },
   "outputs": [
    {
     "data": {
      "text/plain": [
       "False"
      ]
     },
     "execution_count": 121,
     "metadata": {},
     "output_type": "execute_result"
    }
   ],
   "source": [
    "check_ssl(\"xyx[xyx]xyx\")"
   ]
  },
  {
   "cell_type": "code",
   "execution_count": 122,
   "metadata": {
    "collapsed": false
   },
   "outputs": [
    {
     "data": {
      "text/plain": [
       "True"
      ]
     },
     "execution_count": 122,
     "metadata": {},
     "output_type": "execute_result"
    }
   ],
   "source": [
    "check_ssl(\"aaa[kek]eke\")"
   ]
  },
  {
   "cell_type": "code",
   "execution_count": 123,
   "metadata": {
    "collapsed": false
   },
   "outputs": [
    {
     "data": {
      "text/plain": [
       "True"
      ]
     },
     "execution_count": 123,
     "metadata": {},
     "output_type": "execute_result"
    }
   ],
   "source": [
    "check_ssl(\"zazbz[bzb]cdb\")"
   ]
  },
  {
   "cell_type": "code",
   "execution_count": 124,
   "metadata": {
    "collapsed": false
   },
   "outputs": [
    {
     "name": "stdout",
     "output_type": "stream",
     "text": [
      "231\n"
     ]
    }
   ],
   "source": [
    "with open('inputs/day7.txt', 'rt') as fd:\n",
    "    print(sum(1 for ip in filter(check_ssl, fd)))"
   ]
  },
  {
   "cell_type": "code",
   "execution_count": null,
   "metadata": {
    "collapsed": true
   },
   "outputs": [],
   "source": []
  }
 ],
 "metadata": {
  "anaconda-cloud": {},
  "kernelspec": {
   "display_name": "Python [conda env:adventofcode]",
   "language": "python",
   "name": "conda-env-adventofcode-py"
  },
  "language_info": {
   "codemirror_mode": {
    "name": "ipython",
    "version": 3
   },
   "file_extension": ".py",
   "mimetype": "text/x-python",
   "name": "python",
   "nbconvert_exporter": "python",
   "pygments_lexer": "ipython3",
   "version": "3.5.2"
  }
 },
 "nbformat": 4,
 "nbformat_minor": 1
}
