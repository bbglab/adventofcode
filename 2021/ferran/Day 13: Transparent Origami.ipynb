{
 "cells": [
  {
   "cell_type": "markdown",
   "metadata": {},
   "source": [
    "# Day 13"
   ]
  },
  {
   "cell_type": "raw",
   "metadata": {},
   "source": [
    "--- Day 13: Transparent Origami ---\n",
    "You reach another volcanically active part of the cave. It would be nice if you could do some kind of thermal imaging so you could tell ahead of time which caves are too hot to safely enter.\n",
    "\n",
    "Fortunately, the submarine seems to be equipped with a thermal camera! When you activate it, you are greeted with:\n",
    "\n",
    "Congratulations on your purchase! To activate this infrared thermal imaging\n",
    "camera system, please enter the code found on page 1 of the manual.\n",
    "Apparently, the Elves have never used this feature. To your surprise, you manage to find the manual; as you go to open it, page 1 falls out. It's a large sheet of transparent paper! The transparent paper is marked with random dots and includes instructions on how to fold it up (your puzzle input). For example:\n",
    "\n",
    "6,10\n",
    "0,14\n",
    "9,10\n",
    "0,3\n",
    "10,4\n",
    "4,11\n",
    "6,0\n",
    "6,12\n",
    "4,1\n",
    "0,13\n",
    "10,12\n",
    "3,4\n",
    "3,0\n",
    "8,4\n",
    "1,10\n",
    "2,14\n",
    "8,10\n",
    "9,0\n",
    "\n",
    "fold along y=7\n",
    "fold along x=5\n",
    "\n",
    "The first section is a list of dots on the transparent paper. 0,0 represents the top-left coordinate. The first value, x, increases to the right. The second value, y, increases downward. So, the coordinate 3,0 is to the right of 0,0, and the coordinate 0,7 is below 0,0. The coordinates in this example form the following pattern, where # is a dot on the paper and . is an empty, unmarked position:\n",
    "\n",
    "...#..#..#.\n",
    "....#......\n",
    "...........\n",
    "#..........\n",
    "...#....#.#\n",
    "...........\n",
    "...........\n",
    "...........\n",
    "...........\n",
    "...........\n",
    ".#....#.##.\n",
    "....#......\n",
    "......#...#\n",
    "#..........\n",
    "#.#........\n",
    "Then, there is a list of fold instructions. Each instruction indicates a line on the transparent paper and wants you to fold the paper up (for horizontal y=... lines) or left (for vertical x=... lines). In this example, the first fold instruction is fold along y=7, which designates the line formed by all of the positions where y is 7 (marked here with -):\n",
    "\n",
    "...#..#..#.\n",
    "....#......\n",
    "...........\n",
    "#..........\n",
    "...#....#.#\n",
    "...........\n",
    "...........\n",
    "-----------\n",
    "...........\n",
    "...........\n",
    ".#....#.##.\n",
    "....#......\n",
    "......#...#\n",
    "#..........\n",
    "#.#........\n",
    "Because this is a horizontal line, fold the bottom half up. Some of the dots might end up overlapping after the fold is complete, but dots will never appear exactly on a fold line. The result of doing this fold looks like this:\n",
    "\n",
    "#.##..#..#.\n",
    "#...#......\n",
    "......#...#\n",
    "#...#......\n",
    ".#.#..#.###\n",
    "...........\n",
    "...........\n",
    "Now, only 17 dots are visible.\n",
    "\n",
    "Notice, for example, the two dots in the bottom left corner before the transparent paper is folded; after the fold is complete, those dots appear in the top left corner (at 0,0 and 0,1). Because the paper is transparent, the dot just below them in the result (at 0,3) remains visible, as it can be seen through the transparent paper.\n",
    "\n",
    "Also notice that some dots can end up overlapping; in this case, the dots merge together and become a single dot.\n",
    "\n",
    "The second fold instruction is fold along x=5, which indicates this line:\n",
    "\n",
    "#.##.|#..#.\n",
    "#...#|.....\n",
    ".....|#...#\n",
    "#...#|.....\n",
    ".#.#.|#.###\n",
    ".....|.....\n",
    ".....|.....\n",
    "Because this is a vertical line, fold left:\n",
    "\n",
    "#####\n",
    "#...#\n",
    "#...#\n",
    "#...#\n",
    "#####\n",
    ".....\n",
    ".....\n",
    "The instructions made a square!\n",
    "\n",
    "The transparent paper is pretty big, so for now, focus on just completing the first fold. After the first fold in the example above, 17 dots are visible - dots that end up overlapping after the fold is completed count as a single dot.\n",
    "\n",
    "How many dots are visible after completing just the first fold instruction on your transparent paper?"
   ]
  },
  {
   "cell_type": "code",
   "execution_count": 55,
   "metadata": {},
   "outputs": [],
   "source": [
    "import numpy as np\n",
    "\n",
    "coords, folds = [], []\n",
    "with open('input/13.input', 'rt') as f:\n",
    "    l = f.read().splitlines()\n",
    "    for c in l:\n",
    "        if c == '':\n",
    "            pass\n",
    "        elif not c.startswith('fold'):\n",
    "            coords.append(np.array(tuple(map(int, tuple(c.split(','))))))\n",
    "        else:\n",
    "            c = list((c.split(' ')[2]).split('='))\n",
    "            # x increases to the right\n",
    "            # y increases downward\n",
    "            c[0] = int(c[0] == 'y')  # fold y modifies the coord 1st, otherwise it modifies the Oth\n",
    "            c[1] = int(c[1])\n",
    "            folds.append(tuple(c))"
   ]
  },
  {
   "cell_type": "code",
   "execution_count": 67,
   "metadata": {},
   "outputs": [],
   "source": [
    "def get_fold(fold):\n",
    "    axis, position = fold\n",
    "    def func(p):\n",
    "        q = np.empty(2, dtype=int)\n",
    "        q[axis] = (position - (p[axis] - position)) * (position < p[axis]) + p[axis] * (position > p[axis])\n",
    "        q[1-axis] = p[1-axis]\n",
    "        return tuple(q)\n",
    "    return func"
   ]
  },
  {
   "cell_type": "code",
   "execution_count": 68,
   "metadata": {},
   "outputs": [],
   "source": [
    "# test data\n",
    "\n",
    "test_coords = [[6,10],\n",
    "[0,14],\n",
    "[9,10],\n",
    "[0,3],\n",
    "[10,4],\n",
    "[4,11],\n",
    "[6,0],\n",
    "[6,12],\n",
    "[4,1],\n",
    "[0,13],\n",
    "[10,12],\n",
    "[3,4],\n",
    "[3,0],\n",
    "[8,4],\n",
    "[1,10],\n",
    "[2,14],\n",
    "[8,10],\n",
    "[9,0]]\n",
    "\n",
    "test_folds = [(1,7), (0,5)]"
   ]
  },
  {
   "cell_type": "code",
   "execution_count": 69,
   "metadata": {},
   "outputs": [
    {
     "data": {
      "text/plain": [
       "17"
      ]
     },
     "execution_count": 69,
     "metadata": {},
     "output_type": "execute_result"
    }
   ],
   "source": [
    "# test results\n",
    "\n",
    "func = get_fold(test_folds[0])\n",
    "\n",
    "len(set(list(map(func, test_coords))))"
   ]
  },
  {
   "cell_type": "code",
   "execution_count": 70,
   "metadata": {},
   "outputs": [
    {
     "data": {
      "text/plain": [
       "638"
      ]
     },
     "execution_count": 70,
     "metadata": {},
     "output_type": "execute_result"
    }
   ],
   "source": [
    "# results\n",
    "\n",
    "func = get_fold(folds[0])\n",
    "len(set(list(map(func, coords))))"
   ]
  },
  {
   "cell_type": "raw",
   "metadata": {},
   "source": [
    "Finish folding the transparent paper according to the instructions. The manual says the code is always eight capital letters.\n",
    "\n",
    "What code do you use to activate the infrared thermal imaging camera system?"
   ]
  },
  {
   "cell_type": "code",
   "execution_count": 71,
   "metadata": {},
   "outputs": [],
   "source": [
    "paper = coords\n",
    "for fold in folds:\n",
    "    func = get_fold(fold)\n",
    "    paper = set(list(map(func, paper)))"
   ]
  },
  {
   "cell_type": "code",
   "execution_count": 98,
   "metadata": {},
   "outputs": [],
   "source": [
    "index = tuple(zip(*list(paper)))\n",
    "m = np.zeros((40, 6), dtype=int)\n",
    "m[index] = 1"
   ]
  },
  {
   "cell_type": "code",
   "execution_count": 100,
   "metadata": {},
   "outputs": [
    {
     "name": "stdout",
     "output_type": "stream",
     "text": [
      ".##....##..##..#..#.###...##..###..###..\n",
      "#..#....#.#..#.#.#..#..#.#..#.#..#.#..#.\n",
      "#.......#.#....##...###..#..#.#..#.###..\n",
      "#.......#.#....#.#..#..#.####.###..#..#.\n",
      "#..#.#..#.#..#.#.#..#..#.#..#.#....#..#.\n",
      ".##...##...##..#..#.###..#..#.#....###..\n"
     ]
    }
   ],
   "source": [
    "# plot m transpose\n",
    "\n",
    "for l in np.transpose(m):\n",
    "    s = ''.join(list(map(lambda x: '#' * x + '.' * (1 - x), l)))\n",
    "    print(s)"
   ]
  },
  {
   "cell_type": "code",
   "execution_count": null,
   "metadata": {},
   "outputs": [],
   "source": []
  }
 ],
 "metadata": {
  "kernelspec": {
   "display_name": "Python [conda env:adventofcode]",
   "language": "python",
   "name": "conda-env-adventofcode-py"
  },
  "language_info": {
   "codemirror_mode": {
    "name": "ipython",
    "version": 3
   },
   "file_extension": ".py",
   "mimetype": "text/x-python",
   "name": "python",
   "nbconvert_exporter": "python",
   "pygments_lexer": "ipython3",
   "version": "3.8.12"
  }
 },
 "nbformat": 4,
 "nbformat_minor": 2
}
