{
 "cells": [
  {
   "cell_type": "markdown",
   "metadata": {},
   "source": [
    "```\n",
    "--- Day 3: Squares With Three Sides ---\n",
    "\n",
    "Now that you can think clearly, you move deeper into the labyrinth of hallways and office furniture that makes up this part of Easter Bunny HQ. This must be a graphic design department; the walls are covered in specifications for triangles.\n",
    "\n",
    "Or are they?\n",
    "\n",
    "The design document gives the side lengths of each triangle it describes, but... 5 10 25? Some of these aren't triangles. You can't help but mark the impossible ones.\n",
    "\n",
    "In a valid triangle, the sum of any two sides must be larger than the remaining side. For example, the \"triangle\" given above is impossible, because 5 + 10 is not larger than 25.\n",
    "\n",
    "In your puzzle input, how many of the listed triangles are possible?\n",
    "\n",
    "```"
   ]
  },
  {
   "cell_type": "code",
   "execution_count": 33,
   "metadata": {
    "collapsed": false
   },
   "outputs": [],
   "source": [
    "def split_line(line):\n",
    "    return [int(n.strip()) for n in line.split(\" \") if n != '']\n",
    "\n",
    "def valid_triangle(coords):\n",
    "    x, y, z = coords\n",
    "    return (x + y > z) and (x + z > y) and (y + z > x)"
   ]
  },
  {
   "cell_type": "code",
   "execution_count": 35,
   "metadata": {
    "collapsed": false
   },
   "outputs": [
    {
     "data": {
      "text/plain": [
       "False"
      ]
     },
     "execution_count": 35,
     "metadata": {},
     "output_type": "execute_result"
    }
   ],
   "source": [
    "valid_triangle(split_line(\"   5   10  25\"))"
   ]
  },
  {
   "cell_type": "code",
   "execution_count": 37,
   "metadata": {
    "collapsed": false
   },
   "outputs": [
    {
     "name": "stdout",
     "output_type": "stream",
     "text": [
      "983\n"
     ]
    }
   ],
   "source": [
    "with open('inputs/day3.txt', 'rt') as fd:\n",
    "    valid_triangles = [t for t in fd if valid_triangle(split_line(t))]\n",
    "print(len(valid_triangles))"
   ]
  },
  {
   "cell_type": "markdown",
   "metadata": {},
   "source": [
    "```\n",
    "--- Part Two ---\n",
    "\n",
    "Now that you've helpfully marked up their design documents, it occurs to you that triangles are specified in groups of three vertically. Each set of three numbers in a column specifies a triangle. Rows are unrelated.\n",
    "\n",
    "For example, given the following specification, numbers with the same hundreds digit would be part of the same triangle:\n",
    "\n",
    "101 301 501\n",
    "102 302 502\n",
    "103 303 503\n",
    "201 401 601\n",
    "202 402 602\n",
    "203 403 603\n",
    "In your puzzle input, and instead reading by columns, how many of the listed triangles are possible?\n",
    "\n",
    "```"
   ]
  },
  {
   "cell_type": "code",
   "execution_count": 40,
   "metadata": {
    "collapsed": false
   },
   "outputs": [
    {
     "name": "stdout",
     "output_type": "stream",
     "text": [
      "1836\n"
     ]
    }
   ],
   "source": [
    "def read_coords(fd):\n",
    "    try:\n",
    "        it = iter(fd)\n",
    "        while True:\n",
    "            a, b, c = zip(split_line(next(it)), split_line(next(it)), split_line(next(it)))\n",
    "            yield a\n",
    "            yield b\n",
    "            yield c\n",
    "    except StopIteration:\n",
    "        pass\n",
    "\n",
    "with open('inputs/day3.txt', 'rt') as fd:\n",
    "    valid_triangles = [t for t in read_coords(fd) if valid_triangle(t)]\n",
    "    \n",
    "print(len(valid_triangles))"
   ]
  },
  {
   "cell_type": "code",
   "execution_count": null,
   "metadata": {
    "collapsed": true
   },
   "outputs": [],
   "source": []
  }
 ],
 "metadata": {
  "kernelspec": {
   "display_name": "Python [conda env:adventofcode]",
   "language": "python",
   "name": "conda-env-adventofcode-py"
  },
  "language_info": {
   "codemirror_mode": {
    "name": "ipython",
    "version": 3
   },
   "file_extension": ".py",
   "mimetype": "text/x-python",
   "name": "python",
   "nbconvert_exporter": "python",
   "pygments_lexer": "ipython3",
   "version": "3.5.2"
  }
 },
 "nbformat": 4,
 "nbformat_minor": 1
}
