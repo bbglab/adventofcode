{
 "cells": [
  {
   "cell_type": "markdown",
   "metadata": {},
   "source": [
    "# Advent of Code 2016"
   ]
  },
  {
   "cell_type": "raw",
   "metadata": {},
   "source": [
    "--- Day 4: Security Through Obscurity ---\n",
    "\n",
    "Finally, you come across an information kiosk with a list of rooms. Of course, the list is encrypted and full of decoy data, but the instructions to decode the list are barely hidden nearby. Better remove the decoy data first.\n",
    "\n",
    "Each room consists of an encrypted name (lowercase letters separated by dashes) followed by a dash, a sector ID, and a checksum in square brackets.\n",
    "\n",
    "A room is real (not a decoy) if the checksum is the five most common letters in the encrypted name, in order, with ties broken by alphabetization. For example:\n",
    "\n",
    "- aaaaa-bbb-z-y-x-123[abxyz] is a real room because the most common letters are a (5), b (3), and then a tie between x, y, and z, which are listed alphabetically.\n",
    "- a-b-c-d-e-f-g-h-987[abcde] is a real room because although the letters are all tied (1 of each), the first five are listed alphabetically.\n",
    "- not-a-real-room-404[oarel] is a real room.\n",
    "- totally-real-room-200[decoy] is not.\n",
    "\n",
    "Of the real rooms from the list above, the sum of their sector IDs is 1514.\n",
    "\n",
    "What is the sum of the sector IDs of the real rooms?"
   ]
  },
  {
   "cell_type": "code",
   "execution_count": 1,
   "metadata": {
    "collapsed": true
   },
   "outputs": [],
   "source": [
    "from collections import Counter"
   ]
  },
  {
   "cell_type": "code",
   "execution_count": 2,
   "metadata": {
    "collapsed": true
   },
   "outputs": [],
   "source": [
    "def parse_line(line):\n",
    "    encrypt = ''.join(line.split('-')[:-1])\n",
    "    sector = int(line.split('-')[-1].split('[')[0])\n",
    "    checksum = line.split('[')[1][:-1]\n",
    "    return encrypt, sector, checksum\n",
    "\n",
    "\n",
    "def create_checksum(encrypt):\n",
    "    checksum = ''\n",
    "    counter = Counter(encrypt)\n",
    "    for n in sorted(set(counter.values()), reverse=True):\n",
    "        checksum += ''.join(sorted([k for k, v in counter.items() if v == n]))\n",
    "    return checksum[:5]"
   ]
  },
  {
   "cell_type": "code",
   "execution_count": 3,
   "metadata": {
    "collapsed": false
   },
   "outputs": [],
   "source": [
    "def decrypt(data):\n",
    "    result = 0\n",
    "    for line in data:\n",
    "        encrypt, sector, checksum = parse_line(line)\n",
    "        if create_checksum(encrypt) == checksum:\n",
    "            result += sector\n",
    "    return result"
   ]
  },
  {
   "cell_type": "code",
   "execution_count": 4,
   "metadata": {
    "collapsed": false
   },
   "outputs": [],
   "source": [
    "# Test\n",
    "test = ['aaaaa-bbb-z-y-x-123[abxyz]', \n",
    "        'a-b-c-d-e-f-g-h-987[abcde]', \n",
    "        'not-a-real-room-404[oarel]',\n",
    "        'totally-real-room-200[decoy]']\n",
    "assert(decrypt(test)) == 1514"
   ]
  },
  {
   "cell_type": "code",
   "execution_count": 5,
   "metadata": {
    "collapsed": true
   },
   "outputs": [],
   "source": [
    "data = [line.strip() for line in open('data/day_4.txt', 'r')]"
   ]
  },
  {
   "cell_type": "code",
   "execution_count": 6,
   "metadata": {
    "collapsed": false
   },
   "outputs": [
    {
     "data": {
      "text/plain": [
       "245102"
      ]
     },
     "execution_count": 6,
     "metadata": {},
     "output_type": "execute_result"
    }
   ],
   "source": [
    "result = decrypt(data)\n",
    "result"
   ]
  },
  {
   "cell_type": "raw",
   "metadata": {},
   "source": [
    "--- Part Two ---\n",
    "\n",
    "With all the decoy data out of the way, it's time to decrypt this list and get moving.\n",
    "\n",
    "The room names are encrypted by a state-of-the-art shift cipher, which is nearly unbreakable without the right software. However, the information kiosk designers at Easter Bunny HQ were not expecting to deal with a master cryptographer like yourself.\n",
    "\n",
    "To decrypt a room name, rotate each letter forward through the alphabet a number of times equal to the room's sector ID. A becomes B, B becomes C, Z becomes A, and so on. Dashes become spaces.\n",
    "\n",
    "For example, the real name for qzmt-zixmtkozy-ivhz-343 is very encrypted name.\n",
    "\n",
    "What is the sector ID of the room where North Pole objects are stored?"
   ]
  },
  {
   "cell_type": "code",
   "execution_count": 7,
   "metadata": {
    "collapsed": true
   },
   "outputs": [],
   "source": [
    "from string import ascii_lowercase"
   ]
  },
  {
   "cell_type": "code",
   "execution_count": 8,
   "metadata": {
    "collapsed": false
   },
   "outputs": [],
   "source": [
    "index_to_char = {k: v for k, v in enumerate(ascii_lowercase)}\n",
    "index_from_char = {v: k for k, v in enumerate(ascii_lowercase)}"
   ]
  },
  {
   "cell_type": "code",
   "execution_count": 9,
   "metadata": {
    "collapsed": true
   },
   "outputs": [],
   "source": [
    "def shift_cipher(encrypt, sector):\n",
    "    result = ''\n",
    "    for char in encrypt:\n",
    "        if char == '-':\n",
    "            result += ' '\n",
    "        else:\n",
    "            index = (index_from_char[char] + sector) % len(ascii_lowercase)\n",
    "            result += index_to_char[index] if char != '' else ' '\n",
    "    return result"
   ]
  },
  {
   "cell_type": "code",
   "execution_count": 10,
   "metadata": {
    "collapsed": false
   },
   "outputs": [],
   "source": [
    "# Text\n",
    "encrypt = 'qzmt-zixmtkozy-ivhz'\n",
    "sector = 343\n",
    "assert shift_cipher(encrypt, sector) == 'very encrypted name'"
   ]
  },
  {
   "cell_type": "code",
   "execution_count": 11,
   "metadata": {
    "collapsed": true
   },
   "outputs": [],
   "source": [
    "def decipher(data):\n",
    "    for line in data:\n",
    "        encrypt, sector, checksum = parse_line(line)\n",
    "        if create_checksum(encrypt) == checksum:\n",
    "            if 'object' in shift_cipher(encrypt, sector):\n",
    "                return sector"
   ]
  },
  {
   "cell_type": "code",
   "execution_count": 12,
   "metadata": {
    "collapsed": false
   },
   "outputs": [],
   "source": [
    "result = decipher(data)"
   ]
  },
  {
   "cell_type": "code",
   "execution_count": 13,
   "metadata": {
    "collapsed": false
   },
   "outputs": [
    {
     "data": {
      "text/plain": [
       "324"
      ]
     },
     "execution_count": 13,
     "metadata": {},
     "output_type": "execute_result"
    }
   ],
   "source": [
    "result"
   ]
  }
 ],
 "metadata": {
  "kernelspec": {
   "display_name": "Python 3",
   "language": "python",
   "name": "python3"
  },
  "language_info": {
   "codemirror_mode": {
    "name": "ipython",
    "version": 3
   },
   "file_extension": ".py",
   "mimetype": "text/x-python",
   "name": "python",
   "nbconvert_exporter": "python",
   "pygments_lexer": "ipython3",
   "version": "3.5.2+"
  }
 },
 "nbformat": 4,
 "nbformat_minor": 1
}
