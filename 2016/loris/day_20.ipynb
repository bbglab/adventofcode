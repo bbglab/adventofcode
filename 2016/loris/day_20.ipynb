{
 "cells": [
  {
   "cell_type": "markdown",
   "metadata": {},
   "source": [
    "# Advent of Code 2016"
   ]
  },
  {
   "cell_type": "raw",
   "metadata": {},
   "source": [
    "--- Day 20: Firewall Rules ---\n",
    "\n",
    "You'd like to set up a small hidden computer here so you can use it to get back into the network later. However, the corporate firewall only allows communication with certain external IP addresses.\n",
    "\n",
    "You've retrieved the list of blocked IPs from the firewall, but the list seems to be messy and poorly maintained, and it's not clear which IPs are allowed. Also, rather than being written in dot-decimal notation, they are written as plain 32-bit integers, which can have any value from 0 through 4294967295, inclusive.\n",
    "\n",
    "For example, suppose only the values 0 through 9 were valid, and that you retrieved the following blacklist:\n",
    "\n",
    "5-8\n",
    "0-2\n",
    "4-7\n",
    "\n",
    "The blacklist specifies ranges of IPs (inclusive of both the start and end value) that are not allowed. Then, the only IPs that this firewall allows are 3 and 9, since those are the only numbers not in any range.\n",
    "\n",
    "Given the list of blocked IPs you retrieved from the firewall (your puzzle input), what is the lowest-valued IP that is not blocked?"
   ]
  },
  {
   "cell_type": "code",
   "execution_count": 1,
   "metadata": {
    "ExecuteTime": {
     "end_time": "2016-12-20T15:33:58.947609",
     "start_time": "2016-12-20T15:33:58.939760"
    },
    "collapsed": true
   },
   "outputs": [],
   "source": [
    "data = [line.strip() for line in open('data/day_20.txt', 'r')]"
   ]
  },
  {
   "cell_type": "code",
   "execution_count": 2,
   "metadata": {
    "ExecuteTime": {
     "end_time": "2016-12-20T15:33:58.954913",
     "start_time": "2016-12-20T15:33:58.949461"
    },
    "collapsed": false
   },
   "outputs": [],
   "source": [
    "# First, sort the ip ranges\n",
    "data = sorted(data, key=lambda x: int(x.split('-')[0]))"
   ]
  },
  {
   "cell_type": "code",
   "execution_count": 3,
   "metadata": {
    "ExecuteTime": {
     "end_time": "2016-12-20T15:33:58.962443",
     "start_time": "2016-12-20T15:33:58.956549"
    },
    "collapsed": false
   },
   "outputs": [],
   "source": [
    "def find_lowest_ip(data):\n",
    "    min_ip = 0\n",
    "\n",
    "    for i in data:\n",
    "        start, end = i.split('-')\n",
    "        if int(start) <= min_ip <= int(end):\n",
    "            min_ip = int(end) + 1\n",
    "        elif int(start) > min_ip:\n",
    "            break\n",
    "\n",
    "    return min_ip"
   ]
  },
  {
   "cell_type": "code",
   "execution_count": 4,
   "metadata": {
    "ExecuteTime": {
     "end_time": "2016-12-20T15:33:58.982140",
     "start_time": "2016-12-20T15:33:58.964114"
    },
    "collapsed": false
   },
   "outputs": [
    {
     "data": {
      "text/plain": [
       "17348574"
      ]
     },
     "execution_count": 4,
     "metadata": {},
     "output_type": "execute_result"
    }
   ],
   "source": [
    "find_lowest_ip(data)"
   ]
  },
  {
   "cell_type": "raw",
   "metadata": {},
   "source": [
    "--- Part Two ---\n",
    "\n",
    "How many IPs are allowed by the blacklist?"
   ]
  },
  {
   "cell_type": "code",
   "execution_count": 5,
   "metadata": {
    "ExecuteTime": {
     "end_time": "2016-12-20T15:33:58.992172",
     "start_time": "2016-12-20T15:33:58.984131"
    },
    "collapsed": true
   },
   "outputs": [],
   "source": [
    "def find_all_ip(data):\n",
    "    min_ip = 0\n",
    "    ips = 0\n",
    "\n",
    "    for i in data:\n",
    "        start, end = i.split('-')\n",
    "        if int(start) <= min_ip <= int(end):\n",
    "            min_ip = int(end) + 1\n",
    "        elif int(start) > min_ip:\n",
    "            ips += int(start) - min_ip\n",
    "            min_ip = int(end) + 1\n",
    "\n",
    "    return ips"
   ]
  },
  {
   "cell_type": "code",
   "execution_count": 6,
   "metadata": {
    "ExecuteTime": {
     "end_time": "2016-12-20T15:33:59.002044",
     "start_time": "2016-12-20T15:33:58.994402"
    },
    "collapsed": false
   },
   "outputs": [
    {
     "data": {
      "text/plain": [
       "104"
      ]
     },
     "execution_count": 6,
     "metadata": {},
     "output_type": "execute_result"
    }
   ],
   "source": [
    "find_all_ip(data)"
   ]
  }
 ],
 "metadata": {
  "kernelspec": {
   "display_name": "Python 3",
   "language": "python",
   "name": "python3"
  },
  "language_info": {
   "codemirror_mode": {
    "name": "ipython",
    "version": 3
   },
   "file_extension": ".py",
   "mimetype": "text/x-python",
   "name": "python",
   "nbconvert_exporter": "python",
   "pygments_lexer": "ipython3",
   "version": "3.5.2+"
  }
 },
 "nbformat": 4,
 "nbformat_minor": 2
}
