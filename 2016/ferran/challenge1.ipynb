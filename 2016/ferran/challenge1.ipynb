{
 "cells": [
  {
   "cell_type": "markdown",
   "metadata": {
    "collapsed": false
   },
   "source": [
    "# Challenge 1\n",
    "\n",
    "## Solution 1"
   ]
  },
  {
   "cell_type": "code",
   "execution_count": 6,
   "metadata": {
    "collapsed": true
   },
   "outputs": [],
   "source": [
    "def update_direction(face, turn):\n",
    "    rotate = {'L': [0,-1,1,0], 'R': [0,1,-1,0]}\n",
    "    new_face = [rotate[turn][0]*face[0]+rotate[turn][1]*face[1], rotate[turn][2]*face[0]+rotate[turn][3]*face[1]]\n",
    "    return new_face\n",
    "\n",
    "def update_state(pos, face, turn, dist):\n",
    "    new_face = update_direction(face, turn)\n",
    "    new_pos = [pos[0] + dist * new_face[0], pos[1] + dist * new_face[1]] \n",
    "    return new_pos, new_face\n",
    "\n",
    "def parse_list(path):\n",
    "    f = open(path, 'rt')\n",
    "    mystr = f.read()\n",
    "    mylist = mystr.rstrip('\\n').split(', ')\n",
    "    return mylist\n",
    "    \n",
    "def solver(path):\n",
    "    hints = parse_list(path)\n",
    "    pos = [0,0]\n",
    "    face = [0,1]\n",
    "    for hint in hints:\n",
    "        turn = hint[0]\n",
    "        dist = int(hint[1:])\n",
    "        pos, face = update_state(pos, face, turn, dist)\n",
    "    return abs(pos[0]) + abs(pos[1])"
   ]
  },
  {
   "cell_type": "code",
   "execution_count": 7,
   "metadata": {
    "collapsed": false
   },
   "outputs": [
    {
     "data": {
      "text/plain": [
       "307"
      ]
     },
     "execution_count": 7,
     "metadata": {},
     "output_type": "execute_result"
    }
   ],
   "source": [
    "path = '/home/fmuinos/projects/adventofcode/2016/ferran/input1.txt'\n",
    "solver(path)"
   ]
  },
  {
   "cell_type": "markdown",
   "metadata": {},
   "source": [
    "## Solution 2 (recursive)"
   ]
  },
  {
   "cell_type": "code",
   "execution_count": 8,
   "metadata": {
    "collapsed": true
   },
   "outputs": [],
   "source": [
    "def follow_hints(hints, pos, face):\n",
    "    if len(hints) == 0:\n",
    "        return abs(pos[0]) + abs(pos[1])\n",
    "    else:\n",
    "        hint = hints[0]\n",
    "        turn = hint[0]\n",
    "        dist = int(hint[1:])\n",
    "        rotate = {'L': [0,-1,1,0], 'R': [0,1,-1,0]}\n",
    "        new_face = [rotate[turn][0]*face[0]+rotate[turn][1]*face[1], rotate[turn][2]*face[0]+rotate[turn][3]*face[1]]\n",
    "        new_pos = [pos[0] + dist * new_face[0], pos[1] + dist * new_face[1]]\n",
    "        return follow_hints(hints[1:], new_pos, new_face)"
   ]
  },
  {
   "cell_type": "code",
   "execution_count": 9,
   "metadata": {
    "collapsed": false
   },
   "outputs": [
    {
     "data": {
      "text/plain": [
       "307"
      ]
     },
     "execution_count": 9,
     "metadata": {},
     "output_type": "execute_result"
    }
   ],
   "source": [
    "hints = parse_list(path)\n",
    "follow_hints(hints, [0,0], [0,1])"
   ]
  }
 ],
 "metadata": {
  "anaconda-cloud": {},
  "kernelspec": {
   "display_name": "Python [conda env:adventofcode]",
   "language": "python",
   "name": "conda-env-adventofcode-py"
  },
  "language_info": {
   "codemirror_mode": {
    "name": "ipython",
    "version": 3
   },
   "file_extension": ".py",
   "mimetype": "text/x-python",
   "name": "python",
   "nbconvert_exporter": "python",
   "pygments_lexer": "ipython3",
   "version": "3.5.2"
  }
 },
 "nbformat": 4,
 "nbformat_minor": 1
}
