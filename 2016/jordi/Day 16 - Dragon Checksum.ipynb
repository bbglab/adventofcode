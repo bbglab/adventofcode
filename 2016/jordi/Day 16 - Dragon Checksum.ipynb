{
 "cells": [
  {
   "cell_type": "markdown",
   "metadata": {},
   "source": [
    "```\n",
    "--- Day 16: Dragon Checksum ---\n",
    "\n",
    "You're done scanning this part of the network, but you've left traces of your presence. You need to overwrite some disks with random-looking data to cover your tracks and update the local security system with a new checksum for those disks.\n",
    "\n",
    "For the data to not be suspicious, it needs to have certain properties; purely random data will be detected as tampering. To generate appropriate random data, you'll need to use a modified dragon curve.\n",
    "\n",
    "Start with an appropriate initial state (your puzzle input). Then, so long as you don't have enough data yet to fill the disk, repeat the following steps:\n",
    "\n",
    "Call the data you have at this point \"a\".\n",
    "Make a copy of \"a\"; call this copy \"b\".\n",
    "Reverse the order of the characters in \"b\".\n",
    "In \"b\", replace all instances of 0 with 1 and all 1s with 0.\n",
    "The resulting data is \"a\", then a single 0, then \"b\".\n",
    "For example, after a single step of this process,\n",
    "\n",
    "1 becomes 100.\n",
    "0 becomes 001.\n",
    "11111 becomes 11111000000.\n",
    "111100001010 becomes 1111000010100101011110000.\n",
    "Repeat these steps until you have enough data to fill the desired disk.\n",
    "\n",
    "Once the data has been generated, you also need to create a checksum of that data. Calculate the checksum only for the data that fits on the disk, even if you generated more data than that in the previous step.\n",
    "\n",
    "The checksum for some given data is created by considering each non-overlapping pair of characters in the input data. If the two characters match (00 or 11), the next checksum character is a 1. If the characters do not match (01 or 10), the next checksum character is a 0. This should produce a new string which is exactly half as long as the original. If the length of the checksum is even, repeat the process until you end up with a checksum with an odd length.\n",
    "\n",
    "For example, suppose we want to fill a disk of length 12, and when we finally generate a string of at least length 12, the first 12 characters are 110010110100. To generate its checksum:\n",
    "\n",
    "Consider each pair: 11, 00, 10, 11, 01, 00.\n",
    "These are same, same, different, same, different, same, producing 110101.\n",
    "The resulting string has length 6, which is even, so we repeat the process.\n",
    "The pairs are 11 (same), 01 (different), 01 (different).\n",
    "This produces the checksum 100, which has an odd length, so we stop.\n",
    "Therefore, the checksum for 110010110100 is 100.\n",
    "\n",
    "Combining all of these steps together, suppose you want to fill a disk of length 20 using an initial state of 10000:\n",
    "\n",
    "Because 10000 is too short, we first use the modified dragon curve to make it longer.\n",
    "After one round, it becomes 10000011110 (11 characters), still too short.\n",
    "After two rounds, it becomes 10000011110010000111110 (23 characters), which is enough.\n",
    "Since we only need 20, but we have 23, we get rid of all but the first 20 characters: 10000011110010000111.\n",
    "Next, we start calculating the checksum; after one round, we have 0111110101, which 10 characters long (even), so we continue.\n",
    "After two rounds, we have 01100, which is 5 characters long (odd), so we are done.\n",
    "In this example, the correct checksum would therefore be 01100.\n",
    "\n",
    "The first disk you have to fill has length 272. Using the initial state in your puzzle input, what is the correct checksum?\n",
    "\n",
    "Your puzzle input is 11110010111001001.\n",
    "```"
   ]
  },
  {
   "cell_type": "code",
   "execution_count": 31,
   "metadata": {
    "collapsed": true
   },
   "outputs": [],
   "source": [
    "def create_data(state='10000', length=20):\n",
    "    if len(state) >= length:\n",
    "        return state[:length]\n",
    "    else:\n",
    "        return create_data(state + '0' + ''.join(['1' if i == '0' else '0' for i in reversed(state)]), length=length)\n",
    "    \n",
    "def checksum(state):\n",
    "    c = ''.join(['1' if a==b else '0' for a, b in zip(state[0::2], state[1::2])])\n",
    "    return c if len(c)%2 != 0 else checksum(c)"
   ]
  },
  {
   "cell_type": "code",
   "execution_count": 32,
   "metadata": {
    "collapsed": false
   },
   "outputs": [
    {
     "data": {
      "text/plain": [
       "'01100'"
      ]
     },
     "execution_count": 32,
     "metadata": {},
     "output_type": "execute_result"
    }
   ],
   "source": [
    "checksum(create_data(state='10000', length=20))"
   ]
  },
  {
   "cell_type": "code",
   "execution_count": 33,
   "metadata": {
    "collapsed": false
   },
   "outputs": [
    {
     "name": "stdout",
     "output_type": "stream",
     "text": [
      "CPU times: user 0 ns, sys: 0 ns, total: 0 ns\n",
      "Wall time: 372 µs\n"
     ]
    },
    {
     "data": {
      "text/plain": [
       "'01110011101111011'"
      ]
     },
     "execution_count": 33,
     "metadata": {},
     "output_type": "execute_result"
    }
   ],
   "source": [
    "%%time\n",
    "checksum(create_data(state='11110010111001001', length=272))"
   ]
  },
  {
   "cell_type": "markdown",
   "metadata": {},
   "source": [
    "```\n",
    "--- Part Two ---\n",
    "\n",
    "The second disk you have to fill has length 35651584. Again using the initial state in your puzzle input, what is the correct checksum for this disk?\n",
    "```"
   ]
  },
  {
   "cell_type": "code",
   "execution_count": 34,
   "metadata": {
    "collapsed": false
   },
   "outputs": [
    {
     "name": "stdout",
     "output_type": "stream",
     "text": [
      "CPU times: user 4.93 s, sys: 88 ms, total: 5.02 s\n",
      "Wall time: 5.03 s\n"
     ]
    },
    {
     "data": {
      "text/plain": [
       "'11001111011000111'"
      ]
     },
     "execution_count": 34,
     "metadata": {},
     "output_type": "execute_result"
    }
   ],
   "source": [
    "%%time\n",
    "checksum(create_data(state='11110010111001001', length=35651584))"
   ]
  },
  {
   "cell_type": "code",
   "execution_count": null,
   "metadata": {
    "collapsed": true
   },
   "outputs": [],
   "source": []
  }
 ],
 "metadata": {
  "kernelspec": {
   "display_name": "Python [conda env:adventofcode]",
   "language": "python",
   "name": "conda-env-adventofcode-py"
  },
  "language_info": {
   "codemirror_mode": {
    "name": "ipython",
    "version": 3
   },
   "file_extension": ".py",
   "mimetype": "text/x-python",
   "name": "python",
   "nbconvert_exporter": "python",
   "pygments_lexer": "ipython3",
   "version": "3.5.2"
  }
 },
 "nbformat": 4,
 "nbformat_minor": 1
}
