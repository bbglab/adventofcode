{
 "cells": [
  {
   "cell_type": "markdown",
   "metadata": {},
   "source": [
    "# Part 1"
   ]
  },
  {
   "cell_type": "code",
   "execution_count": 1,
   "metadata": {},
   "outputs": [
    {
     "data": {
      "text/plain": [
       "steps (generic function with 1 method)"
      ]
     },
     "execution_count": 1,
     "metadata": {},
     "output_type": "execute_result"
    }
   ],
   "source": [
    "function steps(n)\n",
    "    root = ceil(sqrt(n))\n",
    "    curR = root % 2 != 0 ? root : root + 1\n",
    "    numR = (curR - 1) / 2\n",
    "    cycle = n - ((curR - 2) ^ 2) \n",
    "    innerOffset = cycle % (curR - 1)    \n",
    "    numR + abs(innerOffset - numR)\n",
    "end"
   ]
  },
  {
   "cell_type": "code",
   "execution_count": 2,
   "metadata": {},
   "outputs": [
    {
     "data": {
      "text/plain": [
       "2.0"
      ]
     },
     "execution_count": 2,
     "metadata": {},
     "output_type": "execute_result"
    }
   ],
   "source": [
    "steps(23)"
   ]
  },
  {
   "cell_type": "code",
   "execution_count": 3,
   "metadata": {},
   "outputs": [
    {
     "data": {
      "text/plain": [
       "3.0"
      ]
     },
     "execution_count": 3,
     "metadata": {},
     "output_type": "execute_result"
    }
   ],
   "source": [
    "steps(12)"
   ]
  },
  {
   "cell_type": "code",
   "execution_count": 4,
   "metadata": {},
   "outputs": [
    {
     "name": "stdout",
     "output_type": "stream",
     "text": [
      "  0.000009 seconds (84 allocations: 6.107 KiB)\n"
     ]
    },
    {
     "data": {
      "text/plain": [
       "480.0"
      ]
     },
     "execution_count": 4,
     "metadata": {},
     "output_type": "execute_result"
    }
   ],
   "source": [
    "@time steps(347991)"
   ]
  },
  {
   "cell_type": "markdown",
   "metadata": {},
   "source": [
    "# Part 2"
   ]
  },
  {
   "cell_type": "markdown",
   "metadata": {},
   "source": [
    "Code taken from Ferran solution and translated to Julia :-P"
   ]
  },
  {
   "cell_type": "code",
   "execution_count": 5,
   "metadata": {},
   "outputs": [
    {
     "data": {
      "text/plain": [
       "spiral_manhattan (generic function with 1 method)"
      ]
     },
     "execution_count": 5,
     "metadata": {},
     "output_type": "execute_result"
    }
   ],
   "source": [
    "function number_to_coordinates(n)\n",
    "    \n",
    "    q = floor(sqrt(n))\n",
    "    r = n - q ^ 2\n",
    "    if q % 2 != 0\n",
    "        x = div(q - 1, 2) + min(1, r) + min(q - r + 1, 0)\n",
    "        y = - div(q - 1, 2) + min(max(r - 1, 0), q)\n",
    "    else\n",
    "        x = 1 - div(q, 2) - min(1, r) - min(q - r + 1, 0)\n",
    "        y = div(q, 2) - min(max(r - 1, 0), q)\n",
    "    end\n",
    "    \n",
    "    [x, y]\n",
    "end\n",
    "\n",
    "function spiral_manhattan(n)\n",
    "    x, y = number_to_coordinates(n)\n",
    "    abs(x) + abs(y)\n",
    "end"
   ]
  },
  {
   "cell_type": "code",
   "execution_count": 6,
   "metadata": {},
   "outputs": [
    {
     "data": {
      "text/plain": [
       "spiral_coordinates (generic function with 1 method)"
      ]
     },
     "execution_count": 6,
     "metadata": {},
     "output_type": "execute_result"
    }
   ],
   "source": [
    "function spiral_coordinates(c::Channel)\n",
    "    n = 0\n",
    "    while n >= 0\n",
    "        n += 1\n",
    "        put!(c, number_to_coordinates(n))\n",
    "    end  \n",
    "end"
   ]
  },
  {
   "cell_type": "code",
   "execution_count": 7,
   "metadata": {},
   "outputs": [
    {
     "data": {
      "text/plain": [
       "first_larger (generic function with 1 method)"
      ]
     },
     "execution_count": 7,
     "metadata": {},
     "output_type": "execute_result"
    }
   ],
   "source": [
    "using DataStructures\n",
    "\n",
    "function first_larger(bound)\n",
    "    values = DefaultDict(0)\n",
    "    g = Channel(spiral_coordinates)\n",
    "    pos = take!(g)\n",
    "    values[pos] = 1\n",
    "    while values[pos] <= bound\n",
    "        pos = take!(g)\n",
    "        values[pos] = sum( values[pos + [i, j]] for i=-1:1 for j=-1:1 if i!=0||j!=0 )\n",
    "    end    \n",
    "    values[pos]\n",
    "end"
   ]
  },
  {
   "cell_type": "code",
   "execution_count": 8,
   "metadata": {},
   "outputs": [
    {
     "data": {
      "text/plain": [
       "23"
      ]
     },
     "execution_count": 8,
     "metadata": {},
     "output_type": "execute_result"
    }
   ],
   "source": [
    "first_larger(22)"
   ]
  },
  {
   "cell_type": "code",
   "execution_count": 9,
   "metadata": {},
   "outputs": [
    {
     "name": "stdout",
     "output_type": "stream",
     "text": [
      "  0.003836 seconds (7.68 k allocations: 312.172 KiB)\n"
     ]
    },
    {
     "data": {
      "text/plain": [
       "349975"
      ]
     },
     "execution_count": 9,
     "metadata": {},
     "output_type": "execute_result"
    }
   ],
   "source": [
    "@time first_larger(347991)"
   ]
  }
 ],
 "metadata": {
  "kernelspec": {
   "display_name": "Julia 0.6.1",
   "language": "julia",
   "name": "julia-0.6"
  },
  "language_info": {
   "file_extension": ".jl",
   "mimetype": "application/julia",
   "name": "julia",
   "version": "0.6.1"
  }
 },
 "nbformat": 4,
 "nbformat_minor": 2
}
