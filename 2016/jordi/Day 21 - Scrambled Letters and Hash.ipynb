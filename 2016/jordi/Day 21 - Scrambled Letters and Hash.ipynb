{
 "cells": [
  {
   "cell_type": "markdown",
   "metadata": {},
   "source": [
    "```\n",
    "--- Day 21: Scrambled Letters and Hash ---\n",
    "\n",
    "The computer system you're breaking into uses a weird scrambling function to store its passwords. It shouldn't be much trouble to create your own scrambled password so you can add it to the system; you just have to implement the scrambler.\n",
    "\n",
    "The scrambling function is a series of operations (the exact list is provided in your puzzle input). Starting with the password to be scrambled, apply each operation in succession to the string. The individual operations behave as follows:\n",
    "\n",
    "swap position X with position Y means that the letters at indexes X and Y (counting from 0) should be swapped.\n",
    "swap letter X with letter Y means that the letters X and Y should be swapped (regardless of where they appear in the string).\n",
    "rotate left/right X steps means that the whole string should be rotated; for example, one right rotation would turn abcd into dabc.\n",
    "rotate based on position of letter X means that the whole string should be rotated to the right based on the index of letter X (counting from 0) as determined before this instruction does any rotations. Once the index is determined, rotate the string to the right one time, plus a number of times equal to that index, plus one additional time if the index was at least 4.\n",
    "reverse positions X through Y means that the span of letters at indexes X through Y (including the letters at X and Y) should be reversed in order.\n",
    "move position X to position Y means that the letter which is at index X should be removed from the string, then inserted such that it ends up at index Y.\n",
    "For example, suppose you start with abcde and perform the following operations:\n",
    "\n",
    "swap position 4 with position 0 swaps the first and last letters, producing the input for the next step, ebcda.\n",
    "swap letter d with letter b swaps the positions of d and b: edcba.\n",
    "reverse positions 0 through 4 causes the entire string to be reversed, producing abcde.\n",
    "rotate left 1 step shifts all letters left one position, causing the first letter to wrap to the end of the string: bcdea.\n",
    "move position 1 to position 4 removes the letter at position 1 (c), then inserts it at position 4 (the end of the string): bdeac.\n",
    "move position 3 to position 0 removes the letter at position 3 (a), then inserts it at position 0 (the front of the string): abdec.\n",
    "rotate based on position of letter b finds the index of letter b (1), then rotates the string right once plus a number of times equal to that index (2): ecabd.\n",
    "rotate based on position of letter d finds the index of letter d (4), then rotates the string right once, plus a number of times equal to that index, plus an additional time because the index was at least 4, for a total of 6 right rotations: decab.\n",
    "After these steps, the resulting scrambled password is decab.\n",
    "\n",
    "Now, you just need to generate a new scrambled password and you can access the system. Given the list of scrambling operations in your puzzle input, what is the result of scrambling abcdefgh?\n",
    "\n",
    "```"
   ]
  },
  {
   "cell_type": "code",
   "execution_count": 1,
   "metadata": {
    "collapsed": false
   },
   "outputs": [],
   "source": [
    "import re\n",
    "\n",
    "RE_SWAP_POS = re.compile(\"swap position ([0-9]+) with position ([0-9]+)\")\n",
    "RE_SWAP_LETTER = re.compile(\"swap letter ([a-z]) with letter ([a-z])\")\n",
    "RE_ROTATE_LEFT = re.compile(\"rotate left ([0-9]+) step[s]*\")\n",
    "RE_ROTATE_RIGHT = re.compile(\"rotate right ([0-9]+) step[s]*\")\n",
    "RE_ROTATE_BASED = re.compile(\"rotate based on position of letter ([a-z])\")\n",
    "RE_REVERSE_POS = re.compile(\"reverse positions ([0-9]+) through ([0-9]+)\")\n",
    "RE_MOVE_POS = re.compile(\"move position ([0-9]+) to position ([0-9]+)\")\n",
    "\n",
    "class Scrambler:\n",
    "    \n",
    "    def __init__(self, word):\n",
    "        self.word = word\n",
    "    \n",
    "    def swap_position(self, x, y):        \n",
    "        a, b = self.word[x], self.word[y]\n",
    "        if x < y:\n",
    "            self.word = self.word[:x] + b + self.word[x+1:y] + a + self.word[y+1:]\n",
    "        else:\n",
    "            self.word = self.word[:y] + a + self.word[y+1:x] + b + self.word[x+1:]\n",
    "        \n",
    "    def swap_letter(self, x, y):\n",
    "        self.word = self.word.replace(x, '#')\n",
    "        self.word = self.word.replace(y, '$')\n",
    "        self.word = self.word.replace('#', y)\n",
    "        self.word = self.word.replace('$', x)\n",
    "        \n",
    "    def rotate_left(self, x):        \n",
    "        for _ in range(x):\n",
    "            self.word = self.word[1:] + self.word[0]\n",
    "\n",
    "    def rotate_right(self, x):\n",
    "        for _ in range(x):\n",
    "            self.word = self.word[-1] + self.word[:-1]\n",
    "\n",
    "    def rotate_based(self, x):\n",
    "        idx = self.word.index(x)\n",
    "        self.rotate_right(idx + 1)\n",
    "        if idx >= 4:\n",
    "            self.rotate_right(1)\n",
    "    \n",
    "    def reverse_position(self, x, y):\n",
    "        a = min(x, y)\n",
    "        b = max(x, y)\n",
    "        self.word = self.word[:a] + ''.join(reversed(self.word[a:b+1])) + self.word[b+1:]\n",
    "        \n",
    "    def move_position(self, x, y):  \n",
    "        if x < y:\n",
    "            self.word = self.word[:x] + self.word[x+1:y+1] + self.word[x] + self.word[y+1:]\n",
    "        else:\n",
    "            self.word = self.word[:y] + self.word[x] + self.word[y:x] + self.word[x+1:]\n",
    "            \n",
    "    def process(self, instructions):\n",
    "        \n",
    "        for ins in instructions:\n",
    "            ins = ins.strip()            \n",
    "            \n",
    "            m = RE_SWAP_POS.match(ins)\n",
    "            if m is not None:\n",
    "                x, y = m.groups()\n",
    "                self.swap_position(int(x), int(y))\n",
    "                continue\n",
    "                \n",
    "            m = RE_SWAP_LETTER.match(ins)\n",
    "            if m is not None:\n",
    "                x, y = m.groups()\n",
    "                self.swap_letter(x, y)\n",
    "                continue\n",
    "                \n",
    "            m = RE_ROTATE_LEFT.match(ins)\n",
    "            if m is not None:\n",
    "                x = m.groups()[0]\n",
    "                self.rotate_left(int(x))\n",
    "                continue\n",
    "        \n",
    "            m = RE_ROTATE_RIGHT.match(ins)\n",
    "            if m is not None:\n",
    "                x = m.groups()[0]\n",
    "                self.rotate_right(int(x))\n",
    "                continue\n",
    "                \n",
    "            m = RE_ROTATE_BASED.match(ins)\n",
    "            if m is not None:\n",
    "                x = m.groups()[0]\n",
    "                self.rotate_based(x)\n",
    "                continue\n",
    "                \n",
    "            m = RE_REVERSE_POS.match(ins)\n",
    "            if m is not None:\n",
    "                x, y = m.groups()\n",
    "                self.reverse_position(int(x), int(y))\n",
    "                continue\n",
    "                \n",
    "            m = RE_MOVE_POS.match(ins)\n",
    "            if m is not None:\n",
    "                x, y = m.groups()\n",
    "                self.move_position(int(x), int(y))\n",
    "                continue \n",
    "                \n",
    "        return self.word            "
   ]
  },
  {
   "cell_type": "code",
   "execution_count": 2,
   "metadata": {
    "collapsed": false
   },
   "outputs": [
    {
     "data": {
      "text/plain": [
       "'decab'"
      ]
     },
     "execution_count": 2,
     "metadata": {},
     "output_type": "execute_result"
    }
   ],
   "source": [
    "s = Scrambler(\"abcde\")\n",
    "s.process([\n",
    "        \"swap position 4 with position 0\",\n",
    "        \"swap letter d with letter b\",\n",
    "        \"reverse positions 0 through 4\",\n",
    "        \"rotate left 1 step\",\n",
    "        \"move position 1 to position 4\",\n",
    "        \"move position 3 to position 0\",\n",
    "        \"rotate based on position of letter b\",\n",
    "        \"rotate based on position of letter d\"        \n",
    "    ])"
   ]
  },
  {
   "cell_type": "code",
   "execution_count": 3,
   "metadata": {
    "collapsed": false
   },
   "outputs": [
    {
     "name": "stdout",
     "output_type": "stream",
     "text": [
      "gbhafcde\n"
     ]
    }
   ],
   "source": [
    "with open('inputs/day21.txt', 'rt') as fd:\n",
    "    s = Scrambler(\"abcdefgh\")\n",
    "    print(s.process(fd))"
   ]
  },
  {
   "cell_type": "markdown",
   "metadata": {},
   "source": [
    "```\n",
    "--- Part Two ---\n",
    "\n",
    "You scrambled the password correctly, but you discover that you can't actually modify the password file on the system. You'll need to un-scramble one of the existing passwords by reversing the scrambling process.\n",
    "\n",
    "What is the un-scrambled version of the scrambled password fbgdceah?\n",
    "```"
   ]
  },
  {
   "cell_type": "code",
   "execution_count": 4,
   "metadata": {
    "collapsed": true
   },
   "outputs": [],
   "source": [
    "from itertools import permutations\n",
    "\n",
    "def decode(value, instructions):\n",
    "    for p in permutations(value):\n",
    "        if value == Scrambler(\"\".join(p)).process(instructions):\n",
    "            yield \"\".join(p)"
   ]
  },
  {
   "cell_type": "code",
   "execution_count": 5,
   "metadata": {
    "collapsed": false
   },
   "outputs": [
    {
     "data": {
      "text/plain": [
       "['deabc', 'abcde']"
      ]
     },
     "execution_count": 5,
     "metadata": {},
     "output_type": "execute_result"
    }
   ],
   "source": [
    "list(decode(\"decab\", [\n",
    "        \"swap position 4 with position 0\",\n",
    "        \"swap letter d with letter b\",\n",
    "        \"reverse positions 0 through 4\",\n",
    "        \"rotate left 1 step\",\n",
    "        \"move position 1 to position 4\",\n",
    "        \"move position 3 to position 0\",\n",
    "        \"rotate based on position of letter b\",\n",
    "        \"rotate based on position of letter d\"        \n",
    "    ]))"
   ]
  },
  {
   "cell_type": "code",
   "execution_count": 6,
   "metadata": {
    "collapsed": false
   },
   "outputs": [
    {
     "name": "stdout",
     "output_type": "stream",
     "text": [
      "['bcfaegdh']\n",
      "CPU times: user 19 s, sys: 8 ms, total: 19 s\n",
      "Wall time: 19 s\n"
     ]
    }
   ],
   "source": [
    "%%time\n",
    "with open('inputs/day21.txt', 'rt') as fd:\n",
    "    instructions = fd.readlines()\n",
    "    print(list(decode(\"fbgdceah\", instructions)))"
   ]
  },
  {
   "cell_type": "code",
   "execution_count": null,
   "metadata": {
    "collapsed": true
   },
   "outputs": [],
   "source": []
  }
 ],
 "metadata": {
  "anaconda-cloud": {},
  "kernelspec": {
   "display_name": "Python [conda env:adventofcode]",
   "language": "python",
   "name": "conda-env-adventofcode-py"
  },
  "language_info": {
   "codemirror_mode": {
    "name": "ipython",
    "version": 3
   },
   "file_extension": ".py",
   "mimetype": "text/x-python",
   "name": "python",
   "nbconvert_exporter": "python",
   "pygments_lexer": "ipython3",
   "version": "3.5.2"
  }
 },
 "nbformat": 4,
 "nbformat_minor": 1
}
