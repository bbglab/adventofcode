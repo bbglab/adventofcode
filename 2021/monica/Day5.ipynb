{
 "cells": [
  {
   "cell_type": "code",
   "execution_count": 26,
   "metadata": {},
   "outputs": [],
   "source": [
    "import numpy as np"
   ]
  },
  {
   "cell_type": "code",
   "execution_count": 99,
   "metadata": {
    "scrolled": false
   },
   "outputs": [],
   "source": [
    "def day5 (file):\n",
    "    with open (file) as f:\n",
    "        data = f.read().split('\\n')\n",
    "    data = [d for d in data if d !='' ]\n",
    "    data = [d.split(' -> ') for d in data]\n",
    "    data = [[ num.split(',') for num in d] for d in data]\n",
    "    print(max(data))\n",
    "    diagram = np.zeros(shape=(1000,1000))\n",
    "\n",
    "    segments = []\n",
    "\n",
    "    for d in data:\n",
    "        x1 = int(d[0][0])\n",
    "        x2 = int(d[1][0])\n",
    "        y1 = int(d[0][1])\n",
    "        y2 = int(d[1][1])\n",
    "        if y1 == y2:\n",
    "\n",
    "            if x1 > x2:\n",
    "#                 print(y1,y2,x1,x2)\n",
    "                segment = list(range(x2,x1+1))\n",
    "#                 print(y1, segment)\n",
    "                for seg in segment:\n",
    "                    diagram[seg][y1] = diagram[seg][y1] + 1 \n",
    "\n",
    "            else:\n",
    "                segment = list(range(x1,x2+1))\n",
    "                for seg in segment:\n",
    "                    diagram[seg][y1] = diagram[seg][y1] + 1 \n",
    "\n",
    "        elif x1 == x2:\n",
    "            if y1 > y2:\n",
    "                segment = list(range(y2,y1+1))\n",
    "                for seg in segment:\n",
    "                    diagram[x1][seg] = diagram[x1][seg] + 1 \n",
    "\n",
    "\n",
    "            else:\n",
    "                segment = list(range(y1,y2+1))\n",
    "                for seg in segment:\n",
    "                    diagram[x1][seg] = diagram[x1][seg] + 1\n",
    "\n",
    "\n",
    "\n",
    "    print(diagram.T)\n",
    "    unique, counts = np.unique(diagram, return_counts=True)\n",
    "    counts_dict = dict(zip(unique, counts))\n",
    "    \n",
    "    return counts_dict"
   ]
  },
  {
   "cell_type": "code",
   "execution_count": 100,
   "metadata": {},
   "outputs": [
    {
     "name": "stdout",
     "output_type": "stream",
     "text": [
      "[['9', '4'], ['3', '4']]\n",
      "[[0. 0. 0. ... 0. 0. 0.]\n",
      " [0. 0. 1. ... 0. 0. 0.]\n",
      " [0. 0. 1. ... 0. 0. 0.]\n",
      " ...\n",
      " [0. 0. 0. ... 0. 0. 0.]\n",
      " [0. 0. 0. ... 0. 0. 0.]\n",
      " [0. 0. 0. ... 0. 0. 0.]]\n"
     ]
    },
    {
     "data": {
      "text/plain": [
       "{0.0: 999979, 1.0: 16, 2.0: 5}"
      ]
     },
     "execution_count": 100,
     "metadata": {},
     "output_type": "execute_result"
    }
   ],
   "source": [
    "file = 'example_day5.txt'\n",
    "day5(file)"
   ]
  },
  {
   "cell_type": "code",
   "execution_count": 101,
   "metadata": {},
   "outputs": [
    {
     "name": "stdout",
     "output_type": "stream",
     "text": [
      "[['989', '73'], ['113', '949']]\n",
      "[[0. 0. 0. ... 0. 0. 0.]\n",
      " [0. 0. 0. ... 0. 0. 0.]\n",
      " [0. 0. 0. ... 0. 0. 0.]\n",
      " ...\n",
      " [0. 0. 0. ... 0. 0. 0.]\n",
      " [0. 0. 0. ... 0. 0. 0.]\n",
      " [0. 0. 0. ... 0. 0. 0.]]\n"
     ]
    },
    {
     "data": {
      "text/plain": [
       "{0.0: 890261, 1.0: 105318, 2.0: 4366, 3.0: 55}"
      ]
     },
     "execution_count": 101,
     "metadata": {},
     "output_type": "execute_result"
    }
   ],
   "source": [
    "file = 'input_day5.txt'\n",
    "day5(file)"
   ]
  },
  {
   "cell_type": "code",
   "execution_count": 98,
   "metadata": {},
   "outputs": [
    {
     "data": {
      "text/plain": [
       "4421"
      ]
     },
     "execution_count": 98,
     "metadata": {},
     "output_type": "execute_result"
    }
   ],
   "source": [
    "4366+55"
   ]
  },
  {
   "cell_type": "markdown",
   "metadata": {},
   "source": [
    "PART 2"
   ]
  },
  {
   "cell_type": "code",
   "execution_count": 127,
   "metadata": {
    "scrolled": true
   },
   "outputs": [],
   "source": [
    "file = 'example_day5.txt'\n",
    "\n",
    "def day5_2(file):\n",
    "    with open (file) as f:\n",
    "        data = f.read().split('\\n')\n",
    "    data = [d for d in data if d !='' ]\n",
    "    data = [d.split(' -> ') for d in data]\n",
    "    data = [[ num.split(',') for num in d] for d in data]\n",
    "    diagram = np.zeros(shape=(1000,1000))\n",
    "\n",
    "    segments = []\n",
    "\n",
    "    for d in data:\n",
    "        x1 = int(d[0][0])\n",
    "        x2 = int(d[1][0])\n",
    "        y1 = int(d[0][1])\n",
    "        y2 = int(d[1][1])\n",
    "        if y1 == y2:\n",
    "\n",
    "            if x1 > x2:\n",
    "                segment = list(range(x2,x1+1))\n",
    "                for seg in segment:\n",
    "                    diagram[seg][y1] = diagram[seg][y1] + 1 \n",
    "\n",
    "            else:\n",
    "                segment = list(range(x1,x2+1))\n",
    "                for seg in segment:\n",
    "                    diagram[seg][y1] = diagram[seg][y1] + 1 \n",
    "\n",
    "        elif x1 == x2:\n",
    "            if y1 > y2:\n",
    "                segment = list(range(y2,y1+1))\n",
    "                for seg in segment:\n",
    "                    diagram[x1][seg] = diagram[x1][seg] + 1 \n",
    "\n",
    "\n",
    "            else:\n",
    "                segment = list(range(y1,y2+1))\n",
    "                for seg in segment:\n",
    "                    diagram[x1][seg] = diagram[x1][seg] + 1\n",
    "        else:\n",
    "            if x1 > x2 and y1 > y2:\n",
    "                x_segment = list(range(x2,x1+1))\n",
    "                y_segment = list(range(y2,y1+1))\n",
    "                x_segment.reverse()\n",
    "                y_segment.reverse()\n",
    "            elif x1 > x2 and y2 > y1:\n",
    "                x_segment = list(range(x2,x1+1))\n",
    "                y_segment = list(range(y1,y2+1))\n",
    "                x_segment.reverse()\n",
    "            elif x2 > x1 and y1 > y2:\n",
    "                x_segment = list(range(x1,x2+1))\n",
    "                y_segment = list(range(y2,y1+1)) \n",
    "                y_segment.reverse()\n",
    "            elif x2 > x1 and y2 > y1:\n",
    "                x_segment = list(range(x1,x2+1))\n",
    "                y_segment = list(range(y1,y2+1))\n",
    "            for i in range(0,len(x_segment)):\n",
    "                x=x_segment[i]\n",
    "                y=y_segment[i]\n",
    "                diagram[x][y] = diagram[x][y] + 1 \n",
    "\n",
    "\n",
    "\n",
    "\n",
    "    print(diagram.T)\n",
    "    unique, counts = np.unique(diagram, return_counts=True)\n",
    "    counts_dict = dict(zip(unique, counts))\n",
    "    return counts_dict"
   ]
  },
  {
   "cell_type": "code",
   "execution_count": 128,
   "metadata": {},
   "outputs": [
    {
     "name": "stdout",
     "output_type": "stream",
     "text": [
      "[[1. 0. 1. ... 0. 0. 0.]\n",
      " [0. 1. 1. ... 0. 0. 0.]\n",
      " [0. 0. 2. ... 0. 0. 0.]\n",
      " ...\n",
      " [0. 0. 0. ... 0. 0. 0.]\n",
      " [0. 0. 0. ... 0. 0. 0.]\n",
      " [0. 0. 0. ... 0. 0. 0.]]\n"
     ]
    },
    {
     "data": {
      "text/plain": [
       "{0.0: 999961, 1.0: 27, 2.0: 10, 3.0: 2}"
      ]
     },
     "execution_count": 128,
     "metadata": {},
     "output_type": "execute_result"
    }
   ],
   "source": [
    "file = 'example_day5.txt'\n",
    "day5_2(file)"
   ]
  },
  {
   "cell_type": "code",
   "execution_count": 130,
   "metadata": {},
   "outputs": [
    {
     "name": "stdout",
     "output_type": "stream",
     "text": [
      "[[0. 0. 0. ... 0. 0. 0.]\n",
      " [0. 0. 0. ... 0. 0. 0.]\n",
      " [0. 0. 0. ... 0. 0. 0.]\n",
      " ...\n",
      " [0. 0. 0. ... 0. 0. 0.]\n",
      " [0. 0. 0. ... 0. 0. 0.]\n",
      " [0. 0. 0. ... 0. 0. 0.]]\n"
     ]
    },
    {
     "data": {
      "text/plain": [
       "{0.0: 830880,\n",
       " 1.0: 150446,\n",
       " 2.0: 16356,\n",
       " 3.0: 1311,\n",
       " 4.0: 865,\n",
       " 5.0: 134,\n",
       " 6.0: 7,\n",
       " 7.0: 1}"
      ]
     },
     "execution_count": 130,
     "metadata": {},
     "output_type": "execute_result"
    }
   ],
   "source": [
    "file = 'input_day5.txt'\n",
    "counts_dict = day5_2(file)\n",
    "counts_dict"
   ]
  },
  {
   "cell_type": "code",
   "execution_count": 138,
   "metadata": {},
   "outputs": [
    {
     "name": "stdout",
     "output_type": "stream",
     "text": [
      "[16356, 1311, 865, 134, 7, 1] 18674\n"
     ]
    }
   ],
   "source": [
    "intersects = []\n",
    "for key in counts_dict.keys():\n",
    "    if key >= 2:\n",
    "        intersect = counts_dict[key]\n",
    "        intersects.append(intersect)\n",
    "print(intersects, sum(intersects))"
   ]
  }
 ],
 "metadata": {
  "kernelspec": {
   "display_name": "Python 3",
   "language": "python",
   "name": "python3"
  },
  "language_info": {
   "codemirror_mode": {
    "name": "ipython",
    "version": 3
   },
   "file_extension": ".py",
   "mimetype": "text/x-python",
   "name": "python",
   "nbconvert_exporter": "python",
   "pygments_lexer": "ipython3",
   "version": "3.8.3"
  }
 },
 "nbformat": 4,
 "nbformat_minor": 4
}
