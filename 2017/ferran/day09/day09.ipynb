{
 "cells": [
  {
   "cell_type": "markdown",
   "metadata": {},
   "source": [
    "# Stream Processing"
   ]
  },
  {
   "cell_type": "markdown",
   "metadata": {},
   "source": [
    "## Part 1"
   ]
  },
  {
   "cell_type": "code",
   "execution_count": 87,
   "metadata": {
    "ExecuteTime": {
     "end_time": "2017-12-09T11:15:30.298374",
     "start_time": "2017-12-09T11:15:30.281881"
    }
   },
   "outputs": [],
   "source": [
    "with open('input.txt', 'rt') as f_input:\n",
    "    s = next(f_input).rstrip()"
   ]
  },
  {
   "cell_type": "markdown",
   "metadata": {},
   "source": [
    "### Step 1: Remove ignore"
   ]
  },
  {
   "cell_type": "code",
   "execution_count": 88,
   "metadata": {
    "ExecuteTime": {
     "end_time": "2017-12-09T11:15:32.609904",
     "start_time": "2017-12-09T11:15:32.589537"
    }
   },
   "outputs": [],
   "source": [
    "import re\n",
    "\n",
    "def remove_ignore(s):\n",
    "    return re.sub('![(\\W|\\w)]', '', s)"
   ]
  },
  {
   "cell_type": "markdown",
   "metadata": {
    "ExecuteTime": {
     "end_time": "2017-12-09T10:24:30.635554",
     "start_time": "2017-12-09T10:24:30.611924"
    }
   },
   "source": [
    "### Step 2: Remove garbage"
   ]
  },
  {
   "cell_type": "code",
   "execution_count": 89,
   "metadata": {
    "ExecuteTime": {
     "end_time": "2017-12-09T11:15:37.535338",
     "start_time": "2017-12-09T11:15:37.469312"
    }
   },
   "outputs": [],
   "source": [
    "def where_garbage(s):\n",
    "    garbage = False\n",
    "    where = []\n",
    "    for i, c in enumerate(s):\n",
    "        if (not garbage) and (c == '<'):\n",
    "            garbage = True\n",
    "            start_garbage = i\n",
    "        if garbage and (c == '>'):\n",
    "            garbage = False\n",
    "            end_garbage = i\n",
    "            where.append((start_garbage, end_garbage))\n",
    "    return where\n",
    "\n",
    "def remove_garbage(s):\n",
    "    l = ''\n",
    "    start = 0\n",
    "    for a, b in where_garbage(s):\n",
    "        l += s[start: a]\n",
    "        start = b + 1\n",
    "    l += s[start:]\n",
    "    return l"
   ]
  },
  {
   "cell_type": "markdown",
   "metadata": {
    "ExecuteTime": {
     "end_time": "2017-12-09T11:02:37.136426",
     "start_time": "2017-12-09T11:02:37.121790"
    }
   },
   "source": [
    "### Step 3: Count Nested Brackets"
   ]
  },
  {
   "cell_type": "code",
   "execution_count": 90,
   "metadata": {
    "ExecuteTime": {
     "end_time": "2017-12-09T11:15:48.021822",
     "start_time": "2017-12-09T11:15:48.001327"
    },
    "collapsed": true
   },
   "outputs": [],
   "source": [
    "def count_nested(s):\n",
    "    score = 0\n",
    "    current = 0\n",
    "    for i, c in enumerate(s):\n",
    "        if c == '{':\n",
    "            current += 1\n",
    "        elif c == '}':\n",
    "            score += current\n",
    "            current -= 1\n",
    "    return score"
   ]
  },
  {
   "cell_type": "markdown",
   "metadata": {},
   "source": [
    "### Summarize"
   ]
  },
  {
   "cell_type": "code",
   "execution_count": 91,
   "metadata": {
    "ExecuteTime": {
     "end_time": "2017-12-09T11:15:49.921313",
     "start_time": "2017-12-09T11:15:49.905363"
    }
   },
   "outputs": [],
   "source": [
    "def score(s):\n",
    "    return count_nested(remove_garbage(remove_ignore(s)))"
   ]
  },
  {
   "cell_type": "markdown",
   "metadata": {},
   "source": [
    "### Test"
   ]
  },
  {
   "cell_type": "code",
   "execution_count": 92,
   "metadata": {
    "ExecuteTime": {
     "end_time": "2017-12-09T11:15:51.904632",
     "start_time": "2017-12-09T11:15:51.869141"
    }
   },
   "outputs": [],
   "source": [
    "def test():\n",
    "    assert(score('{}') == 1)\n",
    "    assert(score('{{{}}}') == 6)\n",
    "    assert(score('{{},{}}') == 5)\n",
    "    assert(score('{{{},{},{{}}}}') == 16)\n",
    "    assert(score('{<a>,<a>,<a>,<a>}') == 1)\n",
    "    assert(score('{{<ab>},{<ab>},{<ab>},{<ab>}}') == 9)\n",
    "    assert(score('{{<!!>},{<!!>},{<!!>},{<!!>}}') == 9)\n",
    "    assert(score('{{<a!>},{<a!>},{<a!>},{<ab>}}') == 3)\n",
    "test()"
   ]
  },
  {
   "cell_type": "markdown",
   "metadata": {},
   "source": [
    "### Solution"
   ]
  },
  {
   "cell_type": "code",
   "execution_count": 93,
   "metadata": {
    "ExecuteTime": {
     "end_time": "2017-12-09T11:15:53.390395",
     "start_time": "2017-12-09T11:15:53.348891"
    }
   },
   "outputs": [
    {
     "data": {
      "text/plain": [
       "16869"
      ]
     },
     "execution_count": 93,
     "metadata": {},
     "output_type": "execute_result"
    }
   ],
   "source": [
    "score(s)"
   ]
  },
  {
   "cell_type": "markdown",
   "metadata": {},
   "source": [
    "## Part 2"
   ]
  },
  {
   "cell_type": "code",
   "execution_count": 94,
   "metadata": {
    "ExecuteTime": {
     "end_time": "2017-12-09T11:19:43.941424",
     "start_time": "2017-12-09T11:19:43.925126"
    },
    "collapsed": true
   },
   "outputs": [],
   "source": [
    "def len_garbage(s):\n",
    "    t = remove_ignore(s)\n",
    "    return sum([b - a - 1 for a, b in where_garbage(t)])"
   ]
  },
  {
   "cell_type": "markdown",
   "metadata": {},
   "source": [
    "### Test"
   ]
  },
  {
   "cell_type": "code",
   "execution_count": 96,
   "metadata": {
    "ExecuteTime": {
     "end_time": "2017-12-09T11:22:38.909457",
     "start_time": "2017-12-09T11:22:38.885767"
    }
   },
   "outputs": [],
   "source": [
    "def test():\n",
    "    assert(len_garbage('<>') == 0)\n",
    "    assert(len_garbage('<random characters>') == 17)\n",
    "    assert(len_garbage('<<<<>') == 3)\n",
    "    assert(len_garbage('<{!>}>') == 2)\n",
    "    assert(len_garbage('<!!>') == 0)\n",
    "    assert(len_garbage('<!!!>>') == 0)\n",
    "    assert(len_garbage('<{o\"i!a,<{i<a>') == 10)\n",
    "test()"
   ]
  },
  {
   "cell_type": "code",
   "execution_count": 97,
   "metadata": {
    "ExecuteTime": {
     "end_time": "2017-12-09T11:22:51.827339",
     "start_time": "2017-12-09T11:22:51.797753"
    }
   },
   "outputs": [
    {
     "data": {
      "text/plain": [
       "7284"
      ]
     },
     "execution_count": 97,
     "metadata": {},
     "output_type": "execute_result"
    }
   ],
   "source": [
    "len_garbage(s)"
   ]
  }
 ],
 "metadata": {
  "kernelspec": {
   "display_name": "Python [conda env:adventofcode]",
   "language": "python",
   "name": "conda-env-adventofcode-py"
  },
  "language_info": {
   "codemirror_mode": {
    "name": "ipython",
    "version": 3
   },
   "file_extension": ".py",
   "mimetype": "text/x-python",
   "name": "python",
   "nbconvert_exporter": "python",
   "pygments_lexer": "ipython3",
   "version": "3.5.2"
  },
  "toc": {
   "colors": {
    "hover_highlight": "#DAA520",
    "running_highlight": "#FF0000",
    "selected_highlight": "#FFD700"
   },
   "moveMenuLeft": true,
   "nav_menu": {
    "height": "66px",
    "width": "252px"
   },
   "navigate_menu": true,
   "number_sections": true,
   "sideBar": true,
   "threshold": 4,
   "toc_cell": false,
   "toc_section_display": "block",
   "toc_window_display": false
  }
 },
 "nbformat": 4,
 "nbformat_minor": 2
}
