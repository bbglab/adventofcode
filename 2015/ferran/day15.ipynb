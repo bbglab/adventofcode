{
 "cells": [
  {
   "cell_type": "markdown",
   "metadata": {},
   "source": [
    "# Day 15: Science for Hungry People\n",
    "\n",
    "## Day 15.1"
   ]
  },
  {
   "cell_type": "code",
   "execution_count": 1,
   "metadata": {
    "ExecuteTime": {
     "end_time": "2017-12-13T11:24:04.277940",
     "start_time": "2017-12-13T11:24:04.178606"
    },
    "collapsed": true
   },
   "outputs": [],
   "source": [
    "import csv\n",
    "import numpy as np\n",
    "\n",
    "def parse(input_path):\n",
    "    with open(input_path, 'rt') as f_input:\n",
    "        csv_reader = csv.reader(f_input, delimiter=' ')\n",
    "        l = next(csv_reader)\n",
    "        a = np.array([int(l[2*(j + 1)].rstrip(',')) for j in range(5)])\n",
    "        count = 1\n",
    "        for l in csv_reader:\n",
    "            a = np.concatenate((a, np.array([int(l[2*(j + 1)].rstrip(',')) for j in range(5)])))\n",
    "            count += 1\n",
    "    return a.reshape((count, 5))"
   ]
  },
  {
   "cell_type": "markdown",
   "metadata": {},
   "source": [
    "Generator of tuples of integers that add up to a given constant."
   ]
  },
  {
   "cell_type": "code",
   "execution_count": 2,
   "metadata": {
    "ExecuteTime": {
     "end_time": "2017-12-13T11:24:05.104532",
     "start_time": "2017-12-13T11:24:05.063731"
    },
    "collapsed": true
   },
   "outputs": [],
   "source": [
    "from itertools import combinations\n",
    "\n",
    "def intervals(cuts, n):\n",
    "    last = -1\n",
    "    for cut in cuts:\n",
    "        yield cut - last - 1\n",
    "        last = cut\n",
    "    yield n - 1 - last\n",
    "\n",
    "\n",
    "def partitions(n, k):\n",
    "    \"\"\"\n",
    "    Generator of seqs of k integers that sum up to n.\n",
    "    \"\"\"\n",
    "    assert(1 <= k <= n)\n",
    "    for cut in combinations(range(n + k - 1), k - 1):\n",
    "        yield np.array(tuple(intervals(cut, n + k - 1)))"
   ]
  },
  {
   "cell_type": "markdown",
   "metadata": {
    "ExecuteTime": {
     "end_time": "2017-12-13T08:06:41.538297",
     "start_time": "2017-12-13T08:06:41.520932"
    }
   },
   "source": [
    "Test all recipy candidates."
   ]
  },
  {
   "cell_type": "code",
   "execution_count": 3,
   "metadata": {
    "ExecuteTime": {
     "end_time": "2017-12-13T11:24:06.715842",
     "start_time": "2017-12-13T11:24:06.681321"
    },
    "collapsed": true
   },
   "outputs": [],
   "source": [
    "import operator\n",
    "from functools import reduce\n",
    "\n",
    "def max_recipy_score(values, n=100):\n",
    "    max_score = 0\n",
    "    k = values.shape[0]\n",
    "    for recipy in partitions(n, k):\n",
    "        y = np.dot(recipy, values[:,:-1])\n",
    "        mask = y > 0\n",
    "        if reduce(operator.and_, mask, True):\n",
    "            score = np.prod(y)\n",
    "            if max_score < score: max_score = score\n",
    "    return max_score"
   ]
  },
  {
   "cell_type": "markdown",
   "metadata": {},
   "source": [
    "### Test"
   ]
  },
  {
   "cell_type": "code",
   "execution_count": 4,
   "metadata": {
    "ExecuteTime": {
     "end_time": "2017-12-13T11:24:08.033711",
     "start_time": "2017-12-13T11:24:08.009273"
    },
    "collapsed": true
   },
   "outputs": [],
   "source": [
    "values = parse('inputs/input15.test1.txt')\n",
    "assert(max_recipy_score(values) == 62842880)"
   ]
  },
  {
   "cell_type": "markdown",
   "metadata": {
    "ExecuteTime": {
     "end_time": "2017-12-13T08:30:42.311057",
     "start_time": "2017-12-13T08:30:42.298961"
    }
   },
   "source": [
    "### Solution"
   ]
  },
  {
   "cell_type": "code",
   "execution_count": 5,
   "metadata": {
    "ExecuteTime": {
     "end_time": "2017-12-13T11:24:11.364202",
     "start_time": "2017-12-13T11:24:09.435916"
    }
   },
   "outputs": [
    {
     "data": {
      "text/plain": [
       "222870"
      ]
     },
     "execution_count": 5,
     "metadata": {},
     "output_type": "execute_result"
    }
   ],
   "source": [
    "values = parse('inputs/input15.txt')\n",
    "max_recipy_score(values)"
   ]
  },
  {
   "cell_type": "markdown",
   "metadata": {},
   "source": [
    "## Day 15.2"
   ]
  },
  {
   "cell_type": "code",
   "execution_count": 6,
   "metadata": {
    "ExecuteTime": {
     "end_time": "2017-12-13T11:24:13.062062",
     "start_time": "2017-12-13T11:24:13.037226"
    },
    "collapsed": true
   },
   "outputs": [],
   "source": [
    "def max_recipy_score_calorie(values, n=100, c=500):\n",
    "    max_score = 0\n",
    "    k = values.shape[0]\n",
    "    for recipy in partitions(n, k):\n",
    "        y = np.dot(recipy, values[:,:-1])\n",
    "        positive_totals = y > 0\n",
    "        calorie_restriction = (np.dot(recipy, values[:,-1]) == c)\n",
    "        if reduce(operator.and_, positive_totals, True) and calorie_restriction:\n",
    "            score = np.prod(y)\n",
    "            if max_score < score: max_score = score\n",
    "    return max_score"
   ]
  },
  {
   "cell_type": "markdown",
   "metadata": {},
   "source": [
    "### Test"
   ]
  },
  {
   "cell_type": "code",
   "execution_count": 7,
   "metadata": {
    "ExecuteTime": {
     "end_time": "2017-12-13T11:24:13.808809",
     "start_time": "2017-12-13T11:24:13.789197"
    },
    "collapsed": true
   },
   "outputs": [],
   "source": [
    "values = parse('inputs/input15.test1.txt')\n",
    "assert(max_recipy_score_calorie(values) == 57600000)"
   ]
  },
  {
   "cell_type": "markdown",
   "metadata": {},
   "source": [
    "### Solution"
   ]
  },
  {
   "cell_type": "code",
   "execution_count": 8,
   "metadata": {
    "ExecuteTime": {
     "end_time": "2017-12-13T11:24:16.698885",
     "start_time": "2017-12-13T11:24:15.032333"
    }
   },
   "outputs": [
    {
     "data": {
      "text/plain": [
       "117936"
      ]
     },
     "execution_count": 8,
     "metadata": {},
     "output_type": "execute_result"
    }
   ],
   "source": [
    "values = parse('inputs/input15.txt')\n",
    "max_recipy_score_calorie(values)"
   ]
  },
  {
   "cell_type": "code",
   "execution_count": null,
   "metadata": {
    "collapsed": true
   },
   "outputs": [],
   "source": []
  }
 ],
 "metadata": {
  "kernelspec": {
   "display_name": "Python [conda env:adventofcode]",
   "language": "python",
   "name": "conda-env-adventofcode-py"
  },
  "language_info": {
   "codemirror_mode": {
    "name": "ipython",
    "version": 3
   },
   "file_extension": ".py",
   "mimetype": "text/x-python",
   "name": "python",
   "nbconvert_exporter": "python",
   "pygments_lexer": "ipython3",
   "version": "3.5.2"
  },
  "toc": {
   "colors": {
    "hover_highlight": "#DAA520",
    "running_highlight": "#FF0000",
    "selected_highlight": "#FFD700"
   },
   "moveMenuLeft": true,
   "nav_menu": {
    "height": "66px",
    "width": "252px"
   },
   "navigate_menu": true,
   "number_sections": true,
   "sideBar": true,
   "threshold": 4,
   "toc_cell": false,
   "toc_section_display": "block",
   "toc_window_display": false
  }
 },
 "nbformat": 4,
 "nbformat_minor": 2
}
