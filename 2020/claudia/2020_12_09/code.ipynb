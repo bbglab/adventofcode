{
 "cells": [
  {
   "cell_type": "markdown",
   "metadata": {},
   "source": [
    "# Day 9"
   ]
  },
  {
   "cell_type": "code",
   "execution_count": 12,
   "metadata": {
    "collapsed": true
   },
   "outputs": [],
   "source": [
    "xmas_data = []\n",
    "with open('input.txt', 'r') as fd: \n",
    "    for line in fd: \n",
    "        xmas_data.append(int(line.strip()))"
   ]
  },
  {
   "cell_type": "code",
   "execution_count": 22,
   "metadata": {},
   "outputs": [
    {
     "name": "stdout",
     "output_type": "stream",
     "text": [
      "32321523\n"
     ]
    }
   ],
   "source": [
    "preamble = 25\n",
    "\n",
    "for pointer, element in enumerate(xmas_data[preamble:], preamble): \n",
    "    subset = xmas_data[pointer-preamble:pointer]\n",
    "    possible_outputs = set()\n",
    "    for i in subset: \n",
    "        for j in subset: \n",
    "            if i != j: \n",
    "                possible_outputs.add(i + j)\n",
    "    if element not in possible_outputs: \n",
    "        print(element)\n",
    "        break"
   ]
  },
  {
   "cell_type": "code",
   "execution_count": 33,
   "metadata": {
    "collapsed": true
   },
   "outputs": [],
   "source": [
    "xmas_data = []\n",
    "with open('input.txt', 'r') as fd: \n",
    "    for line in fd: \n",
    "        xmas_data.append(int(line.strip()))"
   ]
  },
  {
   "cell_type": "code",
   "execution_count": 34,
   "metadata": {
    "collapsed": true
   },
   "outputs": [],
   "source": [
    "incorrect_number = 32321523"
   ]
  },
  {
   "cell_type": "code",
   "execution_count": 37,
   "metadata": {},
   "outputs": [
    {
     "name": "stdout",
     "output_type": "stream",
     "text": [
      "Solution:  4794981\n"
     ]
    }
   ],
   "source": [
    "for length in range(2, 20): \n",
    "    for pointer in range(0, len(xmas_data) - length + 1): \n",
    "        subset = xmas_data[pointer:pointer+length]\n",
    "        if sum(subset) == incorrect_number: \n",
    "            print('Solution: ', max(subset) + min(subset))\n",
    "            break"
   ]
  },
  {
   "cell_type": "code",
   "execution_count": null,
   "metadata": {
    "collapsed": true
   },
   "outputs": [],
   "source": []
  }
 ],
 "metadata": {
  "kernelspec": {
   "display_name": "Python [conda env:hotspots_framework]",
   "language": "python",
   "name": "conda-env-hotspots_framework-py"
  },
  "language_info": {
   "codemirror_mode": {
    "name": "ipython",
    "version": 3
   },
   "file_extension": ".py",
   "mimetype": "text/x-python",
   "name": "python",
   "nbconvert_exporter": "python",
   "pygments_lexer": "ipython3",
   "version": "3.6.10"
  }
 },
 "nbformat": 4,
 "nbformat_minor": 2
}
