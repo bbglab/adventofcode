{
 "cells": [
  {
   "cell_type": "code",
   "execution_count": 47,
   "metadata": {
    "collapsed": false
   },
   "outputs": [
    {
     "name": "stdout",
     "output_type": "stream",
     "text": [
      "226\n"
     ]
    }
   ],
   "source": [
    "#Part 1.1\n",
    "import numpy as np\n",
    "def get_position(direction,movement,x,y):\n",
    "    \n",
    "    dict_orientation = {'NL':'W','NR':'E','EL':'N','ER':'S','WL':'S','WR':'N','SL':'E','SR':'W'}\n",
    "    next_orientation = dict_orientation[direction+movement[0]]\n",
    "    movements = movement[1:len(movement)]\n",
    "    if (next_orientation == \"W\" or next_orientation ==\"E\"):\n",
    "        if(next_orientation ==\"E\"):\n",
    "            x_new = x + int(movements)\n",
    "        else:\n",
    "            x_new = x - int(movements)\n",
    "        y_new = y\n",
    "    if (next_orientation == \"S\" or next_orientation ==\"N\"):\n",
    "        if(next_orientation ==\"N\"):\n",
    "            y_new = y + int(movements)\n",
    "        else:\n",
    "            y_new = y - int(movements)\n",
    "        x_new = x\n",
    "    return x_new,y_new,next_orientation\n",
    "\n",
    "f = open(\"/Users/fran/adventofcode/2016/fran/file_input.txt\")\n",
    "for l in f: \n",
    "    l = l.rstrip()\n",
    "    list_data = l.split(',')\n",
    "\n",
    "x = 0\n",
    "y = 0\n",
    "orientation = 'N'\n",
    "for val in list_data:\n",
    "    val = val.replace(' ',\"\")\n",
    "   \n",
    "    x,y,orientation = get_position(orientation,val,x,y)\n",
    "    \n",
    "    \n",
    "print (np.abs(x)+np.abs(y))    \n",
    "        \n",
    "    "
   ]
  },
  {
   "cell_type": "code",
   "execution_count": 46,
   "metadata": {
    "collapsed": false
   },
   "outputs": [
    {
     "name": "stdout",
     "output_type": "stream",
     "text": [
      "uvtkpi.ocmgvtcpu()\n"
     ]
    }
   ],
   "source": [
    "#Case 2 - pythonchallenge\n",
    "def get_ascii(a):\n",
    "    if(not(ord(a) >= 97 and ord(a) < 123)):\n",
    "        return chr(ord(a))\n",
    "    if(ord(a)+2 > 122):\n",
    "        \n",
    "        return chr(ord(a)+2-122+96)\n",
    "    return chr(ord(a)+2)\n",
    "strings = \"g fmnc wms bgblr rpylqjyrc gr zw fylb. rfyrq ufyr amknsrcpq ypc dmp. bmgle gr gl zw fylb gq glcddgagclr ylb rfyr'q ufw rfgq rcvr gq qm jmle. sqgle qrpgle.kyicrpylq() gq pcamkkclbcb. lmu ynnjw ml rfc spj.\" \n",
    "strings= \"string.maketrans()\"\n",
    "string_n = \"\"\n",
    "\n",
    "for letter in strings:\n",
    "    if(letter == \" \"):\n",
    "        string_n = string_n + \" \"\n",
    "    else:\n",
    "        string_n = string_n + get_ascii(letter)\n",
    "print (string_n)\n",
    "\n"
   ]
  },
  {
   "cell_type": "code",
   "execution_count": 45,
   "metadata": {
    "collapsed": false
   },
   "outputs": [
    {
     "ename": "ImportError",
     "evalue": "cannot import name 'lowercase'",
     "output_type": "error",
     "traceback": [
      "\u001b[0;31m---------------------------------------------------------------------------\u001b[0m",
      "\u001b[0;31mImportError\u001b[0m                               Traceback (most recent call last)",
      "\u001b[0;32m<ipython-input-45-fbc475a15836>\u001b[0m in \u001b[0;36m<module>\u001b[0;34m()\u001b[0m\n\u001b[0;32m----> 1\u001b[0;31m \u001b[0;32mfrom\u001b[0m \u001b[0mstring\u001b[0m \u001b[0;32mimport\u001b[0m \u001b[0mlowercase\u001b[0m \u001b[0;32mas\u001b[0m \u001b[0mcypher_in\u001b[0m\u001b[0;34m\u001b[0m\u001b[0m\n\u001b[0m\u001b[1;32m      2\u001b[0m \u001b[0;32mfrom\u001b[0m \u001b[0mstring\u001b[0m \u001b[0;32mimport\u001b[0m \u001b[0mmaketrans\u001b[0m\u001b[0;34m\u001b[0m\u001b[0m\n\u001b[1;32m      3\u001b[0m \u001b[0;31m# jvvr://yyy.ravjqpejcnngpig.eqo/re/fgh/ocr.jvon\u001b[0m\u001b[0;34m\u001b[0m\u001b[0;34m\u001b[0m\u001b[0m\n\u001b[1;32m      4\u001b[0m \u001b[0mc1\u001b[0m \u001b[0;34m=\u001b[0m \u001b[0;34m\"http://www.pythonchallenge.com/pc/def/map.html\"\u001b[0m\u001b[0;34m\u001b[0m\u001b[0m\n\u001b[1;32m      5\u001b[0m \u001b[0;34m\u001b[0m\u001b[0m\n",
      "\u001b[0;31mImportError\u001b[0m: cannot import name 'lowercase'"
     ]
    }
   ],
   "source": []
  },
  {
   "cell_type": "code",
   "execution_count": null,
   "metadata": {
    "collapsed": true
   },
   "outputs": [],
   "source": []
  }
 ],
 "metadata": {
  "anaconda-cloud": {},
  "kernelspec": {
   "display_name": "Python [conda env:py3k]",
   "language": "python",
   "name": "conda-env-py3k-py"
  },
  "language_info": {
   "codemirror_mode": {
    "name": "ipython",
    "version": 3
   },
   "file_extension": ".py",
   "mimetype": "text/x-python",
   "name": "python",
   "nbconvert_exporter": "python",
   "pygments_lexer": "ipython3",
   "version": "3.5.2"
  }
 },
 "nbformat": 4,
 "nbformat_minor": 1
}
