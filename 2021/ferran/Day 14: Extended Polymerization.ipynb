{
 "cells": [
  {
   "cell_type": "markdown",
   "metadata": {},
   "source": [
    "# Day 14"
   ]
  },
  {
   "cell_type": "raw",
   "metadata": {},
   "source": [
    "--- Day 14: Extended Polymerization ---\n",
    "The incredible pressures at this depth are starting to put a strain on your submarine. The submarine has polymerization equipment that would produce suitable materials to reinforce the submarine, and the nearby volcanically-active caves should even have the necessary input elements in sufficient quantities.\n",
    "\n",
    "The submarine manual contains instructions for finding the optimal polymer formula; specifically, it offers a polymer template and a list of pair insertion rules (your puzzle input). You just need to work out what polymer would result after repeating the pair insertion process a few times.\n",
    "\n",
    "For example:\n",
    "\n",
    "NNCB\n",
    "\n",
    "CH -> B\n",
    "HH -> N\n",
    "CB -> H\n",
    "NH -> C\n",
    "HB -> C\n",
    "HC -> B\n",
    "HN -> C\n",
    "NN -> C\n",
    "BH -> H\n",
    "NC -> B\n",
    "NB -> B\n",
    "BN -> B\n",
    "BB -> N\n",
    "BC -> B\n",
    "CC -> N\n",
    "CN -> C\n",
    "The first line is the polymer template - this is the starting point of the process.\n",
    "\n",
    "The following section defines the pair insertion rules. A rule like AB -> C means that when elements A and B are immediately adjacent, element C should be inserted between them. These insertions all happen simultaneously.\n",
    "\n",
    "So, starting with the polymer template NNCB, the first step simultaneously considers all three pairs:\n",
    "\n",
    "The first pair (NN) matches the rule NN -> C, so element C is inserted between the first N and the second N.\n",
    "The second pair (NC) matches the rule NC -> B, so element B is inserted between the N and the C.\n",
    "The third pair (CB) matches the rule CB -> H, so element H is inserted between the C and the B.\n",
    "Note that these pairs overlap: the second element of one pair is the first element of the next pair. Also, because all pairs are considered simultaneously, inserted elements are not considered to be part of a pair until the next step.\n",
    "\n",
    "After the first step of this process, the polymer becomes NCNBCHB.\n",
    "\n",
    "Here are the results of a few steps using the above rules:\n",
    "\n",
    "Template:     NNCB\n",
    "After step 1: NCNBCHB\n",
    "After step 2: NBCCNBBBCBHCB\n",
    "After step 3: NBBBCNCCNBBNBNBBCHBHHBCHB\n",
    "After step 4: NBBNBNBBCCNBCNCCNBBNBBNBBBNBBNBBCBHCBHHNHCBBCBHCB\n",
    "This polymer grows quickly. After step 5, it has length 97; After step 10, it has length 3073. After step 10, B occurs 1749 times, C occurs 298 times, H occurs 191 times, and N occurs 865 times; taking the quantity of the most common element (B, 1749) and subtracting the quantity of the least common element (H, 161) produces 1749 - 161 = 1588.\n",
    "\n",
    "Apply 10 steps of pair insertion to the polymer template and find the most and least common elements in the result. What do you get if you take the quantity of the most common element and subtract the quantity of the least common element?"
   ]
  },
  {
   "cell_type": "code",
   "execution_count": 1,
   "metadata": {},
   "outputs": [],
   "source": [
    "with open('input/14.input', 'rt') as f:\n",
    "    l = f.read().splitlines()\n",
    "template = l[0]\n",
    "\n",
    "def rewrite(x):\n",
    "    k, v = tuple(x.split(' -> '))\n",
    "    return (k, k[0] + v + k[1])\n",
    "\n",
    "rules = dict(list(map(lambda x: tuple(x.split(' -> ')), l[2:])))"
   ]
  },
  {
   "cell_type": "code",
   "execution_count": 2,
   "metadata": {},
   "outputs": [],
   "source": [
    "import numpy as np\n",
    "\n",
    "def step1(polymer):\n",
    "    \"\"\"\n",
    "    version 1\n",
    "    =========\n",
    "    using a queue\n",
    "    \n",
    "    \"\"\"\n",
    "    queue = list(polymer)\n",
    "    extended, head = '', ''\n",
    "    while queue:\n",
    "        c = queue.pop(0)\n",
    "        extended += rules.get(head + c, '') + c\n",
    "        head = extended[-1]\n",
    "    return extended\n",
    "\n",
    "def step2(polymer):\n",
    "    \"\"\"\n",
    "    version 2\n",
    "    =========\n",
    "    interweaving numpy arrays\n",
    "    \n",
    "    \"\"\"\n",
    "    n = len(polymer)\n",
    "    extended = np.empty(2*n-1, dtype=object)\n",
    "    extended[1::2] = np.array(list(map(lambda x: rules.get(x,x), [polymer[i:i+2] for i in range(n-1)])))\n",
    "    extended[0::2] = np.array(list(polymer))\n",
    "    return ''.join(extended)\n",
    "\n",
    "def score(polymer):\n",
    "    counts = sorted([polymer.count(c) for c in set(polymer)])\n",
    "    return counts[-1] - counts[0]"
   ]
  },
  {
   "cell_type": "code",
   "execution_count": 3,
   "metadata": {},
   "outputs": [
    {
     "data": {
      "text/plain": [
       "(3247, 3247)"
      ]
     },
     "execution_count": 3,
     "metadata": {},
     "output_type": "execute_result"
    }
   ],
   "source": [
    "template1 = template\n",
    "template2 = template\n",
    "for _ in range(10):\n",
    "    template1 = step1(template1)\n",
    "    template2 = step2(template2)\n",
    "score(template1), score(template2)"
   ]
  },
  {
   "cell_type": "raw",
   "metadata": {},
   "source": [
    "--- Part Two ---\n",
    "The resulting polymer isn't nearly strong enough to reinforce the submarine. You'll need to run more steps of the pair insertion process; a total of 40 steps should do it.\n",
    "\n",
    "In the above example, the most common element is B (occurring 2192039569602 times) and the least common element is H (occurring 3849876073 times); subtracting these produces 2188189693529.\n",
    "\n",
    "Apply 40 steps of pair insertion to the polymer template and find the most and least common elements in the result. What do you get if you take the quantity of the most common element and subtract the quantity of the least common element?"
   ]
  },
  {
   "cell_type": "code",
   "execution_count": 30,
   "metadata": {},
   "outputs": [],
   "source": [
    "pairs = [template[i:i+2] for i in range(len(template)-1)]\n",
    "counter = dict()\n",
    "for c in pairs:\n",
    "    counter[c] = counter.get(c,0) + 1"
   ]
  },
  {
   "cell_type": "code",
   "execution_count": 31,
   "metadata": {},
   "outputs": [],
   "source": [
    "def update(counter):\n",
    "    c = {}\n",
    "    for pair, count in counter.items():\n",
    "        middle = rules.get(pair, '')\n",
    "        if middle == '':\n",
    "            c[pair] = count\n",
    "        else:\n",
    "            pair1 = pair[0] + middle\n",
    "            pair2 = middle + pair[1]\n",
    "            c[pair1] = c.get(pair1, 0) + count\n",
    "            c[pair2] = c.get(pair2, 0) + count\n",
    "    return c\n",
    "\n",
    "def steps(counter, n):\n",
    "    c = counter.copy()\n",
    "    for _ in range(n):\n",
    "        c = update(c)\n",
    "    return c"
   ]
  },
  {
   "cell_type": "code",
   "execution_count": 32,
   "metadata": {},
   "outputs": [],
   "source": [
    "# how many pairs of each kind after n steps\n",
    "\n",
    "counter = steps(counter, 40)"
   ]
  },
  {
   "cell_type": "code",
   "execution_count": 33,
   "metadata": {},
   "outputs": [],
   "source": [
    "letters = {}\n",
    "for pair, count in counter.items():\n",
    "    l1, _ = tuple(pair)\n",
    "    letters[l1] = letters.get(l1, 0) + count\n",
    "letters[template[-1]] += 1"
   ]
  },
  {
   "cell_type": "code",
   "execution_count": 34,
   "metadata": {},
   "outputs": [
    {
     "data": {
      "text/plain": [
       "4110568157153"
      ]
     },
     "execution_count": 34,
     "metadata": {},
     "output_type": "execute_result"
    }
   ],
   "source": [
    "sorted_items = sorted(letters.items(), key=lambda x: x[1])\n",
    "sorted_items[-1][1] - sorted_items[0][1]"
   ]
  }
 ],
 "metadata": {
  "kernelspec": {
   "display_name": "Python [conda env:adventofcode]",
   "language": "python",
   "name": "conda-env-adventofcode-py"
  },
  "language_info": {
   "codemirror_mode": {
    "name": "ipython",
    "version": 3
   },
   "file_extension": ".py",
   "mimetype": "text/x-python",
   "name": "python",
   "nbconvert_exporter": "python",
   "pygments_lexer": "ipython3",
   "version": "3.8.12"
  }
 },
 "nbformat": 4,
 "nbformat_minor": 2
}
