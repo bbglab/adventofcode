{
 "cells": [
  {
   "cell_type": "markdown",
   "metadata": {},
   "source": [
    "# Challenge 15"
   ]
  },
  {
   "cell_type": "code",
   "execution_count": 101,
   "metadata": {
    "collapsed": true
   },
   "outputs": [],
   "source": [
    "myinput = '/home/fmuinos/projects/adventofcode/2016/ferran/inputs/input15.txt'\n",
    "myinput_test = '/home/fmuinos/projects/adventofcode/2016/ferran/inputs/input15-1.txt'"
   ]
  },
  {
   "cell_type": "markdown",
   "metadata": {},
   "source": [
    "## Solution 15.1"
   ]
  },
  {
   "cell_type": "code",
   "execution_count": 114,
   "metadata": {
    "collapsed": true
   },
   "outputs": [],
   "source": [
    "import math\n",
    "import re\n",
    "\n",
    "def setup(myinput):\n",
    "    dd = {}\n",
    "    p = re.compile('has \\d+')\n",
    "    q = re.compile('\\d+\\.')\n",
    "    with open(myinput, 'rt') as f:\n",
    "        i = 1\n",
    "        for line in f:\n",
    "            total = int(p.findall(line)[0].split()[1])\n",
    "            t0 = int(q.findall(line)[0].rstrip('.'))\n",
    "            dd[i] = (total, -(t0 + i) % total)\n",
    "            i += 1\n",
    "    return dd\n",
    "\n",
    "def lcm(args):\n",
    "    x = args.pop()\n",
    "    if args == []:\n",
    "        return x\n",
    "    else:\n",
    "        y = lcm(args)\n",
    "        return x * y // math.gcd(x, y)\n",
    "\n",
    "def sieve(dd):\n",
    "    N, X = list(zip(*[dd[i] for i in sorted(dd)]))\n",
    "    l = lcm(list(N))\n",
    "    X = list(X)\n",
    "    N = list(N)\n",
    "    for i in range(len(dd)-1):        \n",
    "        a = X[i] + N[i]\n",
    "        while((a - X[i+1]) % N[i+1] != 0):\n",
    "            a += N[i]\n",
    "        X[i+1] = a\n",
    "        N[i+1] *= N[i]\n",
    "    while(a > 0):\n",
    "        a -= l\n",
    "    return a + l"
   ]
  },
  {
   "cell_type": "markdown",
   "metadata": {},
   "source": [
    "## Test"
   ]
  },
  {
   "cell_type": "code",
   "execution_count": 115,
   "metadata": {
    "collapsed": false
   },
   "outputs": [
    {
     "name": "stdout",
     "output_type": "stream",
     "text": [
      "{1: (5, 0), 2: (2, 1)}\n"
     ]
    }
   ],
   "source": [
    "dd = setup(myinput_test)\n",
    "print(dd)"
   ]
  },
  {
   "cell_type": "code",
   "execution_count": 116,
   "metadata": {
    "collapsed": false
   },
   "outputs": [
    {
     "data": {
      "text/plain": [
       "5"
      ]
     },
     "execution_count": 116,
     "metadata": {},
     "output_type": "execute_result"
    }
   ],
   "source": [
    "sieve(dd)"
   ]
  },
  {
   "cell_type": "markdown",
   "metadata": {},
   "source": [
    "## Result"
   ]
  },
  {
   "cell_type": "code",
   "execution_count": 124,
   "metadata": {
    "collapsed": false
   },
   "outputs": [
    {
     "name": "stdout",
     "output_type": "stream",
     "text": [
      "{1: (17, 11), 2: (19, 9), 3: (7, 3), 4: (13, 2), 5: (5, 4), 6: (3, 0)}\n"
     ]
    }
   ],
   "source": [
    "dd = setup(myinput)\n",
    "print(dd)"
   ]
  },
  {
   "cell_type": "code",
   "execution_count": 125,
   "metadata": {
    "collapsed": false
   },
   "outputs": [
    {
     "data": {
      "text/plain": [
       "16824"
      ]
     },
     "execution_count": 125,
     "metadata": {},
     "output_type": "execute_result"
    }
   ],
   "source": [
    "sieve(dd)"
   ]
  },
  {
   "cell_type": "markdown",
   "metadata": {},
   "source": [
    "## Solution 15.2"
   ]
  },
  {
   "cell_type": "code",
   "execution_count": 127,
   "metadata": {
    "collapsed": false
   },
   "outputs": [
    {
     "name": "stdout",
     "output_type": "stream",
     "text": [
      "{1: (17, 11), 2: (19, 9), 3: (7, 3), 4: (13, 2), 5: (5, 4), 6: (3, 0), 7: (11, 4)}\n"
     ]
    }
   ],
   "source": [
    "disc = 7\n",
    "total = 11\n",
    "t0 = 0\n",
    "dd.update({disc: (total, -(t0 + disc) % total)})\n",
    "print(dd)"
   ]
  },
  {
   "cell_type": "markdown",
   "metadata": {},
   "source": [
    "## Result"
   ]
  },
  {
   "cell_type": "code",
   "execution_count": 128,
   "metadata": {
    "collapsed": false
   },
   "outputs": [
    {
     "data": {
      "text/plain": [
       "3543984"
      ]
     },
     "execution_count": 128,
     "metadata": {},
     "output_type": "execute_result"
    }
   ],
   "source": [
    "sieve(dd)"
   ]
  }
 ],
 "metadata": {
  "anaconda-cloud": {},
  "kernelspec": {
   "display_name": "Python [conda env:adventofcode]",
   "language": "python",
   "name": "conda-env-adventofcode-py"
  },
  "language_info": {
   "codemirror_mode": {
    "name": "ipython",
    "version": 3
   },
   "file_extension": ".py",
   "mimetype": "text/x-python",
   "name": "python",
   "nbconvert_exporter": "python",
   "pygments_lexer": "ipython3",
   "version": "3.5.2"
  }
 },
 "nbformat": 4,
 "nbformat_minor": 0
}
