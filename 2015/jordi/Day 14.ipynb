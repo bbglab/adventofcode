{
 "cells": [
  {
   "cell_type": "raw",
   "metadata": {},
   "source": [
    "--- Day 14: Reindeer Olympics ---\n",
    "\n",
    "This year is the Reindeer Olympics! Reindeer can fly at high speeds, but must rest occasionally to recover their energy. Santa would like to know which of his reindeer is fastest, and so he has them race.\n",
    "\n",
    "Reindeer can only either be flying (always at their top speed) or resting (not moving at all), and always spend whole seconds in either state.\n",
    "\n",
    "For example, suppose you have the following Reindeer:\n",
    "\n",
    "Comet can fly 14 km/s for 10 seconds, but then must rest for 127 seconds.\n",
    "Dancer can fly 16 km/s for 11 seconds, but then must rest for 162 seconds.\n",
    "After one second, Comet has gone 14 km, while Dancer has gone 16 km. After ten seconds, Comet has gone 140 km, while Dancer has gone 160 km. On the eleventh second, Comet begins resting (staying at 140 km), and Dancer continues on for a total distance of 176 km. On the 12th second, both reindeer are resting. They continue to rest until the 138th second, when Comet flies for another ten seconds. On the 174th second, Dancer flies for another 11 seconds.\n",
    "\n",
    "In this example, after the 1000th second, both reindeer are resting, and Comet is in the lead at 1120 km (poor Dancer has only gotten 1056 km by that point). So, in this situation, Comet would win (if the race ended at 1000 seconds).\n",
    "\n",
    "Given the descriptions of each reindeer (in your puzzle input), after exactly 2503 seconds, what distance has the winning reindeer traveled?"
   ]
  },
  {
   "cell_type": "code",
   "execution_count": 44,
   "metadata": {
    "collapsed": true
   },
   "outputs": [],
   "source": [
    "import re\n",
    "from collections import defaultdict\n",
    "\n",
    "PARSE = re.compile(\"([A-Za-z]+) can fly ([0-9]+) km/s for ([0-9]+) seconds, but then must rest for ([0-9]+) seconds.\")\n",
    "\n",
    "def load_speeds(rules):\n",
    "    speeds = {}\n",
    "    for rule in rules:\n",
    "        reindeer, speed, moving, resting = PARSE.match(rule).groups()\n",
    "        speeds[reindeer] = (int(speed), int(moving), int(resting))\n",
    "    return speeds\n",
    "\n",
    "def calculate_distance(seconds, values):\n",
    "    speed, moving, resting = values\n",
    "    full_cycles = seconds // (moving + resting)\n",
    "    rest_seconds = seconds % (moving + resting)    \n",
    "    return full_cycles*moving*speed + min(rest_seconds, moving)*speed\n",
    "\n",
    "def get_distance_winners(seconds, speeds):\n",
    "    winners = []\n",
    "    max_distance = 0\n",
    "    for r in speeds:\n",
    "        distance = calculate_distance(seconds, speeds[r])\n",
    "        \n",
    "        if distance == max_distance:\n",
    "            winners.append(r)\n",
    "        elif distance > max_distance:\n",
    "            winners = [r]\n",
    "            max_distance = distance\n",
    "    return max_distance, winners"
   ]
  },
  {
   "cell_type": "code",
   "execution_count": 42,
   "metadata": {
    "collapsed": false
   },
   "outputs": [
    {
     "data": {
      "text/plain": [
       "(1120, ['Comet'])"
      ]
     },
     "execution_count": 42,
     "metadata": {},
     "output_type": "execute_result"
    }
   ],
   "source": [
    "# Test example\n",
    "examples = [\n",
    "    \"Comet can fly 14 km/s for 10 seconds, but then must rest for 127 seconds.\", \n",
    "    \"Dancer can fly 16 km/s for 11 seconds, but then must rest for 162 seconds.\"\n",
    "]\n",
    "\n",
    "get_distance_winners(1000, load_speeds(examples))"
   ]
  },
  {
   "cell_type": "code",
   "execution_count": 43,
   "metadata": {
    "collapsed": false
   },
   "outputs": [
    {
     "name": "stdout",
     "output_type": "stream",
     "text": [
      "(2696, ['Cupid'])\n"
     ]
    }
   ],
   "source": [
    "# Real data\n",
    "with open('day14/input.txt', 'rt') as fd:\n",
    "    print(get_distance_winners(2503, load_speeds(fd)))"
   ]
  },
  {
   "cell_type": "raw",
   "metadata": {},
   "source": [
    "--- Part Two ---\n",
    "Seeing how reindeer move in bursts, Santa decides he's not pleased with the old scoring system.\n",
    "\n",
    "Instead, at the end of each second, he awards one point to the reindeer currently in the lead. (If there are multiple reindeer tied for the lead, they each get one point.) He keeps the traditional 2503 second time limit, of course, as doing otherwise would be entirely ridiculous.\n",
    "\n",
    "Given the example reindeer from above, after the first second, Dancer is in the lead and gets one point. He stays in the lead until several seconds into Comet's second burst: after the 140th second, Comet pulls into the lead and gets his first point. Of course, since Dancer had been in the lead for the 139 seconds before that, he has accumulated 139 points by the 140th second.\n",
    "\n",
    "After the 1000th second, Dancer has accumulated 689 points, while poor Comet, our old champion, only has 312. So, with the new scoring system, Dancer would win (if the race ended at 1000 seconds).\n",
    "\n",
    "Again given the descriptions of each reindeer (in your puzzle input), after exactly 2503 seconds, how many points does the winning reindeer have?"
   ]
  },
  {
   "cell_type": "code",
   "execution_count": 55,
   "metadata": {
    "collapsed": true
   },
   "outputs": [],
   "source": [
    "def get_points_winners(seconds, speeds):\n",
    "    points = defaultdict(int)    \n",
    "    for s in range(1, seconds+1):\n",
    "        distance, winners = get_distance_winners(s, speeds)  \n",
    "        for w in winners:\n",
    "            points[w] += 1\n",
    "    \n",
    "    winners = []\n",
    "    max_points = 0\n",
    "    for r, p in points.items():\n",
    "        if p == max_points:\n",
    "            winners.append(r)\n",
    "        elif p > max_points:\n",
    "            winners = [r]\n",
    "            max_points = p\n",
    "    \n",
    "    return max_points, winners"
   ]
  },
  {
   "cell_type": "code",
   "execution_count": 56,
   "metadata": {
    "collapsed": false
   },
   "outputs": [
    {
     "data": {
      "text/plain": [
       "(689, ['Dancer'])"
      ]
     },
     "execution_count": 56,
     "metadata": {},
     "output_type": "execute_result"
    }
   ],
   "source": [
    "# Test example\n",
    "get_points_winners(1000, load_speeds(examples))"
   ]
  },
  {
   "cell_type": "code",
   "execution_count": 57,
   "metadata": {
    "collapsed": false
   },
   "outputs": [
    {
     "name": "stdout",
     "output_type": "stream",
     "text": [
      "(1084, ['Rudolph'])\n"
     ]
    }
   ],
   "source": [
    "# Real data\n",
    "with open(\"day14/input.txt\", \"rt\") as fd:\n",
    "    print(get_points_winners(2503, load_speeds(fd)))"
   ]
  },
  {
   "cell_type": "code",
   "execution_count": null,
   "metadata": {
    "collapsed": true
   },
   "outputs": [],
   "source": []
  }
 ],
 "metadata": {
  "kernelspec": {
   "display_name": "Python 3",
   "language": "python",
   "name": "python3"
  },
  "language_info": {
   "codemirror_mode": {
    "name": "ipython",
    "version": 3
   },
   "file_extension": ".py",
   "mimetype": "text/x-python",
   "name": "python",
   "nbconvert_exporter": "python",
   "pygments_lexer": "ipython3",
   "version": "3.4.3"
  }
 },
 "nbformat": 4,
 "nbformat_minor": 0
}
