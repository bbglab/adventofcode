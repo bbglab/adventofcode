{
 "cells": [
  {
   "cell_type": "markdown",
   "metadata": {},
   "source": [
    "# Advent of Code 2016"
   ]
  },
  {
   "cell_type": "raw",
   "metadata": {},
   "source": [
    "--- Day 15: Timing is Everything ---\n",
    "\n",
    "The halls open into an interior plaza containing a large kinetic sculpture. The sculpture is in a sealed enclosure and seems to involve a set of identical spherical capsules that are carried to the top and allowed to bounce through the maze of spinning pieces.\n",
    "\n",
    "Part of the sculpture is even interactive! When a button is pressed, a capsule is dropped and tries to fall through slots in a set of rotating discs to finally go through a little hole at the bottom and come out of the sculpture. If any of the slots aren't aligned with the capsule as it passes, the capsule bounces off the disc and soars away. You feel compelled to get one of those capsules.\n",
    "\n",
    "The discs pause their motion each second and come in different sizes; they seem to each have a fixed number of positions at which they stop. You decide to call the position with the slot 0, and count up for each position it reaches next.\n",
    "\n",
    "Furthermore, the discs are spaced out so that after you push the button, one second elapses before the first disc is reached, and one second elapses as the capsule passes from one disk to the one below it. So, if you push the button at time=100, then the capsule reaches the top disc at time=101, the second disc at time=102, the third disc at time=103, and so on.\n",
    "\n",
    "The button will only drop a capsule at an integer time - no fractional seconds allowed.\n",
    "\n",
    "For example, at time=0, suppose you see the following arrangement:\n",
    "\n",
    "- Disc #1 has 5 positions; at time=0, it is at position 4.\n",
    "- Disc #2 has 2 positions; at time=0, it is at position 1.\n",
    "\n",
    "If you press the button exactly at time=0, the capsule would start to fall; it would reach the first disc at time=1. Since the first disc was at position 4 at time=0, by time=1 it has ticked one position forward. As a five-position disc, the next position is 0, and the capsule falls through the slot.\n",
    "\n",
    "Then, at time=2, the capsule reaches the second disc. The second disc has ticked forward two positions at this point: it started at position 1, then continued to position 0, and finally ended up at position 1 again. Because there's only a slot at position 0, the capsule bounces away.\n",
    "\n",
    "If, however, you wait until time=5 to push the button, then when the capsule reaches each disc, the first disc will have ticked forward 5+1 = 6 times (to position 0), and the second disc will have ticked forward 5+2 = 7 times (also to position 0). In this case, the capsule would fall through the discs and come out of the machine.\n",
    "\n",
    "However, your situation has more than two discs; you've noted their positions in your puzzle input. What is the first time you can press the button to get a capsule?"
   ]
  },
  {
   "cell_type": "code",
   "execution_count": 1,
   "metadata": {
    "collapsed": true
   },
   "outputs": [],
   "source": [
    "class Disc:\n",
    "    \n",
    "    def __init__(self, positions, position):\n",
    "        self.positions = positions\n",
    "        self.position = position\n",
    "        \n",
    "    def update_position(self, elapsed_time):\n",
    "        return (self.position + elapsed_time) % self.positions\n",
    "    \n",
    "    def is_slot(self, elapsed_time):\n",
    "        return self.update_position(elapsed_time) == 0"
   ]
  },
  {
   "cell_type": "code",
   "execution_count": 2,
   "metadata": {
    "collapsed": true
   },
   "outputs": [],
   "source": [
    "def parse_discs(data):\n",
    "    discs = dict()\n",
    "    for line in data:\n",
    "        disc_number = int(line.split()[1][1:])\n",
    "        positions = int(line.split()[3])\n",
    "        position = int(line.split()[-1][:-1])\n",
    "        discs[disc_number] = Disc(positions=positions, position=position)\n",
    "    return discs"
   ]
  },
  {
   "cell_type": "code",
   "execution_count": 3,
   "metadata": {
    "collapsed": false
   },
   "outputs": [],
   "source": [
    "def find_time(discs):\n",
    "    init_time = 0\n",
    "    while True:\n",
    "        elapsed_time = init_time\n",
    "        for disc_number in sorted(discs):\n",
    "            elapsed_time += 1\n",
    "            if not discs[disc_number].is_slot(elapsed_time):\n",
    "                break\n",
    "        else:\n",
    "            return init_time\n",
    "        \n",
    "        init_time += 1"
   ]
  },
  {
   "cell_type": "code",
   "execution_count": 4,
   "metadata": {
    "collapsed": false
   },
   "outputs": [],
   "source": [
    "# Test\n",
    "data = [\n",
    "    'Disc #1 has 5 positions; at time=0, it is at position 4.', \n",
    "    'Disc #2 has 2 positions; at time=0, it is at position 1.'\n",
    "]\n",
    "\n",
    "discs = parse_discs(data)\n",
    "assert find_time(discs) == 5"
   ]
  },
  {
   "cell_type": "code",
   "execution_count": 5,
   "metadata": {
    "collapsed": false
   },
   "outputs": [
    {
     "data": {
      "text/plain": [
       "317371"
      ]
     },
     "execution_count": 5,
     "metadata": {},
     "output_type": "execute_result"
    }
   ],
   "source": [
    "data = [line.strip() for line in open('data/day_15.txt', 'r')]\n",
    "discs = parse_discs(data)\n",
    "find_time(discs)"
   ]
  },
  {
   "cell_type": "raw",
   "metadata": {},
   "source": [
    "--- Part Two ---\n",
    "\n",
    "After getting the first capsule (it contained a star! what great fortune!), the machine detects your success and begins to rearrange itself.\n",
    "\n",
    "When it's done, the discs are back in their original configuration as if it were time=0 again, but a new disc with 11 positions and starting at position 0 has appeared exactly one second below the previously-bottom disc.\n",
    "\n",
    "With this new disc, and counting again starting from time=0 with the configuration in your puzzle input, what is the first time you can press the button to get another capsule?"
   ]
  },
  {
   "cell_type": "code",
   "execution_count": 6,
   "metadata": {
    "collapsed": false
   },
   "outputs": [
    {
     "data": {
      "text/plain": [
       "2080951"
      ]
     },
     "execution_count": 6,
     "metadata": {},
     "output_type": "execute_result"
    }
   ],
   "source": [
    "data = [line.strip() for line in open('data/day_15.txt', 'r')]\n",
    "discs = parse_discs(data)\n",
    "discs[len(discs) + 1] = Disc(positions=11, position=0)\n",
    "find_time(discs)"
   ]
  }
 ],
 "metadata": {
  "kernelspec": {
   "display_name": "Python 3",
   "language": "python",
   "name": "python3"
  },
  "language_info": {
   "codemirror_mode": {
    "name": "ipython",
    "version": 3
   },
   "file_extension": ".py",
   "mimetype": "text/x-python",
   "name": "python",
   "nbconvert_exporter": "python",
   "pygments_lexer": "ipython3",
   "version": "3.5.2+"
  }
 },
 "nbformat": 4,
 "nbformat_minor": 2
}
