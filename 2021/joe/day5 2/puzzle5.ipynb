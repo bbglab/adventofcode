{
 "cells": [
  {
   "cell_type": "code",
   "execution_count": 1,
   "id": "8fa6bcc0",
   "metadata": {},
   "outputs": [],
   "source": [
    "with open(\"i5.txt\") as f:\n",
    "    ii = f.read().splitlines()"
   ]
  },
  {
   "cell_type": "markdown",
   "id": "72805fca",
   "metadata": {},
   "source": [
    "### help"
   ]
  },
  {
   "cell_type": "code",
   "execution_count": 2,
   "id": "dbe8d1ac",
   "metadata": {},
   "outputs": [],
   "source": [
    "def line_parse( ll ):\n",
    "    xs = [ int(j.split(\",\")[0]) for j in ll.split(\" -> \")]\n",
    "    ys = [ int(j.split(\",\")[1]) for j in ll.split(\" -> \")]\n",
    "\n",
    "    if xs[0] == xs[1]:\n",
    "        return [ str(xs[0]) + \",\" + str(y) for y in range(min(ys),max(ys)+1)]\n",
    "    elif ys[0] == ys[1]:\n",
    "        return [ str(x) + \",\" + str(ys[0]) for x in range(min(xs),max(xs)+1)]    \n",
    "\n",
    "def x_or_y_equal( ll ):\n",
    "    xs = [ int(j.split(\",\")[0]) for j in ll.split(\" -> \")]\n",
    "    ys = [ int(j.split(\",\")[1]) for j in ll.split(\" -> \")]\n",
    "    \n",
    "    if xs[0] == xs[1] or ys[0] == ys[1]:\n",
    "        return True"
   ]
  },
  {
   "cell_type": "markdown",
   "id": "3f2a9749",
   "metadata": {},
   "source": [
    "# Part 1"
   ]
  },
  {
   "cell_type": "code",
   "execution_count": 3,
   "id": "5c3fc860",
   "metadata": {},
   "outputs": [
    {
     "data": {
      "text/plain": [
       "7380"
      ]
     },
     "execution_count": 3,
     "metadata": {},
     "output_type": "execute_result"
    }
   ],
   "source": [
    "coords = []\n",
    "for ll in ii:\n",
    "    if x_or_y_equal(ll):\n",
    "        coords += line_parse(ll)\n",
    "\n",
    "### store coord cts\n",
    "ct_dict = {}\n",
    "for i in coords:\n",
    "    if i not in ct_dict:\n",
    "        ct_dict[i] = 1\n",
    "    else:\n",
    "        ct_dict[i] += 1\n",
    " \n",
    "### overlap count\n",
    "len([ct_dict[i] for i in ct_dict if ct_dict[i] > 1])        "
   ]
  },
  {
   "cell_type": "markdown",
   "id": "21305bfc",
   "metadata": {},
   "source": [
    "# Part 2"
   ]
  },
  {
   "cell_type": "code",
   "execution_count": 4,
   "id": "e0139f3f",
   "metadata": {},
   "outputs": [],
   "source": [
    "def expander(ll):\n",
    "    if ll[0] > ll[1]:\n",
    "        return range(ll[0], ll[1]-1,-1)\n",
    "    elif ll[1] > ll[0]:\n",
    "        return range(ll[0],ll[1]+1)\n",
    "        \n",
    "def line_parse2( ll ):\n",
    "    xs = [ int(j.split(\",\")[0]) for j in ll.split(\" -> \")]\n",
    "    ys = [ int(j.split(\",\")[1]) for j in ll.split(\" -> \")]\n",
    "\n",
    "    if xs[0] == xs[1] and ys[0]!= ys[1]:\n",
    "        return [ str(xs[0]) + \",\" + str(y) for y in range(min(ys),max(ys)+1)]\n",
    "    elif ys[0] == ys[1] and xs[0]!=xs[1]:\n",
    "        return [ str(x) + \",\" + str(ys[0]) for x in range(min(xs),max(xs)+1)] \n",
    "    elif xs[0] == ys[0] and xs[1]==ys[1]:\n",
    "        return [ str(x) + \",\" + str(x) for x in range(min(xs),max(xs)+1)] \n",
    "    elif abs(xs[0]-xs[1]) == abs(ys[0]-ys[1]):\n",
    "        xs2 = expander(xs)\n",
    "        ys2 = expander(ys)\n",
    "        return [str(xs2[i]) + \",\" + str(ys2[i]) for i in range(len(xs2))]\n",
    "        \n",
    "    \n",
    "def x_or_y_equal2( ll ):\n",
    "    xs = [ int(j.split(\",\")[0]) for j in ll.split(\" -> \")]\n",
    "    ys = [ int(j.split(\",\")[1]) for j in ll.split(\" -> \")]\n",
    "    \n",
    "    if xs[0] == xs[1] or ys[0] == ys[1]:\n",
    "        return True\n",
    "    elif abs(xs[0] - xs[1]) == abs(ys[0]-ys[1]):\n",
    "        return True"
   ]
  },
  {
   "cell_type": "markdown",
   "id": "76cf5f35",
   "metadata": {},
   "source": [
    "### Compute multiple"
   ]
  },
  {
   "cell_type": "code",
   "execution_count": 12,
   "id": "bec49da1",
   "metadata": {},
   "outputs": [
    {
     "data": {
      "text/plain": [
       "21373"
      ]
     },
     "execution_count": 12,
     "metadata": {},
     "output_type": "execute_result"
    }
   ],
   "source": [
    "coords = []\n",
    "for ll in ii:\n",
    "    if x_or_y_equal2(ll):\n",
    "        coords += line_parse2(ll)\n",
    "\n",
    "ct_dict = {}\n",
    "for i in coords:\n",
    "    if i not in ct_dict:\n",
    "        ct_dict[i] = 1\n",
    "    else:\n",
    "        ct_dict[i] += 1\n",
    "len([ct_dict[i] for i in ct_dict if ct_dict[i] > 1])         "
   ]
  }
 ],
 "metadata": {
  "kernelspec": {
   "display_name": "Python 3 (ipykernel)",
   "language": "python",
   "name": "python3"
  },
  "language_info": {
   "codemirror_mode": {
    "name": "ipython",
    "version": 3
   },
   "file_extension": ".py",
   "mimetype": "text/x-python",
   "name": "python",
   "nbconvert_exporter": "python",
   "pygments_lexer": "ipython3",
   "version": "3.9.7"
  }
 },
 "nbformat": 4,
 "nbformat_minor": 5
}
