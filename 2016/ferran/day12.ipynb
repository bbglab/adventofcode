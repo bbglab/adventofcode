{
 "cells": [
  {
   "cell_type": "markdown",
   "metadata": {
    "collapsed": false
   },
   "source": [
    "# Chellenge 12\n",
    "\n",
    "## Challenge 12.1"
   ]
  },
  {
   "cell_type": "code",
   "execution_count": 1,
   "metadata": {
    "collapsed": true
   },
   "outputs": [],
   "source": [
    "myinput = '/home/fmuinos/projects/adventofcode/2016/ferran/inputs/input12.txt'"
   ]
  },
  {
   "cell_type": "code",
   "execution_count": 2,
   "metadata": {
    "collapsed": false
   },
   "outputs": [],
   "source": [
    "from collections import defaultdict\n",
    "\n",
    "def parse_comm_dict(myinput):\n",
    "    with open(myinput, 'rt') as f:\n",
    "        i = 1\n",
    "        comm_dict = {}\n",
    "        for line in f:\n",
    "            comm = line[:3]\n",
    "            args = []\n",
    "            args.append(line[4:].rstrip().split(' ')[0])\n",
    "            try:\n",
    "                args.append(line[4:].rstrip().split(' ')[1])\n",
    "            except:\n",
    "                pass\n",
    "            comm_dict[i] = (comm, args)\n",
    "            i += 1\n",
    "    return comm_dict\n",
    "\n",
    "class AssembunnyInterpreter(object):\n",
    "    \n",
    "    def __init__(self, commands):\n",
    "        self.commands = commands\n",
    "        self.registry = {'a': 0, 'b': 0, 'c': 0, 'd': 0}\n",
    "        self.pointer = 1\n",
    "    \n",
    "    def update(self):\n",
    "        comm = self.commands[self.pointer][0]\n",
    "        args = self.commands[self.pointer][1]\n",
    "        if comm == 'cpy':\n",
    "            if args[0] in self.registry:\n",
    "                self.registry[args[1]] = self.registry[args[0]]\n",
    "            else:\n",
    "                self.registry[args[1]] = int(args[0])\n",
    "            self.pointer += 1\n",
    "        elif comm == 'inc':\n",
    "            self.registry[args[0]] += 1\n",
    "            self.pointer += 1\n",
    "        elif comm == 'dec':\n",
    "            self.registry[args[0]] -= 1\n",
    "            self.pointer += 1\n",
    "        elif comm == 'jnz':\n",
    "            if args[0] in self.registry:\n",
    "                if self.registry[args[0]] != 0:\n",
    "                    self.pointer = self.pointer + int(args[1])\n",
    "                else:\n",
    "                    self.pointer += 1\n",
    "            elif int(args[0]) != 0:\n",
    "                self.pointer = self.pointer + int(args[1])\n",
    "            else:\n",
    "                self.pointer += 1"
   ]
  },
  {
   "cell_type": "code",
   "execution_count": 167,
   "metadata": {
    "collapsed": false
   },
   "outputs": [
    {
     "data": {
      "text/plain": [
       "{'a': 318003, 'b': 196418, 'c': 0, 'd': 0}"
      ]
     },
     "execution_count": 167,
     "metadata": {},
     "output_type": "execute_result"
    }
   ],
   "source": [
    "commands = parse_comm_dict(myinput)\n",
    "interpreter = AssembunnyInterpreter(commands)\n",
    "while interpreter.pointer in command:\n",
    "    interpreter.update()\n",
    "interpreter.registry"
   ]
  },
  {
   "cell_type": "markdown",
   "metadata": {},
   "source": [
    "## Challenge 12.2"
   ]
  },
  {
   "cell_type": "code",
   "execution_count": 169,
   "metadata": {
    "collapsed": false
   },
   "outputs": [
    {
     "data": {
      "text/plain": [
       "{'a': 9227657, 'b': 5702887, 'c': 0, 'd': 0}"
      ]
     },
     "execution_count": 169,
     "metadata": {},
     "output_type": "execute_result"
    }
   ],
   "source": [
    "commands = parse_comm_dict(myinput)\n",
    "interpreter = AssembunnyInterpreter(commands)\n",
    "interpreter.registry['c'] = 1\n",
    "while interpreter.pointer in command:\n",
    "    interpreter.update()\n",
    "interpreter.registry"
   ]
  }
 ],
 "metadata": {
  "anaconda-cloud": {},
  "kernelspec": {
   "display_name": "Python [conda env:adventofcode]",
   "language": "python",
   "name": "conda-env-adventofcode-py"
  },
  "language_info": {
   "codemirror_mode": {
    "name": "ipython",
    "version": 3
   },
   "file_extension": ".py",
   "mimetype": "text/x-python",
   "name": "python",
   "nbconvert_exporter": "python",
   "pygments_lexer": "ipython3",
   "version": "3.5.2"
  }
 },
 "nbformat": 4,
 "nbformat_minor": 1
}
