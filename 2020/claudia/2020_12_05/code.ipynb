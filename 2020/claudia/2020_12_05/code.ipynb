{
 "cells": [
  {
   "cell_type": "markdown",
   "metadata": {},
   "source": [
    "# Day 5"
   ]
  },
  {
   "cell_type": "code",
   "execution_count": 24,
   "metadata": {},
   "outputs": [
    {
     "data": {
      "text/plain": [
       "976"
      ]
     },
     "execution_count": 24,
     "metadata": {},
     "output_type": "execute_result"
    }
   ],
   "source": [
    "total_ident = set()\n",
    "with open('input.txt', 'r') as fd: \n",
    "    for line in fd:\n",
    "        line = line.strip()\n",
    "            \n",
    "        counter_row = [0, 127]\n",
    "        counter_col = [0, 7]\n",
    "        for i in line[:7]: \n",
    "            if i == 'B': \n",
    "                counter_row = [(counter_row[1]+counter_row[0])//2, counter_row[1]]\n",
    "            elif i == 'F': \n",
    "                counter_row = [counter_row[0], (counter_row[1]+counter_row[0])//2]\n",
    "        for i in line[7:]: \n",
    "            if i == 'R': \n",
    "                counter_col = [(counter_col[1]+counter_col[0])//2, counter_col[1]]\n",
    "            elif i == 'L': \n",
    "                counter_col = [counter_col[0], (counter_col[1]+counter_col[0])//2]\n",
    "       \n",
    "        total_ident.add(counter_row[1] * 8 + counter_col[1])\n",
    "max(total_ident)"
   ]
  },
  {
   "cell_type": "code",
   "execution_count": 28,
   "metadata": {},
   "outputs": [
    {
     "data": {
      "text/plain": [
       "{685}"
      ]
     },
     "execution_count": 28,
     "metadata": {},
     "output_type": "execute_result"
    }
   ],
   "source": [
    "expected_ident = set(range(min(total_ident), max(total_ident) + 1))\n",
    "expected_ident.difference(total_ident)"
   ]
  },
  {
   "cell_type": "code",
   "execution_count": null,
   "metadata": {
    "collapsed": true
   },
   "outputs": [],
   "source": []
  }
 ],
 "metadata": {
  "kernelspec": {
   "display_name": "Python [conda env:hotspots_framework]",
   "language": "python",
   "name": "conda-env-hotspots_framework-py"
  },
  "language_info": {
   "codemirror_mode": {
    "name": "ipython",
    "version": 3
   },
   "file_extension": ".py",
   "mimetype": "text/x-python",
   "name": "python",
   "nbconvert_exporter": "python",
   "pygments_lexer": "ipython3",
   "version": "3.6.10"
  }
 },
 "nbformat": 4,
 "nbformat_minor": 2
}
