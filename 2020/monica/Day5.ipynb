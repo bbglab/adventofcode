{
 "cells": [
  {
   "cell_type": "markdown",
   "metadata": {},
   "source": [
    "# Advent of code 2020 "
   ]
  },
  {
   "cell_type": "markdown",
   "metadata": {},
   "source": [
    "## --- Day 5: Binary Boarding ---\n",
    "You board your plane only to discover a new problem: you dropped your boarding pass! You aren't sure which seat is yours, and all of the flight attendants are busy with the flood of people that suddenly made it through passport control.\n",
    "\n",
    "You write a quick program to use your phone's camera to scan all of the nearby boarding passes (your puzzle input); perhaps you can find your seat through process of elimination.\n",
    "\n",
    "Instead of zones or groups, this airline uses binary space partitioning to seat people. A seat might be specified like FBFBBFFRLR, where F means \"front\", B means \"back\", L means \"left\", and R means \"right\".\n",
    "\n",
    "The first 7 characters will either be F or B; these specify exactly one of the 128 rows on the plane (numbered 0 through 127). Each letter tells you which half of a region the given seat is in. Start with the whole list of rows; the first letter indicates whether the seat is in the front (0 through 63) or the back (64 through 127). The next letter indicates which half of that region the seat is in, and so on until you're left with exactly one row.\n",
    "\n",
    "For example, consider just the first seven characters of FBFBBFFRLR:\n",
    "\n",
    "Start by considering the whole range, rows 0 through 127.  \n",
    "F means to take the lower half, keeping rows 0 through 63.  \n",
    "B means to take the upper half, keeping rows 32 through 63.  \n",
    "F means to take the lower half, keeping rows 32 through 47.  \n",
    "B means to take the upper half, keeping rows 40 through 47.  \n",
    "B keeps rows 44 through 47.  \n",
    "F keeps rows 44 through 45.  \n",
    "The final F keeps the lower of the two, row 44.  \n",
    "\n",
    "The last three characters will be either L or R; these specify exactly one of the 8 columns of seats on the plane (numbered 0 through 7). The same process as above proceeds again, this time with only three steps. L means to keep the lower half, while R means to keep the upper half.\n",
    "\n",
    "For example, consider just the last 3 characters of FBFBBFFRLR:  \n",
    "\n",
    "Start by considering the whole range, columns 0 through 7.  \n",
    "R means to take the upper half, keeping columns 4 through 7.  \n",
    "L means to take the lower half, keeping columns 4 through 5.  \n",
    "The final R keeps the upper of the two, column 5.  \n",
    "\n",
    "So, decoding FBFBBFFRLR reveals that it is the seat at row 44, column 5.  \n",
    "\n",
    "Every seat also has a unique seat ID: multiply the row by 8, then add the column. In this example, the seat has ID 44 * 8 + 5 = 357.  \n",
    "\n",
    "Here are some other boarding passes:  \n",
    "\n",
    "BFFFBBFRRR: row 70, column 7, seat ID 567.  \n",
    "FFFBBBFRRR: row 14, column 7, seat ID 119.  \n",
    "BBFFBBFRLL: row 102, column 4, seat ID 820.  \n",
    "\n",
    "As a sanity check, look through your list of boarding passes. What is the highest seat ID on a boarding pass?"
   ]
  },
  {
   "cell_type": "code",
   "execution_count": 32,
   "metadata": {},
   "outputs": [],
   "source": [
    "bpass = ['BFFFBBFRRR','FFFBBBFRRR','BBFFBBFRLL']\n",
    "\n",
    "def boarding_pass (bpass):\n",
    "    locations = []\n",
    "    for bpas in bpass:\n",
    "        rows = list(range(0,128))\n",
    "        cols = list(range(0,8))\n",
    "#         print(bpas)\n",
    "        fb = bpas[0:7]\n",
    "        for pos in fb:\n",
    "            if pos == 'F':\n",
    "                rows = rows[0:(int(len(rows)/2))]\n",
    "            elif pos == 'B':\n",
    "                rows = rows[(int(len(rows)/2)):len(rows)]\n",
    "#             print(fb, rows)\n",
    "        lr = bpas[7:10]\n",
    "        for pos in lr:\n",
    "            if pos == 'L':\n",
    "                cols = cols[0:(int(len(cols)/2))]\n",
    "            elif pos == 'R':\n",
    "                cols = cols[(int(len(cols)/2)):len(cols)]\n",
    "#             print(lr,cols)\n",
    "        location = rows + cols\n",
    "        locations.append(location)\n",
    "\n",
    "    ID_list = []\n",
    "    for loc in locations:\n",
    "        ID = loc[0]*8+loc[1]\n",
    "        ID_list.append(ID)\n",
    "    return max(ID_list)"
   ]
  },
  {
   "cell_type": "code",
   "execution_count": 33,
   "metadata": {},
   "outputs": [
    {
     "data": {
      "text/plain": [
       "828"
      ]
     },
     "execution_count": 33,
     "metadata": {},
     "output_type": "execute_result"
    }
   ],
   "source": [
    "with open('input_day5.txt') as f:\n",
    "    bpass = f.read().splitlines()\n",
    "max_bp = boarding_pass(bpass)\n",
    "max_bp"
   ]
  },
  {
   "cell_type": "markdown",
   "metadata": {},
   "source": [
    "## --- Part Two ---\n",
    "Ding! The \"fasten seat belt\" signs have turned on. Time to find your seat.\n",
    "\n",
    "It's a completely full flight, so your seat should be the only missing boarding pass in your list. However, there's a catch: some of the seats at the very front and back of the plane don't exist on this aircraft, so they'll be missing from your list as well.\n",
    "\n",
    "Your seat wasn't at the very front or back, though; the seats with IDs +1 and -1 from yours will be in your list.\n",
    "\n",
    "What is the ID of your seat?"
   ]
  },
  {
   "cell_type": "code",
   "execution_count": 67,
   "metadata": {},
   "outputs": [
    {
     "name": "stdout",
     "output_type": "stream",
     "text": [
      "{101: 7, 99: 5, 100: 6}\n",
      "{0: 127, 1: 2, 8: 102, 7: 70, 5: 103}\n",
      "5\n",
      "70\n",
      "565\n"
     ]
    }
   ],
   "source": [
    "rows_list = []\n",
    "cols_list = []\n",
    "for bpas in bpass:\n",
    "    rows = list(range(0,128))\n",
    "    cols = list(range(0,8))\n",
    "#         print(bpas)\n",
    "    fb = bpas[0:7]\n",
    "    for pos in fb:\n",
    "        if pos == 'F':\n",
    "            rows = rows[0:(int(len(rows)/2))]\n",
    "        elif pos == 'B':\n",
    "            rows = rows[(int(len(rows)/2)):len(rows)]\n",
    "#             print(fb, rows)\n",
    "    lr = bpas[7:10]\n",
    "    for pos in lr:\n",
    "        if pos == 'L':\n",
    "            cols = cols[0:(int(len(cols)/2))]\n",
    "        elif pos == 'R':\n",
    "            cols = cols[(int(len(cols)/2)):len(cols)]\n",
    "#             print(lr,cols)\n",
    "    rows_list.append(rows[0])\n",
    "    cols_list.append(cols[0])\n",
    "rows_list.sort()\n",
    "rows_list\n",
    "cols_list.sort()\n",
    "\n",
    "n_cols = {}\n",
    "for i in range(0,8):\n",
    "    col = cols_list.count(i)\n",
    "    n_cols.update({i:col})\n",
    "# print(n_cols)\n",
    "\n",
    "n_rows = {}\n",
    "for i in range(0,128):\n",
    "    row = rows_list.count(i)\n",
    "    n_rows.update({i:row})\n",
    "# print(n_rows)\n",
    "\n",
    "n_cols2 = {v: k for k, v in n_cols.items()}\n",
    "n_rows2 = {v: k for k, v in n_rows.items()}\n",
    "print(n_cols2)\n",
    "print(n_rows2)\n",
    "\n",
    "print(n_cols2[99])\n",
    "print(n_rows2[7])\n",
    "\n",
    "ID = n_rows2[7] * 8 + n_cols2[99]\n",
    "print(ID)"
   ]
  }
 ],
 "metadata": {
  "kernelspec": {
   "display_name": "Python 3",
   "language": "python",
   "name": "python3"
  },
  "language_info": {
   "codemirror_mode": {
    "name": "ipython",
    "version": 3
   },
   "file_extension": ".py",
   "mimetype": "text/x-python",
   "name": "python",
   "nbconvert_exporter": "python",
   "pygments_lexer": "ipython3",
   "version": "3.7.4"
  }
 },
 "nbformat": 4,
 "nbformat_minor": 2
}
