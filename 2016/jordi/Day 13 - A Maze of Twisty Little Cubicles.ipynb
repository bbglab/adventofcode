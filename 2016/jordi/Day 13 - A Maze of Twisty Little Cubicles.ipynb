{
 "cells": [
  {
   "cell_type": "markdown",
   "metadata": {},
   "source": [
    "```\n",
    "--- Day 13: A Maze of Twisty Little Cubicles ---\n",
    "\n",
    "You arrive at the first floor of this new building to discover a much less welcoming environment than the shiny atrium of the last one. Instead, you are in a maze of twisty little cubicles, all alike.\n",
    "\n",
    "Every location in this area is addressed by a pair of non-negative integers (x,y). Each such coordinate is either a wall or an open space. You can't move diagonally. The cube maze starts at 0,0 and seems to extend infinitely toward positive x and y; negative values are invalid, as they represent a location outside the building. You are in a small waiting area at 1,1.\n",
    "\n",
    "While it seems chaotic, a nearby morale-boosting poster explains, the layout is actually quite logical. You can determine whether a given x,y coordinate will be a wall or an open space using a simple system:\n",
    "\n",
    "Find x*x + 3*x + 2*x*y + y + y*y.\n",
    "Add the office designer's favorite number (your puzzle input).\n",
    "Find the binary representation of that sum; count the number of bits that are 1.\n",
    "If the number of bits that are 1 is even, it's an open space.\n",
    "If the number of bits that are 1 is odd, it's a wall.\n",
    "For example, if the office designer's favorite number were 10, drawing walls as # and open spaces as ., the corner of the building containing 0,0 would look like this:\n",
    "\n",
    "  0123456789\n",
    "0 .#.####.##\n",
    "1 ..#..#...#\n",
    "2 #....##...\n",
    "3 ###.#.###.\n",
    "4 .##..#..#.\n",
    "5 ..##....#.\n",
    "6 #...##.###\n",
    "Now, suppose you wanted to reach 7,4. The shortest route you could take is marked as O:\n",
    "\n",
    "  0123456789\n",
    "0 .#.####.##\n",
    "1 .O#..#...#\n",
    "2 #OOO.##...\n",
    "3 ###O#.###.\n",
    "4 .##OO#OO#.\n",
    "5 ..##OOO.#.\n",
    "6 #...##.###\n",
    "Thus, reaching 7,4 would take a minimum of 11 steps (starting from your current location, 1,1).\n",
    "\n",
    "What is the fewest number of steps required for you to reach 31,39?\n",
    "\n",
    "Your puzzle input is 1362.\n",
    "```"
   ]
  },
  {
   "cell_type": "code",
   "execution_count": 10,
   "metadata": {
    "collapsed": true
   },
   "outputs": [],
   "source": [
    "class Maze:\n",
    "    def __init__(self, n):\n",
    "        self.n = n\n",
    "        \n",
    "    def is_wall(self, x, y):\n",
    "        return True if x < 0 or y < 0 else len(\"{0:b}\".format(x*x + 3*x + 2*x*y + y + y*y + self.n).replace('0', '')) % 2 != 0\n",
    "    \n",
    "    def show(self, width, height, path=None):   \n",
    "        path = set() if path is None else set(path)\n",
    "        for y in range(height):\n",
    "            print(\"{} {}\".format(y, \"\".join(['#' if self.is_wall(w, y) else ('O' if (w, y) in path else '.') for w in range(width)])))\n",
    "    \n",
    "    def move(self, orig, dest):\n",
    "        movements = [([], orig)]\n",
    "        visited = set()\n",
    "        \n",
    "        while len(movements) > 0:\n",
    "            path, pos = movements.pop(0)\n",
    "            if pos == dest:\n",
    "                return path + [pos]\n",
    "            \n",
    "            visited.add(pos)  \n",
    "            x, y = pos\n",
    "            movements += [(path + [pos], m) for m in [(x-1, y), (x+1, y), (x, y-1), (x, y+1)] if not self.is_wall(*m) and m not in visited]  \n",
    "            \n",
    "    def upto(self, orig, distance):\n",
    "        movements = [([], orig)]\n",
    "        visited = set()\n",
    "        \n",
    "        while len(movements) > 0:\n",
    "            path, pos = movements.pop(0)\n",
    "            visited.add(pos)  \n",
    "            \n",
    "            if len(path) < distance:\n",
    "                x, y = pos\n",
    "                movements += [(path + [pos], m) for m in [(x-1, y), (x+1, y), (x, y-1), (x, y+1)] if not self.is_wall(*m) and m not in visited]\n",
    "            \n",
    "        return visited        "
   ]
  },
  {
   "cell_type": "code",
   "execution_count": 11,
   "metadata": {
    "collapsed": false
   },
   "outputs": [
    {
     "name": "stdout",
     "output_type": "stream",
     "text": [
      "0 .#.####.##\n",
      "1 ..#..#...#\n",
      "2 #....##...\n",
      "3 ###.#.###.\n",
      "4 .##..#..#.\n",
      "5 ..##....#.\n",
      "6 #...##.###\n"
     ]
    }
   ],
   "source": [
    "m = Maze(10)\n",
    "m.show(10,7)"
   ]
  },
  {
   "cell_type": "code",
   "execution_count": 12,
   "metadata": {
    "collapsed": false
   },
   "outputs": [],
   "source": [
    "path = m.move((1,1), (7,4))"
   ]
  },
  {
   "cell_type": "code",
   "execution_count": 13,
   "metadata": {
    "collapsed": false
   },
   "outputs": [
    {
     "data": {
      "text/plain": [
       "11"
      ]
     },
     "execution_count": 13,
     "metadata": {},
     "output_type": "execute_result"
    }
   ],
   "source": [
    "len(path) - 1"
   ]
  },
  {
   "cell_type": "code",
   "execution_count": 14,
   "metadata": {
    "collapsed": false
   },
   "outputs": [
    {
     "name": "stdout",
     "output_type": "stream",
     "text": [
      "0 .#.####.##\n",
      "1 .O#..#...#\n",
      "2 #OOO.##...\n",
      "3 ###O#.###.\n",
      "4 .##OO#.O#.\n",
      "5 ..##OOOO#.\n",
      "6 #...##.###\n"
     ]
    }
   ],
   "source": [
    "m.show(10, 7, path=path)"
   ]
  },
  {
   "cell_type": "code",
   "execution_count": 15,
   "metadata": {
    "collapsed": false
   },
   "outputs": [
    {
     "name": "stdout",
     "output_type": "stream",
     "text": [
      "CPU times: user 8 ms, sys: 0 ns, total: 8 ms\n",
      "Wall time: 7.48 ms\n"
     ]
    }
   ],
   "source": [
    "%%time\n",
    "\n",
    "m2 = Maze(1362)\n",
    "path = m2.move((1,1), (31,39))"
   ]
  },
  {
   "cell_type": "code",
   "execution_count": 16,
   "metadata": {
    "collapsed": false
   },
   "outputs": [
    {
     "data": {
      "text/plain": [
       "82"
      ]
     },
     "execution_count": 16,
     "metadata": {},
     "output_type": "execute_result"
    }
   ],
   "source": [
    "len(path) - 1"
   ]
  },
  {
   "cell_type": "markdown",
   "metadata": {},
   "source": [
    "```\n",
    "--- Part Two ---\n",
    "\n",
    "How many locations (distinct x,y coordinates, including your starting location) can you reach in at most 50 steps?\n",
    "\n",
    "Your puzzle input is still 1362.\n",
    "```"
   ]
  },
  {
   "cell_type": "code",
   "execution_count": 17,
   "metadata": {
    "collapsed": true
   },
   "outputs": [],
   "source": [
    "d = m2.upto((1,1), 50)"
   ]
  },
  {
   "cell_type": "code",
   "execution_count": 18,
   "metadata": {
    "collapsed": false
   },
   "outputs": [
    {
     "data": {
      "text/plain": [
       "138"
      ]
     },
     "execution_count": 18,
     "metadata": {},
     "output_type": "execute_result"
    }
   ],
   "source": [
    "len(d)"
   ]
  },
  {
   "cell_type": "code",
   "execution_count": null,
   "metadata": {
    "collapsed": true
   },
   "outputs": [],
   "source": []
  }
 ],
 "metadata": {
  "anaconda-cloud": {},
  "kernelspec": {
   "display_name": "Python [conda env:adventofcode]",
   "language": "python",
   "name": "conda-env-adventofcode-py"
  },
  "language_info": {
   "codemirror_mode": {
    "name": "ipython",
    "version": 3
   },
   "file_extension": ".py",
   "mimetype": "text/x-python",
   "name": "python",
   "nbconvert_exporter": "python",
   "pygments_lexer": "ipython3",
   "version": "3.5.2"
  }
 },
 "nbformat": 4,
 "nbformat_minor": 1
}
