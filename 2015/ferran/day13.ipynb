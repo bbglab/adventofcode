{
 "cells": [
  {
   "cell_type": "markdown",
   "metadata": {},
   "source": [
    "# Day 13: Knights of the Dinner Table\n",
    "\n",
    "## Day 13.1"
   ]
  },
  {
   "cell_type": "code",
   "execution_count": 60,
   "metadata": {
    "ExecuteTime": {
     "end_time": "2017-12-10T21:51:38.946946",
     "start_time": "2017-12-10T21:51:38.927738"
    },
    "collapsed": true
   },
   "outputs": [],
   "source": [
    "import csv\n",
    "from collections import defaultdict\n",
    "\n",
    "def parse_happiness(input_file):\n",
    "    happiness = defaultdict(lambda: defaultdict(int))\n",
    "    with open(input_file, 'rt') as f_input:\n",
    "        csv_reader = csv.reader(f_input, delimiter=' ')\n",
    "        for l in csv_reader:\n",
    "            happiness[l[0]][l[-1].rstrip('.')] = ((l[2] == 'gain') - (l[2] == 'lose')) * int(l[3])\n",
    "    return happiness"
   ]
  },
  {
   "cell_type": "code",
   "execution_count": 61,
   "metadata": {
    "ExecuteTime": {
     "end_time": "2017-12-10T21:51:39.866929",
     "start_time": "2017-12-10T21:51:39.832297"
    },
    "collapsed": true
   },
   "outputs": [],
   "source": [
    "from functools import reduce\n",
    "\n",
    "def pair_score(a, b, happiness):\n",
    "    return happiness[a][b] + happiness[b][a]\n",
    "\n",
    "def total_score(l, happiness):\n",
    "    total = 0\n",
    "    n = len(l)\n",
    "    for i, name in enumerate(l):\n",
    "        total += pair_score(l[i], l[(i+1) % n], happiness)\n",
    "    return total"
   ]
  },
  {
   "cell_type": "code",
   "execution_count": 64,
   "metadata": {
    "ExecuteTime": {
     "end_time": "2017-12-10T21:52:55.239162",
     "start_time": "2017-12-10T21:52:55.219727"
    }
   },
   "outputs": [],
   "source": [
    "import itertools\n",
    "\n",
    "def optimal_gain(input_file):\n",
    "    happiness = parse_happiness(input_file)\n",
    "    attendees = list(happiness.keys())\n",
    "    max_score = 0\n",
    "    for p in itertools.permutations(attendees[1:]):\n",
    "        score = total_score([attendees[0]] + list(p), happiness)\n",
    "        if max_score < score: max_score = score\n",
    "    return max_score"
   ]
  },
  {
   "cell_type": "markdown",
   "metadata": {},
   "source": [
    "### Test"
   ]
  },
  {
   "cell_type": "code",
   "execution_count": 65,
   "metadata": {
    "ExecuteTime": {
     "end_time": "2017-12-10T21:52:56.497542",
     "start_time": "2017-12-10T21:52:56.489901"
    }
   },
   "outputs": [
    {
     "data": {
      "text/plain": [
       "330"
      ]
     },
     "execution_count": 65,
     "metadata": {},
     "output_type": "execute_result"
    }
   ],
   "source": [
    "optimal_gain('inputs/input13.test1.txt')"
   ]
  },
  {
   "cell_type": "markdown",
   "metadata": {},
   "source": [
    "### Solution"
   ]
  },
  {
   "cell_type": "code",
   "execution_count": 66,
   "metadata": {
    "ExecuteTime": {
     "end_time": "2017-12-10T21:53:21.293575",
     "start_time": "2017-12-10T21:53:21.236549"
    }
   },
   "outputs": [
    {
     "data": {
      "text/plain": [
       "709"
      ]
     },
     "execution_count": 66,
     "metadata": {},
     "output_type": "execute_result"
    }
   ],
   "source": [
    "optimal_gain('inputs/input13.txt')"
   ]
  },
  {
   "cell_type": "markdown",
   "metadata": {},
   "source": [
    "## Day 13.2\n",
    "\n",
    "Add a neutral self."
   ]
  },
  {
   "cell_type": "code",
   "execution_count": 71,
   "metadata": {
    "ExecuteTime": {
     "end_time": "2017-12-10T22:24:46.497619",
     "start_time": "2017-12-10T22:24:46.472188"
    },
    "collapsed": true
   },
   "outputs": [],
   "source": [
    "from copy import copy\n",
    "\n",
    "def add_neutral_self(happiness):\n",
    "    new_happiness = copy(happiness)\n",
    "    attendees = list(new_happiness)\n",
    "    for k in attendees:\n",
    "        new_happiness[k]['Self'] = 0\n",
    "        new_happiness['Self'][k] = 0\n",
    "    return new_happiness\n",
    "\n",
    "def optimal_gain(input_file):\n",
    "    happiness = add_neutral_self(parse_happiness(input_file))\n",
    "    attendees = list(happiness.keys())\n",
    "    max_score = 0\n",
    "    for p in itertools.permutations(attendees[1:]):\n",
    "        score = total_score([attendees[0]] + list(p), happiness)\n",
    "        if max_score < score: max_score = score\n",
    "    return max_score"
   ]
  },
  {
   "cell_type": "code",
   "execution_count": 72,
   "metadata": {
    "ExecuteTime": {
     "end_time": "2017-12-10T22:24:47.503001",
     "start_time": "2017-12-10T22:24:47.247467"
    }
   },
   "outputs": [
    {
     "data": {
      "text/plain": [
       "668"
      ]
     },
     "execution_count": 72,
     "metadata": {},
     "output_type": "execute_result"
    }
   ],
   "source": [
    "optimal_gain('inputs/input13.txt')"
   ]
  }
 ],
 "metadata": {
  "kernelspec": {
   "display_name": "Python [conda env:adventofcode]",
   "language": "python",
   "name": "conda-env-adventofcode-py"
  },
  "language_info": {
   "codemirror_mode": {
    "name": "ipython",
    "version": 3
   },
   "file_extension": ".py",
   "mimetype": "text/x-python",
   "name": "python",
   "nbconvert_exporter": "python",
   "pygments_lexer": "ipython3",
   "version": "3.5.2"
  },
  "toc": {
   "colors": {
    "hover_highlight": "#DAA520",
    "running_highlight": "#FF0000",
    "selected_highlight": "#FFD700"
   },
   "moveMenuLeft": true,
   "nav_menu": {
    "height": "66px",
    "width": "252px"
   },
   "navigate_menu": true,
   "number_sections": true,
   "sideBar": true,
   "threshold": 4,
   "toc_cell": false,
   "toc_section_display": "block",
   "toc_window_display": false
  }
 },
 "nbformat": 4,
 "nbformat_minor": 2
}
