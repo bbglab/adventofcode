{
 "cells": [
  {
   "cell_type": "code",
   "execution_count": 1,
   "id": "5080579b",
   "metadata": {},
   "outputs": [],
   "source": [
    "with open(\"i4.txt\", 'r') as f:\n",
    "    ii = f.read().splitlines()"
   ]
  },
  {
   "cell_type": "code",
   "execution_count": 2,
   "id": "0a80ef2e",
   "metadata": {},
   "outputs": [],
   "source": [
    "numbers = [int(i) for i in ii[0].split(\",\")]\n",
    "lines = ii[2:]; lines.append(\"\")"
   ]
  },
  {
   "cell_type": "markdown",
   "id": "fb7ddf83",
   "metadata": {},
   "source": [
    "### board constructers"
   ]
  },
  {
   "cell_type": "code",
   "execution_count": 3,
   "id": "1e7b9241",
   "metadata": {},
   "outputs": [],
   "source": [
    "def row_maker( row ):\n",
    "    return [int(i) for i in row.split(\" \") if i != \"\"]\n",
    "\n",
    "def nice_rows( board ):\n",
    "    nice_rows = [None,None,None,None,None]\n",
    "    for i in range(len(board)):\n",
    "        nice_rows[i] = row_maker(board[i])\n",
    "    return nice_rows\n",
    "\n",
    "def nice_cols( nice_rows ):\n",
    "    nice_cols = [None,None,None,None,None]\n",
    "    for i in range(len(nice_rows)):\n",
    "        nice_cols[i] = [ j[i] for j in nice_rows ]\n",
    "    return nice_cols\n",
    "\n",
    "def nice_board( board ):\n",
    "    nice_board = {}\n",
    "    rows = nice_rows( board )\n",
    "    cols = nice_cols( rows )\n",
    "    nice_board['rows'] = rows\n",
    "    nice_board['cols'] = cols\n",
    "    return nice_board"
   ]
  },
  {
   "cell_type": "markdown",
   "id": "3c216bd3",
   "metadata": {},
   "source": [
    "#### Create Board Structures"
   ]
  },
  {
   "cell_type": "code",
   "execution_count": 4,
   "id": "ff266394",
   "metadata": {},
   "outputs": [],
   "source": [
    "boards = {}\n",
    "rows = []\n",
    "idx = 0\n",
    "for l in lines:\n",
    "    if l == \"\":\n",
    "        idx += 1\n",
    "        boards[str(idx)] = nice_board(rows)\n",
    "        rows = []\n",
    "    else: \n",
    "        rows.append(l)"
   ]
  },
  {
   "cell_type": "markdown",
   "id": "ba6658f6",
   "metadata": {},
   "source": [
    "#### bingo helpers"
   ]
  },
  {
   "cell_type": "code",
   "execution_count": 5,
   "id": "a0124b37",
   "metadata": {},
   "outputs": [],
   "source": [
    "def remove_items( ll, k):\n",
    "    return [i for i in ll if i != k]\n",
    "def remove_all_items( rows_cols, k):\n",
    "    row_col = []\n",
    "    for ll in rows_cols:\n",
    "        row_col.append(remove_items(ll, k))\n",
    "    return row_col\n",
    "def update_board( board, k ):\n",
    "    new_board = {}\n",
    "    new_rows = remove_all_items( board['rows'], k)\n",
    "    new_cols = remove_all_items( board['cols'], k )\n",
    "    new_board['rows'] = new_rows\n",
    "    new_board['cols'] = new_cols\n",
    "    return new_board\n",
    "def bingo( board ):\n",
    "    row_len = [len(i) for i in board['rows']]\n",
    "    col_len = [len(i) for i in board['cols']]\n",
    "    if 0 in row_len or 0 in col_len:\n",
    "        #print(\"Bingo!\")\n",
    "        return True        \n",
    "def compute_score( board, k):\n",
    "    store = []\n",
    "    for i in board['rows']:\n",
    "        store += i\n",
    "    return sum(store), k"
   ]
  },
  {
   "cell_type": "markdown",
   "id": "b7aec1dc",
   "metadata": {},
   "source": [
    "# Part 1"
   ]
  },
  {
   "cell_type": "markdown",
   "id": "cc48ffac",
   "metadata": {},
   "source": [
    "### Run bingo game"
   ]
  },
  {
   "cell_type": "code",
   "execution_count": 6,
   "id": "7060f8a7",
   "metadata": {},
   "outputs": [
    {
     "name": "stdout",
     "output_type": "stream",
     "text": [
      "23,839,46,38594\n"
     ]
    }
   ],
   "source": [
    "bingo_status = False\n",
    "for k in numbers:\n",
    "    if bingo_status == True:\n",
    "        break\n",
    "    for idx in boards:\n",
    "        boards[idx] = update_board( boards[idx] , k )\n",
    "        if bingo(boards[idx]):\n",
    "            bingo_status = True\n",
    "            score = compute_score( boards[idx], k)\n",
    "            print(str(idx) + \",\" + str(score[0])+ \",\" + str(score[1]) + \",\"+ str(score[0]*score[1]))\n",
    "            break"
   ]
  },
  {
   "cell_type": "markdown",
   "id": "77df3118",
   "metadata": {},
   "source": [
    "# Part 2"
   ]
  },
  {
   "cell_type": "code",
   "execution_count": 7,
   "id": "5017d4c4",
   "metadata": {},
   "outputs": [],
   "source": [
    "pos = 0\n",
    "scores = {}\n",
    "i = 0\n",
    "while pos != (len(boards)):\n",
    "    k = numbers[i]\n",
    "    #print(k)\n",
    "    i += 1\n",
    "    for idx in boards:\n",
    "        boards[idx] = update_board( boards[idx] , k )\n",
    "        if bingo(boards[idx]):\n",
    "            if idx not in scores:\n",
    "                scores[idx] = pos\n",
    "                pos += 1\n",
    "                if pos == (len(boards)):\n",
    "                    break"
   ]
  },
  {
   "cell_type": "code",
   "execution_count": 8,
   "id": "a4ace021",
   "metadata": {},
   "outputs": [
    {
     "data": {
      "text/plain": [
       "(331, 64)"
      ]
     },
     "execution_count": 8,
     "metadata": {},
     "output_type": "execute_result"
    }
   ],
   "source": [
    "last_win = [j for j in scores if scores[j] == (len(boards)-1)][0]\n",
    "compute_score( boards[last_win], k)"
   ]
  },
  {
   "cell_type": "code",
   "execution_count": 9,
   "id": "9bfea301",
   "metadata": {},
   "outputs": [
    {
     "data": {
      "text/plain": [
       "21184"
      ]
     },
     "execution_count": 9,
     "metadata": {},
     "output_type": "execute_result"
    }
   ],
   "source": [
    "331*64"
   ]
  }
 ],
 "metadata": {
  "kernelspec": {
   "display_name": "Python 3 (ipykernel)",
   "language": "python",
   "name": "python3"
  },
  "language_info": {
   "codemirror_mode": {
    "name": "ipython",
    "version": 3
   },
   "file_extension": ".py",
   "mimetype": "text/x-python",
   "name": "python",
   "nbconvert_exporter": "python",
   "pygments_lexer": "ipython3",
   "version": "3.9.7"
  }
 },
 "nbformat": 4,
 "nbformat_minor": 5
}
