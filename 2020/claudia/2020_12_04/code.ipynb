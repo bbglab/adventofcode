{
 "cells": [
  {
   "cell_type": "markdown",
   "metadata": {},
   "source": [
    "# Day 4"
   ]
  },
  {
   "cell_type": "code",
   "execution_count": 1,
   "metadata": {
    "collapsed": true
   },
   "outputs": [],
   "source": [
    "from collections import defaultdict"
   ]
  },
  {
   "cell_type": "raw",
   "metadata": {},
   "source": [
    "The automatic passport scanners are slow because they're having trouble detecting which passports have all required fields. The expected fields are as follows:\n",
    "\n",
    "    byr (Birth Year)\n",
    "    iyr (Issue Year)\n",
    "    eyr (Expiration Year)\n",
    "    hgt (Height)\n",
    "    hcl (Hair Color)\n",
    "    ecl (Eye Color)\n",
    "    pid (Passport ID)\n",
    "    cid (Country ID)\n",
    "\n",
    "Passport data is validated in batch files (your puzzle input). Each passport is represented as a sequence of key:value pairs separated by spaces or newlines. Passports are separated by blank lines.\n",
    "\n",
    "Here is an example batch file containing four passports:\n",
    "\n",
    "ecl:gry pid:860033327 eyr:2020 hcl:#fffffd\n",
    "byr:1937 iyr:2017 cid:147 hgt:183cm\n",
    "\n",
    "iyr:2013 ecl:amb cid:350 eyr:2023 pid:028048884\n",
    "hcl:#cfa07d byr:1929\n",
    "\n",
    "hcl:#ae17e1 iyr:2013\n",
    "eyr:2024\n",
    "ecl:brn pid:760753108 byr:1931\n",
    "hgt:179cm\n",
    "\n",
    "hcl:#cfa07d eyr:2025 pid:166559648\n",
    "iyr:2011 ecl:brn hgt:59in\n",
    "\n",
    "The first passport is valid - all eight fields are present. The second passport is invalid - it is missing hgt (the Height field).\n",
    "\n",
    "The third passport is interesting; the only missing field is cid, so it looks like data from North Pole Credentials, not a passport at all! Surely, nobody would mind if you made the system temporarily ignore missing cid fields. Treat this \"passport\" as valid.\n",
    "\n",
    "The fourth passport is missing two fields, cid and byr. Missing cid is fine, but missing any other field is not, so this passport is invalid.\n",
    "\n",
    "According to the above rules, your improved system would report 2 valid passports.\n",
    "\n",
    "Count the number of valid passports - those that have all required fields. Treat cid as optional. In your batch file, how many passports are valid?"
   ]
  },
  {
   "cell_type": "code",
   "execution_count": 2,
   "metadata": {},
   "outputs": [],
   "source": [
    "compulsory_fields = set(['byr', 'iyr', 'eyr', 'hgt', 'hcl', 'ecl', 'pid'])"
   ]
  },
  {
   "cell_type": "code",
   "execution_count": 3,
   "metadata": {},
   "outputs": [],
   "source": [
    "user_data = defaultdict(set)\n",
    "user = 1\n",
    "with open('input.txt', 'r') as fd: \n",
    "    for line in fd: \n",
    "        if len(line.strip()) != 0:\n",
    "            line_keys = [i.split(':')[0] for i in line.strip().split(' ')]\n",
    "            for key in line_keys: \n",
    "                user_data[user].add(key)\n",
    "        else: \n",
    "            user += 1"
   ]
  },
  {
   "cell_type": "code",
   "execution_count": 4,
   "metadata": {
    "collapsed": true
   },
   "outputs": [],
   "source": [
    "valid_passports = 0\n",
    "for user, user_fields in user_data.items(): \n",
    "    if len(compulsory_fields.intersection(user_fields)) == len(compulsory_fields): \n",
    "        valid_passports += 1"
   ]
  },
  {
   "cell_type": "code",
   "execution_count": 5,
   "metadata": {},
   "outputs": [
    {
     "data": {
      "text/plain": [
       "216"
      ]
     },
     "execution_count": 5,
     "metadata": {},
     "output_type": "execute_result"
    }
   ],
   "source": [
    "valid_passports"
   ]
  },
  {
   "cell_type": "raw",
   "metadata": {},
   "source": [
    "You can continue to ignore the cid field, but each other field has strict rules about what values are valid for automatic validation:\n",
    "\n",
    "    byr (Birth Year) - four digits; at least 1920 and at most 2002.\n",
    "    iyr (Issue Year) - four digits; at least 2010 and at most 2020.\n",
    "    eyr (Expiration Year) - four digits; at least 2020 and at most 2030.\n",
    "    hgt (Height) - a number followed by either cm or in:\n",
    "        If cm, the number must be at least 150 and at most 193.\n",
    "        If in, the number must be at least 59 and at most 76.\n",
    "    hcl (Hair Color) - a # followed by exactly six characters 0-9 or a-f.\n",
    "    ecl (Eye Color) - exactly one of: amb blu brn gry grn hzl oth.\n",
    "    pid (Passport ID) - a nine-digit number, including leading zeroes.\n",
    "    cid (Country ID) - ignored, missing or not.\n",
    "\n",
    "Your job is to count the passports where all required fields are both present and valid according to the above rules. \n",
    "\n",
    "Count the number of valid passports - those that have all required fields and valid values. Continue to treat cid as optional. In your batch file, how many passports are valid?"
   ]
  },
  {
   "cell_type": "code",
   "execution_count": 6,
   "metadata": {
    "collapsed": true
   },
   "outputs": [],
   "source": [
    "def key_checker(key, value):\n",
    "    \n",
    "    check = 'invalid'\n",
    "    \n",
    "    if key == 'byr': \n",
    "        if len(value) == 4 and 1920 <= int(value) < 2003: \n",
    "            check = 'valid'\n",
    "            \n",
    "    if key == 'iyr': \n",
    "        if len(value) == 4 and 2010 <= int(value) < 2021: \n",
    "            check = 'valid'\n",
    "            \n",
    "    if key == 'eyr': \n",
    "        if len(value) == 4 and 2020 <= int(value) < 2031: \n",
    "            check = 'valid'\n",
    "            \n",
    "    if key == 'hgt': \n",
    "        number = value[:-2]\n",
    "        scale = value[-2:]\n",
    "        if scale == 'cm' and 150 <= int(number) < 194: \n",
    "            check = 'valid'\n",
    "        elif scale == 'in' and 59 <= int(number) < 77: \n",
    "            check = 'valid'\n",
    "            \n",
    "    if key == 'hcl' and value.startswith('#'): \n",
    "        ok_chars = '0132456789abcdef'\n",
    "        if len(''.join([i for i in value[1:] if i in ok_chars])) == 6: \n",
    "            check = 'valid'\n",
    "            \n",
    "    if key == 'ecl': \n",
    "        colors = set(['amb', 'blu', 'brn', 'gry', 'grn', 'hzl', 'oth'])\n",
    "        if value in colors: \n",
    "            check = 'valid'\n",
    "            \n",
    "    if key == 'pid': \n",
    "        ok_chars = ''.join(map(str, range(0,10)))\n",
    "        if len(value) == 9 and len(''.join([i for i in value if i in ok_chars])) == 9: \n",
    "            check = 'valid'\n",
    "    \n",
    "    return check"
   ]
  },
  {
   "cell_type": "code",
   "execution_count": 7,
   "metadata": {},
   "outputs": [],
   "source": [
    "user_data = defaultdict(set)\n",
    "user = 1\n",
    "with open('input.txt', 'r') as fd: \n",
    "    for line in fd: \n",
    "        if len(line.strip()) != 0:\n",
    "            line_keys = dict([(i.split(':')[0], i.split(':')[1]) for i in line.strip().split(' ')])\n",
    "            for key, value in line_keys.items(): \n",
    "                if key_checker(key, value) == 'valid':\n",
    "                    user_data[user].add(key)\n",
    "        else: \n",
    "            user += 1"
   ]
  },
  {
   "cell_type": "code",
   "execution_count": 8,
   "metadata": {
    "collapsed": true
   },
   "outputs": [],
   "source": [
    "compulsory_fields = set(['byr', 'iyr', 'eyr', 'hgt', 'hcl', 'ecl', 'pid'])"
   ]
  },
  {
   "cell_type": "code",
   "execution_count": 9,
   "metadata": {
    "collapsed": true
   },
   "outputs": [],
   "source": [
    "valid_passports = 0\n",
    "for user, user_fields in user_data.items(): \n",
    "    if len(compulsory_fields.intersection(user_fields)) == len(compulsory_fields): \n",
    "        valid_passports += 1"
   ]
  },
  {
   "cell_type": "code",
   "execution_count": 10,
   "metadata": {},
   "outputs": [
    {
     "data": {
      "text/plain": [
       "150"
      ]
     },
     "execution_count": 10,
     "metadata": {},
     "output_type": "execute_result"
    }
   ],
   "source": [
    "valid_passports"
   ]
  }
 ],
 "metadata": {
  "kernelspec": {
   "display_name": "Python [conda env:hotspots_framework]",
   "language": "python",
   "name": "conda-env-hotspots_framework-py"
  },
  "language_info": {
   "codemirror_mode": {
    "name": "ipython",
    "version": 3
   },
   "file_extension": ".py",
   "mimetype": "text/x-python",
   "name": "python",
   "nbconvert_exporter": "python",
   "pygments_lexer": "ipython3",
   "version": "3.6.10"
  }
 },
 "nbformat": 4,
 "nbformat_minor": 2
}
