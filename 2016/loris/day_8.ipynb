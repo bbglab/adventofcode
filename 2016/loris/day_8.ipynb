{
 "cells": [
  {
   "cell_type": "markdown",
   "metadata": {},
   "source": [
    "# Advent of Code 2016"
   ]
  },
  {
   "cell_type": "raw",
   "metadata": {},
   "source": [
    "--- Day 8: Two-Factor Authentication ---\n",
    "\n",
    "You come across a door implementing what you can only assume is an implementation of two-factor authentication after a long game of requirements telephone.\n",
    "\n",
    "To get past the door, you first swipe a keycard (no problem; there was one on a nearby desk). Then, it displays a code on a little screen, and you type that code on a keypad. Then, presumably, the door unlocks.\n",
    "\n",
    "Unfortunately, the screen has been smashed. After a few minutes, you've taken everything apart and figured out how it works. Now you just have to work out what the screen would have displayed.\n",
    "\n",
    "The magnetic strip on the card you swiped encodes a series of instructions for the screen; these instructions are your puzzle input. The screen is 50 pixels wide and 6 pixels tall, all of which start off, and is capable of three somewhat peculiar operations:\n",
    "\n",
    "- rect AxB turns on all of the pixels in a rectangle at the top-left of the screen which is A wide and B tall.\n",
    "- rotate row y=A by B shifts all of the pixels in row A (0 is the top row) right by B pixels. Pixels that would fall off the right end appear at the left end of the row.\n",
    "- rotate column x=A by B shifts all of the pixels in column A (0 is the left column) down by B pixels. Pixels that would fall off the bottom appear at the top of the column.\n",
    "\n",
    "For example, here is a simple sequence on a smaller screen:\n",
    "\n",
    "rect 3x2 creates a small rectangle in the top-left corner:\n",
    "\n",
    "###....\n",
    "###....\n",
    ".......\n",
    "\n",
    "rotate column x=1 by 1 rotates the second column down by one pixel:\n",
    "\n",
    "#.#....\n",
    "###....\n",
    ".#.....\n",
    "rotate row y=0 by 4 rotates the top row right by four pixels:\n",
    "\n",
    "....#.#\n",
    "###....\n",
    ".#.....\n",
    "\n",
    "rotate column x=1 by 1 again rotates the second column down by one pixel, causing the bottom pixel to wrap back to the top:\n",
    "\n",
    ".#..#.#\n",
    "#.#....\n",
    ".#.....\n",
    "\n",
    "As you can see, this display technology is extremely powerful, and will soon dominate the tiny-code-displaying-screen market. That's what the advertisement on the back of the display tries to convince you, anyway.\n",
    "\n",
    "There seems to be an intermediate check of the voltage used by the display: after you swipe your card, if the screen did work, how many pixels should be lit?"
   ]
  },
  {
   "cell_type": "code",
   "execution_count": 1,
   "metadata": {
    "collapsed": true
   },
   "outputs": [],
   "source": [
    "from collections import namedtuple"
   ]
  },
  {
   "cell_type": "code",
   "execution_count": 2,
   "metadata": {
    "collapsed": false
   },
   "outputs": [],
   "source": [
    "class Screen:\n",
    "    \n",
    "    def __init__(self, rows=6, cols=50):\n",
    "        self.rows = rows\n",
    "        self.cols = cols\n",
    "        self.screen = [[0 for _ in range(cols)] for _ in range(rows)]\n",
    "        \n",
    "    def load(self, instruction):\n",
    "        if instruction.startswith('rect'):\n",
    "            cols, rows = [range(int(i)) for i in instruction.split()[1].split('x')]\n",
    "            for row in rows:\n",
    "                for col in cols:\n",
    "                    self._turn_on(row, col)\n",
    "        else:\n",
    "            _, axis, position, _, movement = instruction.split()\n",
    "            position = int(position.split('=')[1])\n",
    "            movement = int(movement)\n",
    "            if axis == 'row':\n",
    "                self._rotate_row(position, movement)\n",
    "            else:\n",
    "                self._rotate_column(position, movement)\n",
    "                #for row in range(self.rows):\n",
    "                #    for _ in range(int(movement)):\n",
    "                #        print(movement)\n",
    "                #        self._switch(row % self.rows, position)\n",
    "                \n",
    "    def _set_value(self, row, column, value):\n",
    "        self.screen[row][column] = value\n",
    "        \n",
    "    def _turn_on(self, row, column):\n",
    "        self._set_value(row, column, 1)\n",
    "        \n",
    "    def _turn_off(self, row, column):\n",
    "        self._set_value(row, column, 0)\n",
    "        \n",
    "    def _switch(self, row, column):\n",
    "        self.screen[row][column] = 0 if self.screen[row][column] else 1\n",
    "        \n",
    "    def _rotate_column(self, column, movement):\n",
    "        values = [self.screen[r][column] for r in range(self.rows)]\n",
    "        for index, row in enumerate(range(self.rows)):\n",
    "            self._set_value(row, column, values[(index - movement) % self.rows]) \n",
    "            \n",
    "    def _rotate_row(self, row, movement):\n",
    "        values = [self.screen[row][c] for c in range(self.cols)]\n",
    "        for index, col in enumerate(range(self.cols)):\n",
    "            self._set_value(row, col, values[(index - movement) % self.cols]) \n",
    "        \n",
    "    def print_screen(self):\n",
    "        for r in self.screen:\n",
    "            print(''.join(['#' if c else '.' for c in r]))\n",
    "        \n",
    "    def get_screen(self):\n",
    "        return self.screen\n",
    "    \n",
    "    def get_lit_pixels(self):\n",
    "        return sum([sum(i) for i in self.screen])"
   ]
  },
  {
   "cell_type": "code",
   "execution_count": 3,
   "metadata": {
    "collapsed": false
   },
   "outputs": [],
   "source": [
    "# Test\n",
    "screen = Screen(rows=3, cols=7)\n",
    "screen.load('rect 3x2')\n",
    "screen.load('rotate column x=1 by 1')\n",
    "screen.load('rotate row y=0 by 4')\n",
    "screen.load('rotate column x=1 by 1')\n",
    "assert screen.get_screen() == [[0, 1, 0, 0, 1, 0, 1], [1, 0, 1, 0, 0, 0, 0], [0, 1, 0, 0, 0, 0, 0]]\n",
    "assert screen.get_lit_pixels() == 6"
   ]
  },
  {
   "cell_type": "code",
   "execution_count": 4,
   "metadata": {
    "collapsed": false
   },
   "outputs": [
    {
     "data": {
      "text/plain": [
       "110"
      ]
     },
     "execution_count": 4,
     "metadata": {},
     "output_type": "execute_result"
    }
   ],
   "source": [
    "data = [line.strip() for line in open('data/day_8.txt', 'r')]\n",
    "\n",
    "screen = Screen()\n",
    "for instruction in data:\n",
    "    screen.load(instruction)\n",
    "screen.get_lit_pixels()"
   ]
  },
  {
   "cell_type": "raw",
   "metadata": {},
   "source": [
    "--- Part Two ---\n",
    "\n",
    "You notice that the screen is only capable of displaying capital letters; in the font it uses, each letter is 5 pixels wide and 6 tall.\n",
    "\n",
    "After you swipe your card, what code is the screen trying to display?"
   ]
  },
  {
   "cell_type": "code",
   "execution_count": 5,
   "metadata": {
    "collapsed": false
   },
   "outputs": [
    {
     "name": "stdout",
     "output_type": "stream",
     "text": [
      "####...##.#..#.###..#..#..##..###..#....#...#..##.\n",
      "...#....#.#..#.#..#.#.#..#..#.#..#.#....#...#...#.\n",
      "..#.....#.####.#..#.##...#....#..#.#.....#.#....#.\n",
      ".#......#.#..#.###..#.#..#....###..#......#.....#.\n",
      "#....#..#.#..#.#.#..#.#..#..#.#....#......#..#..#.\n",
      "####..##..#..#.#..#.#..#..##..#....####...#...##..\n"
     ]
    }
   ],
   "source": [
    "screen.print_screen()"
   ]
  }
 ],
 "metadata": {
  "kernelspec": {
   "display_name": "Python 3",
   "language": "python",
   "name": "python3"
  },
  "language_info": {
   "codemirror_mode": {
    "name": "ipython",
    "version": 3
   },
   "file_extension": ".py",
   "mimetype": "text/x-python",
   "name": "python",
   "nbconvert_exporter": "python",
   "pygments_lexer": "ipython3",
   "version": "3.5.2+"
  }
 },
 "nbformat": 4,
 "nbformat_minor": 2
}
