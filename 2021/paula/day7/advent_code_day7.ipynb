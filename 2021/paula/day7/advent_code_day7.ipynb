{
 "cells": [
  {
   "cell_type": "markdown",
   "metadata": {},
   "source": [
    "# Part 1"
   ]
  },
  {
   "cell_type": "code",
   "execution_count": 86,
   "metadata": {},
   "outputs": [],
   "source": [
    "with open('input_day7.txt','r') as file:\n",
    "    data = [int(x) for x in file.read().split(',')]\n"
   ]
  },
  {
   "cell_type": "code",
   "execution_count": 97,
   "metadata": {},
   "outputs": [
    {
     "data": {
      "text/plain": [
       "344735"
      ]
     },
     "execution_count": 97,
     "metadata": {},
     "output_type": "execute_result"
    }
   ],
   "source": [
    "total_fuels=[]\n",
    "for crab_alignment in data:\n",
    "    total_fuel=0\n",
    "    for crab in data:\n",
    "        total_fuel+=abs(crab_alignment-crab)\n",
    "    total_fuels.append(total_fuel)\n",
    "min(total_fuels)"
   ]
  },
  {
   "cell_type": "markdown",
   "metadata": {},
   "source": [
    "# Part 2"
   ]
  },
  {
   "cell_type": "code",
   "execution_count": 95,
   "metadata": {},
   "outputs": [
    {
     "data": {
      "text/plain": [
       "96798233"
      ]
     },
     "execution_count": 95,
     "metadata": {},
     "output_type": "execute_result"
    }
   ],
   "source": [
    "total_fuels=[]\n",
    "for crab_alignment in range(min(data),max(data)):\n",
    "    total_fuel=0\n",
    "    for crab in data:\n",
    "        n=abs(crab_alignment-crab)\n",
    "        total_fuel+=(n*(n+1))/2\n",
    "            \n",
    "    total_fuels.append(total_fuel)\n",
    "int(min(total_fuels))"
   ]
  }
 ],
 "metadata": {
  "kernelspec": {
   "display_name": "Python 3",
   "language": "python",
   "name": "python3"
  },
  "language_info": {
   "codemirror_mode": {
    "name": "ipython",
    "version": 3
   },
   "file_extension": ".py",
   "mimetype": "text/x-python",
   "name": "python",
   "nbconvert_exporter": "python",
   "pygments_lexer": "ipython3",
   "version": "3.8.5"
  }
 },
 "nbformat": 4,
 "nbformat_minor": 4
}
