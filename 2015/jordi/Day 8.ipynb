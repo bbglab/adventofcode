{
 "cells": [
  {
   "cell_type": "raw",
   "metadata": {},
   "source": [
    "Day 8: Matchsticks ---\n",
    "\n",
    "Space on the sleigh is limited this year, and so Santa will be bringing his list as a digital copy. He needs to know how much space it will take up when stored.\n",
    "\n",
    "It is common in many programming languages to provide a way to escape special characters in strings. For example, C, JavaScript, Perl, Python, and even PHP handle special characters in very similar ways.\n",
    "\n",
    "However, it is important to realize the difference between the number of characters in the code representation of the string literal and the number of characters in the in-memory string itself.\n",
    "\n",
    "For example:\n",
    "\n",
    "\"\" is 2 characters of code (the two double quotes), but the string contains zero characters.\n",
    "\"abc\" is 5 characters of code, but 3 characters in the string data.\n",
    "\"aaa\\\"aaa\" is 10 characters of code, but the string itself contains six \"a\" characters and a single, escaped quote character, for a total of 7 characters in the string data.\n",
    "\"\\x27\" is 6 characters of code, but the string itself contains just one - an apostrophe ('), escaped using hexadecimal notation.\n",
    "Santa's list is a file that contains many double-quoted string literals, one on each line. The only escape sequences used are \\\\ (which represents a single backslash), \\\" (which represents a lone double-quote character), and \\x plus two hexadecimal characters (which represents a single character with that ASCII code).\n",
    "\n",
    "Disregarding the whitespace in the file, what is the number of characters of code for string literals minus the number of characters in memory for the values of the strings in total for the entire file?\n",
    "\n",
    "For example, given the four strings above, the total number of characters of string code (2 + 5 + 10 + 6 = 23) minus the total number of characters in memory for string values (0 + 3 + 7 + 1 = 11) is 23 - 11 = 12.\n",
    "\n"
   ]
  },
  {
   "cell_type": "code",
   "execution_count": 21,
   "metadata": {
    "collapsed": false
   },
   "outputs": [
    {
     "name": "stdout",
     "output_type": "stream",
     "text": [
      "As code:6310  As string:4977  Diff:1333\n"
     ]
    }
   ],
   "source": [
    "# Total as code length\n",
    "as_code = 0 \n",
    "with open(\"day8/input.txt\", \"rb\") as fd:\n",
    "    for line in fd:\n",
    "        as_code += len(line)                \n",
    "        # Remove new line character\n",
    "        if line[-1] == 10:\n",
    "            as_code -= 1\n",
    "            \n",
    "as_string = 0\n",
    "with open(\"day8/input.txt\", \"rt\") as fd:\n",
    "    for line in fd:\n",
    "        line = eval(line)\n",
    "        as_string += len(line)        \n",
    "        \n",
    "print(\"As code:{}  As string:{}  Diff:{}\".format(as_code, as_string, as_code - as_string))"
   ]
  },
  {
   "cell_type": "raw",
   "metadata": {},
   "source": [
    "--- Part Two ---\n",
    "\n",
    "Now, let's go the other way. In addition to finding the number of characters of code, you should now encode each code representation as a new string and find the number of characters of the new encoded representation, including the surrounding double quotes.\n",
    "\n",
    "For example:\n",
    "\n",
    "\"\" encodes to \"\\\"\\\"\", an increase from 2 characters to 6.\n",
    "\"abc\" encodes to \"\\\"abc\\\"\", an increase from 5 characters to 9.\n",
    "\"aaa\\\"aaa\" encodes to \"\\\"aaa\\\\\\\"aaa\\\"\", an increase from 10 characters to 16.\n",
    "\"\\x27\" encodes to \"\\\"\\\\x27\\\"\", an increase from 6 characters to 11.\n",
    "Your task is to find the total number of characters to represent the newly encoded strings minus the number of characters of code in each original string literal. For example, for the strings above, the total encoded length (6 + 9 + 16 + 11 = 42) minus the characters in the original code representation (23, just like in the first part of this puzzle) is 42 - 23 = 19."
   ]
  },
  {
   "cell_type": "code",
   "execution_count": 43,
   "metadata": {
    "collapsed": false
   },
   "outputs": [
    {
     "name": "stdout",
     "output_type": "stream",
     "text": [
      "As coded:8356 As code:6310 As string:4977 Diff:2046\n"
     ]
    }
   ],
   "source": [
    "as_code_coded = 0\n",
    "with open(\"day8/input.txt\", \"rt\") as fd:\n",
    "    for line in fd:\n",
    "        line = line.strip()\n",
    "        as_code_coded += len(line)         \n",
    "                    \n",
    "        for c in line:\n",
    "            if c == '\\\\' or c == '\"':\n",
    "                as_code_coded += 1\n",
    "        \n",
    "        as_code_coded += 2\n",
    "                \n",
    "print(\"As coded:{} As code:{} As string:{} Diff:{}\".format(as_code_coded, as_code, as_string, as_code_coded - as_code))"
   ]
  },
  {
   "cell_type": "code",
   "execution_count": null,
   "metadata": {
    "collapsed": true
   },
   "outputs": [],
   "source": []
  }
 ],
 "metadata": {
  "kernelspec": {
   "display_name": "Python 3",
   "language": "python",
   "name": "python3"
  },
  "language_info": {
   "codemirror_mode": {
    "name": "ipython",
    "version": 3
   },
   "file_extension": ".py",
   "mimetype": "text/x-python",
   "name": "python",
   "nbconvert_exporter": "python",
   "pygments_lexer": "ipython3",
   "version": "3.4.3"
  }
 },
 "nbformat": 4,
 "nbformat_minor": 0
}
