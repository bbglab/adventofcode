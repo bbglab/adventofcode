{
 "cells": [
  {
   "cell_type": "markdown",
   "metadata": {},
   "source": [
    "# Knot Hash"
   ]
  },
  {
   "cell_type": "markdown",
   "metadata": {},
   "source": [
    "## Part 1"
   ]
  },
  {
   "cell_type": "code",
   "execution_count": 128,
   "metadata": {
    "ExecuteTime": {
     "end_time": "2017-12-10T13:13:22.846049",
     "start_time": "2017-12-10T13:13:22.813500"
    },
    "collapsed": true
   },
   "outputs": [],
   "source": [
    "import numpy as np\n",
    "\n",
    "def invert(a, length, head):\n",
    "    r = np.roll(a, -head)\n",
    "    r = np.concatenate((r[:length][::-1], r[length:]))\n",
    "    return np.roll(r, head)\n",
    "\n",
    "def transform(a, length, head, skip, size=2**8):\n",
    "    r = invert(a, length, head)\n",
    "    head = (head + length + skip) % size\n",
    "    return r, head\n",
    "\n",
    "def one_round(input_lengths, a=None, skip=0, head=0, size=2**8):\n",
    "    if a is None:\n",
    "        a = np.arange(size)\n",
    "    for length in input_lengths:\n",
    "        a, head = transform(a, length, head, skip, size)\n",
    "        skip += 1\n",
    "    return a, head, skip"
   ]
  },
  {
   "cell_type": "markdown",
   "metadata": {},
   "source": [
    "### Test"
   ]
  },
  {
   "cell_type": "code",
   "execution_count": 129,
   "metadata": {
    "ExecuteTime": {
     "end_time": "2017-12-10T13:13:24.788666",
     "start_time": "2017-12-10T13:13:24.782589"
    }
   },
   "outputs": [
    {
     "name": "stdout",
     "output_type": "stream",
     "text": [
      "[3 4 2 1 0]\n",
      "12\n"
     ]
    }
   ],
   "source": [
    "a, head, skip = one_round([3, 4, 1, 5], size=5)\n",
    "print(a)\n",
    "print(a[0] * a[1])"
   ]
  },
  {
   "cell_type": "markdown",
   "metadata": {},
   "source": [
    "### Solution"
   ]
  },
  {
   "cell_type": "code",
   "execution_count": 130,
   "metadata": {
    "ExecuteTime": {
     "end_time": "2017-12-10T13:13:27.092130",
     "start_time": "2017-12-10T13:13:27.080636"
    },
    "collapsed": true
   },
   "outputs": [],
   "source": [
    "INPUT_LENGTHS = [192, 69, 168, 160, 78, 1, 166, 28, 0, 83, 198, 2, 254, 255, 41, 12]"
   ]
  },
  {
   "cell_type": "code",
   "execution_count": 131,
   "metadata": {
    "ExecuteTime": {
     "end_time": "2017-12-10T13:13:28.022450",
     "start_time": "2017-12-10T13:13:27.992207"
    }
   },
   "outputs": [
    {
     "name": "stdout",
     "output_type": "stream",
     "text": [
      "[191 255 254 253 252 251 250 249 237 238 239 240 241 242 243 244 245 246\n",
      " 247 248 236 126 127 128 129 130 131 132 133 134 135 136 137 138 139 140\n",
      " 168 167 166 165 164 163 162 161 160 159 158 157 156 155 154 153 152 151\n",
      " 150 149 148 147 146 145 144 143 142 141 169 170 171 172  94  93 183 184\n",
      " 185  17  16  91  90  89  88  87  86  85  84  83  82  81  80  79  78  77\n",
      "  76  75  74  73  72  71  70  69  68  67  66  65  64  63  62  61  60  59\n",
      "  58  57  56  55  54  53  52  51  50  49  48  47  46  45  44  43  42  41\n",
      "  40  39  38  37  36  35  34  33  32  31  30  29  28  27  26  25  24  23\n",
      "  22  21  20  19  18 186 192 193 194 195 196 197 198 199 200 201 202 203\n",
      " 204 205 206 207 208 209 210 211 212 213 214 215 216 217 218 219 220 221\n",
      " 222 223 224 225 226   9  10  11  12  13  14  15  92 182 181 179 180 178\n",
      " 177 176 175 174 173  95  96  97  99  98 100   2   3   4   5   6   7   8\n",
      " 227 228 229 230 231 232 233 234 235 125 124 123 122 121 120 119 118 117\n",
      " 116 115 114 113 112 111 110 109 108 107 106 105 104 103 102 101   1   0\n",
      " 187 188 189 190]\n",
      "48705\n"
     ]
    }
   ],
   "source": [
    "a, head, skip = one_round(INPUT_LENGTHS)\n",
    "print(a)\n",
    "print(a[0] * a[1])"
   ]
  },
  {
   "cell_type": "markdown",
   "metadata": {},
   "source": [
    "## Part 2"
   ]
  },
  {
   "cell_type": "code",
   "execution_count": 132,
   "metadata": {
    "ExecuteTime": {
     "end_time": "2017-12-10T13:13:38.633968",
     "start_time": "2017-12-10T13:13:38.615333"
    }
   },
   "outputs": [],
   "source": [
    "standard_suffix = [17, 31, 73, 47, 23]\n",
    "\n",
    "def lengths_from_string(ascii_input):\n",
    "    return list(map(ord, list(ascii_input))) + standard_suffix"
   ]
  },
  {
   "cell_type": "code",
   "execution_count": 133,
   "metadata": {
    "ExecuteTime": {
     "end_time": "2017-12-10T13:13:41.741477",
     "start_time": "2017-12-10T13:13:41.719984"
    },
    "collapsed": true
   },
   "outputs": [],
   "source": [
    "def many_rounds(input_lengths, nruns = 2**6):\n",
    "    head, skip = 0, 0\n",
    "    a = np.arange(2**8)\n",
    "    for _ in range(nruns):\n",
    "        a, head, skip = one_round(input_lengths, a=a, skip=skip, head=head)\n",
    "    return a"
   ]
  },
  {
   "cell_type": "code",
   "execution_count": 134,
   "metadata": {
    "ExecuteTime": {
     "end_time": "2017-12-10T13:13:52.705197",
     "start_time": "2017-12-10T13:13:52.695018"
    }
   },
   "outputs": [],
   "source": [
    "from functools import reduce\n",
    "import operator\n",
    "\n",
    "def dense(h):\n",
    "    dense_hash = []\n",
    "    for i in range(2**4):\n",
    "        a = h[16 * i: 16 * (i + 1)]\n",
    "        dense_hash.append(reduce(operator.xor, a, 0))\n",
    "    return dense_hash"
   ]
  },
  {
   "cell_type": "code",
   "execution_count": 135,
   "metadata": {
    "ExecuteTime": {
     "end_time": "2017-12-10T13:14:00.320562",
     "start_time": "2017-12-10T13:14:00.303216"
    },
    "collapsed": true
   },
   "outputs": [],
   "source": [
    "def hashing(ascii_input, size=2**8):\n",
    "    lengths = lengths_from_string(ascii_input)\n",
    "    dense_hash = dense(many_rounds(lengths))\n",
    "    return ''.join([hex(d)[2:] if len(hex(d)) == 4 else '0' + hex(d)[2:] for d in dense_hash])"
   ]
  },
  {
   "cell_type": "markdown",
   "metadata": {},
   "source": [
    "### Test"
   ]
  },
  {
   "cell_type": "code",
   "execution_count": 136,
   "metadata": {
    "ExecuteTime": {
     "end_time": "2017-12-10T13:14:01.868750",
     "start_time": "2017-12-10T13:14:01.805428"
    }
   },
   "outputs": [],
   "source": [
    "def test():\n",
    "    assert(hashing('') == 'a2582a3a0e66e6e86e3812dcb672a272')\n",
    "    assert(hashing('AoC 2017') == '33efeb34ea91902bb2f59c9920caa6cd')\n",
    "    assert(hashing('1,2,3') == '3efbe78a8d82f29979031a4aa0b16a9d')\n",
    "    assert(hashing('1,2,4') == '63960835bcdc130f0b66d7ff4f6a5a8e')\n",
    "test()"
   ]
  },
  {
   "cell_type": "markdown",
   "metadata": {
    "ExecuteTime": {
     "end_time": "2017-12-10T13:08:47.262670",
     "start_time": "2017-12-10T13:08:47.233043"
    }
   },
   "source": [
    "### Solution"
   ]
  },
  {
   "cell_type": "code",
   "execution_count": 137,
   "metadata": {
    "ExecuteTime": {
     "end_time": "2017-12-10T13:14:04.028974",
     "start_time": "2017-12-10T13:14:03.946828"
    }
   },
   "outputs": [
    {
     "data": {
      "text/plain": [
       "'1c46642b6f2bc21db2a2149d0aeeae5d'"
      ]
     },
     "execution_count": 137,
     "metadata": {},
     "output_type": "execute_result"
    }
   ],
   "source": [
    "ascii_input = ','.join(list(map(str, INPUT_LENGTHS)))\n",
    "hashing(ascii_input)"
   ]
  }
 ],
 "metadata": {
  "kernelspec": {
   "display_name": "Python [conda env:adventofcode]",
   "language": "python",
   "name": "conda-env-adventofcode-py"
  },
  "language_info": {
   "codemirror_mode": {
    "name": "ipython",
    "version": 3
   },
   "file_extension": ".py",
   "mimetype": "text/x-python",
   "name": "python",
   "nbconvert_exporter": "python",
   "pygments_lexer": "ipython3",
   "version": "3.5.2"
  },
  "toc": {
   "colors": {
    "hover_highlight": "#DAA520",
    "running_highlight": "#FF0000",
    "selected_highlight": "#FFD700"
   },
   "moveMenuLeft": true,
   "nav_menu": {
    "height": "66px",
    "width": "252px"
   },
   "navigate_menu": true,
   "number_sections": true,
   "sideBar": true,
   "threshold": 4,
   "toc_cell": false,
   "toc_section_display": "block",
   "toc_window_display": false
  }
 },
 "nbformat": 4,
 "nbformat_minor": 2
}
