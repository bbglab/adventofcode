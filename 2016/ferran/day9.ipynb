{
 "cells": [
  {
   "cell_type": "markdown",
   "metadata": {
    "collapsed": false
   },
   "source": [
    "# Chellenge 9\n",
    "\n",
    "## Challenge 9.1"
   ]
  },
  {
   "cell_type": "code",
   "execution_count": 2,
   "metadata": {
    "collapsed": true
   },
   "outputs": [],
   "source": [
    "myinput = '/home/fmuinos/projects/adventofcode/2016/ferran/inputs/input9.txt'"
   ]
  },
  {
   "cell_type": "code",
   "execution_count": 3,
   "metadata": {
    "collapsed": true
   },
   "outputs": [],
   "source": [
    "import re\n",
    "\n",
    "MARKER = re.compile('\\(\\d+x\\d+\\)')\n",
    "\n",
    "def parse_line(myinput):\n",
    "    with open(myinput, 'rt') as f:\n",
    "        return next(f).rstrip()\n",
    "\n",
    "def next_marker(mystr):\n",
    "    marker = next(MARKER.finditer(mystr))\n",
    "    return marker.group(), marker.start()"
   ]
  },
  {
   "cell_type": "markdown",
   "metadata": {},
   "source": [
    "### by Brute Force"
   ]
  },
  {
   "cell_type": "code",
   "execution_count": 4,
   "metadata": {
    "collapsed": false
   },
   "outputs": [],
   "source": [
    "def unzip(mystr):\n",
    "    try:\n",
    "        m, p = next_marker(mystr)\n",
    "        a, b = map(int, m[1:-1].split('x'))\n",
    "        prefix = ''\n",
    "        if p > 0:\n",
    "            prefix = mystr[:p]\n",
    "        upper_index = p + len(m) + a\n",
    "        if upper_index > len(mystr):\n",
    "            upper_index = len(mystr)\n",
    "        return prefix + mystr[p + len(m): upper_index] * b + unzip(mystr[upper_index:])\n",
    "    except:\n",
    "        return mystr"
   ]
  },
  {
   "cell_type": "markdown",
   "metadata": {},
   "source": [
    "### by Length Computation"
   ]
  },
  {
   "cell_type": "code",
   "execution_count": 5,
   "metadata": {
    "collapsed": false
   },
   "outputs": [],
   "source": [
    "def unzip_length(mystr):\n",
    "    try:\n",
    "        m, p = next_marker(mystr)\n",
    "        a, b = map(int, m[1:-1].split('x'))\n",
    "        return p + a * b + unzip_length(mystr[p + len(m) + a:])\n",
    "    except:\n",
    "        return len(mystr)"
   ]
  },
  {
   "cell_type": "markdown",
   "metadata": {},
   "source": [
    "### Testing"
   ]
  },
  {
   "cell_type": "code",
   "execution_count": 71,
   "metadata": {
    "collapsed": false
   },
   "outputs": [],
   "source": [
    "def test(mystr):\n",
    "    l = unzip_length(mystr)\n",
    "    s = unzip(mystr)\n",
    "    print(s[:100] + '...' * (len(s) >= 100))\n",
    "    print(len(s) == l)\n",
    "    print('length = {}'.format(l))"
   ]
  },
  {
   "cell_type": "code",
   "execution_count": 72,
   "metadata": {
    "collapsed": false
   },
   "outputs": [
    {
     "name": "stdout",
     "output_type": "stream",
     "text": [
      "ADVENT\n",
      "True\n",
      "length = 6\n"
     ]
    }
   ],
   "source": [
    "test('ADVENT')"
   ]
  },
  {
   "cell_type": "code",
   "execution_count": 73,
   "metadata": {
    "collapsed": false
   },
   "outputs": [
    {
     "name": "stdout",
     "output_type": "stream",
     "text": [
      "ABBBBBC\n",
      "True\n",
      "length = 7\n"
     ]
    }
   ],
   "source": [
    "test('A(1x5)BC')"
   ]
  },
  {
   "cell_type": "code",
   "execution_count": 74,
   "metadata": {
    "collapsed": false
   },
   "outputs": [
    {
     "name": "stdout",
     "output_type": "stream",
     "text": [
      "XYZXYZXYZ\n",
      "True\n",
      "length = 9\n"
     ]
    }
   ],
   "source": [
    "test('(3x3)XYZ')"
   ]
  },
  {
   "cell_type": "code",
   "execution_count": 75,
   "metadata": {
    "collapsed": false
   },
   "outputs": [
    {
     "name": "stdout",
     "output_type": "stream",
     "text": [
      "(1x3)A\n",
      "True\n",
      "length = 6\n"
     ]
    }
   ],
   "source": [
    "test('(6x1)(1x3)A')"
   ]
  },
  {
   "cell_type": "code",
   "execution_count": 76,
   "metadata": {
    "collapsed": false
   },
   "outputs": [
    {
     "name": "stdout",
     "output_type": "stream",
     "text": [
      "X(3x3)ABC(3x3)ABCY\n",
      "True\n",
      "length = 18\n"
     ]
    }
   ],
   "source": [
    "test('X(8x2)(3x3)ABCY')"
   ]
  },
  {
   "cell_type": "markdown",
   "metadata": {},
   "source": [
    "### Results"
   ]
  },
  {
   "cell_type": "code",
   "execution_count": 77,
   "metadata": {
    "collapsed": true
   },
   "outputs": [],
   "source": [
    "mystr = parse_line(myinput)"
   ]
  },
  {
   "cell_type": "code",
   "execution_count": 78,
   "metadata": {
    "collapsed": false
   },
   "outputs": [
    {
     "data": {
      "text/plain": [
       "110346"
      ]
     },
     "execution_count": 78,
     "metadata": {},
     "output_type": "execute_result"
    }
   ],
   "source": [
    "len(unzip(mystr))"
   ]
  },
  {
   "cell_type": "code",
   "execution_count": 79,
   "metadata": {
    "collapsed": false
   },
   "outputs": [
    {
     "data": {
      "text/plain": [
       "110346"
      ]
     },
     "execution_count": 79,
     "metadata": {},
     "output_type": "execute_result"
    }
   ],
   "source": [
    "unzip_length(mystr)"
   ]
  },
  {
   "cell_type": "markdown",
   "metadata": {},
   "source": [
    "## Challenge 9.2"
   ]
  },
  {
   "cell_type": "markdown",
   "metadata": {},
   "source": [
    "### by Brute Force (not to be used with *myinput*)"
   ]
  },
  {
   "cell_type": "code",
   "execution_count": 80,
   "metadata": {
    "collapsed": false
   },
   "outputs": [],
   "source": [
    "def deep_unzip(mystr):\n",
    "    while MARKER.findall(mystr):\n",
    "        mystr = unzip(mystr)\n",
    "    return mystr"
   ]
  },
  {
   "cell_type": "markdown",
   "metadata": {},
   "source": [
    "### by Length Computation"
   ]
  },
  {
   "cell_type": "code",
   "execution_count": 81,
   "metadata": {
    "collapsed": true
   },
   "outputs": [],
   "source": [
    "def deep_unzip_length(mystr):\n",
    "    if MARKER.findall(mystr):\n",
    "        m, p = next_marker(mystr)\n",
    "        a, b = map(int, m[1:-1].split('x'))\n",
    "        return p + b * deep_unzip_length(mystr[p+len(m): p+len(m)+a]) + deep_unzip_length(mystr[p+len(m)+a:])\n",
    "    else:\n",
    "        return len(mystr)"
   ]
  },
  {
   "cell_type": "markdown",
   "metadata": {},
   "source": [
    "### Testing"
   ]
  },
  {
   "cell_type": "code",
   "execution_count": 82,
   "metadata": {
    "collapsed": true
   },
   "outputs": [],
   "source": [
    "def deep_test(mystr):\n",
    "    l = deep_unzip_length(mystr)\n",
    "    s = deep_unzip(mystr)\n",
    "    print(s[:10] + '...' * (len(s) >= 100))\n",
    "    print(len(s) == l)\n",
    "    print('length = {}'.format(l))"
   ]
  },
  {
   "cell_type": "code",
   "execution_count": 83,
   "metadata": {
    "collapsed": false
   },
   "outputs": [
    {
     "name": "stdout",
     "output_type": "stream",
     "text": [
      "AAA\n",
      "True\n",
      "length = 3\n"
     ]
    }
   ],
   "source": [
    "deep_test('(6x1)(1x3)A')"
   ]
  },
  {
   "cell_type": "code",
   "execution_count": 84,
   "metadata": {
    "collapsed": false
   },
   "outputs": [
    {
     "name": "stdout",
     "output_type": "stream",
     "text": [
      "XABCABCABC\n",
      "True\n",
      "length = 20\n"
     ]
    }
   ],
   "source": [
    "deep_test('X(8x2)(3x3)ABCY')"
   ]
  },
  {
   "cell_type": "code",
   "execution_count": 85,
   "metadata": {
    "collapsed": false
   },
   "outputs": [
    {
     "name": "stdout",
     "output_type": "stream",
     "text": [
      "AAAAAAAAAA...\n",
      "True\n",
      "length = 241920\n"
     ]
    }
   ],
   "source": [
    "deep_test('(27x12)(20x12)(13x14)(7x10)(1x12)A')"
   ]
  },
  {
   "cell_type": "markdown",
   "metadata": {},
   "source": [
    "### Results"
   ]
  },
  {
   "cell_type": "code",
   "execution_count": 86,
   "metadata": {
    "collapsed": false
   },
   "outputs": [
    {
     "data": {
      "text/plain": [
       "10774309173"
      ]
     },
     "execution_count": 86,
     "metadata": {},
     "output_type": "execute_result"
    }
   ],
   "source": [
    "mystr = parse_line(myinput)\n",
    "deep_unzip_length(mystr)"
   ]
  }
 ],
 "metadata": {
  "anaconda-cloud": {},
  "kernelspec": {
   "display_name": "Python [conda env:adventofcode]",
   "language": "python",
   "name": "conda-env-adventofcode-py"
  },
  "language_info": {
   "codemirror_mode": {
    "name": "ipython",
    "version": 3
   },
   "file_extension": ".py",
   "mimetype": "text/x-python",
   "name": "python",
   "nbconvert_exporter": "python",
   "pygments_lexer": "ipython3",
   "version": "3.5.2"
  }
 },
 "nbformat": 4,
 "nbformat_minor": 1
}
