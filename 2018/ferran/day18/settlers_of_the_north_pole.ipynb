{
 "cells": [
  {
   "cell_type": "markdown",
   "metadata": {
    "collapsed": true
   },
   "source": [
    "# Part 1"
   ]
  },
  {
   "cell_type": "code",
   "execution_count": 1,
   "metadata": {
    "collapsed": true
   },
   "outputs": [],
   "source": [
    "import numpy as np\n",
    "from itertools import product"
   ]
  },
  {
   "cell_type": "code",
   "execution_count": 2,
   "metadata": {
    "collapsed": true
   },
   "outputs": [],
   "source": [
    "def parse(fn):\n",
    "    acres = []\n",
    "    with open(fn) as f:\n",
    "        for line in f.readlines():\n",
    "            acres.append(list(line.rstrip()))\n",
    "    acres = np.array(acres)\n",
    "    return acres"
   ]
  },
  {
   "cell_type": "code",
   "execution_count": 3,
   "metadata": {
    "collapsed": true
   },
   "outputs": [],
   "source": [
    "def change(acres):\n",
    "    n, m  = acres.shape\n",
    "    index = {'.': 0, '|': 1, '#': 2} \n",
    "    counter = np.zeros((n, m, 3))\n",
    "    for i in range(n):\n",
    "        for j in range(m):\n",
    "            for s, t in product([-1, 0, 1], repeat=2):\n",
    "                if (s**2 + t**2 != 0) and (0 <= i + s <= n-1) and (0 <= j + t <= m-1):\n",
    "                    counter[i + s, j + t, index[acres[i, j]]] += 1\n",
    "    new = np.empty((n, m), dtype=object)\n",
    "    for i in range(n):\n",
    "        for j in range(m):\n",
    "            a = acres[i, j]\n",
    "            if a == '.':\n",
    "                if counter[i, j, 1] >= 3:\n",
    "                    new[i, j] = '|'\n",
    "                else:\n",
    "                    new[i, j] = '.'\n",
    "            if a == '|':\n",
    "                if counter[i, j, 2] >= 3:\n",
    "                    new[i, j] = '#'\n",
    "                else:\n",
    "                    new[i, j] = '|'\n",
    "            if a == '#':\n",
    "                if (counter[i, j, 1] >= 1) and (counter[i, j, 2] >= 1):\n",
    "                    new[i, j] = '#'\n",
    "                else:\n",
    "                    new[i, j] = '.'\n",
    "    return new\n",
    "\n",
    "def resource_value(acres):\n",
    "    wooded = 0\n",
    "    lumber = 0\n",
    "    for i in range(acres.shape[0]):\n",
    "        for j in range(acres.shape[1]):\n",
    "            wooded += (acres[i, j] == '|')\n",
    "            lumber += (acres[i, j] == '#')\n",
    "    return wooded * lumber\n",
    "    \n",
    "def evolve(acres, time):\n",
    "    for _ in range(time):\n",
    "        acres = change(acres)\n",
    "    return acres"
   ]
  },
  {
   "cell_type": "markdown",
   "metadata": {
    "collapsed": true
   },
   "source": [
    "## Test"
   ]
  },
  {
   "cell_type": "code",
   "execution_count": 4,
   "metadata": {},
   "outputs": [
    {
     "data": {
      "text/plain": [
       "1147"
      ]
     },
     "execution_count": 4,
     "metadata": {},
     "output_type": "execute_result"
    }
   ],
   "source": [
    "acres = parse('input_test.txt')\n",
    "acres = evolve(acres, 10)\n",
    "resource_value(acres)"
   ]
  },
  {
   "cell_type": "markdown",
   "metadata": {},
   "source": [
    "## Solution"
   ]
  },
  {
   "cell_type": "code",
   "execution_count": 5,
   "metadata": {},
   "outputs": [
    {
     "data": {
      "text/plain": [
       "644640"
      ]
     },
     "execution_count": 5,
     "metadata": {},
     "output_type": "execute_result"
    }
   ],
   "source": [
    "acres = parse('input.txt')\n",
    "acres = evolve(acres, 10)\n",
    "resource_value(acres)"
   ]
  },
  {
   "cell_type": "markdown",
   "metadata": {},
   "source": [
    "# Part 2"
   ]
  },
  {
   "cell_type": "code",
   "execution_count": 8,
   "metadata": {
    "collapsed": true
   },
   "outputs": [],
   "source": [
    "# Check whether some periodicity is reached soon enough that we can see it.\n",
    "\n",
    "def get_hash(arr):\n",
    "    n, m = arr.shape\n",
    "    return ''.join(arr.reshape(1, n * m).tolist()[0])\n",
    "\n",
    "def find_period(acres, time):\n",
    "    \n",
    "    t = 0\n",
    "    visited = [get_hash(acres)]\n",
    "    res     = [resource_value(acres)]\n",
    "    while t < time:\n",
    "        \n",
    "        t += 1\n",
    "        acres = change(acres)\n",
    "        h = get_hash(acres)\n",
    "        \n",
    "        if h not in visited:\n",
    "            visited.append(h)\n",
    "            res.append(resource_value(acres))\n",
    "        else:\n",
    "            i = visited.index(h)\n",
    "            period = t - i\n",
    "            return res[i + ((time - i) % period)]"
   ]
  },
  {
   "cell_type": "code",
   "execution_count": 9,
   "metadata": {},
   "outputs": [
    {
     "data": {
      "text/plain": [
       "191080"
      ]
     },
     "execution_count": 9,
     "metadata": {},
     "output_type": "execute_result"
    }
   ],
   "source": [
    "acres = parse('input.txt')\n",
    "find_period(acres, 1000000000)"
   ]
  },
  {
   "cell_type": "code",
   "execution_count": null,
   "metadata": {
    "collapsed": true
   },
   "outputs": [],
   "source": []
  }
 ],
 "metadata": {
  "kernelspec": {
   "display_name": "Python [default]",
   "language": "python",
   "name": "python3"
  },
  "language_info": {
   "codemirror_mode": {
    "name": "ipython",
    "version": 3
   },
   "file_extension": ".py",
   "mimetype": "text/x-python",
   "name": "python",
   "nbconvert_exporter": "python",
   "pygments_lexer": "ipython3",
   "version": "3.5.4"
  }
 },
 "nbformat": 4,
 "nbformat_minor": 2
}
