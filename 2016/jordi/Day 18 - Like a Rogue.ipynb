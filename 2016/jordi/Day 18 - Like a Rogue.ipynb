{
 "cells": [
  {
   "cell_type": "markdown",
   "metadata": {},
   "source": [
    "```\n",
    "--- Day 18: Like a Rogue ---\n",
    "\n",
    "As you enter this room, you hear a loud click! Some of the tiles in the floor here seem to be pressure plates for traps, and the trap you just triggered has run out of... whatever it tried to do to you. You doubt you'll be so lucky next time.\n",
    "\n",
    "Upon closer examination, the traps and safe tiles in this room seem to follow a pattern. The tiles are arranged into rows that are all the same width; you take note of the safe tiles (.) and traps (^) in the first row (your puzzle input).\n",
    "\n",
    "The type of tile (trapped or safe) in each row is based on the types of the tiles in the same position, and to either side of that position, in the previous row. (If either side is off either end of the row, it counts as \"safe\" because there isn't a trap embedded in the wall.)\n",
    "\n",
    "For example, suppose you know the first row (with tiles marked by letters) and want to determine the next row (with tiles marked by numbers):\n",
    "\n",
    "ABCDE\n",
    "12345\n",
    "The type of tile 2 is based on the types of tiles A, B, and C; the type of tile 5 is based on tiles D, E, and an imaginary \"safe\" tile. Let's call these three tiles from the previous row the left, center, and right tiles, respectively. Then, a new tile is a trap only in one of the following situations:\n",
    "\n",
    "Its left and center tiles are traps, but its right tile is not.\n",
    "Its center and right tiles are traps, but its left tile is not.\n",
    "Only its left tile is a trap.\n",
    "Only its right tile is a trap.\n",
    "In any other situation, the new tile is safe.\n",
    "\n",
    "Then, starting with the row ..^^., you can determine the next row by applying those rules to each new tile:\n",
    "\n",
    "The leftmost character on the next row considers the left (nonexistent, so we assume \"safe\"), center (the first ., which means \"safe\"), and right (the second ., also \"safe\") tiles on the previous row. Because all of the trap rules require a trap in at least one of the previous three tiles, the first tile on this new row is also safe, ..\n",
    "The second character on the next row considers its left (.), center (.), and right (^) tiles from the previous row. This matches the fourth rule: only the right tile is a trap. Therefore, the next tile in this new row is a trap, ^.\n",
    "The third character considers .^^, which matches the second trap rule: its center and right tiles are traps, but its left tile is not. Therefore, this tile is also a trap, ^.\n",
    "The last two characters in this new row match the first and third rules, respectively, and so they are both also traps, ^.\n",
    "After these steps, we now know the next row of tiles in the room: .^^^^. Then, we continue on to the next row, using the same rules, and get ^^..^. After determining two new rows, our map looks like this:\n",
    "\n",
    "..^^.\n",
    ".^^^^\n",
    "^^..^\n",
    "Here's a larger example with ten tiles per row and ten rows:\n",
    "\n",
    ".^^.^.^^^^\n",
    "^^^...^..^\n",
    "^.^^.^.^^.\n",
    "..^^...^^^\n",
    ".^^^^.^^.^\n",
    "^^..^.^^..\n",
    "^^^^..^^^.\n",
    "^..^^^^.^^\n",
    ".^^^..^.^^\n",
    "^^.^^^..^^\n",
    "In ten rows, this larger example has 38 safe tiles.\n",
    "\n",
    "Starting with the map in your puzzle input, in a total of 40 rows (including the starting row), how many safe tiles are there?\n",
    "\n",
    "\n",
    "```"
   ]
  },
  {
   "cell_type": "code",
   "execution_count": 1,
   "metadata": {
    "collapsed": false
   },
   "outputs": [],
   "source": [
    "IS_TRAP = [\"^^.\", \".^^\", \"^..\", \"..^\"]\n",
    "\n",
    "def next_row(r):\n",
    "    r = \".\" + r + \".\"\n",
    "    return ''.join(['^' if r[i-1:i+2] in IS_TRAP else '.' for i in range(1, len(r)-1)])\n",
    "\n",
    "def count_safe(row, total):\n",
    "    count = len(row.replace('^', ''))\n",
    "    for _ in range(total-1):\n",
    "        row = next_row(row)\n",
    "        count += len(row.replace('^', ''))\n",
    "    return count"
   ]
  },
  {
   "cell_type": "code",
   "execution_count": 2,
   "metadata": {
    "collapsed": false
   },
   "outputs": [
    {
     "data": {
      "text/plain": [
       "38"
      ]
     },
     "execution_count": 2,
     "metadata": {},
     "output_type": "execute_result"
    }
   ],
   "source": [
    "count_safe(\".^^.^.^^^^\", 10)"
   ]
  },
  {
   "cell_type": "code",
   "execution_count": 3,
   "metadata": {
    "collapsed": false
   },
   "outputs": [
    {
     "name": "stdout",
     "output_type": "stream",
     "text": [
      "1913\n"
     ]
    }
   ],
   "source": [
    "with open('inputs/day18.txt', 'rt') as fd:\n",
    "    print(count_safe(fd.read().strip(), 40))"
   ]
  },
  {
   "cell_type": "markdown",
   "metadata": {},
   "source": [
    "```\n",
    "--- Part Two ---\n",
    "\n",
    "How many safe tiles are there in a total of 400000 rows?\n",
    "```"
   ]
  },
  {
   "cell_type": "code",
   "execution_count": 4,
   "metadata": {
    "collapsed": false
   },
   "outputs": [
    {
     "name": "stdout",
     "output_type": "stream",
     "text": [
      "19993564\n",
      "CPU times: user 11.9 s, sys: 0 ns, total: 11.9 s\n",
      "Wall time: 11.9 s\n"
     ]
    }
   ],
   "source": [
    "%%time\n",
    "with open('inputs/day18.txt', 'rt') as fd:\n",
    "    print(count_safe(fd.read().strip(), 400000))"
   ]
  },
  {
   "cell_type": "code",
   "execution_count": null,
   "metadata": {
    "collapsed": true
   },
   "outputs": [],
   "source": []
  },
  {
   "cell_type": "code",
   "execution_count": null,
   "metadata": {
    "collapsed": true
   },
   "outputs": [],
   "source": []
  }
 ],
 "metadata": {
  "kernelspec": {
   "display_name": "Python [conda env:adventofcode]",
   "language": "python",
   "name": "conda-env-adventofcode-py"
  },
  "language_info": {
   "codemirror_mode": {
    "name": "ipython",
    "version": 3
   },
   "file_extension": ".py",
   "mimetype": "text/x-python",
   "name": "python",
   "nbconvert_exporter": "python",
   "pygments_lexer": "ipython3",
   "version": "3.5.2"
  }
 },
 "nbformat": 4,
 "nbformat_minor": 1
}
